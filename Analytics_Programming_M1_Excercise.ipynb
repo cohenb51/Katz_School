{
 "cells": [
  {
   "cell_type": "markdown",
   "metadata": {},
   "source": [
    "# Analytics Programming Jupyter Excercise\n",
    "\n",
    "9/1/2019\n",
    "\n",
    "**Benny Cohen**\n"
   ]
  },
  {
   "cell_type": "markdown",
   "metadata": {},
   "source": [
    "## Goals\n",
    "\n",
    "1. To show basic python numerical operations\n",
    "    * Add\n",
    "    * Subtract\n",
    "    * Multiply\n",
    "    * Floor Division\n",
    "    * Exponentiate\n",
    "    \n",
    "    \n",
    "2. To show how to use a dictionary in python as a container\n",
    "    * Initialize\n",
    "    * Add values\n",
    "    * Access\n",
    "    "
   ]
  },
  {
   "cell_type": "markdown",
   "metadata": {},
   "source": [
    "## Numerical Operations"
   ]
  },
  {
   "cell_type": "markdown",
   "metadata": {},
   "source": [
    "A **variable** is simply a placeholder for a value. There are many different **types** of values, one of which is numerical.\n",
    "A literal is the way we write a value; each type is written in a slightly different way. A numeric literal is written simply as a number like 42 or 64.2 without quotations. \n",
    "We can declare variables with the syntax `variable_name = literal` as shown here."
   ]
  },
  {
   "cell_type": "code",
   "execution_count": 1,
   "metadata": {},
   "outputs": [
    {
     "name": "stdout",
     "output_type": "stream",
     "text": [
      "Currently the type of the number is <class 'int'>\n"
     ]
    }
   ],
   "source": [
    "testNumber = 12\n",
    "print(\"Currently the type of the number is \" + str((type(testNumber))))"
   ]
  },
  {
   "cell_type": "markdown",
   "metadata": {},
   "source": [
    "We can use numerical operators on numerical values. The most common operators are '+' for addition, '-' for subtraction, * for multiplying, and '/' or '//' for division. '/' keeps the remainder while '//' truncates the decimal (ie floor division).\n",
    "Python uses infix notation meaning the operator goes between the operands.\n",
    "That is `value1 operator value2` (ex 1 +1)"
   ]
  },
  {
   "cell_type": "code",
   "execution_count": 2,
   "metadata": {},
   "outputs": [
    {
     "name": "stdout",
     "output_type": "stream",
     "text": [
      "The current value of testNumber is 13\n"
     ]
    }
   ],
   "source": [
    "#Add\n",
    "testNumber = testNumber + 1\n",
    "print(\"The current value of testNumber is \" + str(testNumber))"
   ]
  },
  {
   "cell_type": "code",
   "execution_count": 3,
   "metadata": {},
   "outputs": [
    {
     "name": "stdout",
     "output_type": "stream",
     "text": [
      "The current value of testNumber is 12\n"
     ]
    }
   ],
   "source": [
    "testNumber = testNumber -1\n",
    "print(\"The current value of testNumber is \" + str(testNumber))"
   ]
  },
  {
   "cell_type": "code",
   "execution_count": 4,
   "metadata": {
    "scrolled": true
   },
   "outputs": [
    {
     "name": "stdout",
     "output_type": "stream",
     "text": [
      "The current value of testNumber is 24\n"
     ]
    }
   ],
   "source": [
    "#Multiply\n",
    "testNumber = testNumber * 2\n",
    "print(\"The current value of testNumber is \" + str(testNumber))"
   ]
  },
  {
   "cell_type": "code",
   "execution_count": 5,
   "metadata": {},
   "outputs": [
    {
     "name": "stdout",
     "output_type": "stream",
     "text": [
      "The current value of testNumber is 12\n"
     ]
    }
   ],
   "source": [
    "#Divide\n",
    "testNumber = testNumber // 2\n",
    "print(\"The current value of testNumber is \" + str(testNumber))"
   ]
  },
  {
   "cell_type": "code",
   "execution_count": 6,
   "metadata": {},
   "outputs": [
    {
     "name": "stdout",
     "output_type": "stream",
     "text": [
      "The current value of testNumber is 144\n"
     ]
    }
   ],
   "source": [
    "#exponentiate\n",
    "testNumber = testNumber ** 2\n",
    "print(\"The current value of testNumber is \" + str(testNumber))"
   ]
  },
  {
   "cell_type": "markdown",
   "metadata": {},
   "source": [
    "## Working with Dicts\n",
    "\n",
    "A **dictionary** is a key-value store; For every unique key, there is a value. Here I am going to create a dictionary with some basic info about me.\n",
    "We can store multiple types in the same dict."
   ]
  },
  {
   "cell_type": "markdown",
   "metadata": {},
   "source": [
    "> First let's create some Info about me"
   ]
  },
  {
   "cell_type": "code",
   "execution_count": 7,
   "metadata": {},
   "outputs": [],
   "source": [
    "name = \"Benny\" # The first 3 are sting types\n",
    "city = \"Teaneck\"\n",
    "cityOfBirth = \"New York\"\n",
    "enrolledInKatzSchool = True #Boolean type\n",
    "myGreeting = lambda : print(\"Hello my name is Benny.\") #Function type\n",
    "age = 23 #Numerical type\n",
    "\n",
    "\n"
   ]
  },
  {
   "cell_type": "markdown",
   "metadata": {},
   "source": [
    "> Now let's create the dict"
   ]
  },
  {
   "cell_type": "code",
   "execution_count": 8,
   "metadata": {},
   "outputs": [
    {
     "data": {
      "text/plain": [
       "{'name': 'Benny',\n",
       " 'city': 'Teaneck',\n",
       " 'cityOfBirth': 'New York',\n",
       " 'EnrolledInKatzSchool': True,\n",
       " 'myGreeting': <function __main__.<lambda>()>}"
      ]
     },
     "execution_count": 8,
     "metadata": {},
     "output_type": "execute_result"
    }
   ],
   "source": [
    "personalInfoHash = {\"name\": name, \"city\" : city, \"cityOfBirth\": cityOfBirth,\"EnrolledInKatzSchool\":enrolledInKatzSchool, \"myGreeting\": myGreeting}\n",
    "personalInfoHash"
   ]
  },
  {
   "cell_type": "markdown",
   "metadata": {},
   "source": [
    ">  We can add values with bracket notation like this"
   ]
  },
  {
   "cell_type": "code",
   "execution_count": 9,
   "metadata": {},
   "outputs": [
    {
     "data": {
      "text/plain": [
       "{'name': 'Benny',\n",
       " 'city': 'Teaneck',\n",
       " 'cityOfBirth': 'New York',\n",
       " 'EnrolledInKatzSchool': True,\n",
       " 'myGreeting': <function __main__.<lambda>()>,\n",
       " 'age': 23}"
      ]
     },
     "execution_count": 9,
     "metadata": {},
     "output_type": "execute_result"
    }
   ],
   "source": [
    "personalInfoHash['age'] = age\n",
    "personalInfoHash"
   ]
  },
  {
   "cell_type": "markdown",
   "metadata": {},
   "source": [
    "> We can also access values with bracket notation. Here I am getting the function type then calling it with the parenthesis"
   ]
  },
  {
   "cell_type": "code",
   "execution_count": 10,
   "metadata": {},
   "outputs": [
    {
     "name": "stdout",
     "output_type": "stream",
     "text": [
      "Hello my name is Benny.\n"
     ]
    }
   ],
   "source": [
    "personalInfoHash['myGreeting']()"
   ]
  },
  {
   "cell_type": "markdown",
   "metadata": {},
   "source": []
  },
  {
   "cell_type": "code",
   "execution_count": null,
   "metadata": {},
   "outputs": [],
   "source": []
  },
  {
   "cell_type": "code",
   "execution_count": null,
   "metadata": {},
   "outputs": [],
   "source": []
  },
  {
   "cell_type": "code",
   "execution_count": null,
   "metadata": {},
   "outputs": [],
   "source": []
  },
  {
   "cell_type": "code",
   "execution_count": null,
   "metadata": {},
   "outputs": [],
   "source": []
  },
  {
   "cell_type": "code",
   "execution_count": null,
   "metadata": {},
   "outputs": [],
   "source": []
  },
  {
   "cell_type": "code",
   "execution_count": null,
   "metadata": {},
   "outputs": [],
   "source": []
  }
 ],
 "metadata": {
  "kernelspec": {
   "display_name": "Python 3",
   "language": "python",
   "name": "python3"
  },
  "language_info": {
   "codemirror_mode": {
    "name": "ipython",
    "version": 3
   },
   "file_extension": ".py",
   "mimetype": "text/x-python",
   "name": "python",
   "nbconvert_exporter": "python",
   "pygments_lexer": "ipython3",
   "version": "3.7.1"
  }
 },
 "nbformat": 4,
 "nbformat_minor": 2
}
