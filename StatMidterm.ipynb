{
 "cells": [
  {
   "cell_type": "markdown",
   "metadata": {},
   "source": [
    "In this notebook we will be looking at the 'Communities and Crime' dataset found in the UC Irvine Machine Learning Repository.\n",
    "\n",
    "The data has demographic data from the 1990 Census and Crime\n",
    "data from the 1995 FBI UCR. All of the values in the dataset are normalized. This means that instead of directly saying what the value is the number is scaled from 0 to 1 by divinding by the max value for that variable. For example, if a town has a population of 10 people and the max population is 100 people, this town would be given a value of .1 for population. \n",
    "\n",
    "Our goals are 2 fold\n",
    "1. Find trends in the demographic data. Questions of interest are what is the percentage of people in the U.S by race? What is the distribution of incomes? \n",
    "2. Are there certain variables in particular that lead to crime? Can we create a model for this? "
   ]
  },
  {
   "cell_type": "code",
   "execution_count": 1,
   "metadata": {},
   "outputs": [],
   "source": [
    "import pandas as pd\n",
    "import matplotlib.pyplot as plt\n",
    "%matplotlib inline"
   ]
  },
  {
   "cell_type": "markdown",
   "metadata": {},
   "source": [
    "First let's import the data. I downloaded the file with the columns to my local machine and will directly use the url to get the data"
   ]
  },
  {
   "cell_type": "code",
   "execution_count": 2,
   "metadata": {},
   "outputs": [],
   "source": [
    "with open(\"cols.txt\") as file:\n",
    "    columns = [line.strip() for line in file]"
   ]
  },
  {
   "cell_type": "code",
   "execution_count": 3,
   "metadata": {},
   "outputs": [],
   "source": [
    "df = pd.read_csv('https://archive.ics.uci.edu/ml/machine-learning-databases/communities/communities.data',\n",
    "                 header = None , names= columns)"
   ]
  },
  {
   "cell_type": "code",
   "execution_count": 4,
   "metadata": {},
   "outputs": [
    {
     "data": {
      "text/plain": [
       "(1994, 128)"
      ]
     },
     "execution_count": 4,
     "metadata": {},
     "output_type": "execute_result"
    }
   ],
   "source": [
    "df.shape"
   ]
  },
  {
   "cell_type": "markdown",
   "metadata": {},
   "source": [
    "There are over 128 columns which is too much to start with. Let's try choosing the most important columns. A good column to one that has any of these\n",
    "1. Is related to Crime\n",
    "2. Helps characterize our data\n",
    "3. Is not overly specific since a specific variable may be related to other variables in our dataset\n",
    "\n",
    "Note that the data file provided on the dataset contains a data dictionary which notes several columns that should not be used for analysis but only background info. "
   ]
  },
  {
   "cell_type": "code",
   "execution_count": 112,
   "metadata": {},
   "outputs": [],
   "source": [
    "wantedFeatures = ['state', 'population', 'racePctWhite', 'racepctblack', 'racePctAsian',\n",
    "'racePctHisp','agePct12t21','agePct12t29','agePct16t24',\n",
    "'agePct65up','medIncome', 'PctPopUnderPov', 'PctUnemployed','PctLargHouseFam'\n",
    ",'PolicPerPop', 'PolicBudgPerPop', 'ViolentCrimesPerPop']\n",
    "\n",
    "df_c = df[wantedFeatures]"
   ]
  },
  {
   "cell_type": "markdown",
   "metadata": {},
   "source": [
    "The columns are...\n",
    "1. state - a numerical code for each state. \n",
    "2. population - the number of people living in the town.\n",
    "3. racePctWhite - the percentage of white people.\n",
    "4. racepctblack - the percentage of black people.\n",
    "5. racePctAsian - the percentage of Asian\n",
    "6. agePct12t21 -  the percentage of people between 12 and 21\n",
    "7. agePct12t29 -  the percentage of people between 12 and 29\n",
    "8. agePct16t24 -  the percentage of people between 16 and 24\n",
    "9. agePct65up -  the percentage of people above 65\n",
    "10. medIncome - the median income\n",
    "11. PctPopUnderPov - the percentage of population under poverty\n",
    "12. PctUnemployed - the percentage of people unemployed\n",
    "13. PctLargHouseFam - the percentage of households with > 6 people\n",
    "14. PolicPerPop - the police per population\n",
    "15. PolicBudgPerPop - the budget per population\n",
    "16. ViolentCrimesPerPop - the violent crimes per pop. (This will be our target variable) "
   ]
  },
  {
   "cell_type": "markdown",
   "metadata": {},
   "source": [
    "First we should expore our data a bit. \n",
    "We should first question is our dataset representative of the population?"
   ]
  },
  {
   "cell_type": "markdown",
   "metadata": {},
   "source": [
    "A starting point is to look at the state field. How many states are we using and are the columns around equally distributed based on the states size?"
   ]
  },
  {
   "cell_type": "code",
   "execution_count": 6,
   "metadata": {},
   "outputs": [
    {
     "data": {
      "text/plain": [
       "False"
      ]
     },
     "execution_count": 6,
     "metadata": {},
     "output_type": "execute_result"
    }
   ],
   "source": [
    "df_c.state.isnull().any()"
   ]
  },
  {
   "cell_type": "markdown",
   "metadata": {},
   "source": [
    "We have no nulls which is a good first step."
   ]
  },
  {
   "cell_type": "code",
   "execution_count": 7,
   "metadata": {},
   "outputs": [],
   "source": [
    "state_count = df_c['state'].value_counts()"
   ]
  },
  {
   "cell_type": "markdown",
   "metadata": {},
   "source": [
    "The state field gives the number state and the value for each one. It is unclear from the dataset which number corresponds to what state so we will need to do some exploring."
   ]
  },
  {
   "cell_type": "code",
   "execution_count": 8,
   "metadata": {},
   "outputs": [
    {
     "data": {
      "text/plain": [
       "(46,)"
      ]
     },
     "execution_count": 8,
     "metadata": {},
     "output_type": "execute_result"
    }
   ],
   "source": [
    "state_count.shape"
   ]
  },
  {
   "cell_type": "markdown",
   "metadata": {},
   "source": [
    "We have 46 of the 50 states which is pretty good. "
   ]
  },
  {
   "cell_type": "code",
   "execution_count": 9,
   "metadata": {},
   "outputs": [
    {
     "data": {
      "text/plain": [
       "6     278\n",
       "34    211\n",
       "48    156\n",
       "25    121\n",
       "39    109\n",
       "42    101\n",
       "12     90\n",
       "9      69\n",
       "55     60\n",
       "18     48\n",
       "Name: state, dtype: int64"
      ]
     },
     "execution_count": 9,
     "metadata": {},
     "output_type": "execute_result"
    }
   ],
   "source": [
    "state_count.head(10)"
   ]
  },
  {
   "cell_type": "code",
   "execution_count": 10,
   "metadata": {},
   "outputs": [
    {
     "data": {
      "text/plain": [
       "38    8\n",
       "16    7\n",
       "56    7\n",
       "27    7\n",
       "32    5\n",
       "50    4\n",
       "2     3\n",
       "10    1\n",
       "11    1\n",
       "20    1\n",
       "Name: state, dtype: int64"
      ]
     },
     "execution_count": 10,
     "metadata": {},
     "output_type": "execute_result"
    }
   ],
   "source": [
    "state_count.tail(10)"
   ]
  },
  {
   "cell_type": "markdown",
   "metadata": {},
   "source": [
    "We see that some states we have a lot of records for and others we have few.This is expected though since certain states are bigger than others. "
   ]
  },
  {
   "cell_type": "markdown",
   "metadata": {},
   "source": [
    "Let's validate that the top few are large states and botumn few are small. We could do this since we have the communityname in our dataset and we can use google to match the community with the state."
   ]
  },
  {
   "cell_type": "code",
   "execution_count": 11,
   "metadata": {},
   "outputs": [],
   "source": [
    "state_20 = df[df['state'] == 20]"
   ]
  },
  {
   "cell_type": "code",
   "execution_count": 12,
   "metadata": {},
   "outputs": [
    {
     "data": {
      "text/plain": [
       "557    Wichitacity\n",
       "Name: communityname, dtype: object"
      ]
     },
     "execution_count": 12,
     "metadata": {},
     "output_type": "execute_result"
    }
   ],
   "source": [
    "state_20['communityname']"
   ]
  },
  {
   "cell_type": "markdown",
   "metadata": {},
   "source": [
    "Wichita Cityis in Kansas. In the 1990 census Kansas ranked 32nd in population. It is a bit surprising that there is only 1. "
   ]
  },
  {
   "cell_type": "code",
   "execution_count": 13,
   "metadata": {},
   "outputs": [],
   "source": [
    "state_11 = df[df['state'] == 11]"
   ]
  },
  {
   "cell_type": "code",
   "execution_count": 14,
   "metadata": {},
   "outputs": [
    {
     "data": {
      "text/plain": [
       "1044    Washingtoncity\n",
       "Name: communityname, dtype: object"
      ]
     },
     "execution_count": 14,
     "metadata": {},
     "output_type": "execute_result"
    }
   ],
   "source": [
    "state_11['communityname']"
   ]
  },
  {
   "cell_type": "markdown",
   "metadata": {},
   "source": [
    "Washington City is in Utah. They ranked 35th in population in the 1990 election. This is similar to Kansas. "
   ]
  },
  {
   "cell_type": "code",
   "execution_count": 15,
   "metadata": {},
   "outputs": [],
   "source": [
    "state_6 = df[df['state'] == 6]"
   ]
  },
  {
   "cell_type": "code",
   "execution_count": 16,
   "metadata": {},
   "outputs": [
    {
     "data": {
      "text/plain": [
       "5     SouthPasadenacity\n",
       "7             Selmacity\n",
       "10         DalyCitycity\n",
       "14        DanaPointcity\n",
       "20          Modestocity\n",
       "Name: communityname, dtype: object"
      ]
     },
     "execution_count": 16,
     "metadata": {},
     "output_type": "execute_result"
    }
   ],
   "source": [
    "state_6['communityname'].head()"
   ]
  },
  {
   "cell_type": "markdown",
   "metadata": {},
   "source": [
    "These are all comunities in California. California is a large state so it makes sense that we have a lot of records from them."
   ]
  },
  {
   "cell_type": "code",
   "execution_count": 17,
   "metadata": {},
   "outputs": [],
   "source": [
    "state_34 = df[df['state'] == 34]"
   ]
  },
  {
   "cell_type": "code",
   "execution_count": 18,
   "metadata": {},
   "outputs": [
    {
     "data": {
      "text/plain": [
       "3         Willingborotownship\n",
       "17           Denvilletownship\n",
       "39         Plainsborotownship\n",
       "40    LittleEggHarbortownship\n",
       "44             Paramusborough\n",
       "Name: communityname, dtype: object"
      ]
     },
     "execution_count": 18,
     "metadata": {},
     "output_type": "execute_result"
    }
   ],
   "source": [
    "state_34['communityname'].head()"
   ]
  },
  {
   "cell_type": "markdown",
   "metadata": {},
   "source": [
    "These are all NJ towns. NJ ranked 9th in the U.S. census in 1990 so it makes sense that these rows will be by the top."
   ]
  },
  {
   "cell_type": "markdown",
   "metadata": {},
   "source": [
    "<hr>"
   ]
  },
  {
   "cell_type": "markdown",
   "metadata": {},
   "source": [
    "We can conclude from this that our sample is fairly representative of the U.S. Certain states have lots more rows than others and a lot have under 30 records. Because of this we shouldn't use this data to compare crime by states. However, we still can use this analysis to more credibly assume we have a random sample. "
   ]
  },
  {
   "cell_type": "markdown",
   "metadata": {},
   "source": [
    "<hr>"
   ]
  },
  {
   "cell_type": "markdown",
   "metadata": {},
   "source": [
    "### Characteristics of U.S population"
   ]
  },
  {
   "cell_type": "markdown",
   "metadata": {},
   "source": [
    "Let's look at the distributions of some of the columns in our dataset. First population. One question we have to ask is is the data from this dataset which is from the 1990's still relevant?"
   ]
  },
  {
   "cell_type": "code",
   "execution_count": 46,
   "metadata": {},
   "outputs": [
    {
     "data": {
      "text/plain": [
       "<matplotlib.axes._subplots.AxesSubplot at 0x29bb327e208>"
      ]
     },
     "execution_count": 46,
     "metadata": {},
     "output_type": "execute_result"
    },
    {
     "data": {
      "image/png": "[encoded data removed]",
      "text/plain": [
       "<Figure size 432x288 with 1 Axes>"
      ]
     },
     "metadata": {
      "needs_background": "light"
     },
     "output_type": "display_data"
    }
   ],
   "source": [
    "df_c.population.hist()"
   ]
  },
  {
   "cell_type": "markdown",
   "metadata": {},
   "source": [
    "We see that we don't have actual values for population but rather they were normalized on a scale from 0 to 1. This distribution is right skewed which logically makes sense. Some neighborhoods are going to have a lot more residents than other cities. We need to keep this in mind if we use this field later since we have very few records with values > .4 just because of how the data was normalized."
   ]
  },
  {
   "cell_type": "markdown",
   "metadata": {},
   "source": [
    "Let's plot the avg race percentages"
   ]
  },
  {
   "cell_type": "code",
   "execution_count": 47,
   "metadata": {
    "scrolled": false
   },
   "outputs": [
    {
     "data": {
      "image/png": "[encoded data removed]",
      "text/plain": [
       "<Figure size 432x288 with 1 Axes>"
      ]
     },
     "metadata": {
      "needs_background": "light"
     },
     "output_type": "display_data"
    }
   ],
   "source": [
    "x = ['racepctblack', 'racePctWhite', 'racePctHisp']\n",
    "y = [df_c[x[0]].mean(), df_c[x[1]].mean(), df_c[x[-1]].mean()]\n",
    "\n",
    "plt.bar(x,y)\n",
    "plt.show()"
   ]
  },
  {
   "cell_type": "markdown",
   "metadata": {},
   "source": [
    "We see that most people in this study were white. "
   ]
  },
  {
   "cell_type": "markdown",
   "metadata": {},
   "source": [
    "One question we might ask is, is this representative of the population today? We can do a chi square goodness of fit test. "
   ]
  },
  {
   "cell_type": "markdown",
   "metadata": {},
   "source": [
    "The null hypothesis is that the values match the expected values. \n",
    "The alternate is that the vaues don't match the expected values."
   ]
  },
  {
   "cell_type": "markdown",
   "metadata": {},
   "source": [
    "Under the null hypothesis, we find on  https://factfinder.census.gov/faces/tableservices/jsf/pages/productview.xhtml?pid=ACS_16_1YR_CP05&prodType=table\n",
    "that the expected percentage of whites is 72.6, black 12.7, hispanic 17.8."
   ]
  },
  {
   "cell_type": "code",
   "execution_count": 48,
   "metadata": {},
   "outputs": [
    {
     "data": {
      "text/plain": [
       "[0.021809446543849545, 0.0010581059017138277, 0.006485954974228266]"
      ]
     },
     "execution_count": 48,
     "metadata": {},
     "output_type": "execute_result"
    }
   ],
   "source": [
    "tmp = [(y[0] - .127)**2/.127, (y[1] - .726)**2/.726, (y[2] - .178)**2/.178 ]\n",
    "tmp"
   ]
  },
  {
   "cell_type": "code",
   "execution_count": 49,
   "metadata": {},
   "outputs": [
    {
     "data": {
      "text/plain": [
       "0.02935350741979164"
      ]
     },
     "execution_count": 49,
     "metadata": {},
     "output_type": "execute_result"
    }
   ],
   "source": [
    "import math\n",
    "math.fsum(tmp)"
   ]
  },
  {
   "cell_type": "markdown",
   "metadata": {},
   "source": [
    "So our chi square value is .029. Our df is 2 since we have 3 categories."
   ]
  },
  {
   "cell_type": "code",
   "execution_count": 50,
   "metadata": {},
   "outputs": [],
   "source": [
    "from scipy import stats"
   ]
  },
  {
   "cell_type": "code",
   "execution_count": 51,
   "metadata": {},
   "outputs": [
    {
     "data": {
      "text/plain": [
       "0.9856046187323824"
      ]
     },
     "execution_count": 51,
     "metadata": {},
     "output_type": "execute_result"
    }
   ],
   "source": [
    "1- stats.chi2.cdf(.029, 2)"
   ]
  },
  {
   "cell_type": "markdown",
   "metadata": {},
   "source": [
    "Just to confirm I found a method while doing this that can do this all in one step"
   ]
  },
  {
   "cell_type": "code",
   "execution_count": 52,
   "metadata": {},
   "outputs": [
    {
     "data": {
      "text/plain": [
       "Power_divergenceResult(statistic=0.02935350741979164, pvalue=0.9854304248546916)"
      ]
     },
     "execution_count": 52,
     "metadata": {},
     "output_type": "execute_result"
    }
   ],
   "source": [
    "scipy.stats.chisquare(y, [.127, .726, .178])"
   ]
  },
  {
   "cell_type": "markdown",
   "metadata": {},
   "source": [
    "With a pvalue so high we see that the current races in America are not so different than the ones we have now. Because of this, we fail to reject the null hypothesis and the data in the study is still relevant."
   ]
  },
  {
   "cell_type": "markdown",
   "metadata": {},
   "source": [
    "Now let's look at ages"
   ]
  },
  {
   "cell_type": "code",
   "execution_count": 243,
   "metadata": {},
   "outputs": [
    {
     "data": {
      "image/png": "[encoded data removed]",
      "text/plain": [
       "<Figure size 432x288 with 1 Axes>"
      ]
     },
     "metadata": {
      "needs_background": "light"
     },
     "output_type": "display_data"
    }
   ],
   "source": [
    "x = ['agePct12t21', 'agePct12t29', 'agePct16t24', 'agePct65up']\n",
    "y = [df_c[x[0]].mean(), df_c[x[1]].mean(), df_c[x[2]].mean(), df_c[x[-1]].mean() ]\n",
    "\n",
    "plt.bar(x,y)\n",
    "plt.show()"
   ]
  },
  {
   "cell_type": "markdown",
   "metadata": {},
   "source": [
    "The age brackets seem uniform. It's going to be hard to use this variable because of how these age brackets overlap. Also these numbers don't seem very meaningfull. "
   ]
  },
  {
   "cell_type": "markdown",
   "metadata": {},
   "source": [
    "Now let's look at income. The income columns were also normalized. "
   ]
  },
  {
   "cell_type": "code",
   "execution_count": 53,
   "metadata": {},
   "outputs": [
    {
     "data": {
      "text/plain": [
       "<matplotlib.axes._subplots.AxesSubplot at 0x29bb332e048>"
      ]
     },
     "execution_count": 53,
     "metadata": {},
     "output_type": "execute_result"
    },
    {
     "data": {
      "image/png": "[encoded data removed]",
      "text/plain": [
       "<Figure size 432x288 with 1 Axes>"
      ]
     },
     "metadata": {
      "needs_background": "light"
     },
     "output_type": "display_data"
    }
   ],
   "source": [
    "df_c['medIncome'].hist()"
   ]
  },
  {
   "cell_type": "markdown",
   "metadata": {},
   "source": [
    "The incomes are also right skewed. "
   ]
  },
  {
   "cell_type": "code",
   "execution_count": 54,
   "metadata": {},
   "outputs": [
    {
     "data": {
      "text/plain": [
       "count    1994.000000\n",
       "mean        0.361123\n",
       "std         0.209362\n",
       "min         0.000000\n",
       "25%         0.200000\n",
       "50%         0.320000\n",
       "75%         0.490000\n",
       "max         1.000000\n",
       "Name: medIncome, dtype: float64"
      ]
     },
     "execution_count": 54,
     "metadata": {},
     "output_type": "execute_result"
    }
   ],
   "source": [
    "df_c.medIncome.describe()"
   ]
  },
  {
   "cell_type": "markdown",
   "metadata": {},
   "source": [
    "The mean is .3611 and the deviation is .20\n",
    "This is quite a large deviation. "
   ]
  },
  {
   "cell_type": "markdown",
   "metadata": {},
   "source": [
    "Next let's look at crime, our target variable. "
   ]
  },
  {
   "cell_type": "code",
   "execution_count": 55,
   "metadata": {},
   "outputs": [
    {
     "data": {
      "text/plain": [
       "<matplotlib.axes._subplots.AxesSubplot at 0x29bb33b49e8>"
      ]
     },
     "execution_count": 55,
     "metadata": {},
     "output_type": "execute_result"
    },
    {
     "data": {
      "image/png": "[encoded data removed]",
      "text/plain": [
       "<Figure size 432x288 with 1 Axes>"
      ]
     },
     "metadata": {
      "needs_background": "light"
     },
     "output_type": "display_data"
    }
   ],
   "source": [
    "df_c.ViolentCrimesPerPop.hist()"
   ]
  },
  {
   "cell_type": "markdown",
   "metadata": {},
   "source": [
    "This also is right skewed. This makes sense since the neighborhoods that have a lot of crime would heavily outweigh the ones that have less"
   ]
  },
  {
   "cell_type": "code",
   "execution_count": 56,
   "metadata": {},
   "outputs": [
    {
     "data": {
      "text/plain": [
       "count    1994.000000\n",
       "mean        0.237979\n",
       "std         0.232985\n",
       "min         0.000000\n",
       "25%         0.070000\n",
       "50%         0.150000\n",
       "75%         0.330000\n",
       "max         1.000000\n",
       "Name: ViolentCrimesPerPop, dtype: float64"
      ]
     },
     "execution_count": 56,
     "metadata": {},
     "output_type": "execute_result"
    }
   ],
   "source": [
    "df_c.ViolentCrimesPerPop.describe()"
   ]
  },
  {
   "cell_type": "markdown",
   "metadata": {},
   "source": [
    "This distribution looks strikingly similar to our distribution of median income. Let's try to see if there is any correlation"
   ]
  },
  {
   "cell_type": "code",
   "execution_count": 57,
   "metadata": {},
   "outputs": [],
   "source": [
    "import seaborn as sns"
   ]
  },
  {
   "cell_type": "code",
   "execution_count": 58,
   "metadata": {},
   "outputs": [
    {
     "data": {
      "text/plain": [
       "<matplotlib.axes._subplots.AxesSubplot at 0x29bb3636630>"
      ]
     },
     "execution_count": 58,
     "metadata": {},
     "output_type": "execute_result"
    },
    {
     "data": {
      "image/png": "[encoded data removed]",
      "text/plain": [
       "<Figure size 432x288 with 1 Axes>"
      ]
     },
     "metadata": {
      "needs_background": "light"
     },
     "output_type": "display_data"
    }
   ],
   "source": [
    "X = df_c.medIncome\n",
    "y = df_c.ViolentCrimesPerPop\n",
    "sns.scatterplot(df_c.medIncome, df_c.ViolentCrimesPerPop)\n"
   ]
  },
  {
   "cell_type": "markdown",
   "metadata": {},
   "source": [
    "It seems from this graph that the lower the income the more crime. In particular we can see that all the high crimes (>.8) have a medIncome under .5. This relationship doesn't appear to be linear. We could try to create a line for it that we could use to make predictions based on the violentcrimesperpop. "
   ]
  },
  {
   "cell_type": "markdown",
   "metadata": {},
   "source": [
    "This doesn't appear to be linear but we could start with one to see if there at least is a relationship"
   ]
  },
  {
   "cell_type": "code",
   "execution_count": 59,
   "metadata": {},
   "outputs": [],
   "source": [
    "from scipy import stats"
   ]
  },
  {
   "cell_type": "code",
   "execution_count": 60,
   "metadata": {},
   "outputs": [
    {
     "name": "stdout",
     "output_type": "stream",
     "text": [
      "slope: -0.472085 intercept: 0.408460\n"
     ]
    }
   ],
   "source": [
    "slope, intercept, r_value, p_value, std_err = stats.linregress(X, y)\n",
    "print(\"slope: %f intercept: %f\" % (slope, intercept))"
   ]
  },
  {
   "cell_type": "code",
   "execution_count": 61,
   "metadata": {},
   "outputs": [
    {
     "data": {
      "image/png": "[encoded data removed]",
      "text/plain": [
       "<Figure size 432x288 with 1 Axes>"
      ]
     },
     "metadata": {
      "needs_background": "light"
     },
     "output_type": "display_data"
    }
   ],
   "source": [
    "plt.plot(X, y, 'o', label='original data')\n",
    "plt.plot(X, intercept + slope*X, 'r', label='fitted line')\n",
    "plt.legend()\n",
    "plt.show()"
   ]
  },
  {
   "cell_type": "markdown",
   "metadata": {},
   "source": [
    "We see that the slope is -.472. This shows that we have a negative relationship. The slope is minimizing the square of the distance to the line. "
   ]
  },
  {
   "cell_type": "code",
   "execution_count": 62,
   "metadata": {},
   "outputs": [
    {
     "data": {
      "text/plain": [
       "6.334424808053117e-88"
      ]
     },
     "execution_count": 62,
     "metadata": {},
     "output_type": "execute_result"
    }
   ],
   "source": [
    "p_value"
   ]
  },
  {
   "cell_type": "markdown",
   "metadata": {},
   "source": [
    "Our p value is low which shows there is a significant relationship."
   ]
  },
  {
   "cell_type": "code",
   "execution_count": 63,
   "metadata": {},
   "outputs": [
    {
     "data": {
      "text/plain": [
       "-0.42422061672612604"
      ]
     },
     "execution_count": 63,
     "metadata": {},
     "output_type": "execute_result"
    }
   ],
   "source": [
    "r_value"
   ]
  },
  {
   "cell_type": "markdown",
   "metadata": {},
   "source": [
    "Our r^2 value also is negative which shows a negative relationship. This number shows how much of the variance our model explains. The number show the stregnth of the relationship is around medium; not overly strong, but not overly weak. This is because we can see that the variance for low income is very high. We can also try using an exponential and polynomial equation since the line seems to come up sharply when income goes down. "
   ]
  },
  {
   "cell_type": "code",
   "execution_count": 66,
   "metadata": {},
   "outputs": [],
   "source": [
    "import scipy \n",
    "import numpy as np\n",
    "def exponential(x, a, k, b):\n",
    "    return a*np.exp(x*k) + b"
   ]
  },
  {
   "cell_type": "code",
   "execution_count": 67,
   "metadata": {},
   "outputs": [
    {
     "data": {
      "text/plain": [
       "array([ 0.58207994, -1.65437962, -0.09998593])"
      ]
     },
     "execution_count": 67,
     "metadata": {},
     "output_type": "execute_result"
    }
   ],
   "source": [
    "exp_vars= scipy.optimize.curve_fit(exponential, X, y, p0=[.5,-0.3, 1])[0]\n",
    "exp_vars\n"
   ]
  },
  {
   "cell_type": "code",
   "execution_count": 68,
   "metadata": {},
   "outputs": [],
   "source": [
    "points = []\n",
    "for i in X:\n",
    "    val = exponential(i,exp_vars[0], exp_vars[1],exp_vars[2])\n",
    "    points.append(val)"
   ]
  },
  {
   "cell_type": "code",
   "execution_count": 69,
   "metadata": {},
   "outputs": [
    {
     "data": {
      "text/plain": [
       "<matplotlib.axes._subplots.AxesSubplot at 0x29bb36cb048>"
      ]
     },
     "execution_count": 69,
     "metadata": {},
     "output_type": "execute_result"
    },
    {
     "data": {
      "image/png": "[encoded data removed]",
      "text/plain": [
       "<Figure size 432x288 with 1 Axes>"
      ]
     },
     "metadata": {
      "needs_background": "light"
     },
     "output_type": "display_data"
    }
   ],
   "source": [
    "sns.lineplot(X,points, color = 'r')\n",
    "sns.scatterplot(X,y)"
   ]
  },
  {
   "cell_type": "markdown",
   "metadata": {},
   "source": [
    "This graph still seems on sight to be accurate. We see for example, how at medIncome = .2, around half the points are below and half are above. Let's see if a polynomial graph would give a similar result. "
   ]
  },
  {
   "cell_type": "code",
   "execution_count": 70,
   "metadata": {},
   "outputs": [
    {
     "data": {
      "text/plain": [
       "poly1d([ 0.44631903, -0.8825207 ,  0.47891974])"
      ]
     },
     "execution_count": 70,
     "metadata": {},
     "output_type": "execute_result"
    }
   ],
   "source": [
    "import numpy as np\n",
    "poly = np.poly1d(np.polyfit(X, y, 2))\n",
    "poly"
   ]
  },
  {
   "cell_type": "markdown",
   "metadata": {},
   "source": [
    "the points above are the coefs of our parabola."
   ]
  },
  {
   "cell_type": "code",
   "execution_count": 71,
   "metadata": {},
   "outputs": [],
   "source": [
    "myline = np.linspace(0, 1, 100)"
   ]
  },
  {
   "cell_type": "code",
   "execution_count": 72,
   "metadata": {},
   "outputs": [
    {
     "data": {
      "text/plain": [
       "<matplotlib.axes._subplots.AxesSubplot at 0x29bb369b630>"
      ]
     },
     "execution_count": 72,
     "metadata": {},
     "output_type": "execute_result"
    },
    {
     "data": {
      "image/png": "[encoded data removed]",
      "text/plain": [
       "<Figure size 432x288 with 1 Axes>"
      ]
     },
     "metadata": {
      "needs_background": "light"
     },
     "output_type": "display_data"
    }
   ],
   "source": [
    "plt.plot(myline, poly(myline), color = 'r')\n",
    "sns.scatterplot(X,y)"
   ]
  },
  {
   "cell_type": "code",
   "execution_count": 73,
   "metadata": {},
   "outputs": [
    {
     "data": {
      "text/plain": [
       "<matplotlib.axes._subplots.AxesSubplot at 0x29bb37d0080>"
      ]
     },
     "execution_count": 73,
     "metadata": {},
     "output_type": "execute_result"
    },
    {
     "data": {
      "image/png": "[encoded data removed]",
      "text/plain": [
       "<Figure size 432x288 with 1 Axes>"
      ]
     },
     "metadata": {
      "needs_background": "light"
     },
     "output_type": "display_data"
    }
   ],
   "source": [
    "sns.regplot(X,y, order = 2)"
   ]
  },
  {
   "cell_type": "markdown",
   "metadata": {},
   "source": [
    "Let's regroup and incorporate more variables"
   ]
  },
  {
   "cell_type": "code",
   "execution_count": 80,
   "metadata": {},
   "outputs": [],
   "source": [
    "import statsmodels.api as sm\n",
    "df_c = df_c.replace('?',np.nan)\n",
    "df_c = df_c.dropna()\n",
    "#model = sm.OLS(y=df_c['ViolentCrimesPerPop'], x=[df_c['medIncome']])\n",
    "y_m= df_c['ViolentCrimesPerPop']\n",
    "x_m = df_c[['medIncome', 'population', 'agePct65up', 'PolicPerPop', 'PctUnemployed', 'PctLargHouseFam', 'racepctblack']]\n",
    "model = sm.OLS(y_m, x_m.astype(float)).fit()\n",
    "predictions = model.predict(x_m.astype(float))"
   ]
  },
  {
   "cell_type": "markdown",
   "metadata": {},
   "source": [
    "It's hard to visualize the model now that we are incorporating more than 1 variable but we can show it against the same variable as we did before. "
   ]
  },
  {
   "cell_type": "code",
   "execution_count": 81,
   "metadata": {},
   "outputs": [
    {
     "data": {
      "text/plain": [
       "<matplotlib.axes._subplots.AxesSubplot at 0x29bb3c3ea58>"
      ]
     },
     "execution_count": 81,
     "metadata": {},
     "output_type": "execute_result"
    },
    {
     "data": {
      "image/png": "[encoded data removed]",
      "text/plain": [
       "<Figure size 432x288 with 1 Axes>"
      ]
     },
     "metadata": {
      "needs_background": "light"
     },
     "output_type": "display_data"
    }
   ],
   "source": [
    "sns.lineplot(X,predictions, color = 'r')\n",
    "sns.scatterplot(X,y)"
   ]
  },
  {
   "cell_type": "code",
   "execution_count": 82,
   "metadata": {},
   "outputs": [
    {
     "data": {
      "text/html": [
       "<table class=\"simpletable\">\n",
       "<caption>OLS Regression Results</caption>\n",
       "<tr>\n",
       "  <th>Dep. Variable:</th>    <td>ViolentCrimesPerPop</td> <th>  R-squared:         </th> <td>   0.881</td> \n",
       "</tr>\n",
       "<tr>\n",
       "  <th>Model:</th>                    <td>OLS</td>         <th>  Adj. R-squared:    </th> <td>   0.878</td> \n",
       "</tr>\n",
       "<tr>\n",
       "  <th>Method:</th>              <td>Least Squares</td>    <th>  F-statistic:       </th> <td>   328.4</td> \n",
       "</tr>\n",
       "<tr>\n",
       "  <th>Date:</th>              <td>Sun, 22 Mar 2020</td>   <th>  Prob (F-statistic):</th> <td>7.94e-140</td>\n",
       "</tr>\n",
       "<tr>\n",
       "  <th>Time:</th>                  <td>18:25:40</td>       <th>  Log-Likelihood:    </th> <td>  94.599</td> \n",
       "</tr>\n",
       "<tr>\n",
       "  <th>No. Observations:</th>       <td>   319</td>        <th>  AIC:               </th> <td>  -175.2</td> \n",
       "</tr>\n",
       "<tr>\n",
       "  <th>Df Residuals:</th>           <td>   312</td>        <th>  BIC:               </th> <td>  -148.8</td> \n",
       "</tr>\n",
       "<tr>\n",
       "  <th>Df Model:</th>               <td>     7</td>        <th>                     </th>     <td> </td>    \n",
       "</tr>\n",
       "<tr>\n",
       "  <th>Covariance Type:</th>       <td>nonrobust</td>      <th>                     </th>     <td> </td>    \n",
       "</tr>\n",
       "</table>\n",
       "<table class=\"simpletable\">\n",
       "<tr>\n",
       "         <td></td>            <th>coef</th>     <th>std err</th>      <th>t</th>      <th>P>|t|</th>  <th>[0.025</th>    <th>0.975]</th>  \n",
       "</tr>\n",
       "<tr>\n",
       "  <th>medIncome</th>       <td>   -0.1880</td> <td>    0.061</td> <td>   -3.098</td> <td> 0.002</td> <td>   -0.307</td> <td>   -0.069</td>\n",
       "</tr>\n",
       "<tr>\n",
       "  <th>population</th>      <td>    0.2169</td> <td>    0.043</td> <td>    5.068</td> <td> 0.000</td> <td>    0.133</td> <td>    0.301</td>\n",
       "</tr>\n",
       "<tr>\n",
       "  <th>agePct65up</th>      <td>    0.2182</td> <td>    0.068</td> <td>    3.198</td> <td> 0.002</td> <td>    0.084</td> <td>    0.352</td>\n",
       "</tr>\n",
       "<tr>\n",
       "  <th>PolicPerPop</th>     <td>    0.1027</td> <td>    0.070</td> <td>    1.476</td> <td> 0.141</td> <td>   -0.034</td> <td>    0.239</td>\n",
       "</tr>\n",
       "<tr>\n",
       "  <th>PctUnemployed</th>   <td>    0.1933</td> <td>    0.078</td> <td>    2.468</td> <td> 0.014</td> <td>    0.039</td> <td>    0.347</td>\n",
       "</tr>\n",
       "<tr>\n",
       "  <th>PctLargHouseFam</th> <td>    0.3200</td> <td>    0.073</td> <td>    4.359</td> <td> 0.000</td> <td>    0.176</td> <td>    0.464</td>\n",
       "</tr>\n",
       "<tr>\n",
       "  <th>racepctblack</th>    <td>    0.4143</td> <td>    0.039</td> <td>   10.540</td> <td> 0.000</td> <td>    0.337</td> <td>    0.492</td>\n",
       "</tr>\n",
       "</table>\n",
       "<table class=\"simpletable\">\n",
       "<tr>\n",
       "  <th>Omnibus:</th>       <td>13.521</td> <th>  Durbin-Watson:     </th> <td>   2.066</td>\n",
       "</tr>\n",
       "<tr>\n",
       "  <th>Prob(Omnibus):</th> <td> 0.001</td> <th>  Jarque-Bera (JB):  </th> <td>  14.083</td>\n",
       "</tr>\n",
       "<tr>\n",
       "  <th>Skew:</th>          <td> 0.505</td> <th>  Prob(JB):          </th> <td>0.000875</td>\n",
       "</tr>\n",
       "<tr>\n",
       "  <th>Kurtosis:</th>      <td> 3.202</td> <th>  Cond. No.          </th> <td>    10.5</td>\n",
       "</tr>\n",
       "</table><br/><br/>Warnings:<br/>[1] Standard Errors assume that the covariance matrix of the errors is correctly specified."
      ],
      "text/plain": [
       "<class 'statsmodels.iolib.summary.Summary'>\n",
       "\"\"\"\n",
       "                             OLS Regression Results                            \n",
       "===============================================================================\n",
       "Dep. Variable:     ViolentCrimesPerPop   R-squared:                       0.881\n",
       "Model:                             OLS   Adj. R-squared:                  0.878\n",
       "Method:                  Least Squares   F-statistic:                     328.4\n",
       "Date:                 Sun, 22 Mar 2020   Prob (F-statistic):          7.94e-140\n",
       "Time:                         18:25:40   Log-Likelihood:                 94.599\n",
       "No. Observations:                  319   AIC:                            -175.2\n",
       "Df Residuals:                      312   BIC:                            -148.8\n",
       "Df Model:                            7                                         \n",
       "Covariance Type:             nonrobust                                         \n",
       "===================================================================================\n",
       "                      coef    std err          t      P>|t|      [0.025      0.975]\n",
       "-----------------------------------------------------------------------------------\n",
       "medIncome          -0.1880      0.061     -3.098      0.002      -0.307      -0.069\n",
       "population          0.2169      0.043      5.068      0.000       0.133       0.301\n",
       "agePct65up          0.2182      0.068      3.198      0.002       0.084       0.352\n",
       "PolicPerPop         0.1027      0.070      1.476      0.141      -0.034       0.239\n",
       "PctUnemployed       0.1933      0.078      2.468      0.014       0.039       0.347\n",
       "PctLargHouseFam     0.3200      0.073      4.359      0.000       0.176       0.464\n",
       "racepctblack        0.4143      0.039     10.540      0.000       0.337       0.492\n",
       "==============================================================================\n",
       "Omnibus:                       13.521   Durbin-Watson:                   2.066\n",
       "Prob(Omnibus):                  0.001   Jarque-Bera (JB):               14.083\n",
       "Skew:                           0.505   Prob(JB):                     0.000875\n",
       "Kurtosis:                       3.202   Cond. No.                         10.5\n",
       "==============================================================================\n",
       "\n",
       "Warnings:\n",
       "[1] Standard Errors assume that the covariance matrix of the errors is correctly specified.\n",
       "\"\"\""
      ]
     },
     "execution_count": 82,
     "metadata": {},
     "output_type": "execute_result"
    }
   ],
   "source": [
    "model.summary()"
   ]
  },
  {
   "cell_type": "markdown",
   "metadata": {},
   "source": [
    "Some observations:\n",
    "1. Our Adjusted r2 value is very close to our real r2 value. This tells us that our variables are adding meaning. \n",
    "2. The coef tells us how much that variable is contributing to y. For example, if the percentage of blacks is high, the pct of crime goes up by .4143. \n",
    "2. Most of the variables have a very low p value. If we set a 5 percent signiicance evels, the only variables above this level is policeperpop. We could remake the model, this time excluding this variable. "
   ]
  },
  {
   "cell_type": "code",
   "execution_count": 83,
   "metadata": {},
   "outputs": [
    {
     "data": {
      "text/html": [
       "<table class=\"simpletable\">\n",
       "<caption>OLS Regression Results</caption>\n",
       "<tr>\n",
       "  <th>Dep. Variable:</th>    <td>ViolentCrimesPerPop</td> <th>  R-squared:         </th> <td>   0.880</td> \n",
       "</tr>\n",
       "<tr>\n",
       "  <th>Model:</th>                    <td>OLS</td>         <th>  Adj. R-squared:    </th> <td>   0.877</td> \n",
       "</tr>\n",
       "<tr>\n",
       "  <th>Method:</th>              <td>Least Squares</td>    <th>  F-statistic:       </th> <td>   381.4</td> \n",
       "</tr>\n",
       "<tr>\n",
       "  <th>Date:</th>              <td>Sun, 22 Mar 2020</td>   <th>  Prob (F-statistic):</th> <td>1.15e-140</td>\n",
       "</tr>\n",
       "<tr>\n",
       "  <th>Time:</th>                  <td>18:26:02</td>       <th>  Log-Likelihood:    </th> <td>  93.488</td> \n",
       "</tr>\n",
       "<tr>\n",
       "  <th>No. Observations:</th>       <td>   319</td>        <th>  AIC:               </th> <td>  -175.0</td> \n",
       "</tr>\n",
       "<tr>\n",
       "  <th>Df Residuals:</th>           <td>   313</td>        <th>  BIC:               </th> <td>  -152.4</td> \n",
       "</tr>\n",
       "<tr>\n",
       "  <th>Df Model:</th>               <td>     6</td>        <th>                     </th>     <td> </td>    \n",
       "</tr>\n",
       "<tr>\n",
       "  <th>Covariance Type:</th>       <td>nonrobust</td>      <th>                     </th>     <td> </td>    \n",
       "</tr>\n",
       "</table>\n",
       "<table class=\"simpletable\">\n",
       "<tr>\n",
       "         <td></td>            <th>coef</th>     <th>std err</th>      <th>t</th>      <th>P>|t|</th>  <th>[0.025</th>    <th>0.975]</th>  \n",
       "</tr>\n",
       "<tr>\n",
       "  <th>medIncome</th>       <td>   -0.1816</td> <td>    0.061</td> <td>   -2.994</td> <td> 0.003</td> <td>   -0.301</td> <td>   -0.062</td>\n",
       "</tr>\n",
       "<tr>\n",
       "  <th>population</th>      <td>    0.2136</td> <td>    0.043</td> <td>    4.988</td> <td> 0.000</td> <td>    0.129</td> <td>    0.298</td>\n",
       "</tr>\n",
       "<tr>\n",
       "  <th>agePct65up</th>      <td>    0.2594</td> <td>    0.062</td> <td>    4.161</td> <td> 0.000</td> <td>    0.137</td> <td>    0.382</td>\n",
       "</tr>\n",
       "<tr>\n",
       "  <th>PctUnemployed</th>   <td>    0.1837</td> <td>    0.078</td> <td>    2.349</td> <td> 0.019</td> <td>    0.030</td> <td>    0.338</td>\n",
       "</tr>\n",
       "<tr>\n",
       "  <th>PctLargHouseFam</th> <td>    0.3291</td> <td>    0.073</td> <td>    4.489</td> <td> 0.000</td> <td>    0.185</td> <td>    0.473</td>\n",
       "</tr>\n",
       "<tr>\n",
       "  <th>racepctblack</th>    <td>    0.4294</td> <td>    0.038</td> <td>   11.296</td> <td> 0.000</td> <td>    0.355</td> <td>    0.504</td>\n",
       "</tr>\n",
       "</table>\n",
       "<table class=\"simpletable\">\n",
       "<tr>\n",
       "  <th>Omnibus:</th>       <td>13.190</td> <th>  Durbin-Watson:     </th> <td>   2.053</td>\n",
       "</tr>\n",
       "<tr>\n",
       "  <th>Prob(Omnibus):</th> <td> 0.001</td> <th>  Jarque-Bera (JB):  </th> <td>  13.776</td>\n",
       "</tr>\n",
       "<tr>\n",
       "  <th>Skew:</th>          <td> 0.504</td> <th>  Prob(JB):          </th> <td> 0.00102</td>\n",
       "</tr>\n",
       "<tr>\n",
       "  <th>Kurtosis:</th>      <td> 3.145</td> <th>  Cond. No.          </th> <td>    9.97</td>\n",
       "</tr>\n",
       "</table><br/><br/>Warnings:<br/>[1] Standard Errors assume that the covariance matrix of the errors is correctly specified."
      ],
      "text/plain": [
       "<class 'statsmodels.iolib.summary.Summary'>\n",
       "\"\"\"\n",
       "                             OLS Regression Results                            \n",
       "===============================================================================\n",
       "Dep. Variable:     ViolentCrimesPerPop   R-squared:                       0.880\n",
       "Model:                             OLS   Adj. R-squared:                  0.877\n",
       "Method:                  Least Squares   F-statistic:                     381.4\n",
       "Date:                 Sun, 22 Mar 2020   Prob (F-statistic):          1.15e-140\n",
       "Time:                         18:26:02   Log-Likelihood:                 93.488\n",
       "No. Observations:                  319   AIC:                            -175.0\n",
       "Df Residuals:                      313   BIC:                            -152.4\n",
       "Df Model:                            6                                         \n",
       "Covariance Type:             nonrobust                                         \n",
       "===================================================================================\n",
       "                      coef    std err          t      P>|t|      [0.025      0.975]\n",
       "-----------------------------------------------------------------------------------\n",
       "medIncome          -0.1816      0.061     -2.994      0.003      -0.301      -0.062\n",
       "population          0.2136      0.043      4.988      0.000       0.129       0.298\n",
       "agePct65up          0.2594      0.062      4.161      0.000       0.137       0.382\n",
       "PctUnemployed       0.1837      0.078      2.349      0.019       0.030       0.338\n",
       "PctLargHouseFam     0.3291      0.073      4.489      0.000       0.185       0.473\n",
       "racepctblack        0.4294      0.038     11.296      0.000       0.355       0.504\n",
       "==============================================================================\n",
       "Omnibus:                       13.190   Durbin-Watson:                   2.053\n",
       "Prob(Omnibus):                  0.001   Jarque-Bera (JB):               13.776\n",
       "Skew:                           0.504   Prob(JB):                      0.00102\n",
       "Kurtosis:                       3.145   Cond. No.                         9.97\n",
       "==============================================================================\n",
       "\n",
       "Warnings:\n",
       "[1] Standard Errors assume that the covariance matrix of the errors is correctly specified.\n",
       "\"\"\""
      ]
     },
     "execution_count": 83,
     "metadata": {},
     "output_type": "execute_result"
    }
   ],
   "source": [
    "import statsmodels.api as sm\n",
    "y_m= df_c['ViolentCrimesPerPop']\n",
    "x_m = df_c[['medIncome', 'population', 'agePct65up', 'PctUnemployed', 'PctLargHouseFam', 'racepctblack']]\n",
    "model = sm.OLS(y_m, x_m.astype(float)).fit()\n",
    "model.summary()"
   ]
  },
  {
   "cell_type": "markdown",
   "metadata": {},
   "source": [
    "This didn't change our model so much. We could continue eliminating the least significant variables 1 at a time but all our p values are below the 5 percent significant level showing that the probability that the chance that the coeficent is 0 and there is no relationship is very low for all of these variables. "
   ]
  },
  {
   "cell_type": "markdown",
   "metadata": {},
   "source": [
    "We could use these coeficents to help see what causes crime. "
   ]
  },
  {
   "cell_type": "markdown",
   "metadata": {},
   "source": [
    "1. Higher incomes have less crime\n",
    "2. Higher populations have more crimes\n",
    "3. Larger families have more crimes\n",
    "4. Areas with lots of blacks have more crimes. This is the most significant with a coeficent of .4294. "
   ]
  },
  {
   "cell_type": "markdown",
   "metadata": {},
   "source": [
    "We should ask though if some of our variables in our model are related. If they are we might consider taking one out of the model."
   ]
  },
  {
   "cell_type": "code",
   "execution_count": 105,
   "metadata": {},
   "outputs": [
    {
     "name": "stdout",
     "output_type": "stream",
     "text": [
      "The pearson, p values value for medIncome, population are...\n",
      "(-0.16743310459372013, 0.0027005360575177704)\n",
      "The pearson, p values value for medIncome, agePct65up are...\n",
      "(-0.107668668888606, 0.054723785409352056)\n",
      "The pearson, p values value for medIncome, PctUnemployed are...\n",
      "(-0.6522865471202367, 4.84113831439168e-40)\n",
      "The pearson, p values value for medIncome, PctLargHouseFam are...\n",
      "(-0.181944715024456, 0.001097865569238197)\n",
      "The pearson, p values value for medIncome, racepctblack are...\n",
      "(-0.4676391859487752, 9.755374716811963e-19)\n",
      "The pearson, p values value for population, agePct65up are...\n",
      "(-0.2179545402464745, 8.68027753103463e-05)\n",
      "The pearson, p values value for population, PctUnemployed are...\n",
      "(0.1343731426908356, 0.016329770142160496)\n",
      "The pearson, p values value for population, PctLargHouseFam are...\n",
      "(0.22047448413086157, 7.147610049180148e-05)\n",
      "The pearson, p values value for population, racepctblack are...\n",
      "(0.17394831161618385, 0.0018181895022918212)\n",
      "The pearson, p values value for agePct65up, PctUnemployed are...\n",
      "(-0.03859088895945262, 0.49220531971533077)\n",
      "The pearson, p values value for agePct65up, PctLargHouseFam are...\n",
      "(-0.37590468347101763, 3.81593146196316e-12)\n",
      "The pearson, p values value for agePct65up, racepctblack are...\n",
      "(-0.027305142632736357, 0.6270652979171134)\n",
      "The pearson, p values value for PctUnemployed, PctLargHouseFam are...\n",
      "(0.5790004615215981, 5.997279672607547e-30)\n",
      "The pearson, p values value for PctUnemployed, racepctblack are...\n",
      "(0.47011738415978355, 6.052852022721815e-19)\n",
      "The pearson, p values value for PctLargHouseFam, racepctblack are...\n",
      "(0.22148482462238753, 6.607850355852879e-05)\n"
     ]
    }
   ],
   "source": [
    "cols = ['medIncome', 'population', 'agePct65up', 'PctUnemployed', 'PctLargHouseFam', 'racepctblack']\n",
    "\n",
    "for i in range(len(cols)):\n",
    "    for j in range(i + 1, len(cols)):\n",
    "        print('The pearson, p values value for ' + cols[i] + ', ' + cols[j] + ' are...')\n",
    "        print(stats.pearsonr(df_c[cols[i]], df_c[cols[j]]))\n"
   ]
  },
  {
   "cell_type": "markdown",
   "metadata": {},
   "source": [
    "We notice that we do have some variables that are correlated. The low p values shows these are unlikely to occur purely due to chance. We should eliminate the ones with very high relationships because we can't trust our coeficents with the model as it is now. This means we also can't trust the p values from our model. "
   ]
  },
  {
   "cell_type": "markdown",
   "metadata": {},
   "source": [
    "First let's get rid of pct unemployed. We see it has a high correlation with almost all of our variables. "
   ]
  },
  {
   "cell_type": "code",
   "execution_count": 106,
   "metadata": {},
   "outputs": [
    {
     "data": {
      "text/html": [
       "<table class=\"simpletable\">\n",
       "<caption>OLS Regression Results</caption>\n",
       "<tr>\n",
       "  <th>Dep. Variable:</th>    <td>ViolentCrimesPerPop</td> <th>  R-squared:         </th> <td>   0.878</td> \n",
       "</tr>\n",
       "<tr>\n",
       "  <th>Model:</th>                    <td>OLS</td>         <th>  Adj. R-squared:    </th> <td>   0.876</td> \n",
       "</tr>\n",
       "<tr>\n",
       "  <th>Method:</th>              <td>Least Squares</td>    <th>  F-statistic:       </th> <td>   450.1</td> \n",
       "</tr>\n",
       "<tr>\n",
       "  <th>Date:</th>              <td>Tue, 24 Mar 2020</td>   <th>  Prob (F-statistic):</th> <td>7.91e-141</td>\n",
       "</tr>\n",
       "<tr>\n",
       "  <th>Time:</th>                  <td>22:02:50</td>       <th>  Log-Likelihood:    </th> <td>  90.701</td> \n",
       "</tr>\n",
       "<tr>\n",
       "  <th>No. Observations:</th>       <td>   319</td>        <th>  AIC:               </th> <td>  -171.4</td> \n",
       "</tr>\n",
       "<tr>\n",
       "  <th>Df Residuals:</th>           <td>   314</td>        <th>  BIC:               </th> <td>  -152.6</td> \n",
       "</tr>\n",
       "<tr>\n",
       "  <th>Df Model:</th>               <td>     5</td>        <th>                     </th>     <td> </td>    \n",
       "</tr>\n",
       "<tr>\n",
       "  <th>Covariance Type:</th>       <td>nonrobust</td>      <th>                     </th>     <td> </td>    \n",
       "</tr>\n",
       "</table>\n",
       "<table class=\"simpletable\">\n",
       "<tr>\n",
       "         <td></td>            <th>coef</th>     <th>std err</th>      <th>t</th>      <th>P>|t|</th>  <th>[0.025</th>    <th>0.975]</th>  \n",
       "</tr>\n",
       "<tr>\n",
       "  <th>medIncome</th>       <td>   -0.2284</td> <td>    0.058</td> <td>   -3.960</td> <td> 0.000</td> <td>   -0.342</td> <td>   -0.115</td>\n",
       "</tr>\n",
       "<tr>\n",
       "  <th>population</th>      <td>    0.2192</td> <td>    0.043</td> <td>    5.090</td> <td> 0.000</td> <td>    0.134</td> <td>    0.304</td>\n",
       "</tr>\n",
       "<tr>\n",
       "  <th>agePct65up</th>      <td>    0.3527</td> <td>    0.048</td> <td>    7.285</td> <td> 0.000</td> <td>    0.257</td> <td>    0.448</td>\n",
       "</tr>\n",
       "<tr>\n",
       "  <th>PctLargHouseFam</th> <td>    0.4577</td> <td>    0.049</td> <td>    9.325</td> <td> 0.000</td> <td>    0.361</td> <td>    0.554</td>\n",
       "</tr>\n",
       "<tr>\n",
       "  <th>racepctblack</th>    <td>    0.4616</td> <td>    0.036</td> <td>   12.927</td> <td> 0.000</td> <td>    0.391</td> <td>    0.532</td>\n",
       "</tr>\n",
       "</table>\n",
       "<table class=\"simpletable\">\n",
       "<tr>\n",
       "  <th>Omnibus:</th>       <td>11.063</td> <th>  Durbin-Watson:     </th> <td>   2.080</td>\n",
       "</tr>\n",
       "<tr>\n",
       "  <th>Prob(Omnibus):</th> <td> 0.004</td> <th>  Jarque-Bera (JB):  </th> <td>  11.428</td>\n",
       "</tr>\n",
       "<tr>\n",
       "  <th>Skew:</th>          <td> 0.462</td> <th>  Prob(JB):          </th> <td> 0.00330</td>\n",
       "</tr>\n",
       "<tr>\n",
       "  <th>Kurtosis:</th>      <td> 3.078</td> <th>  Cond. No.          </th> <td>    5.34</td>\n",
       "</tr>\n",
       "</table><br/><br/>Warnings:<br/>[1] Standard Errors assume that the covariance matrix of the errors is correctly specified."
      ],
      "text/plain": [
       "<class 'statsmodels.iolib.summary.Summary'>\n",
       "\"\"\"\n",
       "                             OLS Regression Results                            \n",
       "===============================================================================\n",
       "Dep. Variable:     ViolentCrimesPerPop   R-squared:                       0.878\n",
       "Model:                             OLS   Adj. R-squared:                  0.876\n",
       "Method:                  Least Squares   F-statistic:                     450.1\n",
       "Date:                 Tue, 24 Mar 2020   Prob (F-statistic):          7.91e-141\n",
       "Time:                         22:02:50   Log-Likelihood:                 90.701\n",
       "No. Observations:                  319   AIC:                            -171.4\n",
       "Df Residuals:                      314   BIC:                            -152.6\n",
       "Df Model:                            5                                         \n",
       "Covariance Type:             nonrobust                                         \n",
       "===================================================================================\n",
       "                      coef    std err          t      P>|t|      [0.025      0.975]\n",
       "-----------------------------------------------------------------------------------\n",
       "medIncome          -0.2284      0.058     -3.960      0.000      -0.342      -0.115\n",
       "population          0.2192      0.043      5.090      0.000       0.134       0.304\n",
       "agePct65up          0.3527      0.048      7.285      0.000       0.257       0.448\n",
       "PctLargHouseFam     0.4577      0.049      9.325      0.000       0.361       0.554\n",
       "racepctblack        0.4616      0.036     12.927      0.000       0.391       0.532\n",
       "==============================================================================\n",
       "Omnibus:                       11.063   Durbin-Watson:                   2.080\n",
       "Prob(Omnibus):                  0.004   Jarque-Bera (JB):               11.428\n",
       "Skew:                           0.462   Prob(JB):                      0.00330\n",
       "Kurtosis:                       3.078   Cond. No.                         5.34\n",
       "==============================================================================\n",
       "\n",
       "Warnings:\n",
       "[1] Standard Errors assume that the covariance matrix of the errors is correctly specified.\n",
       "\"\"\""
      ]
     },
     "execution_count": 106,
     "metadata": {},
     "output_type": "execute_result"
    }
   ],
   "source": [
    "import statsmodels.api as sm\n",
    "y_m= df_c['ViolentCrimesPerPop']\n",
    "x_m = df_c[['medIncome', 'population', 'agePct65up', 'PctLargHouseFam', 'racepctblack']]\n",
    "model = sm.OLS(y_m, x_m.astype(float)).fit()\n",
    "model.summary()"
   ]
  },
  {
   "cell_type": "markdown",
   "metadata": {},
   "source": [
    "By removing pct unemployed from our model, our coeficents are now more in line with how much they actually are affecting the model. Our adjusted r2 value is less but insignificantly. This isn't to say that pct unemployed is insignificant; it's just 'covered' by the other variables in our model. To illustrate we could probably make a good prediction of pct unemployed from the other variables, dropping population which had a low correlation. "
   ]
  },
  {
   "cell_type": "code",
   "execution_count": 465,
   "metadata": {},
   "outputs": [
    {
     "data": {
      "text/html": [
       "<table class=\"simpletable\">\n",
       "<caption>OLS Regression Results</caption>\n",
       "<tr>\n",
       "  <th>Dep. Variable:</th>      <td>PctUnemployed</td>  <th>  R-squared:         </th> <td>   0.927</td> \n",
       "</tr>\n",
       "<tr>\n",
       "  <th>Model:</th>                   <td>OLS</td>       <th>  Adj. R-squared:    </th> <td>   0.926</td> \n",
       "</tr>\n",
       "<tr>\n",
       "  <th>Method:</th>             <td>Least Squares</td>  <th>  F-statistic:       </th> <td>   1003.</td> \n",
       "</tr>\n",
       "<tr>\n",
       "  <th>Date:</th>             <td>Tue, 24 Mar 2020</td> <th>  Prob (F-statistic):</th> <td>9.29e-178</td>\n",
       "</tr>\n",
       "<tr>\n",
       "  <th>Time:</th>                 <td>23:18:48</td>     <th>  Log-Likelihood:    </th> <td>  196.61</td> \n",
       "</tr>\n",
       "<tr>\n",
       "  <th>No. Observations:</th>      <td>   319</td>      <th>  AIC:               </th> <td>  -385.2</td> \n",
       "</tr>\n",
       "<tr>\n",
       "  <th>Df Residuals:</th>          <td>   315</td>      <th>  BIC:               </th> <td>  -370.2</td> \n",
       "</tr>\n",
       "<tr>\n",
       "  <th>Df Model:</th>              <td>     4</td>      <th>                     </th>     <td> </td>    \n",
       "</tr>\n",
       "<tr>\n",
       "  <th>Covariance Type:</th>      <td>nonrobust</td>    <th>                     </th>     <td> </td>    \n",
       "</tr>\n",
       "</table>\n",
       "<table class=\"simpletable\">\n",
       "<tr>\n",
       "         <td></td>            <th>coef</th>     <th>std err</th>      <th>t</th>      <th>P>|t|</th>  <th>[0.025</th>    <th>0.975]</th>  \n",
       "</tr>\n",
       "<tr>\n",
       "  <th>medIncome</th>       <td>   -0.2516</td> <td>    0.041</td> <td>   -6.109</td> <td> 0.000</td> <td>   -0.333</td> <td>   -0.171</td>\n",
       "</tr>\n",
       "<tr>\n",
       "  <th>agePct65up</th>      <td>    0.5090</td> <td>    0.035</td> <td>   14.687</td> <td> 0.000</td> <td>    0.441</td> <td>    0.577</td>\n",
       "</tr>\n",
       "<tr>\n",
       "  <th>PctLargHouseFam</th> <td>    0.7104</td> <td>    0.034</td> <td>   21.172</td> <td> 0.000</td> <td>    0.644</td> <td>    0.776</td>\n",
       "</tr>\n",
       "<tr>\n",
       "  <th>racepctblack</th>    <td>    0.1799</td> <td>    0.025</td> <td>    7.158</td> <td> 0.000</td> <td>    0.130</td> <td>    0.229</td>\n",
       "</tr>\n",
       "</table>\n",
       "<table class=\"simpletable\">\n",
       "<tr>\n",
       "  <th>Omnibus:</th>       <td> 1.936</td> <th>  Durbin-Watson:     </th> <td>   1.937</td>\n",
       "</tr>\n",
       "<tr>\n",
       "  <th>Prob(Omnibus):</th> <td> 0.380</td> <th>  Jarque-Bera (JB):  </th> <td>   1.693</td>\n",
       "</tr>\n",
       "<tr>\n",
       "  <th>Skew:</th>          <td> 0.168</td> <th>  Prob(JB):          </th> <td>   0.429</td>\n",
       "</tr>\n",
       "<tr>\n",
       "  <th>Kurtosis:</th>      <td> 3.120</td> <th>  Cond. No.          </th> <td>    5.07</td>\n",
       "</tr>\n",
       "</table><br/><br/>Warnings:<br/>[1] Standard Errors assume that the covariance matrix of the errors is correctly specified."
      ],
      "text/plain": [
       "<class 'statsmodels.iolib.summary.Summary'>\n",
       "\"\"\"\n",
       "                            OLS Regression Results                            \n",
       "==============================================================================\n",
       "Dep. Variable:          PctUnemployed   R-squared:                       0.927\n",
       "Model:                            OLS   Adj. R-squared:                  0.926\n",
       "Method:                 Least Squares   F-statistic:                     1003.\n",
       "Date:                Tue, 24 Mar 2020   Prob (F-statistic):          9.29e-178\n",
       "Time:                        23:18:48   Log-Likelihood:                 196.61\n",
       "No. Observations:                 319   AIC:                            -385.2\n",
       "Df Residuals:                     315   BIC:                            -370.2\n",
       "Df Model:                           4                                         \n",
       "Covariance Type:            nonrobust                                         \n",
       "===================================================================================\n",
       "                      coef    std err          t      P>|t|      [0.025      0.975]\n",
       "-----------------------------------------------------------------------------------\n",
       "medIncome          -0.2516      0.041     -6.109      0.000      -0.333      -0.171\n",
       "agePct65up          0.5090      0.035     14.687      0.000       0.441       0.577\n",
       "PctLargHouseFam     0.7104      0.034     21.172      0.000       0.644       0.776\n",
       "racepctblack        0.1799      0.025      7.158      0.000       0.130       0.229\n",
       "==============================================================================\n",
       "Omnibus:                        1.936   Durbin-Watson:                   1.937\n",
       "Prob(Omnibus):                  0.380   Jarque-Bera (JB):                1.693\n",
       "Skew:                           0.168   Prob(JB):                        0.429\n",
       "Kurtosis:                       3.120   Cond. No.                         5.07\n",
       "==============================================================================\n",
       "\n",
       "Warnings:\n",
       "[1] Standard Errors assume that the covariance matrix of the errors is correctly specified.\n",
       "\"\"\""
      ]
     },
     "execution_count": 465,
     "metadata": {},
     "output_type": "execute_result"
    }
   ],
   "source": [
    "import statsmodels.api as sm\n",
    "y_m= df_c['PctUnemployed']\n",
    "x_m = df_c[['medIncome', 'agePct65up', 'PctLargHouseFam', 'racepctblack']]\n",
    "model = sm.OLS(y_m, x_m.astype(float)).fit()\n",
    "model.summary()"
   ]
  },
  {
   "cell_type": "markdown",
   "metadata": {},
   "source": [
    "We have a very high r2 value of .927 and a very close adjusted r2 value at .926. This justifies why we should take it off of our model for violent crimes. It's repetitive with the other variables. "
   ]
  },
  {
   "cell_type": "markdown",
   "metadata": {},
   "source": [
    "We could turn this into a logistic regression problem as follows: Is their a high amount of crime (crime > .3 ) or not. "
   ]
  },
  {
   "cell_type": "code",
   "execution_count": 487,
   "metadata": {},
   "outputs": [],
   "source": [
    "highCrimes = df['ViolentCrimesPerPop'].map(lambda x: 1 if x > .3 else 0)\n",
    "x = df[['medIncome', 'agePct65up', 'PctLargHouseFam', 'racepctblack']]"
   ]
  },
  {
   "cell_type": "code",
   "execution_count": 488,
   "metadata": {},
   "outputs": [
    {
     "name": "stdout",
     "output_type": "stream",
     "text": [
      "Optimization terminated successfully.\n",
      "         Current function value: 0.395709\n",
      "         Iterations 7\n",
      "                           Results: Logit\n",
      "=====================================================================\n",
      "Model:              Logit               Pseudo R-squared: 0.322      \n",
      "Dependent Variable: ViolentCrimesPerPop AIC:              1586.0873  \n",
      "Date:               2020-03-24 23:23    BIC:              1608.4789  \n",
      "No. Observations:   1994                Log-Likelihood:   -789.04    \n",
      "Df Model:           3                   LL-Null:          -1164.6    \n",
      "Df Residuals:       1990                LLR p-value:      1.6866e-162\n",
      "Converged:          1.0000              Scale:            1.0000     \n",
      "No. Iterations:     7.0000                                           \n",
      "----------------------------------------------------------------------\n",
      "                  Coef.   Std.Err.     z      P>|z|    [0.025   0.975]\n",
      "----------------------------------------------------------------------\n",
      "medIncome        -5.8534    0.3685  -15.8845  0.0000  -6.5756  -5.1311\n",
      "agePct65up       -1.4717    0.2384   -6.1737  0.0000  -1.9389  -1.0045\n",
      "PctLargHouseFam   2.4317    0.2566    9.4776  0.0000   1.9288   2.9345\n",
      "racepctblack      3.6905    0.2755   13.3970  0.0000   3.1506   4.2304\n",
      "=====================================================================\n",
      "\n"
     ]
    }
   ],
   "source": [
    "import statsmodels.api as sm\n",
    "logit_model=sm.Logit(highCrimes,x)\n",
    "result=logit_model.fit()\n",
    "print(result.summary2())"
   ]
  },
  {
   "cell_type": "markdown",
   "metadata": {},
   "source": [
    "All of our p values are ~0. We therefore know that it is unlikely for the coefs. to occur by chance. One observation is that here the median income plays a much more important role than it did in the regression model with a coef close to -6 compared to -.2 above.  Let's evaluate the accuracy. "
   ]
  },
  {
   "cell_type": "code",
   "execution_count": 493,
   "metadata": {},
   "outputs": [
    {
     "data": {
      "text/plain": [
       "(array([711., 360., 249., 142., 109.,  92.,  82.,  69.,  75., 105.]),\n",
       " array([0.00153735, 0.10074505, 0.19995275, 0.29916044, 0.39836814,\n",
       "        0.49757584, 0.59678354, 0.69599123, 0.79519893, 0.89440663,\n",
       "        0.99361433]),\n",
       " <a list of 10 Patch objects>)"
      ]
     },
     "execution_count": 493,
     "metadata": {},
     "output_type": "execute_result"
    },
    {
     "data": {
      "image/png": "[encoded data removed]",
      "text/plain": [
       "<Figure size 432x288 with 1 Axes>"
      ]
     },
     "metadata": {
      "needs_background": "light"
     },
     "output_type": "display_data"
    }
   ],
   "source": [
    "preds = result.predict(x)\n",
    "s = np.sort(preds)\n",
    "plt.hist(preds)"
   ]
  },
  {
   "cell_type": "markdown",
   "metadata": {},
   "source": [
    "Our model predicts that most cities probably have a low crime rate which is consistant with the data. Also we see it isn't always choosing a low percentage which is important to note. Now to get an actual accuracy score... If the score is below .5 we say it would have made a prediction of a low crime rate and if above .5 it would have made a high rate.  "
   ]
  },
  {
   "cell_type": "code",
   "execution_count": 494,
   "metadata": {},
   "outputs": [],
   "source": [
    "mappedPreds = preds.map(lambda x: 1 if x > .5 else 0)"
   ]
  },
  {
   "cell_type": "code",
   "execution_count": 498,
   "metadata": {},
   "outputs": [
    {
     "data": {
      "text/plain": [
       "0.8189568706118355"
      ]
     },
     "execution_count": 498,
     "metadata": {},
     "output_type": "execute_result"
    }
   ],
   "source": [
    "import sklearn.metrics as met\n",
    "met.accuracy_score(highCrimes, mappedPreds)"
   ]
  },
  {
   "cell_type": "markdown",
   "metadata": {},
   "source": [
    "Our accuracy score is ~82 percent which is decent. (not accounting for a training and test set)"
   ]
  },
  {
   "cell_type": "markdown",
   "metadata": {},
   "source": [
    "Conclusions:\n",
    "1. The distribution of income, population, and violent crimes are right skewed meaning that there are areas which have significantly more than other areas. \n",
    "2. The demographic data from the 1990 census is not statistically different than our current demographics.\n",
    "2. Cities with large numbers of blacks, large families, and  large number of people above 65 have more crimes."
   ]
  },
  {
   "cell_type": "code",
   "execution_count": null,
   "metadata": {},
   "outputs": [],
   "source": []
  }
 ],
 "metadata": {
  "kernelspec": {
   "display_name": "Python 3",
   "language": "python",
   "name": "python3"
  },
  "language_info": {
   "codemirror_mode": {
    "name": "ipython",
    "version": 3
   },
   "file_extension": ".py",
   "mimetype": "text/x-python",
   "name": "python",
   "nbconvert_exporter": "python",
   "pygments_lexer": "ipython3",
   "version": "3.7.1"
  }
 },
 "nbformat": 4,
 "nbformat_minor": 2
}
