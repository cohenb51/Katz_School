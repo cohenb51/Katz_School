{
 "cells": [
  {
   "cell_type": "markdown",
   "metadata": {},
   "source": [
    "  ### Benny Cohen\n",
    "  \n",
    "  \n",
    "  #### 9/22/2019\n",
    "  #### Analytics Programming Module 4 Jupyter Notebook "
   ]
  },
  {
   "cell_type": "markdown",
   "metadata": {},
   "source": [
    "In this notebook we will be using numpy to analyze a csv file containing information about water consumption by residents of New York. \n",
    "The data set contains info about...\n",
    "1. The year\n",
    "2. The population of New York during that year\n",
    "3. The amount of water consumed during that year\n",
    "4. The gallons per person consumed. "
   ]
  },
  {
   "cell_type": "markdown",
   "metadata": {},
   "source": [
    "Since we are going to be using numpy, we have to import it!"
   ]
  },
  {
   "cell_type": "code",
   "execution_count": 15,
   "metadata": {},
   "outputs": [],
   "source": [
    "import numpy as np"
   ]
  },
  {
   "cell_type": "markdown",
   "metadata": {},
   "source": [
    "Now let's load the data. In this case I downloaded it onto my local machine from https://data.cityofnewyork.us/Environment/Water-Consumption-In-The-New-York-City/ia2d-e54m\n",
    "and am bringing it in with a local file path. We pass the delimiter as a ',' since this is a comma seperated file. We also pass the parameter skip_header as true since the file contains headers. "
   ]
  },
  {
   "cell_type": "code",
   "execution_count": 16,
   "metadata": {},
   "outputs": [
    {
     "data": {
      "text/plain": [
       "numpy.ndarray"
      ]
     },
     "execution_count": 16,
     "metadata": {},
     "output_type": "execute_result"
    }
   ],
   "source": [
    "data = np.genfromtxt(\"Water_Consumption_In_The_New_York_City.csv\", delimiter = ',', skip_header = True)\n",
    "type(data)"
   ]
  },
  {
   "cell_type": "markdown",
   "metadata": {},
   "source": [
    "Let's set our print options and see what the data looks like. "
   ]
  },
  {
   "cell_type": "code",
   "execution_count": 17,
   "metadata": {},
   "outputs": [],
   "source": [
    "np.set_printoptions(precision = 3, suppress = True)"
   ]
  },
  {
   "cell_type": "code",
   "execution_count": 18,
   "metadata": {},
   "outputs": [
    {
     "name": "stdout",
     "output_type": "stream",
     "text": [
      "The type of data is float64\n",
      "There are 40 rows (years)  and 4 columns\n",
      "[[   1979.  7102100.     1512.      213. ]\n",
      " [   1980.  7071639.     1506.      213. ]\n",
      " [   1981.  7089241.     1309.      185. ]\n",
      " [   1982.  7109105.     1382.      194. ]\n",
      " [   1983.  7181224.     1424.      198. ]\n",
      " [   1984.  7234514.     1465.      203. ]\n",
      " [   1985.  7274054.     1326.      182. ]\n",
      " [   1986.  7319246.     1351.      185. ]\n",
      " [   1987.  7342476.     1447.      197. ]\n",
      " [   1988.  7353719.     1484.      202. ]\n",
      " [   1989.  7344175.     1402.      191. ]\n",
      " [   1990.  7335650.     1424.      194. ]\n",
      " [   1991.  7374501.     1469.      199. ]\n",
      " [   1992.  7428944.     1369.      184. ]\n",
      " [   1993.  7506166.     1368.5     182. ]\n",
      " [   1994.  7570458.     1357.7     179. ]\n",
      " [   1995.  7633040.     1325.7     174. ]\n",
      " [   1996.  7697812.     1297.9     169. ]\n",
      " [   1997.  7773443.     1205.5     155. ]\n",
      " [   1998.  7858259.     1219.5     155. ]\n",
      " [   1999.  7947660.     1237.2     156. ]\n",
      " [   2000.  8008278.     1240.4     155. ]\n",
      " [   2001.  8024963.5    1184.      148. ]\n",
      " [   2002.  8041649.     1135.6     141. ]\n",
      " [   2003.  8058334.5    1093.7     136. ]\n",
      " [   2004.  8075020.     1099.5     136. ]\n",
      " [   2005.  8091705.5    1138.      141. ]\n",
      " [   2006.  8108391.     1069.      132. ]\n",
      " [   2007.  8125076.5    1114.      137. ]\n",
      " [   2008.  8141762.     1098.      135. ]\n",
      " [   2009.  8158447.5    1007.5     123. ]\n",
      " [   2010.  8175133.     1039.      127. ]\n",
      " [   2011.  8272963.     1021.      123. ]\n",
      " [   2012.  8348032.     1009.1     121. ]\n",
      " [   2013.  8398739.     1006.1     120. ]\n",
      " [   2014.  8437387.      996.      118. ]\n",
      " [   2015.  8468181.     1009.      119. ]\n",
      " [   2016.  8475976.     1002.      118. ]\n",
      " [   2017.  8438271.      990.2     117. ]\n",
      " [   2018.  8398748.     1007.5     120. ]]\n"
     ]
    }
   ],
   "source": [
    "print(\"The type of data is \" + str(data.dtype))\n",
    "rows, columns = np.shape(data)\n",
    "print(\"There are \" + str(rows) + \" rows (years)  and \" + str(columns) + \" columns\")\n",
    "print(data)\n"
   ]
  },
  {
   "cell_type": "markdown",
   "metadata": {},
   "source": [
    "As mentioned at the start, we see that the first collumn has the year, the second the population, the third the amount consumed, and the fourth the proportion per person."
   ]
  },
  {
   "cell_type": "markdown",
   "metadata": {},
   "source": [
    "Let's find the maximum yearly NYC consumption of water in millions of gallons per day. We know each row represents a year and we know that the 3rd column contains the amount of water consumed per year. We therefore need the year which has the max of the 3rd column"
   ]
  },
  {
   "cell_type": "code",
   "execution_count": 19,
   "metadata": {},
   "outputs": [
    {
     "data": {
      "text/plain": [
       "1979"
      ]
     },
     "execution_count": 19,
     "metadata": {},
     "output_type": "execute_result"
    }
   ],
   "source": [
    "yearWithMost = data[data[:,2] == data[:,2].max()] # this is, select the row where the 3rd column = the max of the 3rd column\n",
    "int(yearWithMost[0][0])"
   ]
  },
  {
   "cell_type": "code",
   "execution_count": 20,
   "metadata": {},
   "outputs": [
    {
     "name": "stdout",
     "output_type": "stream",
     "text": [
      "1979 has the most water consumption in millions of gallons per day with 1512.0\n"
     ]
    }
   ],
   "source": [
    "print(str(int(yearWithMost[0][0])) + \" has the most water consumption in millions of gallons per day with \" + str(yearWithMost[0][2]))"
   ]
  },
  {
   "cell_type": "markdown",
   "metadata": {},
   "source": [
    "Let's find out the number of years. We can check this by seing how many unique values there are in the year column(the first column)"
   ]
  },
  {
   "cell_type": "code",
   "execution_count": 21,
   "metadata": {},
   "outputs": [
    {
     "name": "stdout",
     "output_type": "stream",
     "text": [
      "There are 40 years\n"
     ]
    }
   ],
   "source": [
    "numYears = np.unique(data[:,0]).shape\n",
    "print(\"There are \" + str(numYears[0]) + \" years\")"
   ]
  },
  {
   "cell_type": "markdown",
   "metadata": {},
   "source": [
    "We can use aggregation functions to summarize the data like to see\n",
    "what is the mean and the standard deviation of the per capity daily water consumption. (the last col) "
   ]
  },
  {
   "cell_type": "code",
   "execution_count": 22,
   "metadata": {},
   "outputs": [
    {
     "name": "stdout",
     "output_type": "stream",
     "text": [
      "The mean is 159.425 and the standord deviation is  31.58709190476388\n"
     ]
    }
   ],
   "source": [
    "mean = data[:,-1].mean()\n",
    "std = data[:,-1].std()\n",
    "print(\"The mean is \" + str(mean) + \" and the standord deviation is  \" + str(std))"
   ]
  },
  {
   "cell_type": "markdown",
   "metadata": {},
   "source": [
    "Let's find the difference in population from year to year"
   ]
  },
  {
   "cell_type": "code",
   "execution_count": 23,
   "metadata": {},
   "outputs": [
    {
     "data": {
      "text/plain": [
       "array([-30461. ,  17602. ,  19864. ,  72119. ,  53290. ,  39540. ,\n",
       "        45192. ,  23230. ,  11243. ,  -9544. ,  -8525. ,  38851. ,\n",
       "        54443. ,  77222. ,  64292. ,  62582. ,  64772. ,  75631. ,\n",
       "        84816. ,  89401. ,  60618. ,  16685.5,  16685.5,  16685.5,\n",
       "        16685.5,  16685.5,  16685.5,  16685.5,  16685.5,  16685.5,\n",
       "        16685.5,  97830. ,  75069. ,  50707. ,  38648. ,  30794. ,\n",
       "         7795. , -37705. , -39523. ])"
      ]
     },
     "execution_count": 23,
     "metadata": {},
     "output_type": "execute_result"
    }
   ],
   "source": [
    "pop_diff = np.diff(data[:,1])\n",
    "pop_diff"
   ]
  },
  {
   "cell_type": "markdown",
   "metadata": {},
   "source": [
    "And let's get the type of that array"
   ]
  },
  {
   "cell_type": "code",
   "execution_count": 24,
   "metadata": {},
   "outputs": [
    {
     "data": {
      "text/plain": [
       "numpy.ndarray"
      ]
     },
     "execution_count": 24,
     "metadata": {},
     "output_type": "execute_result"
    }
   ],
   "source": [
    "type(pop_diff)"
   ]
  },
  {
   "cell_type": "markdown",
   "metadata": {},
   "source": [
    "And the type of the elements in the array..."
   ]
  },
  {
   "cell_type": "code",
   "execution_count": 25,
   "metadata": {},
   "outputs": [
    {
     "data": {
      "text/plain": [
       "dtype('float64')"
      ]
     },
     "execution_count": 25,
     "metadata": {},
     "output_type": "execute_result"
    }
   ],
   "source": [
    "pop_diff.dtype"
   ]
  },
  {
   "cell_type": "code",
   "execution_count": 26,
   "metadata": {},
   "outputs": [
    {
     "name": "stdout",
     "output_type": "stream",
     "text": [
      "There are 39 elements\n"
     ]
    }
   ],
   "source": [
    "print(\"There are \" + str(len(pop_diff)) + \" elements\")"
   ]
  },
  {
   "cell_type": "markdown",
   "metadata": {},
   "source": [
    "It makes sense that there are 39 elements even though there are 40 years because there if there are 40 years then there are 39 differences between consecutive years. It's easier to think of it mathematically. The zeroth element is arr[1] - arr[0]. The first element is arr[2] - arr[1]... the 39th element would be arr[40] - arr[39]. But there is no arr[40] since arrays start at 0. Therefore the last element, the 38th is arr[39] - arr[38]. We can verify this "
   ]
  },
  {
   "cell_type": "code",
   "execution_count": 28,
   "metadata": {},
   "outputs": [],
   "source": [
    "pop = data[:,1]\n",
    "popDif = []\n",
    "for i in range(len(pop) - 1):\n",
    "    popDif.append(pop[i+1] - pop[i]) #Recursive definition of Dif. \n",
    "pop_diff_check = np.array(popDif)"
   ]
  },
  {
   "cell_type": "code",
   "execution_count": 29,
   "metadata": {},
   "outputs": [
    {
     "data": {
      "text/plain": [
       "0"
      ]
     },
     "execution_count": 29,
     "metadata": {},
     "output_type": "execute_result"
    }
   ],
   "source": [
    "np.sum(pop_diff != pop_diff_check)"
   ]
  },
  {
   "cell_type": "markdown",
   "metadata": {},
   "source": [
    "The sum is 0 because they are equal on all values so the inverse evaluates to false for all of them.\n",
    "Np.Dif should be faster input our csv is small so it doesn't matter."
   ]
  },
  {
   "cell_type": "markdown",
   "metadata": {},
   "source": [
    "Now that we know the mean and standard deviation of the average per-capity daily water use over this time period, we can create a simulation of per capita daily water use over this time frame. Take the number of years, multiply by 365.25, and round to the nearest whole integer. That's the number of values we want to generate.\n"
   ]
  },
  {
   "cell_type": "code",
   "execution_count": 34,
   "metadata": {},
   "outputs": [
    {
     "data": {
      "text/plain": [
       "14610"
      ]
     },
     "execution_count": 34,
     "metadata": {},
     "output_type": "execute_result"
    }
   ],
   "source": [
    "years,_ = np.shape(data)\n",
    "numValues = round(years * 365.25)\n",
    "numValues"
   ]
  },
  {
   "cell_type": "markdown",
   "metadata": {},
   "source": [
    "Now let's generate an array of normally distibuted values with the mean and std from above and convert it to a list"
   ]
  },
  {
   "cell_type": "code",
   "execution_count": 42,
   "metadata": {},
   "outputs": [
    {
     "data": {
      "text/plain": [
       "array([122.12 , 137.371, 186.389, ..., 141.247, 170.599, 182.797])"
      ]
     },
     "execution_count": 42,
     "metadata": {},
     "output_type": "execute_result"
    }
   ],
   "source": [
    "simulated_daily_use_array = np.random.normal(mean,std,numValues)\n",
    "simulated_daily_use_array"
   ]
  },
  {
   "cell_type": "code",
   "execution_count": 43,
   "metadata": {},
   "outputs": [
    {
     "data": {
      "text/plain": [
       "numpy.ndarray"
      ]
     },
     "execution_count": 43,
     "metadata": {},
     "output_type": "execute_result"
    }
   ],
   "source": [
    "type(simulated_daily_use_array)"
   ]
  },
  {
   "cell_type": "code",
   "execution_count": 44,
   "metadata": {},
   "outputs": [],
   "source": [
    "simulated_daily_use_list = list(simulated_daily_use_array)"
   ]
  },
  {
   "cell_type": "code",
   "execution_count": 45,
   "metadata": {},
   "outputs": [
    {
     "data": {
      "text/plain": [
       "list"
      ]
     },
     "execution_count": 45,
     "metadata": {},
     "output_type": "execute_result"
    }
   ],
   "source": [
    "type(simulated_daily_use_list)"
   ]
  },
  {
   "cell_type": "markdown",
   "metadata": {},
   "source": [
    "Now let's use the provided profiling code to meassure performance"
   ]
  },
  {
   "cell_type": "code",
   "execution_count": 46,
   "metadata": {},
   "outputs": [
    {
     "name": "stdout",
     "output_type": "stream",
     "text": [
      "Time for loop: 6.32414402400002\n",
      "Time for list comprehension: 4.440285979999999\n",
      "Time for numpy vectorized operation: 0.0184440650000397\n"
     ]
    }
   ],
   "source": [
    "from timeit import timeit\n",
    "import math\n",
    "\n",
    "def sqrt_1():\n",
    "    # This one uses a loop.  Slow!\n",
    "    sqrt_1 = [] \n",
    "    for i in range(0, len(simulated_daily_use_list)-1):  \n",
    "        sqrt_1.append(math.sqrt(simulated_daily_use_list[i]))\n",
    "    return(sqrt_1)\n",
    "\n",
    "def sqrt_2():\n",
    "    # This one uses list comprehension. Better!\n",
    "    return([math.sqrt(x) for x in simulated_daily_use_list])\n",
    "\n",
    "def sqrt_3():\n",
    "    # This one uses numpy.  Best!\n",
    "    return(np.sqrt(simulated_daily_use_array))\n",
    "\n",
    "print(\"Time for loop: \" + str(timeit(sqrt_1, number = 1000)))\n",
    "print(\"Time for list comprehension: \" + str(timeit(sqrt_2, number = 1000)))\n",
    "print(\"Time for numpy vectorized operation: \" + str(timeit(sqrt_3, number = 1000)))"
   ]
  },
  {
   "cell_type": "markdown",
   "metadata": {},
   "source": [
    "We see that vectorizing scales much better than loops and comprehension"
   ]
  },
  {
   "cell_type": "code",
   "execution_count": null,
   "metadata": {},
   "outputs": [],
   "source": []
  },
  {
   "cell_type": "code",
   "execution_count": null,
   "metadata": {},
   "outputs": [],
   "source": []
  },
  {
   "cell_type": "code",
   "execution_count": null,
   "metadata": {},
   "outputs": [],
   "source": []
  }
 ],
 "metadata": {
  "kernelspec": {
   "display_name": "Python 3",
   "language": "python",
   "name": "python3"
  },
  "language_info": {
   "codemirror_mode": {
    "name": "ipython",
    "version": 3
   },
   "file_extension": ".py",
   "mimetype": "text/x-python",
   "name": "python",
   "nbconvert_exporter": "python",
   "pygments_lexer": "ipython3",
   "version": "3.7.1"
  }
 },
 "nbformat": 4,
 "nbformat_minor": 2
}
