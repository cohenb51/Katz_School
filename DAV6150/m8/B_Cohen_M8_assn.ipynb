{
 "cells": [
  {
   "cell_type": "markdown",
   "metadata": {},
   "source": [
    "Benny Cohen\n",
    "\n",
    "7/8/2020\n",
    "\n",
    "M8 Data Science Assignment"
   ]
  },
  {
   "cell_type": "markdown",
   "metadata": {},
   "source": [
    "In this notebook, we will be looking at a dataset about houses. The data is not current. It is from Boston around 1997-1998. We hope to be able to use it though to be able to predict whether a house mortgage would be accepted or denied. A model like this could be useful in flagging banks that are not approving mortgages objectively. "
   ]
  },
  {
   "cell_type": "markdown",
   "metadata": {},
   "source": [
    "We will do this by \n",
    "\n",
    "1. Importing our data and doing some eda.\n",
    "2. Cleaning our data and preparing it for input to a model.\n",
    "3. Building svm and k nearest neighbors models to predict if a mortgage will be denied. A denial is a binary variable where a 1 indicates a deny."
   ]
  },
  {
   "cell_type": "code",
   "execution_count": 1,
   "metadata": {},
   "outputs": [],
   "source": [
    "import pandas as pd\n",
    "import matplotlib.pyplot as plt\n",
    "import numpy as np\n",
    "%matplotlib inline"
   ]
  },
  {
   "cell_type": "code",
   "execution_count": 2,
   "metadata": {},
   "outputs": [
    {
     "data": {
      "text/html": [
       "<div>\n",
       "<style scoped>\n",
       "    .dataframe tbody tr th:only-of-type {\n",
       "        vertical-align: middle;\n",
       "    }\n",
       "\n",
       "    .dataframe tbody tr th {\n",
       "        vertical-align: top;\n",
       "    }\n",
       "\n",
       "    .dataframe thead th {\n",
       "        text-align: right;\n",
       "    }\n",
       "</style>\n",
       "<table border=\"1\" class=\"dataframe\">\n",
       "  <thead>\n",
       "    <tr style=\"text-align: right;\">\n",
       "      <th></th>\n",
       "      <th>Unnamed: 0</th>\n",
       "      <th>dir</th>\n",
       "      <th>hir</th>\n",
       "      <th>lvr</th>\n",
       "      <th>ccs</th>\n",
       "      <th>mcs</th>\n",
       "      <th>pbcr</th>\n",
       "      <th>dmi</th>\n",
       "      <th>self</th>\n",
       "      <th>single</th>\n",
       "      <th>uria</th>\n",
       "      <th>comdominiom</th>\n",
       "      <th>black</th>\n",
       "      <th>deny</th>\n",
       "    </tr>\n",
       "  </thead>\n",
       "  <tbody>\n",
       "    <tr>\n",
       "      <th>0</th>\n",
       "      <td>1</td>\n",
       "      <td>0.221</td>\n",
       "      <td>0.221</td>\n",
       "      <td>0.800000</td>\n",
       "      <td>5.0</td>\n",
       "      <td>2.0</td>\n",
       "      <td>no</td>\n",
       "      <td>no</td>\n",
       "      <td>no</td>\n",
       "      <td>no</td>\n",
       "      <td>3.9</td>\n",
       "      <td>0</td>\n",
       "      <td>no</td>\n",
       "      <td>no</td>\n",
       "    </tr>\n",
       "    <tr>\n",
       "      <th>1</th>\n",
       "      <td>2</td>\n",
       "      <td>0.265</td>\n",
       "      <td>0.265</td>\n",
       "      <td>0.921875</td>\n",
       "      <td>2.0</td>\n",
       "      <td>2.0</td>\n",
       "      <td>no</td>\n",
       "      <td>no</td>\n",
       "      <td>no</td>\n",
       "      <td>yes</td>\n",
       "      <td>3.2</td>\n",
       "      <td>0</td>\n",
       "      <td>no</td>\n",
       "      <td>no</td>\n",
       "    </tr>\n",
       "    <tr>\n",
       "      <th>2</th>\n",
       "      <td>3</td>\n",
       "      <td>0.372</td>\n",
       "      <td>0.248</td>\n",
       "      <td>0.920398</td>\n",
       "      <td>1.0</td>\n",
       "      <td>2.0</td>\n",
       "      <td>no</td>\n",
       "      <td>no</td>\n",
       "      <td>no</td>\n",
       "      <td>no</td>\n",
       "      <td>3.2</td>\n",
       "      <td>0</td>\n",
       "      <td>no</td>\n",
       "      <td>no</td>\n",
       "    </tr>\n",
       "    <tr>\n",
       "      <th>3</th>\n",
       "      <td>4</td>\n",
       "      <td>0.320</td>\n",
       "      <td>0.250</td>\n",
       "      <td>0.860465</td>\n",
       "      <td>1.0</td>\n",
       "      <td>2.0</td>\n",
       "      <td>no</td>\n",
       "      <td>no</td>\n",
       "      <td>no</td>\n",
       "      <td>no</td>\n",
       "      <td>4.3</td>\n",
       "      <td>0</td>\n",
       "      <td>no</td>\n",
       "      <td>no</td>\n",
       "    </tr>\n",
       "    <tr>\n",
       "      <th>4</th>\n",
       "      <td>5</td>\n",
       "      <td>0.360</td>\n",
       "      <td>0.350</td>\n",
       "      <td>0.600000</td>\n",
       "      <td>1.0</td>\n",
       "      <td>1.0</td>\n",
       "      <td>no</td>\n",
       "      <td>no</td>\n",
       "      <td>no</td>\n",
       "      <td>no</td>\n",
       "      <td>3.2</td>\n",
       "      <td>0</td>\n",
       "      <td>no</td>\n",
       "      <td>no</td>\n",
       "    </tr>\n",
       "  </tbody>\n",
       "</table>\n",
       "</div>"
      ],
      "text/plain": [
       "   Unnamed: 0    dir    hir       lvr  ccs  mcs pbcr dmi self single  uria  \\\n",
       "0           1  0.221  0.221  0.800000  5.0  2.0   no  no   no     no   3.9   \n",
       "1           2  0.265  0.265  0.921875  2.0  2.0   no  no   no    yes   3.2   \n",
       "2           3  0.372  0.248  0.920398  1.0  2.0   no  no   no     no   3.2   \n",
       "3           4  0.320  0.250  0.860465  1.0  2.0   no  no   no     no   4.3   \n",
       "4           5  0.360  0.350  0.600000  1.0  1.0   no  no   no     no   3.2   \n",
       "\n",
       "   comdominiom black deny  \n",
       "0            0    no   no  \n",
       "1            0    no   no  \n",
       "2            0    no   no  \n",
       "3            0    no   no  \n",
       "4            0    no   no  "
      ]
     },
     "execution_count": 2,
     "metadata": {},
     "output_type": "execute_result"
    }
   ],
   "source": [
    "baseurl = 'https://raw.githubusercontent.com'\n",
    "username = 'cohenb51'\n",
    "branch = 'develop'\n",
    "repo = 'Katz_School'\n",
    "filePath = 'DAV6150/M7_Data.csv'\n",
    "\n",
    "df = pd.read_csv(f'{baseurl}/{username}/{repo}/{branch}/{filePath}')\n",
    "df.head()"
   ]
  },
  {
   "cell_type": "markdown",
   "metadata": {},
   "source": [
    "### EDA"
   ]
  },
  {
   "cell_type": "markdown",
   "metadata": {},
   "source": [
    "Let's begin our eda by profiling our data. We are interested in seeing the shape of the data, the data types, and the nulls, "
   ]
  },
  {
   "cell_type": "code",
   "execution_count": 3,
   "metadata": {},
   "outputs": [
    {
     "data": {
      "text/plain": [
       "(2381, 14)"
      ]
     },
     "execution_count": 3,
     "metadata": {},
     "output_type": "execute_result"
    }
   ],
   "source": [
    "df.shape"
   ]
  },
  {
   "cell_type": "markdown",
   "metadata": {},
   "source": [
    "We have 2381 rows and 14 features. This is not very many rows or features. At the same time it is above the 500 minimum amount of rows we need to create a logistic regression. We may have a harder time proving that our variables are significant though."
   ]
  },
  {
   "cell_type": "code",
   "execution_count": 4,
   "metadata": {},
   "outputs": [
    {
     "name": "stdout",
     "output_type": "stream",
     "text": [
      "<class 'pandas.core.frame.DataFrame'>\n",
      "RangeIndex: 2381 entries, 0 to 2380\n",
      "Data columns (total 14 columns):\n",
      "Unnamed: 0     2381 non-null int64\n",
      "dir            2381 non-null float64\n",
      "hir            2381 non-null float64\n",
      "lvr            2381 non-null float64\n",
      "ccs            2381 non-null float64\n",
      "mcs            2381 non-null float64\n",
      "pbcr           2380 non-null object\n",
      "dmi            2381 non-null object\n",
      "self           2380 non-null object\n",
      "single         2381 non-null object\n",
      "uria           2381 non-null float64\n",
      "comdominiom    2381 non-null int64\n",
      "black          2381 non-null object\n",
      "deny           2381 non-null object\n",
      "dtypes: float64(6), int64(2), object(6)\n",
      "memory usage: 260.5+ KB\n"
     ]
    }
   ],
   "source": [
    "df.info()"
   ]
  },
  {
   "cell_type": "markdown",
   "metadata": {},
   "source": [
    "The descriptions for the variables can be found at https://vincentarelbundock.github.io/Rdatasets/doc/Ecdat/Hdma.html. In this phase we are simply exploring the data, but I will elaborate in this block about how we might consider using these variables to predict whether a mortgage should be accepted or denied. "
   ]
  },
  {
   "cell_type": "markdown",
   "metadata": {},
   "source": [
    "1. dir - debt payments to total income ratio.  This is an important variable since we intuitively can guess that a person who has much more income that debt is more trustworthy to pay back their loan. \n",
    "\n",
    "2. hir - housing expenses to income ratio. This variable is similar to dir just instead of debt it focuses on housing debt. Naturally, a lower ratio here means that the housing expenses is less of a burden and the more likely the applicant is to pay off their loan.  \n",
    "\n",
    "3. lvr - ratio of size of loan to assessed value of property. We may be inclined to think that the smaller the loan, the more likely the bank will be willing to accept the risk since the applicant is showing they can pay off the value. \n",
    "\n",
    "4. ccs - consumer credit score. This is a discrete variable that represents how trustworthy a consumer is to pay back loans given to them. The value ranges from 1 to 6 where 1 is the best score and 6 the worst. Naturally we would think then that the lower the consumer credit score the less likely an applicant would be rejected.\n",
    "\n",
    "5. mcs - mortgage credit score from 1 to 4 (a low value being a good score) We might expect this to be related to ccs as it is another type of credit score.\n",
    "\n",
    "6. pbcr - public bad credit record. A person with a bad credit rating will more likely not have a mortgage accepted.\n",
    "\n",
    "7. dmi - denied mortgage insurance. This is a binary variable for if mortgage was denied. This may be slightly leaky as if a mortgage insurance was denied, it is likely the insurance also was denied.\n",
    "\n",
    "8. self - binary variable for if the applicant is self employed. This relates to how a person is getting their income. I'm not sure if being self employed will make you less reliable to pay back your mortgage or more likely to at this point.\n",
    "\n",
    "9. single - is the applicant single. Single Applicants may be less trustworthy as they may only have 1 source of income. \n",
    "\n",
    "10. uria- 1989 Massachusetts unemployment rate in the applicant's industry. The higher the unemployment, the higher the concern that the applicant won't be able to pay back the loan.\n",
    "\n",
    "11. condominium - is a unit a condo. A condo is like an apartment except the living spaces are owned rather than rented and common areas like stairs are shared by all the owners. Since the ownership model for condos is different, we might expect this variable to help us. \n",
    "\n",
    "12. black - is the applicant black. Most people in our society believe in equality. From a practical sense though, we can't be certain that this is true and certain people may have stereotypes that influence their decisions.  We can explore with this variable whether stereotypes about black people influence whether a mortgage will be denied or accepted. For example, if many people think black people are poorer, their mortgages may more likely be denied. We need to be careful with this black variable though. We don't have that many features. It's possible that black people live in a neighborhoods that tend to be poorer and more likely to be denied. We should analyze correlations between this variable and our other variables to see if black people are poorer. \n",
    "\n",
    "13. deny - mortgage application denied - This is our target variable. We want to know whether a mortgage application was denied. "
   ]
  },
  {
   "cell_type": "markdown",
   "metadata": {},
   "source": [
    "Now let's look at nulls."
   ]
  },
  {
   "cell_type": "code",
   "execution_count": 5,
   "metadata": {},
   "outputs": [
    {
     "data": {
      "text/plain": [
       "Unnamed: 0     0\n",
       "dir            0\n",
       "hir            0\n",
       "lvr            0\n",
       "ccs            0\n",
       "mcs            0\n",
       "pbcr           1\n",
       "dmi            0\n",
       "self           1\n",
       "single         0\n",
       "uria           0\n",
       "comdominiom    0\n",
       "black          0\n",
       "deny           0\n",
       "dtype: int64"
      ]
     },
     "execution_count": 5,
     "metadata": {},
     "output_type": "execute_result"
    }
   ],
   "source": [
    "df.isnull().sum()"
   ]
  },
  {
   "cell_type": "markdown",
   "metadata": {},
   "source": [
    "We have 1 row will a null pbcr and 1 row with whether a person is self employed is a null. This is not so many so we will just come back to it when we do our data prep work. "
   ]
  },
  {
   "cell_type": "code",
   "execution_count": 6,
   "metadata": {},
   "outputs": [
    {
     "data": {
      "text/html": [
       "<div>\n",
       "<style scoped>\n",
       "    .dataframe tbody tr th:only-of-type {\n",
       "        vertical-align: middle;\n",
       "    }\n",
       "\n",
       "    .dataframe tbody tr th {\n",
       "        vertical-align: top;\n",
       "    }\n",
       "\n",
       "    .dataframe thead th {\n",
       "        text-align: right;\n",
       "    }\n",
       "</style>\n",
       "<table border=\"1\" class=\"dataframe\">\n",
       "  <thead>\n",
       "    <tr style=\"text-align: right;\">\n",
       "      <th></th>\n",
       "      <th>Unnamed: 0</th>\n",
       "      <th>dir</th>\n",
       "      <th>hir</th>\n",
       "      <th>lvr</th>\n",
       "      <th>ccs</th>\n",
       "      <th>mcs</th>\n",
       "      <th>pbcr</th>\n",
       "      <th>dmi</th>\n",
       "      <th>self</th>\n",
       "      <th>single</th>\n",
       "      <th>uria</th>\n",
       "      <th>comdominiom</th>\n",
       "      <th>black</th>\n",
       "      <th>deny</th>\n",
       "    </tr>\n",
       "  </thead>\n",
       "  <tbody>\n",
       "    <tr>\n",
       "      <th>0</th>\n",
       "      <td>1</td>\n",
       "      <td>0.221</td>\n",
       "      <td>0.221</td>\n",
       "      <td>0.800000</td>\n",
       "      <td>5.0</td>\n",
       "      <td>2.0</td>\n",
       "      <td>no</td>\n",
       "      <td>no</td>\n",
       "      <td>no</td>\n",
       "      <td>no</td>\n",
       "      <td>3.9</td>\n",
       "      <td>0</td>\n",
       "      <td>no</td>\n",
       "      <td>no</td>\n",
       "    </tr>\n",
       "    <tr>\n",
       "      <th>1</th>\n",
       "      <td>2</td>\n",
       "      <td>0.265</td>\n",
       "      <td>0.265</td>\n",
       "      <td>0.921875</td>\n",
       "      <td>2.0</td>\n",
       "      <td>2.0</td>\n",
       "      <td>no</td>\n",
       "      <td>no</td>\n",
       "      <td>no</td>\n",
       "      <td>yes</td>\n",
       "      <td>3.2</td>\n",
       "      <td>0</td>\n",
       "      <td>no</td>\n",
       "      <td>no</td>\n",
       "    </tr>\n",
       "    <tr>\n",
       "      <th>2</th>\n",
       "      <td>3</td>\n",
       "      <td>0.372</td>\n",
       "      <td>0.248</td>\n",
       "      <td>0.920398</td>\n",
       "      <td>1.0</td>\n",
       "      <td>2.0</td>\n",
       "      <td>no</td>\n",
       "      <td>no</td>\n",
       "      <td>no</td>\n",
       "      <td>no</td>\n",
       "      <td>3.2</td>\n",
       "      <td>0</td>\n",
       "      <td>no</td>\n",
       "      <td>no</td>\n",
       "    </tr>\n",
       "    <tr>\n",
       "      <th>3</th>\n",
       "      <td>4</td>\n",
       "      <td>0.320</td>\n",
       "      <td>0.250</td>\n",
       "      <td>0.860465</td>\n",
       "      <td>1.0</td>\n",
       "      <td>2.0</td>\n",
       "      <td>no</td>\n",
       "      <td>no</td>\n",
       "      <td>no</td>\n",
       "      <td>no</td>\n",
       "      <td>4.3</td>\n",
       "      <td>0</td>\n",
       "      <td>no</td>\n",
       "      <td>no</td>\n",
       "    </tr>\n",
       "    <tr>\n",
       "      <th>4</th>\n",
       "      <td>5</td>\n",
       "      <td>0.360</td>\n",
       "      <td>0.350</td>\n",
       "      <td>0.600000</td>\n",
       "      <td>1.0</td>\n",
       "      <td>1.0</td>\n",
       "      <td>no</td>\n",
       "      <td>no</td>\n",
       "      <td>no</td>\n",
       "      <td>no</td>\n",
       "      <td>3.2</td>\n",
       "      <td>0</td>\n",
       "      <td>no</td>\n",
       "      <td>no</td>\n",
       "    </tr>\n",
       "  </tbody>\n",
       "</table>\n",
       "</div>"
      ],
      "text/plain": [
       "   Unnamed: 0    dir    hir       lvr  ccs  mcs pbcr dmi self single  uria  \\\n",
       "0           1  0.221  0.221  0.800000  5.0  2.0   no  no   no     no   3.9   \n",
       "1           2  0.265  0.265  0.921875  2.0  2.0   no  no   no    yes   3.2   \n",
       "2           3  0.372  0.248  0.920398  1.0  2.0   no  no   no     no   3.2   \n",
       "3           4  0.320  0.250  0.860465  1.0  2.0   no  no   no     no   4.3   \n",
       "4           5  0.360  0.350  0.600000  1.0  1.0   no  no   no     no   3.2   \n",
       "\n",
       "   comdominiom black deny  \n",
       "0            0    no   no  \n",
       "1            0    no   no  \n",
       "2            0    no   no  \n",
       "3            0    no   no  \n",
       "4            0    no   no  "
      ]
     },
     "execution_count": 6,
     "metadata": {},
     "output_type": "execute_result"
    }
   ],
   "source": [
    "df.head()"
   ]
  },
  {
   "cell_type": "markdown",
   "metadata": {},
   "source": [
    "A lot of our variables are yes or no questions. It will be easier to do our analysis if we represent these as numbers. Let's say 1 is yes and 0 is no."
   ]
  },
  {
   "cell_type": "code",
   "execution_count": 7,
   "metadata": {},
   "outputs": [],
   "source": [
    "_hash = {'yes': 1, 'no': 0}\n",
    "yesNoCols = ['pbcr', 'dmi', 'single', 'black', 'deny', 'self']\n",
    "\n",
    "for col in yesNoCols:\n",
    "    df[col] = df[col].map(_hash)\n"
   ]
  },
  {
   "cell_type": "code",
   "execution_count": 8,
   "metadata": {},
   "outputs": [
    {
     "data": {
      "text/html": [
       "<div>\n",
       "<style scoped>\n",
       "    .dataframe tbody tr th:only-of-type {\n",
       "        vertical-align: middle;\n",
       "    }\n",
       "\n",
       "    .dataframe tbody tr th {\n",
       "        vertical-align: top;\n",
       "    }\n",
       "\n",
       "    .dataframe thead th {\n",
       "        text-align: right;\n",
       "    }\n",
       "</style>\n",
       "<table border=\"1\" class=\"dataframe\">\n",
       "  <thead>\n",
       "    <tr style=\"text-align: right;\">\n",
       "      <th></th>\n",
       "      <th>Unnamed: 0</th>\n",
       "      <th>dir</th>\n",
       "      <th>hir</th>\n",
       "      <th>lvr</th>\n",
       "      <th>ccs</th>\n",
       "      <th>mcs</th>\n",
       "      <th>pbcr</th>\n",
       "      <th>dmi</th>\n",
       "      <th>self</th>\n",
       "      <th>single</th>\n",
       "      <th>uria</th>\n",
       "      <th>comdominiom</th>\n",
       "      <th>black</th>\n",
       "      <th>deny</th>\n",
       "    </tr>\n",
       "  </thead>\n",
       "  <tbody>\n",
       "    <tr>\n",
       "      <th>0</th>\n",
       "      <td>1</td>\n",
       "      <td>0.221</td>\n",
       "      <td>0.221</td>\n",
       "      <td>0.800000</td>\n",
       "      <td>5.0</td>\n",
       "      <td>2.0</td>\n",
       "      <td>0.0</td>\n",
       "      <td>0</td>\n",
       "      <td>0.0</td>\n",
       "      <td>0</td>\n",
       "      <td>3.9</td>\n",
       "      <td>0</td>\n",
       "      <td>0</td>\n",
       "      <td>0</td>\n",
       "    </tr>\n",
       "    <tr>\n",
       "      <th>1</th>\n",
       "      <td>2</td>\n",
       "      <td>0.265</td>\n",
       "      <td>0.265</td>\n",
       "      <td>0.921875</td>\n",
       "      <td>2.0</td>\n",
       "      <td>2.0</td>\n",
       "      <td>0.0</td>\n",
       "      <td>0</td>\n",
       "      <td>0.0</td>\n",
       "      <td>1</td>\n",
       "      <td>3.2</td>\n",
       "      <td>0</td>\n",
       "      <td>0</td>\n",
       "      <td>0</td>\n",
       "    </tr>\n",
       "    <tr>\n",
       "      <th>2</th>\n",
       "      <td>3</td>\n",
       "      <td>0.372</td>\n",
       "      <td>0.248</td>\n",
       "      <td>0.920398</td>\n",
       "      <td>1.0</td>\n",
       "      <td>2.0</td>\n",
       "      <td>0.0</td>\n",
       "      <td>0</td>\n",
       "      <td>0.0</td>\n",
       "      <td>0</td>\n",
       "      <td>3.2</td>\n",
       "      <td>0</td>\n",
       "      <td>0</td>\n",
       "      <td>0</td>\n",
       "    </tr>\n",
       "    <tr>\n",
       "      <th>3</th>\n",
       "      <td>4</td>\n",
       "      <td>0.320</td>\n",
       "      <td>0.250</td>\n",
       "      <td>0.860465</td>\n",
       "      <td>1.0</td>\n",
       "      <td>2.0</td>\n",
       "      <td>0.0</td>\n",
       "      <td>0</td>\n",
       "      <td>0.0</td>\n",
       "      <td>0</td>\n",
       "      <td>4.3</td>\n",
       "      <td>0</td>\n",
       "      <td>0</td>\n",
       "      <td>0</td>\n",
       "    </tr>\n",
       "    <tr>\n",
       "      <th>4</th>\n",
       "      <td>5</td>\n",
       "      <td>0.360</td>\n",
       "      <td>0.350</td>\n",
       "      <td>0.600000</td>\n",
       "      <td>1.0</td>\n",
       "      <td>1.0</td>\n",
       "      <td>0.0</td>\n",
       "      <td>0</td>\n",
       "      <td>0.0</td>\n",
       "      <td>0</td>\n",
       "      <td>3.2</td>\n",
       "      <td>0</td>\n",
       "      <td>0</td>\n",
       "      <td>0</td>\n",
       "    </tr>\n",
       "  </tbody>\n",
       "</table>\n",
       "</div>"
      ],
      "text/plain": [
       "   Unnamed: 0    dir    hir       lvr  ccs  mcs  pbcr  dmi  self  single  \\\n",
       "0           1  0.221  0.221  0.800000  5.0  2.0   0.0    0   0.0       0   \n",
       "1           2  0.265  0.265  0.921875  2.0  2.0   0.0    0   0.0       1   \n",
       "2           3  0.372  0.248  0.920398  1.0  2.0   0.0    0   0.0       0   \n",
       "3           4  0.320  0.250  0.860465  1.0  2.0   0.0    0   0.0       0   \n",
       "4           5  0.360  0.350  0.600000  1.0  1.0   0.0    0   0.0       0   \n",
       "\n",
       "   uria  comdominiom  black  deny  \n",
       "0   3.9            0      0     0  \n",
       "1   3.2            0      0     0  \n",
       "2   3.2            0      0     0  \n",
       "3   4.3            0      0     0  \n",
       "4   3.2            0      0     0  "
      ]
     },
     "execution_count": 8,
     "metadata": {},
     "output_type": "execute_result"
    }
   ],
   "source": [
    "df.head()"
   ]
  },
  {
   "cell_type": "code",
   "execution_count": 9,
   "metadata": {},
   "outputs": [
    {
     "data": {
      "text/plain": [
       "array([[<matplotlib.axes._subplots.AxesSubplot object at 0x0000028D601F77B8>,\n",
       "        <matplotlib.axes._subplots.AxesSubplot object at 0x0000028D62301A90>,\n",
       "        <matplotlib.axes._subplots.AxesSubplot object at 0x0000028D62336048>,\n",
       "        <matplotlib.axes._subplots.AxesSubplot object at 0x0000028D6235C5C0>],\n",
       "       [<matplotlib.axes._subplots.AxesSubplot object at 0x0000028D601F7278>,\n",
       "        <matplotlib.axes._subplots.AxesSubplot object at 0x0000028D623ADF98>,\n",
       "        <matplotlib.axes._subplots.AxesSubplot object at 0x0000028D623DD550>,\n",
       "        <matplotlib.axes._subplots.AxesSubplot object at 0x0000028D62403B00>],\n",
       "       [<matplotlib.axes._subplots.AxesSubplot object at 0x0000028D62403B38>,\n",
       "        <matplotlib.axes._subplots.AxesSubplot object at 0x0000028D6245C5F8>,\n",
       "        <matplotlib.axes._subplots.AxesSubplot object at 0x0000028D62484B70>,\n",
       "        <matplotlib.axes._subplots.AxesSubplot object at 0x0000028D624B3128>],\n",
       "       [<matplotlib.axes._subplots.AxesSubplot object at 0x0000028D624DB6A0>,\n",
       "        <matplotlib.axes._subplots.AxesSubplot object at 0x0000028D62502C18>,\n",
       "        <matplotlib.axes._subplots.AxesSubplot object at 0x0000028D625311D0>,\n",
       "        <matplotlib.axes._subplots.AxesSubplot object at 0x0000028D6255A748>]],\n",
       "      dtype=object)"
      ]
     },
     "execution_count": 9,
     "metadata": {},
     "output_type": "execute_result"
    },
    {
     "data": {
      "image/png": "[encoded data removed]",
      "text/plain": [
       "<Figure size 1080x1080 with 16 Axes>"
      ]
     },
     "metadata": {
      "needs_background": "light"
     },
     "output_type": "display_data"
    }
   ],
   "source": [
    "df.hist(figsize=(15,15), bins = 15)"
   ]
  },
  {
   "cell_type": "markdown",
   "metadata": {},
   "source": [
    "\n",
    "The unamed column is our index column. It is autoincrementing so it won't help our model. \n",
    "\n",
    "1. We see that ccs, our credit index score is leftly skewed. This implies that most consumers have trustworthy credit scores. We may try to see if we can find any trends in the people who have high credit scores. \n",
    "\n",
    "2. condomonium - We see that this is a binary variable with most houses not being a condo. \n",
    "\n",
    "3. Dir and hir - These variables seems to be scaled between 0 and 1. We will need to make another graph for these variables with more bins to see the distribution. \n",
    "\n",
    "4. Ivr - This variable has a left skew. Low values indicate that the loan is not very big. The distribution makes sense since there probably is a set max percentage that people can take out, and a few people take out less than that, and even fewer might have some exception that let's them take out a bigger loan. \n",
    "\n",
    "5. mcs - Most people have a mortgage credit score of 1 or 2. Very few people have 3 or 4. We should look at these higher rows. \n",
    "\n",
    "6. Uria - We see that the unemployment rate is around 2-4 in most places but a few places have 9 or 10. We need to see have these are outliers since this potentially could be valuable information.\n",
    "\n",
    "7. black - most people in Boston are not black. This confirms that blacks are a minority, which isn't really new information but is good for some validation that our data sample is a random sampling.\n",
    "\n",
    "8. dmi - This variable has very low variance but potentially the yes's can be critical. Remember since we are going to be making a regression if this variable has a high coefficient it won't help the prediction unless the feature is set to true since this a binary variable so I think it would be okay to include it if we find something significant with it.  \n",
    "\n",
    "9. We see more people are not single. It seems to be under 2:1 for non singles to singles. \n"
   ]
  },
  {
   "cell_type": "markdown",
   "metadata": {},
   "source": [
    "Most of our numeric data seems to be on the same scale between 0 and 1 but these numeric variables are all ratios like loan to property value and these values should rarely be above 1."
   ]
  },
  {
   "cell_type": "code",
   "execution_count": null,
   "metadata": {},
   "outputs": [],
   "source": []
  },
  {
   "cell_type": "markdown",
   "metadata": {},
   "source": [
    "Let's look at dir now with more bins so we could see the distribution better. "
   ]
  },
  {
   "cell_type": "code",
   "execution_count": 10,
   "metadata": {},
   "outputs": [
    {
     "data": {
      "text/plain": [
       "<matplotlib.axes._subplots.AxesSubplot at 0x28d62eb5cc0>"
      ]
     },
     "execution_count": 10,
     "metadata": {},
     "output_type": "execute_result"
    },
    {
     "data": {
      "image/png": "[encoded data removed]",
      "text/plain": [
       "<Figure size 432x288 with 1 Axes>"
      ]
     },
     "metadata": {
      "needs_background": "light"
     },
     "output_type": "display_data"
    }
   ],
   "source": [
    "df.dir.hist(bins = 50)"
   ]
  },
  {
   "cell_type": "markdown",
   "metadata": {},
   "source": [
    "This looks like a normal distribution with a sharp peek. It is slightly surprising how high some of these values are. We should be wary that the rows on the right side of the peak have a low income or many debts and may be more likely to have their loans rejected. \n",
    "\n",
    "There also appears to be a value above 1. This would mean that this person's debt is actually greater than their income. This should definitely raise some eyebrows."
   ]
  },
  {
   "cell_type": "code",
   "execution_count": 11,
   "metadata": {},
   "outputs": [
    {
     "data": {
      "text/plain": [
       "620     1.16\n",
       "1094    3.00\n",
       "1320    1.28\n",
       "1927    1.42\n",
       "1928    1.42\n",
       "Name: dir, dtype: float64"
      ]
     },
     "execution_count": 11,
     "metadata": {},
     "output_type": "execute_result"
    }
   ],
   "source": [
    "df.dir[df.dir > 1]"
   ]
  },
  {
   "cell_type": "markdown",
   "metadata": {},
   "source": [
    "This explains why the x axis is all the way to 3. Someone has more than 3 * more debts than income! Surely their loan would have been rejected if this data is correct?!?"
   ]
  },
  {
   "cell_type": "code",
   "execution_count": 12,
   "metadata": {},
   "outputs": [
    {
     "data": {
      "text/html": [
       "<div>\n",
       "<style scoped>\n",
       "    .dataframe tbody tr th:only-of-type {\n",
       "        vertical-align: middle;\n",
       "    }\n",
       "\n",
       "    .dataframe tbody tr th {\n",
       "        vertical-align: top;\n",
       "    }\n",
       "\n",
       "    .dataframe thead th {\n",
       "        text-align: right;\n",
       "    }\n",
       "</style>\n",
       "<table border=\"1\" class=\"dataframe\">\n",
       "  <thead>\n",
       "    <tr style=\"text-align: right;\">\n",
       "      <th></th>\n",
       "      <th>Unnamed: 0</th>\n",
       "      <th>dir</th>\n",
       "      <th>hir</th>\n",
       "      <th>lvr</th>\n",
       "      <th>ccs</th>\n",
       "      <th>mcs</th>\n",
       "      <th>pbcr</th>\n",
       "      <th>dmi</th>\n",
       "      <th>self</th>\n",
       "      <th>single</th>\n",
       "      <th>uria</th>\n",
       "      <th>comdominiom</th>\n",
       "      <th>black</th>\n",
       "      <th>deny</th>\n",
       "    </tr>\n",
       "  </thead>\n",
       "  <tbody>\n",
       "    <tr>\n",
       "      <th>1094</th>\n",
       "      <td>1095</td>\n",
       "      <td>3.0000</td>\n",
       "      <td>3.0000</td>\n",
       "      <td>0.571429</td>\n",
       "      <td>1.0</td>\n",
       "      <td>3.0</td>\n",
       "      <td>0.0</td>\n",
       "      <td>0</td>\n",
       "      <td>1.0</td>\n",
       "      <td>0</td>\n",
       "      <td>10.6</td>\n",
       "      <td>0</td>\n",
       "      <td>0</td>\n",
       "      <td>1</td>\n",
       "    </tr>\n",
       "    <tr>\n",
       "      <th>1927</th>\n",
       "      <td>1928</td>\n",
       "      <td>1.4200</td>\n",
       "      <td>1.1000</td>\n",
       "      <td>1.037500</td>\n",
       "      <td>1.0</td>\n",
       "      <td>1.0</td>\n",
       "      <td>1.0</td>\n",
       "      <td>0</td>\n",
       "      <td>1.0</td>\n",
       "      <td>1</td>\n",
       "      <td>3.2</td>\n",
       "      <td>1</td>\n",
       "      <td>0</td>\n",
       "      <td>1</td>\n",
       "    </tr>\n",
       "    <tr>\n",
       "      <th>1928</th>\n",
       "      <td>1929</td>\n",
       "      <td>1.4200</td>\n",
       "      <td>1.1000</td>\n",
       "      <td>1.037500</td>\n",
       "      <td>1.0</td>\n",
       "      <td>1.0</td>\n",
       "      <td>1.0</td>\n",
       "      <td>0</td>\n",
       "      <td>1.0</td>\n",
       "      <td>1</td>\n",
       "      <td>3.2</td>\n",
       "      <td>1</td>\n",
       "      <td>0</td>\n",
       "      <td>1</td>\n",
       "    </tr>\n",
       "    <tr>\n",
       "      <th>1320</th>\n",
       "      <td>1321</td>\n",
       "      <td>1.2800</td>\n",
       "      <td>0.7300</td>\n",
       "      <td>0.707547</td>\n",
       "      <td>1.0</td>\n",
       "      <td>1.0</td>\n",
       "      <td>0.0</td>\n",
       "      <td>0</td>\n",
       "      <td>1.0</td>\n",
       "      <td>0</td>\n",
       "      <td>4.3</td>\n",
       "      <td>0</td>\n",
       "      <td>0</td>\n",
       "      <td>0</td>\n",
       "    </tr>\n",
       "    <tr>\n",
       "      <th>620</th>\n",
       "      <td>621</td>\n",
       "      <td>1.1600</td>\n",
       "      <td>0.7400</td>\n",
       "      <td>0.752688</td>\n",
       "      <td>1.0</td>\n",
       "      <td>2.0</td>\n",
       "      <td>0.0</td>\n",
       "      <td>0</td>\n",
       "      <td>0.0</td>\n",
       "      <td>0</td>\n",
       "      <td>4.3</td>\n",
       "      <td>0</td>\n",
       "      <td>0</td>\n",
       "      <td>1</td>\n",
       "    </tr>\n",
       "    <tr>\n",
       "      <th>411</th>\n",
       "      <td>412</td>\n",
       "      <td>0.9500</td>\n",
       "      <td>0.4400</td>\n",
       "      <td>0.547059</td>\n",
       "      <td>6.0</td>\n",
       "      <td>3.0</td>\n",
       "      <td>0.0</td>\n",
       "      <td>0</td>\n",
       "      <td>1.0</td>\n",
       "      <td>0</td>\n",
       "      <td>10.6</td>\n",
       "      <td>0</td>\n",
       "      <td>0</td>\n",
       "      <td>0</td>\n",
       "    </tr>\n",
       "    <tr>\n",
       "      <th>819</th>\n",
       "      <td>820</td>\n",
       "      <td>0.8300</td>\n",
       "      <td>0.4900</td>\n",
       "      <td>0.945578</td>\n",
       "      <td>5.0</td>\n",
       "      <td>2.0</td>\n",
       "      <td>0.0</td>\n",
       "      <td>0</td>\n",
       "      <td>0.0</td>\n",
       "      <td>1</td>\n",
       "      <td>3.9</td>\n",
       "      <td>0</td>\n",
       "      <td>1</td>\n",
       "      <td>1</td>\n",
       "    </tr>\n",
       "    <tr>\n",
       "      <th>1104</th>\n",
       "      <td>1105</td>\n",
       "      <td>0.8300</td>\n",
       "      <td>0.7200</td>\n",
       "      <td>0.716292</td>\n",
       "      <td>3.0</td>\n",
       "      <td>2.0</td>\n",
       "      <td>0.0</td>\n",
       "      <td>0</td>\n",
       "      <td>0.0</td>\n",
       "      <td>1</td>\n",
       "      <td>3.6</td>\n",
       "      <td>0</td>\n",
       "      <td>0</td>\n",
       "      <td>0</td>\n",
       "    </tr>\n",
       "    <tr>\n",
       "      <th>571</th>\n",
       "      <td>572</td>\n",
       "      <td>0.8142</td>\n",
       "      <td>0.3933</td>\n",
       "      <td>0.516529</td>\n",
       "      <td>3.0</td>\n",
       "      <td>2.0</td>\n",
       "      <td>1.0</td>\n",
       "      <td>0</td>\n",
       "      <td>0.0</td>\n",
       "      <td>1</td>\n",
       "      <td>3.2</td>\n",
       "      <td>0</td>\n",
       "      <td>1</td>\n",
       "      <td>0</td>\n",
       "    </tr>\n",
       "    <tr>\n",
       "      <th>1010</th>\n",
       "      <td>1011</td>\n",
       "      <td>0.7800</td>\n",
       "      <td>0.7200</td>\n",
       "      <td>0.900000</td>\n",
       "      <td>1.0</td>\n",
       "      <td>2.0</td>\n",
       "      <td>0.0</td>\n",
       "      <td>0</td>\n",
       "      <td>0.0</td>\n",
       "      <td>0</td>\n",
       "      <td>3.6</td>\n",
       "      <td>1</td>\n",
       "      <td>0</td>\n",
       "      <td>1</td>\n",
       "    </tr>\n",
       "    <tr>\n",
       "      <th>1267</th>\n",
       "      <td>1268</td>\n",
       "      <td>0.7500</td>\n",
       "      <td>0.2900</td>\n",
       "      <td>0.448718</td>\n",
       "      <td>1.0</td>\n",
       "      <td>2.0</td>\n",
       "      <td>0.0</td>\n",
       "      <td>0</td>\n",
       "      <td>0.0</td>\n",
       "      <td>1</td>\n",
       "      <td>8.9</td>\n",
       "      <td>0</td>\n",
       "      <td>0</td>\n",
       "      <td>1</td>\n",
       "    </tr>\n",
       "    <tr>\n",
       "      <th>1906</th>\n",
       "      <td>1907</td>\n",
       "      <td>0.7400</td>\n",
       "      <td>0.6600</td>\n",
       "      <td>0.800000</td>\n",
       "      <td>6.0</td>\n",
       "      <td>2.0</td>\n",
       "      <td>1.0</td>\n",
       "      <td>0</td>\n",
       "      <td>0.0</td>\n",
       "      <td>1</td>\n",
       "      <td>3.2</td>\n",
       "      <td>1</td>\n",
       "      <td>1</td>\n",
       "      <td>1</td>\n",
       "    </tr>\n",
       "    <tr>\n",
       "      <th>195</th>\n",
       "      <td>196</td>\n",
       "      <td>0.7300</td>\n",
       "      <td>0.3700</td>\n",
       "      <td>0.456274</td>\n",
       "      <td>1.0</td>\n",
       "      <td>1.0</td>\n",
       "      <td>0.0</td>\n",
       "      <td>0</td>\n",
       "      <td>1.0</td>\n",
       "      <td>1</td>\n",
       "      <td>3.2</td>\n",
       "      <td>0</td>\n",
       "      <td>0</td>\n",
       "      <td>1</td>\n",
       "    </tr>\n",
       "    <tr>\n",
       "      <th>607</th>\n",
       "      <td>608</td>\n",
       "      <td>0.7300</td>\n",
       "      <td>0.7100</td>\n",
       "      <td>0.606061</td>\n",
       "      <td>1.0</td>\n",
       "      <td>1.0</td>\n",
       "      <td>0.0</td>\n",
       "      <td>0</td>\n",
       "      <td>0.0</td>\n",
       "      <td>1</td>\n",
       "      <td>3.9</td>\n",
       "      <td>0</td>\n",
       "      <td>0</td>\n",
       "      <td>0</td>\n",
       "    </tr>\n",
       "  </tbody>\n",
       "</table>\n",
       "</div>"
      ],
      "text/plain": [
       "      Unnamed: 0     dir     hir       lvr  ccs  mcs  pbcr  dmi  self  single  \\\n",
       "1094        1095  3.0000  3.0000  0.571429  1.0  3.0   0.0    0   1.0       0   \n",
       "1927        1928  1.4200  1.1000  1.037500  1.0  1.0   1.0    0   1.0       1   \n",
       "1928        1929  1.4200  1.1000  1.037500  1.0  1.0   1.0    0   1.0       1   \n",
       "1320        1321  1.2800  0.7300  0.707547  1.0  1.0   0.0    0   1.0       0   \n",
       "620          621  1.1600  0.7400  0.752688  1.0  2.0   0.0    0   0.0       0   \n",
       "411          412  0.9500  0.4400  0.547059  6.0  3.0   0.0    0   1.0       0   \n",
       "819          820  0.8300  0.4900  0.945578  5.0  2.0   0.0    0   0.0       1   \n",
       "1104        1105  0.8300  0.7200  0.716292  3.0  2.0   0.0    0   0.0       1   \n",
       "571          572  0.8142  0.3933  0.516529  3.0  2.0   1.0    0   0.0       1   \n",
       "1010        1011  0.7800  0.7200  0.900000  1.0  2.0   0.0    0   0.0       0   \n",
       "1267        1268  0.7500  0.2900  0.448718  1.0  2.0   0.0    0   0.0       1   \n",
       "1906        1907  0.7400  0.6600  0.800000  6.0  2.0   1.0    0   0.0       1   \n",
       "195          196  0.7300  0.3700  0.456274  1.0  1.0   0.0    0   1.0       1   \n",
       "607          608  0.7300  0.7100  0.606061  1.0  1.0   0.0    0   0.0       1   \n",
       "\n",
       "      uria  comdominiom  black  deny  \n",
       "1094  10.6            0      0     1  \n",
       "1927   3.2            1      0     1  \n",
       "1928   3.2            1      0     1  \n",
       "1320   4.3            0      0     0  \n",
       "620    4.3            0      0     1  \n",
       "411   10.6            0      0     0  \n",
       "819    3.9            0      1     1  \n",
       "1104   3.6            0      0     0  \n",
       "571    3.2            0      1     0  \n",
       "1010   3.6            1      0     1  \n",
       "1267   8.9            0      0     1  \n",
       "1906   3.2            1      1     1  \n",
       "195    3.2            0      0     1  \n",
       "607    3.9            0      0     0  "
      ]
     },
     "execution_count": 12,
     "metadata": {},
     "output_type": "execute_result"
    }
   ],
   "source": [
    "df.iloc[df.dir[df.dir > .7].index].sort_values('dir', ascending = False) # Let's lower the rate to .7 to look at more rows"
   ]
  },
  {
   "cell_type": "markdown",
   "metadata": {},
   "source": [
    "This graph is ordered by hir. It definitely appears that most of these rows are being denied. I am a bit suspicious of row with index 1094. 3.0 is a very round number when calculating a ratio and is very large compared to all of the others. We may want to apply min max scaling if we use this in a production setting knowing that data like this could come in. I think the rows with 1.1 are more possible. It technically is possible to have more debts than payments and I don't think we should lose those rows. "
   ]
  },
  {
   "cell_type": "markdown",
   "metadata": {},
   "source": [
    "I would expect to find something similar when looking at hir, the housing expenses to income ratio, since this is also a ratio to income."
   ]
  },
  {
   "cell_type": "code",
   "execution_count": 13,
   "metadata": {},
   "outputs": [
    {
     "data": {
      "text/plain": [
       "<matplotlib.axes._subplots.AxesSubplot at 0x28d62829be0>"
      ]
     },
     "execution_count": 13,
     "metadata": {},
     "output_type": "execute_result"
    },
    {
     "data": {
      "image/png": "[encoded data removed]",
      "text/plain": [
       "<Figure size 432x288 with 1 Axes>"
      ]
     },
     "metadata": {
      "needs_background": "light"
     },
     "output_type": "display_data"
    }
   ],
   "source": [
    "df.hir.hist(bins = 50)"
   ]
  },
  {
   "cell_type": "markdown",
   "metadata": {},
   "source": [
    "Yes, we see here a very similar distribution. "
   ]
  },
  {
   "cell_type": "code",
   "execution_count": 14,
   "metadata": {},
   "outputs": [
    {
     "data": {
      "text/html": [
       "<div>\n",
       "<style scoped>\n",
       "    .dataframe tbody tr th:only-of-type {\n",
       "        vertical-align: middle;\n",
       "    }\n",
       "\n",
       "    .dataframe tbody tr th {\n",
       "        vertical-align: top;\n",
       "    }\n",
       "\n",
       "    .dataframe thead th {\n",
       "        text-align: right;\n",
       "    }\n",
       "</style>\n",
       "<table border=\"1\" class=\"dataframe\">\n",
       "  <thead>\n",
       "    <tr style=\"text-align: right;\">\n",
       "      <th></th>\n",
       "      <th>Unnamed: 0</th>\n",
       "      <th>dir</th>\n",
       "      <th>hir</th>\n",
       "      <th>lvr</th>\n",
       "      <th>ccs</th>\n",
       "      <th>mcs</th>\n",
       "      <th>pbcr</th>\n",
       "      <th>dmi</th>\n",
       "      <th>self</th>\n",
       "      <th>single</th>\n",
       "      <th>uria</th>\n",
       "      <th>comdominiom</th>\n",
       "      <th>black</th>\n",
       "      <th>deny</th>\n",
       "    </tr>\n",
       "  </thead>\n",
       "  <tbody>\n",
       "    <tr>\n",
       "      <th>1094</th>\n",
       "      <td>1095</td>\n",
       "      <td>3.00</td>\n",
       "      <td>3.00</td>\n",
       "      <td>0.571429</td>\n",
       "      <td>1.0</td>\n",
       "      <td>3.0</td>\n",
       "      <td>0.0</td>\n",
       "      <td>0</td>\n",
       "      <td>1.0</td>\n",
       "      <td>0</td>\n",
       "      <td>10.6</td>\n",
       "      <td>0</td>\n",
       "      <td>0</td>\n",
       "      <td>1</td>\n",
       "    </tr>\n",
       "    <tr>\n",
       "      <th>1927</th>\n",
       "      <td>1928</td>\n",
       "      <td>1.42</td>\n",
       "      <td>1.10</td>\n",
       "      <td>1.037500</td>\n",
       "      <td>1.0</td>\n",
       "      <td>1.0</td>\n",
       "      <td>1.0</td>\n",
       "      <td>0</td>\n",
       "      <td>1.0</td>\n",
       "      <td>1</td>\n",
       "      <td>3.2</td>\n",
       "      <td>1</td>\n",
       "      <td>0</td>\n",
       "      <td>1</td>\n",
       "    </tr>\n",
       "    <tr>\n",
       "      <th>1928</th>\n",
       "      <td>1929</td>\n",
       "      <td>1.42</td>\n",
       "      <td>1.10</td>\n",
       "      <td>1.037500</td>\n",
       "      <td>1.0</td>\n",
       "      <td>1.0</td>\n",
       "      <td>1.0</td>\n",
       "      <td>0</td>\n",
       "      <td>1.0</td>\n",
       "      <td>1</td>\n",
       "      <td>3.2</td>\n",
       "      <td>1</td>\n",
       "      <td>0</td>\n",
       "      <td>1</td>\n",
       "    </tr>\n",
       "    <tr>\n",
       "      <th>1320</th>\n",
       "      <td>1321</td>\n",
       "      <td>1.28</td>\n",
       "      <td>0.73</td>\n",
       "      <td>0.707547</td>\n",
       "      <td>1.0</td>\n",
       "      <td>1.0</td>\n",
       "      <td>0.0</td>\n",
       "      <td>0</td>\n",
       "      <td>1.0</td>\n",
       "      <td>0</td>\n",
       "      <td>4.3</td>\n",
       "      <td>0</td>\n",
       "      <td>0</td>\n",
       "      <td>0</td>\n",
       "    </tr>\n",
       "    <tr>\n",
       "      <th>620</th>\n",
       "      <td>621</td>\n",
       "      <td>1.16</td>\n",
       "      <td>0.74</td>\n",
       "      <td>0.752688</td>\n",
       "      <td>1.0</td>\n",
       "      <td>2.0</td>\n",
       "      <td>0.0</td>\n",
       "      <td>0</td>\n",
       "      <td>0.0</td>\n",
       "      <td>0</td>\n",
       "      <td>4.3</td>\n",
       "      <td>0</td>\n",
       "      <td>0</td>\n",
       "      <td>1</td>\n",
       "    </tr>\n",
       "    <tr>\n",
       "      <th>1104</th>\n",
       "      <td>1105</td>\n",
       "      <td>0.83</td>\n",
       "      <td>0.72</td>\n",
       "      <td>0.716292</td>\n",
       "      <td>3.0</td>\n",
       "      <td>2.0</td>\n",
       "      <td>0.0</td>\n",
       "      <td>0</td>\n",
       "      <td>0.0</td>\n",
       "      <td>1</td>\n",
       "      <td>3.6</td>\n",
       "      <td>0</td>\n",
       "      <td>0</td>\n",
       "      <td>0</td>\n",
       "    </tr>\n",
       "    <tr>\n",
       "      <th>1010</th>\n",
       "      <td>1011</td>\n",
       "      <td>0.78</td>\n",
       "      <td>0.72</td>\n",
       "      <td>0.900000</td>\n",
       "      <td>1.0</td>\n",
       "      <td>2.0</td>\n",
       "      <td>0.0</td>\n",
       "      <td>0</td>\n",
       "      <td>0.0</td>\n",
       "      <td>0</td>\n",
       "      <td>3.6</td>\n",
       "      <td>1</td>\n",
       "      <td>0</td>\n",
       "      <td>1</td>\n",
       "    </tr>\n",
       "    <tr>\n",
       "      <th>607</th>\n",
       "      <td>608</td>\n",
       "      <td>0.73</td>\n",
       "      <td>0.71</td>\n",
       "      <td>0.606061</td>\n",
       "      <td>1.0</td>\n",
       "      <td>1.0</td>\n",
       "      <td>0.0</td>\n",
       "      <td>0</td>\n",
       "      <td>0.0</td>\n",
       "      <td>1</td>\n",
       "      <td>3.9</td>\n",
       "      <td>0</td>\n",
       "      <td>0</td>\n",
       "      <td>0</td>\n",
       "    </tr>\n",
       "  </tbody>\n",
       "</table>\n",
       "</div>"
      ],
      "text/plain": [
       "      Unnamed: 0   dir   hir       lvr  ccs  mcs  pbcr  dmi  self  single  \\\n",
       "1094        1095  3.00  3.00  0.571429  1.0  3.0   0.0    0   1.0       0   \n",
       "1927        1928  1.42  1.10  1.037500  1.0  1.0   1.0    0   1.0       1   \n",
       "1928        1929  1.42  1.10  1.037500  1.0  1.0   1.0    0   1.0       1   \n",
       "1320        1321  1.28  0.73  0.707547  1.0  1.0   0.0    0   1.0       0   \n",
       "620          621  1.16  0.74  0.752688  1.0  2.0   0.0    0   0.0       0   \n",
       "1104        1105  0.83  0.72  0.716292  3.0  2.0   0.0    0   0.0       1   \n",
       "1010        1011  0.78  0.72  0.900000  1.0  2.0   0.0    0   0.0       0   \n",
       "607          608  0.73  0.71  0.606061  1.0  1.0   0.0    0   0.0       1   \n",
       "\n",
       "      uria  comdominiom  black  deny  \n",
       "1094  10.6            0      0     1  \n",
       "1927   3.2            1      0     1  \n",
       "1928   3.2            1      0     1  \n",
       "1320   4.3            0      0     0  \n",
       "620    4.3            0      0     1  \n",
       "1104   3.6            0      0     0  \n",
       "1010   3.6            1      0     1  \n",
       "607    3.9            0      0     0  "
      ]
     },
     "execution_count": 14,
     "metadata": {},
     "output_type": "execute_result"
    }
   ],
   "source": [
    "df.iloc[df.hir[df.hir > .7].index].sort_values('dir', ascending = False) # Let's lower the rate to .7 to look at more rows"
   ]
  },
  {
   "cell_type": "markdown",
   "metadata": {},
   "source": [
    "We have less rows that are above .7 and all of these rows were found above. "
   ]
  },
  {
   "cell_type": "markdown",
   "metadata": {},
   "source": [
    "This tells us something interesting: since hir and dir are both ratios of income and hir specifically refers to housing expenses we should expect hir to always be less than dir. Let's check this. "
   ]
  },
  {
   "cell_type": "code",
   "execution_count": 15,
   "metadata": {},
   "outputs": [
    {
     "data": {
      "text/html": [
       "<div>\n",
       "<style scoped>\n",
       "    .dataframe tbody tr th:only-of-type {\n",
       "        vertical-align: middle;\n",
       "    }\n",
       "\n",
       "    .dataframe tbody tr th {\n",
       "        vertical-align: top;\n",
       "    }\n",
       "\n",
       "    .dataframe thead th {\n",
       "        text-align: right;\n",
       "    }\n",
       "</style>\n",
       "<table border=\"1\" class=\"dataframe\">\n",
       "  <thead>\n",
       "    <tr style=\"text-align: right;\">\n",
       "      <th></th>\n",
       "      <th>Unnamed: 0</th>\n",
       "      <th>dir</th>\n",
       "      <th>hir</th>\n",
       "      <th>lvr</th>\n",
       "      <th>ccs</th>\n",
       "      <th>mcs</th>\n",
       "      <th>pbcr</th>\n",
       "      <th>dmi</th>\n",
       "      <th>self</th>\n",
       "      <th>single</th>\n",
       "      <th>uria</th>\n",
       "      <th>comdominiom</th>\n",
       "      <th>black</th>\n",
       "      <th>deny</th>\n",
       "    </tr>\n",
       "  </thead>\n",
       "  <tbody>\n",
       "    <tr>\n",
       "      <th>289</th>\n",
       "      <td>290</td>\n",
       "      <td>0.28</td>\n",
       "      <td>0.33</td>\n",
       "      <td>0.628571</td>\n",
       "      <td>1.0</td>\n",
       "      <td>2.0</td>\n",
       "      <td>1.0</td>\n",
       "      <td>0</td>\n",
       "      <td>0.0</td>\n",
       "      <td>0</td>\n",
       "      <td>3.2</td>\n",
       "      <td>0</td>\n",
       "      <td>0</td>\n",
       "      <td>0</td>\n",
       "    </tr>\n",
       "    <tr>\n",
       "      <th>349</th>\n",
       "      <td>350</td>\n",
       "      <td>0.00</td>\n",
       "      <td>0.29</td>\n",
       "      <td>0.629496</td>\n",
       "      <td>1.0</td>\n",
       "      <td>1.0</td>\n",
       "      <td>0.0</td>\n",
       "      <td>0</td>\n",
       "      <td>0.0</td>\n",
       "      <td>0</td>\n",
       "      <td>3.1</td>\n",
       "      <td>0</td>\n",
       "      <td>0</td>\n",
       "      <td>0</td>\n",
       "    </tr>\n",
       "    <tr>\n",
       "      <th>1179</th>\n",
       "      <td>1180</td>\n",
       "      <td>0.24</td>\n",
       "      <td>0.26</td>\n",
       "      <td>0.495979</td>\n",
       "      <td>3.0</td>\n",
       "      <td>1.0</td>\n",
       "      <td>0.0</td>\n",
       "      <td>0</td>\n",
       "      <td>0.0</td>\n",
       "      <td>0</td>\n",
       "      <td>3.6</td>\n",
       "      <td>0</td>\n",
       "      <td>0</td>\n",
       "      <td>1</td>\n",
       "    </tr>\n",
       "    <tr>\n",
       "      <th>1477</th>\n",
       "      <td>1478</td>\n",
       "      <td>0.30</td>\n",
       "      <td>0.33</td>\n",
       "      <td>0.923567</td>\n",
       "      <td>1.0</td>\n",
       "      <td>2.0</td>\n",
       "      <td>0.0</td>\n",
       "      <td>0</td>\n",
       "      <td>0.0</td>\n",
       "      <td>1</td>\n",
       "      <td>3.1</td>\n",
       "      <td>0</td>\n",
       "      <td>0</td>\n",
       "      <td>0</td>\n",
       "    </tr>\n",
       "    <tr>\n",
       "      <th>1926</th>\n",
       "      <td>1927</td>\n",
       "      <td>0.24</td>\n",
       "      <td>0.29</td>\n",
       "      <td>0.810000</td>\n",
       "      <td>1.0</td>\n",
       "      <td>2.0</td>\n",
       "      <td>0.0</td>\n",
       "      <td>0</td>\n",
       "      <td>0.0</td>\n",
       "      <td>0</td>\n",
       "      <td>3.9</td>\n",
       "      <td>0</td>\n",
       "      <td>0</td>\n",
       "      <td>0</td>\n",
       "    </tr>\n",
       "  </tbody>\n",
       "</table>\n",
       "</div>"
      ],
      "text/plain": [
       "      Unnamed: 0   dir   hir       lvr  ccs  mcs  pbcr  dmi  self  single  \\\n",
       "289          290  0.28  0.33  0.628571  1.0  2.0   1.0    0   0.0       0   \n",
       "349          350  0.00  0.29  0.629496  1.0  1.0   0.0    0   0.0       0   \n",
       "1179        1180  0.24  0.26  0.495979  3.0  1.0   0.0    0   0.0       0   \n",
       "1477        1478  0.30  0.33  0.923567  1.0  2.0   0.0    0   0.0       1   \n",
       "1926        1927  0.24  0.29  0.810000  1.0  2.0   0.0    0   0.0       0   \n",
       "\n",
       "      uria  comdominiom  black  deny  \n",
       "289    3.2            0      0     0  \n",
       "349    3.1            0      0     0  \n",
       "1179   3.6            0      0     1  \n",
       "1477   3.1            0      0     0  \n",
       "1926   3.9            0      0     0  "
      ]
     },
     "execution_count": 15,
     "metadata": {},
     "output_type": "execute_result"
    }
   ],
   "source": [
    "df[df.hir > df.dir]"
   ]
  },
  {
   "cell_type": "markdown",
   "metadata": {},
   "source": [
    "We have 4 rows where the housing expenses are less than the debt payments. The predicate is true for the other 2,000 + rows. "
   ]
  },
  {
   "cell_type": "markdown",
   "metadata": {},
   "source": [
    "One noteworthy fact about these rows is that the hir and dir is very low. I don't think we should generalize anything from this and it's possible the ratio is so small it doesn't really mean anything for us. "
   ]
  },
  {
   "cell_type": "markdown",
   "metadata": {},
   "source": [
    "One thing we should definetly check at this point though is for correlations. Since hr and dir are both ratios to income, we should be wary that they are correlated. "
   ]
  },
  {
   "cell_type": "markdown",
   "metadata": {},
   "source": [
    "A key point is that we shouldn't be using logistic regression if we have multicollinearity. We also need to be alert for linear relationships that we can use as input to our model.\n",
    "\n",
    "The pearson coefficient tells us how one variable relates to another. This graph can help us find strong relationships but this isn't the perfect metric.\n",
    "\n",
    "We really should be using the spearman correlation as we have ordinal variables. We can use this graph though to see the relationship between dir and hir."
   ]
  },
  {
   "cell_type": "code",
   "execution_count": 16,
   "metadata": {},
   "outputs": [
    {
     "data": {
      "text/plain": [
       "<matplotlib.axes._subplots.AxesSubplot at 0x28d64c88160>"
      ]
     },
     "execution_count": 16,
     "metadata": {},
     "output_type": "execute_result"
    },
    {
     "data": {
      "image/png": "[encoded data removed]",
      "text/plain": [
       "<Figure size 432x288 with 2 Axes>"
      ]
     },
     "metadata": {
      "needs_background": "light"
     },
     "output_type": "display_data"
    }
   ],
   "source": [
    "import seaborn as sns\n",
    "corr = df.corr()\n",
    "\n",
    "sns.heatmap(corr, \n",
    "        xticklabels=corr.columns,\n",
    "        yticklabels=corr.columns,\n",
    "        cmap=\"YlGnBu\")"
   ]
  },
  {
   "cell_type": "markdown",
   "metadata": {},
   "source": [
    "We definetly see the correlation between dir and hir. \n",
    "We also need to be wary of some other correlations when we create our logistic models. \n",
    "\n",
    "1. pbcr and ccs have a mid - strong correlation\n",
    "2. whether a person has a condo is related to if they are single or black. \n",
    "3. ccr has a relationship with being black. \n",
    "\n",
    "We will focus on our target variable for our eda \n"
   ]
  },
  {
   "cell_type": "code",
   "execution_count": 17,
   "metadata": {},
   "outputs": [
    {
     "data": {
      "text/html": [
       "<div>\n",
       "<style scoped>\n",
       "    .dataframe tbody tr th:only-of-type {\n",
       "        vertical-align: middle;\n",
       "    }\n",
       "\n",
       "    .dataframe tbody tr th {\n",
       "        vertical-align: top;\n",
       "    }\n",
       "\n",
       "    .dataframe thead th {\n",
       "        text-align: right;\n",
       "    }\n",
       "</style>\n",
       "<table border=\"1\" class=\"dataframe\">\n",
       "  <thead>\n",
       "    <tr style=\"text-align: right;\">\n",
       "      <th></th>\n",
       "      <th>Unnamed: 0</th>\n",
       "      <th>dir</th>\n",
       "      <th>hir</th>\n",
       "      <th>lvr</th>\n",
       "      <th>ccs</th>\n",
       "      <th>mcs</th>\n",
       "      <th>pbcr</th>\n",
       "      <th>dmi</th>\n",
       "      <th>self</th>\n",
       "      <th>single</th>\n",
       "      <th>uria</th>\n",
       "      <th>comdominiom</th>\n",
       "      <th>black</th>\n",
       "      <th>deny</th>\n",
       "    </tr>\n",
       "  </thead>\n",
       "  <tbody>\n",
       "    <tr>\n",
       "      <th>Unnamed: 0</th>\n",
       "      <td>1.000000</td>\n",
       "      <td>0.032786</td>\n",
       "      <td>-0.015561</td>\n",
       "      <td>0.084176</td>\n",
       "      <td>0.027371</td>\n",
       "      <td>-0.011367</td>\n",
       "      <td>0.075379</td>\n",
       "      <td>-0.061510</td>\n",
       "      <td>-0.028308</td>\n",
       "      <td>-0.008993</td>\n",
       "      <td>-0.032967</td>\n",
       "      <td>0.085297</td>\n",
       "      <td>0.002128</td>\n",
       "      <td>0.017653</td>\n",
       "    </tr>\n",
       "    <tr>\n",
       "      <th>dir</th>\n",
       "      <td>0.032786</td>\n",
       "      <td>1.000000</td>\n",
       "      <td>0.549744</td>\n",
       "      <td>0.210652</td>\n",
       "      <td>0.096472</td>\n",
       "      <td>0.031292</td>\n",
       "      <td>0.105434</td>\n",
       "      <td>0.066570</td>\n",
       "      <td>-0.025903</td>\n",
       "      <td>0.023562</td>\n",
       "      <td>0.008979</td>\n",
       "      <td>-0.005560</td>\n",
       "      <td>0.117893</td>\n",
       "      <td>0.168131</td>\n",
       "    </tr>\n",
       "    <tr>\n",
       "      <th>hir</th>\n",
       "      <td>-0.015561</td>\n",
       "      <td>0.549744</td>\n",
       "      <td>1.000000</td>\n",
       "      <td>0.151541</td>\n",
       "      <td>-0.011548</td>\n",
       "      <td>0.127049</td>\n",
       "      <td>0.042290</td>\n",
       "      <td>0.020150</td>\n",
       "      <td>-0.084985</td>\n",
       "      <td>0.083164</td>\n",
       "      <td>0.011731</td>\n",
       "      <td>-0.047787</td>\n",
       "      <td>0.073469</td>\n",
       "      <td>0.089285</td>\n",
       "    </tr>\n",
       "    <tr>\n",
       "      <th>lvr</th>\n",
       "      <td>0.084176</td>\n",
       "      <td>0.210652</td>\n",
       "      <td>0.151541</td>\n",
       "      <td>1.000000</td>\n",
       "      <td>0.103254</td>\n",
       "      <td>0.235034</td>\n",
       "      <td>0.118545</td>\n",
       "      <td>0.124437</td>\n",
       "      <td>-0.090851</td>\n",
       "      <td>0.044693</td>\n",
       "      <td>-0.003935</td>\n",
       "      <td>0.053023</td>\n",
       "      <td>0.192415</td>\n",
       "      <td>0.183613</td>\n",
       "    </tr>\n",
       "    <tr>\n",
       "      <th>ccs</th>\n",
       "      <td>0.027371</td>\n",
       "      <td>0.096472</td>\n",
       "      <td>-0.011548</td>\n",
       "      <td>0.103254</td>\n",
       "      <td>1.000000</td>\n",
       "      <td>0.106372</td>\n",
       "      <td>0.253992</td>\n",
       "      <td>0.050688</td>\n",
       "      <td>0.002065</td>\n",
       "      <td>0.009217</td>\n",
       "      <td>0.017726</td>\n",
       "      <td>0.017933</td>\n",
       "      <td>0.199460</td>\n",
       "      <td>0.244121</td>\n",
       "    </tr>\n",
       "    <tr>\n",
       "      <th>mcs</th>\n",
       "      <td>-0.011367</td>\n",
       "      <td>0.031292</td>\n",
       "      <td>0.127049</td>\n",
       "      <td>0.235034</td>\n",
       "      <td>0.106372</td>\n",
       "      <td>1.000000</td>\n",
       "      <td>0.043000</td>\n",
       "      <td>0.048338</td>\n",
       "      <td>-0.083617</td>\n",
       "      <td>0.188779</td>\n",
       "      <td>0.036777</td>\n",
       "      <td>0.108531</td>\n",
       "      <td>0.133848</td>\n",
       "      <td>0.108770</td>\n",
       "    </tr>\n",
       "    <tr>\n",
       "      <th>pbcr</th>\n",
       "      <td>0.075379</td>\n",
       "      <td>0.105434</td>\n",
       "      <td>0.042290</td>\n",
       "      <td>0.118545</td>\n",
       "      <td>0.253992</td>\n",
       "      <td>0.043000</td>\n",
       "      <td>1.000000</td>\n",
       "      <td>0.085057</td>\n",
       "      <td>0.033126</td>\n",
       "      <td>0.002572</td>\n",
       "      <td>0.014627</td>\n",
       "      <td>0.029302</td>\n",
       "      <td>0.160396</td>\n",
       "      <td>0.271491</td>\n",
       "    </tr>\n",
       "    <tr>\n",
       "      <th>dmi</th>\n",
       "      <td>-0.061510</td>\n",
       "      <td>0.066570</td>\n",
       "      <td>0.020150</td>\n",
       "      <td>0.124437</td>\n",
       "      <td>0.050688</td>\n",
       "      <td>0.048338</td>\n",
       "      <td>0.085057</td>\n",
       "      <td>1.000000</td>\n",
       "      <td>-0.014945</td>\n",
       "      <td>0.019026</td>\n",
       "      <td>0.028588</td>\n",
       "      <td>-0.005473</td>\n",
       "      <td>0.086936</td>\n",
       "      <td>0.352165</td>\n",
       "    </tr>\n",
       "    <tr>\n",
       "      <th>self</th>\n",
       "      <td>-0.028308</td>\n",
       "      <td>-0.025903</td>\n",
       "      <td>-0.084985</td>\n",
       "      <td>-0.090851</td>\n",
       "      <td>0.002065</td>\n",
       "      <td>-0.083617</td>\n",
       "      <td>0.033126</td>\n",
       "      <td>-0.014945</td>\n",
       "      <td>1.000000</td>\n",
       "      <td>-0.022293</td>\n",
       "      <td>0.117998</td>\n",
       "      <td>-0.032125</td>\n",
       "      <td>-0.054610</td>\n",
       "      <td>0.051186</td>\n",
       "    </tr>\n",
       "    <tr>\n",
       "      <th>single</th>\n",
       "      <td>-0.008993</td>\n",
       "      <td>0.023562</td>\n",
       "      <td>0.083164</td>\n",
       "      <td>0.044693</td>\n",
       "      <td>0.009217</td>\n",
       "      <td>0.188779</td>\n",
       "      <td>0.002572</td>\n",
       "      <td>0.019026</td>\n",
       "      <td>-0.022293</td>\n",
       "      <td>1.000000</td>\n",
       "      <td>-0.028309</td>\n",
       "      <td>0.298099</td>\n",
       "      <td>0.102328</td>\n",
       "      <td>0.076389</td>\n",
       "    </tr>\n",
       "    <tr>\n",
       "      <th>uria</th>\n",
       "      <td>-0.032967</td>\n",
       "      <td>0.008979</td>\n",
       "      <td>0.011731</td>\n",
       "      <td>-0.003935</td>\n",
       "      <td>0.017726</td>\n",
       "      <td>0.036777</td>\n",
       "      <td>0.014627</td>\n",
       "      <td>0.028588</td>\n",
       "      <td>0.117998</td>\n",
       "      <td>-0.028309</td>\n",
       "      <td>1.000000</td>\n",
       "      <td>-0.056126</td>\n",
       "      <td>-0.023953</td>\n",
       "      <td>0.053347</td>\n",
       "    </tr>\n",
       "    <tr>\n",
       "      <th>comdominiom</th>\n",
       "      <td>0.085297</td>\n",
       "      <td>-0.005560</td>\n",
       "      <td>-0.047787</td>\n",
       "      <td>0.053023</td>\n",
       "      <td>0.017933</td>\n",
       "      <td>0.108531</td>\n",
       "      <td>0.029302</td>\n",
       "      <td>-0.005473</td>\n",
       "      <td>-0.032125</td>\n",
       "      <td>0.298099</td>\n",
       "      <td>-0.056126</td>\n",
       "      <td>1.000000</td>\n",
       "      <td>0.183993</td>\n",
       "      <td>0.039675</td>\n",
       "    </tr>\n",
       "    <tr>\n",
       "      <th>black</th>\n",
       "      <td>0.002128</td>\n",
       "      <td>0.117893</td>\n",
       "      <td>0.073469</td>\n",
       "      <td>0.192415</td>\n",
       "      <td>0.199460</td>\n",
       "      <td>0.133848</td>\n",
       "      <td>0.160396</td>\n",
       "      <td>0.086936</td>\n",
       "      <td>-0.054610</td>\n",
       "      <td>0.102328</td>\n",
       "      <td>-0.023953</td>\n",
       "      <td>0.183993</td>\n",
       "      <td>1.000000</td>\n",
       "      <td>0.205211</td>\n",
       "    </tr>\n",
       "    <tr>\n",
       "      <th>deny</th>\n",
       "      <td>0.017653</td>\n",
       "      <td>0.168131</td>\n",
       "      <td>0.089285</td>\n",
       "      <td>0.183613</td>\n",
       "      <td>0.244121</td>\n",
       "      <td>0.108770</td>\n",
       "      <td>0.271491</td>\n",
       "      <td>0.352165</td>\n",
       "      <td>0.051186</td>\n",
       "      <td>0.076389</td>\n",
       "      <td>0.053347</td>\n",
       "      <td>0.039675</td>\n",
       "      <td>0.205211</td>\n",
       "      <td>1.000000</td>\n",
       "    </tr>\n",
       "  </tbody>\n",
       "</table>\n",
       "</div>"
      ],
      "text/plain": [
       "             Unnamed: 0       dir       hir       lvr       ccs       mcs  \\\n",
       "Unnamed: 0     1.000000  0.032786 -0.015561  0.084176  0.027371 -0.011367   \n",
       "dir            0.032786  1.000000  0.549744  0.210652  0.096472  0.031292   \n",
       "hir           -0.015561  0.549744  1.000000  0.151541 -0.011548  0.127049   \n",
       "lvr            0.084176  0.210652  0.151541  1.000000  0.103254  0.235034   \n",
       "ccs            0.027371  0.096472 -0.011548  0.103254  1.000000  0.106372   \n",
       "mcs           -0.011367  0.031292  0.127049  0.235034  0.106372  1.000000   \n",
       "pbcr           0.075379  0.105434  0.042290  0.118545  0.253992  0.043000   \n",
       "dmi           -0.061510  0.066570  0.020150  0.124437  0.050688  0.048338   \n",
       "self          -0.028308 -0.025903 -0.084985 -0.090851  0.002065 -0.083617   \n",
       "single        -0.008993  0.023562  0.083164  0.044693  0.009217  0.188779   \n",
       "uria          -0.032967  0.008979  0.011731 -0.003935  0.017726  0.036777   \n",
       "comdominiom    0.085297 -0.005560 -0.047787  0.053023  0.017933  0.108531   \n",
       "black          0.002128  0.117893  0.073469  0.192415  0.199460  0.133848   \n",
       "deny           0.017653  0.168131  0.089285  0.183613  0.244121  0.108770   \n",
       "\n",
       "                 pbcr       dmi      self    single      uria  comdominiom  \\\n",
       "Unnamed: 0   0.075379 -0.061510 -0.028308 -0.008993 -0.032967     0.085297   \n",
       "dir          0.105434  0.066570 -0.025903  0.023562  0.008979    -0.005560   \n",
       "hir          0.042290  0.020150 -0.084985  0.083164  0.011731    -0.047787   \n",
       "lvr          0.118545  0.124437 -0.090851  0.044693 -0.003935     0.053023   \n",
       "ccs          0.253992  0.050688  0.002065  0.009217  0.017726     0.017933   \n",
       "mcs          0.043000  0.048338 -0.083617  0.188779  0.036777     0.108531   \n",
       "pbcr         1.000000  0.085057  0.033126  0.002572  0.014627     0.029302   \n",
       "dmi          0.085057  1.000000 -0.014945  0.019026  0.028588    -0.005473   \n",
       "self         0.033126 -0.014945  1.000000 -0.022293  0.117998    -0.032125   \n",
       "single       0.002572  0.019026 -0.022293  1.000000 -0.028309     0.298099   \n",
       "uria         0.014627  0.028588  0.117998 -0.028309  1.000000    -0.056126   \n",
       "comdominiom  0.029302 -0.005473 -0.032125  0.298099 -0.056126     1.000000   \n",
       "black        0.160396  0.086936 -0.054610  0.102328 -0.023953     0.183993   \n",
       "deny         0.271491  0.352165  0.051186  0.076389  0.053347     0.039675   \n",
       "\n",
       "                black      deny  \n",
       "Unnamed: 0   0.002128  0.017653  \n",
       "dir          0.117893  0.168131  \n",
       "hir          0.073469  0.089285  \n",
       "lvr          0.192415  0.183613  \n",
       "ccs          0.199460  0.244121  \n",
       "mcs          0.133848  0.108770  \n",
       "pbcr         0.160396  0.271491  \n",
       "dmi          0.086936  0.352165  \n",
       "self        -0.054610  0.051186  \n",
       "single       0.102328  0.076389  \n",
       "uria        -0.023953  0.053347  \n",
       "comdominiom  0.183993  0.039675  \n",
       "black        1.000000  0.205211  \n",
       "deny         0.205211  1.000000  "
      ]
     },
     "execution_count": 17,
     "metadata": {},
     "output_type": "execute_result"
    }
   ],
   "source": [
    "#For reference, here are spearman scores \n",
    "from scipy import stats\n",
    "spear = pd.DataFrame(stats.spearmanr(df)[0], columns = df.columns, index = df.columns)\n",
    "spear"
   ]
  },
  {
   "cell_type": "code",
   "execution_count": 18,
   "metadata": {},
   "outputs": [
    {
     "data": {
      "text/plain": [
       "<matplotlib.axes._subplots.AxesSubplot at 0x28d627e9f60>"
      ]
     },
     "execution_count": 18,
     "metadata": {},
     "output_type": "execute_result"
    },
    {
     "data": {
      "image/png": "[encoded data removed]",
      "text/plain": [
       "<Figure size 432x288 with 2 Axes>"
      ]
     },
     "metadata": {
      "needs_background": "light"
     },
     "output_type": "display_data"
    }
   ],
   "source": [
    "sns.heatmap(spear, \n",
    "        xticklabels=spear.columns,\n",
    "        yticklabels=spear.columns,\n",
    "        cmap=\"YlGnBu\")"
   ]
  },
  {
   "cell_type": "markdown",
   "metadata": {},
   "source": [
    "We should be using our spearman coef for our ordinal data. Our correlations with this metric are slightly different but the overall we see the same trends as we did with the r2 scores."
   ]
  },
  {
   "cell_type": "code",
   "execution_count": 19,
   "metadata": {},
   "outputs": [
    {
     "data": {
      "text/plain": [
       "Unnamed: 0     0.017653\n",
       "comdominiom    0.039675\n",
       "self           0.051186\n",
       "uria           0.053347\n",
       "single         0.076389\n",
       "hir            0.089285\n",
       "mcs            0.108770\n",
       "dir            0.168131\n",
       "lvr            0.183613\n",
       "black          0.205211\n",
       "ccs            0.244121\n",
       "pbcr           0.271491\n",
       "dmi            0.352165\n",
       "deny           1.000000\n",
       "Name: deny, dtype: float64"
      ]
     },
     "execution_count": 19,
     "metadata": {},
     "output_type": "execute_result"
    }
   ],
   "source": [
    "spear.deny.sort_values()"
   ]
  },
  {
   "cell_type": "markdown",
   "metadata": {},
   "source": [
    "Here we are going to focus on our target variable, We see that all our correlations are positive. The strongest correlation we have is with dmi, denied mortgage insurance. This correlation though is slightly suspicious. Recall the distribution for dmi..."
   ]
  },
  {
   "cell_type": "code",
   "execution_count": 20,
   "metadata": {},
   "outputs": [
    {
     "data": {
      "text/plain": [
       "<matplotlib.axes._subplots.AxesSubplot at 0x28d64e1f5c0>"
      ]
     },
     "execution_count": 20,
     "metadata": {},
     "output_type": "execute_result"
    },
    {
     "data": {
      "image/png": "[encoded data removed]",
      "text/plain": [
       "<Figure size 432x288 with 1 Axes>"
      ]
     },
     "metadata": {
      "needs_background": "light"
     },
     "output_type": "display_data"
    }
   ],
   "source": [
    "df.dmi.hist()"
   ]
  },
  {
   "cell_type": "markdown",
   "metadata": {},
   "source": [
    "This is a straight binomial variable and almost all the values are 0. "
   ]
  },
  {
   "cell_type": "markdown",
   "metadata": {},
   "source": [
    "Let's look at the rows with 1."
   ]
  },
  {
   "cell_type": "code",
   "execution_count": 21,
   "metadata": {},
   "outputs": [],
   "source": [
    "dmiIs1 = df[df.dmi == 1]"
   ]
  },
  {
   "cell_type": "code",
   "execution_count": 22,
   "metadata": {},
   "outputs": [
    {
     "data": {
      "text/plain": [
       "48"
      ]
     },
     "execution_count": 22,
     "metadata": {},
     "output_type": "execute_result"
    }
   ],
   "source": [
    "len(dmiIs1)"
   ]
  },
  {
   "cell_type": "markdown",
   "metadata": {},
   "source": [
    "Only 48 rows of our 2381 values have nulls. "
   ]
  },
  {
   "cell_type": "code",
   "execution_count": 23,
   "metadata": {},
   "outputs": [
    {
     "data": {
      "text/plain": [
       "0.9166666666666666"
      ]
     },
     "execution_count": 23,
     "metadata": {},
     "output_type": "execute_result"
    }
   ],
   "source": [
    "dmiIs1.deny.mean()"
   ]
  },
  {
   "cell_type": "markdown",
   "metadata": {},
   "source": [
    "This tells us that 91 percent of the people who had their mortgage insurance denied had their application denied. Although we only have 48 rows, and it will be hard to prove this is significant, this shows that this feature is really important. "
   ]
  },
  {
   "cell_type": "markdown",
   "metadata": {},
   "source": [
    "The r2 value from the correlation matrix is slightly misleading since only the values with 1 help us explain the variance and when this value is 0 we don't really know anything about "
   ]
  },
  {
   "cell_type": "markdown",
   "metadata": {},
   "source": [
    "In some ways this feature is slightly leaky because if we know that that the mortgage insurance was denied, the mortgage itself would probably be denied."
   ]
  },
  {
   "cell_type": "markdown",
   "metadata": {},
   "source": [
    "Let's continue looking at our correlations and other distributions."
   ]
  },
  {
   "cell_type": "code",
   "execution_count": 24,
   "metadata": {},
   "outputs": [
    {
     "data": {
      "text/plain": [
       "Unnamed: 0     0.017653\n",
       "comdominiom    0.039675\n",
       "self           0.051186\n",
       "uria           0.053347\n",
       "single         0.076389\n",
       "hir            0.089285\n",
       "mcs            0.108770\n",
       "dir            0.168131\n",
       "lvr            0.183613\n",
       "black          0.205211\n",
       "ccs            0.244121\n",
       "pbcr           0.271491\n",
       "dmi            0.352165\n",
       "deny           1.000000\n",
       "Name: deny, dtype: float64"
      ]
     },
     "execution_count": 24,
     "metadata": {},
     "output_type": "execute_result"
    }
   ],
   "source": [
    "spear.deny.sort_values()"
   ]
  },
  {
   "cell_type": "markdown",
   "metadata": {},
   "source": [
    "The next highest correlation was pbcr. "
   ]
  },
  {
   "cell_type": "code",
   "execution_count": 25,
   "metadata": {},
   "outputs": [
    {
     "data": {
      "text/plain": [
       "<matplotlib.axes._subplots.AxesSubplot at 0x28d64e93f60>"
      ]
     },
     "execution_count": 25,
     "metadata": {},
     "output_type": "execute_result"
    },
    {
     "data": {
      "image/png": "[encoded data removed]",
      "text/plain": [
       "<Figure size 432x288 with 1 Axes>"
      ]
     },
     "metadata": {
      "needs_background": "light"
     },
     "output_type": "display_data"
    }
   ],
   "source": [
    "df.pbcr.hist()"
   ]
  },
  {
   "cell_type": "markdown",
   "metadata": {},
   "source": [
    "We see a simmilar distibution to dmi, just here a few more rows are 1. "
   ]
  },
  {
   "cell_type": "code",
   "execution_count": 26,
   "metadata": {},
   "outputs": [
    {
     "data": {
      "text/plain": [
       "175"
      ]
     },
     "execution_count": 26,
     "metadata": {},
     "output_type": "execute_result"
    }
   ],
   "source": [
    "pbcrIs1 = df[df.pbcr == 1]\n",
    "pbcrIsNot = df[df.pbcr == 0]\n",
    "\n",
    "len(pbcrIs1)"
   ]
  },
  {
   "cell_type": "code",
   "execution_count": 27,
   "metadata": {},
   "outputs": [
    {
     "data": {
      "text/plain": [
       "0.4342857142857143"
      ]
     },
     "execution_count": 27,
     "metadata": {},
     "output_type": "execute_result"
    }
   ],
   "source": [
    "pbcrIs1.deny.mean() #the probability that will be denied, given pbcr is 1"
   ]
  },
  {
   "cell_type": "code",
   "execution_count": 28,
   "metadata": {},
   "outputs": [
    {
     "data": {
      "text/plain": [
       "0.09478458049886622"
      ]
     },
     "execution_count": 28,
     "metadata": {},
     "output_type": "execute_result"
    }
   ],
   "source": [
    "pbcrIsNot.deny.mean()"
   ]
  },
  {
   "cell_type": "markdown",
   "metadata": {},
   "source": [
    "We see that the probability that a mortage will be denied is higher if they have a bad public rating. As we explained at the start, this intuitively makes sense."
   ]
  },
  {
   "cell_type": "markdown",
   "metadata": {},
   "source": [
    "Let's compare this to what the baseline is..."
   ]
  },
  {
   "cell_type": "code",
   "execution_count": 29,
   "metadata": {},
   "outputs": [
    {
     "data": {
      "text/plain": [
       "0.11969760604787905"
      ]
     },
     "execution_count": 29,
     "metadata": {},
     "output_type": "execute_result"
    }
   ],
   "source": [
    "df.deny.mean()"
   ]
  },
  {
   "cell_type": "markdown",
   "metadata": {},
   "source": [
    "There definitely is at least some difference in the mean based on whether the person has a bad credit rating. "
   ]
  },
  {
   "cell_type": "markdown",
   "metadata": {},
   "source": [
    "The next highest correlation we need to look it is ccs."
   ]
  },
  {
   "cell_type": "code",
   "execution_count": 30,
   "metadata": {},
   "outputs": [
    {
     "data": {
      "text/plain": [
       "<matplotlib.axes._subplots.AxesSubplot at 0x28d64f1e5f8>"
      ]
     },
     "execution_count": 30,
     "metadata": {},
     "output_type": "execute_result"
    },
    {
     "data": {
      "image/png": "[encoded data removed]",
      "text/plain": [
       "<Figure size 432x288 with 1 Axes>"
      ]
     },
     "metadata": {
      "needs_background": "light"
     },
     "output_type": "display_data"
    }
   ],
   "source": [
    "df.ccs.hist()"
   ]
  },
  {
   "cell_type": "markdown",
   "metadata": {},
   "source": [
    "Once again most of the values are 1 and a few are high. We are starting to notice the trend, that the outliers are what is telling us if the mortage was accepted or denied."
   ]
  },
  {
   "cell_type": "code",
   "execution_count": 31,
   "metadata": {},
   "outputs": [],
   "source": [
    "highccs = df[df.ccs > 1]"
   ]
  },
  {
   "cell_type": "code",
   "execution_count": 32,
   "metadata": {},
   "outputs": [
    {
     "data": {
      "text/plain": [
       "0.19552529182879377"
      ]
     },
     "execution_count": 32,
     "metadata": {},
     "output_type": "execute_result"
    }
   ],
   "source": [
    "highccs.deny.mean()"
   ]
  },
  {
   "cell_type": "markdown",
   "metadata": {},
   "source": [
    "We see that the probability that a morgage is denied is higher when the mortgage rating is lower. .19 is almost 2x the baseline .1 percent of denies. "
   ]
  },
  {
   "cell_type": "code",
   "execution_count": 33,
   "metadata": {},
   "outputs": [
    {
     "data": {
      "text/plain": [
       "0.2555366269165247"
      ]
     },
     "execution_count": 33,
     "metadata": {},
     "output_type": "execute_result"
    }
   ],
   "source": [
    "highccs = df[df.ccs > 2]\n",
    "highccs.deny.mean()"
   ]
  },
  {
   "cell_type": "markdown",
   "metadata": {},
   "source": [
    "And the higher the ccs, the higher the chance there is a deny. "
   ]
  },
  {
   "cell_type": "markdown",
   "metadata": {},
   "source": [
    "Note: These relationships actually are positive because I defined a deny as being a 1 and a lower ccs implies greater credibility. Thus the higher the ccs, ie - the less credibility the person has, the greater the chance of a deny. "
   ]
  },
  {
   "cell_type": "code",
   "execution_count": null,
   "metadata": {},
   "outputs": [],
   "source": []
  },
  {
   "cell_type": "code",
   "execution_count": null,
   "metadata": {},
   "outputs": [],
   "source": []
  },
  {
   "cell_type": "markdown",
   "metadata": {},
   "source": [
    "Let's look at blacks."
   ]
  },
  {
   "cell_type": "code",
   "execution_count": 34,
   "metadata": {},
   "outputs": [
    {
     "data": {
      "text/plain": [
       "339"
      ]
     },
     "execution_count": 34,
     "metadata": {},
     "output_type": "execute_result"
    }
   ],
   "source": [
    "variable_representing_black_skinned_people = df[df.black == 1]\n",
    "len(variable_representing_black_skinned_people)\n"
   ]
  },
  {
   "cell_type": "code",
   "execution_count": 35,
   "metadata": {},
   "outputs": [
    {
     "data": {
      "text/plain": [
       "0.2831858407079646"
      ]
     },
     "execution_count": 35,
     "metadata": {},
     "output_type": "execute_result"
    }
   ],
   "source": [
    "variable_representing_black_skinned_people.deny.mean()"
   ]
  },
  {
   "cell_type": "markdown",
   "metadata": {},
   "source": [
    "This also is much higher than our base .1 rate."
   ]
  },
  {
   "cell_type": "markdown",
   "metadata": {},
   "source": [
    "The next highest correlation is with dir which we already looked at. The highest after that is lvr."
   ]
  },
  {
   "cell_type": "code",
   "execution_count": 36,
   "metadata": {},
   "outputs": [
    {
     "data": {
      "text/plain": [
       "<matplotlib.axes._subplots.AxesSubplot at 0x28d64f9a390>"
      ]
     },
     "execution_count": 36,
     "metadata": {},
     "output_type": "execute_result"
    },
    {
     "data": {
      "image/png": "[encoded data removed]",
      "text/plain": [
       "<Figure size 432x288 with 1 Axes>"
      ]
     },
     "metadata": {
      "needs_background": "light"
     },
     "output_type": "display_data"
    }
   ],
   "source": [
    "df.lvr.hist()"
   ]
  },
  {
   "cell_type": "markdown",
   "metadata": {},
   "source": [
    "Recall lvr is the ratio of the loan to property value. A lower lvr should in theory indicate the loan is small and therefore the mortgage should be accepted. Let's see if this is true."
   ]
  },
  {
   "cell_type": "markdown",
   "metadata": {},
   "source": [
    "It is also somewhat surprising that we could have a value above 1. \n",
    "\n",
    "From reading this article https://budgeting.thenest.com/can-apply-home-loan-larger-house-purchase-20988.html we see that indeed there is a cap to the max loan; only around a max of 75-95 percent of the property value normally can be loaned, however there are exceptions with negative equity loans where lenders let people take out more money. \n",
    "\n",
    "This is supported by our graph. We see that the graph comes to a sharp peak somewhere between this 75-95 percent and then drops off. We shouldn't per say think this is bad data since as that article mentions there are exceptions. "
   ]
  },
  {
   "cell_type": "code",
   "execution_count": 37,
   "metadata": {},
   "outputs": [],
   "source": [
    "highLvr = df[df.lvr > 1]"
   ]
  },
  {
   "cell_type": "code",
   "execution_count": 38,
   "metadata": {},
   "outputs": [
    {
     "data": {
      "text/plain": [
       "<matplotlib.collections.PathCollection at 0x28d65060860>"
      ]
     },
     "execution_count": 38,
     "metadata": {},
     "output_type": "execute_result"
    },
    {
     "data": {
      "image/png": "[encoded data removed]",
      "text/plain": [
       "<Figure size 432x288 with 1 Axes>"
      ]
     },
     "metadata": {
      "needs_background": "light"
     },
     "output_type": "display_data"
    }
   ],
   "source": [
    "plt.scatter(df.lvr, df.deny, alpha = .05)"
   ]
  },
  {
   "cell_type": "markdown",
   "metadata": {},
   "source": [
    "This is what a scatterplot of lvr on the x axis to deny on the y axis. It definetly appears that the points at the top of the graph with y =1 (ie - they were denied), are further to the right, indicating that higher lvr's, that is higher loans, are more likely to be denied. "
   ]
  },
  {
   "cell_type": "markdown",
   "metadata": {},
   "source": [
    "The last few variables we should look at are condo, uria, self, and single.  "
   ]
  },
  {
   "cell_type": "code",
   "execution_count": 39,
   "metadata": {},
   "outputs": [
    {
     "data": {
      "text/html": [
       "<div>\n",
       "<style scoped>\n",
       "    .dataframe tbody tr th:only-of-type {\n",
       "        vertical-align: middle;\n",
       "    }\n",
       "\n",
       "    .dataframe tbody tr th {\n",
       "        vertical-align: top;\n",
       "    }\n",
       "\n",
       "    .dataframe thead th {\n",
       "        text-align: right;\n",
       "    }\n",
       "</style>\n",
       "<table border=\"1\" class=\"dataframe\">\n",
       "  <thead>\n",
       "    <tr style=\"text-align: right;\">\n",
       "      <th></th>\n",
       "      <th>Unnamed: 0</th>\n",
       "      <th>dir</th>\n",
       "      <th>hir</th>\n",
       "      <th>lvr</th>\n",
       "      <th>ccs</th>\n",
       "      <th>mcs</th>\n",
       "      <th>pbcr</th>\n",
       "      <th>dmi</th>\n",
       "      <th>self</th>\n",
       "      <th>single</th>\n",
       "      <th>uria</th>\n",
       "      <th>black</th>\n",
       "      <th>deny</th>\n",
       "    </tr>\n",
       "    <tr>\n",
       "      <th>comdominiom</th>\n",
       "      <th></th>\n",
       "      <th></th>\n",
       "      <th></th>\n",
       "      <th></th>\n",
       "      <th></th>\n",
       "      <th></th>\n",
       "      <th></th>\n",
       "      <th></th>\n",
       "      <th></th>\n",
       "      <th></th>\n",
       "      <th></th>\n",
       "      <th></th>\n",
       "      <th></th>\n",
       "    </tr>\n",
       "  </thead>\n",
       "  <tbody>\n",
       "    <tr>\n",
       "      <th>0</th>\n",
       "      <td>1153.702655</td>\n",
       "      <td>0.331663</td>\n",
       "      <td>0.258176</td>\n",
       "      <td>0.731508</td>\n",
       "      <td>2.062606</td>\n",
       "      <td>1.690101</td>\n",
       "      <td>0.068477</td>\n",
       "      <td>0.020649</td>\n",
       "      <td>0.122786</td>\n",
       "      <td>0.300885</td>\n",
       "      <td>3.904233</td>\n",
       "      <td>0.101475</td>\n",
       "      <td>0.111504</td>\n",
       "    </tr>\n",
       "    <tr>\n",
       "      <th>1</th>\n",
       "      <td>1283.155977</td>\n",
       "      <td>0.328715</td>\n",
       "      <td>0.248354</td>\n",
       "      <td>0.753208</td>\n",
       "      <td>2.249271</td>\n",
       "      <td>1.797376</td>\n",
       "      <td>0.086006</td>\n",
       "      <td>0.018950</td>\n",
       "      <td>0.100583</td>\n",
       "      <td>0.622449</td>\n",
       "      <td>3.453936</td>\n",
       "      <td>0.243440</td>\n",
       "      <td>0.139942</td>\n",
       "    </tr>\n",
       "  </tbody>\n",
       "</table>\n",
       "</div>"
      ],
      "text/plain": [
       "              Unnamed: 0       dir       hir       lvr       ccs       mcs  \\\n",
       "comdominiom                                                                  \n",
       "0            1153.702655  0.331663  0.258176  0.731508  2.062606  1.690101   \n",
       "1            1283.155977  0.328715  0.248354  0.753208  2.249271  1.797376   \n",
       "\n",
       "                 pbcr       dmi      self    single      uria     black  \\\n",
       "comdominiom                                                               \n",
       "0            0.068477  0.020649  0.122786  0.300885  3.904233  0.101475   \n",
       "1            0.086006  0.018950  0.100583  0.622449  3.453936  0.243440   \n",
       "\n",
       "                 deny  \n",
       "comdominiom            \n",
       "0            0.111504  \n",
       "1            0.139942  "
      ]
     },
     "execution_count": 39,
     "metadata": {},
     "output_type": "execute_result"
    }
   ],
   "source": [
    "df.groupby('comdominiom').mean()"
   ]
  },
  {
   "cell_type": "markdown",
   "metadata": {},
   "source": [
    "As I am looking at this, I am looking for any significant differences between the features. For the most part, they seem about equal in all the features. \n",
    "The 2 main things to observe here are that more singles and blacks live in condos. We may be inclined to believe that is because  other people can afford bigger houses. Does this mean then that blacks are poorer?"
   ]
  },
  {
   "cell_type": "code",
   "execution_count": 40,
   "metadata": {},
   "outputs": [
    {
     "data": {
      "text/html": [
       "<div>\n",
       "<style scoped>\n",
       "    .dataframe tbody tr th:only-of-type {\n",
       "        vertical-align: middle;\n",
       "    }\n",
       "\n",
       "    .dataframe tbody tr th {\n",
       "        vertical-align: top;\n",
       "    }\n",
       "\n",
       "    .dataframe thead th {\n",
       "        text-align: right;\n",
       "    }\n",
       "</style>\n",
       "<table border=\"1\" class=\"dataframe\">\n",
       "  <thead>\n",
       "    <tr style=\"text-align: right;\">\n",
       "      <th></th>\n",
       "      <th>Unnamed: 0</th>\n",
       "      <th>dir</th>\n",
       "      <th>hir</th>\n",
       "      <th>lvr</th>\n",
       "      <th>ccs</th>\n",
       "      <th>mcs</th>\n",
       "      <th>pbcr</th>\n",
       "      <th>dmi</th>\n",
       "      <th>self</th>\n",
       "      <th>single</th>\n",
       "      <th>uria</th>\n",
       "      <th>comdominiom</th>\n",
       "      <th>deny</th>\n",
       "    </tr>\n",
       "    <tr>\n",
       "      <th>black</th>\n",
       "      <th></th>\n",
       "      <th></th>\n",
       "      <th></th>\n",
       "      <th></th>\n",
       "      <th></th>\n",
       "      <th></th>\n",
       "      <th></th>\n",
       "      <th></th>\n",
       "      <th></th>\n",
       "      <th></th>\n",
       "      <th></th>\n",
       "      <th></th>\n",
       "      <th></th>\n",
       "    </tr>\n",
       "  </thead>\n",
       "  <tbody>\n",
       "    <tr>\n",
       "      <th>0</th>\n",
       "      <td>1190.404016</td>\n",
       "      <td>0.327464</td>\n",
       "      <td>0.253533</td>\n",
       "      <td>0.725959</td>\n",
       "      <td>1.966267</td>\n",
       "      <td>1.694770</td>\n",
       "      <td>0.056345</td>\n",
       "      <td>0.015181</td>\n",
       "      <td>0.123469</td>\n",
       "      <td>0.373164</td>\n",
       "      <td>3.829175</td>\n",
       "      <td>0.254163</td>\n",
       "      <td>0.092556</td>\n",
       "    </tr>\n",
       "    <tr>\n",
       "      <th>1</th>\n",
       "      <td>1194.589971</td>\n",
       "      <td>0.350989</td>\n",
       "      <td>0.266266</td>\n",
       "      <td>0.808848</td>\n",
       "      <td>3.020649</td>\n",
       "      <td>1.879056</td>\n",
       "      <td>0.176991</td>\n",
       "      <td>0.050147</td>\n",
       "      <td>0.073746</td>\n",
       "      <td>0.516224</td>\n",
       "      <td>3.445133</td>\n",
       "      <td>0.492625</td>\n",
       "      <td>0.283186</td>\n",
       "    </tr>\n",
       "  </tbody>\n",
       "</table>\n",
       "</div>"
      ],
      "text/plain": [
       "        Unnamed: 0       dir       hir       lvr       ccs       mcs  \\\n",
       "black                                                                  \n",
       "0      1190.404016  0.327464  0.253533  0.725959  1.966267  1.694770   \n",
       "1      1194.589971  0.350989  0.266266  0.808848  3.020649  1.879056   \n",
       "\n",
       "           pbcr       dmi      self    single      uria  comdominiom      deny  \n",
       "black                                                                           \n",
       "0      0.056345  0.015181  0.123469  0.373164  3.829175     0.254163  0.092556  \n",
       "1      0.176991  0.050147  0.073746  0.516224  3.445133     0.492625  0.283186  "
      ]
     },
     "execution_count": 40,
     "metadata": {},
     "output_type": "execute_result"
    }
   ],
   "source": [
    "df.groupby('black').mean()"
   ]
  },
  {
   "cell_type": "markdown",
   "metadata": {},
   "source": [
    "The biggest difference with blacks and other groups is that blacks have a significatnly higher ccs, credit score. This means that blacks are not trusted as much to pay back their loans. lvr is also 8 percent higher which tells us the loans they are taking out are bigger. The dir and hir are higher but not by that much though. "
   ]
  },
  {
   "cell_type": "code",
   "execution_count": 41,
   "metadata": {},
   "outputs": [
    {
     "data": {
      "text/html": [
       "<div>\n",
       "<style scoped>\n",
       "    .dataframe tbody tr th:only-of-type {\n",
       "        vertical-align: middle;\n",
       "    }\n",
       "\n",
       "    .dataframe tbody tr th {\n",
       "        vertical-align: top;\n",
       "    }\n",
       "\n",
       "    .dataframe thead th {\n",
       "        text-align: right;\n",
       "    }\n",
       "</style>\n",
       "<table border=\"1\" class=\"dataframe\">\n",
       "  <thead>\n",
       "    <tr style=\"text-align: right;\">\n",
       "      <th></th>\n",
       "      <th>Unnamed: 0</th>\n",
       "      <th>dir</th>\n",
       "      <th>hir</th>\n",
       "      <th>lvr</th>\n",
       "      <th>ccs</th>\n",
       "      <th>mcs</th>\n",
       "      <th>pbcr</th>\n",
       "      <th>dmi</th>\n",
       "      <th>single</th>\n",
       "      <th>uria</th>\n",
       "      <th>comdominiom</th>\n",
       "      <th>black</th>\n",
       "      <th>deny</th>\n",
       "    </tr>\n",
       "    <tr>\n",
       "      <th>self</th>\n",
       "      <th></th>\n",
       "      <th></th>\n",
       "      <th></th>\n",
       "      <th></th>\n",
       "      <th></th>\n",
       "      <th></th>\n",
       "      <th></th>\n",
       "      <th></th>\n",
       "      <th></th>\n",
       "      <th></th>\n",
       "      <th></th>\n",
       "      <th></th>\n",
       "      <th></th>\n",
       "    </tr>\n",
       "  </thead>\n",
       "  <tbody>\n",
       "    <tr>\n",
       "      <th>0.0</th>\n",
       "      <td>1198.143604</td>\n",
       "      <td>0.329407</td>\n",
       "      <td>0.255845</td>\n",
       "      <td>0.741451</td>\n",
       "      <td>2.126010</td>\n",
       "      <td>1.733714</td>\n",
       "      <td>0.070851</td>\n",
       "      <td>0.020922</td>\n",
       "      <td>0.397527</td>\n",
       "      <td>3.670043</td>\n",
       "      <td>0.293390</td>\n",
       "      <td>0.149311</td>\n",
       "      <td>0.113647</td>\n",
       "    </tr>\n",
       "    <tr>\n",
       "      <th>1.0</th>\n",
       "      <td>1132.469314</td>\n",
       "      <td>0.341492</td>\n",
       "      <td>0.251555</td>\n",
       "      <td>0.709875</td>\n",
       "      <td>2.043321</td>\n",
       "      <td>1.624549</td>\n",
       "      <td>0.093863</td>\n",
       "      <td>0.014440</td>\n",
       "      <td>0.361011</td>\n",
       "      <td>4.567509</td>\n",
       "      <td>0.249097</td>\n",
       "      <td>0.090253</td>\n",
       "      <td>0.166065</td>\n",
       "    </tr>\n",
       "  </tbody>\n",
       "</table>\n",
       "</div>"
      ],
      "text/plain": [
       "       Unnamed: 0       dir       hir       lvr       ccs       mcs      pbcr  \\\n",
       "self                                                                            \n",
       "0.0   1198.143604  0.329407  0.255845  0.741451  2.126010  1.733714  0.070851   \n",
       "1.0   1132.469314  0.341492  0.251555  0.709875  2.043321  1.624549  0.093863   \n",
       "\n",
       "           dmi    single      uria  comdominiom     black      deny  \n",
       "self                                                                 \n",
       "0.0   0.020922  0.397527  3.670043     0.293390  0.149311  0.113647  \n",
       "1.0   0.014440  0.361011  4.567509     0.249097  0.090253  0.166065  "
      ]
     },
     "execution_count": 41,
     "metadata": {},
     "output_type": "execute_result"
    }
   ],
   "source": [
    "df.groupby('self').mean()"
   ]
  },
  {
   "cell_type": "markdown",
   "metadata": {},
   "source": [
    "Self represents a self employed person. We see that that almost all the variables are constant except with deny. Self employed people maybe are less trusted to pay back their loans."
   ]
  },
  {
   "cell_type": "markdown",
   "metadata": {},
   "source": [
    "Finally, let's see how the unemployment rate in a neighborhood impacts our deny rate."
   ]
  },
  {
   "cell_type": "code",
   "execution_count": 42,
   "metadata": {},
   "outputs": [
    {
     "data": {
      "text/plain": [
       "<matplotlib.axes._subplots.AxesSubplot at 0x28d64f899b0>"
      ]
     },
     "execution_count": 42,
     "metadata": {},
     "output_type": "execute_result"
    },
    {
     "data": {
      "image/png": "[encoded data removed]",
      "text/plain": [
       "<Figure size 432x288 with 1 Axes>"
      ]
     },
     "metadata": {
      "needs_background": "light"
     },
     "output_type": "display_data"
    }
   ],
   "source": [
    "df.uria.hist()"
   ]
  },
  {
   "cell_type": "markdown",
   "metadata": {},
   "source": [
    "Most values are around 2-4. The rest are near 9 and 10. Let's look at these outliers."
   ]
  },
  {
   "cell_type": "code",
   "execution_count": 43,
   "metadata": {},
   "outputs": [
    {
     "data": {
      "text/html": [
       "<div>\n",
       "<style scoped>\n",
       "    .dataframe tbody tr th:only-of-type {\n",
       "        vertical-align: middle;\n",
       "    }\n",
       "\n",
       "    .dataframe tbody tr th {\n",
       "        vertical-align: top;\n",
       "    }\n",
       "\n",
       "    .dataframe thead th {\n",
       "        text-align: right;\n",
       "    }\n",
       "</style>\n",
       "<table border=\"1\" class=\"dataframe\">\n",
       "  <thead>\n",
       "    <tr style=\"text-align: right;\">\n",
       "      <th></th>\n",
       "      <th>Unnamed: 0</th>\n",
       "      <th>dir</th>\n",
       "      <th>hir</th>\n",
       "      <th>lvr</th>\n",
       "      <th>ccs</th>\n",
       "      <th>mcs</th>\n",
       "      <th>pbcr</th>\n",
       "      <th>dmi</th>\n",
       "      <th>self</th>\n",
       "      <th>single</th>\n",
       "      <th>uria</th>\n",
       "      <th>comdominiom</th>\n",
       "      <th>black</th>\n",
       "      <th>deny</th>\n",
       "    </tr>\n",
       "  </thead>\n",
       "  <tbody>\n",
       "    <tr>\n",
       "      <th>0</th>\n",
       "      <td>1130.184783</td>\n",
       "      <td>0.340691</td>\n",
       "      <td>0.260566</td>\n",
       "      <td>0.730711</td>\n",
       "      <td>2.021739</td>\n",
       "      <td>1.752174</td>\n",
       "      <td>0.076087</td>\n",
       "      <td>0.023913</td>\n",
       "      <td>0.202174</td>\n",
       "      <td>0.356522</td>\n",
       "      <td>6.778913</td>\n",
       "      <td>0.195652</td>\n",
       "      <td>0.084783</td>\n",
       "      <td>0.152174</td>\n",
       "    </tr>\n",
       "    <tr>\n",
       "      <th>1</th>\n",
       "      <td>1191.000000</td>\n",
       "      <td>0.330814</td>\n",
       "      <td>0.255346</td>\n",
       "      <td>0.737760</td>\n",
       "      <td>2.116387</td>\n",
       "      <td>1.721008</td>\n",
       "      <td>0.073529</td>\n",
       "      <td>0.020160</td>\n",
       "      <td>0.116387</td>\n",
       "      <td>0.393532</td>\n",
       "      <td>3.774496</td>\n",
       "      <td>0.288114</td>\n",
       "      <td>0.142377</td>\n",
       "      <td>0.119698</td>\n",
       "    </tr>\n",
       "  </tbody>\n",
       "</table>\n",
       "</div>"
      ],
      "text/plain": [
       "    Unnamed: 0       dir       hir       lvr       ccs       mcs      pbcr  \\\n",
       "0  1130.184783  0.340691  0.260566  0.730711  2.021739  1.752174  0.076087   \n",
       "1  1191.000000  0.330814  0.255346  0.737760  2.116387  1.721008  0.073529   \n",
       "\n",
       "        dmi      self    single      uria  comdominiom     black      deny  \n",
       "0  0.023913  0.202174  0.356522  6.778913     0.195652  0.084783  0.152174  \n",
       "1  0.020160  0.116387  0.393532  3.774496     0.288114  0.142377  0.119698  "
      ]
     },
     "execution_count": 43,
     "metadata": {},
     "output_type": "execute_result"
    }
   ],
   "source": [
    "high = df[df.uria > 4]\n",
    "pd.DataFrame([high.mean(), df.mean()])"
   ]
  },
  {
   "cell_type": "markdown",
   "metadata": {},
   "source": [
    "The deny rate is slightly higher but not so much. Similarly, more of these people live in condos. As a whole this variable seems very similar to what we found when we looked at self. Although it intuitivly makes sense that a higher uria would make a loan more likely to be denied, maybe this isn't true because this variable is applicable to the neighborhood the person is moving into and not the applicant himself. "
   ]
  },
  {
   "cell_type": "code",
   "execution_count": 44,
   "metadata": {},
   "outputs": [
    {
     "data": {
      "text/plain": [
       "3.200000     877\n",
       "3.100000     275\n",
       "3.900000     229\n",
       "4.300000     220\n",
       "1.800000     217\n",
       "3.600000     174\n",
       "10.600000    159\n",
       "2.000000     148\n",
       "5.300000      65\n",
       "8.900000      16\n",
       "3.774496       1\n",
       "Name: uria, dtype: int64"
      ]
     },
     "execution_count": 44,
     "metadata": {},
     "output_type": "execute_result"
    }
   ],
   "source": [
    "df.uria.value_counts()"
   ]
  },
  {
   "cell_type": "markdown",
   "metadata": {},
   "source": [
    "As a whole, I am finding these values very suspicious. Most of the variables are rounded to the tenths place and then we have one row with 3.77449 which is a lot of decimal points. On top of this, this variable is measuring unemployment rate and it seems strange to me that we would have such a big gap between so many of these values. We see here https://www.homefacts.com/unemployment/Massachusetts/Suffolk-County/Boston.html that unemployment rates were low in Boston in 1997 making me question these rows with high values."
   ]
  },
  {
   "cell_type": "markdown",
   "metadata": {},
   "source": [
    "I am inclined to drop this feature mainly because we don't see so much of a difference in deny rate. I also don't know how our model will do on present day data if we include this where unemployment rates are much different. "
   ]
  },
  {
   "cell_type": "code",
   "execution_count": 45,
   "metadata": {},
   "outputs": [
    {
     "data": {
      "text/plain": [
       "460"
      ]
     },
     "execution_count": 45,
     "metadata": {},
     "output_type": "execute_result"
    }
   ],
   "source": [
    "len(high)"
   ]
  },
  {
   "cell_type": "code",
   "execution_count": 46,
   "metadata": {},
   "outputs": [
    {
     "data": {
      "text/html": [
       "<div>\n",
       "<style scoped>\n",
       "    .dataframe tbody tr th:only-of-type {\n",
       "        vertical-align: middle;\n",
       "    }\n",
       "\n",
       "    .dataframe tbody tr th {\n",
       "        vertical-align: top;\n",
       "    }\n",
       "\n",
       "    .dataframe thead th {\n",
       "        text-align: right;\n",
       "    }\n",
       "</style>\n",
       "<table border=\"1\" class=\"dataframe\">\n",
       "  <thead>\n",
       "    <tr style=\"text-align: right;\">\n",
       "      <th></th>\n",
       "      <th>Unnamed: 0</th>\n",
       "      <th>dir</th>\n",
       "      <th>hir</th>\n",
       "      <th>lvr</th>\n",
       "      <th>ccs</th>\n",
       "      <th>mcs</th>\n",
       "      <th>pbcr</th>\n",
       "      <th>dmi</th>\n",
       "      <th>self</th>\n",
       "      <th>uria</th>\n",
       "      <th>comdominiom</th>\n",
       "      <th>black</th>\n",
       "      <th>deny</th>\n",
       "    </tr>\n",
       "    <tr>\n",
       "      <th>single</th>\n",
       "      <th></th>\n",
       "      <th></th>\n",
       "      <th></th>\n",
       "      <th></th>\n",
       "      <th></th>\n",
       "      <th></th>\n",
       "      <th></th>\n",
       "      <th></th>\n",
       "      <th></th>\n",
       "      <th></th>\n",
       "      <th></th>\n",
       "      <th></th>\n",
       "      <th></th>\n",
       "    </tr>\n",
       "  </thead>\n",
       "  <tbody>\n",
       "    <tr>\n",
       "      <th>0</th>\n",
       "      <td>1195.979224</td>\n",
       "      <td>0.328133</td>\n",
       "      <td>0.250691</td>\n",
       "      <td>0.731265</td>\n",
       "      <td>2.097645</td>\n",
       "      <td>1.648892</td>\n",
       "      <td>0.073407</td>\n",
       "      <td>0.018006</td>\n",
       "      <td>0.122576</td>\n",
       "      <td>3.850208</td>\n",
       "      <td>0.179363</td>\n",
       "      <td>0.113573</td>\n",
       "      <td>0.099723</td>\n",
       "    </tr>\n",
       "    <tr>\n",
       "      <th>1</th>\n",
       "      <td>1183.326574</td>\n",
       "      <td>0.334944</td>\n",
       "      <td>0.262519</td>\n",
       "      <td>0.747770</td>\n",
       "      <td>2.145268</td>\n",
       "      <td>1.832146</td>\n",
       "      <td>0.073718</td>\n",
       "      <td>0.023479</td>\n",
       "      <td>0.106838</td>\n",
       "      <td>3.657817</td>\n",
       "      <td>0.455710</td>\n",
       "      <td>0.186766</td>\n",
       "      <td>0.150480</td>\n",
       "    </tr>\n",
       "  </tbody>\n",
       "</table>\n",
       "</div>"
      ],
      "text/plain": [
       "         Unnamed: 0       dir       hir       lvr       ccs       mcs  \\\n",
       "single                                                                  \n",
       "0       1195.979224  0.328133  0.250691  0.731265  2.097645  1.648892   \n",
       "1       1183.326574  0.334944  0.262519  0.747770  2.145268  1.832146   \n",
       "\n",
       "            pbcr       dmi      self      uria  comdominiom     black  \\\n",
       "single                                                                  \n",
       "0       0.073407  0.018006  0.122576  3.850208     0.179363  0.113573   \n",
       "1       0.073718  0.023479  0.106838  3.657817     0.455710  0.186766   \n",
       "\n",
       "            deny  \n",
       "single            \n",
       "0       0.099723  \n",
       "1       0.150480  "
      ]
     },
     "execution_count": 46,
     "metadata": {},
     "output_type": "execute_result"
    }
   ],
   "source": [
    "df.groupby('single').mean()"
   ]
  },
  {
   "cell_type": "markdown",
   "metadata": {},
   "source": [
    "It appears that single people are more likely to be denied. This may be because they only have a single income."
   ]
  },
  {
   "cell_type": "markdown",
   "metadata": {},
   "source": [
    "But at the same time 460 rows is somewhat small. "
   ]
  },
  {
   "cell_type": "markdown",
   "metadata": {},
   "source": [
    "Another thing we should check for is collinearity... We already saw a few like between dir and hir, and condomonium and black, and pbcr and ccs."
   ]
  },
  {
   "cell_type": "markdown",
   "metadata": {},
   "source": [
    "Let's see if people who take out higher loans have a lower income ratio."
   ]
  },
  {
   "cell_type": "code",
   "execution_count": 47,
   "metadata": {},
   "outputs": [
    {
     "data": {
      "text/plain": [
       "<matplotlib.collections.PathCollection at 0x28d651565f8>"
      ]
     },
     "execution_count": 47,
     "metadata": {},
     "output_type": "execute_result"
    },
    {
     "data": {
      "image/png": "[encoded data removed]",
      "text/plain": [
       "<Figure size 432x288 with 1 Axes>"
      ]
     },
     "metadata": {
      "needs_background": "light"
     },
     "output_type": "display_data"
    }
   ],
   "source": [
    "plt.scatter(df.dir, df.lvr, alpha = .05)"
   ]
  },
  {
   "cell_type": "markdown",
   "metadata": {},
   "source": [
    "There doesn't seem to be any big correlation. This makes sense though since as we saw lvr is a capped variable and most people may try to take out as much as they could irrespective of their income."
   ]
  },
  {
   "cell_type": "markdown",
   "metadata": {},
   "source": [
    "### EDA Wrapup"
   ]
  },
  {
   "cell_type": "markdown",
   "metadata": {},
   "source": [
    "1. We saw that our dataset consists of many binary variables. These variables consist of a majority class and a minority. We found that belonging to the minority class in these distributions effects the chance that the applicant will be denied.\n",
    "2. We saw that we need to be cognizant of collinearity in our dataset. Variables like dir are inherently related since they are both ratios of income. We also saw relationships between less obvious variables like single and black to condominium. \n",
    "3. We have a total of 2 nulls in our dataset. "
   ]
  },
  {
   "cell_type": "markdown",
   "metadata": {},
   "source": [
    "### Data Prep"
   ]
  },
  {
   "cell_type": "markdown",
   "metadata": {},
   "source": [
    "Let's first drop uria and index for the reason I mentioned above."
   ]
  },
  {
   "cell_type": "code",
   "execution_count": 48,
   "metadata": {},
   "outputs": [],
   "source": [
    "df.drop(['uria', 'Unnamed: 0'], axis = 1, inplace = True)\n"
   ]
  },
  {
   "cell_type": "markdown",
   "metadata": {},
   "source": [
    "We should start by dealing with our nulls."
   ]
  },
  {
   "cell_type": "code",
   "execution_count": 49,
   "metadata": {},
   "outputs": [
    {
     "data": {
      "text/plain": [
       "dir            0\n",
       "hir            0\n",
       "lvr            0\n",
       "ccs            0\n",
       "mcs            0\n",
       "pbcr           1\n",
       "dmi            0\n",
       "self           1\n",
       "single         0\n",
       "comdominiom    0\n",
       "black          0\n",
       "deny           0\n",
       "dtype: int64"
      ]
     },
     "execution_count": 49,
     "metadata": {},
     "output_type": "execute_result"
    }
   ],
   "source": [
    "df.isnull().sum()"
   ]
  },
  {
   "cell_type": "code",
   "execution_count": 50,
   "metadata": {},
   "outputs": [
    {
     "data": {
      "text/plain": [
       "<matplotlib.axes._subplots.AxesSubplot at 0x28d651984e0>"
      ]
     },
     "execution_count": 50,
     "metadata": {},
     "output_type": "execute_result"
    },
    {
     "data": {
      "image/png": "[encoded data removed]",
      "text/plain": [
       "<Figure size 432x288 with 1 Axes>"
      ]
     },
     "metadata": {
      "needs_background": "light"
     },
     "output_type": "display_data"
    }
   ],
   "source": [
    "df.pbcr.hist()"
   ]
  },
  {
   "cell_type": "markdown",
   "metadata": {},
   "source": [
    "pbcr is bad credit ratting."
   ]
  },
  {
   "cell_type": "code",
   "execution_count": 51,
   "metadata": {},
   "outputs": [
    {
     "data": {
      "text/html": [
       "<div>\n",
       "<style scoped>\n",
       "    .dataframe tbody tr th:only-of-type {\n",
       "        vertical-align: middle;\n",
       "    }\n",
       "\n",
       "    .dataframe tbody tr th {\n",
       "        vertical-align: top;\n",
       "    }\n",
       "\n",
       "    .dataframe thead th {\n",
       "        text-align: right;\n",
       "    }\n",
       "</style>\n",
       "<table border=\"1\" class=\"dataframe\">\n",
       "  <thead>\n",
       "    <tr style=\"text-align: right;\">\n",
       "      <th></th>\n",
       "      <th>dir</th>\n",
       "      <th>hir</th>\n",
       "      <th>lvr</th>\n",
       "      <th>ccs</th>\n",
       "      <th>mcs</th>\n",
       "      <th>dmi</th>\n",
       "      <th>self</th>\n",
       "      <th>single</th>\n",
       "      <th>comdominiom</th>\n",
       "      <th>black</th>\n",
       "      <th>deny</th>\n",
       "    </tr>\n",
       "    <tr>\n",
       "      <th>pbcr</th>\n",
       "      <th></th>\n",
       "      <th></th>\n",
       "      <th></th>\n",
       "      <th></th>\n",
       "      <th></th>\n",
       "      <th></th>\n",
       "      <th></th>\n",
       "      <th></th>\n",
       "      <th></th>\n",
       "      <th></th>\n",
       "      <th></th>\n",
       "    </tr>\n",
       "  </thead>\n",
       "  <tbody>\n",
       "    <tr>\n",
       "      <th>0.0</th>\n",
       "      <td>0.327723</td>\n",
       "      <td>0.253809</td>\n",
       "      <td>0.732696</td>\n",
       "      <td>1.981406</td>\n",
       "      <td>1.712472</td>\n",
       "      <td>0.016780</td>\n",
       "      <td>0.113832</td>\n",
       "      <td>0.393197</td>\n",
       "      <td>0.284354</td>\n",
       "      <td>0.126531</td>\n",
       "      <td>0.094785</td>\n",
       "    </tr>\n",
       "    <tr>\n",
       "      <th>1.0</th>\n",
       "      <td>0.369754</td>\n",
       "      <td>0.274708</td>\n",
       "      <td>0.801777</td>\n",
       "      <td>3.817143</td>\n",
       "      <td>1.828571</td>\n",
       "      <td>0.062857</td>\n",
       "      <td>0.148571</td>\n",
       "      <td>0.394286</td>\n",
       "      <td>0.337143</td>\n",
       "      <td>0.342857</td>\n",
       "      <td>0.434286</td>\n",
       "    </tr>\n",
       "  </tbody>\n",
       "</table>\n",
       "</div>"
      ],
      "text/plain": [
       "           dir       hir       lvr       ccs       mcs       dmi      self  \\\n",
       "pbcr                                                                         \n",
       "0.0   0.327723  0.253809  0.732696  1.981406  1.712472  0.016780  0.113832   \n",
       "1.0   0.369754  0.274708  0.801777  3.817143  1.828571  0.062857  0.148571   \n",
       "\n",
       "        single  comdominiom     black      deny  \n",
       "pbcr                                             \n",
       "0.0   0.393197     0.284354  0.126531  0.094785  \n",
       "1.0   0.394286     0.337143  0.342857  0.434286  "
      ]
     },
     "execution_count": 51,
     "metadata": {},
     "output_type": "execute_result"
    }
   ],
   "source": [
    "df.groupby('pbcr').mean()"
   ]
  },
  {
   "cell_type": "code",
   "execution_count": 52,
   "metadata": {},
   "outputs": [
    {
     "data": {
      "text/html": [
       "<div>\n",
       "<style scoped>\n",
       "    .dataframe tbody tr th:only-of-type {\n",
       "        vertical-align: middle;\n",
       "    }\n",
       "\n",
       "    .dataframe tbody tr th {\n",
       "        vertical-align: top;\n",
       "    }\n",
       "\n",
       "    .dataframe thead th {\n",
       "        text-align: right;\n",
       "    }\n",
       "</style>\n",
       "<table border=\"1\" class=\"dataframe\">\n",
       "  <thead>\n",
       "    <tr style=\"text-align: right;\">\n",
       "      <th></th>\n",
       "      <th>dir</th>\n",
       "      <th>hir</th>\n",
       "      <th>lvr</th>\n",
       "      <th>ccs</th>\n",
       "      <th>mcs</th>\n",
       "      <th>pbcr</th>\n",
       "      <th>dmi</th>\n",
       "      <th>self</th>\n",
       "      <th>single</th>\n",
       "      <th>comdominiom</th>\n",
       "      <th>black</th>\n",
       "      <th>deny</th>\n",
       "    </tr>\n",
       "  </thead>\n",
       "  <tbody>\n",
       "    <tr>\n",
       "      <th>2380</th>\n",
       "      <td>0.330814</td>\n",
       "      <td>0.255346</td>\n",
       "      <td>0.700783</td>\n",
       "      <td>2.116387</td>\n",
       "      <td>1.721008</td>\n",
       "      <td>NaN</td>\n",
       "      <td>0</td>\n",
       "      <td>NaN</td>\n",
       "      <td>1</td>\n",
       "      <td>0</td>\n",
       "      <td>0</td>\n",
       "      <td>0</td>\n",
       "    </tr>\n",
       "  </tbody>\n",
       "</table>\n",
       "</div>"
      ],
      "text/plain": [
       "           dir       hir       lvr       ccs       mcs  pbcr  dmi  self  \\\n",
       "2380  0.330814  0.255346  0.700783  2.116387  1.721008   NaN    0   NaN   \n",
       "\n",
       "      single  comdominiom  black  deny  \n",
       "2380       1            0      0     0  "
      ]
     },
     "execution_count": 52,
     "metadata": {},
     "output_type": "execute_result"
    }
   ],
   "source": [
    "df[df.pbcr.isnull()]"
   ]
  },
  {
   "cell_type": "markdown",
   "metadata": {},
   "source": [
    "This row actually is the same row that is missing self, if the person is self employed. The other variables seem to be around what the mean values for the other variables are."
   ]
  },
  {
   "cell_type": "markdown",
   "metadata": {},
   "source": [
    "We could try guessing why this value is null but it seems really random and just a data entry/programming mistake since it's an isolated case."
   ]
  },
  {
   "cell_type": "markdown",
   "metadata": {},
   "source": [
    "Since we won't gain anything by imputing the value as all the other variables are around the mean of the features let's just drop this row. We aren't losing anything by doing this as it is 1 row."
   ]
  },
  {
   "cell_type": "code",
   "execution_count": 53,
   "metadata": {},
   "outputs": [],
   "source": [
    "df.drop(df[df.pbcr.isnull()].index, inplace = True)"
   ]
  },
  {
   "cell_type": "code",
   "execution_count": 54,
   "metadata": {},
   "outputs": [
    {
     "data": {
      "text/plain": [
       "False"
      ]
     },
     "execution_count": 54,
     "metadata": {},
     "output_type": "execute_result"
    }
   ],
   "source": [
    "df.isnull().sum().any() #Just to validate."
   ]
  },
  {
   "cell_type": "markdown",
   "metadata": {},
   "source": [
    "Next we need to create dummy variables. In our case though, all of our non ordinal categorical is binary so we don't have to do anything for this step."
   ]
  },
  {
   "cell_type": "markdown",
   "metadata": {},
   "source": [
    "We can't create dummy variables for our ordered categorical variables ( as in ccs) as we would be losing the ordering by doing so. We probably should leave them as they are since we want to maintain that each feature is one away from the previous like an ordinal encoder would do. The main important thing here is that each row is equidistant from the previous one which is true in our dataset."
   ]
  },
  {
   "cell_type": "markdown",
   "metadata": {},
   "source": [
    "What to do with our ratios is more interesting. I would be inclined to leave them as is since in theory they all should be between 0 and 1 but we factually saw that this isn't true. "
   ]
  },
  {
   "cell_type": "markdown",
   "metadata": {},
   "source": [
    "We also saw saw outliers. These outliers are important to us since the outliers are what is going to tell us if a mortgage was denied."
   ]
  },
  {
   "cell_type": "markdown",
   "metadata": {},
   "source": [
    "Min Max scaling simply  subtracts the minimum value in the feature and then divides by the range. This shouldn't effect any of our outliers and this will put them on the same scale. Although, all the variables are in fact ratios with a max around 1, we saw this isn't completly true and some values are above 1. I think it will just be slightly cleaner to bound these values. "
   ]
  },
  {
   "cell_type": "code",
   "execution_count": 55,
   "metadata": {},
   "outputs": [],
   "source": [
    "from sklearn import preprocessing\n",
    "cols = ['dir', 'hir', 'lvr']\n",
    "mm_scaler = preprocessing.MinMaxScaler()\n",
    "df[cols]= mm_scaler.fit_transform(df[cols])\n"
   ]
  },
  {
   "cell_type": "markdown",
   "metadata": {},
   "source": [
    "Now since our outliers tell us a lot of information, we might try binning them. "
   ]
  },
  {
   "cell_type": "code",
   "execution_count": 56,
   "metadata": {},
   "outputs": [],
   "source": [
    "df_c = df.copy()"
   ]
  },
  {
   "cell_type": "code",
   "execution_count": 57,
   "metadata": {},
   "outputs": [
    {
     "name": "stdout",
     "output_type": "stream",
     "text": [
      "dir 0.035752428200729325\n",
      "hir 0.0322185370420272\n",
      "ccs 1.6667205864799912\n",
      "mcs 0.5372816153447326\n",
      "lvr 0.09261708694484226\n",
      "hir 0.0322185370420272\n"
     ]
    }
   ],
   "source": [
    "columns = ['dir', 'hir', 'ccs', 'mcs', 'lvr', 'hir'] #The non binary columns we saw differences with in predicting deny\n",
    "for column in columns:\n",
    "    print(column, df[column].std())\n",
    "    newCol = f'IsLargeOutlier_{column}'\n",
    "    df[newCol] = df[column].map(lambda x: 1 if ((x - df[column].mean())/df[column].std() > 1.5) else 0 )"
   ]
  },
  {
   "cell_type": "markdown",
   "metadata": {},
   "source": [
    "### Rerun our Eda..."
   ]
  },
  {
   "cell_type": "markdown",
   "metadata": {},
   "source": [
    "The only transformations we really did was add a few new outlier columns, drop a row, and perform min max scaling on a few features. We just want to be sure that we did not change any of our distributions. "
   ]
  },
  {
   "cell_type": "code",
   "execution_count": 58,
   "metadata": {},
   "outputs": [
    {
     "data": {
      "text/plain": [
       "array([[<matplotlib.axes._subplots.AxesSubplot object at 0x0000028D662F8EF0>,\n",
       "        <matplotlib.axes._subplots.AxesSubplot object at 0x0000028D66334860>,\n",
       "        <matplotlib.axes._subplots.AxesSubplot object at 0x0000028D6635CB70>,\n",
       "        <matplotlib.axes._subplots.AxesSubplot object at 0x0000028D6638C128>],\n",
       "       [<matplotlib.axes._subplots.AxesSubplot object at 0x0000028D663B36A0>,\n",
       "        <matplotlib.axes._subplots.AxesSubplot object at 0x0000028D663DBC18>,\n",
       "        <matplotlib.axes._subplots.AxesSubplot object at 0x0000028D6640D1D0>,\n",
       "        <matplotlib.axes._subplots.AxesSubplot object at 0x0000028D66435780>],\n",
       "       [<matplotlib.axes._subplots.AxesSubplot object at 0x0000028D664357B8>,\n",
       "        <matplotlib.axes._subplots.AxesSubplot object at 0x0000028D6648C278>,\n",
       "        <matplotlib.axes._subplots.AxesSubplot object at 0x0000028D664B47F0>,\n",
       "        <matplotlib.axes._subplots.AxesSubplot object at 0x0000028D664DC400>],\n",
       "       [<matplotlib.axes._subplots.AxesSubplot object at 0x0000028D66507278>,\n",
       "        <matplotlib.axes._subplots.AxesSubplot object at 0x0000028D6652E7F0>,\n",
       "        <matplotlib.axes._subplots.AxesSubplot object at 0x0000028D66557D68>,\n",
       "        <matplotlib.axes._subplots.AxesSubplot object at 0x0000028D66588320>],\n",
       "       [<matplotlib.axes._subplots.AxesSubplot object at 0x0000028D665AE898>,\n",
       "        <matplotlib.axes._subplots.AxesSubplot object at 0x0000028D665D7E10>,\n",
       "        <matplotlib.axes._subplots.AxesSubplot object at 0x0000028D666093C8>,\n",
       "        <matplotlib.axes._subplots.AxesSubplot object at 0x0000028D66630940>]],\n",
       "      dtype=object)"
      ]
     },
     "execution_count": 58,
     "metadata": {},
     "output_type": "execute_result"
    },
    {
     "data": {
      "image/png": "[encoded data removed]",
      "text/plain": [
       "<Figure size 1080x1080 with 20 Axes>"
      ]
     },
     "metadata": {
      "needs_background": "light"
     },
     "output_type": "display_data"
    }
   ],
   "source": [
    "df.hist(figsize=(15,15), bins = 15)"
   ]
  },
  {
   "cell_type": "markdown",
   "metadata": {},
   "source": [
    "All of our distributions look the same. Our outlier columns are very small, but this was the goal."
   ]
  },
  {
   "cell_type": "markdown",
   "metadata": {},
   "source": [
    "### Model Creation.\n"
   ]
  },
  {
   "cell_type": "markdown",
   "metadata": {},
   "source": [
    "In this section, we will be creating our models. Our strategy will be to use the variables which we saw impact the percentage of denials from the eda. We will also see if using the variables which explicitly point out the outliers with the bins do better.\n",
    "\n",
    "We will first start by creating a logistic regression model to use as a baseline. We will use the model we chose as the best model for module 7. See the last section in https://github.com/cohenb51/Katz_School/blob/develop/DAV6150/m7/B_Cohen_M7_assn.ipynb for more details. \n",
    "\n",
    "This is how we chose our columns...\n",
    "\n",
    "1. dmi - We saw above that rows with denied insurance had a 90 percent chance of having a denied mortgage. As we said above, this is slightly leaky but not applicable to most rows. \n",
    "2. pbcr - A bad public credit rating - We saw above that people with a high pbcr are more likely to be denied. \n",
    "3. dir, ccs, lvr - We saw above that people who had high debts, a bad consumer credit rating, and loans relative to property size were more likely to be denied in our eda. We saw that binning them in our logistic regression model did better."
   ]
  },
  {
   "cell_type": "code",
   "execution_count": 59,
   "metadata": {},
   "outputs": [],
   "source": [
    "from sklearn.model_selection import train_test_split\n",
    "from sklearn.linear_model import LogisticRegression\n",
    "\n",
    "X = df.drop('deny', axis =1)\n",
    "y = df.deny\n",
    "X_train,X_test,y_train,y_test = train_test_split(X,y,test_size=0.25,random_state=0)"
   ]
  },
  {
   "cell_type": "code",
   "execution_count": 60,
   "metadata": {},
   "outputs": [],
   "source": [
    "m2Cols = ['dmi', 'pbcr', 'IsLargeOutlier_dir', 'IsLargeOutlier_ccs', 'IsLargeOutlier_lvr', ]\n"
   ]
  },
  {
   "cell_type": "code",
   "execution_count": 61,
   "metadata": {},
   "outputs": [],
   "source": [
    "logistic_regression= LogisticRegression()\n",
    "logistic_regression.fit(X_train[m2Cols],y_train)\n",
    "pred = logistic_regression.predict(X_train[m2Cols])"
   ]
  },
  {
   "cell_type": "code",
   "execution_count": 62,
   "metadata": {},
   "outputs": [
    {
     "data": {
      "text/plain": [
       "{'dmi': 3.6468111954741365,\n",
       " 'pbcr': 1.6384927203414168,\n",
       " 'IsLargeOutlier_dir': 1.772072947006964,\n",
       " 'IsLargeOutlier_ccs': 1.1784010107558933,\n",
       " 'IsLargeOutlier_lvr': 1.6149799911828744}"
      ]
     },
     "execution_count": 62,
     "metadata": {},
     "output_type": "execute_result"
    }
   ],
   "source": [
    "coefs = logistic_regression.coef_\n",
    "coefMap = {m2Cols[i]: coefs[0][i] for i in range(len(m2Cols))} \n",
    "coefMap"
   ]
  },
  {
   "cell_type": "code",
   "execution_count": null,
   "metadata": {},
   "outputs": [],
   "source": []
  },
  {
   "cell_type": "markdown",
   "metadata": {},
   "source": [
    "dmi - a 1 indicates the mortgage insurance was denied. Therefore, if a mortgage insurance was denied it is highly likely that the mortgage was denied. It is no surprise that this has the highest coefficient since it is somewhat leaky. Remember this feature is binary. If dmi is 0 this coefficient won't impact the prediction so although the coefficient is high it won't affect most of the rows.\n",
    "\n",
    "Both dir and ccs are around the same. This makes sense as dir tells us directly how much debt a person has. The more debt a person has, the more risk there is in making the loan. Lvr tells us how much money the loan is relative to the property amount. The higher the lvr amount, the higher the loan and therefore the less likely a person is to pay back the loan. \n",
    "\n",
    "ccs has the lowest at 1.1. CCS tells us how much consumer credit a person has. It makes sense that this variable would be lower than the ones above since the other variables relate to how much debt a person currently has and a loan how much the person is currently asking for while ccs is more of a history. It still though has importance as it's coeficent is not that much lower. \n",
    "\n"
   ]
  },
  {
   "cell_type": "code",
   "execution_count": 63,
   "metadata": {},
   "outputs": [
    {
     "data": {
      "text/plain": [
       "array([[1545,   28],\n",
       "       [ 142,   70]], dtype=int64)"
      ]
     },
     "execution_count": 63,
     "metadata": {},
     "output_type": "execute_result"
    }
   ],
   "source": [
    "from sklearn import metrics\n",
    "metrics.confusion_matrix(y_train, pred)"
   ]
  },
  {
   "cell_type": "code",
   "execution_count": 64,
   "metadata": {},
   "outputs": [],
   "source": [
    "from sklearn import metrics\n",
    "accuracy_score = []\n",
    "sc = metrics.accuracy_score(y_train,pred)\n",
    "accuracy_score.append(sc)"
   ]
  },
  {
   "cell_type": "code",
   "execution_count": 65,
   "metadata": {},
   "outputs": [
    {
     "data": {
      "text/plain": [
       "0.9047619047619048"
      ]
     },
     "execution_count": 65,
     "metadata": {},
     "output_type": "execute_result"
    }
   ],
   "source": [
    "sc"
   ]
  },
  {
   "cell_type": "markdown",
   "metadata": {},
   "source": [
    "Our accuracy is only around 2 percent higher than avg. "
   ]
  },
  {
   "cell_type": "code",
   "execution_count": 66,
   "metadata": {},
   "outputs": [
    {
     "data": {
      "text/plain": [
       "0.11974789915966387"
      ]
     },
     "execution_count": 66,
     "metadata": {},
     "output_type": "execute_result"
    }
   ],
   "source": [
    "df.deny.mean()"
   ]
  },
  {
   "cell_type": "markdown",
   "metadata": {},
   "source": [
    "We see that our null error rate is 88 percent so 90 percent accuracy is not that good."
   ]
  },
  {
   "cell_type": "code",
   "execution_count": 67,
   "metadata": {},
   "outputs": [
    {
     "data": {
      "text/plain": [
       "0.7142857142857143"
      ]
     },
     "execution_count": 67,
     "metadata": {},
     "output_type": "execute_result"
    }
   ],
   "source": [
    "precision_score = []\n",
    "sc = metrics.precision_score(y_train,pred)\n",
    "precision_score.append(sc)\n",
    "sc"
   ]
  },
  {
   "cell_type": "markdown",
   "metadata": {},
   "source": [
    "Our precision is around 71 percent which is not that bad. "
   ]
  },
  {
   "cell_type": "code",
   "execution_count": 68,
   "metadata": {},
   "outputs": [
    {
     "data": {
      "text/plain": [
       "0.330188679245283"
      ]
     },
     "execution_count": 68,
     "metadata": {},
     "output_type": "execute_result"
    }
   ],
   "source": [
    "recall_score = []\n",
    "sc = metrics.recall_score(y_train,pred)\n",
    "recall_score.append(sc)\n",
    "sc"
   ]
  },
  {
   "cell_type": "markdown",
   "metadata": {},
   "source": [
    "Our recall is around .33. This tells us that we are missing a lot of cases where the true value was a denial. This is a problem since it can cause people to allow mortgages that may be more prone to not be payed off."
   ]
  },
  {
   "cell_type": "code",
   "execution_count": 69,
   "metadata": {},
   "outputs": [],
   "source": [
    "f1_score = []\n",
    "sc = metrics.f1_score(y_train,pred)\n",
    "f1_score.append(sc)"
   ]
  },
  {
   "cell_type": "markdown",
   "metadata": {},
   "source": [
    "Our f1 score is a weighted average of recall and precision. We see here that it suffers because of the low recall."
   ]
  },
  {
   "cell_type": "markdown",
   "metadata": {},
   "source": [
    "Our roc score tells us the area under the roc curve. It ranges between 0 and 1 with .5 being a blind guess. "
   ]
  },
  {
   "cell_type": "markdown",
   "metadata": {},
   "source": [
    "Below, is the graph of the roc curve. On the y axis we have the true positive rate (recall) and on the x axis we have false positive rate (1- specifity) \n",
    "We see that our auc, area under the curve, is .77. The best would be 1 and random would be around .5 so our model is somewhat useful. We see that the higher the recall, the higher the false positive rate, or fewer false negatives. For example, With a recall around .6, our fpr is around .2 or our specifity is around .8. That means we are identifying 80 percent of the negative cases where mortgages were accepted.  "
   ]
  },
  {
   "cell_type": "code",
   "execution_count": 70,
   "metadata": {},
   "outputs": [
    {
     "data": {
      "text/plain": [
       "<sklearn.metrics._plot.roc_curve.RocCurveDisplay at 0x28d66ad7eb8>"
      ]
     },
     "execution_count": 70,
     "metadata": {},
     "output_type": "execute_result"
    },
    {
     "data": {
      "image/png": "[encoded data removed]",
      "text/plain": [
       "<Figure size 432x288 with 1 Axes>"
      ]
     },
     "metadata": {
      "needs_background": "light"
     },
     "output_type": "display_data"
    }
   ],
   "source": [
    "metrics.plot_roc_curve(logistic_regression, X_test[m2Cols], y_test) "
   ]
  },
  {
   "cell_type": "markdown",
   "metadata": {},
   "source": [
    "Let's use cross validation to see how are model does on unseen data. Let's use roc_auc as our scoring metric. Accuracy isn't so meaningful here as our accuracy is only 2-3 percent higher than a blind guess. =We will use a cv score of 5 as that is a standard number."
   ]
  },
  {
   "cell_type": "code",
   "execution_count": 71,
   "metadata": {},
   "outputs": [
    {
     "data": {
      "text/plain": [
       "array([0.74463341, 0.78227513, 0.77592593, 0.76088728, 0.7139683 ])"
      ]
     },
     "execution_count": 71,
     "metadata": {},
     "output_type": "execute_result"
    }
   ],
   "source": [
    "from sklearn.model_selection import cross_val_score\n",
    "cross_val_score(logistic_regression, X_train[m2Cols], y_train, cv = 5, scoring = 'roc_auc')"
   ]
  },
  {
   "cell_type": "markdown",
   "metadata": {},
   "source": [
    "Our numbers are close together so we aren't overfitting."
   ]
  },
  {
   "cell_type": "markdown",
   "metadata": {},
   "source": [
    "### Knn Models"
   ]
  },
  {
   "cell_type": "markdown",
   "metadata": {},
   "source": [
    "Knn is a model that messures the distance between 2 points. It classifies a data point based on which class it is closer to. "
   ]
  },
  {
   "cell_type": "code",
   "execution_count": 72,
   "metadata": {},
   "outputs": [],
   "source": [
    "from sklearn.neighbors import KNeighborsClassifier"
   ]
  },
  {
   "cell_type": "code",
   "execution_count": 73,
   "metadata": {},
   "outputs": [],
   "source": [
    "KNeighborsClassifier?"
   ]
  },
  {
   "cell_type": "markdown",
   "metadata": {},
   "source": [
    "The KNN classifier takes in some arguments that can be helpful to us. \n",
    "\n",
    "1. The type of distance metric to use. This is something we can empirically determine by trying out different values.\n",
    "\n",
    "2. The number of neighbors - the more neighbors we have, the smoother our model will be, although we may mislabel more points - that is the higher k the less variance but more bias. \n",
    "\n",
    "3. A weight function - Should we be weighting values farther away the same as points closer. Our dataset is small enough that it probably just makes sense just to try both ways. It may perform differently based on which distance metric we choose.  "
   ]
  },
  {
   "cell_type": "markdown",
   "metadata": {},
   "source": [
    "In order to determine the best parameters, we could use grid search. We should use f1 scoring as that is a weighted average of precision and recall. Both are important here, recall a bit more perhaps since we don't want to cost a bank extra money by giving a loan that the person won't be able to pay off. "
   ]
  },
  {
   "cell_type": "code",
   "execution_count": 74,
   "metadata": {},
   "outputs": [],
   "source": [
    "from sklearn.model_selection import GridSearchCV\n"
   ]
  },
  {
   "cell_type": "code",
   "execution_count": 75,
   "metadata": {},
   "outputs": [],
   "source": [
    "grid_params = {\n",
    "    'n_neighbors' : [3,5,7,11,15,19],\n",
    "    'weights': ['uniform', 'distance'],\n",
    "     'metric' : ['euclidean', 'manhattan' ] \n",
    "}\n",
    "\n",
    "gs = GridSearchCV(KNeighborsClassifier(), grid_params, cv = 5, scoring = 'f1')"
   ]
  },
  {
   "cell_type": "markdown",
   "metadata": {},
   "source": [
    "Which columns should we use? I think we should start by using the columns that did best with the logistic regression so we can directly compare how they do with binned columns. We probably should expect knn to do worse with this type of data because knn is going based off of distance."
   ]
  },
  {
   "cell_type": "code",
   "execution_count": 76,
   "metadata": {},
   "outputs": [],
   "source": [
    "gsResults = gs.fit(X_train[m2Cols],y_train)"
   ]
  },
  {
   "cell_type": "code",
   "execution_count": 77,
   "metadata": {},
   "outputs": [
    {
     "data": {
      "text/plain": [
       "{'metric': 'euclidean', 'n_neighbors': 11, 'weights': 'distance'}"
      ]
     },
     "execution_count": 77,
     "metadata": {},
     "output_type": "execute_result"
    }
   ],
   "source": [
    "gsResults.best_params_"
   ]
  },
  {
   "cell_type": "markdown",
   "metadata": {},
   "source": [
    "We see the best was with 11 neighbors, using Manhattan distance, and uniform weights. I'm actually surprised that the best number of k would be so high. I would have thought that because 88 percent of applicants are denied, a high value of k would be bad since it would be less likely that most of its neighbors would be denied."
   ]
  },
  {
   "cell_type": "markdown",
   "metadata": {},
   "source": [
    "One thing we could try is plotting how our model does with different values of k."
   ]
  },
  {
   "cell_type": "code",
   "execution_count": 78,
   "metadata": {},
   "outputs": [],
   "source": [
    "f1scores = []\n",
    "for i in range(1,20):\n",
    "    knn=KNeighborsClassifier(n_neighbors=i, metric = 'euclidean',  weights = 'distance')\n",
    "    knn.fit(X_train[m2Cols], y_train,)\n",
    "    predi = knn.predict(X_train[m2Cols])\n",
    "    f1scores.append(metrics.f1_score(predi, y_train))"
   ]
  },
  {
   "cell_type": "code",
   "execution_count": 79,
   "metadata": {},
   "outputs": [
    {
     "data": {
      "text/plain": [
       "[<matplotlib.lines.Line2D at 0x28d66d0e198>]"
      ]
     },
     "execution_count": 79,
     "metadata": {},
     "output_type": "execute_result"
    },
    {
     "data": {
      "image/png": "[encoded data removed]",
      "text/plain": [
       "<Figure size 432x288 with 1 Axes>"
      ]
     },
     "metadata": {
      "needs_background": "light"
     },
     "output_type": "display_data"
    }
   ],
   "source": [
    "plt.plot(f1scores)"
   ]
  },
  {
   "cell_type": "markdown",
   "metadata": {},
   "source": [
    "We have k on the x axis and f1 scores on the y axis. According to our grid search, a value of k =11 had the best cross validation score. This graph seems a bit suspicious because of how many spikes and dips we have. Part of the problem may be that so few records actually were denied and it's making our model unstable. It also could be from something with binning the data. Let's see what our recall looks like. "
   ]
  },
  {
   "cell_type": "code",
   "execution_count": 80,
   "metadata": {},
   "outputs": [],
   "source": [
    "recallscores = []\n",
    "for i in range(1,20):\n",
    "    knn=KNeighborsClassifier(n_neighbors=i, metric = 'euclidean',  weights = 'distance')\n",
    "    knn.fit(X_train[m2Cols], y_train,)\n",
    "    predi = knn.predict(X_train[m2Cols])\n",
    "    recallscores.append(metrics.recall_score(predi, y_train))\n"
   ]
  },
  {
   "cell_type": "code",
   "execution_count": 81,
   "metadata": {},
   "outputs": [
    {
     "data": {
      "text/plain": [
       "[<matplotlib.lines.Line2D at 0x28d66cd4d68>]"
      ]
     },
     "execution_count": 81,
     "metadata": {},
     "output_type": "execute_result"
    },
    {
     "data": {
      "image/png": "[encoded data removed]",
      "text/plain": [
       "<Figure size 432x288 with 1 Axes>"
      ]
     },
     "metadata": {
      "needs_background": "light"
     },
     "output_type": "display_data"
    }
   ],
   "source": [
    "plt.plot(recallscores)"
   ]
  },
  {
   "cell_type": "markdown",
   "metadata": {},
   "source": [
    "The peak at the start may be to overfitting values close together. It then goes back to around .65. We later have peaks at around 12. It's hard to guess completely why we have those later peaks. Intuitively, I would think increasing k would make our guesses more stable but part of the problem may be our features. The bins might have worked well for the logistic regression where the value is just a weight we multiply if set but it seems not to be working so well here where we are looking for neighbors by distance. In our next model we will use the non binned features. "
   ]
  },
  {
   "cell_type": "markdown",
   "metadata": {},
   "source": [
    "Let's use k = 11 as from grid search that had the best results."
   ]
  },
  {
   "cell_type": "code",
   "execution_count": 82,
   "metadata": {},
   "outputs": [],
   "source": [
    "knn=KNeighborsClassifier(n_neighbors=11, metric = 'euclidean',  weights = 'distance')\n",
    "knn.fit(X_train[m2Cols], y_train,)\n",
    "pred = knn.predict(X_train[m2Cols])"
   ]
  },
  {
   "cell_type": "code",
   "execution_count": 83,
   "metadata": {},
   "outputs": [
    {
     "data": {
      "text/plain": [
       "0.8997198879551821"
      ]
     },
     "execution_count": 83,
     "metadata": {},
     "output_type": "execute_result"
    }
   ],
   "source": [
    "sc = metrics.accuracy_score(y_train,pred)\n",
    "accuracy_score.append(sc)\n",
    "sc"
   ]
  },
  {
   "cell_type": "markdown",
   "metadata": {},
   "source": [
    "Our accuracy score isn't that great as it is under 2 percent higher than a blind guess. "
   ]
  },
  {
   "cell_type": "code",
   "execution_count": 84,
   "metadata": {},
   "outputs": [
    {
     "data": {
      "text/plain": [
       "0.6410256410256411"
      ]
     },
     "execution_count": 84,
     "metadata": {},
     "output_type": "execute_result"
    }
   ],
   "source": [
    "sc = metrics.precision_score(y_train,pred)\n",
    "precision_score.append(sc)\n",
    "sc"
   ]
  },
  {
   "cell_type": "markdown",
   "metadata": {},
   "source": [
    "Our precision is surprisingly bad. We saw our logistic regression model was around 70 percent. This means we have a lot of false positives, that is rejecting mortgages that we should accept. This should mean our recall is higher though..."
   ]
  },
  {
   "cell_type": "code",
   "execution_count": 85,
   "metadata": {},
   "outputs": [
    {
     "data": {
      "text/plain": [
       "0.35377358490566035"
      ]
     },
     "execution_count": 85,
     "metadata": {},
     "output_type": "execute_result"
    }
   ],
   "source": [
    "sc = metrics.recall_score(y_train,pred)\n",
    "recall_score.append(sc)\n",
    "sc"
   ]
  },
  {
   "cell_type": "markdown",
   "metadata": {},
   "source": [
    "Our recall score is higher than logistic regression but only by around 2 percent which isn't that good considering the drop in precision."
   ]
  },
  {
   "cell_type": "code",
   "execution_count": 86,
   "metadata": {},
   "outputs": [
    {
     "data": {
      "text/plain": [
       "0.4559270516717325"
      ]
     },
     "execution_count": 86,
     "metadata": {},
     "output_type": "execute_result"
    }
   ],
   "source": [
    "\n",
    "sc = metrics.f1_score(y_train,pred)\n",
    "f1_score.append(sc)\n",
    "sc"
   ]
  },
  {
   "cell_type": "markdown",
   "metadata": {},
   "source": [
    "The f1 score winds up being around the same as we saw in the logistic regression model. This is because we are taking a weighted average."
   ]
  },
  {
   "cell_type": "markdown",
   "metadata": {},
   "source": [
    "### KNN model 2"
   ]
  },
  {
   "cell_type": "markdown",
   "metadata": {},
   "source": [
    "Let's try to create a new knn model without the binned variables. This might help eliminate the oddness we saw in changing k in our first model. "
   ]
  },
  {
   "cell_type": "markdown",
   "metadata": {},
   "source": [
    "So which columns? \n",
    "\n",
    "Many of our predictors changed the probability of denial when we grouped by the value_counts. They were dmi, pbcr, black, and lvr. dir and hir also were significant but we saw that those are correlated so we should only choose 1 of those features. I will include ccs even though it is related to pbcr since the relationship is not so strong and few rows have a 1 for pbcr. We will include single since that also resulted in around a 5 percent change in our target variable.\n"
   ]
  },
  {
   "cell_type": "code",
   "execution_count": 87,
   "metadata": {},
   "outputs": [],
   "source": [
    "m3Cols = ['dmi', 'pbcr', 'ccs', 'black', 'lvr', 'dir', 'single', 'mcs']\n"
   ]
  },
  {
   "cell_type": "code",
   "execution_count": 88,
   "metadata": {},
   "outputs": [],
   "source": [
    "gsResults = gs.fit(X_train[m3Cols],y_train)"
   ]
  },
  {
   "cell_type": "code",
   "execution_count": 89,
   "metadata": {},
   "outputs": [
    {
     "data": {
      "text/plain": [
       "{'metric': 'manhattan', 'n_neighbors': 3, 'weights': 'uniform'}"
      ]
     },
     "execution_count": 89,
     "metadata": {},
     "output_type": "execute_result"
    }
   ],
   "source": [
    "gsResults.best_params_"
   ]
  },
  {
   "cell_type": "markdown",
   "metadata": {},
   "source": [
    "Interestingly, here the model does better when we use a distance metric and a k of 3. I think we should plot out the k's like we did in model 1. "
   ]
  },
  {
   "cell_type": "code",
   "execution_count": 90,
   "metadata": {},
   "outputs": [],
   "source": [
    "recall = []\n",
    "for i in range(1,25):\n",
    "    knn=KNeighborsClassifier(n_neighbors=i)\n",
    "    knn.fit(X_train[m3Cols], y_train)\n",
    "    predi = knn.predict(X_train[m3Cols])\n",
    "    recall.append(metrics.recall_score(predi, y_train))\n",
    "    "
   ]
  },
  {
   "cell_type": "code",
   "execution_count": 91,
   "metadata": {},
   "outputs": [
    {
     "data": {
      "text/plain": [
       "[<matplotlib.lines.Line2D at 0x28d673c4358>]"
      ]
     },
     "execution_count": 91,
     "metadata": {},
     "output_type": "execute_result"
    },
    {
     "data": {
      "image/png": "[encoded data removed]",
      "text/plain": [
       "<Figure size 432x288 with 1 Axes>"
      ]
     },
     "metadata": {
      "needs_background": "light"
     },
     "output_type": "display_data"
    }
   ],
   "source": [
    "plt.plot(recall)"
   ]
  },
  {
   "cell_type": "markdown",
   "metadata": {},
   "source": [
    "Our f1 score is very high at k = 1. This is because we have very low bias from using only a single neighbor. When we raise k our bias increases as we see our recall is going down but our variance decreases. This is the behavior I would have expected from model 1 but it may have been impacted by the sparse/binned features. \n",
    "\n",
    "Also, when we have large values of k, since there are so few positives, we would tend for the majority class to always vote negative. I think for this model we should guess a low k value would do better. One way to correct for this would be to try different sampling methods. "
   ]
  },
  {
   "cell_type": "code",
   "execution_count": 92,
   "metadata": {},
   "outputs": [],
   "source": [
    "f1scores = []\n",
    "for i in range(1,25):\n",
    "    knn=KNeighborsClassifier(n_neighbors=i)\n",
    "    f1scores.append(cross_val_score(knn, X_train[m3Cols], y_train, cv = 5, scoring = 'f1').mean()) #inefficent but small dataset size. \n",
    "    "
   ]
  },
  {
   "cell_type": "code",
   "execution_count": 93,
   "metadata": {},
   "outputs": [
    {
     "data": {
      "text/plain": [
       "[<matplotlib.lines.Line2D at 0x28d6741ff98>]"
      ]
     },
     "execution_count": 93,
     "metadata": {},
     "output_type": "execute_result"
    },
    {
     "data": {
      "image/png": "[encoded data removed]",
      "text/plain": [
       "<Figure size 432x288 with 1 Axes>"
      ]
     },
     "metadata": {
      "needs_background": "light"
     },
     "output_type": "display_data"
    }
   ],
   "source": [
    "plt.plot(f1scores)"
   ]
  },
  {
   "cell_type": "markdown",
   "metadata": {},
   "source": [
    "This plot shows how our cross validation scores do at different values of k. We see at very large values of k, our performance rapidly degrades. This is probably because there are so few positive predictions, most of the neighbors will tend to be of the majority class."
   ]
  },
  {
   "cell_type": "markdown",
   "metadata": {},
   "source": [
    "I think the value we got at k =3 makes a lot of sense here. We saw from our plot of ks that our recall scores were high and we saw from our grid search that these values did not have much variance."
   ]
  },
  {
   "cell_type": "code",
   "execution_count": 94,
   "metadata": {},
   "outputs": [],
   "source": [
    "knn=KNeighborsClassifier(n_neighbors=3, weights='uniform', metric = 'manhattan')"
   ]
  },
  {
   "cell_type": "code",
   "execution_count": 95,
   "metadata": {},
   "outputs": [],
   "source": [
    "knn.fit(X_train[m3Cols], y_train)\n",
    "pred = knn.predict(X_train[m3Cols])"
   ]
  },
  {
   "cell_type": "code",
   "execution_count": 96,
   "metadata": {},
   "outputs": [
    {
     "data": {
      "text/plain": [
       "0.9198879551820728"
      ]
     },
     "execution_count": 96,
     "metadata": {},
     "output_type": "execute_result"
    }
   ],
   "source": [
    "sc = metrics.accuracy_score(y_train,pred)\n",
    "accuracy_score.append(sc)\n",
    "sc"
   ]
  },
  {
   "cell_type": "markdown",
   "metadata": {},
   "source": [
    "Our accuracy score is much higher than the logistic regression model and previous knn model. Although 92 percent sounds the same as 90 percent, this is around double the improvement both models did by making a blind guess from 2 percent to 4 percent."
   ]
  },
  {
   "cell_type": "code",
   "execution_count": 97,
   "metadata": {},
   "outputs": [
    {
     "data": {
      "text/plain": [
       "0.7899159663865546"
      ]
     },
     "execution_count": 97,
     "metadata": {},
     "output_type": "execute_result"
    }
   ],
   "source": [
    "sc = metrics.precision_score(y_train,pred)\n",
    "precision_score.append(sc)\n",
    "sc"
   ]
  },
  {
   "cell_type": "markdown",
   "metadata": {},
   "source": [
    "Our precision score is also much higher at close to 79 percent."
   ]
  },
  {
   "cell_type": "code",
   "execution_count": 98,
   "metadata": {},
   "outputs": [
    {
     "data": {
      "text/plain": [
       "0.44339622641509435"
      ]
     },
     "execution_count": 98,
     "metadata": {},
     "output_type": "execute_result"
    }
   ],
   "source": [
    "sc = metrics.recall_score(y_train,pred)\n",
    "recall_score.append(sc)\n",
    "sc"
   ]
  },
  {
   "cell_type": "markdown",
   "metadata": {},
   "source": [
    "Our recall is higher than both models at 44 percent."
   ]
  },
  {
   "cell_type": "code",
   "execution_count": 99,
   "metadata": {},
   "outputs": [
    {
     "data": {
      "text/plain": [
       "0.5679758308157099"
      ]
     },
     "execution_count": 99,
     "metadata": {},
     "output_type": "execute_result"
    }
   ],
   "source": [
    "sc = metrics.f1_score(y_train,pred)\n",
    "f1_score.append(sc)\n",
    "sc"
   ]
  },
  {
   "cell_type": "markdown",
   "metadata": {},
   "source": [
    "And we see from this that our f1 score is also much higher. This is over an 11 percent improvement."
   ]
  },
  {
   "cell_type": "markdown",
   "metadata": {},
   "source": [
    "### SVM model 1"
   ]
  },
  {
   "cell_type": "markdown",
   "metadata": {},
   "source": [
    "SVM is a more complicated model. It involves finding a decision boundary that maximizes the distance between the support vectors. "
   ]
  },
  {
   "cell_type": "markdown",
   "metadata": {},
   "source": [
    "SVM has a few hyperparameters. \n",
    "1. C - this is the penalty term we use to avoid overfitting. A large c will try to predict the most number of points possible. A low c will allow for more misclassifications (higher bias) but have lower variance.\n",
    "2. Gamma - This is a parameter for the kernel function. This is how we transform our vector into a higher dimension. The higher the gamma, the more curvature we use. In other words, a low gamma would behave similar to a linear model. "
   ]
  },
  {
   "cell_type": "markdown",
   "metadata": {},
   "source": [
    "The kernel function is how we turn into into a higher dimension. Our data is not linear separable, that is we can't completely draw a line to cluster all of our variables into groups - one hint that this is true may be as we saw not every time we have an outlier we have an outlier in all the other features -We should try empirically the rbf and poly kernel."
   ]
  },
  {
   "cell_type": "markdown",
   "metadata": {},
   "source": [
    "We could use grid search to find the best values for c and Gamma. We will use the same columns as we did for model 1 and 2. This will allow us to compare the results. I'm also curious how our model will do with binned columns. "
   ]
  },
  {
   "cell_type": "code",
   "execution_count": 100,
   "metadata": {},
   "outputs": [],
   "source": [
    "param_grid = {'C': [0.1,1, 10, 100],\n",
    "              'gamma': [1,0.1,0.01,0.001] }"
   ]
  },
  {
   "cell_type": "code",
   "execution_count": 101,
   "metadata": {},
   "outputs": [],
   "source": [
    "from sklearn.svm import SVC  \n",
    "grid = GridSearchCV(SVC(kernel = 'rbf'),param_grid, cv = 5, scoring = 'f1')\n",
    "res = grid.fit(X_train[m2Cols],y_train)"
   ]
  },
  {
   "cell_type": "code",
   "execution_count": 102,
   "metadata": {},
   "outputs": [
    {
     "data": {
      "text/plain": [
       "0.41883285816108334"
      ]
     },
     "execution_count": 102,
     "metadata": {},
     "output_type": "execute_result"
    }
   ],
   "source": [
    "res.best_score_"
   ]
  },
  {
   "cell_type": "code",
   "execution_count": 103,
   "metadata": {},
   "outputs": [
    {
     "data": {
      "text/plain": [
       "{'C': 1, 'gamma': 1}"
      ]
     },
     "execution_count": 103,
     "metadata": {},
     "output_type": "execute_result"
    }
   ],
   "source": [
    "res.best_params_"
   ]
  },
  {
   "cell_type": "code",
   "execution_count": 104,
   "metadata": {},
   "outputs": [],
   "source": [
    "grid = GridSearchCV(SVC(kernel = 'poly'),param_grid, cv = 5, scoring = 'f1')"
   ]
  },
  {
   "cell_type": "code",
   "execution_count": 105,
   "metadata": {},
   "outputs": [],
   "source": [
    "res = grid.fit(X_train[m2Cols],y_train)"
   ]
  },
  {
   "cell_type": "code",
   "execution_count": 106,
   "metadata": {},
   "outputs": [
    {
     "data": {
      "text/plain": [
       "0.42766653655997916"
      ]
     },
     "execution_count": 106,
     "metadata": {},
     "output_type": "execute_result"
    }
   ],
   "source": [
    "res.best_score_"
   ]
  },
  {
   "cell_type": "code",
   "execution_count": 107,
   "metadata": {},
   "outputs": [
    {
     "data": {
      "text/plain": [
       "{'C': 1, 'gamma': 1}"
      ]
     },
     "execution_count": 107,
     "metadata": {},
     "output_type": "execute_result"
    }
   ],
   "source": [
    "res.best_params_"
   ]
  },
  {
   "cell_type": "markdown",
   "metadata": {},
   "source": [
    "I used the kernels seperatly just to compare the effects of the different kernels."
   ]
  },
  {
   "cell_type": "code",
   "execution_count": null,
   "metadata": {},
   "outputs": [],
   "source": []
  },
  {
   "cell_type": "markdown",
   "metadata": {},
   "source": [
    "We see we do best with a c of 1 and a polynomial kernel. The c of 1 is low - in the middle. - A higher c value would lead to Gamma also is low - in the middle. Let's get more stats from this model."
   ]
  },
  {
   "cell_type": "code",
   "execution_count": 108,
   "metadata": {},
   "outputs": [
    {
     "data": {
      "text/plain": [
       "SVC(C=1, gamma=1, kernel='poly')"
      ]
     },
     "execution_count": 108,
     "metadata": {},
     "output_type": "execute_result"
    }
   ],
   "source": [
    "svc = SVC(C = 1, kernel = 'poly', gamma = 1)\n",
    "svc.fit(X_train[m2Cols],y_train)"
   ]
  },
  {
   "cell_type": "code",
   "execution_count": 109,
   "metadata": {},
   "outputs": [],
   "source": [
    "pred = svc.predict(X_train[m2Cols])"
   ]
  },
  {
   "cell_type": "code",
   "execution_count": 110,
   "metadata": {},
   "outputs": [
    {
     "data": {
      "text/plain": [
       "0.9053221288515406"
      ]
     },
     "execution_count": 110,
     "metadata": {},
     "output_type": "execute_result"
    }
   ],
   "source": [
    "sc = metrics.accuracy_score(y_train,pred)\n",
    "accuracy_score.append(sc)\n",
    "sc"
   ]
  },
  {
   "cell_type": "markdown",
   "metadata": {},
   "source": [
    "This is better than our first k neighbors model."
   ]
  },
  {
   "cell_type": "code",
   "execution_count": 111,
   "metadata": {},
   "outputs": [
    {
     "data": {
      "text/plain": [
       "0.7362637362637363"
      ]
     },
     "execution_count": 111,
     "metadata": {},
     "output_type": "execute_result"
    }
   ],
   "source": [
    "sc = metrics.precision_score(y_train,pred)\n",
    "precision_score.append(sc)\n",
    "sc"
   ]
  },
  {
   "cell_type": "markdown",
   "metadata": {},
   "source": [
    "Our precision is around where we saw the other models at. "
   ]
  },
  {
   "cell_type": "code",
   "execution_count": 112,
   "metadata": {},
   "outputs": [
    {
     "data": {
      "text/plain": [
       "0.3160377358490566"
      ]
     },
     "execution_count": 112,
     "metadata": {},
     "output_type": "execute_result"
    }
   ],
   "source": [
    "sc = metrics.recall_score(y_train,pred)\n",
    "recall_score.append(sc)\n",
    "sc"
   ]
  },
  {
   "cell_type": "markdown",
   "metadata": {},
   "source": [
    "but our recall score is very low."
   ]
  },
  {
   "cell_type": "code",
   "execution_count": 113,
   "metadata": {},
   "outputs": [
    {
     "data": {
      "text/plain": [
       "0.44224422442244227"
      ]
     },
     "execution_count": 113,
     "metadata": {},
     "output_type": "execute_result"
    }
   ],
   "source": [
    "sc = metrics.f1_score(y_train,pred)\n",
    "f1_score.append(sc)\n",
    "sc"
   ]
  },
  {
   "cell_type": "markdown",
   "metadata": {},
   "source": [
    "The low recall score results in a low f1 score. We may do better with the non binned columns."
   ]
  },
  {
   "cell_type": "markdown",
   "metadata": {},
   "source": [
    "### SVM Model 2"
   ]
  },
  {
   "cell_type": "markdown",
   "metadata": {},
   "source": [
    "We will use the columns we tried with the second knn since that model did really well compared to the logistic regression."
   ]
  },
  {
   "cell_type": "code",
   "execution_count": 114,
   "metadata": {},
   "outputs": [],
   "source": [
    "param_grid = {'C': [0.1,1, 10],\n",
    "              'gamma': [1,0.1,0.01],\n",
    "              'kernel': ['poly']} # we have a lot more features than the previous model and I ran it once and it showed poly was better than rbf. It will be too long to execute this each time."
   ]
  },
  {
   "cell_type": "code",
   "execution_count": 115,
   "metadata": {},
   "outputs": [],
   "source": [
    "#grid = GridSearchCV(SVC(),param_grid, cv = 5, scoring = 'f1', verbose = 2, n_jobs = -1)\n",
    "#res = grid.fit(X_train[m3Cols],y_train)"
   ]
  },
  {
   "cell_type": "code",
   "execution_count": 116,
   "metadata": {},
   "outputs": [
    {
     "data": {
      "text/plain": [
       "{'C': 1, 'gamma': 1}"
      ]
     },
     "execution_count": 116,
     "metadata": {},
     "output_type": "execute_result"
    }
   ],
   "source": [
    "res.best_params_"
   ]
  },
  {
   "cell_type": "markdown",
   "metadata": {},
   "source": [
    "Let's use these parameters"
   ]
  },
  {
   "cell_type": "code",
   "execution_count": 117,
   "metadata": {},
   "outputs": [
    {
     "data": {
      "text/plain": [
       "SVC(C=1, gamma=0.1, kernel='poly')"
      ]
     },
     "execution_count": 117,
     "metadata": {},
     "output_type": "execute_result"
    }
   ],
   "source": [
    "svc = SVC(C = 1, kernel = 'poly', gamma = .1)\n",
    "svc.fit(X_train[m3Cols],y_train)"
   ]
  },
  {
   "cell_type": "code",
   "execution_count": 118,
   "metadata": {},
   "outputs": [],
   "source": [
    "pred = svc.predict(X_train[m3Cols])"
   ]
  },
  {
   "cell_type": "code",
   "execution_count": 119,
   "metadata": {},
   "outputs": [
    {
     "data": {
      "text/plain": [
       "0.9019607843137255"
      ]
     },
     "execution_count": 119,
     "metadata": {},
     "output_type": "execute_result"
    }
   ],
   "source": [
    "sc = metrics.accuracy_score(y_train,pred)\n",
    "accuracy_score.append(sc)\n",
    "sc"
   ]
  },
  {
   "cell_type": "code",
   "execution_count": 120,
   "metadata": {},
   "outputs": [
    {
     "data": {
      "text/plain": [
       "0.7283950617283951"
      ]
     },
     "execution_count": 120,
     "metadata": {},
     "output_type": "execute_result"
    }
   ],
   "source": [
    "sc = metrics.precision_score(y_train,pred)\n",
    "precision_score.append(sc)\n",
    "sc"
   ]
  },
  {
   "cell_type": "code",
   "execution_count": 121,
   "metadata": {},
   "outputs": [
    {
     "data": {
      "text/plain": [
       "0.2783018867924528"
      ]
     },
     "execution_count": 121,
     "metadata": {},
     "output_type": "execute_result"
    }
   ],
   "source": [
    "sc = metrics.recall_score(y_train,pred)\n",
    "recall_score.append(sc)\n",
    "sc"
   ]
  },
  {
   "cell_type": "code",
   "execution_count": 122,
   "metadata": {},
   "outputs": [
    {
     "data": {
      "text/plain": [
       "0.40273037542662116"
      ]
     },
     "execution_count": 122,
     "metadata": {},
     "output_type": "execute_result"
    }
   ],
   "source": [
    "sc = metrics.f1_score(y_train,pred)\n",
    "f1_score.append(sc)\n",
    "sc"
   ]
  },
  {
   "cell_type": "markdown",
   "metadata": {},
   "source": [
    "With this model, we see that our precision score is in the middle but our recall score is very low, even lower than what we saw when using binned columns. This is very poor considering the added complexity of the model."
   ]
  },
  {
   "cell_type": "markdown",
   "metadata": {},
   "source": [
    "#### Model Comparison. "
   ]
  },
  {
   "cell_type": "code",
   "execution_count": 123,
   "metadata": {},
   "outputs": [
    {
     "data": {
      "text/html": [
       "<div>\n",
       "<style scoped>\n",
       "    .dataframe tbody tr th:only-of-type {\n",
       "        vertical-align: middle;\n",
       "    }\n",
       "\n",
       "    .dataframe tbody tr th {\n",
       "        vertical-align: top;\n",
       "    }\n",
       "\n",
       "    .dataframe thead th {\n",
       "        text-align: right;\n",
       "    }\n",
       "</style>\n",
       "<table border=\"1\" class=\"dataframe\">\n",
       "  <thead>\n",
       "    <tr style=\"text-align: right;\">\n",
       "      <th></th>\n",
       "      <th>0</th>\n",
       "      <th>1</th>\n",
       "      <th>2</th>\n",
       "      <th>3</th>\n",
       "      <th>4</th>\n",
       "    </tr>\n",
       "  </thead>\n",
       "  <tbody>\n",
       "    <tr>\n",
       "      <th>accuracy_score</th>\n",
       "      <td>0.904762</td>\n",
       "      <td>0.899720</td>\n",
       "      <td>0.919888</td>\n",
       "      <td>0.905322</td>\n",
       "      <td>0.901961</td>\n",
       "    </tr>\n",
       "    <tr>\n",
       "      <th>precision_score</th>\n",
       "      <td>0.714286</td>\n",
       "      <td>0.641026</td>\n",
       "      <td>0.789916</td>\n",
       "      <td>0.736264</td>\n",
       "      <td>0.728395</td>\n",
       "    </tr>\n",
       "    <tr>\n",
       "      <th>recall_score</th>\n",
       "      <td>0.330189</td>\n",
       "      <td>0.353774</td>\n",
       "      <td>0.443396</td>\n",
       "      <td>0.316038</td>\n",
       "      <td>0.278302</td>\n",
       "    </tr>\n",
       "    <tr>\n",
       "      <th>f1_score</th>\n",
       "      <td>0.451613</td>\n",
       "      <td>0.455927</td>\n",
       "      <td>0.567976</td>\n",
       "      <td>0.442244</td>\n",
       "      <td>0.402730</td>\n",
       "    </tr>\n",
       "  </tbody>\n",
       "</table>\n",
       "</div>"
      ],
      "text/plain": [
       "                        0         1         2         3         4\n",
       "accuracy_score   0.904762  0.899720  0.919888  0.905322  0.901961\n",
       "precision_score  0.714286  0.641026  0.789916  0.736264  0.728395\n",
       "recall_score     0.330189  0.353774  0.443396  0.316038  0.278302\n",
       "f1_score         0.451613  0.455927  0.567976  0.442244  0.402730"
      ]
     },
     "execution_count": 123,
     "metadata": {},
     "output_type": "execute_result"
    }
   ],
   "source": [
    "scores = pd.DataFrame([accuracy_score, precision_score, recall_score, f1_score])\n",
    "#scores.columns = ['model1','model2','model3','model4']\n",
    "scores.index = ['accuracy_score', 'precision_score', 'recall_score', 'f1_score']\n",
    "scores"
   ]
  },
  {
   "cell_type": "markdown",
   "metadata": {},
   "source": [
    "It is pretty clear from these stats that the 3rd model (the second knn model) is the best. The f1_score is significantly higher that the other scores showing it has better recall and precision. \n",
    "\n",
    "Compared to our logistic regression model, this model does not perform badly because we aren't using so many features and we don't have so many rows. It is a fairly fast and quick model to use. \n",
    "\n",
    "Our svm models (models 4 and 5) though seem to be worse than both our logistic regression model and our knn models. It makes little sense to use this model because it is more complex and it's f1 score is much lower. "
   ]
  },
  {
   "cell_type": "code",
   "execution_count": 140,
   "metadata": {},
   "outputs": [
    {
     "data": {
      "text/plain": [
       "array([0.38596491, 0.41269841, 0.43076923, 0.4137931 , 0.29411765])"
      ]
     },
     "execution_count": 140,
     "metadata": {},
     "output_type": "execute_result"
    }
   ],
   "source": [
    "knn=KNeighborsClassifier(n_neighbors=3, weights='uniform', metric = 'manhattan')\n",
    "cross_val_score(knn, X_train[m3Cols], y_train, cv = 5, scoring = 'f1')"
   ]
  },
  {
   "cell_type": "markdown",
   "metadata": {},
   "source": [
    "Our cross val scores also seem to be around .4 except for the last one which is around .3. It is slightly concerning for us since we saw above tht model 2 actually had a recall score of .567. This makes it seem like we are overfitting. Let's see what happens if we increase k."
   ]
  },
  {
   "cell_type": "code",
   "execution_count": 139,
   "metadata": {},
   "outputs": [
    {
     "data": {
      "text/plain": [
       "array([0.37037037, 0.28571429, 0.42622951, 0.36666667, 0.17241379])"
      ]
     },
     "execution_count": 139,
     "metadata": {},
     "output_type": "execute_result"
    }
   ],
   "source": [
    "knn=KNeighborsClassifier(n_neighbors=5, weights='uniform', metric = 'manhattan')\n",
    "cross_val_score(knn, X_train[m3Cols], y_train, cv = 5, scoring = 'f1')"
   ]
  },
  {
   "cell_type": "markdown",
   "metadata": {},
   "source": [
    "All of our f1 scores went down and it doesn't really seem like there is less variance between the scores. Let's try with 1 more k"
   ]
  },
  {
   "cell_type": "code",
   "execution_count": 142,
   "metadata": {},
   "outputs": [
    {
     "data": {
      "text/plain": [
       "array([0.26415094, 0.29090909, 0.32142857, 0.15686275, 0.2       ])"
      ]
     },
     "execution_count": 142,
     "metadata": {},
     "output_type": "execute_result"
    }
   ],
   "source": [
    "knn=KNeighborsClassifier(n_neighbors=9, weights='uniform', metric = 'manhattan')\n",
    "cross_val_score(knn, X_train[m3Cols], y_train, cv = 5, scoring = 'f1')"
   ]
  },
  {
   "cell_type": "markdown",
   "metadata": {},
   "source": [
    "We see that increasing our k doesn't really seem to be helping our scores anymore. We also saw this above with our grid search. Because of this, I think we should use k =3. If we had more positive cases this model would be able to do significantly better. "
   ]
  },
  {
   "cell_type": "markdown",
   "metadata": {},
   "source": [
    "Test Data"
   ]
  },
  {
   "cell_type": "code",
   "execution_count": 157,
   "metadata": {},
   "outputs": [],
   "source": [
    "knn=KNeighborsClassifier(n_neighbors=3, weights='uniform', metric = 'manhattan')\n",
    "knn.fit(X_train[m3Cols],y_train)\n",
    "pred = knn.predict(X_test[m3Cols])\n"
   ]
  },
  {
   "cell_type": "code",
   "execution_count": 161,
   "metadata": {},
   "outputs": [
    {
     "data": {
      "text/plain": [
       "0.5"
      ]
     },
     "execution_count": 161,
     "metadata": {},
     "output_type": "execute_result"
    }
   ],
   "source": [
    "metrics.precision_score(y_test,pred)"
   ]
  },
  {
   "cell_type": "code",
   "execution_count": 159,
   "metadata": {},
   "outputs": [
    {
     "data": {
      "text/plain": [
       "0.3865546218487395"
      ]
     },
     "execution_count": 159,
     "metadata": {},
     "output_type": "execute_result"
    }
   ],
   "source": [
    "metrics.f1_score(y_test,pred)"
   ]
  },
  {
   "cell_type": "markdown",
   "metadata": {},
   "source": [
    "Our f1 score on our test data is around the .4 we saw when we did our cross validation. This is a bit lower than what we got from the logistic regression actually."
   ]
  },
  {
   "cell_type": "markdown",
   "metadata": {},
   "source": [
    "Let's plot an auc curve."
   ]
  },
  {
   "cell_type": "code",
   "execution_count": 164,
   "metadata": {},
   "outputs": [
    {
     "data": {
      "text/plain": [
       "<sklearn.metrics._plot.roc_curve.RocCurveDisplay at 0x28d6756c6a0>"
      ]
     },
     "execution_count": 164,
     "metadata": {},
     "output_type": "execute_result"
    },
    {
     "data": {
      "image/png": "[encoded data removed]",
      "text/plain": [
       "<Figure size 432x288 with 1 Axes>"
      ]
     },
     "metadata": {
      "needs_background": "light"
     },
     "output_type": "display_data"
    }
   ],
   "source": [
    "metrics.plot_roc_curve(knn, X_test[m3Cols], y_test) "
   ]
  },
  {
   "cell_type": "markdown",
   "metadata": {},
   "source": [
    "Our auc curve is .71 which is decent. Auc is on a scale of 0 to 1 where 1 be be a perfect model. "
   ]
  },
  {
   "cell_type": "markdown",
   "metadata": {},
   "source": [
    "I specified drop_intermidiate = False to tell scikit learn to evaluate all the points. This didn't really change our curve though."
   ]
  },
  {
   "cell_type": "code",
   "execution_count": 165,
   "metadata": {},
   "outputs": [
    {
     "data": {
      "text/plain": [
       "0.5"
      ]
     },
     "execution_count": 165,
     "metadata": {},
     "output_type": "execute_result"
    }
   ],
   "source": [
    "metrics.precision_score(y_test, pred)"
   ]
  },
  {
   "cell_type": "markdown",
   "metadata": {},
   "source": [
    "Our precision score is very low compared to the other models."
   ]
  },
  {
   "cell_type": "code",
   "execution_count": 166,
   "metadata": {},
   "outputs": [
    {
     "data": {
      "text/plain": [
       "0.3150684931506849"
      ]
     },
     "execution_count": 166,
     "metadata": {},
     "output_type": "execute_result"
    }
   ],
   "source": [
    "metrics.recall_score(y_test, pred)"
   ]
  },
  {
   "cell_type": "markdown",
   "metadata": {},
   "source": [
    "Our recall score also is a bit lower. "
   ]
  },
  {
   "cell_type": "markdown",
   "metadata": {},
   "source": [
    "Overall this model seems to be overfitting the data a bit. I think the problem with the knn here might be the nature of the data where 88 percent of the values have values of 0. It is a no win situation because if k is too low then we will overfit but if k is too high then the majority will always vote the loan was not denied. Increasing k beyond 3 significantly detriments our model. I think though this model still is better than the svc which had very bad numbers. I would rethink using a distance based model for this problem. "
   ]
  },
  {
   "cell_type": "markdown",
   "metadata": {},
   "source": [
    "Conclusions."
   ]
  },
  {
   "cell_type": "markdown",
   "metadata": {},
   "source": [
    "1. We saw that there does seem to be some discrimination based on being black in the housing market as we saw that being black results in an increase probability of denial, although we also saw that black people have lower credit scores and we can't identify whether the low credit score is because they are black or other reasons.\n",
    "2. We saw that the knn model does significantly better than SVM and logistic regression model for this dataset"
   ]
  },
  {
   "cell_type": "code",
   "execution_count": null,
   "metadata": {},
   "outputs": [],
   "source": []
  }
 ],
 "metadata": {
  "kernelspec": {
   "display_name": "Python 3",
   "language": "python",
   "name": "python3"
  },
  "language_info": {
   "codemirror_mode": {
    "name": "ipython",
    "version": 3
   },
   "file_extension": ".py",
   "mimetype": "text/x-python",
   "name": "python",
   "nbconvert_exporter": "python",
   "pygments_lexer": "ipython3",
   "version": "3.7.1"
  }
 },
 "nbformat": 4,
 "nbformat_minor": 2
}
