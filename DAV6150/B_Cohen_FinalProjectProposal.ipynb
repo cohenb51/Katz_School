{
 "cells": [
  {
   "cell_type": "markdown",
   "metadata": {},
   "source": [
    "Benny Cohen\n",
    "\n",
    "Final Project Proposal\n",
    "\n",
    "7/12/2020"
   ]
  },
  {
   "cell_type": "markdown",
   "metadata": {},
   "source": [
    "## Introduction"
   ]
  },
  {
   "cell_type": "markdown",
   "metadata": {},
   "source": [
    "People write articles for a variety of reasons. Some people may find something interesting and want to share it, some people may simply want to entertain others, and others may be doing it for economic reasons. No matter the cause, people write articles so that people will read them. It is of interest then to structure articles in ways that maximize the number of readers.\n",
    "\n",
    "\n",
    "One metric regarding this that is particularly important is the number of shares an article has. Not only do shares indicate how popular an article is, search engines use the number of shares when ranking which results to display first. \n",
    "I would like to create a model that could predict the number of shares that an article has given some information about the structure of the article. \n",
    "\n",
    "The dataset is from Mashable, an entertainment company, and can be found at https://archive.ics.uci.edu/ml/datasets/Online+News+Popularity. The dataset contains information about the number of words in the title, the day the article was published, the number of key words in the title, and the polarity of the title. \n",
    "A model such as this could be useful in figuring out good titles and times to publish an article. At the time of publishing the article, it could be hard to tell how popular the article will be. At the same time though, we would have access to almost all of the other features mentioned in the dataset. A model like this could help optimize what title the article should have, and what day the article should be released in order to maximize the number of shares. \n"
   ]
  },
  {
   "cell_type": "markdown",
   "metadata": {},
   "source": [
    "## Research Questions"
   ]
  },
  {
   "cell_type": "markdown",
   "metadata": {},
   "source": [
    "1. Do people tend to read articles with titles that are more 'polar' (ie - not objective)."
   ]
  },
  {
   "cell_type": "markdown",
   "metadata": {},
   "source": [
    "Knowing the answer to this is particularly important when it comes to writing articles. Some newspapers are often accused of being too liberal or conservative. Part of the reason they may be doing this is to keep their readers happy. It would therefore be interesting to know if it is possible to keep readers happy while writing objective articles. \n",
    "\n",
    "This answer could also help answer questions about human psychology. We may be more interested in reading things that are interesting over knowing facts. If this is true, it might be rethinking how we teach things in school. Is it worth it to present biased opinions in order to keep children engaged? Now our dataset won't extend to tell us anything about children but we could extend our research to look at children articles. More directly though, it should raise questions about people who criticize social media for being biased. If this is the nature of what people read, can we really criticize them?"
   ]
  },
  {
   "cell_type": "markdown",
   "metadata": {},
   "source": [
    "2. Do people tend to read articles with titles that are shorter?"
   ]
  },
  {
   "cell_type": "markdown",
   "metadata": {},
   "source": [
    "A lot of people say don't judge a book by its cover. When it comes to news articles though, the problem is that there are so many articles it could be very time consuming to read every article. Naturally, a title that catches a person's eye is more likely to be read. It is unclear though, at least to me, whether people would be more attracted to shorter or longer titles. Longer titles may be able to include more information but shorter titles may be easier to quickly read. \n",
    "\n",
    "If we can gain better understanding into what titles people are more likely to read, we can help newspapers significantly choose better titles for their articles. This would help the newspapers gain readers, and make more profit."
   ]
  },
  {
   "cell_type": "markdown",
   "metadata": {},
   "source": [
    "3. Are certain articles more likely to be read during certain days of the week. "
   ]
  },
  {
   "cell_type": "markdown",
   "metadata": {},
   "source": [
    "People tend to develop rutines during the work week. Because of this, they may be in certain moods making them more likely to read articles covering some genres over other genres. If we can spot trneds like this, we can help newspapers target these genres more during these days of the week. This would benefit both readers and the newspapers. Readers since they would get to read what they want to read and authors because their articles will be more readily consumed. "
   ]
  },
  {
   "cell_type": "markdown",
   "metadata": {},
   "source": [
    "## Dataset"
   ]
  },
  {
   "cell_type": "markdown",
   "metadata": {},
   "source": [
    "The dataset is from Mashable, an entertainment company, and can be found at https://archive.ics.uci.edu/ml/datasets/Online+News+Popularity. The dataset contains information about the number of words in the title, the day the article was published, the number of key words in the title, and the polarity of the title. "
   ]
  },
  {
   "cell_type": "markdown",
   "metadata": {},
   "source": [
    "### Methodology"
   ]
  },
  {
   "cell_type": "markdown",
   "metadata": {},
   "source": [
    "As mentioned, the dataset can be found at https://archive.ics.uci.edu/ml/datasets/Online+News+Popularity. The dataset is of medium size with 61 attributes and 39797 rows. This file is 7MB and comes as an Ansi encoded csv. Since the file is small enough we could put it on github and import the file into a Jupyter notebook via the url. \n",
    "\n",
    "\n",
    "As the first step for our project we should do some Exploratory Data Analysis. We should look for trends in our data. Can we find any features that are correlated to high number of shares? Do we have any outliers or null values? Do we have multi-collinearity? Are some of our features irrelevant? What is the distribution of our target variable?\n",
    "\n",
    "We will look to answer our research questions directly in this section. \n",
    "\n",
    "1. Do people tend to read articles with titles that are more 'polar' (ie - not objective).\n",
    "\n",
    "For this we could use correlation metrics (r2) with the shares variable. How polar the article is, is given as a field in our dataset. \n",
    "\n",
    "2. Do people tend to read articles with titles that are shorter?\n",
    "\n",
    "Likewise, we could use correlation metrics to answer this question. \n",
    "\n",
    "3. Are certain articles more likely to be read during certain days of the week.\n",
    "\n",
    "We could create plots of number of shares based on days of the week. \n",
    "\n",
    "If we find there is no correlation between any of the questions and the number of shares, we may choose not to include any of them in our model. If there is, depending on the model we could view the effect of the variable in various ways. \n",
    "\n",
    "1. We could analyze the coefficients for the geometric models. \n",
    "2. Scikit learn has a permutation feature importance metric which we could use as a way to see if different models are seing the effects of the features the same way. https://scikit-learn.org/stable/modules/permutation_importance.html\n",
    "3. We could see how our model performs if we remove the features mentioned above in the research questions above and leave the others constant. \n",
    "\n",
    "We then need to clean our data. From looking at the columns in our dataset, we already are given dummy variables. We would want to check the scale of our variables and make sure they are consistent. We also may need additional steps depending on our results from the eda.\n",
    "\n",
    "\n",
    "After this we will build different models. \n",
    "\n",
    "\n",
    "As this is a regression problem to predict the number of shares, we may start with basic linear/other geometric models. \n",
    "This is a count model as we are predicting number of shares. I obviously can't say exactly which distribution would fit the data best until doing further eda. I might assume at this point that we should be leaning towards a negative binomial since we would expect there to be a large variation in number of shares but this should be based on our eda and not just an assumption.\n",
    "Could there be negative predictions with other distributions that better fit the data? Possibly yes, and possibly no. We might not have this problem if we have an intercept > 0 and our coefficients are all positive for example. From looking at the data, it doesn't appear that we have rows where the number of shares is around 0. At this point, it is hard to be worried about this case because we can take a log of our target variable to force the number to be positive if we need to. Ideally, the model we choose will actually fit the data and we won't have this problem.\n",
    "If we use a discrete distribution like a negative binomial fractional values won't be an issue.\n",
    "\n",
    "\n",
    "For our second model we could use a random forest. The random forest implementation in scikit learn has a feature importance metric which we could use to analyze the importance of each feature. We would have to see which number of trees performs the best. \n",
    "\n",
    "For the 3rd model, we could use a neural net net. http://www.gabormelli.com/RKB/sklearn.neural_network.MLPRegressor  \n",
    "We could try to see how this model does when we keep all the variables and leave 1 out as constant to see the effect of each variable. \n",
    "\n",
    "For our ensemble models, we could try to combine our best geometric model, random forest, and nueral net. \n",
    "From reading online there are different methods of doing this like like averaging results of the previous models in bagging\n",
    "or iteratively trying to improve the model with boosting. I would rather wait to determine which method to use until we get up to this in class but since all of the above models are built independently it would make more sense to average the results with bagging.\n",
    "\n",
    "Finally, we will evaluate our models. In this case we should use RMSE as our cost metric since we want to see how far away our values are from the true number of shares. \n",
    "\n",
    "As of now, I will be doing the project on my own. \n"
   ]
  },
  {
   "cell_type": "markdown",
   "metadata": {},
   "source": [
    "### Estimated Time line"
   ]
  },
  {
   "cell_type": "code",
   "execution_count": null,
   "metadata": {},
   "outputs": [],
   "source": [
    "1. July 12 - July 19: Complete EDA + cleaning work.\n",
    "2. July 19 - July 26: Complete linear models. (basic, polynomial, ridge, lasso)\n",
    "3. July 26 - July 29 - Random Forest models\n",
    "4. July 29 - Aug 3 - Ensemble method\n",
    "5. Aug 3 - Nueral Net, Prepare presentation. "
   ]
  }
 ],
 "metadata": {
  "kernelspec": {
   "display_name": "Python 3",
   "language": "python",
   "name": "python3"
  },
  "language_info": {
   "codemirror_mode": {
    "name": "ipython",
    "version": 3
   },
   "file_extension": ".py",
   "mimetype": "text/x-python",
   "name": "python",
   "nbconvert_exporter": "python",
   "pygments_lexer": "ipython3",
   "version": "3.7.1"
  }
 },
 "nbformat": 4,
 "nbformat_minor": 2
}
