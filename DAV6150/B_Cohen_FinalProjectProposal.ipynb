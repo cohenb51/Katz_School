{
 "cells": [
  {
   "cell_type": "markdown",
   "metadata": {},
   "source": [
    "Benny Cohen\n",
    "\n",
    "Final Project Proposal\n",
    "\n",
    "7/12/2020"
   ]
  },
  {
   "cell_type": "markdown",
   "metadata": {},
   "source": [
    "## Introduction"
   ]
  },
  {
   "cell_type": "markdown",
   "metadata": {},
   "source": [
    "People write articles for a variety of reasons. Some people may find something interesting and want to share it, some people may simply want to entertain others, and others may be doing it for economic reasons. No matter the cause, people write articles so that people will read them. It is of interest then to structure articles in ways that maximize the number of readers.\n",
    "\n",
    "\n",
    "One metric regarding this that is particularly important is the number of shares an article has. Not only do shares indicate how popular an article is, search engines use the number of shares when ranking which results to display first. \n",
    "Having a model to predict the number of shares therefore, would be very useful.\n",
    "\n",
    "The dataset we will look at is from Mashable, an entertainment company, and can be found at https://archive.ics.uci.edu/ml/datasets/Online+News+Popularity. The dataset contains information about the number of words in the title, the day the article was published, the number of key words in the title, and the polarity of the title. \n",
    "A model such as this could be useful in figuring out good titles and times to publish an article. At the time of publishing the article, it could be hard to tell how popular the article will be. At the same time though, we would have access to almost all of the other features mentioned in the dataset. A model like this could help optimize what title the article should have, and what day the article should be released in order to maximize the number of shares. \n"
   ]
  },
  {
   "cell_type": "markdown",
   "metadata": {},
   "source": [
    "## Research Questions"
   ]
  },
  {
   "cell_type": "markdown",
   "metadata": {},
   "source": [
    "1. How should an article be presented so as to maximize the number of shares? "
   ]
  },
  {
   "cell_type": "markdown",
   "metadata": {},
   "source": [
    "As mentioned above, one way to quantify how popular an article is, is by looking at how many shares the article has. Articles with more shares are ranked higher on search engines and more likely to be read. More popular articles allow authors to make more money as more readers will be willing to sign up to view the author's works. Having popular articles also enables the author to spread his ideas readily. \n"
   ]
  },
  {
   "cell_type": "markdown",
   "metadata": {},
   "source": [
    "In order to answer this question, we will be looking to answer several related questions."
   ]
  },
  {
   "cell_type": "markdown",
   "metadata": {},
   "source": [
    "1a. Do people tend to read articles with titles that are more 'polar' (ie - not objective)."
   ]
  },
  {
   "cell_type": "markdown",
   "metadata": {},
   "source": [
    "Knowing the answer to this is particularly important when it comes to writing articles. Some newspapers are often accused of being too liberal or conservative. Part of the reason they may be doing this is to keep their readers happy. We aim to answer whether an article presented in an objective way or a subjective way would be more popular."
   ]
  },
  {
   "cell_type": "markdown",
   "metadata": {},
   "source": [
    "1b. Do people tend to read articles with titles that are shorter?"
   ]
  },
  {
   "cell_type": "markdown",
   "metadata": {},
   "source": [
    "A lot of people say don't judge a book by its cover. When it comes to news articles though, the problem is that there are so many articles it could be very time consuming to read every article. Naturally, a title that catches a person's eye is more likely to be read. It is unclear though, at least to me, whether people would be more attracted to shorter or longer titles. Longer titles may be able to include more information but shorter titles may be easier to quickly read. \n",
    "\n",
    "If we can gain better understanding into what titles people are more likely to read, we can help authors significantly choose better titles for their articles. This would help the authors gain readers, and make more profit."
   ]
  },
  {
   "cell_type": "markdown",
   "metadata": {},
   "source": [
    "1c. Are certain articles more likely to be read during certain days of the week. "
   ]
  },
  {
   "cell_type": "markdown",
   "metadata": {},
   "source": [
    "People tend to develop rutines during the work week. Because of this, they may be in certain moods making them more likely to read articles covering some genres over other genres. If we can spot trneds like this, we can help newspapers target these genres more during these days of the week. This would benefit both readers and the newspapers. Readers since they would get to read what they want to read and authors because their articles will be more readily consumed. "
   ]
  },
  {
   "cell_type": "markdown",
   "metadata": {},
   "source": [
    "## Dataset"
   ]
  },
  {
   "cell_type": "markdown",
   "metadata": {},
   "source": [
    "The dataset is from Mashable, an entertainment company, and can be found at https://archive.ics.uci.edu/ml/datasets/Online+News+Popularity. The dataset contains information about the number of words in the title, the day the article was published, the number of key words in the title, and the polarity of the title. "
   ]
  },
  {
   "cell_type": "markdown",
   "metadata": {},
   "source": [
    "### Methodology"
   ]
  },
  {
   "cell_type": "markdown",
   "metadata": {},
   "source": [
    "One way to approach answering how an article should be presented to maximize the number of shares is by constructing a model. At the time authors publish articles, they won't have access to the number of shares the article has, but they will have access to the other metadata contained in our dataset like the day of the week the article is going to be published and the number of words in the article.\n",
    "By creating and using our model, authors will effectively be able to see how changing certain parameters like the number of words in the title can change how many shares the article will receive. This would allow them to present their articles in a way to maximize it's popularity. "
   ]
  },
  {
   "cell_type": "markdown",
   "metadata": {},
   "source": [
    "As mentioned, the dataset can be found at https://archive.ics.uci.edu/ml/datasets/Online+News+Popularity. The dataset is of medium size with 61 attributes and 39797 rows. This file is 7MB and comes as an Ansi encoded csv. Since the file is small enough we will put it on github and import the file into a Jupyter notebook via the url. \n",
    "\n",
    "\n",
    "As the first step for our project we will do some Exploratory Data Analysis. We will look for trends in our data. Are there any specific features that are correlated to high number of shares? Do we have any outliers or null values? Do we have multi-collinearity? Are some of our features irrelevant? What is the distribution of our target variable?\n",
    "\n",
    "We will look to answer our research questions directly in this section. \n",
    "\n",
    "1. Do people tend to read articles with titles that are more 'polar' (ie - not objective).\n",
    "\n",
    "For this we will use correlation metrics (r2) with the shares variable. How polar the article is, is given as a field in our dataset. \n",
    "\n",
    "2. Do people tend to read articles with titles that are shorter?\n",
    "\n",
    "Likewise, we could use correlation metrics to answer this question. \n",
    "\n",
    "3. Are certain articles more likely to be read during certain days of the week.\n",
    "\n",
    "We will create plots of number of shares based on days of the week. \n",
    "\n",
    "If we find there is no correlation between any of the questions and the number of shares, we may choose not to include any of them in our model. If there is, depending on the model we will view the effect of the variable in various ways. \n",
    "\n",
    "1. We will analyze the coefficients for the geometric models. \n",
    "2. Scikit learn has a permutation feature importance metric which we will use as a way to see if different models are seing the effects of the features the same way. https://scikit-learn.org/stable/modules/permutation_importance.html\n",
    "3. We will see how our model performs if we remove the features mentioned above in the research questions above and leave the others constant. \n",
    "\n",
    "We then need to clean our data. From looking at the columns in our dataset, we already are given dummy variables. We would want to check the scale of our variables and make sure they are consistent. We also may need additional steps depending on our results from the eda.\n",
    "\n",
    "\n",
    "After this we will build different models. \n",
    "\n",
    "\n",
    "As this is a regression problem to predict the number of shares, we will start with basic geometric models. \n",
    "This is a count model as we are predicting number of shares so we will start with a negative binomial and move on to other distributions if that model doesn't fit our data well.\n",
    "\n",
    "\n",
    "For our second model we will use a random forest. The random forest implementation in scikit learn has a feature importance metric which we will use to analyze the importance of each feature. We would have to see which number of trees performs the best. \n",
    "\n",
    "For the 3rd model, we will use a neural net net. http://www.gabormelli.com/RKB/sklearn.neural_network.MLPRegressor  \n",
    "We will try to see how this model does when we keep all the variables and leave 1 out as constant to see the effect of each variable. \n",
    "\n",
    "After creating all 3 types of models, we will create an ensemble model with the best model in each of our 3 groupings. We will use bagging as each model is independent.\n",
    "\n",
    "We will be using RMSE as our cost metric to evaluate the performance of our models since we want to see how far away our values are from the true number of shares. \n",
    "\n",
    "As of now, I will be doing the project on my own. \n"
   ]
  },
  {
   "cell_type": "markdown",
   "metadata": {},
   "source": [
    "### Estimated Time line"
   ]
  },
  {
   "cell_type": "code",
   "execution_count": null,
   "metadata": {},
   "outputs": [],
   "source": [
    "1. July 12 - July 19: Complete EDA + cleaning work.\n",
    "2. July 19 - July 26: Complete linear models. (basic, polynomial, ridge, lasso)\n",
    "3. July 26 - July 29 - Random Forest models\n",
    "4. July 29 - Aug 3 - Ensemble method\n",
    "5. Aug 3 - Nueral Net, Prepare presentation. "
   ]
  }
 ],
 "metadata": {
  "kernelspec": {
   "display_name": "Python 3",
   "language": "python",
   "name": "python3"
  },
  "language_info": {
   "codemirror_mode": {
    "name": "ipython",
    "version": 3
   },
   "file_extension": ".py",
   "mimetype": "text/x-python",
   "name": "python",
   "nbconvert_exporter": "python",
   "pygments_lexer": "ipython3",
   "version": "3.7.1"
  }
 },
 "nbformat": 4,
 "nbformat_minor": 2
}
