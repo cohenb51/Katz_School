{
 "cells": [
  {
   "cell_type": "markdown",
   "metadata": {},
   "source": [
    "Benny Cohen\n",
    "\n",
    "7/22/2020\n",
    "\n",
    "Decision Trees & Random Forests\n"
   ]
  },
  {
   "cell_type": "markdown",
   "metadata": {},
   "source": [
    "### Introduction"
   ]
  },
  {
   "cell_type": "markdown",
   "metadata": {},
   "source": [
    "In this notebook we will be looking at a dataset about mushrooms from the UCI repository. We will be trying to predict the veil color of mushrooms. The veil is a thin membrane that covers baby mushrooms. "
   ]
  },
  {
   "cell_type": "markdown",
   "metadata": {},
   "source": [
    "To do this, we will perform eda and then create 2 regression trees and 2 random forests. We will compare the results of our 2 models and try to determine which is the best one."
   ]
  },
  {
   "cell_type": "markdown",
   "metadata": {},
   "source": [
    "### Exploratory Data Analysis "
   ]
  },
  {
   "cell_type": "code",
   "execution_count": 2,
   "metadata": {},
   "outputs": [],
   "source": [
    "import pandas as pd\n",
    "import matplotlib.pyplot as plt\n",
    "%matplotlib inline  \n"
   ]
  },
  {
   "cell_type": "code",
   "execution_count": 4,
   "metadata": {},
   "outputs": [],
   "source": [
    "username = 'cohenb51'\n",
    "path = 'Katz_School/develop/DAV6150/M11_Data.csv'\n",
    "df = pd.read_csv(f'https://raw.githubusercontent.com/{username}/{path}')"
   ]
  },
  {
   "cell_type": "code",
   "execution_count": 12,
   "metadata": {},
   "outputs": [],
   "source": [
    "columns = ['cap-shape', 'cap-surface', 'cap-color', 'bruises', 'odor', 'gill-attachment', 'gill-spacing', 'gill-size', 'gill-color','stalk-shape', 'stalk-root','stalk-surfac-above-ring','stalk-surface-below-ring','stalk-color-above-ring','stalk-color-below-ring','veil-type','veil-color' ,'ring-number','ring-type' ,'spore-print-color' ,'population','habitat']"
   ]
  },
  {
   "cell_type": "code",
   "execution_count": 14,
   "metadata": {},
   "outputs": [],
   "source": [
    "df = pd.read_csv(f'https://raw.githubusercontent.com/{username}/{path}', names = columns)"
   ]
  },
  {
   "cell_type": "code",
   "execution_count": 18,
   "metadata": {},
   "outputs": [
    {
     "data": {
      "text/html": [
       "<div>\n",
       "<style scoped>\n",
       "    .dataframe tbody tr th:only-of-type {\n",
       "        vertical-align: middle;\n",
       "    }\n",
       "\n",
       "    .dataframe tbody tr th {\n",
       "        vertical-align: top;\n",
       "    }\n",
       "\n",
       "    .dataframe thead th {\n",
       "        text-align: right;\n",
       "    }\n",
       "</style>\n",
       "<table border=\"1\" class=\"dataframe\">\n",
       "  <thead>\n",
       "    <tr style=\"text-align: right;\">\n",
       "      <th></th>\n",
       "      <th>cap-shape</th>\n",
       "      <th>cap-surface</th>\n",
       "      <th>cap-color</th>\n",
       "      <th>bruises</th>\n",
       "      <th>odor</th>\n",
       "      <th>gill-attachment</th>\n",
       "      <th>gill-spacing</th>\n",
       "      <th>gill-size</th>\n",
       "      <th>gill-color</th>\n",
       "      <th>stalk-shape</th>\n",
       "      <th>...</th>\n",
       "      <th>stalk-surface-below-ring</th>\n",
       "      <th>stalk-color-above-ring</th>\n",
       "      <th>stalk-color-below-ring</th>\n",
       "      <th>veil-type</th>\n",
       "      <th>veil-color</th>\n",
       "      <th>ring-number</th>\n",
       "      <th>ring-type</th>\n",
       "      <th>spore-print-color</th>\n",
       "      <th>population</th>\n",
       "      <th>habitat</th>\n",
       "    </tr>\n",
       "  </thead>\n",
       "  <tbody>\n",
       "    <tr>\n",
       "      <th>p</th>\n",
       "      <td>x</td>\n",
       "      <td>s</td>\n",
       "      <td>n</td>\n",
       "      <td>t</td>\n",
       "      <td>p</td>\n",
       "      <td>f</td>\n",
       "      <td>c</td>\n",
       "      <td>n</td>\n",
       "      <td>k</td>\n",
       "      <td>e</td>\n",
       "      <td>...</td>\n",
       "      <td>s</td>\n",
       "      <td>w</td>\n",
       "      <td>w</td>\n",
       "      <td>p</td>\n",
       "      <td>w</td>\n",
       "      <td>o</td>\n",
       "      <td>p</td>\n",
       "      <td>k</td>\n",
       "      <td>s</td>\n",
       "      <td>u</td>\n",
       "    </tr>\n",
       "    <tr>\n",
       "      <th>e</th>\n",
       "      <td>x</td>\n",
       "      <td>s</td>\n",
       "      <td>y</td>\n",
       "      <td>t</td>\n",
       "      <td>a</td>\n",
       "      <td>f</td>\n",
       "      <td>c</td>\n",
       "      <td>b</td>\n",
       "      <td>k</td>\n",
       "      <td>e</td>\n",
       "      <td>...</td>\n",
       "      <td>s</td>\n",
       "      <td>w</td>\n",
       "      <td>w</td>\n",
       "      <td>p</td>\n",
       "      <td>w</td>\n",
       "      <td>o</td>\n",
       "      <td>p</td>\n",
       "      <td>n</td>\n",
       "      <td>n</td>\n",
       "      <td>g</td>\n",
       "    </tr>\n",
       "  </tbody>\n",
       "</table>\n",
       "<p>2 rows × 22 columns</p>\n",
       "</div>"
      ],
      "text/plain": [
       "  cap-shape cap-surface cap-color bruises odor gill-attachment gill-spacing  \\\n",
       "p         x           s         n       t    p               f            c   \n",
       "e         x           s         y       t    a               f            c   \n",
       "\n",
       "  gill-size gill-color stalk-shape   ...   stalk-surface-below-ring  \\\n",
       "p         n          k           e   ...                          s   \n",
       "e         b          k           e   ...                          s   \n",
       "\n",
       "  stalk-color-above-ring stalk-color-below-ring veil-type veil-color  \\\n",
       "p                      w                      w         p          w   \n",
       "e                      w                      w         p          w   \n",
       "\n",
       "  ring-number ring-type spore-print-color population habitat  \n",
       "p           o         p                 k          s       u  \n",
       "e           o         p                 n          n       g  \n",
       "\n",
       "[2 rows x 22 columns]"
      ]
     },
     "execution_count": 18,
     "metadata": {},
     "output_type": "execute_result"
    }
   ],
   "source": [
    "df.head(2)"
   ]
  },
  {
   "cell_type": "code",
   "execution_count": 19,
   "metadata": {},
   "outputs": [
    {
     "name": "stdout",
     "output_type": "stream",
     "text": [
      "<class 'pandas.core.frame.DataFrame'>\n",
      "Index: 8124 entries, p to e\n",
      "Data columns (total 22 columns):\n",
      "cap-shape                   8124 non-null object\n",
      "cap-surface                 8124 non-null object\n",
      "cap-color                   8124 non-null object\n",
      "bruises                     8124 non-null object\n",
      "odor                        8124 non-null object\n",
      "gill-attachment             8124 non-null object\n",
      "gill-spacing                8124 non-null object\n",
      "gill-size                   8124 non-null object\n",
      "gill-color                  8124 non-null object\n",
      "stalk-shape                 8124 non-null object\n",
      "stalk-root                  8124 non-null object\n",
      "stalk-surfac-above-ring     8124 non-null object\n",
      "stalk-surface-below-ring    8124 non-null object\n",
      "stalk-color-above-ring      8124 non-null object\n",
      "stalk-color-below-ring      8124 non-null object\n",
      "veil-type                   8124 non-null object\n",
      "veil-color                  8124 non-null object\n",
      "ring-number                 8124 non-null object\n",
      "ring-type                   8124 non-null object\n",
      "spore-print-color           8124 non-null object\n",
      "population                  8124 non-null object\n",
      "habitat                     8124 non-null object\n",
      "dtypes: object(22)\n",
      "memory usage: 1.4+ MB\n"
     ]
    }
   ],
   "source": [
    "df.info()"
   ]
  },
  {
   "cell_type": "markdown",
   "metadata": {},
   "source": [
    "As we see here, all of our variables are categorical variables. Each variable is represented as a single char representing what the value is. "
   ]
  },
  {
   "cell_type": "markdown",
   "metadata": {},
   "source": [
    "The values can be found here: https://archive.ics.uci.edu/ml/datasets/mushroom\n",
    "    \n",
    "1. cap-shape: bell=b,conical=c,convex=x,flat=f, knobbed=k,sunken=s\n",
    "2. cap-surface: fibrous=f,grooves=g,scaly=y,smooth=s\n",
    "3. cap-color: brown=n,buff=b,cinnamon=c,gray=g,green=r, pink=p,purple=u,red=e,white=w,yellow=y\n",
    "4. bruises?: bruises=t,no=f\n",
    "5. odor: almond=a,anise=l,creosote=c,fishy=y,foul=f, musty=m,none=n,pungent=p,spicy=s\n",
    "6. gill-attachment: attached=a,descending=d,free=f,notched=n\n",
    "7. gill-spacing: close=c,crowded=w,distant=d\n",
    "8. gill-size: broad=b,narrow=n\n",
    "9. gill-color: black=k,brown=n,buff=b,chocolate=h,gray=g, green=r,orange=o,pink=p,purple=u,red=e, white=w,yellow=y\n",
    "10. stalk-shape: enlarging=e,tapering=t\n",
    "11. stalk-root: bulbous=b,club=c,cup=u,equal=e, rhizomorphs=z,rooted=r,missing=?\n",
    "12. stalk-surface-above-ring: fibrous=f,scaly=y,silky=k,smooth=s\n",
    "13. stalk-surface-below-ring: fibrous=f,scaly=y,silky=k,smooth=s\n",
    "14. stalk-color-above-ring: brown=n,buff=b,cinnamon=c,gray=g,orange=o, pink=p,red=e,white=w,yellow=y\n",
    "15. stalk-color-below-ring: brown=n,buff=b,cinnamon=c,gray=g,orange=o, pink=p,red=e,white=w,yellow=y\n",
    "16. veil-type: partial=p,universal=u\n",
    "17. veil-color: brown=n,orange=o,white=w,yellow=y\n",
    "18. ring-number: none=n,one=o,two=t\n",
    "19. ring-type: cobwebby=c,evanescent=e,flaring=f,large=l, none=n,pendant=p,sheathing=s,zone=z\n",
    "20. spore-print-color: black=k,brown=n,buff=b,chocolate=h,green=r, orange=o,purple=u,white=w,yellow=y\n",
    "21. population: abundant=a,clustered=c,numerous=n, scattered=s,several=v,solitary=y\n",
    "22. habitat: grasses=g,leaves=l,meadows=m,paths=p, urban=u,waste=w,woods=d\n",
    "\n"
   ]
  },
  {
   "cell_type": "markdown",
   "metadata": {},
   "source": [
    "All of these variables describe physical charechteristics of the mushroom, although some of the definitions are somewhat ambigious. "
   ]
  },
  {
   "cell_type": "markdown",
   "metadata": {},
   "source": [
    "<img src = https://i2.wp.com/www.mushroomdiary.co.uk/wp-content/uploads/2011/09/parts-of-a-mushroom.gif> "
   ]
  },
  {
   "cell_type": "code",
   "execution_count": 20,
   "metadata": {},
   "outputs": [
    {
     "data": {
      "text/plain": [
       "Index(['cap-shape', 'cap-surface', 'cap-color', 'bruises', 'odor',\n",
       "       'gill-attachment', 'gill-spacing', 'gill-size', 'gill-color',\n",
       "       'stalk-shape', 'stalk-root', 'stalk-surfac-above-ring',\n",
       "       'stalk-surface-below-ring', 'stalk-color-above-ring',\n",
       "       'stalk-color-below-ring', 'veil-type', 'veil-color', 'ring-number',\n",
       "       'ring-type', 'spore-print-color', 'population', 'habitat'],\n",
       "      dtype='object')"
      ]
     },
     "execution_count": 20,
     "metadata": {},
     "output_type": "execute_result"
    }
   ],
   "source": [
    "df.columns"
   ]
  },
  {
   "cell_type": "markdown",
   "metadata": {},
   "source": [
    "The first 3 columns, cap-shape, cap surface, and cap-color, describes the top of the mushroom called the cap as shown in the image above.\n",
    "\n",
    "Some mushrooms change colors when bleeding. https://www.mushroom-appreciation.com/identifying-mushrooms.html#sthash.2MABYuOv.dpbs. Bruising is set to true when a mushroom changes color for this reason. \n",
    "\n",
    "The gills columns represent the structure underneath the cap. We can see that the characteristics of gills vary between mushrooms. \n",
    "\n",
    "The stalk columns represent the vertical part of the mushroom. \n",
    "\n",
    "As mentioned earlier, the veil is the thin membrane that covers mushrooms. Some mushrooms have remnants of the membrane as they develop. Universal membranes fully encompass the mushroom https://en.wikipedia.org/wiki/Universal_veil while a partial veil extends from the stem surface to the cap edge. Mushrooms can have both of these.\n",
    "\n",
    "The rings as the picture indicates are remnants of the veil.\n",
    "\n"
   ]
  },
  {
   "cell_type": "markdown",
   "metadata": {},
   "source": [
    "As we are predicting the veil-color, we would think that the other physical charechteristics of mushroom can help us."
   ]
  },
  {
   "cell_type": "markdown",
   "metadata": {},
   "source": [
    "Let's first look at our distributions by creating bar plots."
   ]
  },
  {
   "cell_type": "code",
   "execution_count": 31,
   "metadata": {},
   "outputs": [
    {
     "data": {
      "text/plain": [
       "<BarContainer object of 4 artists>"
      ]
     },
     "execution_count": 31,
     "metadata": {},
     "output_type": "execute_result"
    },
    {
     "data": {
      "image/png": "[encoded data removed]",
      "text/plain": [
       "<Figure size 432x288 with 1 Axes>"
      ]
     },
     "metadata": {
      "needs_background": "light"
     },
     "output_type": "display_data"
    }
   ],
   "source": [
    "counts = df['veil-color'].value_counts()\n",
    "plt.bar(counts.index, counts.values) "
   ]
  },
  {
   "cell_type": "code",
   "execution_count": 32,
   "metadata": {},
   "outputs": [
    {
     "data": {
      "text/plain": [
       "w    7924\n",
       "o      96\n",
       "n      96\n",
       "y       8\n",
       "Name: veil-color, dtype: int64"
      ]
     },
     "execution_count": 32,
     "metadata": {},
     "output_type": "execute_result"
    }
   ],
   "source": [
    "counts"
   ]
  },
  {
   "cell_type": "markdown",
   "metadata": {},
   "source": [
    "Our target variable, veil color is heavily skewed. Most veil colors are white and only 8 are yellow. "
   ]
  },
  {
   "cell_type": "markdown",
   "metadata": {},
   "source": [
    "Let's now plot all the variables. Since we are going to be constructing trees, we might want to see which variables are more evenly distributed and which will sort the categories mainly into 1 type. "
   ]
  },
  {
   "cell_type": "code",
   "execution_count": 37,
   "metadata": {},
   "outputs": [
    {
     "data": {
      "image/png": "[encoded data removed]",
      "text/plain": [
       "<Figure size 432x288 with 1 Axes>"
      ]
     },
     "metadata": {
      "needs_background": "light"
     },
     "output_type": "display_data"
    },
    {
     "data": {
      "image/png": "[encoded data removed]",
      "text/plain": [
       "<Figure size 432x288 with 1 Axes>"
      ]
     },
     "metadata": {
      "needs_background": "light"
     },
     "output_type": "display_data"
    },
    {
     "data": {
      "image/png": "[encoded data removed]",
      "text/plain": [
       "<Figure size 432x288 with 1 Axes>"
      ]
     },
     "metadata": {
      "needs_background": "light"
     },
     "output_type": "display_data"
    },
    {
     "data": {
      "image/png": "[encoded data removed]",
      "text/plain": [
       "<Figure size 432x288 with 1 Axes>"
      ]
     },
     "metadata": {
      "needs_background": "light"
     },
     "output_type": "display_data"
    },
    {
     "data": {
      "image/png": "[encoded data removed]",
      "text/plain": [
       "<Figure size 432x288 with 1 Axes>"
      ]
     },
     "metadata": {
      "needs_background": "light"
     },
     "output_type": "display_data"
    },
    {
     "data": {
      "image/png": "[encoded data removed]",
      "text/plain": [
       "<Figure size 432x288 with 1 Axes>"
      ]
     },
     "metadata": {
      "needs_background": "light"
     },
     "output_type": "display_data"
    },
    {
     "data": {
      "image/png": "[encoded data removed]",
      "text/plain": [
       "<Figure size 432x288 with 1 Axes>"
      ]
     },
     "metadata": {
      "needs_background": "light"
     },
     "output_type": "display_data"
    },
    {
     "data": {
      "image/png": "[encoded data removed]",
      "text/plain": [
       "<Figure size 432x288 with 1 Axes>"
      ]
     },
     "metadata": {
      "needs_background": "light"
     },
     "output_type": "display_data"
    },
    {
     "data": {
      "image/png": "[encoded data removed]",
      "text/plain": [
       "<Figure size 432x288 with 1 Axes>"
      ]
     },
     "metadata": {
      "needs_background": "light"
     },
     "output_type": "display_data"
    },
    {
     "data": {
      "image/png": "[encoded data removed]",
      "text/plain": [
       "<Figure size 432x288 with 1 Axes>"
      ]
     },
     "metadata": {
      "needs_background": "light"
     },
     "output_type": "display_data"
    },
    {
     "data": {
      "image/png": "[encoded data removed]",
      "text/plain": [
       "<Figure size 432x288 with 1 Axes>"
      ]
     },
     "metadata": {
      "needs_background": "light"
     },
     "output_type": "display_data"
    },
    {
     "data": {
      "image/png": "[encoded data removed]",
      "text/plain": [
       "<Figure size 432x288 with 1 Axes>"
      ]
     },
     "metadata": {
      "needs_background": "light"
     },
     "output_type": "display_data"
    },
    {
     "data": {
      "image/png": "[encoded data removed]",
      "text/plain": [
       "<Figure size 432x288 with 1 Axes>"
      ]
     },
     "metadata": {
      "needs_background": "light"
     },
     "output_type": "display_data"
    },
    {
     "data": {
      "image/png": "[encoded data removed]",
      "text/plain": [
       "<Figure size 432x288 with 1 Axes>"
      ]
     },
     "metadata": {
      "needs_background": "light"
     },
     "output_type": "display_data"
    },
    {
     "data": {
      "image/png": "[encoded data removed]",
      "text/plain": [
       "<Figure size 432x288 with 1 Axes>"
      ]
     },
     "metadata": {
      "needs_background": "light"
     },
     "output_type": "display_data"
    },
    {
     "data": {
      "image/png": "[encoded data removed]",
      "text/plain": [
       "<Figure size 432x288 with 1 Axes>"
      ]
     },
     "metadata": {
      "needs_background": "light"
     },
     "output_type": "display_data"
    },
    {
     "data": {
      "image/png": "[encoded data removed]",
      "text/plain": [
       "<Figure size 432x288 with 1 Axes>"
      ]
     },
     "metadata": {
      "needs_background": "light"
     },
     "output_type": "display_data"
    },
    {
     "data": {
      "image/png": "[encoded data removed]",
      "text/plain": [
       "<Figure size 432x288 with 1 Axes>"
      ]
     },
     "metadata": {
      "needs_background": "light"
     },
     "output_type": "display_data"
    },
    {
     "data": {
      "image/png": "[encoded data removed]",
      "text/plain": [
       "<Figure size 432x288 with 1 Axes>"
      ]
     },
     "metadata": {
      "needs_background": "light"
     },
     "output_type": "display_data"
    },
    {
     "data": {
      "image/png": "[encoded data removed]",
      "text/plain": [
       "<Figure size 432x288 with 1 Axes>"
      ]
     },
     "metadata": {
      "needs_background": "light"
     },
     "output_type": "display_data"
    },
    {
     "data": {
      "image/png": "[encoded data removed]",
      "text/plain": [
       "<Figure size 432x288 with 1 Axes>"
      ]
     },
     "metadata": {
      "needs_background": "light"
     },
     "output_type": "display_data"
    },
    {
     "data": {
      "image/png": "[encoded data removed]",
      "text/plain": [
       "<Figure size 432x288 with 1 Axes>"
      ]
     },
     "metadata": {
      "needs_background": "light"
     },
     "output_type": "display_data"
    }
   ],
   "source": [
    "for i in df.columns:\n",
    "    plt.figure()\n",
    "    counts = df[i].value_counts()\n",
    "    plt.title(i)\n",
    "    plt.bar(counts.index, counts.values)\n",
    "plt.show()"
   ]
  },
  {
   "cell_type": "markdown",
   "metadata": {},
   "source": [
    "We see that all of our categories mainly have 1 dominant type. \n",
    "\n",
    "For example, most mushrooms have an odor value of 0, that is none. In particular, gill-attachment and spacing is almost always false.\n",
    "\n",
    "There are a few exceptions to this though. For example, Stalk Shape almost evenly splits our data. This might be important to keep in mind when we construct our random forest which is based on entropy."
   ]
  },
  {
   "cell_type": "code",
   "execution_count": 77,
   "metadata": {},
   "outputs": [
    {
     "data": {
      "text/plain": [
       "p    8124\n",
       "Name: veil-type, dtype: int64"
      ]
     },
     "execution_count": 77,
     "metadata": {},
     "output_type": "execute_result"
    }
   ],
   "source": [
    "df['veil-type'].value_counts()"
   ]
  },
  {
   "cell_type": "code",
   "execution_count": null,
   "metadata": {},
   "outputs": [],
   "source": [
    "All of the veil types are partial. "
   ]
  },
  {
   "cell_type": "markdown",
   "metadata": {},
   "source": [
    "Now let's see if we notice anything by grouping by our target variable. Since there are over 20 columns we won't look at every one but we will look at the one from each category we looked at above."
   ]
  },
  {
   "cell_type": "code",
   "execution_count": 104,
   "metadata": {},
   "outputs": [],
   "source": [
    "from scipy import stats\n",
    "\n",
    "modes = df.groupby('veil-color')['habitat']"
   ]
  },
  {
   "cell_type": "markdown",
   "metadata": {},
   "source": [
    "The habitat is a general column so we might expect to see some differences with this column."
   ]
  },
  {
   "cell_type": "code",
   "execution_count": 105,
   "metadata": {},
   "outputs": [
    {
     "data": {
      "text/plain": [
       "veil-color  habitat\n",
       "n           l            96\n",
       "o           l            96\n",
       "w           d          3148\n",
       "            g          2148\n",
       "            p          1144\n",
       "            l           632\n",
       "            u           368\n",
       "            m           292\n",
       "            w           192\n",
       "y           l             8\n",
       "Name: habitat, dtype: int64"
      ]
     },
     "execution_count": 105,
     "metadata": {},
     "output_type": "execute_result"
    }
   ],
   "source": [
    "modes.value_counts()"
   ]
  },
  {
   "cell_type": "markdown",
   "metadata": {},
   "source": [
    "Remember grasses=g,leaves=l,meadows=m,paths=p, urban=u,waste=w,woods=d\n",
    "\n",
    "and brown=n,orange=o,white=w,yellow=y"
   ]
  },
  {
   "cell_type": "markdown",
   "metadata": {},
   "source": [
    "Overall we saw from the distributions above that d, woods, is the most popular column. This group by shows that all of the woods have white veil colors. Potentially, this could help a tree - for example if a feature is in woods, then put it in the white veil color category."
   ]
  },
  {
   "cell_type": "code",
   "execution_count": 61,
   "metadata": {},
   "outputs": [
    {
     "data": {
      "text/plain": [
       "veil-color  cap-shape\n",
       "n           b              24\n",
       "            f              24\n",
       "            k              24\n",
       "            x              24\n",
       "o           b              24\n",
       "            f              24\n",
       "            k              24\n",
       "            x              24\n",
       "w           x            3608\n",
       "            f            3102\n",
       "            k             778\n",
       "            b             402\n",
       "            s              32\n",
       "            c               2\n",
       "y           b               2\n",
       "            c               2\n",
       "            f               2\n",
       "            k               2\n",
       "Name: cap-shape, dtype: int64"
      ]
     },
     "execution_count": 61,
     "metadata": {},
     "output_type": "execute_result"
    }
   ],
   "source": [
    "df.groupby('veil-color')['cap-shape'].value_counts()"
   ]
  },
  {
   "cell_type": "markdown",
   "metadata": {},
   "source": [
    "Here, the cap shape seems to be evenly distributed among veil color. Let's try looking at another cap feature."
   ]
  },
  {
   "cell_type": "code",
   "execution_count": 62,
   "metadata": {},
   "outputs": [
    {
     "data": {
      "text/plain": [
       "veil-color  cap-surface\n",
       "n           s                96\n",
       "o           s                96\n",
       "w           y              3236\n",
       "            s              2364\n",
       "            f              2320\n",
       "            g                 4\n",
       "y           y                 8\n",
       "Name: cap-surface, dtype: int64"
      ]
     },
     "execution_count": 62,
     "metadata": {},
     "output_type": "execute_result"
    }
   ],
   "source": [
    "df.groupby('veil-color')['cap-surface'].value_counts()"
   ]
  },
  {
   "cell_type": "markdown",
   "metadata": {},
   "source": [
    "It's interesting here that all the brown and orange veil colors have smooth cap surfaces even though the majority class is y. It seems like this feature is doing something."
   ]
  },
  {
   "cell_type": "code",
   "execution_count": 64,
   "metadata": {},
   "outputs": [
    {
     "data": {
      "text/plain": [
       "veil-color  stalk-shape\n",
       "n           e                96\n",
       "o           e                96\n",
       "w           t              4608\n",
       "            e              3316\n",
       "y           e                 8\n",
       "Name: stalk-shape, dtype: int64"
      ]
     },
     "execution_count": 64,
     "metadata": {},
     "output_type": "execute_result"
    }
   ],
   "source": [
    "df.groupby('veil-color')['stalk-shape'].value_counts()"
   ]
  },
  {
   "cell_type": "markdown",
   "metadata": {},
   "source": [
    "Stalk shape can either be enlarging (e) or tapering (t). All the minority classes have values of e which is the majority stalk-shape column so it is hard to generalize from this."
   ]
  },
  {
   "cell_type": "code",
   "execution_count": 65,
   "metadata": {},
   "outputs": [
    {
     "data": {
      "text/plain": [
       "veil-color  stalk-root\n",
       "n           ?               96\n",
       "o           ?               96\n",
       "w           b             3776\n",
       "            ?             2288\n",
       "            e             1120\n",
       "            c              548\n",
       "            r              192\n",
       "y           c                8\n",
       "Name: stalk-root, dtype: int64"
      ]
     },
     "execution_count": 65,
     "metadata": {},
     "output_type": "execute_result"
    }
   ],
   "source": [
    "df.groupby('veil-color')['stalk-root'].value_counts()"
   ]
  },
  {
   "cell_type": "markdown",
   "metadata": {},
   "source": [
    "We notice here that we actually have 'nulls' encoded as ?. Not only that but a large percentage of these values have ?"
   ]
  },
  {
   "cell_type": "code",
   "execution_count": 69,
   "metadata": {},
   "outputs": [],
   "source": [
    "import numpy as np\n",
    "df = df.replace('?', np.nan)"
   ]
  },
  {
   "cell_type": "code",
   "execution_count": 71,
   "metadata": {},
   "outputs": [
    {
     "data": {
      "text/plain": [
       "cap-shape                      0\n",
       "cap-surface                    0\n",
       "cap-color                      0\n",
       "bruises                        0\n",
       "odor                           0\n",
       "gill-attachment                0\n",
       "gill-spacing                   0\n",
       "gill-size                      0\n",
       "gill-color                     0\n",
       "stalk-shape                    0\n",
       "stalk-root                  2480\n",
       "stalk-surfac-above-ring        0\n",
       "stalk-surface-below-ring       0\n",
       "stalk-color-above-ring         0\n",
       "stalk-color-below-ring         0\n",
       "veil-type                      0\n",
       "veil-color                     0\n",
       "ring-number                    0\n",
       "ring-type                      0\n",
       "spore-print-color              0\n",
       "population                     0\n",
       "habitat                        0\n",
       "dtype: int64"
      ]
     },
     "execution_count": 71,
     "metadata": {},
     "output_type": "execute_result"
    }
   ],
   "source": [
    "df.isna().sum()"
   ]
  },
  {
   "cell_type": "code",
   "execution_count": 72,
   "metadata": {},
   "outputs": [],
   "source": [
    "df = df.replace(np.nan, '?')"
   ]
  },
  {
   "cell_type": "markdown",
   "metadata": {},
   "source": [
    "We see that this only applies to stalk root. From our dataset description, this means that a stalk root is missing. The root is part of a mushroom. If it is not there then it must mean it fell off. This is something that occurs after the fact though and we wouldn't think should be related to the veil color. "
   ]
  },
  {
   "cell_type": "code",
   "execution_count": 73,
   "metadata": {},
   "outputs": [],
   "source": [
    "df = df.replace(np.nan, '?')"
   ]
  },
  {
   "cell_type": "code",
   "execution_count": null,
   "metadata": {},
   "outputs": [],
   "source": [
    "I think we should put them back as '?' since this is data - it indicates the stalk root is missing. "
   ]
  },
  {
   "cell_type": "code",
   "execution_count": 80,
   "metadata": {},
   "outputs": [
    {
     "data": {
      "text/plain": [
       "veil-color  gill-attachment\n",
       "n           a                    96\n",
       "o           a                    96\n",
       "w           f                  7906\n",
       "            a                    18\n",
       "y           f                     8\n",
       "Name: gill-attachment, dtype: int64"
      ]
     },
     "execution_count": 80,
     "metadata": {},
     "output_type": "execute_result"
    }
   ],
   "source": [
    "df.groupby('veil-color')['gill-attachment'].value_counts()"
   ]
  },
  {
   "cell_type": "markdown",
   "metadata": {},
   "source": [
    "This is interesting - All of the minority veil-colors have attached gills. This is a useful feature."
   ]
  },
  {
   "cell_type": "code",
   "execution_count": 82,
   "metadata": {},
   "outputs": [
    {
     "data": {
      "text/plain": [
       "veil-color  stalk-color-below-ring\n",
       "n           o                           96\n",
       "o           o                           96\n",
       "w           w                         4384\n",
       "            p                         1872\n",
       "            g                          576\n",
       "            n                          512\n",
       "            b                          432\n",
       "            e                           96\n",
       "            c                           36\n",
       "            y                           16\n",
       "y           y                            8\n",
       "Name: stalk-color-below-ring, dtype: int64"
      ]
     },
     "execution_count": 82,
     "metadata": {},
     "output_type": "execute_result"
    }
   ],
   "source": [
    "df.groupby('veil-color')['stalk-color-below-ring'].value_counts()"
   ]
  },
  {
   "cell_type": "code",
   "execution_count": null,
   "metadata": {},
   "outputs": [],
   "source": [
    "The stalk color also seems heavily related to the veil color. The yellow veil-color also has a yellow stalk color. "
   ]
  },
  {
   "cell_type": "markdown",
   "metadata": {},
   "source": [
    "Let's see if the other color columns follow this trend."
   ]
  },
  {
   "cell_type": "code",
   "execution_count": 83,
   "metadata": {},
   "outputs": [
    {
     "data": {
      "text/plain": [
       "veil-color  stalk-color-above-ring\n",
       "n           o                           96\n",
       "o           o                           96\n",
       "w           w                         4464\n",
       "            p                         1872\n",
       "            g                          576\n",
       "            n                          448\n",
       "            b                          432\n",
       "            e                           96\n",
       "            c                           36\n",
       "y           y                            8\n",
       "Name: stalk-color-above-ring, dtype: int64"
      ]
     },
     "execution_count": 83,
     "metadata": {},
     "output_type": "execute_result"
    }
   ],
   "source": [
    "df.groupby('veil-color')['stalk-color-above-ring'].value_counts()"
   ]
  },
  {
   "cell_type": "markdown",
   "metadata": {},
   "source": [
    "This variable seems to be almost identical to stalk color below ring."
   ]
  },
  {
   "cell_type": "code",
   "execution_count": 93,
   "metadata": {},
   "outputs": [
    {
     "data": {
      "text/plain": [
       "3056"
      ]
     },
     "execution_count": 93,
     "metadata": {},
     "output_type": "execute_result"
    }
   ],
   "source": [
    "(df['stalk-color-above-ring'] != df['stalk-color-below-ring']).sum()"
   ]
  },
  {
   "cell_type": "markdown",
   "metadata": {},
   "source": [
    "Actually there is a difference since they aren't the same in 3056 cases. "
   ]
  },
  {
   "cell_type": "code",
   "execution_count": 94,
   "metadata": {},
   "outputs": [
    {
     "data": {
      "text/plain": [
       "veil-color  cap-color\n",
       "n           n              96\n",
       "o           n              96\n",
       "w           n            2092\n",
       "            g            1840\n",
       "            e            1500\n",
       "            y            1064\n",
       "            w            1040\n",
       "            b             168\n",
       "            p             144\n",
       "            c              44\n",
       "            r              16\n",
       "            u              16\n",
       "y           y               8\n",
       "Name: cap-color, dtype: int64"
      ]
     },
     "execution_count": 94,
     "metadata": {},
     "output_type": "execute_result"
    }
   ],
   "source": [
    "df.groupby('veil-color')['cap-color'].value_counts()"
   ]
  },
  {
   "cell_type": "markdown",
   "metadata": {},
   "source": [
    "This color column also seems revealing. All of the brown/orange veil-colors have brown caps."
   ]
  },
  {
   "cell_type": "code",
   "execution_count": 97,
   "metadata": {},
   "outputs": [
    {
     "data": {
      "text/plain": [
       "veil-color  population\n",
       "n           c               48\n",
       "            v               48\n",
       "o           c               48\n",
       "            v               48\n",
       "w           v             3944\n",
       "            y             1712\n",
       "            s             1248\n",
       "            n              400\n",
       "            a              384\n",
       "            c              236\n",
       "y           c                8\n",
       "Name: population, dtype: int64"
      ]
     },
     "execution_count": 97,
     "metadata": {},
     "output_type": "execute_result"
    }
   ],
   "source": [
    "df.groupby('veil-color')['population'].value_counts()"
   ]
  },
  {
   "cell_type": "code",
   "execution_count": null,
   "metadata": {},
   "outputs": [],
   "source": []
  },
  {
   "cell_type": "markdown",
   "metadata": {},
   "source": [
    "This variable does not seem so useful because v has an overwhelmingly majority and the other values are spread out round equally. "
   ]
  },
  {
   "cell_type": "code",
   "execution_count": 99,
   "metadata": {},
   "outputs": [
    {
     "data": {
      "text/plain": [
       "veil-color  odor\n",
       "n           n         96\n",
       "o           n         96\n",
       "w           n       3328\n",
       "            f       2160\n",
       "            s        576\n",
       "            y        576\n",
       "            a        400\n",
       "            l        400\n",
       "            p        256\n",
       "            c        192\n",
       "            m         36\n",
       "y           n          8\n",
       "Name: odor, dtype: int64"
      ]
     },
     "execution_count": 99,
     "metadata": {},
     "output_type": "execute_result"
    }
   ],
   "source": [
    "df.groupby('veil-color')['odor'].value_counts()"
   ]
  },
  {
   "cell_type": "markdown",
   "metadata": {},
   "source": [
    "This variable also does not seem so useful as the oder is mainly n for all the classes."
   ]
  },
  {
   "cell_type": "code",
   "execution_count": 101,
   "metadata": {},
   "outputs": [
    {
     "data": {
      "text/plain": [
       "veil-color  cap-surface\n",
       "n           s                96\n",
       "o           s                96\n",
       "w           y              3236\n",
       "            s              2364\n",
       "            f              2320\n",
       "            g                 4\n",
       "y           y                 8\n",
       "Name: cap-surface, dtype: int64"
      ]
     },
     "execution_count": 101,
     "metadata": {},
     "output_type": "execute_result"
    }
   ],
   "source": [
    "df.groupby('veil-color')['cap-surface'].value_counts()"
   ]
  },
  {
   "cell_type": "code",
   "execution_count": null,
   "metadata": {},
   "outputs": [],
   "source": [
    "It seems like the cap surface columns can help us as we see that all the brown nd orange veil colors have smooth surfaces."
   ]
  },
  {
   "cell_type": "markdown",
   "metadata": {},
   "source": [
    "### Data Preparation "
   ]
  },
  {
   "cell_type": "markdown",
   "metadata": {},
   "source": [
    "We will be constructing 2 types of models, random forest and trees. Tree based models are good at handeling categorical variables. That being said though, the sklearn implementation requires us to one hot encode the variables. https://stackoverflow.com/questions/24715230/can-sklearn-random-forest-directly-handle-categorical-features"
   ]
  },
  {
   "cell_type": "code",
   "execution_count": 74,
   "metadata": {},
   "outputs": [
    {
     "data": {
      "text/plain": [
       "Index(['cap-shape', 'cap-surface', 'cap-color', 'bruises', 'odor',\n",
       "       'gill-attachment', 'gill-spacing', 'gill-size', 'gill-color',\n",
       "       'stalk-shape', 'stalk-root', 'stalk-surfac-above-ring',\n",
       "       'stalk-surface-below-ring', 'stalk-color-above-ring',\n",
       "       'stalk-color-below-ring', 'veil-type', 'veil-color', 'ring-number',\n",
       "       'ring-type', 'spore-print-color', 'population', 'habitat'],\n",
       "      dtype='object')"
      ]
     },
     "execution_count": 74,
     "metadata": {},
     "output_type": "execute_result"
    }
   ],
   "source": [
    "df.columns"
   ]
  },
  {
   "cell_type": "markdown",
   "metadata": {},
   "source": [
    "We saw in our eda that veil type has no variance and that they all are partial. Let's therefore drop this feature."
   ]
  },
  {
   "cell_type": "code",
   "execution_count": 78,
   "metadata": {},
   "outputs": [],
   "source": [
    "df = df.drop('veil-type', axis = 1)"
   ]
  },
  {
   "cell_type": "markdown",
   "metadata": {},
   "source": [
    "We saw that odor, and population did not really seperate between any of the classes so well so let's drop this variable too."
   ]
  },
  {
   "cell_type": "code",
   "execution_count": 102,
   "metadata": {},
   "outputs": [],
   "source": [
    "df = df.drop('odor', axis = 1)\n"
   ]
  },
  {
   "cell_type": "code",
   "execution_count": 103,
   "metadata": {},
   "outputs": [],
   "source": [
    "df = df.drop('population', axis = 1)"
   ]
  },
  {
   "cell_type": "code",
   "execution_count": null,
   "metadata": {},
   "outputs": [],
   "source": []
  },
  {
   "cell_type": "markdown",
   "metadata": {},
   "source": [
    "Now let's create our dummy variables"
   ]
  },
  {
   "cell_type": "code",
   "execution_count": 123,
   "metadata": {},
   "outputs": [],
   "source": [
    "data = pd.get_dummies(df, drop_first=True)\n",
    "    "
   ]
  },
  {
   "cell_type": "markdown",
   "metadata": {},
   "source": [
    "Finally let's create 2 sets of columns which we will use to construct our models. "
   ]
  },
  {
   "cell_type": "markdown",
   "metadata": {},
   "source": [
    "We saw a very big difference with the color columns, and the cap columns so let's use that s 1 set and use all the columns in the other set. They all represent physical features of the mushroom so it is hard to just drop them since they may still have an impact in our model."
   ]
  },
  {
   "cell_type": "code",
   "execution_count": 127,
   "metadata": {},
   "outputs": [],
   "source": [
    "colorColumns = ['cap-color_c', 'cap-color_e', 'cap-color_g', 'cap-color_n',\n",
    "       'cap-color_p', 'cap-color_r', 'cap-color_u', 'cap-color_w',\n",
    "       'cap-color_y','stalk-color-above-ring_c',\n",
    "       'stalk-color-above-ring_e', 'stalk-color-above-ring_g',\n",
    "       'stalk-color-above-ring_n', 'stalk-color-above-ring_o',\n",
    "       'stalk-color-above-ring_p', 'stalk-color-above-ring_w',\n",
    "       'stalk-color-above-ring_y', 'stalk-color-below-ring_c',\n",
    "       'stalk-color-below-ring_e', 'stalk-color-below-ring_g',\n",
    "       'stalk-color-below-ring_n', 'stalk-color-below-ring_o',\n",
    "       'stalk-color-below-ring_p', 'stalk-color-below-ring_w',\n",
    "       'stalk-color-below-ring_y', 'spore-print-color_h',\n",
    "       'spore-print-color_k', 'spore-print-color_n', 'spore-print-color_o',\n",
    "       'spore-print-color_r', 'spore-print-color_u', 'spore-print-color_w',\n",
    "       'spore-print-color_y']"
   ]
  },
  {
   "cell_type": "markdown",
   "metadata": {},
   "source": [
    "### Decision Tree + Random Forest Modeling"
   ]
  },
  {
   "cell_type": "markdown",
   "metadata": {},
   "source": [
    "First split into train and test set..."
   ]
  },
  {
   "cell_type": "code",
   "execution_count": 135,
   "metadata": {},
   "outputs": [],
   "source": [
    "from sklearn.model_selection import train_test_split\n",
    "y = df['veil-color']\n",
    "x= data.drop(['veil-color_o', 'veil-color_w','veil-color_y'], axis = 1)"
   ]
  },
  {
   "cell_type": "code",
   "execution_count": 136,
   "metadata": {},
   "outputs": [],
   "source": [
    "X_train, X_test, y_train, y_test = train_test_split(x, y, test_size=0.2, random_state=42)\n"
   ]
  },
  {
   "cell_type": "code",
   "execution_count": 141,
   "metadata": {},
   "outputs": [
    {
     "data": {
      "text/plain": [
       "DecisionTreeClassifier()"
      ]
     },
     "execution_count": 141,
     "metadata": {},
     "output_type": "execute_result"
    }
   ],
   "source": [
    "from sklearn.tree import DecisionTreeClassifier\n",
    "rf = DecisionTreeClassifier()\n",
    "rf.fit(X_train[colorColumns], y_train)"
   ]
  },
  {
   "cell_type": "code",
   "execution_count": 146,
   "metadata": {},
   "outputs": [],
   "source": [
    "preds = rf.predict(X_train[colorColumns])"
   ]
  },
  {
   "cell_type": "code",
   "execution_count": 148,
   "metadata": {},
   "outputs": [],
   "source": [
    "import sklearn.metrics as metrics"
   ]
  },
  {
   "cell_type": "code",
   "execution_count": 154,
   "metadata": {},
   "outputs": [
    {
     "data": {
      "text/plain": [
       "0.9892291121711032"
      ]
     },
     "execution_count": 154,
     "metadata": {},
     "output_type": "execute_result"
    }
   ],
   "source": [
    "metrics.accuracy_score(y_train,preds)"
   ]
  },
  {
   "cell_type": "markdown",
   "metadata": {},
   "source": [
    "This model seems to have an accuracy score close to 99 percent."
   ]
  },
  {
   "cell_type": "code",
   "execution_count": 157,
   "metadata": {},
   "outputs": [
    {
     "data": {
      "text/plain": [
       "0.9753815854258986"
      ]
     },
     "execution_count": 157,
     "metadata": {},
     "output_type": "execute_result"
    }
   ],
   "source": [
    "(df['veil-color'] == 'w').sum()/len(df)"
   ]
  },
  {
   "cell_type": "markdown",
   "metadata": {},
   "source": [
    "About 97 percent of our dataset though is w so this doesn't mean so much for us if we are just looking at w. Let's therefore see how our distributions compare. "
   ]
  },
  {
   "cell_type": "code",
   "execution_count": 150,
   "metadata": {},
   "outputs": [
    {
     "name": "stdout",
     "output_type": "stream",
     "text": [
      "              precision    recall  f1-score   support\n",
      "\n",
      "           n       0.54      1.00      0.70        82\n",
      "           o       0.00      0.00      0.00        70\n",
      "           w       1.00      1.00      1.00      6340\n",
      "           y       1.00      1.00      1.00         7\n",
      "\n",
      "    accuracy                           0.99      6499\n",
      "   macro avg       0.63      0.75      0.68      6499\n",
      "weighted avg       0.98      0.99      0.99      6499\n",
      "\n"
     ]
    }
   ],
   "source": [
    "print(metrics.classification_report(y_train, preds))"
   ]
  },
  {
   "cell_type": "markdown",
   "metadata": {},
   "source": [
    "We seem to be able to predict the y class very well as we got all of those points correct. We also are predicting, n, brown, correctly more than half of the time. Our recall score is good for brown showing that we are identifying all the cases but when we identify those cases it isn't so precise. "
   ]
  },
  {
   "cell_type": "markdown",
   "metadata": {},
   "source": [
    "We might be able to get better performance if we play with the parameters which control for splitting. We also have to contend with the fact that trees are prone to overfitting. "
   ]
  },
  {
   "cell_type": "markdown",
   "metadata": {},
   "source": [
    "Let's use grid search to find the best parameters while reducting overfitting. "
   ]
  },
  {
   "cell_type": "code",
   "execution_count": 164,
   "metadata": {},
   "outputs": [],
   "source": [
    "param_grid = {'max_depth':[4,5,6,7,8,9,10,11,12,15,20,30,40,50,70,90,120,150], 'criterion': ['gini', 'entropy'] #determines on what basis to select the next node. \n",
    "             }"
   ]
  },
  {
   "cell_type": "code",
   "execution_count": 167,
   "metadata": {},
   "outputs": [],
   "source": [
    "from sklearn.svm import SVC  \n",
    "from sklearn.model_selection import GridSearchCV\n",
    "grid = GridSearchCV(DecisionTreeClassifier(),param_grid, cv = 5)\n",
    "res = grid.fit(X_train[colorColumns],y_train)\n"
   ]
  },
  {
   "cell_type": "code",
   "execution_count": 168,
   "metadata": {},
   "outputs": [
    {
     "data": {
      "text/plain": [
       "{'criterion': 'gini', 'max_depth': 4}"
      ]
     },
     "execution_count": 168,
     "metadata": {},
     "output_type": "execute_result"
    }
   ],
   "source": [
    "res.best_params_\n"
   ]
  },
  {
   "cell_type": "markdown",
   "metadata": {},
   "source": [
    "We see that our best scores is with gini and a max_depth of 4. "
   ]
  },
  {
   "cell_type": "code",
   "execution_count": 171,
   "metadata": {},
   "outputs": [
    {
     "data": {
      "text/plain": [
       "DecisionTreeClassifier(max_depth=4)"
      ]
     },
     "execution_count": 171,
     "metadata": {},
     "output_type": "execute_result"
    }
   ],
   "source": [
    "from sklearn.tree import DecisionTreeClassifier\n",
    "rf = DecisionTreeClassifier(criterion = 'gini', max_depth = 4)\n",
    "rf.fit(X_train[colorColumns], y_train)"
   ]
  },
  {
   "cell_type": "code",
   "execution_count": 173,
   "metadata": {},
   "outputs": [],
   "source": [
    "preds = rf.predict(X_train[colorColumns])"
   ]
  },
  {
   "cell_type": "markdown",
   "metadata": {},
   "source": [
    "This score is around what we got earlier for accuracy."
   ]
  },
  {
   "cell_type": "code",
   "execution_count": 174,
   "metadata": {},
   "outputs": [
    {
     "name": "stdout",
     "output_type": "stream",
     "text": [
      "              precision    recall  f1-score   support\n",
      "\n",
      "           n       0.54      1.00      0.70        82\n",
      "           o       0.00      0.00      0.00        70\n",
      "           w       1.00      1.00      1.00      6340\n",
      "           y       1.00      1.00      1.00         7\n",
      "\n",
      "    accuracy                           0.99      6499\n",
      "   macro avg       0.63      0.75      0.68      6499\n",
      "weighted avg       0.98      0.99      0.99      6499\n",
      "\n"
     ]
    },
    {
     "name": "stderr",
     "output_type": "stream",
     "text": [
      "C:\\Users\\b-coh\\Anaconda3\\lib\\site-packages\\sklearn\\metrics\\_classification.py:1221: UndefinedMetricWarning: Precision and F-score are ill-defined and being set to 0.0 in labels with no predicted samples. Use `zero_division` parameter to control this behavior.\n",
      "  _warn_prf(average, modifier, msg_start, len(result))\n"
     ]
    }
   ],
   "source": [
    "print(metrics.classification_report(y_train, preds))"
   ]
  },
  {
   "cell_type": "markdown",
   "metadata": {},
   "source": [
    "Our results are almost identical. This seems to indicate that we aren't overfitting so much."
   ]
  },
  {
   "cell_type": "code",
   "execution_count": 178,
   "metadata": {},
   "outputs": [
    {
     "data": {
      "text/plain": [
       "array([0.98692308, 0.98769231, 0.98923077, 0.98923077, 0.98460354])"
      ]
     },
     "execution_count": 178,
     "metadata": {},
     "output_type": "execute_result"
    }
   ],
   "source": [
    "from sklearn.model_selection import cross_val_score\n",
    "scores = cross_val_score(rf, X_train[colorColumns], y_train, cv=5)\n",
    "scores"
   ]
  },
  {
   "cell_type": "markdown",
   "metadata": {},
   "source": [
    "Our cross val scores all are around the same, (keeping in mind this is accuracy)"
   ]
  },
  {
   "cell_type": "markdown",
   "metadata": {},
   "source": [
    "#### Model 2"
   ]
  },
  {
   "cell_type": "markdown",
   "metadata": {},
   "source": [
    "Let's create the same type of model, just now use all the fetures we filtered earlier. I would expect this model to behave a bit more randomly since there are more variables and more features to choose to split on. It also may turn out to perform similarly if the other variables have little effect on our target variable."
   ]
  },
  {
   "cell_type": "markdown",
   "metadata": {},
   "source": [
    "Let's therefore use grid search again to find the best criteria to split on and when to stop to avoid overfitting."
   ]
  },
  {
   "cell_type": "code",
   "execution_count": 180,
   "metadata": {},
   "outputs": [],
   "source": [
    "grid = GridSearchCV(DecisionTreeClassifier(),param_grid, cv = 5)\n",
    "res = grid.fit(X_train,y_train)"
   ]
  },
  {
   "cell_type": "code",
   "execution_count": 181,
   "metadata": {},
   "outputs": [
    {
     "data": {
      "text/plain": [
       "{'criterion': 'gini', 'max_depth': 4}"
      ]
     },
     "execution_count": 181,
     "metadata": {},
     "output_type": "execute_result"
    }
   ],
   "source": [
    "res.best_params_\n"
   ]
  },
  {
   "cell_type": "markdown",
   "metadata": {},
   "source": [
    "We have the same best criteria."
   ]
  },
  {
   "cell_type": "code",
   "execution_count": 182,
   "metadata": {},
   "outputs": [
    {
     "data": {
      "text/plain": [
       "DecisionTreeClassifier(max_depth=4)"
      ]
     },
     "execution_count": 182,
     "metadata": {},
     "output_type": "execute_result"
    }
   ],
   "source": [
    "rf = DecisionTreeClassifier(criterion = 'gini', max_depth = 4)\n",
    "rf.fit(X_train, y_train)"
   ]
  },
  {
   "cell_type": "code",
   "execution_count": 183,
   "metadata": {},
   "outputs": [],
   "source": [
    "preds = rf.predict(X_train)"
   ]
  },
  {
   "cell_type": "code",
   "execution_count": 184,
   "metadata": {},
   "outputs": [
    {
     "name": "stdout",
     "output_type": "stream",
     "text": [
      "              precision    recall  f1-score   support\n",
      "\n",
      "           n       0.55      0.99      0.71        82\n",
      "           o       0.80      0.06      0.11        70\n",
      "           w       1.00      1.00      1.00      6340\n",
      "           y       1.00      1.00      1.00         7\n",
      "\n",
      "    accuracy                           0.99      6499\n",
      "   macro avg       0.84      0.76      0.70      6499\n",
      "weighted avg       0.99      0.99      0.99      6499\n",
      "\n"
     ]
    }
   ],
   "source": [
    "print(metrics.classification_report(y_train, preds))"
   ]
  },
  {
   "cell_type": "markdown",
   "metadata": {},
   "source": [
    "Our results are somewhat different than our first model. With this model, our tree is putting some values in the orange class. At the same time though, the recall score is very low at .06. One note though, is that from a practical standpoint, orange is very close to brown. A dirty orange may seem to be brown. "
   ]
  },
  {
   "cell_type": "markdown",
   "metadata": {},
   "source": [
    "I think because of this, we should create a new metric that would count orange correct if it is really brown and vice versa. We should just keep this variable in mind when comparing our models. "
   ]
  },
  {
   "cell_type": "code",
   "execution_count": 186,
   "metadata": {},
   "outputs": [],
   "source": [
    "preds[preds == 'o'] = 'n'"
   ]
  },
  {
   "cell_type": "code",
   "execution_count": 189,
   "metadata": {},
   "outputs": [],
   "source": [
    "transformedTest = y_train.copy()\n",
    "transformedTest[transformedTest == 'o'] = 'n'"
   ]
  },
  {
   "cell_type": "code",
   "execution_count": 190,
   "metadata": {},
   "outputs": [
    {
     "name": "stdout",
     "output_type": "stream",
     "text": [
      "              precision    recall  f1-score   support\n",
      "\n",
      "           n       1.00      1.00      1.00       152\n",
      "           w       1.00      1.00      1.00      6340\n",
      "           y       1.00      1.00      1.00         7\n",
      "\n",
      "    accuracy                           1.00      6499\n",
      "   macro avg       1.00      1.00      1.00      6499\n",
      "weighted avg       1.00      1.00      1.00      6499\n",
      "\n"
     ]
    }
   ],
   "source": [
    "print(metrics.classification_report(transformedTest, preds))"
   ]
  },
  {
   "cell_type": "markdown",
   "metadata": {},
   "source": [
    "After converting our oranges to brown our model has perfect accuracy and f1 score. \n",
    "\n",
    "I would question here how our labels are collected... Is orange really distinct from brown and is it possible the way that the labels are being annotated is not 100 percent objective?"
   ]
  },
  {
   "cell_type": "markdown",
   "metadata": {},
   "source": [
    "Let's see how our first model would do with this metric."
   ]
  },
  {
   "cell_type": "code",
   "execution_count": 197,
   "metadata": {},
   "outputs": [
    {
     "data": {
      "text/plain": [
       "DecisionTreeClassifier(max_depth=4)"
      ]
     },
     "execution_count": 197,
     "metadata": {},
     "output_type": "execute_result"
    }
   ],
   "source": [
    "rf = DecisionTreeClassifier(criterion = 'gini', max_depth = 4)\n",
    "rf.fit(X_train[colorColumns], y_train)"
   ]
  },
  {
   "cell_type": "code",
   "execution_count": 198,
   "metadata": {},
   "outputs": [
    {
     "name": "stdout",
     "output_type": "stream",
     "text": [
      "              precision    recall  f1-score   support\n",
      "\n",
      "           n       1.00      1.00      1.00       152\n",
      "           w       1.00      1.00      1.00      6340\n",
      "           y       1.00      1.00      1.00         7\n",
      "\n",
      "    accuracy                           1.00      6499\n",
      "   macro avg       1.00      1.00      1.00      6499\n",
      "weighted avg       1.00      1.00      1.00      6499\n",
      "\n"
     ]
    }
   ],
   "source": [
    "preds[preds == 'o'] = 'n'\n",
    "print(metrics.classification_report(transformedTest, preds))"
   ]
  },
  {
   "cell_type": "markdown",
   "metadata": {},
   "source": [
    "This is worth noting but we shouldn't per say use this to say model 1 is better than model 2 since model 1 was completly unable to identify any oranges."
   ]
  },
  {
   "cell_type": "markdown",
   "metadata": {},
   "source": [
    "#### Random Forest"
   ]
  },
  {
   "cell_type": "markdown",
   "metadata": {},
   "source": [
    "A random forest is a more complicated model that involves creating multiple decision trees. This should reduce overfitting."
   ]
  },
  {
   "cell_type": "code",
   "execution_count": 206,
   "metadata": {},
   "outputs": [
    {
     "data": {
      "text/plain": [
       "RandomForestClassifier(random_state=123456)"
      ]
     },
     "execution_count": 206,
     "metadata": {},
     "output_type": "execute_result"
    }
   ],
   "source": [
    "from sklearn.ensemble import RandomForestClassifier\n",
    "rf = RandomForestClassifier(n_estimators=100, random_state=123456)\n",
    "rf.fit(x[colorColumns], y)\n"
   ]
  },
  {
   "cell_type": "code",
   "execution_count": 207,
   "metadata": {},
   "outputs": [],
   "source": [
    "preds = rf.predict(X_train[colorColumns])"
   ]
  },
  {
   "cell_type": "code",
   "execution_count": 208,
   "metadata": {},
   "outputs": [
    {
     "name": "stdout",
     "output_type": "stream",
     "text": [
      "              precision    recall  f1-score   support\n",
      "\n",
      "           n       0.54      0.74      0.63        82\n",
      "           o       0.47      0.27      0.35        70\n",
      "           w       1.00      1.00      1.00      6340\n",
      "           y       1.00      1.00      1.00         7\n",
      "\n",
      "    accuracy                           0.99      6499\n",
      "   macro avg       0.75      0.75      0.74      6499\n",
      "weighted avg       0.99      0.99      0.99      6499\n",
      "\n"
     ]
    }
   ],
   "source": [
    "print(metrics.classification_report(y_train, preds))"
   ]
  },
  {
   "cell_type": "markdown",
   "metadata": {},
   "source": [
    "The random forest seems to be splitting the values between orange and brown and perfectly classifing the other columns."
   ]
  },
  {
   "cell_type": "markdown",
   "metadata": {},
   "source": [
    "This intuitivly makes sense - when we select multiple trees some trees may be more likely to put a row in orange or brown."
   ]
  },
  {
   "cell_type": "markdown",
   "metadata": {},
   "source": [
    "We actually already can see that if we ignore the difference between orange and brown we will have perfect classification since w and y are being predicted perfectly."
   ]
  },
  {
   "cell_type": "markdown",
   "metadata": {},
   "source": [
    "Let's confirm though..."
   ]
  },
  {
   "cell_type": "code",
   "execution_count": 209,
   "metadata": {},
   "outputs": [
    {
     "name": "stdout",
     "output_type": "stream",
     "text": [
      "              precision    recall  f1-score   support\n",
      "\n",
      "           n       1.00      1.00      1.00       152\n",
      "           w       1.00      1.00      1.00      6340\n",
      "           y       1.00      1.00      1.00         7\n",
      "\n",
      "    accuracy                           1.00      6499\n",
      "   macro avg       1.00      1.00      1.00      6499\n",
      "weighted avg       1.00      1.00      1.00      6499\n",
      "\n"
     ]
    }
   ],
   "source": [
    "preds[preds == 'o'] = 'n'\n",
    "print(metrics.classification_report(transformedTest, preds))"
   ]
  },
  {
   "cell_type": "markdown",
   "metadata": {},
   "source": [
    "Model 4..."
   ]
  },
  {
   "cell_type": "code",
   "execution_count": null,
   "metadata": {},
   "outputs": [],
   "source": []
  },
  {
   "cell_type": "markdown",
   "metadata": {},
   "source": [
    "Now since we see our random forest is doing well we might want to try a subset of the columns and see if that works as well. "
   ]
  },
  {
   "cell_type": "code",
   "execution_count": 210,
   "metadata": {},
   "outputs": [
    {
     "data": {
      "text/plain": [
       "['cap-color_c',\n",
       " 'cap-color_e',\n",
       " 'cap-color_g',\n",
       " 'cap-color_n',\n",
       " 'cap-color_p',\n",
       " 'cap-color_r',\n",
       " 'cap-color_u',\n",
       " 'cap-color_w',\n",
       " 'cap-color_y',\n",
       " 'stalk-color-above-ring_c',\n",
       " 'stalk-color-above-ring_e',\n",
       " 'stalk-color-above-ring_g',\n",
       " 'stalk-color-above-ring_n',\n",
       " 'stalk-color-above-ring_o',\n",
       " 'stalk-color-above-ring_p',\n",
       " 'stalk-color-above-ring_w',\n",
       " 'stalk-color-above-ring_y',\n",
       " 'stalk-color-below-ring_c',\n",
       " 'stalk-color-below-ring_e',\n",
       " 'stalk-color-below-ring_g',\n",
       " 'stalk-color-below-ring_n',\n",
       " 'stalk-color-below-ring_o',\n",
       " 'stalk-color-below-ring_p',\n",
       " 'stalk-color-below-ring_w',\n",
       " 'stalk-color-below-ring_y',\n",
       " 'spore-print-color_h',\n",
       " 'spore-print-color_k',\n",
       " 'spore-print-color_n',\n",
       " 'spore-print-color_o',\n",
       " 'spore-print-color_r',\n",
       " 'spore-print-color_u',\n",
       " 'spore-print-color_w',\n",
       " 'spore-print-color_y']"
      ]
     },
     "execution_count": 210,
     "metadata": {},
     "output_type": "execute_result"
    }
   ],
   "source": [
    "colorColumns"
   ]
  },
  {
   "cell_type": "code",
   "execution_count": 211,
   "metadata": {},
   "outputs": [],
   "source": [
    "colorColumnsSubset = ['cap-color_c',\n",
    " 'cap-color_e',\n",
    " 'cap-color_g',\n",
    " 'cap-color_n',\n",
    " 'cap-color_p',\n",
    " 'cap-color_r',\n",
    " 'cap-color_u',\n",
    " 'cap-color_w',\n",
    " 'cap-color_y',\n",
    " 'stalk-color-above-ring_c',\n",
    " 'stalk-color-above-ring_e',\n",
    " 'stalk-color-above-ring_g',\n",
    " 'stalk-color-above-ring_n',\n",
    " 'stalk-color-above-ring_o',\n",
    " 'stalk-color-above-ring_p',\n",
    " 'stalk-color-above-ring_w',\n",
    " 'stalk-color-above-ring_y']"
   ]
  },
  {
   "cell_type": "markdown",
   "metadata": {},
   "source": [
    "We saw these columns in particular made a big difference in our eda. "
   ]
  },
  {
   "cell_type": "code",
   "execution_count": 216,
   "metadata": {},
   "outputs": [
    {
     "data": {
      "text/plain": [
       "RandomForestClassifier(random_state=123456)"
      ]
     },
     "execution_count": 216,
     "metadata": {},
     "output_type": "execute_result"
    }
   ],
   "source": [
    "rf = RandomForestClassifier(n_estimators=100, random_state=123456)\n",
    "rf.fit(x[colorColumnsSubset], y)"
   ]
  },
  {
   "cell_type": "code",
   "execution_count": 217,
   "metadata": {},
   "outputs": [],
   "source": [
    "preds = rf.predict(X_train[colorColumnsSubset])"
   ]
  },
  {
   "cell_type": "code",
   "execution_count": 218,
   "metadata": {},
   "outputs": [
    {
     "name": "stdout",
     "output_type": "stream",
     "text": [
      "              precision    recall  f1-score   support\n",
      "\n",
      "           n       0.00      0.00      0.00        82\n",
      "           o       0.46      1.00      0.63        70\n",
      "           w       1.00      1.00      1.00      6340\n",
      "           y       1.00      1.00      1.00         7\n",
      "\n",
      "    accuracy                           0.99      6499\n",
      "   macro avg       0.62      0.75      0.66      6499\n",
      "weighted avg       0.98      0.99      0.98      6499\n",
      "\n"
     ]
    },
    {
     "name": "stderr",
     "output_type": "stream",
     "text": [
      "C:\\Users\\b-coh\\Anaconda3\\lib\\site-packages\\sklearn\\metrics\\_classification.py:1221: UndefinedMetricWarning: Precision and F-score are ill-defined and being set to 0.0 in labels with no predicted samples. Use `zero_division` parameter to control this behavior.\n",
      "  _warn_prf(average, modifier, msg_start, len(result))\n"
     ]
    }
   ],
   "source": [
    "print(metrics.classification_report(y_train, preds))"
   ]
  },
  {
   "cell_type": "markdown",
   "metadata": {},
   "source": [
    "This is interesting. We have perfect scores between w and y again. The only features we have trouble predicting again are brown and orange. "
   ]
  },
  {
   "cell_type": "markdown",
   "metadata": {},
   "source": [
    "Unlike our other models though, this model has trouble predicting brown. "
   ]
  },
  {
   "cell_type": "markdown",
   "metadata": {},
   "source": [
    "Out of curiosity, let's see how a single decision tree would do on this."
   ]
  },
  {
   "cell_type": "code",
   "execution_count": 223,
   "metadata": {},
   "outputs": [],
   "source": [
    "rf = DecisionTreeClassifier()\n",
    "rf.fit(x[colorColumnsSubset], y)\n",
    "preds = rf.predict(X_train[colorColumnsSubset])"
   ]
  },
  {
   "cell_type": "code",
   "execution_count": 224,
   "metadata": {},
   "outputs": [
    {
     "name": "stdout",
     "output_type": "stream",
     "text": [
      "              precision    recall  f1-score   support\n",
      "\n",
      "           n       0.54      1.00      0.70        82\n",
      "           o       0.00      0.00      0.00        70\n",
      "           w       1.00      1.00      1.00      6340\n",
      "           y       1.00      1.00      1.00         7\n",
      "\n",
      "    accuracy                           0.99      6499\n",
      "   macro avg       0.63      0.75      0.68      6499\n",
      "weighted avg       0.98      0.99      0.99      6499\n",
      "\n"
     ]
    },
    {
     "name": "stderr",
     "output_type": "stream",
     "text": [
      "C:\\Users\\b-coh\\Anaconda3\\lib\\site-packages\\sklearn\\metrics\\_classification.py:1221: UndefinedMetricWarning: Precision and F-score are ill-defined and being set to 0.0 in labels with no predicted samples. Use `zero_division` parameter to control this behavior.\n",
      "  _warn_prf(average, modifier, msg_start, len(result))\n"
     ]
    }
   ],
   "source": [
    "print(metrics.classification_report(y_train, preds))"
   ]
  },
  {
   "cell_type": "markdown",
   "metadata": {},
   "source": [
    "Interestingly, a single tree still doesn't predict oranges still even with this subset."
   ]
  },
  {
   "cell_type": "markdown",
   "metadata": {},
   "source": [
    "### Model Comparison"
   ]
  },
  {
   "cell_type": "markdown",
   "metadata": {},
   "source": [
    "I don't think it is particularly meaningful to compare our metrics here. All of our models almost perfectly predicted veil-colors of white and yellow.\n",
    "\n",
    "They varied in how they predicted orange and brown. All of our tree models had an f1 score close to 0 for our orange variable. Our first and last tree model didn't predict any oranges and our 2nd had a very low recall score. \n",
    "\n",
    "With our random forests, our first model correctly classified around half of each points in the right groups while our second model had a precision and recall score of 0 when predicting orange."
   ]
  },
  {
   "cell_type": "markdown",
   "metadata": {},
   "source": [
    "I think it's fair to say based on this, that none of our models can accuratly predict the difference between orange and brown. The random forest model which does is only right in putting it in the right category around half the time."
   ]
  },
  {
   "cell_type": "markdown",
   "metadata": {},
   "source": [
    "Therefore, since all of our models can predict the other columns perfectly, let's use the simplest model- the last one. Let's first use cross validation to make sure that it is not overfitting."
   ]
  },
  {
   "cell_type": "markdown",
   "metadata": {},
   "source": [
    "Unlike random forests, we need to be cautious here since it is very easy to overfit trees. "
   ]
  },
  {
   "cell_type": "code",
   "execution_count": null,
   "metadata": {},
   "outputs": [],
   "source": []
  },
  {
   "cell_type": "code",
   "execution_count": 227,
   "metadata": {},
   "outputs": [
    {
     "data": {
      "text/plain": [
       "array([0.98923077, 0.98923077, 0.98923077, 0.98923077, 0.98922248])"
      ]
     },
     "execution_count": 227,
     "metadata": {},
     "output_type": "execute_result"
    }
   ],
   "source": [
    "rf = DecisionTreeClassifier(criterion = 'gini', max_depth = 4)\n",
    "\n",
    "scores = cross_val_score(rf, X_train[colorColumnsSubset], y_train, cv=5)\n",
    "scores"
   ]
  },
  {
   "cell_type": "markdown",
   "metadata": {},
   "source": [
    "Our cross val scores all seem to be around the same so let's go ahead and test on our test data."
   ]
  },
  {
   "cell_type": "code",
   "execution_count": 228,
   "metadata": {},
   "outputs": [
    {
     "data": {
      "text/plain": [
       "DecisionTreeClassifier(max_depth=4)"
      ]
     },
     "execution_count": 228,
     "metadata": {},
     "output_type": "execute_result"
    }
   ],
   "source": [
    "rf.fit(X_train[colorColumnsSubset], y_train)"
   ]
  },
  {
   "cell_type": "code",
   "execution_count": 229,
   "metadata": {},
   "outputs": [],
   "source": [
    "preds = rf.predict(X_test[colorColumnsSubset])"
   ]
  },
  {
   "cell_type": "code",
   "execution_count": 231,
   "metadata": {},
   "outputs": [
    {
     "name": "stdout",
     "output_type": "stream",
     "text": [
      "              precision    recall  f1-score   support\n",
      "\n",
      "           n       0.35      1.00      0.52        14\n",
      "           o       0.00      0.00      0.00        26\n",
      "           w       1.00      1.00      1.00      1584\n",
      "           y       1.00      1.00      1.00         1\n",
      "\n",
      "    accuracy                           0.98      1625\n",
      "   macro avg       0.59      0.75      0.63      1625\n",
      "weighted avg       0.98      0.98      0.98      1625\n",
      "\n"
     ]
    },
    {
     "name": "stderr",
     "output_type": "stream",
     "text": [
      "C:\\Users\\b-coh\\Anaconda3\\lib\\site-packages\\sklearn\\metrics\\_classification.py:1221: UndefinedMetricWarning: Precision and F-score are ill-defined and being set to 0.0 in labels with no predicted samples. Use `zero_division` parameter to control this behavior.\n",
      "  _warn_prf(average, modifier, msg_start, len(result))\n"
     ]
    }
   ],
   "source": [
    "print(metrics.classification_report(y_test, preds))"
   ]
  },
  {
   "cell_type": "markdown",
   "metadata": {},
   "source": [
    "We see almost the identical behavior in our test data. We perfectly predict white and yellow and can't distinguish between orange and brown.  "
   ]
  },
  {
   "cell_type": "code",
   "execution_count": 232,
   "metadata": {},
   "outputs": [
    {
     "data": {
      "text/plain": [
       "array([[  14,    0,    0,    0],\n",
       "       [  26,    0,    0,    0],\n",
       "       [   0,    0, 1584,    0],\n",
       "       [   0,    0,    0,    1]], dtype=int64)"
      ]
     },
     "execution_count": 232,
     "metadata": {},
     "output_type": "execute_result"
    }
   ],
   "source": [
    "metrics.confusion_matrix(y_test,preds)"
   ]
  },
  {
   "cell_type": "markdown",
   "metadata": {},
   "source": [
    "We see here that 26 were incorrectly predicted as brown when they were really orange. Everything else was classified correctly."
   ]
  },
  {
   "cell_type": "markdown",
   "metadata": {},
   "source": [
    "I would argue that from a practical perspective, brown really is just a darker shade of orange or at the very least it can be hard to tell the difference. "
   ]
  },
  {
   "cell_type": "markdown",
   "metadata": {},
   "source": [
    "### Conclusions."
   ]
  },
  {
   "cell_type": "markdown",
   "metadata": {},
   "source": [
    "1. We saw that most mushrooms have a veil color of white. We also saw that other physical charechteristics of mushrooms help indicate the color.\n",
    "2. We saw that both random forests and individual precision trees can both almost perfectly veil colors that are white and yellow but struggle to distinguish between brown and orange."
   ]
  },
  {
   "cell_type": "code",
   "execution_count": null,
   "metadata": {},
   "outputs": [],
   "source": []
  }
 ],
 "metadata": {
  "kernelspec": {
   "display_name": "Python 3",
   "language": "python",
   "name": "python3"
  },
  "language_info": {
   "codemirror_mode": {
    "name": "ipython",
    "version": 3
   },
   "file_extension": ".py",
   "mimetype": "text/x-python",
   "name": "python",
   "nbconvert_exporter": "python",
   "pygments_lexer": "ipython3",
   "version": "3.7.1"
  }
 },
 "nbformat": 4,
 "nbformat_minor": 2
}
