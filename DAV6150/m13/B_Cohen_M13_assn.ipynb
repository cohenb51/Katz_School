{
 "cells": [
  {
   "cell_type": "markdown",
   "metadata": {},
   "source": [
    "Benny Cohen\n",
    "\n",
    "8/8/2020\n",
    "\n",
    "DAV 6150 M13"
   ]
  },
  {
   "cell_type": "markdown",
   "metadata": {},
   "source": [
    "### Intro"
   ]
  },
  {
   "cell_type": "markdown",
   "metadata": {},
   "source": [
    "In this notebook we will be looking at a dataset about diamonds provided to us by the DAV 6150 course. We will try to classify the cut of the diamond. \n",
    "\n",
    "In order to do this we will examine the features of our dataset, prepare the data, then create different neural networks. \n"
   ]
  },
  {
   "cell_type": "markdown",
   "metadata": {},
   "source": [
    "### EDA "
   ]
  },
  {
   "cell_type": "code",
   "execution_count": 5,
   "metadata": {},
   "outputs": [],
   "source": [
    "import pandas as pd\n",
    "import matplotlib.pyplot as plt\n",
    "%matplotlib inline"
   ]
  },
  {
   "cell_type": "code",
   "execution_count": 6,
   "metadata": {},
   "outputs": [],
   "source": [
    "username = 'cohenb51'\n",
    "path = 'Katz_School/develop/DAV6150/Project3_Data.csv'\n",
    "df = pd.read_csv(f'https://raw.githubusercontent.com/{username}/{path}')"
   ]
  },
  {
   "cell_type": "code",
   "execution_count": 7,
   "metadata": {},
   "outputs": [
    {
     "data": {
      "text/plain": [
       "(53940, 10)"
      ]
     },
     "execution_count": 7,
     "metadata": {},
     "output_type": "execute_result"
    }
   ],
   "source": [
    "df.shape"
   ]
  },
  {
   "cell_type": "code",
   "execution_count": 8,
   "metadata": {},
   "outputs": [
    {
     "data": {
      "text/plain": [
       "Index(['carat', 'cut', 'color', 'clarity', 'depth', 'table', 'price', 'x', 'y',\n",
       "       'z'],\n",
       "      dtype='object')"
      ]
     },
     "execution_count": 8,
     "metadata": {},
     "output_type": "execute_result"
    }
   ],
   "source": [
    "df.columns"
   ]
  },
  {
   "cell_type": "markdown",
   "metadata": {},
   "source": [
    "We see that we have 10 columns and 53940 rows. This is a very long, but not very wide dataset. "
   ]
  },
  {
   "cell_type": "markdown",
   "metadata": {},
   "source": [
    "The description of the dataset can be found at https://ggplot2.tidyverse.org/reference/diamonds.html\n",
    "\n",
    "1. price - price in US dollars (326-18,823)\n",
    "\n",
    "2. carat - weight of the diamond (0.2--5.01)\n",
    "\n",
    "3. cut - quality of the cut (Fair, Good, Very Good, Premium, Ideal)\n",
    "\n",
    "4. color -  diamond colour, from D (best) to J (worst)\n",
    "\n",
    "5. clarity - a measurement of how clear the diamond is (I1 (worst), SI2, SI1, VS2, VS1, VVS2, VVS1, IF (best))\n",
    "\n",
    "6. x - length in mm (0--10.74)\n",
    "\n",
    "7. y width in mm (0--58.9)\n",
    "\n",
    "8. z - depth in mm (0--31.8)\n",
    "\n",
    "9. depth - total depth percentage = z / mean(x, y) = 2 * z / (x + y) (43--79)\n",
    "\n",
    "10. table - width of top of diamond relative to widest point (43--95)"
   ]
  },
  {
   "cell_type": "markdown",
   "metadata": {},
   "source": [
    "A lot of these variables we would think would be correlated with each other. For example, we would think that the higher the price, the larger the diamond would be and the better the cut. When it comes to the feature cut in particular though, the variable we are trying to predict, some of the variables like color logically won't relate to the cut."
   ]
  },
  {
   "cell_type": "markdown",
   "metadata": {},
   "source": [
    "For a bit of domain knowledge, we can look at how diamond cuts are graded here. https://www.diamonds.pro/education/cuts/"
   ]
  },
  {
   "cell_type": "markdown",
   "metadata": {},
   "source": [
    "The key sentence I think we should focus in on is this line\n",
    "\n",
    "\"Many elements are involved in Cut quality including its proportions, facets, finishing details and ability to reflect light. The better these characterstics are as a whole, the higher the quality of the diamond, and in return, the higher the price.\""
   ]
  },
  {
   "cell_type": "markdown",
   "metadata": {},
   "source": [
    "We see from this sentence how many of the features we have will effect the cut rating. We have several proportion features like x,y,z, and features for clarity and color which help define the diamonds ability to reflect light."
   ]
  },
  {
   "cell_type": "code",
   "execution_count": 9,
   "metadata": {},
   "outputs": [
    {
     "data": {
      "text/plain": [
       "carat      0\n",
       "cut        0\n",
       "color      0\n",
       "clarity    0\n",
       "depth      0\n",
       "table      0\n",
       "price      0\n",
       "x          0\n",
       "y          0\n",
       "z          0\n",
       "dtype: int64"
      ]
     },
     "execution_count": 9,
     "metadata": {},
     "output_type": "execute_result"
    }
   ],
   "source": [
    "df.isnull().sum()"
   ]
  },
  {
   "cell_type": "markdown",
   "metadata": {},
   "source": [
    "None of our features have nulls..."
   ]
  },
  {
   "cell_type": "code",
   "execution_count": 10,
   "metadata": {},
   "outputs": [
    {
     "data": {
      "text/html": [
       "<div>\n",
       "<style scoped>\n",
       "    .dataframe tbody tr th:only-of-type {\n",
       "        vertical-align: middle;\n",
       "    }\n",
       "\n",
       "    .dataframe tbody tr th {\n",
       "        vertical-align: top;\n",
       "    }\n",
       "\n",
       "    .dataframe thead th {\n",
       "        text-align: right;\n",
       "    }\n",
       "</style>\n",
       "<table border=\"1\" class=\"dataframe\">\n",
       "  <thead>\n",
       "    <tr style=\"text-align: right;\">\n",
       "      <th></th>\n",
       "      <th>carat</th>\n",
       "      <th>cut</th>\n",
       "      <th>color</th>\n",
       "      <th>clarity</th>\n",
       "      <th>depth</th>\n",
       "      <th>table</th>\n",
       "      <th>price</th>\n",
       "      <th>x</th>\n",
       "      <th>y</th>\n",
       "      <th>z</th>\n",
       "    </tr>\n",
       "  </thead>\n",
       "  <tbody>\n",
       "    <tr>\n",
       "      <th>0</th>\n",
       "      <td>0.23</td>\n",
       "      <td>Ideal</td>\n",
       "      <td>E</td>\n",
       "      <td>SI2</td>\n",
       "      <td>61.5</td>\n",
       "      <td>55.0</td>\n",
       "      <td>326</td>\n",
       "      <td>3.95</td>\n",
       "      <td>3.98</td>\n",
       "      <td>2.43</td>\n",
       "    </tr>\n",
       "    <tr>\n",
       "      <th>1</th>\n",
       "      <td>0.21</td>\n",
       "      <td>Premium</td>\n",
       "      <td>E</td>\n",
       "      <td>SI1</td>\n",
       "      <td>59.8</td>\n",
       "      <td>61.0</td>\n",
       "      <td>326</td>\n",
       "      <td>3.89</td>\n",
       "      <td>3.84</td>\n",
       "      <td>2.31</td>\n",
       "    </tr>\n",
       "  </tbody>\n",
       "</table>\n",
       "</div>"
      ],
      "text/plain": [
       "   carat      cut color clarity  depth  table  price     x     y     z\n",
       "0   0.23    Ideal     E     SI2   61.5   55.0    326  3.95  3.98  2.43\n",
       "1   0.21  Premium     E     SI1   59.8   61.0    326  3.89  3.84  2.31"
      ]
     },
     "execution_count": 10,
     "metadata": {},
     "output_type": "execute_result"
    }
   ],
   "source": [
    "df.head(2)"
   ]
  },
  {
   "cell_type": "markdown",
   "metadata": {},
   "source": [
    "carat, depth, table,price,x,y,and z are all numeric. color, cut and clarity are categorical."
   ]
  },
  {
   "cell_type": "code",
   "execution_count": 11,
   "metadata": {},
   "outputs": [
    {
     "data": {
      "text/plain": [
       "array([[<matplotlib.axes._subplots.AxesSubplot object at 0x000001ABB9E212E8>,\n",
       "        <matplotlib.axes._subplots.AxesSubplot object at 0x000001ABB9EB17F0>,\n",
       "        <matplotlib.axes._subplots.AxesSubplot object at 0x000001ABB9EDCCC0>],\n",
       "       [<matplotlib.axes._subplots.AxesSubplot object at 0x000001ABB9F0B278>,\n",
       "        <matplotlib.axes._subplots.AxesSubplot object at 0x000001ABB9F317F0>,\n",
       "        <matplotlib.axes._subplots.AxesSubplot object at 0x000001ABB9F59D68>],\n",
       "       [<matplotlib.axes._subplots.AxesSubplot object at 0x000001ABB9F8A320>,\n",
       "        <matplotlib.axes._subplots.AxesSubplot object at 0x000001ABBC1108D0>,\n",
       "        <matplotlib.axes._subplots.AxesSubplot object at 0x000001ABBC110908>]],\n",
       "      dtype=object)"
      ]
     },
     "execution_count": 11,
     "metadata": {},
     "output_type": "execute_result"
    },
    {
     "data": {
      "image/png": "[encoded data removed]",
      "text/plain": [
       "<Figure size 1080x1080 with 9 Axes>"
      ]
     },
     "metadata": {
      "needs_background": "light"
     },
     "output_type": "display_data"
    }
   ],
   "source": [
    "df.hist(figsize = (15,15))"
   ]
  },
  {
   "cell_type": "code",
   "execution_count": null,
   "metadata": {},
   "outputs": [],
   "source": []
  },
  {
   "cell_type": "markdown",
   "metadata": {},
   "source": [
    "Carat and price are left skewed. depth, table, and z seem to have very large peaks. \n",
    "\n",
    "It makes sense that Carat and price are let skewed. Price is naturally tied to carat as when people buy diamonds they are paying per carat. Most diamonds have low low weights and a few have high and sell for more. That's why both graphs are rightly skewed.\n",
    "\n",
    "The large peaks for the dimensions indicates that there isn't that much variance but it seems slightly odd that there are outliers stretching the graph out very far. "
   ]
  },
  {
   "cell_type": "code",
   "execution_count": 12,
   "metadata": {},
   "outputs": [
    {
     "data": {
      "text/html": [
       "<div>\n",
       "<style scoped>\n",
       "    .dataframe tbody tr th:only-of-type {\n",
       "        vertical-align: middle;\n",
       "    }\n",
       "\n",
       "    .dataframe tbody tr th {\n",
       "        vertical-align: top;\n",
       "    }\n",
       "\n",
       "    .dataframe thead th {\n",
       "        text-align: right;\n",
       "    }\n",
       "</style>\n",
       "<table border=\"1\" class=\"dataframe\">\n",
       "  <thead>\n",
       "    <tr style=\"text-align: right;\">\n",
       "      <th></th>\n",
       "      <th>carat</th>\n",
       "      <th>depth</th>\n",
       "      <th>table</th>\n",
       "      <th>price</th>\n",
       "      <th>x</th>\n",
       "      <th>y</th>\n",
       "      <th>z</th>\n",
       "    </tr>\n",
       "  </thead>\n",
       "  <tbody>\n",
       "    <tr>\n",
       "      <th>count</th>\n",
       "      <td>53940.000000</td>\n",
       "      <td>53940.000000</td>\n",
       "      <td>53940.000000</td>\n",
       "      <td>53940.000000</td>\n",
       "      <td>53940.000000</td>\n",
       "      <td>53940.000000</td>\n",
       "      <td>53940.000000</td>\n",
       "    </tr>\n",
       "    <tr>\n",
       "      <th>mean</th>\n",
       "      <td>0.797940</td>\n",
       "      <td>61.749405</td>\n",
       "      <td>57.457184</td>\n",
       "      <td>3932.799722</td>\n",
       "      <td>5.731157</td>\n",
       "      <td>5.734526</td>\n",
       "      <td>3.538734</td>\n",
       "    </tr>\n",
       "    <tr>\n",
       "      <th>std</th>\n",
       "      <td>0.474011</td>\n",
       "      <td>1.432621</td>\n",
       "      <td>2.234491</td>\n",
       "      <td>3989.439738</td>\n",
       "      <td>1.121761</td>\n",
       "      <td>1.142135</td>\n",
       "      <td>0.705699</td>\n",
       "    </tr>\n",
       "    <tr>\n",
       "      <th>min</th>\n",
       "      <td>0.200000</td>\n",
       "      <td>43.000000</td>\n",
       "      <td>43.000000</td>\n",
       "      <td>326.000000</td>\n",
       "      <td>0.000000</td>\n",
       "      <td>0.000000</td>\n",
       "      <td>0.000000</td>\n",
       "    </tr>\n",
       "    <tr>\n",
       "      <th>25%</th>\n",
       "      <td>0.400000</td>\n",
       "      <td>61.000000</td>\n",
       "      <td>56.000000</td>\n",
       "      <td>950.000000</td>\n",
       "      <td>4.710000</td>\n",
       "      <td>4.720000</td>\n",
       "      <td>2.910000</td>\n",
       "    </tr>\n",
       "    <tr>\n",
       "      <th>50%</th>\n",
       "      <td>0.700000</td>\n",
       "      <td>61.800000</td>\n",
       "      <td>57.000000</td>\n",
       "      <td>2401.000000</td>\n",
       "      <td>5.700000</td>\n",
       "      <td>5.710000</td>\n",
       "      <td>3.530000</td>\n",
       "    </tr>\n",
       "    <tr>\n",
       "      <th>75%</th>\n",
       "      <td>1.040000</td>\n",
       "      <td>62.500000</td>\n",
       "      <td>59.000000</td>\n",
       "      <td>5324.250000</td>\n",
       "      <td>6.540000</td>\n",
       "      <td>6.540000</td>\n",
       "      <td>4.040000</td>\n",
       "    </tr>\n",
       "    <tr>\n",
       "      <th>max</th>\n",
       "      <td>5.010000</td>\n",
       "      <td>79.000000</td>\n",
       "      <td>95.000000</td>\n",
       "      <td>18823.000000</td>\n",
       "      <td>10.740000</td>\n",
       "      <td>58.900000</td>\n",
       "      <td>31.800000</td>\n",
       "    </tr>\n",
       "  </tbody>\n",
       "</table>\n",
       "</div>"
      ],
      "text/plain": [
       "              carat         depth         table         price             x  \\\n",
       "count  53940.000000  53940.000000  53940.000000  53940.000000  53940.000000   \n",
       "mean       0.797940     61.749405     57.457184   3932.799722      5.731157   \n",
       "std        0.474011      1.432621      2.234491   3989.439738      1.121761   \n",
       "min        0.200000     43.000000     43.000000    326.000000      0.000000   \n",
       "25%        0.400000     61.000000     56.000000    950.000000      4.710000   \n",
       "50%        0.700000     61.800000     57.000000   2401.000000      5.700000   \n",
       "75%        1.040000     62.500000     59.000000   5324.250000      6.540000   \n",
       "max        5.010000     79.000000     95.000000  18823.000000     10.740000   \n",
       "\n",
       "                  y             z  \n",
       "count  53940.000000  53940.000000  \n",
       "mean       5.734526      3.538734  \n",
       "std        1.142135      0.705699  \n",
       "min        0.000000      0.000000  \n",
       "25%        4.720000      2.910000  \n",
       "50%        5.710000      3.530000  \n",
       "75%        6.540000      4.040000  \n",
       "max       58.900000     31.800000  "
      ]
     },
     "execution_count": 12,
     "metadata": {},
     "output_type": "execute_result"
    }
   ],
   "source": [
    "df.describe()"
   ]
  },
  {
   "cell_type": "markdown",
   "metadata": {},
   "source": [
    "Another note is that the z and y seem to have values at 0. "
   ]
  },
  {
   "cell_type": "code",
   "execution_count": 13,
   "metadata": {},
   "outputs": [
    {
     "data": {
      "text/plain": [
       "8"
      ]
     },
     "execution_count": 13,
     "metadata": {},
     "output_type": "execute_result"
    }
   ],
   "source": [
    "(df.x == 0).sum()"
   ]
  },
  {
   "cell_type": "code",
   "execution_count": 14,
   "metadata": {},
   "outputs": [
    {
     "data": {
      "text/plain": [
       "7"
      ]
     },
     "execution_count": 14,
     "metadata": {},
     "output_type": "execute_result"
    }
   ],
   "source": [
    "(df.y == 0).sum()"
   ]
  },
  {
   "cell_type": "code",
   "execution_count": 15,
   "metadata": {},
   "outputs": [
    {
     "data": {
      "text/plain": [
       "20"
      ]
     },
     "execution_count": 15,
     "metadata": {},
     "output_type": "execute_result"
    }
   ],
   "source": [
    "(df.z == 0).sum()"
   ]
  },
  {
   "cell_type": "code",
   "execution_count": 16,
   "metadata": {},
   "outputs": [
    {
     "data": {
      "text/html": [
       "<div>\n",
       "<style scoped>\n",
       "    .dataframe tbody tr th:only-of-type {\n",
       "        vertical-align: middle;\n",
       "    }\n",
       "\n",
       "    .dataframe tbody tr th {\n",
       "        vertical-align: top;\n",
       "    }\n",
       "\n",
       "    .dataframe thead th {\n",
       "        text-align: right;\n",
       "    }\n",
       "</style>\n",
       "<table border=\"1\" class=\"dataframe\">\n",
       "  <thead>\n",
       "    <tr style=\"text-align: right;\">\n",
       "      <th></th>\n",
       "      <th>carat</th>\n",
       "      <th>cut</th>\n",
       "      <th>color</th>\n",
       "      <th>clarity</th>\n",
       "      <th>depth</th>\n",
       "      <th>table</th>\n",
       "      <th>price</th>\n",
       "      <th>x</th>\n",
       "      <th>y</th>\n",
       "      <th>z</th>\n",
       "    </tr>\n",
       "  </thead>\n",
       "  <tbody>\n",
       "    <tr>\n",
       "      <th>0</th>\n",
       "      <td>0.23</td>\n",
       "      <td>Ideal</td>\n",
       "      <td>E</td>\n",
       "      <td>SI2</td>\n",
       "      <td>61.5</td>\n",
       "      <td>55.0</td>\n",
       "      <td>326</td>\n",
       "      <td>3.95</td>\n",
       "      <td>3.98</td>\n",
       "      <td>2.43</td>\n",
       "    </tr>\n",
       "    <tr>\n",
       "      <th>1</th>\n",
       "      <td>0.21</td>\n",
       "      <td>Premium</td>\n",
       "      <td>E</td>\n",
       "      <td>SI1</td>\n",
       "      <td>59.8</td>\n",
       "      <td>61.0</td>\n",
       "      <td>326</td>\n",
       "      <td>3.89</td>\n",
       "      <td>3.84</td>\n",
       "      <td>2.31</td>\n",
       "    </tr>\n",
       "    <tr>\n",
       "      <th>2</th>\n",
       "      <td>0.23</td>\n",
       "      <td>Good</td>\n",
       "      <td>E</td>\n",
       "      <td>VS1</td>\n",
       "      <td>56.9</td>\n",
       "      <td>65.0</td>\n",
       "      <td>327</td>\n",
       "      <td>4.05</td>\n",
       "      <td>4.07</td>\n",
       "      <td>2.31</td>\n",
       "    </tr>\n",
       "    <tr>\n",
       "      <th>3</th>\n",
       "      <td>0.29</td>\n",
       "      <td>Premium</td>\n",
       "      <td>I</td>\n",
       "      <td>VS2</td>\n",
       "      <td>62.4</td>\n",
       "      <td>58.0</td>\n",
       "      <td>334</td>\n",
       "      <td>4.20</td>\n",
       "      <td>4.23</td>\n",
       "      <td>2.63</td>\n",
       "    </tr>\n",
       "    <tr>\n",
       "      <th>4</th>\n",
       "      <td>0.31</td>\n",
       "      <td>Good</td>\n",
       "      <td>J</td>\n",
       "      <td>SI2</td>\n",
       "      <td>63.3</td>\n",
       "      <td>58.0</td>\n",
       "      <td>335</td>\n",
       "      <td>4.34</td>\n",
       "      <td>4.35</td>\n",
       "      <td>2.75</td>\n",
       "    </tr>\n",
       "  </tbody>\n",
       "</table>\n",
       "</div>"
      ],
      "text/plain": [
       "   carat      cut color clarity  depth  table  price     x     y     z\n",
       "0   0.23    Ideal     E     SI2   61.5   55.0    326  3.95  3.98  2.43\n",
       "1   0.21  Premium     E     SI1   59.8   61.0    326  3.89  3.84  2.31\n",
       "2   0.23     Good     E     VS1   56.9   65.0    327  4.05  4.07  2.31\n",
       "3   0.29  Premium     I     VS2   62.4   58.0    334  4.20  4.23  2.63\n",
       "4   0.31     Good     J     SI2   63.3   58.0    335  4.34  4.35  2.75"
      ]
     },
     "execution_count": 16,
     "metadata": {},
     "output_type": "execute_result"
    }
   ],
   "source": [
    "df.head()"
   ]
  },
  {
   "cell_type": "markdown",
   "metadata": {},
   "source": [
    "There are 7 values with y of 0 and 20 values of z = 0. Let's see what these rows are."
   ]
  },
  {
   "cell_type": "code",
   "execution_count": 17,
   "metadata": {},
   "outputs": [
    {
     "data": {
      "text/html": [
       "<div>\n",
       "<style scoped>\n",
       "    .dataframe tbody tr th:only-of-type {\n",
       "        vertical-align: middle;\n",
       "    }\n",
       "\n",
       "    .dataframe tbody tr th {\n",
       "        vertical-align: top;\n",
       "    }\n",
       "\n",
       "    .dataframe thead th {\n",
       "        text-align: right;\n",
       "    }\n",
       "</style>\n",
       "<table border=\"1\" class=\"dataframe\">\n",
       "  <thead>\n",
       "    <tr style=\"text-align: right;\">\n",
       "      <th></th>\n",
       "      <th>carat</th>\n",
       "      <th>cut</th>\n",
       "      <th>color</th>\n",
       "      <th>clarity</th>\n",
       "      <th>depth</th>\n",
       "      <th>table</th>\n",
       "      <th>price</th>\n",
       "      <th>x</th>\n",
       "      <th>y</th>\n",
       "      <th>z</th>\n",
       "    </tr>\n",
       "  </thead>\n",
       "  <tbody>\n",
       "    <tr>\n",
       "      <th>11963</th>\n",
       "      <td>1.00</td>\n",
       "      <td>Very Good</td>\n",
       "      <td>H</td>\n",
       "      <td>VS2</td>\n",
       "      <td>63.3</td>\n",
       "      <td>53.0</td>\n",
       "      <td>5139</td>\n",
       "      <td>0.0</td>\n",
       "      <td>0.0</td>\n",
       "      <td>0.0</td>\n",
       "    </tr>\n",
       "    <tr>\n",
       "      <th>15951</th>\n",
       "      <td>1.14</td>\n",
       "      <td>Fair</td>\n",
       "      <td>G</td>\n",
       "      <td>VS1</td>\n",
       "      <td>57.5</td>\n",
       "      <td>67.0</td>\n",
       "      <td>6381</td>\n",
       "      <td>0.0</td>\n",
       "      <td>0.0</td>\n",
       "      <td>0.0</td>\n",
       "    </tr>\n",
       "    <tr>\n",
       "      <th>24520</th>\n",
       "      <td>1.56</td>\n",
       "      <td>Ideal</td>\n",
       "      <td>G</td>\n",
       "      <td>VS2</td>\n",
       "      <td>62.2</td>\n",
       "      <td>54.0</td>\n",
       "      <td>12800</td>\n",
       "      <td>0.0</td>\n",
       "      <td>0.0</td>\n",
       "      <td>0.0</td>\n",
       "    </tr>\n",
       "    <tr>\n",
       "      <th>26243</th>\n",
       "      <td>1.20</td>\n",
       "      <td>Premium</td>\n",
       "      <td>D</td>\n",
       "      <td>VVS1</td>\n",
       "      <td>62.1</td>\n",
       "      <td>59.0</td>\n",
       "      <td>15686</td>\n",
       "      <td>0.0</td>\n",
       "      <td>0.0</td>\n",
       "      <td>0.0</td>\n",
       "    </tr>\n",
       "    <tr>\n",
       "      <th>27429</th>\n",
       "      <td>2.25</td>\n",
       "      <td>Premium</td>\n",
       "      <td>H</td>\n",
       "      <td>SI2</td>\n",
       "      <td>62.8</td>\n",
       "      <td>59.0</td>\n",
       "      <td>18034</td>\n",
       "      <td>0.0</td>\n",
       "      <td>0.0</td>\n",
       "      <td>0.0</td>\n",
       "    </tr>\n",
       "    <tr>\n",
       "      <th>49556</th>\n",
       "      <td>0.71</td>\n",
       "      <td>Good</td>\n",
       "      <td>F</td>\n",
       "      <td>SI2</td>\n",
       "      <td>64.1</td>\n",
       "      <td>60.0</td>\n",
       "      <td>2130</td>\n",
       "      <td>0.0</td>\n",
       "      <td>0.0</td>\n",
       "      <td>0.0</td>\n",
       "    </tr>\n",
       "    <tr>\n",
       "      <th>49557</th>\n",
       "      <td>0.71</td>\n",
       "      <td>Good</td>\n",
       "      <td>F</td>\n",
       "      <td>SI2</td>\n",
       "      <td>64.1</td>\n",
       "      <td>60.0</td>\n",
       "      <td>2130</td>\n",
       "      <td>0.0</td>\n",
       "      <td>0.0</td>\n",
       "      <td>0.0</td>\n",
       "    </tr>\n",
       "  </tbody>\n",
       "</table>\n",
       "</div>"
      ],
      "text/plain": [
       "       carat        cut color clarity  depth  table  price    x    y    z\n",
       "11963   1.00  Very Good     H     VS2   63.3   53.0   5139  0.0  0.0  0.0\n",
       "15951   1.14       Fair     G     VS1   57.5   67.0   6381  0.0  0.0  0.0\n",
       "24520   1.56      Ideal     G     VS2   62.2   54.0  12800  0.0  0.0  0.0\n",
       "26243   1.20    Premium     D    VVS1   62.1   59.0  15686  0.0  0.0  0.0\n",
       "27429   2.25    Premium     H     SI2   62.8   59.0  18034  0.0  0.0  0.0\n",
       "49556   0.71       Good     F     SI2   64.1   60.0   2130  0.0  0.0  0.0\n",
       "49557   0.71       Good     F     SI2   64.1   60.0   2130  0.0  0.0  0.0"
      ]
     },
     "execution_count": 17,
     "metadata": {},
     "output_type": "execute_result"
    }
   ],
   "source": [
    "df[df.y == 0]"
   ]
  },
  {
   "cell_type": "code",
   "execution_count": 18,
   "metadata": {},
   "outputs": [
    {
     "data": {
      "text/html": [
       "<div>\n",
       "<style scoped>\n",
       "    .dataframe tbody tr th:only-of-type {\n",
       "        vertical-align: middle;\n",
       "    }\n",
       "\n",
       "    .dataframe tbody tr th {\n",
       "        vertical-align: top;\n",
       "    }\n",
       "\n",
       "    .dataframe thead th {\n",
       "        text-align: right;\n",
       "    }\n",
       "</style>\n",
       "<table border=\"1\" class=\"dataframe\">\n",
       "  <thead>\n",
       "    <tr style=\"text-align: right;\">\n",
       "      <th></th>\n",
       "      <th>carat</th>\n",
       "      <th>cut</th>\n",
       "      <th>color</th>\n",
       "      <th>clarity</th>\n",
       "      <th>depth</th>\n",
       "      <th>table</th>\n",
       "      <th>price</th>\n",
       "      <th>x</th>\n",
       "      <th>y</th>\n",
       "      <th>z</th>\n",
       "    </tr>\n",
       "  </thead>\n",
       "  <tbody>\n",
       "    <tr>\n",
       "      <th>2207</th>\n",
       "      <td>1.00</td>\n",
       "      <td>Premium</td>\n",
       "      <td>G</td>\n",
       "      <td>SI2</td>\n",
       "      <td>59.1</td>\n",
       "      <td>59.0</td>\n",
       "      <td>3142</td>\n",
       "      <td>6.55</td>\n",
       "      <td>6.48</td>\n",
       "      <td>0.0</td>\n",
       "    </tr>\n",
       "    <tr>\n",
       "      <th>2314</th>\n",
       "      <td>1.01</td>\n",
       "      <td>Premium</td>\n",
       "      <td>H</td>\n",
       "      <td>I1</td>\n",
       "      <td>58.1</td>\n",
       "      <td>59.0</td>\n",
       "      <td>3167</td>\n",
       "      <td>6.66</td>\n",
       "      <td>6.60</td>\n",
       "      <td>0.0</td>\n",
       "    </tr>\n",
       "    <tr>\n",
       "      <th>4791</th>\n",
       "      <td>1.10</td>\n",
       "      <td>Premium</td>\n",
       "      <td>G</td>\n",
       "      <td>SI2</td>\n",
       "      <td>63.0</td>\n",
       "      <td>59.0</td>\n",
       "      <td>3696</td>\n",
       "      <td>6.50</td>\n",
       "      <td>6.47</td>\n",
       "      <td>0.0</td>\n",
       "    </tr>\n",
       "    <tr>\n",
       "      <th>5471</th>\n",
       "      <td>1.01</td>\n",
       "      <td>Premium</td>\n",
       "      <td>F</td>\n",
       "      <td>SI2</td>\n",
       "      <td>59.2</td>\n",
       "      <td>58.0</td>\n",
       "      <td>3837</td>\n",
       "      <td>6.50</td>\n",
       "      <td>6.47</td>\n",
       "      <td>0.0</td>\n",
       "    </tr>\n",
       "    <tr>\n",
       "      <th>10167</th>\n",
       "      <td>1.50</td>\n",
       "      <td>Good</td>\n",
       "      <td>G</td>\n",
       "      <td>I1</td>\n",
       "      <td>64.0</td>\n",
       "      <td>61.0</td>\n",
       "      <td>4731</td>\n",
       "      <td>7.15</td>\n",
       "      <td>7.04</td>\n",
       "      <td>0.0</td>\n",
       "    </tr>\n",
       "    <tr>\n",
       "      <th>11182</th>\n",
       "      <td>1.07</td>\n",
       "      <td>Ideal</td>\n",
       "      <td>F</td>\n",
       "      <td>SI2</td>\n",
       "      <td>61.6</td>\n",
       "      <td>56.0</td>\n",
       "      <td>4954</td>\n",
       "      <td>0.00</td>\n",
       "      <td>6.62</td>\n",
       "      <td>0.0</td>\n",
       "    </tr>\n",
       "    <tr>\n",
       "      <th>11963</th>\n",
       "      <td>1.00</td>\n",
       "      <td>Very Good</td>\n",
       "      <td>H</td>\n",
       "      <td>VS2</td>\n",
       "      <td>63.3</td>\n",
       "      <td>53.0</td>\n",
       "      <td>5139</td>\n",
       "      <td>0.00</td>\n",
       "      <td>0.00</td>\n",
       "      <td>0.0</td>\n",
       "    </tr>\n",
       "    <tr>\n",
       "      <th>13601</th>\n",
       "      <td>1.15</td>\n",
       "      <td>Ideal</td>\n",
       "      <td>G</td>\n",
       "      <td>VS2</td>\n",
       "      <td>59.2</td>\n",
       "      <td>56.0</td>\n",
       "      <td>5564</td>\n",
       "      <td>6.88</td>\n",
       "      <td>6.83</td>\n",
       "      <td>0.0</td>\n",
       "    </tr>\n",
       "    <tr>\n",
       "      <th>15951</th>\n",
       "      <td>1.14</td>\n",
       "      <td>Fair</td>\n",
       "      <td>G</td>\n",
       "      <td>VS1</td>\n",
       "      <td>57.5</td>\n",
       "      <td>67.0</td>\n",
       "      <td>6381</td>\n",
       "      <td>0.00</td>\n",
       "      <td>0.00</td>\n",
       "      <td>0.0</td>\n",
       "    </tr>\n",
       "    <tr>\n",
       "      <th>24394</th>\n",
       "      <td>2.18</td>\n",
       "      <td>Premium</td>\n",
       "      <td>H</td>\n",
       "      <td>SI2</td>\n",
       "      <td>59.4</td>\n",
       "      <td>61.0</td>\n",
       "      <td>12631</td>\n",
       "      <td>8.49</td>\n",
       "      <td>8.45</td>\n",
       "      <td>0.0</td>\n",
       "    </tr>\n",
       "    <tr>\n",
       "      <th>24520</th>\n",
       "      <td>1.56</td>\n",
       "      <td>Ideal</td>\n",
       "      <td>G</td>\n",
       "      <td>VS2</td>\n",
       "      <td>62.2</td>\n",
       "      <td>54.0</td>\n",
       "      <td>12800</td>\n",
       "      <td>0.00</td>\n",
       "      <td>0.00</td>\n",
       "      <td>0.0</td>\n",
       "    </tr>\n",
       "    <tr>\n",
       "      <th>26123</th>\n",
       "      <td>2.25</td>\n",
       "      <td>Premium</td>\n",
       "      <td>I</td>\n",
       "      <td>SI1</td>\n",
       "      <td>61.3</td>\n",
       "      <td>58.0</td>\n",
       "      <td>15397</td>\n",
       "      <td>8.52</td>\n",
       "      <td>8.42</td>\n",
       "      <td>0.0</td>\n",
       "    </tr>\n",
       "    <tr>\n",
       "      <th>26243</th>\n",
       "      <td>1.20</td>\n",
       "      <td>Premium</td>\n",
       "      <td>D</td>\n",
       "      <td>VVS1</td>\n",
       "      <td>62.1</td>\n",
       "      <td>59.0</td>\n",
       "      <td>15686</td>\n",
       "      <td>0.00</td>\n",
       "      <td>0.00</td>\n",
       "      <td>0.0</td>\n",
       "    </tr>\n",
       "    <tr>\n",
       "      <th>27112</th>\n",
       "      <td>2.20</td>\n",
       "      <td>Premium</td>\n",
       "      <td>H</td>\n",
       "      <td>SI1</td>\n",
       "      <td>61.2</td>\n",
       "      <td>59.0</td>\n",
       "      <td>17265</td>\n",
       "      <td>8.42</td>\n",
       "      <td>8.37</td>\n",
       "      <td>0.0</td>\n",
       "    </tr>\n",
       "    <tr>\n",
       "      <th>27429</th>\n",
       "      <td>2.25</td>\n",
       "      <td>Premium</td>\n",
       "      <td>H</td>\n",
       "      <td>SI2</td>\n",
       "      <td>62.8</td>\n",
       "      <td>59.0</td>\n",
       "      <td>18034</td>\n",
       "      <td>0.00</td>\n",
       "      <td>0.00</td>\n",
       "      <td>0.0</td>\n",
       "    </tr>\n",
       "    <tr>\n",
       "      <th>27503</th>\n",
       "      <td>2.02</td>\n",
       "      <td>Premium</td>\n",
       "      <td>H</td>\n",
       "      <td>VS2</td>\n",
       "      <td>62.7</td>\n",
       "      <td>53.0</td>\n",
       "      <td>18207</td>\n",
       "      <td>8.02</td>\n",
       "      <td>7.95</td>\n",
       "      <td>0.0</td>\n",
       "    </tr>\n",
       "    <tr>\n",
       "      <th>27739</th>\n",
       "      <td>2.80</td>\n",
       "      <td>Good</td>\n",
       "      <td>G</td>\n",
       "      <td>SI2</td>\n",
       "      <td>63.8</td>\n",
       "      <td>58.0</td>\n",
       "      <td>18788</td>\n",
       "      <td>8.90</td>\n",
       "      <td>8.85</td>\n",
       "      <td>0.0</td>\n",
       "    </tr>\n",
       "    <tr>\n",
       "      <th>49556</th>\n",
       "      <td>0.71</td>\n",
       "      <td>Good</td>\n",
       "      <td>F</td>\n",
       "      <td>SI2</td>\n",
       "      <td>64.1</td>\n",
       "      <td>60.0</td>\n",
       "      <td>2130</td>\n",
       "      <td>0.00</td>\n",
       "      <td>0.00</td>\n",
       "      <td>0.0</td>\n",
       "    </tr>\n",
       "    <tr>\n",
       "      <th>49557</th>\n",
       "      <td>0.71</td>\n",
       "      <td>Good</td>\n",
       "      <td>F</td>\n",
       "      <td>SI2</td>\n",
       "      <td>64.1</td>\n",
       "      <td>60.0</td>\n",
       "      <td>2130</td>\n",
       "      <td>0.00</td>\n",
       "      <td>0.00</td>\n",
       "      <td>0.0</td>\n",
       "    </tr>\n",
       "    <tr>\n",
       "      <th>51506</th>\n",
       "      <td>1.12</td>\n",
       "      <td>Premium</td>\n",
       "      <td>G</td>\n",
       "      <td>I1</td>\n",
       "      <td>60.4</td>\n",
       "      <td>59.0</td>\n",
       "      <td>2383</td>\n",
       "      <td>6.71</td>\n",
       "      <td>6.67</td>\n",
       "      <td>0.0</td>\n",
       "    </tr>\n",
       "  </tbody>\n",
       "</table>\n",
       "</div>"
      ],
      "text/plain": [
       "       carat        cut color clarity  depth  table  price     x     y    z\n",
       "2207    1.00    Premium     G     SI2   59.1   59.0   3142  6.55  6.48  0.0\n",
       "2314    1.01    Premium     H      I1   58.1   59.0   3167  6.66  6.60  0.0\n",
       "4791    1.10    Premium     G     SI2   63.0   59.0   3696  6.50  6.47  0.0\n",
       "5471    1.01    Premium     F     SI2   59.2   58.0   3837  6.50  6.47  0.0\n",
       "10167   1.50       Good     G      I1   64.0   61.0   4731  7.15  7.04  0.0\n",
       "11182   1.07      Ideal     F     SI2   61.6   56.0   4954  0.00  6.62  0.0\n",
       "11963   1.00  Very Good     H     VS2   63.3   53.0   5139  0.00  0.00  0.0\n",
       "13601   1.15      Ideal     G     VS2   59.2   56.0   5564  6.88  6.83  0.0\n",
       "15951   1.14       Fair     G     VS1   57.5   67.0   6381  0.00  0.00  0.0\n",
       "24394   2.18    Premium     H     SI2   59.4   61.0  12631  8.49  8.45  0.0\n",
       "24520   1.56      Ideal     G     VS2   62.2   54.0  12800  0.00  0.00  0.0\n",
       "26123   2.25    Premium     I     SI1   61.3   58.0  15397  8.52  8.42  0.0\n",
       "26243   1.20    Premium     D    VVS1   62.1   59.0  15686  0.00  0.00  0.0\n",
       "27112   2.20    Premium     H     SI1   61.2   59.0  17265  8.42  8.37  0.0\n",
       "27429   2.25    Premium     H     SI2   62.8   59.0  18034  0.00  0.00  0.0\n",
       "27503   2.02    Premium     H     VS2   62.7   53.0  18207  8.02  7.95  0.0\n",
       "27739   2.80       Good     G     SI2   63.8   58.0  18788  8.90  8.85  0.0\n",
       "49556   0.71       Good     F     SI2   64.1   60.0   2130  0.00  0.00  0.0\n",
       "49557   0.71       Good     F     SI2   64.1   60.0   2130  0.00  0.00  0.0\n",
       "51506   1.12    Premium     G      I1   60.4   59.0   2383  6.71  6.67  0.0"
      ]
     },
     "execution_count": 18,
     "metadata": {},
     "output_type": "execute_result"
    }
   ],
   "source": [
    "df[df.z == 0]"
   ]
  },
  {
   "cell_type": "code",
   "execution_count": 19,
   "metadata": {},
   "outputs": [
    {
     "data": {
      "text/html": [
       "<div>\n",
       "<style scoped>\n",
       "    .dataframe tbody tr th:only-of-type {\n",
       "        vertical-align: middle;\n",
       "    }\n",
       "\n",
       "    .dataframe tbody tr th {\n",
       "        vertical-align: top;\n",
       "    }\n",
       "\n",
       "    .dataframe thead th {\n",
       "        text-align: right;\n",
       "    }\n",
       "</style>\n",
       "<table border=\"1\" class=\"dataframe\">\n",
       "  <thead>\n",
       "    <tr style=\"text-align: right;\">\n",
       "      <th></th>\n",
       "      <th>carat</th>\n",
       "      <th>cut</th>\n",
       "      <th>color</th>\n",
       "      <th>clarity</th>\n",
       "      <th>depth</th>\n",
       "      <th>table</th>\n",
       "      <th>price</th>\n",
       "      <th>x</th>\n",
       "      <th>y</th>\n",
       "      <th>z</th>\n",
       "    </tr>\n",
       "  </thead>\n",
       "  <tbody>\n",
       "    <tr>\n",
       "      <th>11182</th>\n",
       "      <td>1.07</td>\n",
       "      <td>Ideal</td>\n",
       "      <td>F</td>\n",
       "      <td>SI2</td>\n",
       "      <td>61.6</td>\n",
       "      <td>56.0</td>\n",
       "      <td>4954</td>\n",
       "      <td>0.0</td>\n",
       "      <td>6.62</td>\n",
       "      <td>0.0</td>\n",
       "    </tr>\n",
       "    <tr>\n",
       "      <th>11963</th>\n",
       "      <td>1.00</td>\n",
       "      <td>Very Good</td>\n",
       "      <td>H</td>\n",
       "      <td>VS2</td>\n",
       "      <td>63.3</td>\n",
       "      <td>53.0</td>\n",
       "      <td>5139</td>\n",
       "      <td>0.0</td>\n",
       "      <td>0.00</td>\n",
       "      <td>0.0</td>\n",
       "    </tr>\n",
       "    <tr>\n",
       "      <th>15951</th>\n",
       "      <td>1.14</td>\n",
       "      <td>Fair</td>\n",
       "      <td>G</td>\n",
       "      <td>VS1</td>\n",
       "      <td>57.5</td>\n",
       "      <td>67.0</td>\n",
       "      <td>6381</td>\n",
       "      <td>0.0</td>\n",
       "      <td>0.00</td>\n",
       "      <td>0.0</td>\n",
       "    </tr>\n",
       "    <tr>\n",
       "      <th>24520</th>\n",
       "      <td>1.56</td>\n",
       "      <td>Ideal</td>\n",
       "      <td>G</td>\n",
       "      <td>VS2</td>\n",
       "      <td>62.2</td>\n",
       "      <td>54.0</td>\n",
       "      <td>12800</td>\n",
       "      <td>0.0</td>\n",
       "      <td>0.00</td>\n",
       "      <td>0.0</td>\n",
       "    </tr>\n",
       "    <tr>\n",
       "      <th>26243</th>\n",
       "      <td>1.20</td>\n",
       "      <td>Premium</td>\n",
       "      <td>D</td>\n",
       "      <td>VVS1</td>\n",
       "      <td>62.1</td>\n",
       "      <td>59.0</td>\n",
       "      <td>15686</td>\n",
       "      <td>0.0</td>\n",
       "      <td>0.00</td>\n",
       "      <td>0.0</td>\n",
       "    </tr>\n",
       "    <tr>\n",
       "      <th>27429</th>\n",
       "      <td>2.25</td>\n",
       "      <td>Premium</td>\n",
       "      <td>H</td>\n",
       "      <td>SI2</td>\n",
       "      <td>62.8</td>\n",
       "      <td>59.0</td>\n",
       "      <td>18034</td>\n",
       "      <td>0.0</td>\n",
       "      <td>0.00</td>\n",
       "      <td>0.0</td>\n",
       "    </tr>\n",
       "    <tr>\n",
       "      <th>49556</th>\n",
       "      <td>0.71</td>\n",
       "      <td>Good</td>\n",
       "      <td>F</td>\n",
       "      <td>SI2</td>\n",
       "      <td>64.1</td>\n",
       "      <td>60.0</td>\n",
       "      <td>2130</td>\n",
       "      <td>0.0</td>\n",
       "      <td>0.00</td>\n",
       "      <td>0.0</td>\n",
       "    </tr>\n",
       "    <tr>\n",
       "      <th>49557</th>\n",
       "      <td>0.71</td>\n",
       "      <td>Good</td>\n",
       "      <td>F</td>\n",
       "      <td>SI2</td>\n",
       "      <td>64.1</td>\n",
       "      <td>60.0</td>\n",
       "      <td>2130</td>\n",
       "      <td>0.0</td>\n",
       "      <td>0.00</td>\n",
       "      <td>0.0</td>\n",
       "    </tr>\n",
       "  </tbody>\n",
       "</table>\n",
       "</div>"
      ],
      "text/plain": [
       "       carat        cut color clarity  depth  table  price    x     y    z\n",
       "11182   1.07      Ideal     F     SI2   61.6   56.0   4954  0.0  6.62  0.0\n",
       "11963   1.00  Very Good     H     VS2   63.3   53.0   5139  0.0  0.00  0.0\n",
       "15951   1.14       Fair     G     VS1   57.5   67.0   6381  0.0  0.00  0.0\n",
       "24520   1.56      Ideal     G     VS2   62.2   54.0  12800  0.0  0.00  0.0\n",
       "26243   1.20    Premium     D    VVS1   62.1   59.0  15686  0.0  0.00  0.0\n",
       "27429   2.25    Premium     H     SI2   62.8   59.0  18034  0.0  0.00  0.0\n",
       "49556   0.71       Good     F     SI2   64.1   60.0   2130  0.0  0.00  0.0\n",
       "49557   0.71       Good     F     SI2   64.1   60.0   2130  0.0  0.00  0.0"
      ]
     },
     "execution_count": 19,
     "metadata": {},
     "output_type": "execute_result"
    }
   ],
   "source": [
    "df[df.x == 0]"
   ]
  },
  {
   "cell_type": "markdown",
   "metadata": {},
   "source": [
    "All the rows with 0 values for x and y also have 0 values for 0. This seems like a data collection problem. In theory if we were short on data we could impute these values but this is such a low proportion of our dataset we could drop them. It probably wouldn't make that much of a difference even if we included them."
   ]
  },
  {
   "cell_type": "code",
   "execution_count": 20,
   "metadata": {},
   "outputs": [
    {
     "data": {
      "text/plain": [
       "2"
      ]
     },
     "execution_count": 20,
     "metadata": {},
     "output_type": "execute_result"
    }
   ],
   "source": [
    "(df.z > 7).sum()"
   ]
  },
  {
   "cell_type": "markdown",
   "metadata": {},
   "source": [
    "There are 2 values with a depth > 7. "
   ]
  },
  {
   "cell_type": "code",
   "execution_count": 21,
   "metadata": {},
   "outputs": [
    {
     "data": {
      "text/plain": [
       "2"
      ]
     },
     "execution_count": 21,
     "metadata": {},
     "output_type": "execute_result"
    }
   ],
   "source": [
    "(df.y > 15).sum()"
   ]
  },
  {
   "cell_type": "markdown",
   "metadata": {},
   "source": [
    "Likewise 2 values have a very large y."
   ]
  },
  {
   "cell_type": "code",
   "execution_count": 22,
   "metadata": {},
   "outputs": [
    {
     "data": {
      "text/html": [
       "<div>\n",
       "<style scoped>\n",
       "    .dataframe tbody tr th:only-of-type {\n",
       "        vertical-align: middle;\n",
       "    }\n",
       "\n",
       "    .dataframe tbody tr th {\n",
       "        vertical-align: top;\n",
       "    }\n",
       "\n",
       "    .dataframe thead th {\n",
       "        text-align: right;\n",
       "    }\n",
       "</style>\n",
       "<table border=\"1\" class=\"dataframe\">\n",
       "  <thead>\n",
       "    <tr style=\"text-align: right;\">\n",
       "      <th></th>\n",
       "      <th>carat</th>\n",
       "      <th>cut</th>\n",
       "      <th>color</th>\n",
       "      <th>clarity</th>\n",
       "      <th>depth</th>\n",
       "      <th>table</th>\n",
       "      <th>price</th>\n",
       "      <th>x</th>\n",
       "      <th>y</th>\n",
       "      <th>z</th>\n",
       "    </tr>\n",
       "  </thead>\n",
       "  <tbody>\n",
       "    <tr>\n",
       "      <th>24067</th>\n",
       "      <td>2.00</td>\n",
       "      <td>Premium</td>\n",
       "      <td>H</td>\n",
       "      <td>SI2</td>\n",
       "      <td>58.9</td>\n",
       "      <td>57.0</td>\n",
       "      <td>12210</td>\n",
       "      <td>8.09</td>\n",
       "      <td>58.90</td>\n",
       "      <td>8.06</td>\n",
       "    </tr>\n",
       "    <tr>\n",
       "      <th>48410</th>\n",
       "      <td>0.51</td>\n",
       "      <td>Very Good</td>\n",
       "      <td>E</td>\n",
       "      <td>VS1</td>\n",
       "      <td>61.8</td>\n",
       "      <td>54.7</td>\n",
       "      <td>1970</td>\n",
       "      <td>5.12</td>\n",
       "      <td>5.15</td>\n",
       "      <td>31.80</td>\n",
       "    </tr>\n",
       "  </tbody>\n",
       "</table>\n",
       "</div>"
      ],
      "text/plain": [
       "       carat        cut color clarity  depth  table  price     x      y      z\n",
       "24067   2.00    Premium     H     SI2   58.9   57.0  12210  8.09  58.90   8.06\n",
       "48410   0.51  Very Good     E     VS1   61.8   54.7   1970  5.12   5.15  31.80"
      ]
     },
     "execution_count": 22,
     "metadata": {},
     "output_type": "execute_result"
    }
   ],
   "source": [
    "df[df.z>7]"
   ]
  },
  {
   "cell_type": "code",
   "execution_count": 23,
   "metadata": {},
   "outputs": [
    {
     "data": {
      "text/html": [
       "<div>\n",
       "<style scoped>\n",
       "    .dataframe tbody tr th:only-of-type {\n",
       "        vertical-align: middle;\n",
       "    }\n",
       "\n",
       "    .dataframe tbody tr th {\n",
       "        vertical-align: top;\n",
       "    }\n",
       "\n",
       "    .dataframe thead th {\n",
       "        text-align: right;\n",
       "    }\n",
       "</style>\n",
       "<table border=\"1\" class=\"dataframe\">\n",
       "  <thead>\n",
       "    <tr style=\"text-align: right;\">\n",
       "      <th></th>\n",
       "      <th>carat</th>\n",
       "      <th>cut</th>\n",
       "      <th>color</th>\n",
       "      <th>clarity</th>\n",
       "      <th>depth</th>\n",
       "      <th>table</th>\n",
       "      <th>price</th>\n",
       "      <th>x</th>\n",
       "      <th>y</th>\n",
       "      <th>z</th>\n",
       "    </tr>\n",
       "  </thead>\n",
       "  <tbody>\n",
       "    <tr>\n",
       "      <th>24067</th>\n",
       "      <td>2.00</td>\n",
       "      <td>Premium</td>\n",
       "      <td>H</td>\n",
       "      <td>SI2</td>\n",
       "      <td>58.9</td>\n",
       "      <td>57.0</td>\n",
       "      <td>12210</td>\n",
       "      <td>8.09</td>\n",
       "      <td>58.9</td>\n",
       "      <td>8.06</td>\n",
       "    </tr>\n",
       "    <tr>\n",
       "      <th>49189</th>\n",
       "      <td>0.51</td>\n",
       "      <td>Ideal</td>\n",
       "      <td>E</td>\n",
       "      <td>VS1</td>\n",
       "      <td>61.8</td>\n",
       "      <td>55.0</td>\n",
       "      <td>2075</td>\n",
       "      <td>5.15</td>\n",
       "      <td>31.8</td>\n",
       "      <td>5.12</td>\n",
       "    </tr>\n",
       "  </tbody>\n",
       "</table>\n",
       "</div>"
      ],
      "text/plain": [
       "       carat      cut color clarity  depth  table  price     x     y     z\n",
       "24067   2.00  Premium     H     SI2   58.9   57.0  12210  8.09  58.9  8.06\n",
       "49189   0.51    Ideal     E     VS1   61.8   55.0   2075  5.15  31.8  5.12"
      ]
     },
     "execution_count": 23,
     "metadata": {},
     "output_type": "execute_result"
    }
   ],
   "source": [
    "df[df.y>15]"
   ]
  },
  {
   "cell_type": "markdown",
   "metadata": {},
   "source": [
    "Nothing strikes out about these rows to me other than that there y/z seems to be off by more than a factor of 10. I don't think this will really effect our model if we include them but we might as well drop them since its only 3 records. "
   ]
  },
  {
   "cell_type": "code",
   "execution_count": null,
   "metadata": {},
   "outputs": [],
   "source": []
  },
  {
   "cell_type": "markdown",
   "metadata": {},
   "source": [
    "Let's look at correlations."
   ]
  },
  {
   "cell_type": "code",
   "execution_count": 24,
   "metadata": {},
   "outputs": [
    {
     "data": {
      "text/plain": [
       "<matplotlib.axes._subplots.AxesSubplot at 0x1abbe74a3c8>"
      ]
     },
     "execution_count": 24,
     "metadata": {},
     "output_type": "execute_result"
    },
    {
     "data": {
      "image/png": "[encoded data removed]",
      "text/plain": [
       "<Figure size 432x288 with 2 Axes>"
      ]
     },
     "metadata": {
      "needs_background": "light"
     },
     "output_type": "display_data"
    }
   ],
   "source": [
    "import seaborn as sns\n",
    "corr = df.corr()\n",
    "\n",
    "sns.heatmap(corr, \n",
    "        xticklabels=corr.columns,\n",
    "        yticklabels=corr.columns,\n",
    "        cmap=\"YlGnBu\")"
   ]
  },
  {
   "cell_type": "markdown",
   "metadata": {},
   "source": [
    "There is a lot of correlation between our features. \n",
    "\n",
    "In particular, we see carat, the weight of the diamond, is highly correlated with the dimensions. Price seems to be most related to the size of the diamond."
   ]
  },
  {
   "cell_type": "code",
   "execution_count": null,
   "metadata": {},
   "outputs": [],
   "source": []
  },
  {
   "cell_type": "code",
   "execution_count": 25,
   "metadata": {},
   "outputs": [
    {
     "data": {
      "text/plain": [
       "carat    1.000000\n",
       "depth    0.028224\n",
       "table    0.181618\n",
       "price    0.921591\n",
       "x        0.975094\n",
       "y        0.951722\n",
       "z        0.953387\n",
       "Name: carat, dtype: float64"
      ]
     },
     "execution_count": 25,
     "metadata": {},
     "output_type": "execute_result"
    }
   ],
   "source": [
    "corr['carat']"
   ]
  },
  {
   "cell_type": "markdown",
   "metadata": {},
   "source": [
    "x,y,z, and price all have correlations of > 90 percent."
   ]
  },
  {
   "cell_type": "markdown",
   "metadata": {},
   "source": [
    "Let's look at our categorical variables."
   ]
  },
  {
   "cell_type": "code",
   "execution_count": 26,
   "metadata": {},
   "outputs": [
    {
     "data": {
      "text/plain": [
       "Index(['carat', 'cut', 'color', 'clarity', 'depth', 'table', 'price', 'x', 'y',\n",
       "       'z'],\n",
       "      dtype='object')"
      ]
     },
     "execution_count": 26,
     "metadata": {},
     "output_type": "execute_result"
    }
   ],
   "source": [
    "df.columns"
   ]
  },
  {
   "cell_type": "code",
   "execution_count": 27,
   "metadata": {},
   "outputs": [
    {
     "data": {
      "text/plain": [
       "Ideal        21551\n",
       "Premium      13791\n",
       "Very Good    12082\n",
       "Good          4906\n",
       "Fair          1610\n",
       "Name: cut, dtype: int64"
      ]
     },
     "execution_count": 27,
     "metadata": {},
     "output_type": "execute_result"
    }
   ],
   "source": [
    "df.cut.value_counts()"
   ]
  },
  {
   "cell_type": "markdown",
   "metadata": {},
   "source": [
    "This is our target variable. We see that most of our cuts are ideal..."
   ]
  },
  {
   "cell_type": "code",
   "execution_count": 28,
   "metadata": {},
   "outputs": [
    {
     "data": {
      "text/plain": [
       "0.3995365220615499"
      ]
     },
     "execution_count": 28,
     "metadata": {},
     "output_type": "execute_result"
    }
   ],
   "source": [
    "21551/len(df)"
   ]
  },
  {
   "cell_type": "markdown",
   "metadata": {},
   "source": [
    "Indeed ~40 percent are ideal."
   ]
  },
  {
   "cell_type": "code",
   "execution_count": 29,
   "metadata": {},
   "outputs": [
    {
     "data": {
      "text/plain": [
       "G    11292\n",
       "E     9797\n",
       "F     9542\n",
       "H     8304\n",
       "D     6775\n",
       "I     5422\n",
       "J     2808\n",
       "Name: color, dtype: int64"
      ]
     },
     "execution_count": 29,
     "metadata": {},
     "output_type": "execute_result"
    }
   ],
   "source": [
    "df.color.value_counts()"
   ]
  },
  {
   "cell_type": "markdown",
   "metadata": {},
   "source": [
    "G,H,E are the most common colors. This is actually an ordinal variable since D indicates best color and each color after that is worse. Most colors seem to be in the middle."
   ]
  },
  {
   "cell_type": "code",
   "execution_count": 30,
   "metadata": {},
   "outputs": [
    {
     "data": {
      "text/plain": [
       "SI1     13065\n",
       "VS2     12258\n",
       "SI2      9194\n",
       "VS1      8171\n",
       "VVS2     5066\n",
       "VVS1     3655\n",
       "IF       1790\n",
       "I1        741\n",
       "Name: clarity, dtype: int64"
      ]
     },
     "execution_count": 30,
     "metadata": {},
     "output_type": "execute_result"
    }
   ],
   "source": [
    "df.clarity.value_counts()"
   ]
  },
  {
   "cell_type": "markdown",
   "metadata": {},
   "source": [
    "This is also a ordered categorical variable. From the description above the order is: I1 (worst), SI2, SI1, VS2, VS1, VVS2, VVS1, IF (best)"
   ]
  },
  {
   "cell_type": "markdown",
   "metadata": {},
   "source": [
    "We see most values are in the middle."
   ]
  },
  {
   "cell_type": "markdown",
   "metadata": {},
   "source": [
    "We will graph these after our data prep step."
   ]
  },
  {
   "cell_type": "code",
   "execution_count": 31,
   "metadata": {},
   "outputs": [
    {
     "data": {
      "text/html": [
       "<div>\n",
       "<style scoped>\n",
       "    .dataframe tbody tr th:only-of-type {\n",
       "        vertical-align: middle;\n",
       "    }\n",
       "\n",
       "    .dataframe tbody tr th {\n",
       "        vertical-align: top;\n",
       "    }\n",
       "\n",
       "    .dataframe thead th {\n",
       "        text-align: right;\n",
       "    }\n",
       "</style>\n",
       "<table border=\"1\" class=\"dataframe\">\n",
       "  <thead>\n",
       "    <tr style=\"text-align: right;\">\n",
       "      <th></th>\n",
       "      <th>carat</th>\n",
       "      <th>depth</th>\n",
       "      <th>table</th>\n",
       "      <th>price</th>\n",
       "      <th>x</th>\n",
       "      <th>y</th>\n",
       "      <th>z</th>\n",
       "    </tr>\n",
       "    <tr>\n",
       "      <th>cut</th>\n",
       "      <th></th>\n",
       "      <th></th>\n",
       "      <th></th>\n",
       "      <th></th>\n",
       "      <th></th>\n",
       "      <th></th>\n",
       "      <th></th>\n",
       "    </tr>\n",
       "  </thead>\n",
       "  <tbody>\n",
       "    <tr>\n",
       "      <th>Fair</th>\n",
       "      <td>1.046137</td>\n",
       "      <td>64.041677</td>\n",
       "      <td>59.053789</td>\n",
       "      <td>4358.757764</td>\n",
       "      <td>6.246894</td>\n",
       "      <td>6.182652</td>\n",
       "      <td>3.982770</td>\n",
       "    </tr>\n",
       "    <tr>\n",
       "      <th>Good</th>\n",
       "      <td>0.849185</td>\n",
       "      <td>62.365879</td>\n",
       "      <td>58.694639</td>\n",
       "      <td>3928.864452</td>\n",
       "      <td>5.838785</td>\n",
       "      <td>5.850744</td>\n",
       "      <td>3.639507</td>\n",
       "    </tr>\n",
       "    <tr>\n",
       "      <th>Ideal</th>\n",
       "      <td>0.702837</td>\n",
       "      <td>61.709401</td>\n",
       "      <td>55.951668</td>\n",
       "      <td>3457.541970</td>\n",
       "      <td>5.507451</td>\n",
       "      <td>5.520080</td>\n",
       "      <td>3.401448</td>\n",
       "    </tr>\n",
       "    <tr>\n",
       "      <th>Premium</th>\n",
       "      <td>0.891955</td>\n",
       "      <td>61.264673</td>\n",
       "      <td>58.746095</td>\n",
       "      <td>4584.257704</td>\n",
       "      <td>5.973887</td>\n",
       "      <td>5.944879</td>\n",
       "      <td>3.647124</td>\n",
       "    </tr>\n",
       "    <tr>\n",
       "      <th>Very Good</th>\n",
       "      <td>0.806381</td>\n",
       "      <td>61.818275</td>\n",
       "      <td>57.956150</td>\n",
       "      <td>3981.759891</td>\n",
       "      <td>5.740696</td>\n",
       "      <td>5.770026</td>\n",
       "      <td>3.559801</td>\n",
       "    </tr>\n",
       "  </tbody>\n",
       "</table>\n",
       "</div>"
      ],
      "text/plain": [
       "              carat      depth      table        price         x         y  \\\n",
       "cut                                                                          \n",
       "Fair       1.046137  64.041677  59.053789  4358.757764  6.246894  6.182652   \n",
       "Good       0.849185  62.365879  58.694639  3928.864452  5.838785  5.850744   \n",
       "Ideal      0.702837  61.709401  55.951668  3457.541970  5.507451  5.520080   \n",
       "Premium    0.891955  61.264673  58.746095  4584.257704  5.973887  5.944879   \n",
       "Very Good  0.806381  61.818275  57.956150  3981.759891  5.740696  5.770026   \n",
       "\n",
       "                  z  \n",
       "cut                  \n",
       "Fair       3.982770  \n",
       "Good       3.639507  \n",
       "Ideal      3.401448  \n",
       "Premium    3.647124  \n",
       "Very Good  3.559801  "
      ]
     },
     "execution_count": 31,
     "metadata": {},
     "output_type": "execute_result"
    }
   ],
   "source": [
    "df.groupby('cut').mean()"
   ]
  },
  {
   "cell_type": "markdown",
   "metadata": {},
   "source": [
    "When we group by cut, the most significant difference seems to be carat. The weight of cuts that are simply fair, are around 1 while ideal is around .7"
   ]
  },
  {
   "cell_type": "markdown",
   "metadata": {},
   "source": [
    "Note that the order of the rows isn't in order (ideal is the 3rd one.)"
   ]
  },
  {
   "cell_type": "code",
   "execution_count": 32,
   "metadata": {},
   "outputs": [],
   "source": [
    "ideal = df[df.cut == 'Ideal']"
   ]
  },
  {
   "cell_type": "code",
   "execution_count": 33,
   "metadata": {},
   "outputs": [
    {
     "data": {
      "text/plain": [
       "G    0.226625\n",
       "E    0.181105\n",
       "F    0.177532\n",
       "H    0.144541\n",
       "D    0.131502\n",
       "I    0.097118\n",
       "J    0.041576\n",
       "Name: color, dtype: float64"
      ]
     },
     "execution_count": 33,
     "metadata": {},
     "output_type": "execute_result"
    }
   ],
   "source": [
    "ideal.color.value_counts()/len(ideal)"
   ]
  },
  {
   "cell_type": "code",
   "execution_count": 34,
   "metadata": {},
   "outputs": [
    {
     "data": {
      "text/plain": [
       "G    0.209344\n",
       "E    0.181628\n",
       "F    0.176900\n",
       "H    0.153949\n",
       "D    0.125603\n",
       "I    0.100519\n",
       "J    0.052058\n",
       "Name: color, dtype: float64"
      ]
     },
     "execution_count": 34,
     "metadata": {},
     "output_type": "execute_result"
    }
   ],
   "source": [
    "df.color.value_counts()/len(df)"
   ]
  },
  {
   "cell_type": "markdown",
   "metadata": {},
   "source": [
    "It seems like color isn't so predictive of the color as these values are all around the same. This also logically makes sense as color isn't really logically related to how well the person will cut a diamond."
   ]
  },
  {
   "cell_type": "code",
   "execution_count": 35,
   "metadata": {},
   "outputs": [
    {
     "data": {
      "text/plain": [
       "SI1     0.242214\n",
       "VS2     0.227253\n",
       "SI2     0.170449\n",
       "VS1     0.151483\n",
       "VVS2    0.093919\n",
       "VVS1    0.067760\n",
       "IF      0.033185\n",
       "I1      0.013737\n",
       "Name: clarity, dtype: float64"
      ]
     },
     "execution_count": 35,
     "metadata": {},
     "output_type": "execute_result"
    }
   ],
   "source": [
    "df.clarity.value_counts()/len(df)"
   ]
  },
  {
   "cell_type": "code",
   "execution_count": 36,
   "metadata": {},
   "outputs": [
    {
     "data": {
      "text/plain": [
       "VS2     0.235302\n",
       "SI1     0.198691\n",
       "VS1     0.166535\n",
       "VVS2    0.120922\n",
       "SI2     0.120551\n",
       "VVS1    0.094984\n",
       "IF      0.056239\n",
       "I1      0.006775\n",
       "Name: clarity, dtype: float64"
      ]
     },
     "execution_count": 36,
     "metadata": {},
     "output_type": "execute_result"
    }
   ],
   "source": [
    "ideal.clarity.value_counts()/len(ideal)"
   ]
  },
  {
   "cell_type": "code",
   "execution_count": null,
   "metadata": {},
   "outputs": [],
   "source": []
  },
  {
   "cell_type": "markdown",
   "metadata": {},
   "source": [
    "refer: I1 (worst), SI2, SI1, VS2, VS1, VVS2, VVS1, IF (best)"
   ]
  },
  {
   "cell_type": "markdown",
   "metadata": {},
   "source": [
    "The percentage of high IF is 2 percent higher and VVS1 is around 3 percent higher. These are pretty big differences since the values had low percentages to start with."
   ]
  },
  {
   "cell_type": "code",
   "execution_count": 37,
   "metadata": {},
   "outputs": [
    {
     "data": {
      "text/plain": [
       "Ideal        21551\n",
       "Premium      13791\n",
       "Very Good    12082\n",
       "Good          4906\n",
       "Fair          1610\n",
       "Name: cut, dtype: int64"
      ]
     },
     "execution_count": 37,
     "metadata": {},
     "output_type": "execute_result"
    }
   ],
   "source": [
    "df.cut.value_counts()"
   ]
  },
  {
   "cell_type": "code",
   "execution_count": 38,
   "metadata": {},
   "outputs": [],
   "source": [
    "_map =   {\n",
    "    \"Ideal\" : 1,\n",
    "    \"Premium\" : 2,\n",
    "    \"Very Good\" : 3,\n",
    "    \"Good\" : 4,\n",
    "    \"Fair\" : 5,\n",
    "}"
   ]
  },
  {
   "cell_type": "code",
   "execution_count": 39,
   "metadata": {},
   "outputs": [],
   "source": [
    "import numpy as np\n",
    "cuts = df['cut'].map(_map).astype(np.int)"
   ]
  },
  {
   "cell_type": "code",
   "execution_count": 40,
   "metadata": {},
   "outputs": [],
   "source": [
    "numericalCols = ['carat','depth', 'table', 'price', 'x', 'y','z' ]"
   ]
  },
  {
   "cell_type": "markdown",
   "metadata": {},
   "source": [
    "In order to calculate the correlation between these variables and our target, we can use f scores. https://dzone.com/articles/correlation-between-categorical-and-continuous-var-1"
   ]
  },
  {
   "cell_type": "code",
   "execution_count": 41,
   "metadata": {},
   "outputs": [
    {
     "name": "stdout",
     "output_type": "stream",
     "text": [
      "The f score for carat is 495.69425927416324 with a p value of 0.0\n",
      "The f score for depth is 1897.4085865319598 with a p value of 0.0\n",
      "The f score for table is 6367.179433767924 with a p value of 0.0\n",
      "The f score for price is 175.68871735080606 with a p value of 8.42830730759452e-150\n",
      "The f score for x is 489.3942696199593 with a p value of 0.0\n",
      "The f score for y is 395.7202028355892 with a p value of 0.0\n",
      "The f score for z is 489.39820841970567 with a p value of 0.0\n",
      "489.39820841970567\n"
     ]
    }
   ],
   "source": [
    "from scipy import stats\n",
    "\n",
    "for col in numericalCols:\n",
    "    F, p = stats.f_oneway(df[df.cut=='Ideal'][col],\n",
    "                      df[df.cut=='Premium'][col],\n",
    "                      df[df.cut=='Very Good'][col],\n",
    "                        df[df.cut=='Good'][col],\n",
    "                      df[df.cut=='Fair'][col])\n",
    "    print(f'The f score for {col} is {F} with a p value of {p}' )\n",
    "\n",
    "print(F)"
   ]
  },
  {
   "cell_type": "markdown",
   "metadata": {},
   "source": [
    "The higher the score, the more correltion there is. We see that all of these values have high correlations.\n",
    "\n",
    "1. Table and depth are the most significant - this makes sense as the table represents the width of the diamond at its longest point and depth represents how deep the diamond is. As we saw at https://www.diamonds.pro/education/cuts/ the proportions of the diamond are very important\n",
    "2. Price is the least important - We can see here for why https://beyond4cs.com/cut/effects-on-pricing/#:~:text=At%20the%20heart%20of%20it%2C%20the%20carat%20weight,diamond%20can%20drastically%20increase%20or%20decrease%20its%20value\n",
    "Although it is true that the price increases as the cut is better, this is assuming that the cost of the carat is constant. Because in our dataset the carat variable is fluctuating we expect to see some correlation but it may not be as high as it could be."
   ]
  },
  {
   "cell_type": "markdown",
   "metadata": {},
   "source": [
    "### EDA Summary:\n",
    "        Our target variable cut has around 40 percent ideal. The better cuts all have higher frequency. \n",
    "        Our target variable is correlated with most of our other features. \n",
    "        Many of our numerical variables are correlated with each other."
   ]
  },
  {
   "cell_type": "markdown",
   "metadata": {},
   "source": [
    "### Data Prep"
   ]
  },
  {
   "cell_type": "markdown",
   "metadata": {},
   "source": [
    "We need to ordinal encode our clarity variable. Color we will drop as we saw from our eda isn't so insightful."
   ]
  },
  {
   "cell_type": "code",
   "execution_count": 43,
   "metadata": {},
   "outputs": [
    {
     "data": {
      "text/plain": [
       "Index(['carat', 'cut', 'color', 'clarity', 'depth', 'table', 'price', 'x', 'y',\n",
       "       'z'],\n",
       "      dtype='object')"
      ]
     },
     "execution_count": 43,
     "metadata": {},
     "output_type": "execute_result"
    }
   ],
   "source": [
    "df.columns"
   ]
  },
  {
   "cell_type": "code",
   "execution_count": 44,
   "metadata": {},
   "outputs": [
    {
     "data": {
      "text/plain": [
       "SI1     13065\n",
       "VS2     12258\n",
       "SI2      9194\n",
       "VS1      8171\n",
       "VVS2     5066\n",
       "VVS1     3655\n",
       "IF       1790\n",
       "I1        741\n",
       "Name: clarity, dtype: int64"
      ]
     },
     "execution_count": 44,
     "metadata": {},
     "output_type": "execute_result"
    }
   ],
   "source": [
    "df.clarity.value_counts()"
   ]
  },
  {
   "cell_type": "markdown",
   "metadata": {},
   "source": [
    "Recall - I1 (worst), SI2, SI1, VS2, VS1, VVS2, VVS1, IF (best))"
   ]
  },
  {
   "cell_type": "code",
   "execution_count": 45,
   "metadata": {},
   "outputs": [],
   "source": [
    "_map =   {\n",
    "    \"I1\" : 1,\n",
    "    \"SI2\" : 2,\n",
    "    \"SI1\" : 3,\n",
    "    \"VS2\" : 4,\n",
    "    \"VS1\" : 5,\n",
    "    \"VVS2\" :6,\n",
    "    \"VVS1\" : 7,\n",
    "    \"IF\" : 8,\n",
    "}"
   ]
  },
  {
   "cell_type": "code",
   "execution_count": 46,
   "metadata": {},
   "outputs": [],
   "source": [
    "df['clarity'] = df['clarity'].map(_map).astype(int)"
   ]
  },
  {
   "cell_type": "markdown",
   "metadata": {},
   "source": [
    "Let's drop the outlier rows we mentioned earlier. This is a low proportion of our total size"
   ]
  },
  {
   "cell_type": "code",
   "execution_count": 47,
   "metadata": {},
   "outputs": [],
   "source": [
    "df.drop([49189, 24067,48410], inplace = True)"
   ]
  },
  {
   "cell_type": "code",
   "execution_count": 48,
   "metadata": {},
   "outputs": [
    {
     "data": {
      "text/plain": [
       "Index(['carat', 'cut', 'color', 'clarity', 'depth', 'table', 'price', 'x', 'y',\n",
       "       'z'],\n",
       "      dtype='object')"
      ]
     },
     "execution_count": 48,
     "metadata": {},
     "output_type": "execute_result"
    }
   ],
   "source": [
    "df.columns"
   ]
  },
  {
   "cell_type": "markdown",
   "metadata": {},
   "source": [
    "We have a lot of features that are very correlated. This might make the model longer to train. I therefore am going to drop some of the correlated variables. "
   ]
  },
  {
   "cell_type": "markdown",
   "metadata": {},
   "source": [
    "I will also drop the color feature though since we saw in our eda that there is no significant difference with this column."
   ]
  },
  {
   "cell_type": "code",
   "execution_count": 49,
   "metadata": {},
   "outputs": [],
   "source": [
    "df = df.drop('color', axis = 1)"
   ]
  },
  {
   "cell_type": "code",
   "execution_count": 50,
   "metadata": {},
   "outputs": [
    {
     "data": {
      "text/plain": [
       "<matplotlib.axes._subplots.AxesSubplot at 0x1abbe812518>"
      ]
     },
     "execution_count": 50,
     "metadata": {},
     "output_type": "execute_result"
    },
    {
     "data": {
      "image/png": "[encoded data removed]",
      "text/plain": [
       "<Figure size 432x288 with 2 Axes>"
      ]
     },
     "metadata": {
      "needs_background": "light"
     },
     "output_type": "display_data"
    }
   ],
   "source": [
    "import seaborn as sns\n",
    "corr = df.corr()\n",
    "\n",
    "sns.heatmap(corr, \n",
    "        xticklabels=corr.columns,\n",
    "        yticklabels=corr.columns,\n",
    "        cmap=\"YlGnBu\")"
   ]
  },
  {
   "cell_type": "markdown",
   "metadata": {},
   "source": [
    "Some of values look around 1 but let's get the actual values."
   ]
  },
  {
   "cell_type": "code",
   "execution_count": 51,
   "metadata": {},
   "outputs": [
    {
     "data": {
      "text/plain": [
       "carat      0.975093\n",
       "cut        0.125575\n",
       "clarity   -0.371963\n",
       "depth     -0.025213\n",
       "table      0.195343\n",
       "price      0.884425\n",
       "x          1.000000\n",
       "y          0.998339\n",
       "z          0.986193\n",
       "Name: x, dtype: float64"
      ]
     },
     "execution_count": 51,
     "metadata": {},
     "output_type": "execute_result"
    }
   ],
   "source": [
    "corr['x']"
   ]
  },
  {
   "cell_type": "code",
   "execution_count": 52,
   "metadata": {},
   "outputs": [
    {
     "data": {
      "text/plain": [
       "carat      0.974439\n",
       "cut        0.125118\n",
       "clarity   -0.366848\n",
       "depth     -0.028355\n",
       "table      0.189169\n",
       "price      0.886225\n",
       "x          0.998339\n",
       "y          1.000000\n",
       "z          0.985587\n",
       "Name: y, dtype: float64"
      ]
     },
     "execution_count": 52,
     "metadata": {},
     "output_type": "execute_result"
    }
   ],
   "source": [
    "corr['y']"
   ]
  },
  {
   "cell_type": "code",
   "execution_count": 53,
   "metadata": {},
   "outputs": [
    {
     "data": {
      "text/plain": [
       "carat      0.968554\n",
       "cut        0.151104\n",
       "clarity   -0.373012\n",
       "depth      0.096625\n",
       "table      0.154297\n",
       "price      0.874910\n",
       "x          0.986193\n",
       "y          0.985587\n",
       "z          1.000000\n",
       "Name: z, dtype: float64"
      ]
     },
     "execution_count": 53,
     "metadata": {},
     "output_type": "execute_result"
    }
   ],
   "source": [
    "corr['z']"
   ]
  },
  {
   "cell_type": "code",
   "execution_count": 54,
   "metadata": {},
   "outputs": [
    {
     "data": {
      "text/plain": [
       "carat      1.000000\n",
       "cut        0.134980\n",
       "clarity   -0.352800\n",
       "depth      0.028322\n",
       "table      0.181618\n",
       "price      0.921585\n",
       "x          0.975093\n",
       "y          0.974439\n",
       "z          0.968554\n",
       "Name: carat, dtype: float64"
      ]
     },
     "execution_count": 54,
     "metadata": {},
     "output_type": "execute_result"
    }
   ],
   "source": [
    "corr['carat']"
   ]
  },
  {
   "cell_type": "code",
   "execution_count": 55,
   "metadata": {},
   "outputs": [
    {
     "data": {
      "text/plain": [
       "Index(['carat', 'cut', 'clarity', 'depth', 'table', 'price', 'x', 'y', 'z'], dtype='object')"
      ]
     },
     "execution_count": 55,
     "metadata": {},
     "output_type": "execute_result"
    }
   ],
   "source": [
    "df.columns"
   ]
  },
  {
   "cell_type": "markdown",
   "metadata": {},
   "source": [
    "We see that carat is explaining over 95 percent of the variance in x,y,z and z. This makes sense as the larger the dimensions, the more the diamond weighs. Therefore, we won't be losing that much by dropping these columns. Price also has a large correlation as generally the cost is by carat however I think we should keep it as we have so few columns and price does change as based on the cut as we saw in the article above."
   ]
  },
  {
   "cell_type": "code",
   "execution_count": 56,
   "metadata": {},
   "outputs": [],
   "source": [
    "df.drop(['x','y','z'], axis = 1, inplace = True)"
   ]
  },
  {
   "cell_type": "code",
   "execution_count": null,
   "metadata": {},
   "outputs": [],
   "source": []
  },
  {
   "cell_type": "markdown",
   "metadata": {},
   "source": [
    "Note that a side effect of this is that we don't need to deal with the rows with 0 dimensions, although as mentioned earlier these rows aren't the biggest deal."
   ]
  },
  {
   "cell_type": "markdown",
   "metadata": {},
   "source": [
    "Let's also scale the data."
   ]
  },
  {
   "cell_type": "code",
   "execution_count": 57,
   "metadata": {},
   "outputs": [
    {
     "data": {
      "text/plain": [
       "Index(['carat', 'cut', 'clarity', 'depth', 'table', 'price'], dtype='object')"
      ]
     },
     "execution_count": 57,
     "metadata": {},
     "output_type": "execute_result"
    }
   ],
   "source": [
    "df.columns"
   ]
  },
  {
   "cell_type": "code",
   "execution_count": 63,
   "metadata": {},
   "outputs": [],
   "source": [
    "from sklearn.preprocessing import StandardScaler\n",
    "numericalCols = ['carat', 'depth', 'price', 'table']\n",
    "scaler = StandardScaler()\n",
    "scaler.fit(df[numericalCols])\n",
    "scaled = pd.DataFrame(scaler.transform(df[numericalCols]))\n",
    "scaled.columns = numericalCols\n",
    "for col in numericalCols:\n",
    "    df[col] = scaled[col]"
   ]
  },
  {
   "cell_type": "markdown",
   "metadata": {},
   "source": [
    "### Prepped Data Review"
   ]
  },
  {
   "cell_type": "markdown",
   "metadata": {},
   "source": [
    "Aside from the columns we dropped, we used an ordinal encoder to convert the color column."
   ]
  },
  {
   "cell_type": "code",
   "execution_count": 64,
   "metadata": {},
   "outputs": [
    {
     "data": {
      "text/plain": [
       "3    13065\n",
       "4    12258\n",
       "2     9193\n",
       "5     8169\n",
       "6     5066\n",
       "7     3655\n",
       "8     1790\n",
       "1      741\n",
       "Name: clarity, dtype: int64"
      ]
     },
     "execution_count": 64,
     "metadata": {},
     "output_type": "execute_result"
    }
   ],
   "source": [
    "df['clarity'].value_counts()"
   ]
  },
  {
   "cell_type": "markdown",
   "metadata": {},
   "source": [
    "Comparing these too the numbers we saw above in our eda we see that these numbers match."
   ]
  },
  {
   "cell_type": "code",
   "execution_count": 65,
   "metadata": {},
   "outputs": [
    {
     "data": {
      "text/plain": [
       "<matplotlib.axes._subplots.AxesSubplot at 0x1abbf2e4d68>"
      ]
     },
     "execution_count": 65,
     "metadata": {},
     "output_type": "execute_result"
    },
    {
     "data": {
      "image/png": "[encoded data removed]",
      "text/plain": [
       "<Figure size 432x288 with 1 Axes>"
      ]
     },
     "metadata": {
      "needs_background": "light"
     },
     "output_type": "display_data"
    }
   ],
   "source": [
    "df['clarity'].hist()"
   ]
  },
  {
   "cell_type": "code",
   "execution_count": 66,
   "metadata": {},
   "outputs": [
    {
     "data": {
      "text/plain": [
       "array([[<matplotlib.axes._subplots.AxesSubplot object at 0x000001ABBF2E4668>,\n",
       "        <matplotlib.axes._subplots.AxesSubplot object at 0x000001ABBEB3C1D0>],\n",
       "       [<matplotlib.axes._subplots.AxesSubplot object at 0x000001ABBEB62748>,\n",
       "        <matplotlib.axes._subplots.AxesSubplot object at 0x000001ABBEB87CC0>]],\n",
       "      dtype=object)"
      ]
     },
     "execution_count": 66,
     "metadata": {},
     "output_type": "execute_result"
    },
    {
     "data": {
      "image/png": "[encoded data removed]",
      "text/plain": [
       "<Figure size 1080x1080 with 4 Axes>"
      ]
     },
     "metadata": {
      "needs_background": "light"
     },
     "output_type": "display_data"
    }
   ],
   "source": [
    "df[numericalCols].hist(figsize = (15,15))"
   ]
  },
  {
   "cell_type": "markdown",
   "metadata": {},
   "source": [
    "We also see the effect of our standard scaler here. We have some negative values which logically don't make sense but the model would be able to handle."
   ]
  },
  {
   "cell_type": "markdown",
   "metadata": {},
   "source": [
    "### Model Building."
   ]
  },
  {
   "cell_type": "markdown",
   "metadata": {},
   "source": [
    "In this section, we will be constructing different feed-forward, back propagating neural network models. My computer is not that strong so we will start with a basic model and slowly scale upwards."
   ]
  },
  {
   "cell_type": "markdown",
   "metadata": {},
   "source": [
    "First let's split our data into train and test sets."
   ]
  },
  {
   "cell_type": "code",
   "execution_count": 109,
   "metadata": {},
   "outputs": [],
   "source": [
    "from sklearn.model_selection import train_test_split\n",
    "y = df['cut']\n",
    "x= df.drop(['cut'], axis = 1)"
   ]
  },
  {
   "cell_type": "code",
   "execution_count": 110,
   "metadata": {},
   "outputs": [],
   "source": [
    "X_train, X_test, y_train, y_test = train_test_split(x, y, test_size=0.2, random_state=42)"
   ]
  },
  {
   "cell_type": "code",
   "execution_count": 111,
   "metadata": {},
   "outputs": [
    {
     "data": {
      "text/plain": [
       "Index(['carat', 'clarity', 'depth', 'table', 'price'], dtype='object')"
      ]
     },
     "execution_count": 111,
     "metadata": {},
     "output_type": "execute_result"
    }
   ],
   "source": [
    "X_train.columns"
   ]
  },
  {
   "cell_type": "code",
   "execution_count": 112,
   "metadata": {},
   "outputs": [
    {
     "data": {
      "text/html": [
       "<div>\n",
       "<style scoped>\n",
       "    .dataframe tbody tr th:only-of-type {\n",
       "        vertical-align: middle;\n",
       "    }\n",
       "\n",
       "    .dataframe tbody tr th {\n",
       "        vertical-align: top;\n",
       "    }\n",
       "\n",
       "    .dataframe thead th {\n",
       "        text-align: right;\n",
       "    }\n",
       "</style>\n",
       "<table border=\"1\" class=\"dataframe\">\n",
       "  <thead>\n",
       "    <tr style=\"text-align: right;\">\n",
       "      <th></th>\n",
       "      <th>carat</th>\n",
       "      <th>clarity</th>\n",
       "      <th>depth</th>\n",
       "      <th>table</th>\n",
       "      <th>price</th>\n",
       "    </tr>\n",
       "  </thead>\n",
       "  <tbody>\n",
       "    <tr>\n",
       "      <th>11284</th>\n",
       "      <td>0.531810</td>\n",
       "      <td>4</td>\n",
       "      <td>0.454102</td>\n",
       "      <td>0.690413</td>\n",
       "      <td>0.261267</td>\n",
       "    </tr>\n",
       "    <tr>\n",
       "      <th>44733</th>\n",
       "      <td>-0.480873</td>\n",
       "      <td>4</td>\n",
       "      <td>0.872922</td>\n",
       "      <td>0.242881</td>\n",
       "      <td>-0.580477</td>\n",
       "    </tr>\n",
       "    <tr>\n",
       "      <th>38159</th>\n",
       "      <td>-0.966116</td>\n",
       "      <td>7</td>\n",
       "      <td>0.314495</td>\n",
       "      <td>-0.652184</td>\n",
       "      <td>-0.731630</td>\n",
       "    </tr>\n",
       "    <tr>\n",
       "      <th>860</th>\n",
       "      <td>0.215347</td>\n",
       "      <td>3</td>\n",
       "      <td>0.733315</td>\n",
       "      <td>0.690413</td>\n",
       "      <td>-0.266139</td>\n",
       "    </tr>\n",
       "    <tr>\n",
       "      <th>15795</th>\n",
       "      <td>0.721688</td>\n",
       "      <td>3</td>\n",
       "      <td>-0.941966</td>\n",
       "      <td>0.242881</td>\n",
       "      <td>0.598416</td>\n",
       "    </tr>\n",
       "  </tbody>\n",
       "</table>\n",
       "</div>"
      ],
      "text/plain": [
       "          carat  clarity     depth     table     price\n",
       "11284  0.531810        4  0.454102  0.690413  0.261267\n",
       "44733 -0.480873        4  0.872922  0.242881 -0.580477\n",
       "38159 -0.966116        7  0.314495 -0.652184 -0.731630\n",
       "860    0.215347        3  0.733315  0.690413 -0.266139\n",
       "15795  0.721688        3 -0.941966  0.242881  0.598416"
      ]
     },
     "execution_count": 112,
     "metadata": {},
     "output_type": "execute_result"
    }
   ],
   "source": [
    "X_train.tail()"
   ]
  },
  {
   "cell_type": "code",
   "execution_count": 113,
   "metadata": {},
   "outputs": [
    {
     "data": {
      "text/plain": [
       "1    21549\n",
       "2    13789\n",
       "3    12080\n",
       "4     4906\n",
       "5     1610\n",
       "Name: cut, dtype: int64"
      ]
     },
     "execution_count": 113,
     "metadata": {},
     "output_type": "execute_result"
    }
   ],
   "source": [
    "y.value_counts() # we actually transformed this variable above when we did our eda to be numerical."
   ]
  },
  {
   "cell_type": "markdown",
   "metadata": {},
   "source": [
    "We need to encode remap these to integers."
   ]
  },
  {
   "cell_type": "markdown",
   "metadata": {},
   "source": [
    "Note we have 6 columns and our target variable has 5 values."
   ]
  },
  {
   "cell_type": "markdown",
   "metadata": {},
   "source": [
    "### Model 1"
   ]
  },
  {
   "cell_type": "markdown",
   "metadata": {},
   "source": [
    "Intuitivly, I would think since we aren't using so many features we shouldn't need so many layers. Let's start with 1 dense layer with a relu activation function and a layer with a softmax function to generate the output. Let's use 36 as that is the number of features squared which sounds like a good starting point."
   ]
  },
  {
   "cell_type": "code",
   "execution_count": 147,
   "metadata": {},
   "outputs": [],
   "source": [
    "impor keras\n",
    "model = keras.models.Sequential()\n",
    "model.add(keras.layers.Dense(36, activation=\"relu\"))\n",
    "model.add(keras.layers.Dense(6, activation=\"softmax\"))"
   ]
  },
  {
   "cell_type": "code",
   "execution_count": 148,
   "metadata": {},
   "outputs": [],
   "source": [
    "model.compile(loss=\"sparse_categorical_crossentropy\",\n",
    "              optimizer=\"sgd\",\n",
    "              metrics=[\"accuracy\"])"
   ]
  },
  {
   "cell_type": "code",
   "execution_count": 149,
   "metadata": {},
   "outputs": [
    {
     "data": {
      "text/plain": [
       "carat      0\n",
       "clarity    0\n",
       "depth      0\n",
       "table      0\n",
       "price      0\n",
       "dtype: int64"
      ]
     },
     "execution_count": 149,
     "metadata": {},
     "output_type": "execute_result"
    }
   ],
   "source": [
    "X_train.isna().sum()"
   ]
  },
  {
   "cell_type": "code",
   "execution_count": 143,
   "metadata": {},
   "outputs": [
    {
     "name": "stdout",
     "output_type": "stream",
     "text": [
      "Epoch 1/3\n",
      "43147/43147 [==============================] - 5s 114us/step - loss: 1.3002 - acc: 0.4635 0s - loss: 1.3083 -\n",
      "Epoch 2/3\n",
      "43147/43147 [==============================] - ETA: 0s - loss: 1.2507 - acc: 0.484 - 4s 82us/step - loss: 1.2506 - acc: 0.4843\n",
      "Epoch 3/3\n",
      "43147/43147 [==============================] - 3s 74us/step - loss: 1.2353 - acc: 0.4922: 1s - loss: 1.2403 - acc: 0. - ETA: 1s - loss\n"
     ]
    }
   ],
   "source": [
    "history = model.fit(X_train.values, y_train.values, epochs = 3)"
   ]
  },
  {
   "cell_type": "code",
   "execution_count": null,
   "metadata": {},
   "outputs": [],
   "source": [
    "import sklearn.metrics as metrics\n",
    "scores = model.predict_classes(X_train)\n",
    "print(metrics.classification_report(y_train,scores))"
   ]
  },
  {
   "cell_type": "markdown",
   "metadata": {},
   "source": [
    "Remember from our mapping above...\n",
    "1 is ideal\n",
    "5 is the worst.\n"
   ]
  },
  {
   "cell_type": "markdown",
   "metadata": {},
   "source": [
    "This simple model has an accuracy around .49. It is fairly quick to run. We can use this as a baseline and start adding more layers to this as we see this isn't complicated enough. First though, we see that if we increase the number of epochs we might be able to increase our score as it will minimize the loss function more."
   ]
  },
  {
   "cell_type": "code",
   "execution_count": 144,
   "metadata": {},
   "outputs": [],
   "source": [
    "def BuildModel(n_layers, nodes):\n",
    "    model = keras.models.Sequential()\n",
    "    for i in range(n_layers):\n",
    "        model.add(keras.layers.Dense(nodes, activation=\"relu\"))\n",
    "    model.add(keras.layers.Dense(6, activation=\"softmax\"))\n",
    "    return model\n"
   ]
  },
  {
   "cell_type": "code",
   "execution_count": 158,
   "metadata": {},
   "outputs": [],
   "source": [
    "model = BuildModel(5, 36) # 5 layer with 36 nodes. 36 since 36 is the number of features squared. 5 layers so we have 5 x as many layers as the previous. \n",
    "model.compile(loss=\"sparse_categorical_crossentropy\",\n",
    "              optimizer=\"sgd\",\n",
    "              metrics=[\"accuracy\"])"
   ]
  },
  {
   "cell_type": "markdown",
   "metadata": {},
   "source": [
    "I will use 100 epochs as that is not too long but also not too short. We can see if our accuracy score is still going up at the end."
   ]
  },
  {
   "cell_type": "code",
   "execution_count": 166,
   "metadata": {},
   "outputs": [
    {
     "name": "stdout",
     "output_type": "stream",
     "text": [
      "Epoch 1/100\n",
      "43147/43147 [==============================] - 4s 97us/step - loss: 1.0704 - acc: 0.5555\n",
      "Epoch 2/100\n",
      "43147/43147 [==============================] - 4s 96us/step - loss: 1.0701 - acc: 0.5549\n",
      "Epoch 3/100\n",
      "43147/43147 [==============================] - 4s 96us/step - loss: 1.0704 - acc: 0.5542\n",
      "Epoch 4/100\n",
      "43147/43147 [==============================] - 4s 96us/step - loss: 1.0696 - acc: 0.5552\n",
      "Epoch 5/100\n",
      "43147/43147 [==============================] - 4s 97us/step - loss: 1.0687 - acc: 0.5541\n",
      "Epoch 6/100\n",
      "43147/43147 [==============================] - 4s 96us/step - loss: 1.0680 - acc: 0.5563\n",
      "Epoch 7/100\n",
      "43147/43147 [==============================] - 4s 97us/step - loss: 1.0673 - acc: 0.5568\n",
      "Epoch 8/100\n",
      "43147/43147 [==============================] - 4s 96us/step - loss: 1.0676 - acc: 0.5557\n",
      "Epoch 9/100\n",
      "43147/43147 [==============================] - 4s 103us/step - loss: 1.0667 - acc: 0.5567 1s - loss\n",
      "Epoch 10/100\n",
      "43147/43147 [==============================] - 4s 97us/step - loss: 1.0680 - acc: 0.5556\n",
      "Epoch 11/100\n",
      "43147/43147 [==============================] - 4s 98us/step - loss: 1.0665 - acc: 0.5573: 0s - loss: 1.0665 - acc:\n",
      "Epoch 12/100\n",
      "43147/43147 [==============================] - 4s 98us/step - loss: 1.0656 - acc: 0.5556\n",
      "Epoch 13/100\n",
      "43147/43147 [==============================] - 5s 112us/step - loss: 1.0661 - acc: 0.5556\n",
      "Epoch 14/100\n",
      "43147/43147 [==============================] - 4s 101us/step - loss: 1.0653 - acc: 0.5577\n",
      "Epoch 15/100\n",
      "43147/43147 [==============================] - 4s 90us/step - loss: 1.0647 - acc: 0.5562\n",
      "Epoch 16/100\n",
      "43147/43147 [==============================] - 4s 98us/step - loss: 1.0643 - acc: 0.5586\n",
      "Epoch 17/100\n",
      "43147/43147 [==============================] - 4s 97us/step - loss: 1.0637 - acc: 0.5583: 0s - loss: 1.\n",
      "Epoch 18/100\n",
      "43147/43147 [==============================] - 5s 113us/step - loss: 1.0638 - acc: 0.5572\n",
      "Epoch 19/100\n",
      "43147/43147 [==============================] - 5s 114us/step - loss: 1.0636 - acc: 0.5585\n",
      "Epoch 20/100\n",
      "43147/43147 [==============================] - 4s 101us/step - loss: 1.0629 - acc: 0.5565\n",
      "Epoch 21/100\n",
      "43147/43147 [==============================] - 4s 101us/step - loss: 1.0622 - acc: 0.5588 ETA: 1s\n",
      "Epoch 22/100\n",
      "43147/43147 [==============================] - 4s 102us/step - loss: 1.0616 - acc: 0.5577\n",
      "Epoch 23/100\n",
      "43147/43147 [==============================] - 4s 103us/step - loss: 1.0617 - acc: 0.5575\n",
      "Epoch 24/100\n",
      "43147/43147 [==============================] - 4s 102us/step - loss: 1.0610 - acc: 0.5580\n",
      "Epoch 25/100\n",
      "43147/43147 [==============================] - 4s 103us/step - loss: 1.0603 - acc: 0.5600 2s - loss: \n",
      "Epoch 26/100\n",
      "43147/43147 [==============================] - 4s 101us/step - loss: 1.0608 - acc: 0.5604\n",
      "Epoch 27/100\n",
      "43147/43147 [==============================] - 4s 99us/step - loss: 1.0605 - acc: 0.5606\n",
      "Epoch 28/100\n",
      "43147/43147 [==============================] - 5s 111us/step - loss: 1.0590 - acc: 0.5595\n",
      "Epoch 29/100\n",
      "43147/43147 [==============================] - 4s 103us/step - loss: 1.0593 - acc: 0.5609 1s - loss:  - ETA: 0s - loss: 1.0582 \n",
      "Epoch 30/100\n",
      "43147/43147 [==============================] - 4s 104us/step - loss: 1.0593 - acc: 0.5590\n",
      "Epoch 31/100\n",
      "43147/43147 [==============================] - 4s 102us/step - loss: 1.0587 - acc: 0.5604\n",
      "Epoch 32/100\n",
      "43147/43147 [==============================] - 5s 106us/step - loss: 1.0581 - acc: 0.5615\n",
      "Epoch 33/100\n",
      "43147/43147 [==============================] - 4s 98us/step - loss: 1.0582 - acc: 0.5602: 0s - loss: 1.0580\n",
      "Epoch 34/100\n",
      "43147/43147 [==============================] - 4s 101us/step - loss: 1.0565 - acc: 0.5593 0s - loss: 1.0571 \n",
      "Epoch 35/100\n",
      "43147/43147 [==============================] - 4s 104us/step - loss: 1.0580 - acc: 0.5602\n",
      "Epoch 36/100\n",
      "43147/43147 [==============================] - 5s 105us/step - loss: 1.0564 - acc: 0.5614 1s - loss - ETA: 0s - loss: 1.0552 - a\n",
      "Epoch 37/100\n",
      "43147/43147 [==============================] - 5s 127us/step - loss: 1.0566 - acc: 0.5602\n",
      "Epoch 38/100\n",
      "43147/43147 [==============================] - 5s 116us/step - loss: 1.0559 - acc: 0.5598\n",
      "Epoch 39/100\n",
      "43147/43147 [==============================] - 4s 99us/step - loss: 1.0560 - acc: 0.5612\n",
      "Epoch 40/100\n",
      "43147/43147 [==============================] - 5s 107us/step - loss: 1.0557 - acc: 0.5615\n",
      "Epoch 41/100\n",
      "43147/43147 [==============================] - 5s 117us/step - loss: 1.0553 - acc: 0.5602 2s - loss: 1.0547 - \n",
      "Epoch 42/100\n",
      "43147/43147 [==============================] - 5s 114us/step - loss: 1.0545 - acc: 0.5605\n",
      "Epoch 43/100\n",
      "43147/43147 [==============================] - 5s 105us/step - loss: 1.0544 - acc: 0.5616\n",
      "Epoch 44/100\n",
      "43147/43147 [==============================] - 5s 117us/step - loss: 1.0541 - acc: 0.5598\n",
      "Epoch 45/100\n",
      "43147/43147 [==============================] - 5s 104us/step - loss: 1.0541 - acc: 0.5619\n",
      "Epoch 46/100\n",
      "43147/43147 [==============================] - 5s 108us/step - loss: 1.0541 - acc: 0.5607 0s - loss: 1.0538 - acc: 0.56 - ETA: 0s - loss: 1.0541 - acc: 0.56 - ETA: 0s - loss: 1.0544 - acc: 0.56\n",
      "Epoch 47/100\n",
      "43147/43147 [==============================] - 5s 111us/step - loss: 1.0534 - acc: 0.5624\n",
      "Epoch 48/100\n",
      "43147/43147 [==============================] - 5s 108us/step - loss: 1.0529 - acc: 0.5631\n",
      "Epoch 49/100\n",
      "43147/43147 [==============================] - 4s 102us/step - loss: 1.0533 - acc: 0.5637 3s - lo\n",
      "Epoch 50/100\n",
      "43147/43147 [==============================] - ETA: 0s - loss: 1.0512 - acc: 0.563 - 5s 105us/step - loss: 1.0519 - acc: 0.5632\n",
      "Epoch 51/100\n",
      "43147/43147 [==============================] - 4s 99us/step - loss: 1.0529 - acc: 0.5617\n",
      "Epoch 52/100\n",
      "43147/43147 [==============================] - 5s 106us/step - loss: 1.0522 - acc: 0.5604 3s - loss: 1.0641 - acc - ETA: 2s - loss: 1.0555 - acc:  - ETA: 2s - loss: 1.0533 - acc: 0.5 - ETA: 2s - loss: 1.0519 - acc: 0.562 - ETA: 2s - loss: 1.0516 - a -\n",
      "Epoch 53/100\n",
      "43147/43147 [==============================] - 4s 103us/step - loss: 1.0510 - acc: 0.5642\n",
      "Epoch 54/100\n",
      "43147/43147 [==============================] - 5s 109us/step - loss: 1.0516 - acc: 0.5638\n",
      "Epoch 55/100\n",
      "43147/43147 [==============================] - 4s 103us/step - loss: 1.0510 - acc: 0.5630\n",
      "Epoch 56/100\n",
      "43147/43147 [==============================] - 5s 117us/step - loss: 1.0513 - acc: 0.5635 1s - loss\n",
      "Epoch 57/100\n",
      "43147/43147 [==============================] - 5s 111us/step - loss: 1.0507 - acc: 0.5656\n",
      "Epoch 58/100\n",
      "43147/43147 [==============================] - 4s 102us/step - loss: 1.0511 - acc: 0.5632\n",
      "Epoch 59/100\n",
      "43147/43147 [==============================] - 4s 101us/step - loss: 1.0497 - acc: 0.5636\n",
      "Epoch 60/100\n",
      "43147/43147 [==============================] - 4s 97us/step - loss: 1.0509 - acc: 0.5632\n",
      "Epoch 61/100\n",
      "43147/43147 [==============================] - 4s 99us/step - loss: 1.0499 - acc: 0.5630: 0s - loss: 1.0491 - acc\n",
      "Epoch 62/100\n",
      "43147/43147 [==============================] - 4s 99us/step - loss: 1.0496 - acc: 0.5649\n",
      "Epoch 63/100\n",
      "43147/43147 [==============================] - 4s 100us/step - loss: 1.0496 - acc: 0.5645\n",
      "Epoch 64/100\n",
      "43147/43147 [==============================] - 4s 100us/step - loss: 1.0489 - acc: 0.5636 3s - loss: 1.0595 - acc: 0 - \n",
      "Epoch 65/100\n",
      "43147/43147 [==============================] - 4s 103us/step - loss: 1.0488 - acc: 0.5648 3s - loss - ETA: 2s - loss: 1.052 - ETA: \n",
      "Epoch 66/100\n",
      "43147/43147 [==============================] - 4s 96us/step - loss: 1.0489 - acc: 0.5648\n",
      "Epoch 67/100\n",
      "43147/43147 [==============================] - 4s 99us/step - loss: 1.0486 - acc: 0.5650\n",
      "Epoch 68/100\n",
      "43147/43147 [==============================] - 4s 97us/step - loss: 1.0485 - acc: 0.5650\n",
      "Epoch 69/100\n",
      "43147/43147 [==============================] - 4s 99us/step - loss: 1.0483 - acc: 0.5647\n",
      "Epoch 70/100\n",
      "43147/43147 [==============================] - 4s 96us/step - loss: 1.0475 - acc: 0.5656\n",
      "Epoch 71/100\n",
      "43147/43147 [==============================] - 5s 106us/step - loss: 1.0480 - acc: 0.5633\n",
      "Epoch 72/100\n",
      "43147/43147 [==============================] - 5s 109us/step - loss: 1.0468 - acc: 0.5631\n",
      "Epoch 73/100\n",
      "43147/43147 [==============================] - 4s 99us/step - loss: 1.0469 - acc: 0.5660: 1s - los\n",
      "Epoch 74/100\n"
     ]
    },
    {
     "name": "stdout",
     "output_type": "stream",
     "text": [
      "43147/43147 [==============================] - 4s 104us/step - loss: 1.0463 - acc: 0.5650\n",
      "Epoch 75/100\n",
      "43147/43147 [==============================] - ETA: 0s - loss: 1.0467 - acc: 0.563 - 5s 114us/step - loss: 1.0471 - acc: 0.5631\n",
      "Epoch 76/100\n",
      "43147/43147 [==============================] - 5s 111us/step - loss: 1.0466 - acc: 0.5659 3s - loss: 1.0 - ETA: 2s - loss - ETA: 1s - loss: 1.0477 - acc: 0.56 - ETA: 1s - loss: 1.0480 - acc: - ETA: 1s - loss:\n",
      "Epoch 77/100\n",
      "43147/43147 [==============================] - 4s 101us/step - loss: 1.0464 - acc: 0.5645\n",
      "Epoch 78/100\n",
      "43147/43147 [==============================] - 4s 98us/step - loss: 1.0467 - acc: 0.5640\n",
      "Epoch 79/100\n",
      "43147/43147 [==============================] - 4s 101us/step - loss: 1.0451 - acc: 0.5640\n",
      "Epoch 80/100\n",
      "43147/43147 [==============================] - 5s 106us/step - loss: 1.0457 - acc: 0.5649\n",
      "Epoch 81/100\n",
      "43147/43147 [==============================] - 4s 98us/step - loss: 1.0456 - acc: 0.5669\n",
      "Epoch 82/100\n",
      "43147/43147 [==============================] - 4s 98us/step - loss: 1.0448 - acc: 0.5660\n",
      "Epoch 83/100\n",
      "43147/43147 [==============================] - 4s 96us/step - loss: 1.0456 - acc: 0.5661\n",
      "Epoch 84/100\n",
      "43147/43147 [==============================] - 4s 98us/step - loss: 1.0445 - acc: 0.5663\n",
      "Epoch 85/100\n",
      "43147/43147 [==============================] - 4s 98us/step - loss: 1.0450 - acc: 0.5679\n",
      "Epoch 86/100\n",
      "43147/43147 [==============================] - 5s 110us/step - loss: 1.0437 - acc: 0.5669\n",
      "Epoch 87/100\n",
      "43147/43147 [==============================] - 4s 103us/step - loss: 1.0446 - acc: 0.5638\n",
      "Epoch 88/100\n",
      "43147/43147 [==============================] - 4s 104us/step - loss: 1.0441 - acc: 0.5665 0s - loss: 1.045\n",
      "Epoch 89/100\n",
      "43147/43147 [==============================] - 4s 103us/step - loss: 1.0444 - acc: 0.5653\n",
      "Epoch 90/100\n",
      "43147/43147 [==============================] - 4s 100us/step - loss: 1.0439 - acc: 0.5645 2s - loss: 1.0424 - acc: 0.56 - ETA: 2s - lo - ETA: 0s - loss: 1.0413\n",
      "Epoch 91/100\n",
      "43147/43147 [==============================] - 4s 101us/step - loss: 1.0430 - acc: 0.5653 1s - l\n",
      "Epoch 92/100\n",
      "43147/43147 [==============================] - 4s 98us/step - loss: 1.0425 - acc: 0.5673\n",
      "Epoch 93/100\n",
      "43147/43147 [==============================] - 4s 100us/step - loss: 1.0428 - acc: 0.5672 ETA: 0s - loss: 1.042\n",
      "Epoch 94/100\n",
      "43147/43147 [==============================] - 4s 99us/step - loss: 1.0420 - acc: 0.5669: 1s - loss: 1.0 - ETA: 0s - loss: 1.0392 \n",
      "Epoch 95/100\n",
      "43147/43147 [==============================] - 4s 100us/step - loss: 1.0426 - acc: 0.5666\n",
      "Epoch 96/100\n",
      "43147/43147 [==============================] - 4s 102us/step - loss: 1.0422 - acc: 0.5662 2s - loss: 1.0422 - acc:  - ETA\n",
      "Epoch 97/100\n",
      "43147/43147 [==============================] - 5s 106us/step - loss: 1.0425 - acc: 0.5672\n",
      "Epoch 98/100\n",
      "43147/43147 [==============================] - 4s 97us/step - loss: 1.0426 - acc: 0.5670\n",
      "Epoch 99/100\n",
      "43147/43147 [==============================] - 4s 98us/step - loss: 1.0415 - acc: 0.5664\n",
      "Epoch 100/100\n",
      "43147/43147 [==============================] - 5s 113us/step - loss: 1.0420 - acc: 0.5660\n"
     ]
    }
   ],
   "source": [
    "history = model.fit(X_train.values, y_train.values, epochs = 100)"
   ]
  },
  {
   "cell_type": "markdown",
   "metadata": {},
   "source": [
    "This model has better accuracy score at around .55. We see that we can actually increase the number of epochs isn't dramatically improving our scores."
   ]
  },
  {
   "cell_type": "code",
   "execution_count": 167,
   "metadata": {},
   "outputs": [
    {
     "name": "stdout",
     "output_type": "stream",
     "text": [
      "              precision    recall  f1-score   support\n",
      "\n",
      "           1       0.61      0.80      0.69     17206\n",
      "           2       0.49      0.59      0.54     11049\n",
      "           3       0.49      0.23      0.31      9722\n",
      "           4       0.68      0.30      0.41      3912\n",
      "           5       0.86      0.50      0.64      1258\n",
      "\n",
      "    accuracy                           0.57     43147\n",
      "   macro avg       0.63      0.49      0.52     43147\n",
      "weighted avg       0.57      0.57      0.54     43147\n",
      "\n"
     ]
    }
   ],
   "source": [
    "scores = model.predict_classes(X_train.values)\n",
    "print(metrics.classification_report(y_train,scores))"
   ]
  },
  {
   "cell_type": "code",
   "execution_count": 163,
   "metadata": {},
   "outputs": [
    {
     "data": {
      "text/plain": [
       "array([5, 2, 1, ..., 1, 2, 2], dtype=int64)"
      ]
     },
     "execution_count": 163,
     "metadata": {},
     "output_type": "execute_result"
    }
   ],
   "source": [
    "Our scores are slightly better with this model. The main reason why may simply be increasing the number of epochs."
   ]
  },
  {
   "cell_type": "markdown",
   "metadata": {},
   "source": [
    "Let's now try doubling the number of layers and see how that impacts the model."
   ]
  },
  {
   "cell_type": "code",
   "execution_count": 168,
   "metadata": {},
   "outputs": [],
   "source": [
    "model = BuildModel(10, 36) # 5 layer with 36 nodes. 36 since 36 is the number of features squared. 5 layers so we have 5 x as many layers as the previous. \n",
    "model.compile(loss=\"sparse_categorical_crossentropy\",\n",
    "              optimizer=\"sgd\",\n",
    "              metrics=[\"accuracy\"])"
   ]
  },
  {
   "cell_type": "markdown",
   "metadata": {},
   "source": [
    "I will use 100 epochs again so we could directly compare just how increasing the layers effects the model and also because past 100 the accuracy doesn't improve so much.\n"
   ]
  },
  {
   "cell_type": "code",
   "execution_count": 171,
   "metadata": {},
   "outputs": [
    {
     "name": "stdout",
     "output_type": "stream",
     "text": [
      "Epoch 1/100\n",
      "43147/43147 [==============================] - 5s 110us/step - loss: 1.1100 - acc: 0.5386\n",
      "Epoch 2/100\n",
      "43147/43147 [==============================] - 5s 110us/step - loss: 1.1073 - acc: 0.5397\n",
      "Epoch 3/100\n",
      "43147/43147 [==============================] - 5s 110us/step - loss: 1.1041 - acc: 0.5420\n",
      "Epoch 4/100\n",
      "43147/43147 [==============================] - 5s 109us/step - loss: 1.1013 - acc: 0.5437\n",
      "Epoch 5/100\n",
      "43147/43147 [==============================] - 5s 111us/step - loss: 1.0993 - acc: 0.5446\n",
      "Epoch 6/100\n",
      "43147/43147 [==============================] - 5s 110us/step - loss: 1.0966 - acc: 0.5435\n",
      "Epoch 7/100\n",
      "43147/43147 [==============================] - 5s 122us/step - loss: 1.0951 - acc: 0.5456\n",
      "Epoch 8/100\n",
      "43147/43147 [==============================] - 5s 111us/step - loss: 1.0935 - acc: 0.5453\n",
      "Epoch 9/100\n",
      "43147/43147 [==============================] - 5s 110us/step - loss: 1.0903 - acc: 0.5481\n",
      "Epoch 10/100\n",
      "43147/43147 [==============================] - 5s 111us/step - loss: 1.0900 - acc: 0.5461\n",
      "Epoch 11/100\n",
      "43147/43147 [==============================] - 5s 111us/step - loss: 1.0880 - acc: 0.5490\n",
      "Epoch 12/100\n",
      "43147/43147 [==============================] - 5s 109us/step - loss: 1.0858 - acc: 0.5496\n",
      "Epoch 13/100\n",
      "43147/43147 [==============================] - 5s 109us/step - loss: 1.0849 - acc: 0.5501\n",
      "Epoch 14/100\n",
      "43147/43147 [==============================] - 5s 106us/step - loss: 1.0841 - acc: 0.5501\n",
      "Epoch 15/100\n",
      "43147/43147 [==============================] - 5s 109us/step - loss: 1.0819 - acc: 0.5505\n",
      "Epoch 16/100\n",
      "43147/43147 [==============================] - 5s 108us/step - loss: 1.0800 - acc: 0.5496\n",
      "Epoch 17/100\n",
      "43147/43147 [==============================] - 5s 107us/step - loss: 1.0809 - acc: 0.5506\n",
      "Epoch 18/100\n",
      "43147/43147 [==============================] - 5s 110us/step - loss: 1.0790 - acc: 0.5512\n",
      "Epoch 19/100\n",
      "43147/43147 [==============================] - 5s 110us/step - loss: 1.0773 - acc: 0.5501\n",
      "Epoch 20/100\n",
      "43147/43147 [==============================] - 5s 113us/step - loss: 1.0768 - acc: 0.5543\n",
      "Epoch 21/100\n",
      "43147/43147 [==============================] - 5s 119us/step - loss: 1.0766 - acc: 0.5544\n",
      "Epoch 22/100\n",
      "43147/43147 [==============================] - 5s 110us/step - loss: 1.0751 - acc: 0.5545 0s - loss: 1.0751\n",
      "Epoch 23/100\n",
      "43147/43147 [==============================] - 5s 109us/step - loss: 1.0740 - acc: 0.5542\n",
      "Epoch 24/100\n",
      "43147/43147 [==============================] - 5s 112us/step - loss: 1.0735 - acc: 0.5550\n",
      "Epoch 25/100\n",
      "43147/43147 [==============================] - 5s 110us/step - loss: 1.0736 - acc: 0.5548\n",
      "Epoch 26/100\n",
      "43147/43147 [==============================] - 5s 110us/step - loss: 1.0727 - acc: 0.5548\n",
      "Epoch 27/100\n",
      "43147/43147 [==============================] - 5s 110us/step - loss: 1.0713 - acc: 0.5559\n",
      "Epoch 28/100\n",
      "43147/43147 [==============================] - 5s 110us/step - loss: 1.0705 - acc: 0.5543\n",
      "Epoch 29/100\n",
      "43147/43147 [==============================] - 5s 108us/step - loss: 1.0707 - acc: 0.5561\n",
      "Epoch 30/100\n",
      "43147/43147 [==============================] - 5s 111us/step - loss: 1.0700 - acc: 0.5555\n",
      "Epoch 31/100\n",
      "43147/43147 [==============================] - 5s 108us/step - loss: 1.0687 - acc: 0.5582\n",
      "Epoch 32/100\n",
      "43147/43147 [==============================] - 5s 110us/step - loss: 1.0687 - acc: 0.5575\n",
      "Epoch 33/100\n",
      "43147/43147 [==============================] - 5s 109us/step - loss: 1.0681 - acc: 0.5572\n",
      "Epoch 34/100\n",
      "43147/43147 [==============================] - 5s 110us/step - loss: 1.0680 - acc: 0.5558\n",
      "Epoch 35/100\n",
      "43147/43147 [==============================] - 5s 115us/step - loss: 1.0672 - acc: 0.5561\n",
      "Epoch 36/100\n",
      "43147/43147 [==============================] - 4s 102us/step - loss: 1.0664 - acc: 0.5583\n",
      "Epoch 37/100\n",
      "43147/43147 [==============================] - 4s 92us/step - loss: 1.0664 - acc: 0.5577\n",
      "Epoch 38/100\n",
      "43147/43147 [==============================] - 5s 109us/step - loss: 1.0660 - acc: 0.5561\n",
      "Epoch 39/100\n",
      "43147/43147 [==============================] - 5s 109us/step - loss: 1.0652 - acc: 0.5577\n",
      "Epoch 40/100\n",
      "43147/43147 [==============================] - 5s 108us/step - loss: 1.0638 - acc: 0.5589\n",
      "Epoch 41/100\n",
      "43147/43147 [==============================] - 5s 109us/step - loss: 1.0640 - acc: 0.5577\n",
      "Epoch 42/100\n",
      "43147/43147 [==============================] - 5s 108us/step - loss: 1.0643 - acc: 0.5589\n",
      "Epoch 43/100\n",
      "43147/43147 [==============================] - 5s 108us/step - loss: 1.0631 - acc: 0.5594\n",
      "Epoch 44/100\n",
      "43147/43147 [==============================] - 5s 108us/step - loss: 1.0624 - acc: 0.5589\n",
      "Epoch 45/100\n",
      "43147/43147 [==============================] - 4s 104us/step - loss: 1.0624 - acc: 0.5588 1s -\n",
      "Epoch 46/100\n",
      "43147/43147 [==============================] - 5s 107us/step - loss: 1.0629 - acc: 0.5576\n",
      "Epoch 47/100\n",
      "43147/43147 [==============================] - 5s 115us/step - loss: 1.0607 - acc: 0.5598\n",
      "Epoch 48/100\n",
      "43147/43147 [==============================] - 5s 113us/step - loss: 1.0605 - acc: 0.5595\n",
      "Epoch 49/100\n",
      "43147/43147 [==============================] - 5s 118us/step - loss: 1.0608 - acc: 0.5594\n",
      "Epoch 50/100\n",
      "43147/43147 [==============================] - 5s 112us/step - loss: 1.0607 - acc: 0.5607\n",
      "Epoch 51/100\n",
      "43147/43147 [==============================] - 5s 114us/step - loss: 1.0598 - acc: 0.5593\n",
      "Epoch 52/100\n",
      "43147/43147 [==============================] - 5s 109us/step - loss: 1.0581 - acc: 0.5609\n",
      "Epoch 53/100\n",
      "43147/43147 [==============================] - 5s 109us/step - loss: 1.0576 - acc: 0.5601\n",
      "Epoch 54/100\n",
      "43147/43147 [==============================] - 5s 106us/step - loss: 1.0589 - acc: 0.5610\n",
      "Epoch 55/100\n",
      "43147/43147 [==============================] - 5s 106us/step - loss: 1.0582 - acc: 0.5603 1s - lo\n",
      "Epoch 56/100\n",
      "43147/43147 [==============================] - 5s 105us/step - loss: 1.0564 - acc: 0.5615\n",
      "Epoch 57/100\n",
      "43147/43147 [==============================] - 5s 106us/step - loss: 1.0571 - acc: 0.5609 0s - loss: 1.0570 \n",
      "Epoch 58/100\n",
      "43147/43147 [==============================] - 5s 105us/step - loss: 1.0570 - acc: 0.5619\n",
      "Epoch 59/100\n",
      "43147/43147 [==============================] - 5s 106us/step - loss: 1.0564 - acc: 0.5622\n",
      "Epoch 60/100\n",
      "43147/43147 [==============================] - 5s 106us/step - loss: 1.0568 - acc: 0.5626 4s - loss - ETA: 2s - loss: \n",
      "Epoch 61/100\n",
      "43147/43147 [==============================] - 5s 106us/step - loss: 1.0562 - acc: 0.5621\n",
      "Epoch 62/100\n",
      "43147/43147 [==============================] - 5s 110us/step - loss: 1.0562 - acc: 0.5622\n",
      "Epoch 63/100\n",
      "43147/43147 [==============================] - 5s 112us/step - loss: 1.0555 - acc: 0.5623\n",
      "Epoch 64/100\n",
      "43147/43147 [==============================] - 5s 105us/step - loss: 1.0553 - acc: 0.5615\n",
      "Epoch 65/100\n",
      "43147/43147 [==============================] - 5s 105us/step - loss: 1.0545 - acc: 0.5625\n",
      "Epoch 66/100\n",
      "43147/43147 [==============================] - 5s 105us/step - loss: 1.0541 - acc: 0.5628\n",
      "Epoch 67/100\n",
      "43147/43147 [==============================] - 5s 105us/step - loss: 1.0535 - acc: 0.5628\n",
      "Epoch 68/100\n",
      "43147/43147 [==============================] - 5s 105us/step - loss: 1.0548 - acc: 0.5619\n",
      "Epoch 69/100\n",
      "43147/43147 [==============================] - 5s 110us/step - loss: 1.0530 - acc: 0.5623\n",
      "Epoch 70/100\n",
      "43147/43147 [==============================] - 5s 106us/step - loss: 1.0528 - acc: 0.5634\n",
      "Epoch 71/100\n",
      "43147/43147 [==============================] - 5s 105us/step - loss: 1.0523 - acc: 0.5631\n",
      "Epoch 72/100\n",
      "43147/43147 [==============================] - 5s 106us/step - loss: 1.0520 - acc: 0.5642\n",
      "Epoch 73/100\n",
      "43147/43147 [==============================] - 5s 105us/step - loss: 1.0520 - acc: 0.5621\n",
      "Epoch 74/100\n",
      "43147/43147 [==============================] - 5s 105us/step - loss: 1.0510 - acc: 0.5624\n",
      "Epoch 75/100\n",
      "43147/43147 [==============================] - 4s 94us/step - loss: 1.0523 - acc: 0.5639\n",
      "Epoch 76/100\n",
      "43147/43147 [==============================] - 4s 92us/step - loss: 1.0510 - acc: 0.5651\n",
      "Epoch 77/100\n",
      "43147/43147 [==============================] - 5s 116us/step - loss: 1.0502 - acc: 0.5632\n",
      "Epoch 78/100\n",
      "43147/43147 [==============================] - 5s 108us/step - loss: 1.0506 - acc: 0.5642\n",
      "Epoch 79/100\n"
     ]
    },
    {
     "name": "stdout",
     "output_type": "stream",
     "text": [
      "43147/43147 [==============================] - 5s 107us/step - loss: 1.0512 - acc: 0.5649\n",
      "Epoch 80/100\n",
      "43147/43147 [==============================] - 5s 107us/step - loss: 1.0496 - acc: 0.5646\n",
      "Epoch 81/100\n",
      "43147/43147 [==============================] - 5s 109us/step - loss: 1.0488 - acc: 0.5659\n",
      "Epoch 82/100\n",
      "43147/43147 [==============================] - 5s 108us/step - loss: 1.0488 - acc: 0.5667\n",
      "Epoch 83/100\n",
      "43147/43147 [==============================] - 5s 107us/step - loss: 1.0501 - acc: 0.5641\n",
      "Epoch 84/100\n",
      "43147/43147 [==============================] - 5s 107us/step - loss: 1.0482 - acc: 0.5643 0s - loss: 1.0466 - \n",
      "Epoch 85/100\n",
      "43147/43147 [==============================] - 5s 106us/step - loss: 1.0475 - acc: 0.5669\n",
      "Epoch 86/100\n",
      "43147/43147 [==============================] - 5s 107us/step - loss: 1.0482 - acc: 0.5652\n",
      "Epoch 87/100\n",
      "43147/43147 [==============================] - 5s 107us/step - loss: 1.0474 - acc: 0.5656\n",
      "Epoch 88/100\n",
      "43147/43147 [==============================] - 5s 107us/step - loss: 1.0477 - acc: 0.5664\n",
      "Epoch 89/100\n",
      "43147/43147 [==============================] - 5s 109us/step - loss: 1.0475 - acc: 0.5676 2s - loss: - E\n",
      "Epoch 90/100\n",
      "43147/43147 [==============================] - 5s 108us/step - loss: 1.0467 - acc: 0.5667 0s - loss: 1.0471 - acc\n",
      "Epoch 91/100\n",
      "43147/43147 [==============================] - 5s 116us/step - loss: 1.0483 - acc: 0.5648\n",
      "Epoch 92/100\n",
      "43147/43147 [==============================] - 5s 112us/step - loss: 1.0467 - acc: 0.5653\n",
      "Epoch 93/100\n",
      "43147/43147 [==============================] - 5s 107us/step - loss: 1.0472 - acc: 0.5657\n",
      "Epoch 94/100\n",
      "43147/43147 [==============================] - 5s 106us/step - loss: 1.0460 - acc: 0.5678 0s - loss: 1.046\n",
      "Epoch 95/100\n",
      "43147/43147 [==============================] - 5s 107us/step - loss: 1.0450 - acc: 0.5679\n",
      "Epoch 96/100\n",
      "43147/43147 [==============================] - 5s 107us/step - loss: 1.0457 - acc: 0.5669\n",
      "Epoch 97/100\n",
      "43147/43147 [==============================] - 5s 106us/step - loss: 1.0453 - acc: 0.5666\n",
      "Epoch 98/100\n",
      "43147/43147 [==============================] - 5s 107us/step - loss: 1.0455 - acc: 0.5659\n",
      "Epoch 99/100\n",
      "43147/43147 [==============================] - 5s 107us/step - loss: 1.0439 - acc: 0.5667\n",
      "Epoch 100/100\n",
      "43147/43147 [==============================] - 5s 107us/step - loss: 1.0448 - acc: 0.5661\n"
     ]
    }
   ],
   "source": [
    "history = model.fit(X_train.values, y_train.values, epochs = 100)"
   ]
  },
  {
   "cell_type": "code",
   "execution_count": 172,
   "metadata": {},
   "outputs": [
    {
     "name": "stdout",
     "output_type": "stream",
     "text": [
      "              precision    recall  f1-score   support\n",
      "\n",
      "           1       0.61      0.83      0.70     17206\n",
      "           2       0.51      0.56      0.53     11049\n",
      "           3       0.47      0.27      0.34      9722\n",
      "           4       0.79      0.27      0.40      3912\n",
      "           5       0.80      0.53      0.64      1258\n",
      "\n",
      "    accuracy                           0.57     43147\n",
      "   macro avg       0.64      0.49      0.52     43147\n",
      "weighted avg       0.57      0.57      0.55     43147\n",
      "\n"
     ]
    }
   ],
   "source": [
    "scores = model.predict_classes(X_train.values)\n",
    "print(metrics.classification_report(y_train,scores))"
   ]
  },
  {
   "cell_type": "markdown",
   "metadata": {},
   "source": [
    "The scores are minutely higher than the last model but it also is a lot slower. We should see if taking away some nodes helps."
   ]
  },
  {
   "cell_type": "code",
   "execution_count": 173,
   "metadata": {},
   "outputs": [],
   "source": [
    "model = BuildModel(5, 18) #half as many nodes in each hidden layer\n",
    "model.compile(loss=\"sparse_categorical_crossentropy\",\n",
    "              optimizer=\"sgd\",\n",
    "              metrics=[\"accuracy\"])"
   ]
  },
  {
   "cell_type": "code",
   "execution_count": 174,
   "metadata": {},
   "outputs": [
    {
     "name": "stdout",
     "output_type": "stream",
     "text": [
      "Epoch 1/100\n",
      "43147/43147 [==============================] - 7s 151us/step - loss: 1.3193 - acc: 0.4496\n",
      "Epoch 2/100\n",
      "43147/43147 [==============================] - 4s 98us/step - loss: 1.2472 - acc: 0.4838\n",
      "Epoch 3/100\n",
      "43147/43147 [==============================] - 4s 98us/step - loss: 1.2150 - acc: 0.5028\n",
      "Epoch 4/100\n",
      "43147/43147 [==============================] - 4s 98us/step - loss: 1.1942 - acc: 0.5133\n",
      "Epoch 5/100\n",
      "43147/43147 [==============================] - 4s 101us/step - loss: 1.1782 - acc: 0.5194 0s - loss: 1.1785 - acc:\n",
      "Epoch 6/100\n",
      "43147/43147 [==============================] - 5s 105us/step - loss: 1.1659 - acc: 0.5226 1s - loss:\n",
      "Epoch 7/100\n",
      "43147/43147 [==============================] - 4s 96us/step - loss: 1.1558 - acc: 0.5268\n",
      "Epoch 8/100\n",
      "43147/43147 [==============================] - 4s 97us/step - loss: 1.1478 - acc: 0.5265: 0s - loss: 1.1483 - \n",
      "Epoch 9/100\n",
      "43147/43147 [==============================] - 4s 97us/step - loss: 1.1409 - acc: 0.5274: 0s - loss: 1.1414 - acc\n",
      "Epoch 10/100\n",
      "43147/43147 [==============================] - 4s 97us/step - loss: 1.1349 - acc: 0.5299\n",
      "Epoch 11/100\n",
      "43147/43147 [==============================] - 4s 98us/step - loss: 1.1310 - acc: 0.5301\n",
      "Epoch 12/100\n",
      "43147/43147 [==============================] - 4s 101us/step - loss: 1.1275 - acc: 0.5343 0s - loss: 1.1278 - acc:\n",
      "Epoch 13/100\n",
      "43147/43147 [==============================] - 4s 101us/step - loss: 1.1258 - acc: 0.5336\n",
      "Epoch 14/100\n",
      "43147/43147 [==============================] - 4s 99us/step - loss: 1.1231 - acc: 0.5361\n",
      "Epoch 15/100\n",
      "43147/43147 [==============================] - 4s 99us/step - loss: 1.1205 - acc: 0.5352\n",
      "Epoch 16/100\n",
      "43147/43147 [==============================] - 4s 97us/step - loss: 1.1194 - acc: 0.5360\n",
      "Epoch 17/100\n",
      "43147/43147 [==============================] - 4s 96us/step - loss: 1.1166 - acc: 0.5368: 0s - loss: 1\n",
      "Epoch 18/100\n",
      "43147/43147 [==============================] - 4s 97us/step - loss: 1.1159 - acc: 0.5372\n",
      "Epoch 19/100\n",
      "43147/43147 [==============================] - 4s 100us/step - loss: 1.1141 - acc: 0.5385 0s - loss: 1.\n",
      "Epoch 20/100\n",
      "43147/43147 [==============================] - 4s 99us/step - loss: 1.1126 - acc: 0.5370\n",
      "Epoch 21/100\n",
      "43147/43147 [==============================] - 5s 107us/step - loss: 1.1104 - acc: 0.5386\n",
      "Epoch 22/100\n",
      "43147/43147 [==============================] - 4s 102us/step - loss: 1.1092 - acc: 0.5387\n",
      "Epoch 23/100\n",
      "43147/43147 [==============================] - 4s 97us/step - loss: 1.1084 - acc: 0.5375\n",
      "Epoch 24/100\n",
      "43147/43147 [==============================] - 4s 95us/step - loss: 1.1064 - acc: 0.5394\n",
      "Epoch 25/100\n",
      "43147/43147 [==============================] - 4s 98us/step - loss: 1.1064 - acc: 0.5403\n",
      "Epoch 26/100\n",
      "43147/43147 [==============================] - 4s 96us/step - loss: 1.1046 - acc: 0.5395\n",
      "Epoch 27/100\n",
      "43147/43147 [==============================] - 3s 79us/step - loss: 1.1040 - acc: 0.5425\n",
      "Epoch 28/100\n",
      "43147/43147 [==============================] - 4s 95us/step - loss: 1.1027 - acc: 0.5413\n",
      "Epoch 29/100\n",
      "43147/43147 [==============================] - 4s 98us/step - loss: 1.1026 - acc: 0.5418\n",
      "Epoch 30/100\n",
      "43147/43147 [==============================] - 4s 97us/step - loss: 1.1010 - acc: 0.5412\n",
      "Epoch 31/100\n",
      "43147/43147 [==============================] - 4s 97us/step - loss: 1.1002 - acc: 0.5413\n",
      "Epoch 32/100\n",
      "43147/43147 [==============================] - 4s 97us/step - loss: 1.0996 - acc: 0.5426\n",
      "Epoch 33/100\n",
      "43147/43147 [==============================] - 4s 97us/step - loss: 1.0996 - acc: 0.5427\n",
      "Epoch 34/100\n",
      "43147/43147 [==============================] - 4s 96us/step - loss: 1.0985 - acc: 0.5452\n",
      "Epoch 35/100\n",
      "43147/43147 [==============================] - 4s 95us/step - loss: 1.0977 - acc: 0.5444\n",
      "Epoch 36/100\n",
      "43147/43147 [==============================] - 4s 97us/step - loss: 1.0972 - acc: 0.5439\n",
      "Epoch 37/100\n",
      "43147/43147 [==============================] - 5s 112us/step - loss: 1.0953 - acc: 0.5446\n",
      "Epoch 38/100\n",
      "43147/43147 [==============================] - 4s 98us/step - loss: 1.0960 - acc: 0.5449\n",
      "Epoch 39/100\n",
      "43147/43147 [==============================] - 4s 97us/step - loss: 1.0953 - acc: 0.5441: 0s - loss: 1.0962 \n",
      "Epoch 40/100\n",
      "43147/43147 [==============================] - 4s 97us/step - loss: 1.0947 - acc: 0.5470: 1s - \n",
      "Epoch 41/100\n",
      "43147/43147 [==============================] - 4s 96us/step - loss: 1.0935 - acc: 0.5450\n",
      "Epoch 42/100\n",
      "43147/43147 [==============================] - 4s 97us/step - loss: 1.0938 - acc: 0.5454\n",
      "Epoch 43/100\n",
      "43147/43147 [==============================] - 4s 96us/step - loss: 1.0932 - acc: 0.5454\n",
      "Epoch 44/100\n",
      "43147/43147 [==============================] - 4s 96us/step - loss: 1.0928 - acc: 0.5467: 0s - loss: 1.0927 - acc: \n",
      "Epoch 45/100\n",
      "43147/43147 [==============================] - 4s 97us/step - loss: 1.0921 - acc: 0.5462\n",
      "Epoch 46/100\n",
      "43147/43147 [==============================] - 4s 97us/step - loss: 1.0923 - acc: 0.5485: 0s - loss: 1.0906 -\n",
      "Epoch 47/100\n",
      "43147/43147 [==============================] - 4s 96us/step - loss: 1.0908 - acc: 0.5467\n",
      "Epoch 48/100\n",
      "43147/43147 [==============================] - 4s 96us/step - loss: 1.0904 - acc: 0.5467\n",
      "Epoch 49/100\n",
      "43147/43147 [==============================] - 4s 96us/step - loss: 1.0893 - acc: 0.5491\n",
      "Epoch 50/100\n",
      "43147/43147 [==============================] - 4s 97us/step - loss: 1.0884 - acc: 0.5480 ETA: 2s - loss - ETA: 1s - los\n",
      "Epoch 51/100\n",
      "43147/43147 [==============================] - 4s 97us/step - loss: 1.0891 - acc: 0.5462\n",
      "Epoch 52/100\n",
      "43147/43147 [==============================] - 4s 102us/step - loss: 1.0881 - acc: 0.5468\n",
      "Epoch 53/100\n",
      "43147/43147 [==============================] - 4s 102us/step - loss: 1.0880 - acc: 0.5480\n",
      "Epoch 54/100\n",
      "43147/43147 [==============================] - 4s 94us/step - loss: 1.0881 - acc: 0.5466\n",
      "Epoch 55/100\n",
      "43147/43147 [==============================] - 4s 95us/step - loss: 1.0867 - acc: 0.5484\n",
      "Epoch 56/100\n",
      "43147/43147 [==============================] - 4s 95us/step - loss: 1.0863 - acc: 0.5476: 1s - loss: 1.0819  - ETA: 0s - loss: 1.08\n",
      "Epoch 57/100\n",
      "43147/43147 [==============================] - 4s 96us/step - loss: 1.0856 - acc: 0.5493\n",
      "Epoch 58/100\n",
      "43147/43147 [==============================] - 4s 97us/step - loss: 1.0862 - acc: 0.5483\n",
      "Epoch 59/100\n",
      "43147/43147 [==============================] - 4s 98us/step - loss: 1.0861 - acc: 0.5479: 1s \n",
      "Epoch 60/100\n",
      "43147/43147 [==============================] - 4s 99us/step - loss: 1.0852 - acc: 0.5483: 1s\n",
      "Epoch 61/100\n",
      "43147/43147 [==============================] - 4s 96us/step - loss: 1.0849 - acc: 0.5488: 0s - loss: 1.0838 - a\n",
      "Epoch 62/100\n",
      "43147/43147 [==============================] - 4s 96us/step - loss: 1.0833 - acc: 0.5492\n",
      "Epoch 63/100\n",
      "43147/43147 [==============================] - 4s 94us/step - loss: 1.0836 - acc: 0.5471\n",
      "Epoch 64/100\n",
      "43147/43147 [==============================] - 4s 93us/step - loss: 1.0837 - acc: 0.5491\n",
      "Epoch 65/100\n",
      "43147/43147 [==============================] - 4s 93us/step - loss: 1.0840 - acc: 0.5500\n",
      "Epoch 66/100\n",
      "43147/43147 [==============================] - 4s 93us/step - loss: 1.0834 - acc: 0.5489\n",
      "Epoch 67/100\n",
      "43147/43147 [==============================] - 4s 93us/step - loss: 1.0820 - acc: 0.5507\n",
      "Epoch 68/100\n",
      "43147/43147 [==============================] - 4s 103us/step - loss: 1.0823 - acc: 0.5501\n",
      "Epoch 69/100\n",
      "43147/43147 [==============================] - 4s 97us/step - loss: 1.0827 - acc: 0.5488\n",
      "Epoch 70/100\n",
      "43147/43147 [==============================] - 4s 95us/step - loss: 1.0814 - acc: 0.5504\n",
      "Epoch 71/100\n",
      "43147/43147 [==============================] - 4s 93us/step - loss: 1.0819 - acc: 0.5513: 0s - loss: 1.0815 - acc: \n",
      "Epoch 72/100\n",
      "43147/43147 [==============================] - 4s 92us/step - loss: 1.0813 - acc: 0.5486\n",
      "Epoch 73/100\n",
      "43147/43147 [==============================] - 4s 90us/step - loss: 1.0814 - acc: 0.5495\n",
      "Epoch 74/100\n",
      "43147/43147 [==============================] - 4s 96us/step - loss: 1.0812 - acc: 0.5496\n",
      "Epoch 75/100\n",
      "43147/43147 [==============================] - 4s 96us/step - loss: 1.0806 - acc: 0.5499\n",
      "Epoch 76/100\n",
      "43147/43147 [==============================] - 4s 97us/step - loss: 1.0805 - acc: 0.5483ETA: 1s\n",
      "Epoch 77/100\n"
     ]
    },
    {
     "name": "stdout",
     "output_type": "stream",
     "text": [
      "43147/43147 [==============================] - 4s 96us/step - loss: 1.0797 - acc: 0.5499: 1s - loss: 1.0713 - acc: 0.553 - ETA: 1s - \n",
      "Epoch 78/100\n",
      "43147/43147 [==============================] - 5s 106us/step - loss: 1.0795 - acc: 0.5494\n",
      "Epoch 79/100\n",
      "43147/43147 [==============================] - 4s 95us/step - loss: 1.0790 - acc: 0.5513\n",
      "Epoch 80/100\n",
      "43147/43147 [==============================] - 5s 113us/step - loss: 1.0795 - acc: 0.5514 0s - loss: 1.0781 - \n",
      "Epoch 81/100\n",
      "43147/43147 [==============================] - 4s 96us/step - loss: 1.0779 - acc: 0.5512: 0s - loss: 1.0770 - acc: \n",
      "Epoch 82/100\n",
      "43147/43147 [==============================] - 4s 97us/step - loss: 1.0786 - acc: 0.5510\n",
      "Epoch 83/100\n",
      "43147/43147 [==============================] - 4s 94us/step - loss: 1.0781 - acc: 0.5519: \n",
      "Epoch 84/100\n",
      "43147/43147 [==============================] - 5s 112us/step - loss: 1.0784 - acc: 0.5501 0s - loss: 1.0\n",
      "Epoch 85/100\n",
      "43147/43147 [==============================] - 4s 94us/step - loss: 1.0772 - acc: 0.5521\n",
      "Epoch 86/100\n",
      "43147/43147 [==============================] - 4s 95us/step - loss: 1.0777 - acc: 0.5515\n",
      "Epoch 87/100\n",
      "43147/43147 [==============================] - 4s 94us/step - loss: 1.0784 - acc: 0.5523\n",
      "Epoch 88/100\n",
      "43147/43147 [==============================] - 4s 99us/step - loss: 1.0771 - acc: 0.5510\n",
      "Epoch 89/100\n",
      "43147/43147 [==============================] - 4s 95us/step - loss: 1.0759 - acc: 0.5533: \n",
      "Epoch 90/100\n",
      "43147/43147 [==============================] - 4s 96us/step - loss: 1.0748 - acc: 0.5545\n",
      "Epoch 91/100\n",
      "43147/43147 [==============================] - 4s 97us/step - loss: 1.0765 - acc: 0.5515\n",
      "Epoch 92/100\n",
      "43147/43147 [==============================] - 4s 96us/step - loss: 1.0757 - acc: 0.5535\n",
      "Epoch 93/100\n",
      "43147/43147 [==============================] - 4s 104us/step - loss: 1.0760 - acc: 0.5527\n",
      "Epoch 94/100\n",
      "43147/43147 [==============================] - 4s 97us/step - loss: 1.0753 - acc: 0.5535\n",
      "Epoch 95/100\n",
      "43147/43147 [==============================] - 4s 90us/step - loss: 1.0752 - acc: 0.5527\n",
      "Epoch 96/100\n",
      "43147/43147 [==============================] - 4s 94us/step - loss: 1.0750 - acc: 0.5539: 1s - loss:\n",
      "Epoch 97/100\n",
      "43147/43147 [==============================] - 5s 112us/step - loss: 1.0745 - acc: 0.5520\n",
      "Epoch 98/100\n",
      "43147/43147 [==============================] - 4s 95us/step - loss: 1.0740 - acc: 0.5537: 0s - loss: 1.0732 - acc: \n",
      "Epoch 99/100\n",
      "43147/43147 [==============================] - ETA: 0s - loss: 1.0745 - acc: 0.5531- ETA: - ETA: 0s - loss: - ETA: 0s - loss: 1.0732 - acc: 0. - 5s 115us/step - loss: 1.0745 - acc: 0.5534\n",
      "Epoch 100/100\n",
      "43147/43147 [==============================] - 5s 107us/step - loss: 1.0736 - acc: 0.5539\n"
     ]
    }
   ],
   "source": [
    "history = model.fit(X_train.values, y_train.values, epochs = 100)"
   ]
  },
  {
   "cell_type": "code",
   "execution_count": 175,
   "metadata": {},
   "outputs": [
    {
     "name": "stdout",
     "output_type": "stream",
     "text": [
      "              precision    recall  f1-score   support\n",
      "\n",
      "           1       0.56      0.88      0.69     17206\n",
      "           2       0.53      0.49      0.51     11049\n",
      "           3       0.47      0.19      0.27      9722\n",
      "           4       0.74      0.27      0.39      3912\n",
      "           5       0.85      0.48      0.61      1258\n",
      "\n",
      "    accuracy                           0.56     43147\n",
      "   macro avg       0.63      0.46      0.49     43147\n",
      "weighted avg       0.56      0.56      0.52     43147\n",
      "\n"
     ]
    }
   ],
   "source": [
    "scores = model.predict_classes(X_train.values)\n",
    "print(metrics.classification_report(y_train,scores))"
   ]
  },
  {
   "cell_type": "markdown",
   "metadata": {},
   "source": [
    "Our f1 scores are a few percentage points lower but I think this is the best version for number of nodes and layers because thi is faster than the previous and the difference is small."
   ]
  },
  {
   "cell_type": "markdown",
   "metadata": {},
   "source": [
    "Aside from layers, there are also other parameters we should try to optimize. Ideally, we would have a higher learning rate so that we could train the model faster. Let's try to find the best reasonble values for these."
   ]
  },
  {
   "cell_type": "markdown",
   "metadata": {},
   "source": [
    "Grid search will be too slow as it takes around 5 minutes to do 100 epochs on my computer so we will construct a few with different values.Let's start with e-3 and go up and down by factors of 10 as we would with an encompassing grid search. "
   ]
  },
  {
   "cell_type": "code",
   "execution_count": 176,
   "metadata": {},
   "outputs": [],
   "source": [
    "model = BuildModel(5, 18) #half as many nodes in each hidden layer\n",
    "model.compile(loss=\"sparse_categorical_crossentropy\", optimizer=keras.optimizers.SGD(lr=1e-3), metrics=[\"accuracy\"])"
   ]
  },
  {
   "cell_type": "code",
   "execution_count": 177,
   "metadata": {},
   "outputs": [
    {
     "name": "stdout",
     "output_type": "stream",
     "text": [
      "Epoch 1/50\n",
      "43147/43147 [==============================] - 7s 165us/step - loss: 1.4912 - acc: 0.3992 0s - loss: 1.4985 - acc\n",
      "Epoch 2/50\n",
      "43147/43147 [==============================] - 4s 98us/step - loss: 1.3684 - acc: 0.4131\n",
      "Epoch 3/50\n",
      "43147/43147 [==============================] - 4s 82us/step - loss: 1.3324 - acc: 0.4315\n",
      "Epoch 4/50\n",
      "43147/43147 [==============================] - 4s 92us/step - loss: 1.3152 - acc: 0.4439: 0s - loss: 1.3150 - ac\n",
      "Epoch 5/50\n",
      "43147/43147 [==============================] - 4s 98us/step - loss: 1.3043 - acc: 0.4500\n",
      "Epoch 6/50\n",
      "43147/43147 [==============================] - 4s 99us/step - loss: 1.2959 - acc: 0.4563\n",
      "Epoch 7/50\n",
      "43147/43147 [==============================] - 4s 98us/step - loss: 1.2891 - acc: 0.4607\n",
      "Epoch 8/50\n",
      "43147/43147 [==============================] - 4s 98us/step - loss: 1.2834 - acc: 0.4627\n",
      "Epoch 9/50\n",
      "43147/43147 [==============================] - 4s 102us/step - loss: 1.2786 - acc: 0.4644\n",
      "Epoch 10/50\n",
      "43147/43147 [==============================] - 5s 112us/step - loss: 1.2744 - acc: 0.4652 1s - lo\n",
      "Epoch 11/50\n",
      "43147/43147 [==============================] - 4s 100us/step - loss: 1.2705 - acc: 0.4659\n",
      "Epoch 12/50\n",
      "43147/43147 [==============================] - 4s 99us/step - loss: 1.2671 - acc: 0.4669\n",
      "Epoch 13/50\n",
      "43147/43147 [==============================] - 4s 99us/step - loss: 1.2640 - acc: 0.4684\n",
      "Epoch 14/50\n",
      "43147/43147 [==============================] - 4s 99us/step - loss: 1.2607 - acc: 0.4689\n",
      "Epoch 15/50\n",
      "43147/43147 [==============================] - 4s 98us/step - loss: 1.2576 - acc: 0.4696\n",
      "Epoch 16/50\n",
      "43147/43147 [==============================] - 4s 99us/step - loss: 1.2544 - acc: 0.4711\n",
      "Epoch 17/50\n",
      "43147/43147 [==============================] - 4s 98us/step - loss: 1.2508 - acc: 0.4733\n",
      "Epoch 18/50\n",
      "43147/43147 [==============================] - 4s 99us/step - loss: 1.2473 - acc: 0.4752\n",
      "Epoch 19/50\n",
      "43147/43147 [==============================] - 4s 100us/step - loss: 1.2436 - acc: 0.4777\n",
      "Epoch 20/50\n",
      "43147/43147 [==============================] - 4s 99us/step - loss: 1.2403 - acc: 0.4800\n",
      "Epoch 21/50\n",
      "43147/43147 [==============================] - 4s 100us/step - loss: 1.2370 - acc: 0.4836\n",
      "Epoch 22/50\n",
      "43147/43147 [==============================] - 4s 98us/step - loss: 1.2337 - acc: 0.4861\n",
      "Epoch 23/50\n",
      "43147/43147 [==============================] - 4s 100us/step - loss: 1.2305 - acc: 0.4885\n",
      "Epoch 24/50\n",
      "43147/43147 [==============================] - 4s 98us/step - loss: 1.2275 - acc: 0.4900\n",
      "Epoch 25/50\n",
      "43147/43147 [==============================] - 5s 113us/step - loss: 1.2250 - acc: 0.4922\n",
      "Epoch 26/50\n",
      "43147/43147 [==============================] - 4s 100us/step - loss: 1.2226 - acc: 0.4944 0s - loss: 1\n",
      "Epoch 27/50\n",
      "43147/43147 [==============================] - 4s 99us/step - loss: 1.2202 - acc: 0.4960\n",
      "Epoch 28/50\n",
      "43147/43147 [==============================] - 4s 100us/step - loss: 1.2179 - acc: 0.4989\n",
      "Epoch 29/50\n",
      "43147/43147 [==============================] - 4s 98us/step - loss: 1.2160 - acc: 0.5010\n",
      "Epoch 30/50\n",
      "43147/43147 [==============================] - 4s 98us/step - loss: 1.2141 - acc: 0.5037: 0s - loss: 1.2148 - acc: 0.\n",
      "Epoch 31/50\n",
      "43147/43147 [==============================] - 4s 99us/step - loss: 1.2125 - acc: 0.5060\n",
      "Epoch 32/50\n",
      "43147/43147 [==============================] - 4s 99us/step - loss: 1.2108 - acc: 0.5070\n",
      "Epoch 33/50\n",
      "43147/43147 [==============================] - 4s 99us/step - loss: 1.2093 - acc: 0.5084\n",
      "Epoch 34/50\n",
      "43147/43147 [==============================] - 4s 98us/step - loss: 1.2080 - acc: 0.5086\n",
      "Epoch 35/50\n",
      "43147/43147 [==============================] - 4s 98us/step - loss: 1.2066 - acc: 0.5107\n",
      "Epoch 36/50\n",
      "43147/43147 [==============================] - 4s 98us/step - loss: 1.2054 - acc: 0.5103: 1\n",
      "Epoch 37/50\n",
      "43147/43147 [==============================] - 4s 98us/step - loss: 1.2043 - acc: 0.5126\n",
      "Epoch 38/50\n",
      "43147/43147 [==============================] - 4s 99us/step - loss: 1.2029 - acc: 0.5124\n",
      "Epoch 39/50\n",
      "43147/43147 [==============================] - 4s 98us/step - loss: 1.2020 - acc: 0.5138\n",
      "Epoch 40/50\n",
      "43147/43147 [==============================] - 5s 110us/step - loss: 1.2008 - acc: 0.5146\n",
      "Epoch 41/50\n",
      "43147/43147 [==============================] - 4s 103us/step - loss: 1.2000 - acc: 0.5153\n",
      "Epoch 42/50\n",
      "43147/43147 [==============================] - 4s 98us/step - loss: 1.1988 - acc: 0.5159\n",
      "Epoch 43/50\n",
      "43147/43147 [==============================] - 4s 99us/step - loss: 1.1975 - acc: 0.5170\n",
      "Epoch 44/50\n",
      "43147/43147 [==============================] - 4s 97us/step - loss: 1.1968 - acc: 0.5172\n",
      "Epoch 45/50\n",
      "43147/43147 [==============================] - ETA: 0s - loss: 1.1961 - acc: 0.517 - 4s 83us/step - loss: 1.1957 - acc: 0.5175\n",
      "Epoch 46/50\n",
      "43147/43147 [==============================] - 4s 92us/step - loss: 1.1945 - acc: 0.5179\n",
      "Epoch 47/50\n",
      "43147/43147 [==============================] - 4s 100us/step - loss: 1.1933 - acc: 0.5185\n",
      "Epoch 48/50\n",
      "43147/43147 [==============================] - 4s 99us/step - loss: 1.1923 - acc: 0.5198: \n",
      "Epoch 49/50\n",
      "43147/43147 [==============================] - 4s 98us/step - loss: 1.1917 - acc: 0.5202\n",
      "Epoch 50/50\n",
      "43147/43147 [==============================] - 4s 99us/step - loss: 1.1903 - acc: 0.5212\n"
     ]
    }
   ],
   "source": [
    "history = model.fit(X_train.values, y_train.values, epochs = 50) "
   ]
  },
  {
   "cell_type": "code",
   "execution_count": 178,
   "metadata": {},
   "outputs": [
    {
     "name": "stdout",
     "output_type": "stream",
     "text": [
      "              precision    recall  f1-score   support\n",
      "\n",
      "           1       0.59      0.78      0.67     17206\n",
      "           2       0.47      0.53      0.50     11049\n",
      "           3       0.38      0.19      0.25      9722\n",
      "           4       0.42      0.24      0.30      3912\n",
      "           5       0.60      0.38      0.47      1258\n",
      "\n",
      "    accuracy                           0.52     43147\n",
      "   macro avg       0.49      0.42      0.44     43147\n",
      "weighted avg       0.50      0.52      0.49     43147\n",
      "\n"
     ]
    }
   ],
   "source": [
    "scores = model.predict_classes(X_train.values)\n",
    "print(metrics.classification_report(y_train,scores))"
   ]
  },
  {
   "cell_type": "markdown",
   "metadata": {},
   "source": [
    "This value seems to have lowered our accuracy. Let's try a lower learning rate."
   ]
  },
  {
   "cell_type": "code",
   "execution_count": 179,
   "metadata": {},
   "outputs": [],
   "source": [
    "model = BuildModel(5, 18) #half as many nodes in each hidden layer\n",
    "model.compile(loss=\"sparse_categorical_crossentropy\", optimizer=keras.optimizers.SGD(lr=1e-4), metrics=[\"accuracy\"])"
   ]
  },
  {
   "cell_type": "code",
   "execution_count": 180,
   "metadata": {},
   "outputs": [
    {
     "name": "stdout",
     "output_type": "stream",
     "text": [
      "Epoch 1/50\n",
      "43147/43147 [==============================] - 7s 152us/step - loss: 1.8323 - acc: 0.0752\n",
      "Epoch 2/50\n",
      "43147/43147 [==============================] - 4s 99us/step - loss: 1.7201 - acc: 0.3975\n",
      "Epoch 3/50\n",
      "43147/43147 [==============================] - 4s 99us/step - loss: 1.6526 - acc: 0.3988\n",
      "Epoch 4/50\n",
      "43147/43147 [==============================] - 4s 99us/step - loss: 1.6040 - acc: 0.3988\n",
      "Epoch 5/50\n",
      "43147/43147 [==============================] - 4s 101us/step - loss: 1.5659 - acc: 0.3988\n",
      "Epoch 6/50\n",
      "43147/43147 [==============================] - 4s 102us/step - loss: 1.5355 - acc: 0.3988\n",
      "Epoch 7/50\n",
      "43147/43147 [==============================] - 4s 101us/step - loss: 1.5102 - acc: 0.3988\n",
      "Epoch 8/50\n",
      "43147/43147 [==============================] - 4s 100us/step - loss: 1.4885 - acc: 0.3988\n",
      "Epoch 9/50\n",
      "43147/43147 [==============================] - 5s 106us/step - loss: 1.4695 - acc: 0.3988 0s - loss: 1\n",
      "Epoch 10/50\n",
      "43147/43147 [==============================] - 4s 100us/step - loss: 1.4529 - acc: 0.3988\n",
      "Epoch 11/50\n",
      "43147/43147 [==============================] - 5s 115us/step - loss: 1.4384 - acc: 0.3988 \n",
      "Epoch 12/50\n",
      "43147/43147 [==============================] - 5s 115us/step - loss: 1.4258 - acc: 0.3988\n",
      "Epoch 13/50\n",
      "43147/43147 [==============================] - 5s 117us/step - loss: 1.4150 - acc: 0.3988\n",
      "Epoch 14/50\n",
      "43147/43147 [==============================] - 4s 96us/step - loss: 1.4056 - acc: 0.3990\n",
      "Epoch 15/50\n",
      "43147/43147 [==============================] - 4s 98us/step - loss: 1.3975 - acc: 0.3991\n",
      "Epoch 16/50\n",
      "43147/43147 [==============================] - 4s 97us/step - loss: 1.3903 - acc: 0.4004: 0s - loss: 1.3902 \n",
      "Epoch 17/50\n",
      "43147/43147 [==============================] - 4s 103us/step - loss: 1.3839 - acc: 0.4040\n",
      "Epoch 18/50\n",
      "43147/43147 [==============================] - 4s 96us/step - loss: 1.3781 - acc: 0.4073\n",
      "Epoch 19/50\n",
      "43147/43147 [==============================] - 4s 104us/step - loss: 1.3729 - acc: 0.4112TA: 0s - loss: 1.3728 \n",
      "Epoch 20/50\n",
      "43147/43147 [==============================] - 4s 100us/step - loss: 1.3681 - acc: 0.4130\n",
      "Epoch 21/50\n",
      "43147/43147 [==============================] - 4s 99us/step - loss: 1.3637 - acc: 0.4163\n",
      "Epoch 22/50\n",
      "43147/43147 [==============================] - 4s 100us/step - loss: 1.3597 - acc: 0.4192\n",
      "Epoch 23/50\n",
      "43147/43147 [==============================] - 4s 100us/step - loss: 1.3560 - acc: 0.4222\n",
      "Epoch 24/50\n",
      "43147/43147 [==============================] - 4s 100us/step - loss: 1.3525 - acc: 0.4253 \n",
      "Epoch 25/50\n",
      "43147/43147 [==============================] - 4s 100us/step - loss: 1.3493 - acc: 0.4274\n",
      "Epoch 26/50\n",
      "43147/43147 [==============================] - 5s 110us/step - loss: 1.3464 - acc: 0.4309\n",
      "Epoch 27/50\n",
      "43147/43147 [==============================] - 4s 104us/step - loss: 1.3437 - acc: 0.4323\n",
      "Epoch 28/50\n",
      "43147/43147 [==============================] - 4s 100us/step - loss: 1.3411 - acc: 0.4343\n",
      "Epoch 29/50\n",
      "43147/43147 [==============================] - 4s 100us/step - loss: 1.3387 - acc: 0.4365\n",
      "Epoch 30/50\n",
      "43147/43147 [==============================] - 4s 100us/step - loss: 1.3365 - acc: 0.4376\n",
      "Epoch 31/50\n",
      "43147/43147 [==============================] - 4s 98us/step - loss: 1.3344 - acc: 0.4412\n",
      "Epoch 32/50\n",
      "43147/43147 [==============================] - 4s 99us/step - loss: 1.3324 - acc: 0.4417\n",
      "Epoch 33/50\n",
      "43147/43147 [==============================] - 4s 101us/step - loss: 1.3305 - acc: 0.4445\n",
      "Epoch 34/50\n",
      "43147/43147 [==============================] - 4s 100us/step - loss: 1.3286 - acc: 0.4461\n",
      "Epoch 35/50\n",
      "43147/43147 [==============================] - 4s 101us/step - loss: 1.3269 - acc: 0.4470\n",
      "Epoch 36/50\n",
      "43147/43147 [==============================] - 4s 99us/step - loss: 1.3253 - acc: 0.4489\n",
      "Epoch 37/50\n",
      "43147/43147 [==============================] - 4s 99us/step - loss: 1.3237 - acc: 0.4512\n",
      "Epoch 38/50\n",
      "43147/43147 [==============================] - 4s 98us/step - loss: 1.3221 - acc: 0.4516\n",
      "Epoch 39/50\n",
      "43147/43147 [==============================] - 4s 100us/step - loss: 1.3206 - acc: 0.4538\n",
      "Epoch 40/50\n",
      "43147/43147 [==============================] - 4s 98us/step - loss: 1.3191 - acc: 0.4543\n",
      "Epoch 41/50\n",
      "43147/43147 [==============================] - 5s 107us/step - loss: 1.3177 - acc: 0.4552 0s - loss: 1.3172 - acc: \n",
      "Epoch 42/50\n",
      "43147/43147 [==============================] - 5s 106us/step - loss: 1.3163 - acc: 0.4573\n",
      "Epoch 43/50\n",
      "43147/43147 [==============================] - 4s 100us/step - loss: 1.3150 - acc: 0.4581\n",
      "Epoch 44/50\n",
      "43147/43147 [==============================] - 4s 103us/step - loss: 1.3137 - acc: 0.4590 2s - loss - \n",
      "Epoch 45/50\n",
      "43147/43147 [==============================] - 4s 99us/step - loss: 1.3124 - acc: 0.4598: 0s - loss: 1.\n",
      "Epoch 46/50\n",
      "43147/43147 [==============================] - 4s 101us/step - loss: 1.3111 - acc: 0.4607\n",
      "Epoch 47/50\n",
      "43147/43147 [==============================] - 4s 102us/step - loss: 1.3099 - acc: 0.4627\n",
      "Epoch 48/50\n",
      "43147/43147 [==============================] - 4s 101us/step - loss: 1.3087 - acc: 0.4635\n",
      "Epoch 49/50\n",
      "43147/43147 [==============================] - 4s 101us/step - loss: 1.3075 - acc: 0.4641\n",
      "Epoch 50/50\n",
      "43147/43147 [==============================] - 4s 101us/step - loss: 1.3064 - acc: 0.4651\n"
     ]
    }
   ],
   "source": [
    "history = model.fit(X_train.values, y_train.values, epochs = 50) "
   ]
  },
  {
   "cell_type": "markdown",
   "metadata": {},
   "source": [
    "It makes sense that our accuracy score is lower with this as we need to raise the learning rate to get a more optimum convergence rate. Let's raise it to e-2"
   ]
  },
  {
   "cell_type": "code",
   "execution_count": null,
   "metadata": {},
   "outputs": [],
   "source": [
    "model = BuildModel(5, 18) #half as many nodes in each hidden layer\n",
    "model.compile(loss=\"sparse_categorical_crossentropy\", optimizer=keras.optimizers.SGD(lr=1e-2), metrics=[\"accuracy\"])\n"
   ]
  },
  {
   "cell_type": "code",
   "execution_count": 182,
   "metadata": {},
   "outputs": [
    {
     "name": "stdout",
     "output_type": "stream",
     "text": [
      "Epoch 1/50\n",
      "43147/43147 [==============================] - 7s 171us/step - loss: 1.3481 - acc: 0.4110 2s -\n",
      "Epoch 2/50\n",
      "43147/43147 [==============================] - 4s 101us/step - loss: 1.2668 - acc: 0.4541\n",
      "Epoch 3/50\n",
      "43147/43147 [==============================] - 4s 97us/step - loss: 1.2354 - acc: 0.4754\n",
      "Epoch 4/50\n",
      "43147/43147 [==============================] - 4s 101us/step - loss: 1.2138 - acc: 0.4932\n",
      "Epoch 5/50\n",
      "43147/43147 [==============================] - 4s 101us/step - loss: 1.2005 - acc: 0.5012\n",
      "Epoch 6/50\n",
      "43147/43147 [==============================] - 4s 101us/step - loss: 1.1888 - acc: 0.5079 1s\n",
      "Epoch 7/50\n",
      "43147/43147 [==============================] - 5s 104us/step - loss: 1.1798 - acc: 0.5132\n",
      "Epoch 8/50\n",
      "43147/43147 [==============================] - 5s 110us/step - loss: 1.1701 - acc: 0.5165\n",
      "Epoch 9/50\n",
      "43147/43147 [==============================] - 5s 113us/step - loss: 1.1621 - acc: 0.5162\n",
      "Epoch 10/50\n",
      "43147/43147 [==============================] - 5s 119us/step - loss: 1.1560 - acc: 0.5211\n",
      "Epoch 11/50\n",
      "43147/43147 [==============================] - 4s 100us/step - loss: 1.1498 - acc: 0.5214\n",
      "Epoch 12/50\n",
      "43147/43147 [==============================] - 4s 101us/step - loss: 1.1450 - acc: 0.5232\n",
      "Epoch 13/50\n",
      "43147/43147 [==============================] - 4s 104us/step - loss: 1.1405 - acc: 0.5249\n",
      "Epoch 14/50\n",
      "43147/43147 [==============================] - 5s 109us/step - loss: 1.1354 - acc: 0.5278\n",
      "Epoch 15/50\n",
      "43147/43147 [==============================] - 5s 119us/step - loss: 1.1325 - acc: 0.5307 1s - loss: 1\n",
      "Epoch 16/50\n",
      "43147/43147 [==============================] - 5s 107us/step - loss: 1.1273 - acc: 0.5307\n",
      "Epoch 17/50\n",
      "43147/43147 [==============================] - 4s 101us/step - loss: 1.1236 - acc: 0.5345\n",
      "Epoch 18/50\n",
      "43147/43147 [==============================] - 4s 101us/step - loss: 1.1213 - acc: 0.5342 0s - loss: 1.1217 - acc: 0.\n",
      "Epoch 19/50\n",
      "43147/43147 [==============================] - 4s 101us/step - loss: 1.1184 - acc: 0.5342\n",
      "Epoch 20/50\n",
      "43147/43147 [==============================] - 4s 101us/step - loss: 1.1159 - acc: 0.5370\n",
      "Epoch 21/50\n",
      "43147/43147 [==============================] - 4s 101us/step - loss: 1.1136 - acc: 0.5381\n",
      "Epoch 22/50\n",
      "43147/43147 [==============================] - 4s 101us/step - loss: 1.1124 - acc: 0.5387\n",
      "Epoch 23/50\n",
      "43147/43147 [==============================] - 4s 101us/step - loss: 1.1107 - acc: 0.5386\n",
      "Epoch 24/50\n",
      "43147/43147 [==============================] - 4s 101us/step - loss: 1.1082 - acc: 0.5416\n",
      "Epoch 25/50\n",
      "43147/43147 [==============================] - 4s 99us/step - loss: 1.1070 - acc: 0.5421\n",
      "Epoch 26/50\n",
      "43147/43147 [==============================] - 4s 102us/step - loss: 1.1056 - acc: 0.5418\n",
      "Epoch 27/50\n",
      "43147/43147 [==============================] - 4s 101us/step - loss: 1.1035 - acc: 0.5411\n",
      "Epoch 28/50\n",
      "43147/43147 [==============================] - 4s 101us/step - loss: 1.1033 - acc: 0.5416\n",
      "Epoch 29/50\n",
      "43147/43147 [==============================] - 4s 103us/step - loss: 1.1018 - acc: 0.5438\n",
      "Epoch 30/50\n",
      "43147/43147 [==============================] - 5s 114us/step - loss: 1.1010 - acc: 0.5435\n",
      "Epoch 31/50\n",
      "43147/43147 [==============================] - 4s 100us/step - loss: 1.0997 - acc: 0.5440\n",
      "Epoch 32/50\n",
      "43147/43147 [==============================] - 4s 101us/step - loss: 1.0980 - acc: 0.5440 1s - \n",
      "Epoch 33/50\n",
      "43147/43147 [==============================] - 4s 101us/step - loss: 1.0971 - acc: 0.5453 0s - loss: 1.0988 - acc:\n",
      "Epoch 34/50\n",
      "43147/43147 [==============================] - 4s 101us/step - loss: 1.0958 - acc: 0.5448\n",
      "Epoch 35/50\n",
      "43147/43147 [==============================] - 4s 100us/step - loss: 1.0955 - acc: 0.5456\n",
      "Epoch 36/50\n",
      "43147/43147 [==============================] - 4s 100us/step - loss: 1.0944 - acc: 0.5440\n",
      "Epoch 37/50\n",
      "43147/43147 [==============================] - 4s 100us/step - loss: 1.0933 - acc: 0.5474\n",
      "Epoch 38/50\n",
      "43147/43147 [==============================] - 4s 82us/step - loss: 1.0924 - acc: 0.5479\n",
      "Epoch 39/50\n",
      "43147/43147 [==============================] - 4s 98us/step - loss: 1.0919 - acc: 0.5462\n",
      "Epoch 40/50\n",
      "43147/43147 [==============================] - 4s 100us/step - loss: 1.0903 - acc: 0.5481\n",
      "Epoch 41/50\n",
      "43147/43147 [==============================] - 4s 100us/step - loss: 1.0904 - acc: 0.5485\n",
      "Epoch 42/50\n",
      "43147/43147 [==============================] - 4s 100us/step - loss: 1.0893 - acc: 0.5481\n",
      "Epoch 43/50\n",
      "43147/43147 [==============================] - 4s 100us/step - loss: 1.0887 - acc: 0.5479\n",
      "Epoch 44/50\n",
      "43147/43147 [==============================] - 4s 101us/step - loss: 1.0883 - acc: 0.5481\n",
      "Epoch 45/50\n",
      "43147/43147 [==============================] - 5s 111us/step - loss: 1.0871 - acc: 0.5490\n",
      "Epoch 46/50\n",
      "43147/43147 [==============================] - 4s 104us/step - loss: 1.0871 - acc: 0.5501\n",
      "Epoch 47/50\n",
      "43147/43147 [==============================] - 4s 100us/step - loss: 1.0859 - acc: 0.5499\n",
      "Epoch 48/50\n",
      "43147/43147 [==============================] - 4s 101us/step - loss: 1.0848 - acc: 0.5496\n",
      "Epoch 49/50\n",
      "43147/43147 [==============================] - 4s 102us/step - loss: 1.0851 - acc: 0.5500 0s - loss: 1.0850 - acc: 0.54\n",
      "Epoch 50/50\n",
      "43147/43147 [==============================] - 4s 102us/step - loss: 1.0843 - acc: 0.5508\n"
     ]
    }
   ],
   "source": [
    "history = model.fit(X_train.values, y_train.values, epochs = 50) "
   ]
  },
  {
   "cell_type": "markdown",
   "metadata": {},
   "source": [
    "This value seems to be better than the default. This model has the same accuracy as the model with the default parameters except it reached this amount in half the number of epochs. "
   ]
  },
  {
   "cell_type": "markdown",
   "metadata": {},
   "source": [
    "Model Selection Criteria"
   ]
  },
  {
   "cell_type": "markdown",
   "metadata": {},
   "source": [
    "The best model we found had an accuracy around 57 percent. We were able to find a model that performs much faster wiht 55 percent. I think this model should be used because it is less complex. Also we found that we could change the default learning rate to speed up the learning."
   ]
  },
  {
   "cell_type": "markdown",
   "metadata": {},
   "source": [
    "Let's apply cross validation to see how this model does on new data."
   ]
  },
  {
   "cell_type": "code",
   "execution_count": 240,
   "metadata": {},
   "outputs": [],
   "source": [
    "from sklearn.model_selection import StratifiedKFold\n",
    "\n",
    "\n",
    "def create_model():\n",
    "    model = build_model(5,18)\n",
    "    model.compile(loss=\"sparse_categorical_crossentropy\", optimizer=keras.optimizers.SGD(lr=1e-2), metrics=[\"accuracy\"])\n",
    "    return model\n",
    "\n",
    "def train_and_evaluate_model(model, train_x, train_y, test_x, test_y ):\n",
    "    print(\"building\")\n",
    "    model.fit(train_x.values, train_y.values, epochs = 20, verbose = 0) # disable printing out a million lines\n",
    "    scores = model.predict_classes(train_x)\n",
    "    print(f'The accuracy score on the training data is {metrics.accuracy_score(scores, train_y)}')\n",
    "    scores = model.predict_classes(test_x)\n",
    "    print(f'The accuracy score on the test data is {metrics.accuracy_score(scores, test_y)}')\n",
    "        "
   ]
  },
  {
   "cell_type": "markdown",
   "metadata": {},
   "source": [
    "I'm going to run this with less epochs because my computer freezes up when I do more."
   ]
  },
  {
   "cell_type": "code",
   "execution_count": 241,
   "metadata": {},
   "outputs": [
    {
     "name": "stdout",
     "output_type": "stream",
     "text": [
      "Running Fold 1 / 5\n",
      "building\n",
      "The accuracy score on the training data is 0.5315931280238723\n",
      "The accuracy score on the test data is 0.5274623406720742\n",
      "Running Fold 2 / 5\n",
      "building\n",
      "The accuracy score on the training data is 0.5318828403395428\n",
      "The accuracy score on the test data is 0.5358053302433372\n",
      "Running Fold 3 / 5\n",
      "building\n",
      "The accuracy score on the training data is 0.5340981516889739\n",
      "The accuracy score on the test data is 0.5272916908100591\n",
      "Running Fold 4 / 5\n",
      "building\n",
      "The accuracy score on the training data is 0.532852424821832\n",
      "The accuracy score on the test data is 0.5336655464132576\n",
      "Running Fold 5 / 5\n",
      "building\n",
      "The accuracy score on the training data is 0.5299553855959209\n",
      "The accuracy score on the test data is 0.5274075790937536\n"
     ]
    }
   ],
   "source": [
    "X_train_c = X_train.copy().reset_index()\n",
    "X_train_c.drop('index', axis = 1, inplace = True)\n",
    "y_train_c = y_train.copy().reset_index()\n",
    "y_train_c.drop('index', axis = 1, inplace = True)\n",
    "\n",
    "\n",
    "n_folds = 5\n",
    "skf = StratifiedKFold(n_splits=5, shuffle=True)\n",
    "\n",
    "for i, (train, test) in enumerate(skf.split(X_train,y_train)):\n",
    "            print (\"Running Fold\", i+1, \"/\", n_folds)\n",
    "            model = None # Clearing the NN.\n",
    "            model = create_model()\n",
    "            train_and_evaluate_model(model, X_train_c.iloc[train], y_train_c.iloc[train], X_train_c.iloc[test], y_train_c.iloc[test])"
   ]
  },
  {
   "cell_type": "markdown",
   "metadata": {},
   "source": [
    "Our cross validation shows us we aren't overfitting the data as our scores are around the same. "
   ]
  },
  {
   "cell_type": "markdown",
   "metadata": {},
   "source": [
    "Let's use this model on our test set. I think all of our models are doing similar but this has the best hyper parameters as 1. it is not overly complex and 2. the learning rate is the highest without negativly impacting the model."
   ]
  },
  {
   "cell_type": "code",
   "execution_count": 242,
   "metadata": {},
   "outputs": [],
   "source": [
    "model = create_model()"
   ]
  },
  {
   "cell_type": "code",
   "execution_count": 244,
   "metadata": {},
   "outputs": [
    {
     "name": "stdout",
     "output_type": "stream",
     "text": [
      "Epoch 1/100\n",
      "43147/43147 [==============================] - 4s 103us/step - loss: 1.0704 - acc: 0.5547\n",
      "Epoch 2/100\n",
      "43147/43147 [==============================] - 6s 130us/step - loss: 1.0699 - acc: 0.5550\n",
      "Epoch 3/100\n",
      "43147/43147 [==============================] - 5s 113us/step - loss: 1.0690 - acc: 0.5557\n",
      "Epoch 4/100\n",
      "43147/43147 [==============================] - 5s 112us/step - loss: 1.0689 - acc: 0.5553\n",
      "Epoch 5/100\n",
      "43147/43147 [==============================] - 4s 104us/step - loss: 1.0679 - acc: 0.5559\n",
      "Epoch 6/100\n",
      "43147/43147 [==============================] - 5s 126us/step - loss: 1.0682 - acc: 0.5555 0s - loss: 1.0696 - acc: \n",
      "Epoch 7/100\n",
      "43147/43147 [==============================] - 6s 135us/step - loss: 1.0676 - acc: 0.5568\n",
      "Epoch 8/100\n",
      "43147/43147 [==============================] - 6s 145us/step - loss: 1.0676 - acc: 0.5567\n",
      "Epoch 9/100\n",
      "43147/43147 [==============================] - 5s 110us/step - loss: 1.0673 - acc: 0.5561\n",
      "Epoch 10/100\n",
      "43147/43147 [==============================] - 5s 107us/step - loss: 1.0669 - acc: 0.5555\n",
      "Epoch 11/100\n",
      "43147/43147 [==============================] - 5s 110us/step - loss: 1.0665 - acc: 0.5563\n",
      "Epoch 12/100\n",
      "43147/43147 [==============================] - 5s 117us/step - loss: 1.0662 - acc: 0.5563\n",
      "Epoch 13/100\n",
      "43147/43147 [==============================] - 7s 154us/step - loss: 1.0657 - acc: 0.5561\n",
      "Epoch 14/100\n",
      "43147/43147 [==============================] - 6s 133us/step - loss: 1.0655 - acc: 0.5571\n",
      "Epoch 15/100\n",
      "43147/43147 [==============================] - 6s 148us/step - loss: 1.0657 - acc: 0.5569\n",
      "Epoch 16/100\n",
      "43147/43147 [==============================] - 6s 132us/step - loss: 1.0656 - acc: 0.5577\n",
      "Epoch 17/100\n",
      "43147/43147 [==============================] - 5s 112us/step - loss: 1.0648 - acc: 0.5575 0s - loss: 1.0641 - acc: 0.5\n",
      "Epoch 18/100\n",
      "43147/43147 [==============================] - 5s 123us/step - loss: 1.0647 - acc: 0.5577\n",
      "Epoch 19/100\n",
      "43147/43147 [==============================] - 5s 127us/step - loss: 1.0648 - acc: 0.5556\n",
      "Epoch 20/100\n",
      "43147/43147 [==============================] - 5s 118us/step - loss: 1.0642 - acc: 0.5579\n",
      "Epoch 21/100\n",
      "43147/43147 [==============================] - 5s 117us/step - loss: 1.0639 - acc: 0.5580\n",
      "Epoch 22/100\n",
      "43147/43147 [==============================] - 5s 114us/step - loss: 1.0646 - acc: 0.5573\n",
      "Epoch 23/100\n",
      "43147/43147 [==============================] - 5s 119us/step - loss: 1.0631 - acc: 0.5584\n",
      "Epoch 24/100\n",
      "43147/43147 [==============================] - 5s 118us/step - loss: 1.0631 - acc: 0.5586\n",
      "Epoch 25/100\n",
      "43147/43147 [==============================] - 5s 122us/step - loss: 1.0628 - acc: 0.5573\n",
      "Epoch 26/100\n",
      "43147/43147 [==============================] - 5s 117us/step - loss: 1.0619 - acc: 0.5602\n",
      "Epoch 27/100\n",
      "43147/43147 [==============================] - 5s 114us/step - loss: 1.0620 - acc: 0.5577\n",
      "Epoch 28/100\n",
      "43147/43147 [==============================] - 6s 131us/step - loss: 1.0622 - acc: 0.5593\n",
      "Epoch 29/100\n",
      "43147/43147 [==============================] - 5s 127us/step - loss: 1.0623 - acc: 0.5581\n",
      "Epoch 30/100\n",
      "43147/43147 [==============================] - 5s 115us/step - loss: 1.0612 - acc: 0.5577\n",
      "Epoch 31/100\n",
      "43147/43147 [==============================] - 5s 113us/step - loss: 1.0616 - acc: 0.5599\n",
      "Epoch 32/100\n",
      "43147/43147 [==============================] - 5s 120us/step - loss: 1.0608 - acc: 0.5577\n",
      "Epoch 33/100\n",
      "43147/43147 [==============================] - 5s 115us/step - loss: 1.0605 - acc: 0.5587\n",
      "Epoch 34/100\n",
      "43147/43147 [==============================] - 5s 124us/step - loss: 1.0603 - acc: 0.5587\n",
      "Epoch 35/100\n",
      "43147/43147 [==============================] - 5s 119us/step - loss: 1.0599 - acc: 0.5581\n",
      "Epoch 36/100\n",
      "43147/43147 [==============================] - 5s 120us/step - loss: 1.0595 - acc: 0.5596\n",
      "Epoch 37/100\n",
      "43147/43147 [==============================] - 5s 117us/step - loss: 1.0596 - acc: 0.5594\n",
      "Epoch 38/100\n",
      "43147/43147 [==============================] - 5s 118us/step - loss: 1.0584 - acc: 0.5599\n",
      "Epoch 39/100\n",
      "43147/43147 [==============================] - 5s 115us/step - loss: 1.0590 - acc: 0.5598\n",
      "Epoch 40/100\n",
      "43147/43147 [==============================] - 5s 124us/step - loss: 1.0585 - acc: 0.5594\n",
      "Epoch 41/100\n",
      "43147/43147 [==============================] - 7s 165us/step - loss: 1.0582 - acc: 0.5599\n",
      "Epoch 42/100\n",
      "43147/43147 [==============================] - 5s 125us/step - loss: 1.0570 - acc: 0.5602\n",
      "Epoch 43/100\n",
      "43147/43147 [==============================] - 5s 121us/step - loss: 1.0578 - acc: 0.5615\n",
      "Epoch 44/100\n",
      "43147/43147 [==============================] - 5s 125us/step - loss: 1.0567 - acc: 0.5618\n",
      "Epoch 45/100\n",
      "43147/43147 [==============================] - 5s 122us/step - loss: 1.0576 - acc: 0.5597\n",
      "Epoch 46/100\n",
      "43147/43147 [==============================] - 5s 122us/step - loss: 1.0565 - acc: 0.5606\n",
      "Epoch 47/100\n",
      "43147/43147 [==============================] - 5s 116us/step - loss: 1.0571 - acc: 0.5597\n",
      "Epoch 48/100\n",
      "43147/43147 [==============================] - 5s 115us/step - loss: 1.0562 - acc: 0.5594\n",
      "Epoch 49/100\n",
      "43147/43147 [==============================] - 6s 130us/step - loss: 1.0557 - acc: 0.5608\n",
      "Epoch 50/100\n",
      "43147/43147 [==============================] - 5s 112us/step - loss: 1.0550 - acc: 0.5624\n",
      "Epoch 51/100\n",
      "43147/43147 [==============================] - 5s 113us/step - loss: 1.0552 - acc: 0.5616\n",
      "Epoch 52/100\n",
      "43147/43147 [==============================] - 6s 139us/step - loss: 1.0552 - acc: 0.5604\n",
      "Epoch 53/100\n",
      "43147/43147 [==============================] - 9s 213us/step - loss: 1.0555 - acc: 0.5609 3s - loss \n",
      "Epoch 54/100\n",
      "43147/43147 [==============================] - 5s 124us/step - loss: 1.0553 - acc: 0.5623 0s - loss: 1.0551 - acc: 0.5\n",
      "Epoch 55/100\n",
      "43147/43147 [==============================] - 5s 126us/step - loss: 1.0539 - acc: 0.5630\n",
      "Epoch 56/100\n",
      "43147/43147 [==============================] - 5s 112us/step - loss: 1.0549 - acc: 0.5620\n",
      "Epoch 57/100\n",
      "43147/43147 [==============================] - 5s 119us/step - loss: 1.0538 - acc: 0.5615\n",
      "Epoch 58/100\n",
      "43147/43147 [==============================] - 5s 112us/step - loss: 1.0549 - acc: 0.5613\n",
      "Epoch 59/100\n",
      "43147/43147 [==============================] - 5s 112us/step - loss: 1.0539 - acc: 0.5599\n",
      "Epoch 60/100\n",
      "43147/43147 [==============================] - 5s 127us/step - loss: 1.0540 - acc: 0.5627\n",
      "Epoch 61/100\n",
      "43147/43147 [==============================] - 6s 142us/step - loss: 1.0529 - acc: 0.5632\n",
      "Epoch 62/100\n",
      "43147/43147 [==============================] - 5s 113us/step - loss: 1.0534 - acc: 0.5613\n",
      "Epoch 63/100\n",
      "43147/43147 [==============================] - 5s 124us/step - loss: 1.0534 - acc: 0.5603\n",
      "Epoch 64/100\n",
      "43147/43147 [==============================] - 5s 123us/step - loss: 1.0527 - acc: 0.5628\n",
      "Epoch 65/100\n",
      "43147/43147 [==============================] - 6s 133us/step - loss: 1.0533 - acc: 0.5619 0s - loss: 1.\n",
      "Epoch 66/100\n",
      "43147/43147 [==============================] - 5s 120us/step - loss: 1.0523 - acc: 0.5614\n",
      "Epoch 67/100\n",
      "43147/43147 [==============================] - 5s 113us/step - loss: 1.0520 - acc: 0.5633\n",
      "Epoch 68/100\n",
      "43147/43147 [==============================] - 5s 126us/step - loss: 1.0515 - acc: 0.5633\n",
      "Epoch 69/100\n",
      "43147/43147 [==============================] - 6s 138us/step - loss: 1.0518 - acc: 0.5627\n",
      "Epoch 70/100\n",
      "43147/43147 [==============================] - 5s 118us/step - loss: 1.0515 - acc: 0.5634\n",
      "Epoch 71/100\n",
      "43147/43147 [==============================] - 5s 117us/step - loss: 1.0519 - acc: 0.5622\n",
      "Epoch 72/100\n",
      "43147/43147 [==============================] - 5s 118us/step - loss: 1.0515 - acc: 0.5622\n",
      "Epoch 73/100\n",
      "43147/43147 [==============================] - 5s 115us/step - loss: 1.0512 - acc: 0.5627\n",
      "Epoch 74/100\n",
      "43147/43147 [==============================] - 5s 120us/step - loss: 1.0516 - acc: 0.5618\n",
      "Epoch 75/100\n",
      "43147/43147 [==============================] - 5s 117us/step - loss: 1.0505 - acc: 0.5631 1s - los\n",
      "Epoch 76/100\n",
      "43147/43147 [==============================] - 5s 122us/step - loss: 1.0504 - acc: 0.5652\n",
      "Epoch 77/100\n",
      "43147/43147 [==============================] - 5s 115us/step - loss: 1.0501 - acc: 0.5630\n",
      "Epoch 78/100\n",
      "43147/43147 [==============================] - 5s 125us/step - loss: 1.0503 - acc: 0.5624\n",
      "Epoch 79/100\n"
     ]
    },
    {
     "name": "stdout",
     "output_type": "stream",
     "text": [
      "43147/43147 [==============================] - 5s 109us/step - loss: 1.0505 - acc: 0.5638\n",
      "Epoch 80/100\n",
      "43147/43147 [==============================] - 5s 112us/step - loss: 1.0496 - acc: 0.5624\n",
      "Epoch 81/100\n",
      "43147/43147 [==============================] - 5s 115us/step - loss: 1.0502 - acc: 0.5621\n",
      "Epoch 82/100\n",
      "43147/43147 [==============================] - 5s 122us/step - loss: 1.0491 - acc: 0.5626\n",
      "Epoch 83/100\n",
      "43147/43147 [==============================] - 6s 132us/step - loss: 1.0493 - acc: 0.5628\n",
      "Epoch 84/100\n",
      "43147/43147 [==============================] - 5s 118us/step - loss: 1.0493 - acc: 0.5628\n",
      "Epoch 85/100\n",
      "43147/43147 [==============================] - 5s 112us/step - loss: 1.0483 - acc: 0.5632\n",
      "Epoch 86/100\n",
      "43147/43147 [==============================] - 5s 110us/step - loss: 1.0483 - acc: 0.5653\n",
      "Epoch 87/100\n",
      "43147/43147 [==============================] - 5s 109us/step - loss: 1.0489 - acc: 0.5640\n",
      "Epoch 88/100\n",
      "43147/43147 [==============================] - 5s 111us/step - loss: 1.0488 - acc: 0.5631\n",
      "Epoch 89/100\n",
      "43147/43147 [==============================] - 5s 111us/step - loss: 1.0482 - acc: 0.5638\n",
      "Epoch 90/100\n",
      "43147/43147 [==============================] - 5s 110us/step - loss: 1.0481 - acc: 0.5643\n",
      "Epoch 91/100\n",
      "43147/43147 [==============================] - 5s 124us/step - loss: 1.0482 - acc: 0.5643\n",
      "Epoch 92/100\n",
      "43147/43147 [==============================] - 5s 114us/step - loss: 1.0481 - acc: 0.5655\n",
      "Epoch 93/100\n",
      "43147/43147 [==============================] - 5s 110us/step - loss: 1.0477 - acc: 0.5641\n",
      "Epoch 94/100\n",
      "43147/43147 [==============================] - 5s 110us/step - loss: 1.0459 - acc: 0.5668\n",
      "Epoch 95/100\n",
      "43147/43147 [==============================] - 5s 110us/step - loss: 1.0465 - acc: 0.5649\n",
      "Epoch 96/100\n",
      "43147/43147 [==============================] - 5s 112us/step - loss: 1.0469 - acc: 0.5652\n",
      "Epoch 97/100\n",
      "43147/43147 [==============================] - 5s 110us/step - loss: 1.0469 - acc: 0.5632\n",
      "Epoch 98/100\n",
      "43147/43147 [==============================] - 5s 111us/step - loss: 1.0467 - acc: 0.5643\n",
      "Epoch 99/100\n",
      "43147/43147 [==============================] - 5s 112us/step - loss: 1.0460 - acc: 0.5657\n",
      "Epoch 100/100\n",
      "43147/43147 [==============================] - 5s 110us/step - loss: 1.0463 - acc: 0.5650\n"
     ]
    },
    {
     "data": {
      "text/plain": [
       "<keras.callbacks.History at 0x1abee1d39b0>"
      ]
     },
     "execution_count": 244,
     "metadata": {},
     "output_type": "execute_result"
    }
   ],
   "source": [
    "model.fit(X_train.values,y_train.values, epochs = 100, verbose = 1) # 100 we saw is high enough that it stops improving so much after."
   ]
  },
  {
   "cell_type": "code",
   "execution_count": null,
   "metadata": {},
   "outputs": [],
   "source": []
  },
  {
   "cell_type": "code",
   "execution_count": 247,
   "metadata": {},
   "outputs": [
    {
     "name": "stdout",
     "output_type": "stream",
     "text": [
      "The accuracy score on the test data is 0.547232780198387\n",
      "              precision    recall  f1-score   support\n",
      "\n",
      "           1       0.59      0.82      0.68      4343\n",
      "           2       0.54      0.45      0.49      2740\n",
      "           3       0.37      0.26      0.31      2358\n",
      "           4       0.55      0.33      0.41       994\n",
      "           5       0.78      0.49      0.60       352\n",
      "\n",
      "    accuracy                           0.55     10787\n",
      "   macro avg       0.57      0.47      0.50     10787\n",
      "weighted avg       0.53      0.55      0.53     10787\n",
      "\n"
     ]
    }
   ],
   "source": [
    "scores = model.predict_classes(X_test.values)\n",
    "print(f'The accuracy score on the test data is {metrics.accuracy_score(scores, y_test)}')\n",
    "print(metrics.classification_report(y_test,scores))"
   ]
  },
  {
   "cell_type": "code",
   "execution_count": 250,
   "metadata": {},
   "outputs": [
    {
     "data": {
      "text/plain": [
       "1    6059\n",
       "2    2259\n",
       "3    1656\n",
       "4     593\n",
       "5     220\n",
       "dtype: int64"
      ]
     },
     "execution_count": 250,
     "metadata": {},
     "output_type": "execute_result"
    }
   ],
   "source": [
    "pd.Series(scores).value_counts()"
   ]
  },
  {
   "cell_type": "code",
   "execution_count": 251,
   "metadata": {},
   "outputs": [
    {
     "data": {
      "text/plain": [
       "1    4343\n",
       "2    2740\n",
       "3    2358\n",
       "4     994\n",
       "5     352\n",
       "Name: cut, dtype: int64"
      ]
     },
     "execution_count": 251,
     "metadata": {},
     "output_type": "execute_result"
    }
   ],
   "source": [
    "y_test.value_counts()"
   ]
  },
  {
   "cell_type": "markdown",
   "metadata": {},
   "source": [
    "Overall, our model is predicting too many ones but it is still predicting values in other categories. Each category has a precision above .5 except for category 3 which has a precision of .37 meaning it isn't able to predict it so well. This makes sense though as predicting the exact value of a class in the middle could be harder. We see that our model is correct most of the time it predicts a category 5 with .78. Remember 5 is the worst variable."
   ]
  },
  {
   "cell_type": "markdown",
   "metadata": {},
   "source": [
    "Overall, I don't think this model should be used. We saw in the assignment last week models like XGBoost and Random Forest outperform this model and is a bit simpler and less of a black box."
   ]
  },
  {
   "cell_type": "markdown",
   "metadata": {},
   "source": [
    "Conclusion"
   ]
  },
  {
   "cell_type": "markdown",
   "metadata": {},
   "source": [
    "1. We saw from our EDA that many of our features were correlated, although the correlations were weaker with the cut variable.\n",
    "2. Neural Nets did not suffer as much from overfitting as the random forest from last week yet overall performed a bit worse. \n",
    "3. We need around 100 epochs to achieve the greatest performance. The other parameters didn't seem to effect the model too much. If we had more compute power we could try more than 100 as we saw the performance was still increasing after 100."
   ]
  },
  {
   "cell_type": "code",
   "execution_count": null,
   "metadata": {},
   "outputs": [],
   "source": []
  }
 ],
 "metadata": {
  "kernelspec": {
   "display_name": "Python 3",
   "language": "python",
   "name": "python3"
  },
  "language_info": {
   "codemirror_mode": {
    "name": "ipython",
    "version": 3
   },
   "file_extension": ".py",
   "mimetype": "text/x-python",
   "name": "python",
   "nbconvert_exporter": "python",
   "pygments_lexer": "ipython3",
   "version": "3.7.1"
  }
 },
 "nbformat": 4,
 "nbformat_minor": 2
}
