{
 "cells": [
  {
   "cell_type": "markdown",
   "metadata": {},
   "source": [
    "Benny Cohen\n",
    "\n",
    "7/9/2020\n",
    "\n",
    "Data Science Project 2"
   ]
  },
  {
   "cell_type": "markdown",
   "metadata": {},
   "source": [
    "Link to summary video: https://screencast-o-matic.com/watch/cYiqh0ElqL"
   ]
  },
  {
   "cell_type": "markdown",
   "metadata": {},
   "source": [
    "### Introduction"
   ]
  },
  {
   "cell_type": "markdown",
   "metadata": {},
   "source": [
    "In this notebook, we will explore a dataset about online retailers. The dataset contains various information about the users who visit the websites. We would like to use this information to predict whether a user would be profitable and make a conversion.\n",
    "\n",
    "To do this, we will use clustering to create our target variable, 'Revenue'. This will be a binary variable, 1 for making a profit, and 1 without. We will then compare this variable with the known labels to evaluate our clustering algorithm.\n",
    "\n",
    "After creating each clustering, we will also do some eda to see if we can tell the difference between our clusters.\n",
    "\n",
    "Afterwards, we will create an SVM model to predict the Revenue column. We will evaluate this model using the known labels and the labels we got through clustering. "
   ]
  },
  {
   "cell_type": "markdown",
   "metadata": {},
   "source": [
    "### Pre-Clustering Exploratory Data Analysis"
   ]
  },
  {
   "cell_type": "code",
   "execution_count": 2,
   "metadata": {},
   "outputs": [],
   "source": [
    "import pandas as pd\n",
    "import matplotlib.pyplot as plt\n",
    "%matplotlib inline"
   ]
  },
  {
   "cell_type": "code",
   "execution_count": 3,
   "metadata": {},
   "outputs": [],
   "source": [
    "username = 'cohenb51'\n",
    "path = 'Katz_School/develop/DAV6150/project2/Project2_Data.csv'\n",
    "df = pd.read_csv(f'https://raw.githubusercontent.com/{username}/{path}')"
   ]
  },
  {
   "cell_type": "code",
   "execution_count": 4,
   "metadata": {},
   "outputs": [
    {
     "data": {
      "text/html": [
       "<div>\n",
       "<style scoped>\n",
       "    .dataframe tbody tr th:only-of-type {\n",
       "        vertical-align: middle;\n",
       "    }\n",
       "\n",
       "    .dataframe tbody tr th {\n",
       "        vertical-align: top;\n",
       "    }\n",
       "\n",
       "    .dataframe thead th {\n",
       "        text-align: right;\n",
       "    }\n",
       "</style>\n",
       "<table border=\"1\" class=\"dataframe\">\n",
       "  <thead>\n",
       "    <tr style=\"text-align: right;\">\n",
       "      <th></th>\n",
       "      <th>Administrative</th>\n",
       "      <th>Administrative_Duration</th>\n",
       "      <th>Informational</th>\n",
       "      <th>Informational_Duration</th>\n",
       "      <th>ProductRelated</th>\n",
       "      <th>ProductRelated_Duration</th>\n",
       "      <th>BounceRates</th>\n",
       "      <th>ExitRates</th>\n",
       "      <th>PageValues</th>\n",
       "      <th>SpecialDay</th>\n",
       "      <th>Month</th>\n",
       "      <th>OperatingSystems</th>\n",
       "      <th>Browser</th>\n",
       "      <th>Region</th>\n",
       "      <th>TrafficType</th>\n",
       "      <th>VisitorType</th>\n",
       "      <th>Weekend</th>\n",
       "    </tr>\n",
       "  </thead>\n",
       "  <tbody>\n",
       "    <tr>\n",
       "      <th>0</th>\n",
       "      <td>0</td>\n",
       "      <td>0.0</td>\n",
       "      <td>0</td>\n",
       "      <td>0.0</td>\n",
       "      <td>8</td>\n",
       "      <td>222.000000</td>\n",
       "      <td>0.000000</td>\n",
       "      <td>0.028571</td>\n",
       "      <td>53.474571</td>\n",
       "      <td>0.0</td>\n",
       "      <td>May</td>\n",
       "      <td>1</td>\n",
       "      <td>1</td>\n",
       "      <td>1</td>\n",
       "      <td>2</td>\n",
       "      <td>New_Visitor</td>\n",
       "      <td>True</td>\n",
       "    </tr>\n",
       "    <tr>\n",
       "      <th>1</th>\n",
       "      <td>0</td>\n",
       "      <td>0.0</td>\n",
       "      <td>0</td>\n",
       "      <td>0.0</td>\n",
       "      <td>14</td>\n",
       "      <td>1037.500000</td>\n",
       "      <td>0.014286</td>\n",
       "      <td>0.047619</td>\n",
       "      <td>0.000000</td>\n",
       "      <td>0.0</td>\n",
       "      <td>Mar</td>\n",
       "      <td>2</td>\n",
       "      <td>2</td>\n",
       "      <td>4</td>\n",
       "      <td>2</td>\n",
       "      <td>Returning_Visitor</td>\n",
       "      <td>False</td>\n",
       "    </tr>\n",
       "    <tr>\n",
       "      <th>2</th>\n",
       "      <td>4</td>\n",
       "      <td>37.5</td>\n",
       "      <td>2</td>\n",
       "      <td>82.0</td>\n",
       "      <td>4</td>\n",
       "      <td>96.625000</td>\n",
       "      <td>0.000000</td>\n",
       "      <td>0.017500</td>\n",
       "      <td>0.000000</td>\n",
       "      <td>0.0</td>\n",
       "      <td>Nov</td>\n",
       "      <td>2</td>\n",
       "      <td>2</td>\n",
       "      <td>9</td>\n",
       "      <td>2</td>\n",
       "      <td>New_Visitor</td>\n",
       "      <td>False</td>\n",
       "    </tr>\n",
       "    <tr>\n",
       "      <th>3</th>\n",
       "      <td>4</td>\n",
       "      <td>115.7</td>\n",
       "      <td>0</td>\n",
       "      <td>0.0</td>\n",
       "      <td>16</td>\n",
       "      <td>655.383333</td>\n",
       "      <td>0.000000</td>\n",
       "      <td>0.012037</td>\n",
       "      <td>0.000000</td>\n",
       "      <td>0.0</td>\n",
       "      <td>Nov</td>\n",
       "      <td>1</td>\n",
       "      <td>1</td>\n",
       "      <td>2</td>\n",
       "      <td>3</td>\n",
       "      <td>Returning_Visitor</td>\n",
       "      <td>False</td>\n",
       "    </tr>\n",
       "    <tr>\n",
       "      <th>4</th>\n",
       "      <td>1</td>\n",
       "      <td>60.0</td>\n",
       "      <td>1</td>\n",
       "      <td>15.0</td>\n",
       "      <td>26</td>\n",
       "      <td>670.166667</td>\n",
       "      <td>0.000000</td>\n",
       "      <td>0.003846</td>\n",
       "      <td>0.000000</td>\n",
       "      <td>0.0</td>\n",
       "      <td>May</td>\n",
       "      <td>2</td>\n",
       "      <td>2</td>\n",
       "      <td>3</td>\n",
       "      <td>4</td>\n",
       "      <td>Returning_Visitor</td>\n",
       "      <td>False</td>\n",
       "    </tr>\n",
       "  </tbody>\n",
       "</table>\n",
       "</div>"
      ],
      "text/plain": [
       "   Administrative  Administrative_Duration  Informational  \\\n",
       "0               0                      0.0              0   \n",
       "1               0                      0.0              0   \n",
       "2               4                     37.5              2   \n",
       "3               4                    115.7              0   \n",
       "4               1                     60.0              1   \n",
       "\n",
       "   Informational_Duration  ProductRelated  ProductRelated_Duration  \\\n",
       "0                     0.0               8               222.000000   \n",
       "1                     0.0              14              1037.500000   \n",
       "2                    82.0               4                96.625000   \n",
       "3                     0.0              16               655.383333   \n",
       "4                    15.0              26               670.166667   \n",
       "\n",
       "   BounceRates  ExitRates  PageValues  SpecialDay Month  OperatingSystems  \\\n",
       "0     0.000000   0.028571   53.474571         0.0   May                 1   \n",
       "1     0.014286   0.047619    0.000000         0.0   Mar                 2   \n",
       "2     0.000000   0.017500    0.000000         0.0   Nov                 2   \n",
       "3     0.000000   0.012037    0.000000         0.0   Nov                 1   \n",
       "4     0.000000   0.003846    0.000000         0.0   May                 2   \n",
       "\n",
       "   Browser  Region  TrafficType        VisitorType  Weekend  \n",
       "0        1       1            2        New_Visitor     True  \n",
       "1        2       4            2  Returning_Visitor    False  \n",
       "2        2       9            2        New_Visitor    False  \n",
       "3        1       2            3  Returning_Visitor    False  \n",
       "4        2       3            4  Returning_Visitor    False  "
      ]
     },
     "execution_count": 4,
     "metadata": {},
     "output_type": "execute_result"
    }
   ],
   "source": [
    "df.head()"
   ]
  },
  {
   "cell_type": "markdown",
   "metadata": {},
   "source": [
    "We could group our columns into various types. \n",
    "#### Web site visits per category:\n",
    "1. \tAdministrative - how many times did the user visit administrative websites.\n",
    "2. Informational - how many times did the user visit informational websites.\n",
    "3. Product - how many times did the user visit product websites.\n",
    "\n",
    "These all should be integer data. \n",
    "\n",
    "#### Web site duration per category:\n",
    "1. Administrative_Duration\n",
    "2. Informational_Duration\n",
    "3. Product_Duration\n",
    "\n",
    "These variables give the duration spent on each of the topics.\n",
    "These are continuous data. \n",
    "\n",
    "#### User Metadata\n",
    "1. OperatingSystems - The operating system the user is using \n",
    "2. Browser - The browser the user is using. \n",
    "3. Region\t- The region the traffic is coming from.\n",
    "4. TrafficType - The type of internet traffic.\n",
    "5. VisitorType - Labels type of user (returning or non returning)\n",
    "6. Weekend - boolean for value set to true if it is a weekday.\n",
    "\n",
    "These are all categorical variables. \n",
    "\n",
    "\n",
    "#### Other\n",
    "Bounce Rate - percent of users who enter the site and then leave without triggering any other requests. This variable is actually on a different grain as it is on the site level.This is a decimal.\n",
    "\n",
    "Exit Rate - for all pageviews to the page, the percentage that were the last in the session. In other words, this value is the ratio of users who exit the domain after viewing this page. This naturally is strongly correlated to the Bounce Rate.\n",
    "\n",
    "Page value is calculated as such https://support.google.com/analytics/answer/2695658?hl=en. It gives an idea of how much the website contributed to the revenue. This is a decimal.\n",
    "\n",
    "Special Day - How close the day is to a 'special day' (ex - holidays). This is a decimal.\n",
    "\n"
   ]
  },
  {
   "cell_type": "markdown",
   "metadata": {},
   "source": [
    "If we were to create a model for revenue, I would think that all of these variables would be important, although some may be more important than others. For example, users who spend a lot of time on 'Product' pages, may be more likely to buy something. Likewise the type of internet traffic is important since for example, users who are redirected from a social media page may be less likely to make a purchase than users who search for the product. The operating system a person has also can be revealing. For example, a person using an old operating system may be less likely to buy a new product depending on what the product is although this relationship will be weaker. Similarly, people who visit a page for administrative reasons may be less likely to make a purchase although they still might visit the administrative page to check something and then proceed to make a purchase. "
   ]
  },
  {
   "cell_type": "code",
   "execution_count": 5,
   "metadata": {},
   "outputs": [
    {
     "data": {
      "text/plain": [
       "(12330, 17)"
      ]
     },
     "execution_count": 5,
     "metadata": {},
     "output_type": "execute_result"
    }
   ],
   "source": [
    "df.shape"
   ]
  },
  {
   "cell_type": "markdown",
   "metadata": {},
   "source": [
    "Our dataset has about 12,000 rows so we don't really need to worry about the dataset being too small"
   ]
  },
  {
   "cell_type": "code",
   "execution_count": 6,
   "metadata": {},
   "outputs": [
    {
     "data": {
      "text/plain": [
       "False"
      ]
     },
     "execution_count": 6,
     "metadata": {},
     "output_type": "execute_result"
    }
   ],
   "source": [
    "df.isnull().any().any()"
   ]
  },
  {
   "cell_type": "markdown",
   "metadata": {},
   "source": [
    "Our dataset does not contain any nulls."
   ]
  },
  {
   "cell_type": "code",
   "execution_count": 7,
   "metadata": {},
   "outputs": [
    {
     "name": "stdout",
     "output_type": "stream",
     "text": [
      "<class 'pandas.core.frame.DataFrame'>\n",
      "RangeIndex: 12330 entries, 0 to 12329\n",
      "Data columns (total 17 columns):\n",
      "Administrative             12330 non-null int64\n",
      "Administrative_Duration    12330 non-null float64\n",
      "Informational              12330 non-null int64\n",
      "Informational_Duration     12330 non-null float64\n",
      "ProductRelated             12330 non-null int64\n",
      "ProductRelated_Duration    12330 non-null float64\n",
      "BounceRates                12330 non-null float64\n",
      "ExitRates                  12330 non-null float64\n",
      "PageValues                 12330 non-null float64\n",
      "SpecialDay                 12330 non-null float64\n",
      "Month                      12330 non-null object\n",
      "OperatingSystems           12330 non-null int64\n",
      "Browser                    12330 non-null int64\n",
      "Region                     12330 non-null int64\n",
      "TrafficType                12330 non-null int64\n",
      "VisitorType                12330 non-null object\n",
      "Weekend                    12330 non-null bool\n",
      "dtypes: bool(1), float64(7), int64(7), object(2)\n",
      "memory usage: 1.5+ MB\n"
     ]
    }
   ],
   "source": [
    "df.info()"
   ]
  },
  {
   "cell_type": "markdown",
   "metadata": {},
   "source": [
    "The data types all conform to what we would expect based on the description. Administrative, Informational, ProductRelated are all discrete integers representing the number of page visits. Administrative_Duration, Informational_Duration, ProductRelated_Duration , BounceRates,ExitRates, PageValues, SpecialDay are continuous. The rest are categorical.              "
   ]
  },
  {
   "cell_type": "markdown",
   "metadata": {},
   "source": [
    "Let's look at our distributions."
   ]
  },
  {
   "cell_type": "code",
   "execution_count": 8,
   "metadata": {},
   "outputs": [
    {
     "data": {
      "text/plain": [
       "array([[<matplotlib.axes._subplots.AxesSubplot object at 0x0000016B710AC4E0>,\n",
       "        <matplotlib.axes._subplots.AxesSubplot object at 0x0000016B730F6860>,\n",
       "        <matplotlib.axes._subplots.AxesSubplot object at 0x0000016B73121DA0>,\n",
       "        <matplotlib.axes._subplots.AxesSubplot object at 0x0000016B7314E358>],\n",
       "       [<matplotlib.axes._subplots.AxesSubplot object at 0x0000016B731748D0>,\n",
       "        <matplotlib.axes._subplots.AxesSubplot object at 0x0000016B731A0CF8>,\n",
       "        <matplotlib.axes._subplots.AxesSubplot object at 0x0000016B731CE2B0>,\n",
       "        <matplotlib.axes._subplots.AxesSubplot object at 0x0000016B731F7860>],\n",
       "       [<matplotlib.axes._subplots.AxesSubplot object at 0x0000016B731F7898>,\n",
       "        <matplotlib.axes._subplots.AxesSubplot object at 0x0000016B7324E358>,\n",
       "        <matplotlib.axes._subplots.AxesSubplot object at 0x0000016B732748D0>,\n",
       "        <matplotlib.axes._subplots.AxesSubplot object at 0x0000016B7329CE48>],\n",
       "       [<matplotlib.axes._subplots.AxesSubplot object at 0x0000016B732CD400>,\n",
       "        <matplotlib.axes._subplots.AxesSubplot object at 0x0000016B732F3978>,\n",
       "        <matplotlib.axes._subplots.AxesSubplot object at 0x0000016B7331BEF0>,\n",
       "        <matplotlib.axes._subplots.AxesSubplot object at 0x0000016B7334E470>]],\n",
       "      dtype=object)"
      ]
     },
     "execution_count": 8,
     "metadata": {},
     "output_type": "execute_result"
    },
    {
     "data": {
      "image/png": "[encoded data removed]",
      "text/plain": [
       "<Figure size 720x720 with 16 Axes>"
      ]
     },
     "metadata": {
      "needs_background": "light"
     },
     "output_type": "display_data"
    }
   ],
   "source": [
    "df.hist(figsize = (10,10), bins = 30)"
   ]
  },
  {
   "cell_type": "markdown",
   "metadata": {},
   "source": [
    "We see that a lot of web site visits per category and web site duration column by time are rightly skewed with some outliers. It is makes sense that our data would be rightly skewed since there would be some people who spend a lot of time on sites for various reasons.Our special day variable is mainly 0 which makes sense as most days are sadly not special. Also our other columns (pageValues, exit rates, and bounce rates) are all rightly skewed.\n",
    "\n",
    "We also see that most did not  take place on the weekend.\n",
    "\n",
    "One thing to notice is that our variables are not on the same scale. For example, BounceRates ranges from around 0 to .2 but the page values variable goes past 200. I find it odd that this has such high values so let's look at this a bit more."
   ]
  },
  {
   "cell_type": "code",
   "execution_count": 9,
   "metadata": {},
   "outputs": [
    {
     "data": {
      "text/plain": [
       "82"
      ]
     },
     "execution_count": 9,
     "metadata": {},
     "output_type": "execute_result"
    }
   ],
   "source": [
    "high = df[df.PageValues > 100]\n",
    "len(high)"
   ]
  },
  {
   "cell_type": "markdown",
   "metadata": {},
   "source": [
    "Only 82 values are above 200."
   ]
  },
  {
   "cell_type": "code",
   "execution_count": 10,
   "metadata": {},
   "outputs": [
    {
     "data": {
      "text/html": [
       "<div>\n",
       "<style scoped>\n",
       "    .dataframe tbody tr th:only-of-type {\n",
       "        vertical-align: middle;\n",
       "    }\n",
       "\n",
       "    .dataframe tbody tr th {\n",
       "        vertical-align: top;\n",
       "    }\n",
       "\n",
       "    .dataframe thead th {\n",
       "        text-align: right;\n",
       "    }\n",
       "</style>\n",
       "<table border=\"1\" class=\"dataframe\">\n",
       "  <thead>\n",
       "    <tr style=\"text-align: right;\">\n",
       "      <th></th>\n",
       "      <th>Administrative</th>\n",
       "      <th>Administrative_Duration</th>\n",
       "      <th>Informational</th>\n",
       "      <th>Informational_Duration</th>\n",
       "      <th>ProductRelated</th>\n",
       "      <th>ProductRelated_Duration</th>\n",
       "      <th>BounceRates</th>\n",
       "      <th>ExitRates</th>\n",
       "      <th>PageValues</th>\n",
       "      <th>SpecialDay</th>\n",
       "      <th>Month</th>\n",
       "      <th>OperatingSystems</th>\n",
       "      <th>Browser</th>\n",
       "      <th>Region</th>\n",
       "      <th>TrafficType</th>\n",
       "      <th>VisitorType</th>\n",
       "      <th>Weekend</th>\n",
       "    </tr>\n",
       "  </thead>\n",
       "  <tbody>\n",
       "    <tr>\n",
       "      <th>62</th>\n",
       "      <td>1</td>\n",
       "      <td>24.0</td>\n",
       "      <td>0</td>\n",
       "      <td>0.0</td>\n",
       "      <td>15</td>\n",
       "      <td>496.750000</td>\n",
       "      <td>0.0</td>\n",
       "      <td>0.006250</td>\n",
       "      <td>115.486250</td>\n",
       "      <td>0.0</td>\n",
       "      <td>May</td>\n",
       "      <td>2</td>\n",
       "      <td>2</td>\n",
       "      <td>3</td>\n",
       "      <td>2</td>\n",
       "      <td>Returning_Visitor</td>\n",
       "      <td>False</td>\n",
       "    </tr>\n",
       "    <tr>\n",
       "      <th>79</th>\n",
       "      <td>0</td>\n",
       "      <td>0.0</td>\n",
       "      <td>0</td>\n",
       "      <td>0.0</td>\n",
       "      <td>8</td>\n",
       "      <td>642.000000</td>\n",
       "      <td>0.0</td>\n",
       "      <td>0.028571</td>\n",
       "      <td>109.121156</td>\n",
       "      <td>0.0</td>\n",
       "      <td>Dec</td>\n",
       "      <td>2</td>\n",
       "      <td>2</td>\n",
       "      <td>3</td>\n",
       "      <td>2</td>\n",
       "      <td>New_Visitor</td>\n",
       "      <td>False</td>\n",
       "    </tr>\n",
       "    <tr>\n",
       "      <th>295</th>\n",
       "      <td>0</td>\n",
       "      <td>0.0</td>\n",
       "      <td>0</td>\n",
       "      <td>0.0</td>\n",
       "      <td>13</td>\n",
       "      <td>1314.083333</td>\n",
       "      <td>0.0</td>\n",
       "      <td>0.008333</td>\n",
       "      <td>103.061083</td>\n",
       "      <td>0.0</td>\n",
       "      <td>Dec</td>\n",
       "      <td>8</td>\n",
       "      <td>13</td>\n",
       "      <td>9</td>\n",
       "      <td>20</td>\n",
       "      <td>Other</td>\n",
       "      <td>False</td>\n",
       "    </tr>\n",
       "    <tr>\n",
       "      <th>332</th>\n",
       "      <td>2</td>\n",
       "      <td>49.4</td>\n",
       "      <td>0</td>\n",
       "      <td>0.0</td>\n",
       "      <td>45</td>\n",
       "      <td>1526.141190</td>\n",
       "      <td>0.0</td>\n",
       "      <td>0.004444</td>\n",
       "      <td>117.616593</td>\n",
       "      <td>0.0</td>\n",
       "      <td>Sep</td>\n",
       "      <td>2</td>\n",
       "      <td>2</td>\n",
       "      <td>3</td>\n",
       "      <td>2</td>\n",
       "      <td>Returning_Visitor</td>\n",
       "      <td>True</td>\n",
       "    </tr>\n",
       "    <tr>\n",
       "      <th>1201</th>\n",
       "      <td>0</td>\n",
       "      <td>0.0</td>\n",
       "      <td>0</td>\n",
       "      <td>0.0</td>\n",
       "      <td>7</td>\n",
       "      <td>284.500000</td>\n",
       "      <td>0.0</td>\n",
       "      <td>0.028571</td>\n",
       "      <td>128.468694</td>\n",
       "      <td>0.0</td>\n",
       "      <td>Dec</td>\n",
       "      <td>2</td>\n",
       "      <td>2</td>\n",
       "      <td>4</td>\n",
       "      <td>10</td>\n",
       "      <td>Returning_Visitor</td>\n",
       "      <td>False</td>\n",
       "    </tr>\n",
       "  </tbody>\n",
       "</table>\n",
       "</div>"
      ],
      "text/plain": [
       "      Administrative  Administrative_Duration  Informational  \\\n",
       "62                 1                     24.0              0   \n",
       "79                 0                      0.0              0   \n",
       "295                0                      0.0              0   \n",
       "332                2                     49.4              0   \n",
       "1201               0                      0.0              0   \n",
       "\n",
       "      Informational_Duration  ProductRelated  ProductRelated_Duration  \\\n",
       "62                       0.0              15               496.750000   \n",
       "79                       0.0               8               642.000000   \n",
       "295                      0.0              13              1314.083333   \n",
       "332                      0.0              45              1526.141190   \n",
       "1201                     0.0               7               284.500000   \n",
       "\n",
       "      BounceRates  ExitRates  PageValues  SpecialDay Month  OperatingSystems  \\\n",
       "62            0.0   0.006250  115.486250         0.0   May                 2   \n",
       "79            0.0   0.028571  109.121156         0.0   Dec                 2   \n",
       "295           0.0   0.008333  103.061083         0.0   Dec                 8   \n",
       "332           0.0   0.004444  117.616593         0.0   Sep                 2   \n",
       "1201          0.0   0.028571  128.468694         0.0   Dec                 2   \n",
       "\n",
       "      Browser  Region  TrafficType        VisitorType  Weekend  \n",
       "62          2       3            2  Returning_Visitor    False  \n",
       "79          2       3            2        New_Visitor    False  \n",
       "295        13       9           20              Other    False  \n",
       "332         2       3            2  Returning_Visitor     True  \n",
       "1201        2       4           10  Returning_Visitor    False  "
      ]
     },
     "execution_count": 10,
     "metadata": {},
     "output_type": "execute_result"
    }
   ],
   "source": [
    "high.head()"
   ]
  },
  {
   "cell_type": "code",
   "execution_count": 11,
   "metadata": {},
   "outputs": [
    {
     "name": "stdout",
     "output_type": "stream",
     "text": [
      "Administrative                2.315166\n",
      "Administrative_Duration      80.818611\n",
      "Informational                 0.503569\n",
      "Informational_Duration       34.472398\n",
      "ProductRelated               31.731468\n",
      "ProductRelated_Duration    1194.746220\n",
      "BounceRates                   0.022191\n",
      "ExitRates                     0.043073\n",
      "PageValues                    5.889258\n",
      "SpecialDay                    0.061427\n",
      "OperatingSystems              2.124006\n",
      "Browser                       2.357097\n",
      "Region                        3.147364\n",
      "TrafficType                   4.069586\n",
      "Weekend                       0.232603\n",
      "dtype: float64\n",
      "Administrative                2.292683\n",
      "Administrative_Duration     114.543033\n",
      "Informational                 0.487805\n",
      "Informational_Duration       26.769106\n",
      "ProductRelated               37.207317\n",
      "ProductRelated_Duration    1272.132762\n",
      "BounceRates                   0.001697\n",
      "ExitRates                     0.011966\n",
      "PageValues                  151.042675\n",
      "SpecialDay                    0.000000\n",
      "OperatingSystems              2.365854\n",
      "Browser                       3.146341\n",
      "Region                        4.012195\n",
      "TrafficType                   5.378049\n",
      "Weekend                       0.292683\n",
      "dtype: float64\n"
     ]
    }
   ],
   "source": [
    "print(df.mean())\n",
    "print(high.mean())"
   ]
  },
  {
   "cell_type": "markdown",
   "metadata": {},
   "source": [
    "I don't see anything particular unusual about these rows. Note the mean value for the categorical values aren't meaningful."
   ]
  },
  {
   "cell_type": "markdown",
   "metadata": {},
   "source": [
    "Let's look at the distribution of our traffic types."
   ]
  },
  {
   "cell_type": "code",
   "execution_count": 12,
   "metadata": {},
   "outputs": [
    {
     "data": {
      "text/plain": [
       "17       1\n",
       "12       1\n",
       "16       3\n",
       "18      10\n",
       "14      13\n",
       "19      17\n",
       "15      38\n",
       "7       40\n",
       "9       42\n",
       "20     198\n",
       "11     247\n",
       "5      260\n",
       "8      343\n",
       "6      444\n",
       "10     450\n",
       "13     738\n",
       "4     1069\n",
       "3     2052\n",
       "1     2451\n",
       "2     3913\n",
       "Name: TrafficType, dtype: int64"
      ]
     },
     "execution_count": 12,
     "metadata": {},
     "output_type": "execute_result"
    }
   ],
   "source": [
    "df.TrafficType.value_counts().sort_values()"
   ]
  },
  {
   "cell_type": "markdown",
   "metadata": {},
   "source": [
    "Most traffic types are 1 or 2."
   ]
  },
  {
   "cell_type": "code",
   "execution_count": 13,
   "metadata": {},
   "outputs": [
    {
     "data": {
      "text/plain": [
       "May     3364\n",
       "Nov     2998\n",
       "Mar     1907\n",
       "Dec     1727\n",
       "Oct      549\n",
       "Sep      448\n",
       "Aug      433\n",
       "Jul      432\n",
       "June     288\n",
       "Feb      184\n",
       "Name: Month, dtype: int64"
      ]
     },
     "execution_count": 13,
     "metadata": {},
     "output_type": "execute_result"
    }
   ],
   "source": [
    "df.Month.value_counts()"
   ]
  },
  {
   "cell_type": "markdown",
   "metadata": {},
   "source": [
    "May has the highest. A couple of months aren't here. This makes it seem like data just wasn't collected all year round at the same schedule."
   ]
  },
  {
   "cell_type": "code",
   "execution_count": 14,
   "metadata": {},
   "outputs": [
    {
     "data": {
      "text/plain": [
       "2    6601\n",
       "1    2585\n",
       "3    2555\n",
       "4     478\n",
       "8      79\n",
       "6      19\n",
       "7       7\n",
       "5       6\n",
       "Name: OperatingSystems, dtype: int64"
      ]
     },
     "execution_count": 14,
     "metadata": {},
     "output_type": "execute_result"
    }
   ],
   "source": [
    "df.OperatingSystems.value_counts()"
   ]
  },
  {
   "cell_type": "markdown",
   "metadata": {},
   "source": [
    "And most operating systems are 2. "
   ]
  },
  {
   "cell_type": "code",
   "execution_count": 15,
   "metadata": {},
   "outputs": [
    {
     "data": {
      "text/plain": [
       "<matplotlib.axes._subplots.AxesSubplot at 0x16b75c203c8>"
      ]
     },
     "execution_count": 15,
     "metadata": {},
     "output_type": "execute_result"
    },
    {
     "data": {
      "image/png": "[encoded data removed]",
      "text/plain": [
       "<Figure size 432x288 with 2 Axes>"
      ]
     },
     "metadata": {
      "needs_background": "light"
     },
     "output_type": "display_data"
    }
   ],
   "source": [
    "import seaborn as sns\n",
    "corr = df.corr()\n",
    "sns.heatmap(corr, \n",
    "        xticklabels=corr.columns,\n",
    "        yticklabels=corr.columns,\n",
    "        cmap=\"YlGnBu\")"
   ]
  },
  {
   "cell_type": "markdown",
   "metadata": {},
   "source": [
    "The strongest correlations are between bounce rates, and exit rates. This makes sense as sites which users bounce also would increase the exit rate. \n",
    "We see also that there are high correlations between the columns that keep track of page visited and page duration times. There is also a small correlation between operating system, and browser. The rest of the correlations are pretty week."
   ]
  },
  {
   "cell_type": "markdown",
   "metadata": {},
   "source": [
    "### Pre-Clustering Data Preparation"
   ]
  },
  {
   "cell_type": "markdown",
   "metadata": {},
   "source": [
    "We need to...\n",
    "1. One hot encode our categorical variables.\n",
    "2. convert our numerical variables to be on the same scale."
   ]
  },
  {
   "cell_type": "code",
   "execution_count": 16,
   "metadata": {},
   "outputs": [
    {
     "data": {
      "text/plain": [
       "Index(['Administrative', 'Administrative_Duration', 'Informational',\n",
       "       'Informational_Duration', 'ProductRelated', 'ProductRelated_Duration',\n",
       "       'BounceRates', 'ExitRates', 'PageValues', 'SpecialDay', 'Month',\n",
       "       'OperatingSystems', 'Browser', 'Region', 'TrafficType', 'VisitorType',\n",
       "       'Weekend'],\n",
       "      dtype='object')"
      ]
     },
     "execution_count": 16,
     "metadata": {},
     "output_type": "execute_result"
    }
   ],
   "source": [
    "df.columns"
   ]
  },
  {
   "cell_type": "code",
   "execution_count": 17,
   "metadata": {},
   "outputs": [
    {
     "data": {
      "text/html": [
       "<div>\n",
       "<style scoped>\n",
       "    .dataframe tbody tr th:only-of-type {\n",
       "        vertical-align: middle;\n",
       "    }\n",
       "\n",
       "    .dataframe tbody tr th {\n",
       "        vertical-align: top;\n",
       "    }\n",
       "\n",
       "    .dataframe thead th {\n",
       "        text-align: right;\n",
       "    }\n",
       "</style>\n",
       "<table border=\"1\" class=\"dataframe\">\n",
       "  <thead>\n",
       "    <tr style=\"text-align: right;\">\n",
       "      <th></th>\n",
       "      <th>Administrative</th>\n",
       "      <th>Administrative_Duration</th>\n",
       "      <th>Informational</th>\n",
       "      <th>Informational_Duration</th>\n",
       "      <th>ProductRelated</th>\n",
       "      <th>ProductRelated_Duration</th>\n",
       "      <th>BounceRates</th>\n",
       "      <th>ExitRates</th>\n",
       "      <th>PageValues</th>\n",
       "      <th>SpecialDay</th>\n",
       "      <th>Month</th>\n",
       "      <th>OperatingSystems</th>\n",
       "      <th>Browser</th>\n",
       "      <th>Region</th>\n",
       "      <th>TrafficType</th>\n",
       "      <th>VisitorType</th>\n",
       "      <th>Weekend</th>\n",
       "    </tr>\n",
       "  </thead>\n",
       "  <tbody>\n",
       "    <tr>\n",
       "      <th>0</th>\n",
       "      <td>0</td>\n",
       "      <td>0.0</td>\n",
       "      <td>0</td>\n",
       "      <td>0.0</td>\n",
       "      <td>8</td>\n",
       "      <td>222.000000</td>\n",
       "      <td>0.000000</td>\n",
       "      <td>0.028571</td>\n",
       "      <td>53.474571</td>\n",
       "      <td>0.0</td>\n",
       "      <td>May</td>\n",
       "      <td>1</td>\n",
       "      <td>1</td>\n",
       "      <td>1</td>\n",
       "      <td>2</td>\n",
       "      <td>New_Visitor</td>\n",
       "      <td>True</td>\n",
       "    </tr>\n",
       "    <tr>\n",
       "      <th>1</th>\n",
       "      <td>0</td>\n",
       "      <td>0.0</td>\n",
       "      <td>0</td>\n",
       "      <td>0.0</td>\n",
       "      <td>14</td>\n",
       "      <td>1037.500000</td>\n",
       "      <td>0.014286</td>\n",
       "      <td>0.047619</td>\n",
       "      <td>0.000000</td>\n",
       "      <td>0.0</td>\n",
       "      <td>Mar</td>\n",
       "      <td>2</td>\n",
       "      <td>2</td>\n",
       "      <td>4</td>\n",
       "      <td>2</td>\n",
       "      <td>Returning_Visitor</td>\n",
       "      <td>False</td>\n",
       "    </tr>\n",
       "    <tr>\n",
       "      <th>2</th>\n",
       "      <td>4</td>\n",
       "      <td>37.5</td>\n",
       "      <td>2</td>\n",
       "      <td>82.0</td>\n",
       "      <td>4</td>\n",
       "      <td>96.625000</td>\n",
       "      <td>0.000000</td>\n",
       "      <td>0.017500</td>\n",
       "      <td>0.000000</td>\n",
       "      <td>0.0</td>\n",
       "      <td>Nov</td>\n",
       "      <td>2</td>\n",
       "      <td>2</td>\n",
       "      <td>9</td>\n",
       "      <td>2</td>\n",
       "      <td>New_Visitor</td>\n",
       "      <td>False</td>\n",
       "    </tr>\n",
       "    <tr>\n",
       "      <th>3</th>\n",
       "      <td>4</td>\n",
       "      <td>115.7</td>\n",
       "      <td>0</td>\n",
       "      <td>0.0</td>\n",
       "      <td>16</td>\n",
       "      <td>655.383333</td>\n",
       "      <td>0.000000</td>\n",
       "      <td>0.012037</td>\n",
       "      <td>0.000000</td>\n",
       "      <td>0.0</td>\n",
       "      <td>Nov</td>\n",
       "      <td>1</td>\n",
       "      <td>1</td>\n",
       "      <td>2</td>\n",
       "      <td>3</td>\n",
       "      <td>Returning_Visitor</td>\n",
       "      <td>False</td>\n",
       "    </tr>\n",
       "    <tr>\n",
       "      <th>4</th>\n",
       "      <td>1</td>\n",
       "      <td>60.0</td>\n",
       "      <td>1</td>\n",
       "      <td>15.0</td>\n",
       "      <td>26</td>\n",
       "      <td>670.166667</td>\n",
       "      <td>0.000000</td>\n",
       "      <td>0.003846</td>\n",
       "      <td>0.000000</td>\n",
       "      <td>0.0</td>\n",
       "      <td>May</td>\n",
       "      <td>2</td>\n",
       "      <td>2</td>\n",
       "      <td>3</td>\n",
       "      <td>4</td>\n",
       "      <td>Returning_Visitor</td>\n",
       "      <td>False</td>\n",
       "    </tr>\n",
       "  </tbody>\n",
       "</table>\n",
       "</div>"
      ],
      "text/plain": [
       "   Administrative  Administrative_Duration  Informational  \\\n",
       "0               0                      0.0              0   \n",
       "1               0                      0.0              0   \n",
       "2               4                     37.5              2   \n",
       "3               4                    115.7              0   \n",
       "4               1                     60.0              1   \n",
       "\n",
       "   Informational_Duration  ProductRelated  ProductRelated_Duration  \\\n",
       "0                     0.0               8               222.000000   \n",
       "1                     0.0              14              1037.500000   \n",
       "2                    82.0               4                96.625000   \n",
       "3                     0.0              16               655.383333   \n",
       "4                    15.0              26               670.166667   \n",
       "\n",
       "   BounceRates  ExitRates  PageValues  SpecialDay Month  OperatingSystems  \\\n",
       "0     0.000000   0.028571   53.474571         0.0   May                 1   \n",
       "1     0.014286   0.047619    0.000000         0.0   Mar                 2   \n",
       "2     0.000000   0.017500    0.000000         0.0   Nov                 2   \n",
       "3     0.000000   0.012037    0.000000         0.0   Nov                 1   \n",
       "4     0.000000   0.003846    0.000000         0.0   May                 2   \n",
       "\n",
       "   Browser  Region  TrafficType        VisitorType  Weekend  \n",
       "0        1       1            2        New_Visitor     True  \n",
       "1        2       4            2  Returning_Visitor    False  \n",
       "2        2       9            2        New_Visitor    False  \n",
       "3        1       2            3  Returning_Visitor    False  \n",
       "4        2       3            4  Returning_Visitor    False  "
      ]
     },
     "execution_count": 17,
     "metadata": {},
     "output_type": "execute_result"
    }
   ],
   "source": [
    "df.head()"
   ]
  },
  {
   "cell_type": "code",
   "execution_count": 18,
   "metadata": {},
   "outputs": [],
   "source": [
    "cleaned = df.copy()"
   ]
  },
  {
   "cell_type": "code",
   "execution_count": 19,
   "metadata": {},
   "outputs": [],
   "source": [
    "categorical= cleaned[['Month', 'OperatingSystems', 'Browser', 'Region', 'TrafficType', 'VisitorType', 'Weekend']]"
   ]
  },
  {
   "cell_type": "code",
   "execution_count": 20,
   "metadata": {},
   "outputs": [
    {
     "name": "stdout",
     "output_type": "stream",
     "text": [
      "<class 'pandas.core.frame.DataFrame'>\n",
      "RangeIndex: 12330 entries, 0 to 12329\n",
      "Data columns (total 7 columns):\n",
      "Month               12330 non-null object\n",
      "OperatingSystems    12330 non-null int64\n",
      "Browser             12330 non-null int64\n",
      "Region              12330 non-null int64\n",
      "TrafficType         12330 non-null int64\n",
      "VisitorType         12330 non-null object\n",
      "Weekend             12330 non-null bool\n",
      "dtypes: bool(1), int64(4), object(2)\n",
      "memory usage: 590.1+ KB\n"
     ]
    }
   ],
   "source": [
    "categorical.info()"
   ]
  },
  {
   "cell_type": "code",
   "execution_count": 21,
   "metadata": {},
   "outputs": [
    {
     "name": "stderr",
     "output_type": "stream",
     "text": [
      "C:\\Users\\b-coh\\Anaconda3\\lib\\site-packages\\ipykernel_launcher.py:2: SettingWithCopyWarning: \n",
      "A value is trying to be set on a copy of a slice from a DataFrame.\n",
      "Try using .loc[row_indexer,col_indexer] = value instead\n",
      "\n",
      "See the caveats in the documentation: http://pandas.pydata.org/pandas-docs/stable/indexing.html#indexing-view-versus-copy\n",
      "  \n"
     ]
    }
   ],
   "source": [
    "for i in categorical.columns:\n",
    "    categorical[i] = categorical[i].astype(object)"
   ]
  },
  {
   "cell_type": "code",
   "execution_count": 22,
   "metadata": {},
   "outputs": [],
   "source": [
    "encoded = pd.get_dummies(categorical)"
   ]
  },
  {
   "cell_type": "code",
   "execution_count": 23,
   "metadata": {},
   "outputs": [
    {
     "data": {
      "text/plain": [
       "Index(['Month_Aug', 'Month_Dec', 'Month_Feb', 'Month_Jul', 'Month_June',\n",
       "       'Month_Mar', 'Month_May', 'Month_Nov', 'Month_Oct', 'Month_Sep',\n",
       "       'OperatingSystems_1', 'OperatingSystems_2', 'OperatingSystems_3',\n",
       "       'OperatingSystems_4', 'OperatingSystems_5', 'OperatingSystems_6',\n",
       "       'OperatingSystems_7', 'OperatingSystems_8', 'Browser_1', 'Browser_2',\n",
       "       'Browser_3', 'Browser_4', 'Browser_5', 'Browser_6', 'Browser_7',\n",
       "       'Browser_8', 'Browser_9', 'Browser_10', 'Browser_11', 'Browser_12',\n",
       "       'Browser_13', 'Region_1', 'Region_2', 'Region_3', 'Region_4',\n",
       "       'Region_5', 'Region_6', 'Region_7', 'Region_8', 'Region_9',\n",
       "       'TrafficType_1', 'TrafficType_2', 'TrafficType_3', 'TrafficType_4',\n",
       "       'TrafficType_5', 'TrafficType_6', 'TrafficType_7', 'TrafficType_8',\n",
       "       'TrafficType_9', 'TrafficType_10', 'TrafficType_11', 'TrafficType_12',\n",
       "       'TrafficType_13', 'TrafficType_14', 'TrafficType_15', 'TrafficType_16',\n",
       "       'TrafficType_17', 'TrafficType_18', 'TrafficType_19', 'TrafficType_20',\n",
       "       'VisitorType_New_Visitor', 'VisitorType_Other',\n",
       "       'VisitorType_Returning_Visitor', 'Weekend_False', 'Weekend_True'],\n",
       "      dtype='object')"
      ]
     },
     "execution_count": 23,
     "metadata": {},
     "output_type": "execute_result"
    }
   ],
   "source": [
    "encoded.columns"
   ]
  },
  {
   "cell_type": "markdown",
   "metadata": {},
   "source": [
    "This gave us the columns but we have an extra column in each group. (ex - we have weekend_false and weekend_true which is duplicate info since we really only need 1 of those columns.)"
   ]
  },
  {
   "cell_type": "code",
   "execution_count": 24,
   "metadata": {},
   "outputs": [],
   "source": [
    "encoded = encoded.drop(['Month_Aug','OperatingSystems_8', 'Browser_13', 'Region_9', 'TrafficType_20', 'VisitorType_Other', 'Weekend_True'], axis = 1)"
   ]
  },
  {
   "cell_type": "markdown",
   "metadata": {},
   "source": [
    "Now we need to scale our numeric columns."
   ]
  },
  {
   "cell_type": "markdown",
   "metadata": {},
   "source": [
    "We will use Min Max scaling so as to perserve the outliers."
   ]
  },
  {
   "cell_type": "code",
   "execution_count": 25,
   "metadata": {},
   "outputs": [
    {
     "data": {
      "text/plain": [
       "Index(['Administrative', 'Administrative_Duration', 'Informational',\n",
       "       'Informational_Duration', 'ProductRelated', 'ProductRelated_Duration',\n",
       "       'BounceRates', 'ExitRates', 'PageValues', 'SpecialDay', 'Month',\n",
       "       'OperatingSystems', 'Browser', 'Region', 'TrafficType', 'VisitorType',\n",
       "       'Weekend'],\n",
       "      dtype='object')"
      ]
     },
     "execution_count": 25,
     "metadata": {},
     "output_type": "execute_result"
    }
   ],
   "source": [
    "df.columns"
   ]
  },
  {
   "cell_type": "code",
   "execution_count": 26,
   "metadata": {},
   "outputs": [
    {
     "name": "stderr",
     "output_type": "stream",
     "text": [
      "C:\\Users\\b-coh\\Anaconda3\\lib\\site-packages\\ipykernel_launcher.py:8: SettingWithCopyWarning: \n",
      "A value is trying to be set on a copy of a slice from a DataFrame.\n",
      "Try using .loc[row_indexer,col_indexer] = value instead\n",
      "\n",
      "See the caveats in the documentation: http://pandas.pydata.org/pandas-docs/stable/indexing.html#indexing-view-versus-copy\n",
      "  \n",
      "C:\\Users\\b-coh\\Anaconda3\\lib\\site-packages\\pandas\\core\\indexing.py:543: SettingWithCopyWarning: \n",
      "A value is trying to be set on a copy of a slice from a DataFrame.\n",
      "Try using .loc[row_indexer,col_indexer] = value instead\n",
      "\n",
      "See the caveats in the documentation: http://pandas.pydata.org/pandas-docs/stable/indexing.html#indexing-view-versus-copy\n",
      "  self.obj[item] = s\n"
     ]
    }
   ],
   "source": [
    "from sklearn import preprocessing\n",
    "\n",
    "numCols = ['Administrative', 'Administrative_Duration', 'Informational',\n",
    "       'Informational_Duration', 'ProductRelated', 'ProductRelated_Duration',\n",
    "       'BounceRates', 'ExitRates', 'PageValues', 'SpecialDay']\n",
    "numDf = df[numCols]\n",
    "mm_scaler = preprocessing.MinMaxScaler()\n",
    "numDf[numCols]= mm_scaler.fit_transform(numDf[numCols])"
   ]
  },
  {
   "cell_type": "markdown",
   "metadata": {},
   "source": [
    "Now  we need to merge our data."
   ]
  },
  {
   "cell_type": "code",
   "execution_count": 27,
   "metadata": {},
   "outputs": [
    {
     "data": {
      "text/plain": [
       "12330"
      ]
     },
     "execution_count": 27,
     "metadata": {},
     "output_type": "execute_result"
    }
   ],
   "source": [
    "len(numDf)"
   ]
  },
  {
   "cell_type": "code",
   "execution_count": 28,
   "metadata": {},
   "outputs": [],
   "source": [
    "cleaned = numDf.merge(encoded, how = 'inner', left_index=True, right_index=True)"
   ]
  },
  {
   "cell_type": "code",
   "execution_count": 29,
   "metadata": {},
   "outputs": [
    {
     "data": {
      "text/plain": [
       "12330"
      ]
     },
     "execution_count": 29,
     "metadata": {},
     "output_type": "execute_result"
    }
   ],
   "source": [
    "len(cleaned)"
   ]
  },
  {
   "cell_type": "code",
   "execution_count": 30,
   "metadata": {},
   "outputs": [
    {
     "data": {
      "text/plain": [
       "Index(['Administrative', 'Administrative_Duration', 'Informational',\n",
       "       'Informational_Duration', 'ProductRelated', 'ProductRelated_Duration',\n",
       "       'BounceRates', 'ExitRates', 'PageValues', 'SpecialDay', 'Month_Dec',\n",
       "       'Month_Feb', 'Month_Jul', 'Month_June', 'Month_Mar', 'Month_May',\n",
       "       'Month_Nov', 'Month_Oct', 'Month_Sep', 'OperatingSystems_1',\n",
       "       'OperatingSystems_2', 'OperatingSystems_3', 'OperatingSystems_4',\n",
       "       'OperatingSystems_5', 'OperatingSystems_6', 'OperatingSystems_7',\n",
       "       'Browser_1', 'Browser_2', 'Browser_3', 'Browser_4', 'Browser_5',\n",
       "       'Browser_6', 'Browser_7', 'Browser_8', 'Browser_9', 'Browser_10',\n",
       "       'Browser_11', 'Browser_12', 'Region_1', 'Region_2', 'Region_3',\n",
       "       'Region_4', 'Region_5', 'Region_6', 'Region_7', 'Region_8',\n",
       "       'TrafficType_1', 'TrafficType_2', 'TrafficType_3', 'TrafficType_4',\n",
       "       'TrafficType_5', 'TrafficType_6', 'TrafficType_7', 'TrafficType_8',\n",
       "       'TrafficType_9', 'TrafficType_10', 'TrafficType_11', 'TrafficType_12',\n",
       "       'TrafficType_13', 'TrafficType_14', 'TrafficType_15', 'TrafficType_16',\n",
       "       'TrafficType_17', 'TrafficType_18', 'TrafficType_19',\n",
       "       'VisitorType_New_Visitor', 'VisitorType_Returning_Visitor',\n",
       "       'Weekend_False'],\n",
       "      dtype='object')"
      ]
     },
     "execution_count": 30,
     "metadata": {},
     "output_type": "execute_result"
    }
   ],
   "source": [
    "cleaned.columns"
   ]
  },
  {
   "cell_type": "markdown",
   "metadata": {},
   "source": [
    "Now in terms of collinearity, since we are using a distance based metric, keeping redundant features will emphasize these features importance.I will drop exit rates therefore since it's almost identical to Page Values. I think that we should keep for now at least the duration columns even though they are correlated with the topic columns because it isn't a 1:1 relationship and each variable is adding information."
   ]
  },
  {
   "cell_type": "code",
   "execution_count": 31,
   "metadata": {},
   "outputs": [],
   "source": [
    "cleaned = cleaned.drop(['ExitRates'], axis = 1)"
   ]
  },
  {
   "cell_type": "code",
   "execution_count": 32,
   "metadata": {},
   "outputs": [
    {
     "data": {
      "text/plain": [
       "Index(['Administrative', 'Administrative_Duration', 'Informational',\n",
       "       'Informational_Duration', 'ProductRelated', 'ProductRelated_Duration',\n",
       "       'BounceRates', 'PageValues', 'SpecialDay', 'Month_Dec', 'Month_Feb',\n",
       "       'Month_Jul', 'Month_June', 'Month_Mar', 'Month_May', 'Month_Nov',\n",
       "       'Month_Oct', 'Month_Sep', 'OperatingSystems_1', 'OperatingSystems_2',\n",
       "       'OperatingSystems_3', 'OperatingSystems_4', 'OperatingSystems_5',\n",
       "       'OperatingSystems_6', 'OperatingSystems_7', 'Browser_1', 'Browser_2',\n",
       "       'Browser_3', 'Browser_4', 'Browser_5', 'Browser_6', 'Browser_7',\n",
       "       'Browser_8', 'Browser_9', 'Browser_10', 'Browser_11', 'Browser_12',\n",
       "       'Region_1', 'Region_2', 'Region_3', 'Region_4', 'Region_5', 'Region_6',\n",
       "       'Region_7', 'Region_8', 'TrafficType_1', 'TrafficType_2',\n",
       "       'TrafficType_3', 'TrafficType_4', 'TrafficType_5', 'TrafficType_6',\n",
       "       'TrafficType_7', 'TrafficType_8', 'TrafficType_9', 'TrafficType_10',\n",
       "       'TrafficType_11', 'TrafficType_12', 'TrafficType_13', 'TrafficType_14',\n",
       "       'TrafficType_15', 'TrafficType_16', 'TrafficType_17', 'TrafficType_18',\n",
       "       'TrafficType_19', 'VisitorType_New_Visitor',\n",
       "       'VisitorType_Returning_Visitor', 'Weekend_False'],\n",
       "      dtype='object')"
      ]
     },
     "execution_count": 32,
     "metadata": {},
     "output_type": "execute_result"
    }
   ],
   "source": [
    "cleaned.columns"
   ]
  },
  {
   "cell_type": "markdown",
   "metadata": {},
   "source": [
    "We shouldn't per say use all the columns but we should do is empirically look at our clusters after creating the model and see if any variable has more weight than it should."
   ]
  },
  {
   "cell_type": "markdown",
   "metadata": {},
   "source": [
    "For example, region may indicate if a user is would make a purchase since people may buy more things in certain regions. If after making our clusters we see that our clusters are heavily influenced by this variable may we reconsider including it unless we know for a fact that this impacts revenue. \n",
    "\n",
    "This isn't applicable to the first steps in the assignment where we are just seeing how many clusters make sense to split the customers into. This is more important when we specifically are trying to group customers into groups o created revenue or didn't.\n",
    "\n",
    "Another point is that we are going to pretend that we don't have the actual data labels when we create our clusters since I don't want to overfit. "
   ]
  },
  {
   "cell_type": "markdown",
   "metadata": {},
   "source": [
    "We should check that we haven't changed any of the distributions for the columns we used min max scaling for."
   ]
  },
  {
   "cell_type": "code",
   "execution_count": 37,
   "metadata": {},
   "outputs": [
    {
     "data": {
      "text/plain": [
       "array([[<matplotlib.axes._subplots.AxesSubplot object at 0x0000016B76386588>,\n",
       "        <matplotlib.axes._subplots.AxesSubplot object at 0x0000016B76497080>,\n",
       "        <matplotlib.axes._subplots.AxesSubplot object at 0x0000016B764B8668>],\n",
       "       [<matplotlib.axes._subplots.AxesSubplot object at 0x0000016B774AEB70>,\n",
       "        <matplotlib.axes._subplots.AxesSubplot object at 0x0000016B774D7F28>,\n",
       "        <matplotlib.axes._subplots.AxesSubplot object at 0x0000016B775064A8>],\n",
       "       [<matplotlib.axes._subplots.AxesSubplot object at 0x0000016B7752CA20>,\n",
       "        <matplotlib.axes._subplots.AxesSubplot object at 0x0000016B77557FD0>,\n",
       "        <matplotlib.axes._subplots.AxesSubplot object at 0x0000016B77560048>]],\n",
       "      dtype=object)"
      ]
     },
     "execution_count": 37,
     "metadata": {},
     "output_type": "execute_result"
    },
    {
     "data": {
      "image/png": "[encoded data removed]",
      "text/plain": [
       "<Figure size 720x720 with 9 Axes>"
      ]
     },
     "metadata": {
      "needs_background": "light"
     },
     "output_type": "display_data"
    }
   ],
   "source": [
    "#numCols.remove('ExitRates') \n",
    "cleaned[numCols].hist(figsize = (10,10))"
   ]
  },
  {
   "cell_type": "markdown",
   "metadata": {},
   "source": [
    "We see that all of our distributions are still rightly skewed just now they all are on a scale from 0 to 1."
   ]
  },
  {
   "cell_type": "markdown",
   "metadata": {},
   "source": [
    "## ClusterModeling"
   ]
  },
  {
   "cell_type": "markdown",
   "metadata": {},
   "source": [
    "### Constructing a hierarchical model"
   ]
  },
  {
   "cell_type": "markdown",
   "metadata": {},
   "source": [
    "In this section, we will be constructing a hierarchical model. At this point, I am not sure what a good number of clusters is - Customers can all into multiple clusters depending on the number of features. Here we don't have that many features so I would expect K to be small."
   ]
  },
  {
   "cell_type": "code",
   "execution_count": 38,
   "metadata": {},
   "outputs": [],
   "source": [
    "import scipy\n",
    "from scipy.cluster.hierarchy import dendrogram,linkage\n",
    "from scipy.cluster.hierarchy import fcluster\n",
    "from scipy.cluster.hierarchy import cophenet\n",
    "from scipy.spatial.distance import pdist\n",
    "\n",
    "import matplotlib.pyplot as plt\n",
    "from pylab import rcParams\n",
    "import seaborn as sb\n",
    "\n",
    "from sklearn.cluster import AgglomerativeClustering\n"
   ]
  },
  {
   "cell_type": "markdown",
   "metadata": {},
   "source": [
    "We will use single linkage as that is most effective. This means we will build our clusters bottom up and combine them based on the minimum distance between the 2 neighbors."
   ]
  },
  {
   "cell_type": "code",
   "execution_count": 39,
   "metadata": {},
   "outputs": [
    {
     "data": {
      "text/plain": [
       "(12330, 17)"
      ]
     },
     "execution_count": 39,
     "metadata": {},
     "output_type": "execute_result"
    }
   ],
   "source": [
    "df.shape"
   ]
  },
  {
   "cell_type": "code",
   "execution_count": 45,
   "metadata": {},
   "outputs": [],
   "source": [
    "z = linkage(cleaned,\"single\")\n"
   ]
  },
  {
   "cell_type": "markdown",
   "metadata": {},
   "source": [
    "Our dataset contains 12,000 + rows so obviously we can't show the complete dendogram. We will show the first 40 levels."
   ]
  },
  {
   "cell_type": "markdown",
   "metadata": {},
   "source": [
    "This dendogram shows the top 40 levels. The higher the levels the bars meet on the curve, the more disamilar the clusters are. Likewise, the lower the bars meet, the less distance there is between each centroid."
   ]
  },
  {
   "cell_type": "code",
   "execution_count": 46,
   "metadata": {},
   "outputs": [
    {
     "data": {
      "image/png": "[encoded data removed]",
      "text/plain": [
       "<Figure size 432x288 with 1 Axes>"
      ]
     },
     "metadata": {
      "needs_background": "light"
     },
     "output_type": "display_data"
    }
   ],
   "source": [
    "dendrogram(z,truncate_mode= \"lastp\", p =40)\n",
    "plt.figsize = (15,15)\n",
    "plt.title(\"Truncated Dendrogram\")\n",
    "plt.xlabel(\"Cluster Size\")\n",
    "plt.ylabel(\"Distance\")\n",
    "plt.show()"
   ]
  },
  {
   "cell_type": "markdown",
   "metadata": {},
   "source": [
    "We look towards the top of the graph and see how long the lines are. "
   ]
  },
  {
   "cell_type": "code",
   "execution_count": null,
   "metadata": {},
   "outputs": [],
   "source": []
  },
  {
   "cell_type": "markdown",
   "metadata": {},
   "source": [
    "I think based on this graph I would include 3 clusters. We see we have 2 very long vertical lines on the right side of the graph indicating that those sub clusters are very different than the cluster on the left which has closer lines. \n",
    "\n",
    "The problem though is that none of these lines are meeting lower in the graph. This is telling us that these points are really equally similar to its neighbors. "
   ]
  },
  {
   "cell_type": "code",
   "execution_count": 52,
   "metadata": {},
   "outputs": [],
   "source": [
    "from sklearn.cluster import (\n",
    "    AgglomerativeClustering,\n",
    ")\n",
    "ag = AgglomerativeClustering(\n",
    "    n_clusters=3,\n",
    "    affinity=\"euclidean\",\n",
    "    linkage=\"single\",\n",
    ")\n",
    "clusters = ag.fit(cleaned) "
   ]
  },
  {
   "cell_type": "code",
   "execution_count": 59,
   "metadata": {},
   "outputs": [],
   "source": [
    "df['ag'] = clusters.labels_\n"
   ]
  },
  {
   "cell_type": "code",
   "execution_count": 61,
   "metadata": {},
   "outputs": [
    {
     "data": {
      "text/html": [
       "<div>\n",
       "<style scoped>\n",
       "    .dataframe tbody tr th:only-of-type {\n",
       "        vertical-align: middle;\n",
       "    }\n",
       "\n",
       "    .dataframe tbody tr th {\n",
       "        vertical-align: top;\n",
       "    }\n",
       "\n",
       "    .dataframe thead th {\n",
       "        text-align: right;\n",
       "    }\n",
       "</style>\n",
       "<table border=\"1\" class=\"dataframe\">\n",
       "  <thead>\n",
       "    <tr style=\"text-align: right;\">\n",
       "      <th></th>\n",
       "      <th>Administrative</th>\n",
       "      <th>Administrative_Duration</th>\n",
       "      <th>Informational</th>\n",
       "      <th>Informational_Duration</th>\n",
       "      <th>ProductRelated</th>\n",
       "      <th>ProductRelated_Duration</th>\n",
       "      <th>BounceRates</th>\n",
       "      <th>ExitRates</th>\n",
       "      <th>PageValues</th>\n",
       "      <th>SpecialDay</th>\n",
       "      <th>OperatingSystems</th>\n",
       "      <th>Browser</th>\n",
       "      <th>Region</th>\n",
       "      <th>TrafficType</th>\n",
       "      <th>Weekend</th>\n",
       "    </tr>\n",
       "    <tr>\n",
       "      <th>ag</th>\n",
       "      <th></th>\n",
       "      <th></th>\n",
       "      <th></th>\n",
       "      <th></th>\n",
       "      <th></th>\n",
       "      <th></th>\n",
       "      <th></th>\n",
       "      <th></th>\n",
       "      <th></th>\n",
       "      <th></th>\n",
       "      <th></th>\n",
       "      <th></th>\n",
       "      <th></th>\n",
       "      <th></th>\n",
       "      <th></th>\n",
       "    </tr>\n",
       "  </thead>\n",
       "  <tbody>\n",
       "    <tr>\n",
       "      <th>0</th>\n",
       "      <td>2.314082</td>\n",
       "      <td>80.616159</td>\n",
       "      <td>0.501703</td>\n",
       "      <td>34.311667</td>\n",
       "      <td>31.679267</td>\n",
       "      <td>1191.438162</td>\n",
       "      <td>0.022189</td>\n",
       "      <td>0.043068</td>\n",
       "      <td>5.890151</td>\n",
       "      <td>0.061437</td>\n",
       "      <td>2.124108</td>\n",
       "      <td>2.356668</td>\n",
       "      <td>3.147631</td>\n",
       "      <td>4.068868</td>\n",
       "      <td>0.232479</td>\n",
       "    </tr>\n",
       "    <tr>\n",
       "      <th>1</th>\n",
       "      <td>17.000000</td>\n",
       "      <td>2629.253968</td>\n",
       "      <td>24.000000</td>\n",
       "      <td>2050.433333</td>\n",
       "      <td>705.000000</td>\n",
       "      <td>43171.233380</td>\n",
       "      <td>0.004851</td>\n",
       "      <td>0.015431</td>\n",
       "      <td>0.763829</td>\n",
       "      <td>0.000000</td>\n",
       "      <td>2.000000</td>\n",
       "      <td>2.000000</td>\n",
       "      <td>1.000000</td>\n",
       "      <td>14.000000</td>\n",
       "      <td>1.000000</td>\n",
       "    </tr>\n",
       "    <tr>\n",
       "      <th>2</th>\n",
       "      <td>1.000000</td>\n",
       "      <td>28.200000</td>\n",
       "      <td>0.000000</td>\n",
       "      <td>0.000000</td>\n",
       "      <td>2.000000</td>\n",
       "      <td>0.000000</td>\n",
       "      <td>0.066667</td>\n",
       "      <td>0.133333</td>\n",
       "      <td>0.000000</td>\n",
       "      <td>0.000000</td>\n",
       "      <td>1.000000</td>\n",
       "      <td>8.000000</td>\n",
       "      <td>2.000000</td>\n",
       "      <td>3.000000</td>\n",
       "      <td>1.000000</td>\n",
       "    </tr>\n",
       "  </tbody>\n",
       "</table>\n",
       "</div>"
      ],
      "text/plain": [
       "    Administrative  Administrative_Duration  Informational  \\\n",
       "ag                                                           \n",
       "0         2.314082                80.616159       0.501703   \n",
       "1        17.000000              2629.253968      24.000000   \n",
       "2         1.000000                28.200000       0.000000   \n",
       "\n",
       "    Informational_Duration  ProductRelated  ProductRelated_Duration  \\\n",
       "ag                                                                    \n",
       "0                34.311667       31.679267              1191.438162   \n",
       "1              2050.433333      705.000000             43171.233380   \n",
       "2                 0.000000        2.000000                 0.000000   \n",
       "\n",
       "    BounceRates  ExitRates  PageValues  SpecialDay  OperatingSystems  \\\n",
       "ag                                                                     \n",
       "0      0.022189   0.043068    5.890151    0.061437          2.124108   \n",
       "1      0.004851   0.015431    0.763829    0.000000          2.000000   \n",
       "2      0.066667   0.133333    0.000000    0.000000          1.000000   \n",
       "\n",
       "     Browser    Region  TrafficType   Weekend  \n",
       "ag                                             \n",
       "0   2.356668  3.147631     4.068868  0.232479  \n",
       "1   2.000000  1.000000    14.000000  1.000000  \n",
       "2   8.000000  2.000000     3.000000  1.000000  "
      ]
     },
     "execution_count": 61,
     "metadata": {},
     "output_type": "execute_result"
    }
   ],
   "source": [
    "df.groupby('ag').mean()"
   ]
  },
  {
   "cell_type": "markdown",
   "metadata": {},
   "source": [
    "Cluster 1 seems to have a very high administrative, and product level duration. Cluster 1 seems to visit very high page values while cluster 3 has page values close to 0 and used browser 8 almost exclusively."
   ]
  },
  {
   "cell_type": "code",
   "execution_count": 62,
   "metadata": {},
   "outputs": [],
   "source": [
    "l1 = df[df['ag'] == 0]\n",
    "l2 = df[df['ag']== 1]\n",
    "l3 = df[df['ag']== 2]"
   ]
  },
  {
   "cell_type": "code",
   "execution_count": 67,
   "metadata": {},
   "outputs": [
    {
     "data": {
      "text/plain": [
       "8    1\n",
       "Name: Browser, dtype: int64"
      ]
     },
     "execution_count": 67,
     "metadata": {},
     "output_type": "execute_result"
    }
   ],
   "source": [
    "l3.Browser.value_counts()"
   ]
  },
  {
   "cell_type": "code",
   "execution_count": 68,
   "metadata": {},
   "outputs": [
    {
     "data": {
      "text/plain": [
       "2    1\n",
       "Name: Browser, dtype: int64"
      ]
     },
     "execution_count": 68,
     "metadata": {},
     "output_type": "execute_result"
    }
   ],
   "source": [
    "l2.Browser.value_counts()"
   ]
  },
  {
   "cell_type": "markdown",
   "metadata": {},
   "source": [
    "Actually, it seems like this clustering was isn't working because it is grouping everything into cluster 0 except for 1 row for each of the other categories which it deems most unlike the other categories. "
   ]
  },
  {
   "cell_type": "markdown",
   "metadata": {},
   "source": [
    "Let's see what happens if we increase k"
   ]
  },
  {
   "cell_type": "code",
   "execution_count": 69,
   "metadata": {},
   "outputs": [],
   "source": [
    "from sklearn.cluster import (\n",
    "    AgglomerativeClustering,\n",
    ")\n",
    "ag = AgglomerativeClustering(\n",
    "    n_clusters=20,\n",
    "    affinity=\"euclidean\",\n",
    "    linkage=\"single\",\n",
    ")\n",
    "clusters = ag.fit(cleaned) "
   ]
  },
  {
   "cell_type": "code",
   "execution_count": 70,
   "metadata": {},
   "outputs": [],
   "source": [
    "df['ag2'] = clusters.labels_"
   ]
  },
  {
   "cell_type": "code",
   "execution_count": 79,
   "metadata": {},
   "outputs": [],
   "source": [
    "l1 = df[df['ag2'] == 0]\n",
    "l2 = df[df['ag2']== 1]\n",
    "l3 = df[df['ag2']== 2]\n",
    "l3 = df[df['ag2']== 3]"
   ]
  },
  {
   "cell_type": "code",
   "execution_count": 80,
   "metadata": {},
   "outputs": [
    {
     "data": {
      "text/plain": [
       "12310"
      ]
     },
     "execution_count": 80,
     "metadata": {},
     "output_type": "execute_result"
    }
   ],
   "source": [
    "len(l1)"
   ]
  },
  {
   "cell_type": "code",
   "execution_count": 81,
   "metadata": {},
   "outputs": [
    {
     "data": {
      "text/plain": [
       "2"
      ]
     },
     "execution_count": 81,
     "metadata": {},
     "output_type": "execute_result"
    }
   ],
   "source": [
    "len(l2)"
   ]
  },
  {
   "cell_type": "code",
   "execution_count": 82,
   "metadata": {},
   "outputs": [
    {
     "data": {
      "text/plain": [
       "1"
      ]
     },
     "execution_count": 82,
     "metadata": {},
     "output_type": "execute_result"
    }
   ],
   "source": [
    "len(l3)"
   ]
  },
  {
   "cell_type": "markdown",
   "metadata": {},
   "source": [
    "In this case we used 20 clusters and we are noticing the same thing. This algorithm wants to group all the entries into the same cluster. "
   ]
  },
  {
   "cell_type": "markdown",
   "metadata": {},
   "source": [
    "Going back to the dendogram, we can understand why this is happening. All the lines are meeting at the top of the graph. That means that each point is about equally distant from the point next to it. When we try to cluster the points then into 2 groups, it sees all the points next to it as equal. "
   ]
  },
  {
   "cell_type": "markdown",
   "metadata": {},
   "source": [
    "Now let's see what value of k would be best if we use k means."
   ]
  },
  {
   "cell_type": "code",
   "execution_count": 89,
   "metadata": {},
   "outputs": [],
   "source": [
    "from sklearn.cluster import KMeans\n",
    "inertias = []\n",
    "sizes = range(2,20)\n",
    "for k in sizes:\n",
    "    Kmean = KMeans(n_clusters=k)\n",
    "    Kmean.fit(cleaned)\n",
    "    inertias.append(Kmean.inertia_)"
   ]
  },
  {
   "cell_type": "code",
   "execution_count": 90,
   "metadata": {},
   "outputs": [
    {
     "data": {
      "text/plain": [
       "[<matplotlib.lines.Line2D at 0x16b7922cef0>]"
      ]
     },
     "execution_count": 90,
     "metadata": {},
     "output_type": "execute_result"
    },
    {
     "data": {
      "image/png": "[encoded data removed]",
      "text/plain": [
       "<Figure size 432x288 with 1 Axes>"
      ]
     },
     "metadata": {
      "needs_background": "light"
     },
     "output_type": "display_data"
    }
   ],
   "source": [
    "plt.plot(sizes,inertias)"
   ]
  },
  {
   "cell_type": "markdown",
   "metadata": {},
   "source": [
    "Inertia is a function of the distance of each point to the centroid. Obviously, the lower more centroids then, the better the distance.We therefore look for an elbow in the graph. To me, this graph looks pretty smooth. We therefore can also use silhouette scores. This scores how far each point is within the cluster. "
   ]
  },
  {
   "cell_type": "code",
   "execution_count": 91,
   "metadata": {},
   "outputs": [],
   "source": [
    "from sklearn.metrics import silhouette_score\n",
    "silhouette_scores = []\n",
    "sizes = range(2,20)\n",
    "for k in sizes:\n",
    "    Kmean = KMeans(n_clusters=k)\n",
    "    Kmean.fit(cleaned)\n",
    "    silhouette_scores.append(silhouette_score(cleaned, Kmean.labels_))"
   ]
  },
  {
   "cell_type": "code",
   "execution_count": 92,
   "metadata": {},
   "outputs": [
    {
     "data": {
      "text/plain": [
       "[<matplotlib.lines.Line2D at 0x16b7929aa58>]"
      ]
     },
     "execution_count": 92,
     "metadata": {},
     "output_type": "execute_result"
    },
    {
     "data": {
      "image/png": "[encoded data removed]",
      "text/plain": [
       "<Figure size 432x288 with 1 Axes>"
      ]
     },
     "metadata": {
      "needs_background": "light"
     },
     "output_type": "display_data"
    }
   ],
   "source": [
    "plt.plot(sizes, silhouette_scores)\n"
   ]
  },
  {
   "cell_type": "markdown",
   "metadata": {},
   "source": [
    "We see that our our highest silhouette scores are at 2 and 3 but the scores are all very low. This kind of tells us that KMeans might not be the right model here. The close to 0 these scores are, the closer these points are to the edge of the decision boundry. We see that most of the points are close to the edge. "
   ]
  },
  {
   "cell_type": "markdown",
   "metadata": {},
   "source": [
    "Let's use 1 more metric, The Dallas Bouldin Index. This scores tells us the similarity between clusters. The close the score is to 0, the better."
   ]
  },
  {
   "cell_type": "code",
   "execution_count": 93,
   "metadata": {},
   "outputs": [],
   "source": [
    "from sklearn import metrics\n",
    "db_scores = []\n",
    "sizes = range(2,20)\n",
    "for k in sizes:\n",
    "    Kmean = KMeans(n_clusters=k)\n",
    "    Kmean.fit(cleaned)\n",
    "    db_scores.append(metrics.davies_bouldin_score(cleaned, Kmean.labels_))"
   ]
  },
  {
   "cell_type": "code",
   "execution_count": 94,
   "metadata": {},
   "outputs": [
    {
     "data": {
      "text/plain": [
       "[<matplotlib.lines.Line2D at 0x16b792ff6a0>]"
      ]
     },
     "execution_count": 94,
     "metadata": {},
     "output_type": "execute_result"
    },
    {
     "data": {
      "image/png": "[encoded data removed]",
      "text/plain": [
       "<Figure size 432x288 with 1 Axes>"
      ]
     },
     "metadata": {
      "needs_background": "light"
     },
     "output_type": "display_data"
    }
   ],
   "source": [
    "plt.plot(sizes, db_scores)"
   ]
  },
  {
   "cell_type": "markdown",
   "metadata": {},
   "source": [
    "It seems from this graph the 2 is is the best."
   ]
  },
  {
   "cell_type": "code",
   "execution_count": 95,
   "metadata": {},
   "outputs": [],
   "source": [
    "Kmean3 = KMeans(n_clusters=3)\n",
    "Kmean3.fit(cleaned)\n",
    "arr =Kmean3.predict(cleaned)"
   ]
  },
  {
   "cell_type": "code",
   "execution_count": 96,
   "metadata": {},
   "outputs": [],
   "source": [
    "df['Labels3'] = arr"
   ]
  },
  {
   "cell_type": "code",
   "execution_count": null,
   "metadata": {},
   "outputs": [],
   "source": []
  },
  {
   "cell_type": "code",
   "execution_count": 97,
   "metadata": {},
   "outputs": [
    {
     "data": {
      "text/html": [
       "<div>\n",
       "<style scoped>\n",
       "    .dataframe tbody tr th:only-of-type {\n",
       "        vertical-align: middle;\n",
       "    }\n",
       "\n",
       "    .dataframe tbody tr th {\n",
       "        vertical-align: top;\n",
       "    }\n",
       "\n",
       "    .dataframe thead th {\n",
       "        text-align: right;\n",
       "    }\n",
       "</style>\n",
       "<table border=\"1\" class=\"dataframe\">\n",
       "  <thead>\n",
       "    <tr style=\"text-align: right;\">\n",
       "      <th></th>\n",
       "      <th>Administrative</th>\n",
       "      <th>Administrative_Duration</th>\n",
       "      <th>Informational</th>\n",
       "      <th>Informational_Duration</th>\n",
       "      <th>ProductRelated</th>\n",
       "      <th>ProductRelated_Duration</th>\n",
       "      <th>BounceRates</th>\n",
       "      <th>ExitRates</th>\n",
       "      <th>PageValues</th>\n",
       "      <th>SpecialDay</th>\n",
       "      <th>OperatingSystems</th>\n",
       "      <th>Browser</th>\n",
       "      <th>Region</th>\n",
       "      <th>TrafficType</th>\n",
       "      <th>Weekend</th>\n",
       "      <th>ag</th>\n",
       "      <th>ag2</th>\n",
       "    </tr>\n",
       "    <tr>\n",
       "      <th>Labels3</th>\n",
       "      <th></th>\n",
       "      <th></th>\n",
       "      <th></th>\n",
       "      <th></th>\n",
       "      <th></th>\n",
       "      <th></th>\n",
       "      <th></th>\n",
       "      <th></th>\n",
       "      <th></th>\n",
       "      <th></th>\n",
       "      <th></th>\n",
       "      <th></th>\n",
       "      <th></th>\n",
       "      <th></th>\n",
       "      <th></th>\n",
       "      <th></th>\n",
       "      <th></th>\n",
       "    </tr>\n",
       "  </thead>\n",
       "  <tbody>\n",
       "    <tr>\n",
       "      <th>0</th>\n",
       "      <td>2.305455</td>\n",
       "      <td>89.325191</td>\n",
       "      <td>0.536000</td>\n",
       "      <td>31.989632</td>\n",
       "      <td>27.130545</td>\n",
       "      <td>990.624701</td>\n",
       "      <td>0.031943</td>\n",
       "      <td>0.050077</td>\n",
       "      <td>3.670915</td>\n",
       "      <td>0.069600</td>\n",
       "      <td>3.098545</td>\n",
       "      <td>2.106545</td>\n",
       "      <td>3.104000</td>\n",
       "      <td>5.165455</td>\n",
       "      <td>0.289091</td>\n",
       "      <td>0.000000</td>\n",
       "      <td>0.022545</td>\n",
       "    </tr>\n",
       "    <tr>\n",
       "      <th>1</th>\n",
       "      <td>2.365891</td>\n",
       "      <td>76.567315</td>\n",
       "      <td>0.503931</td>\n",
       "      <td>37.522881</td>\n",
       "      <td>36.816904</td>\n",
       "      <td>1409.294519</td>\n",
       "      <td>0.016542</td>\n",
       "      <td>0.038835</td>\n",
       "      <td>6.787989</td>\n",
       "      <td>0.063653</td>\n",
       "      <td>2.009072</td>\n",
       "      <td>2.749320</td>\n",
       "      <td>3.212579</td>\n",
       "      <td>3.695343</td>\n",
       "      <td>0.186423</td>\n",
       "      <td>0.000151</td>\n",
       "      <td>0.008618</td>\n",
       "    </tr>\n",
       "    <tr>\n",
       "      <th>2</th>\n",
       "      <td>2.211059</td>\n",
       "      <td>82.411656</td>\n",
       "      <td>0.472690</td>\n",
       "      <td>29.971964</td>\n",
       "      <td>24.657114</td>\n",
       "      <td>905.572831</td>\n",
       "      <td>0.025747</td>\n",
       "      <td>0.046029</td>\n",
       "      <td>5.941933</td>\n",
       "      <td>0.048887</td>\n",
       "      <td>1.476736</td>\n",
       "      <td>1.714767</td>\n",
       "      <td>3.042144</td>\n",
       "      <td>3.888065</td>\n",
       "      <td>0.283210</td>\n",
       "      <td>0.000674</td>\n",
       "      <td>0.024275</td>\n",
       "    </tr>\n",
       "  </tbody>\n",
       "</table>\n",
       "</div>"
      ],
      "text/plain": [
       "         Administrative  Administrative_Duration  Informational  \\\n",
       "Labels3                                                           \n",
       "0              2.305455                89.325191       0.536000   \n",
       "1              2.365891                76.567315       0.503931   \n",
       "2              2.211059                82.411656       0.472690   \n",
       "\n",
       "         Informational_Duration  ProductRelated  ProductRelated_Duration  \\\n",
       "Labels3                                                                    \n",
       "0                     31.989632       27.130545               990.624701   \n",
       "1                     37.522881       36.816904              1409.294519   \n",
       "2                     29.971964       24.657114               905.572831   \n",
       "\n",
       "         BounceRates  ExitRates  PageValues  SpecialDay  OperatingSystems  \\\n",
       "Labels3                                                                     \n",
       "0           0.031943   0.050077    3.670915    0.069600          3.098545   \n",
       "1           0.016542   0.038835    6.787989    0.063653          2.009072   \n",
       "2           0.025747   0.046029    5.941933    0.048887          1.476736   \n",
       "\n",
       "          Browser    Region  TrafficType   Weekend        ag       ag2  \n",
       "Labels3                                                                 \n",
       "0        2.106545  3.104000     5.165455  0.289091  0.000000  0.022545  \n",
       "1        2.749320  3.212579     3.695343  0.186423  0.000151  0.008618  \n",
       "2        1.714767  3.042144     3.888065  0.283210  0.000674  0.024275  "
      ]
     },
     "execution_count": 97,
     "metadata": {},
     "output_type": "execute_result"
    }
   ],
   "source": [
    "df.groupby('Labels3').mean()"
   ]
  },
  {
   "cell_type": "markdown",
   "metadata": {},
   "source": [
    "I created these group by objects to try to see if there is any significant difference between these columns. \n",
    "Category 2 seems to spend longer on administrative things, but category 0 seems to spend longer on informational sites. The bounce rate for category 2 seems to be higher and the page value for category 1 seems to be higher."
   ]
  },
  {
   "cell_type": "markdown",
   "metadata": {},
   "source": [
    "It seems like category 0 users spend more time looking at products and pages that have high value - making them more likely to make a sale."
   ]
  },
  {
   "cell_type": "code",
   "execution_count": 98,
   "metadata": {},
   "outputs": [
    {
     "data": {
      "text/html": [
       "<div>\n",
       "<style scoped>\n",
       "    .dataframe tbody tr th:only-of-type {\n",
       "        vertical-align: middle;\n",
       "    }\n",
       "\n",
       "    .dataframe tbody tr th {\n",
       "        vertical-align: top;\n",
       "    }\n",
       "\n",
       "    .dataframe thead th {\n",
       "        text-align: right;\n",
       "    }\n",
       "</style>\n",
       "<table border=\"1\" class=\"dataframe\">\n",
       "  <thead>\n",
       "    <tr style=\"text-align: right;\">\n",
       "      <th></th>\n",
       "      <th>Administrative</th>\n",
       "      <th>Administrative_Duration</th>\n",
       "      <th>Informational</th>\n",
       "      <th>Informational_Duration</th>\n",
       "      <th>ProductRelated</th>\n",
       "      <th>ProductRelated_Duration</th>\n",
       "      <th>BounceRates</th>\n",
       "      <th>ExitRates</th>\n",
       "      <th>PageValues</th>\n",
       "      <th>SpecialDay</th>\n",
       "      <th>OperatingSystems</th>\n",
       "      <th>Browser</th>\n",
       "      <th>Region</th>\n",
       "      <th>TrafficType</th>\n",
       "      <th>Weekend</th>\n",
       "      <th>ag</th>\n",
       "      <th>ag2</th>\n",
       "    </tr>\n",
       "    <tr>\n",
       "      <th>Labels3</th>\n",
       "      <th></th>\n",
       "      <th></th>\n",
       "      <th></th>\n",
       "      <th></th>\n",
       "      <th></th>\n",
       "      <th></th>\n",
       "      <th></th>\n",
       "      <th></th>\n",
       "      <th></th>\n",
       "      <th></th>\n",
       "      <th></th>\n",
       "      <th></th>\n",
       "      <th></th>\n",
       "      <th></th>\n",
       "      <th></th>\n",
       "      <th></th>\n",
       "      <th></th>\n",
       "    </tr>\n",
       "  </thead>\n",
       "  <tbody>\n",
       "    <tr>\n",
       "      <th>0</th>\n",
       "      <td>3.348304</td>\n",
       "      <td>178.923684</td>\n",
       "      <td>1.320562</td>\n",
       "      <td>122.099782</td>\n",
       "      <td>36.835630</td>\n",
       "      <td>1388.567256</td>\n",
       "      <td>0.054324</td>\n",
       "      <td>0.053545</td>\n",
       "      <td>12.516683</td>\n",
       "      <td>0.215242</td>\n",
       "      <td>0.462605</td>\n",
       "      <td>0.691312</td>\n",
       "      <td>2.312307</td>\n",
       "      <td>4.667782</td>\n",
       "      <td>0.453423</td>\n",
       "      <td>0.000000</td>\n",
       "      <td>0.577435</td>\n",
       "    </tr>\n",
       "    <tr>\n",
       "      <th>1</th>\n",
       "      <td>3.385386</td>\n",
       "      <td>177.979641</td>\n",
       "      <td>1.282753</td>\n",
       "      <td>152.793505</td>\n",
       "      <td>50.733833</td>\n",
       "      <td>2261.353840</td>\n",
       "      <td>0.042091</td>\n",
       "      <td>0.043822</td>\n",
       "      <td>19.893796</td>\n",
       "      <td>0.199668</td>\n",
       "      <td>0.201857</td>\n",
       "      <td>1.648830</td>\n",
       "      <td>2.439379</td>\n",
       "      <td>3.702311</td>\n",
       "      <td>0.389477</td>\n",
       "      <td>0.012296</td>\n",
       "      <td>0.336433</td>\n",
       "    </tr>\n",
       "    <tr>\n",
       "      <th>2</th>\n",
       "      <td>3.147947</td>\n",
       "      <td>171.769601</td>\n",
       "      <td>1.191494</td>\n",
       "      <td>128.204875</td>\n",
       "      <td>33.151328</td>\n",
       "      <td>1345.270306</td>\n",
       "      <td>0.054008</td>\n",
       "      <td>0.052769</td>\n",
       "      <td>19.984256</td>\n",
       "      <td>0.180080</td>\n",
       "      <td>1.354512</td>\n",
       "      <td>2.223035</td>\n",
       "      <td>2.394043</td>\n",
       "      <td>3.890874</td>\n",
       "      <td>0.450633</td>\n",
       "      <td>0.036724</td>\n",
       "      <td>0.520167</td>\n",
       "    </tr>\n",
       "  </tbody>\n",
       "</table>\n",
       "</div>"
      ],
      "text/plain": [
       "         Administrative  Administrative_Duration  Informational  \\\n",
       "Labels3                                                           \n",
       "0              3.348304               178.923684       1.320562   \n",
       "1              3.385386               177.979641       1.282753   \n",
       "2              3.147947               171.769601       1.191494   \n",
       "\n",
       "         Informational_Duration  ProductRelated  ProductRelated_Duration  \\\n",
       "Labels3                                                                    \n",
       "0                    122.099782       36.835630              1388.567256   \n",
       "1                    152.793505       50.733833              2261.353840   \n",
       "2                    128.204875       33.151328              1345.270306   \n",
       "\n",
       "         BounceRates  ExitRates  PageValues  SpecialDay  OperatingSystems  \\\n",
       "Labels3                                                                     \n",
       "0           0.054324   0.053545   12.516683    0.215242          0.462605   \n",
       "1           0.042091   0.043822   19.893796    0.199668          0.201857   \n",
       "2           0.054008   0.052769   19.984256    0.180080          1.354512   \n",
       "\n",
       "          Browser    Region  TrafficType   Weekend        ag       ag2  \n",
       "Labels3                                                                 \n",
       "0        0.691312  2.312307     4.667782  0.453423  0.000000  0.577435  \n",
       "1        1.648830  2.439379     3.702311  0.389477  0.012296  0.336433  \n",
       "2        2.223035  2.394043     3.890874  0.450633  0.036724  0.520167  "
      ]
     },
     "execution_count": 98,
     "metadata": {},
     "output_type": "execute_result"
    }
   ],
   "source": [
    "df.groupby('Labels3').std()"
   ]
  },
  {
   "cell_type": "markdown",
   "metadata": {},
   "source": [
    "The variance for all these columns is high so this might not mean much though."
   ]
  },
  {
   "cell_type": "code",
   "execution_count": 188,
   "metadata": {},
   "outputs": [],
   "source": [
    "l1 = df[df['Labels3'] == 0]\n",
    "l2 = df[df['Labels3']== 1]\n",
    "l3 = df[df['Labels3']== 2]"
   ]
  },
  {
   "cell_type": "code",
   "execution_count": 190,
   "metadata": {},
   "outputs": [
    {
     "data": {
      "text/plain": [
       "2     2611\n",
       "3      104\n",
       "6       12\n",
       "7        9\n",
       "5        6\n",
       "12       6\n",
       "13       1\n",
       "9        1\n",
       "Name: Browser, dtype: int64"
      ]
     },
     "execution_count": 190,
     "metadata": {},
     "output_type": "execute_result"
    }
   ],
   "source": [
    "l1.Browser.value_counts()"
   ]
  },
  {
   "cell_type": "code",
   "execution_count": 191,
   "metadata": {},
   "outputs": [
    {
     "data": {
      "text/plain": [
       "2     5071\n",
       "4      732\n",
       "5      432\n",
       "10     160\n",
       "6      155\n",
       "7       39\n",
       "1       13\n",
       "13       5\n",
       "12       4\n",
       "11       2\n",
       "3        1\n",
       "Name: Browser, dtype: int64"
      ]
     },
     "execution_count": 191,
     "metadata": {},
     "output_type": "execute_result"
    }
   ],
   "source": [
    "l2.Browser.value_counts()"
   ]
  },
  {
   "cell_type": "code",
   "execution_count": 192,
   "metadata": {},
   "outputs": [
    {
     "data": {
      "text/plain": [
       "1     2449\n",
       "2      279\n",
       "8      135\n",
       "13      55\n",
       "5       29\n",
       "6        7\n",
       "11       4\n",
       "4        4\n",
       "10       3\n",
       "7        1\n",
       "Name: Browser, dtype: int64"
      ]
     },
     "execution_count": 192,
     "metadata": {},
     "output_type": "execute_result"
    }
   ],
   "source": [
    "l3.Browser.value_counts()"
   ]
  },
  {
   "cell_type": "code",
   "execution_count": null,
   "metadata": {},
   "outputs": [],
   "source": [
    "It seems like the 3rd grouping has more people using browser type 1. "
   ]
  },
  {
   "cell_type": "code",
   "execution_count": 194,
   "metadata": {},
   "outputs": [
    {
     "data": {
      "text/plain": [
       "May     760\n",
       "Nov     702\n",
       "Mar     405\n",
       "Dec     370\n",
       "Jul     111\n",
       "Sep     110\n",
       "Oct     103\n",
       "Aug      95\n",
       "June     64\n",
       "Feb      30\n",
       "Name: Month, dtype: int64"
      ]
     },
     "execution_count": 194,
     "metadata": {},
     "output_type": "execute_result"
    }
   ],
   "source": [
    "l1.Month.value_counts()"
   ]
  },
  {
   "cell_type": "code",
   "execution_count": 195,
   "metadata": {},
   "outputs": [
    {
     "data": {
      "text/plain": [
       "May     1898\n",
       "Nov     1538\n",
       "Mar     1071\n",
       "Dec      876\n",
       "Oct      285\n",
       "Sep      248\n",
       "Aug      234\n",
       "Jul      221\n",
       "June     160\n",
       "Feb       83\n",
       "Name: Month, dtype: int64"
      ]
     },
     "execution_count": 195,
     "metadata": {},
     "output_type": "execute_result"
    }
   ],
   "source": [
    "l2.Month.value_counts()"
   ]
  },
  {
   "cell_type": "code",
   "execution_count": 196,
   "metadata": {},
   "outputs": [
    {
     "data": {
      "text/plain": [
       "Nov     758\n",
       "May     706\n",
       "Dec     481\n",
       "Mar     431\n",
       "Oct     161\n",
       "Aug     104\n",
       "Jul     100\n",
       "Sep      90\n",
       "Feb      71\n",
       "June     64\n",
       "Name: Month, dtype: int64"
      ]
     },
     "execution_count": 196,
     "metadata": {},
     "output_type": "execute_result"
    }
   ],
   "source": [
    "l3.Month.value_counts()"
   ]
  },
  {
   "cell_type": "markdown",
   "metadata": {},
   "source": [
    "All of these look around the same."
   ]
  },
  {
   "cell_type": "markdown",
   "metadata": {},
   "source": [
    "The differences between type 2 and type 3 are so slight, I don't really think it makes that much sense to cluster into 3 groups."
   ]
  },
  {
   "cell_type": "markdown",
   "metadata": {},
   "source": [
    "Let's see if we notice anything significant when we cluster into 2 groups."
   ]
  },
  {
   "cell_type": "code",
   "execution_count": 101,
   "metadata": {},
   "outputs": [],
   "source": [
    "Kmean2 = KMeans(n_clusters=2, random_state = 1234)\n",
    "Kmean2.fit(cleaned)\n",
    "arr =Kmean2.predict(cleaned)"
   ]
  },
  {
   "cell_type": "code",
   "execution_count": 102,
   "metadata": {},
   "outputs": [],
   "source": [
    "df['Labels2'] = arr"
   ]
  },
  {
   "cell_type": "code",
   "execution_count": 103,
   "metadata": {},
   "outputs": [
    {
     "data": {
      "text/html": [
       "<div>\n",
       "<style scoped>\n",
       "    .dataframe tbody tr th:only-of-type {\n",
       "        vertical-align: middle;\n",
       "    }\n",
       "\n",
       "    .dataframe tbody tr th {\n",
       "        vertical-align: top;\n",
       "    }\n",
       "\n",
       "    .dataframe thead th {\n",
       "        text-align: right;\n",
       "    }\n",
       "</style>\n",
       "<table border=\"1\" class=\"dataframe\">\n",
       "  <thead>\n",
       "    <tr style=\"text-align: right;\">\n",
       "      <th></th>\n",
       "      <th>Administrative</th>\n",
       "      <th>Administrative_Duration</th>\n",
       "      <th>Informational</th>\n",
       "      <th>Informational_Duration</th>\n",
       "      <th>ProductRelated</th>\n",
       "      <th>ProductRelated_Duration</th>\n",
       "      <th>BounceRates</th>\n",
       "      <th>ExitRates</th>\n",
       "      <th>PageValues</th>\n",
       "      <th>SpecialDay</th>\n",
       "      <th>OperatingSystems</th>\n",
       "      <th>Browser</th>\n",
       "      <th>Region</th>\n",
       "      <th>TrafficType</th>\n",
       "      <th>Weekend</th>\n",
       "      <th>ag</th>\n",
       "      <th>ag2</th>\n",
       "      <th>Labels3</th>\n",
       "    </tr>\n",
       "    <tr>\n",
       "      <th>Labels2</th>\n",
       "      <th></th>\n",
       "      <th></th>\n",
       "      <th></th>\n",
       "      <th></th>\n",
       "      <th></th>\n",
       "      <th></th>\n",
       "      <th></th>\n",
       "      <th></th>\n",
       "      <th></th>\n",
       "      <th></th>\n",
       "      <th></th>\n",
       "      <th></th>\n",
       "      <th></th>\n",
       "      <th></th>\n",
       "      <th></th>\n",
       "      <th></th>\n",
       "      <th></th>\n",
       "      <th></th>\n",
       "    </tr>\n",
       "  </thead>\n",
       "  <tbody>\n",
       "    <tr>\n",
       "      <th>0</th>\n",
       "      <td>2.141982</td>\n",
       "      <td>79.731001</td>\n",
       "      <td>0.467279</td>\n",
       "      <td>27.919034</td>\n",
       "      <td>24.061232</td>\n",
       "      <td>884.472666</td>\n",
       "      <td>0.026493</td>\n",
       "      <td>0.047129</td>\n",
       "      <td>5.484263</td>\n",
       "      <td>0.051971</td>\n",
       "      <td>1.358974</td>\n",
       "      <td>1.399923</td>\n",
       "      <td>2.915040</td>\n",
       "      <td>3.574818</td>\n",
       "      <td>0.287409</td>\n",
       "      <td>0.000765</td>\n",
       "      <td>0.011098</td>\n",
       "      <td>1.995408</td>\n",
       "    </tr>\n",
       "    <tr>\n",
       "      <th>1</th>\n",
       "      <td>2.361737</td>\n",
       "      <td>81.111080</td>\n",
       "      <td>0.513327</td>\n",
       "      <td>36.234664</td>\n",
       "      <td>33.794072</td>\n",
       "      <td>1278.181930</td>\n",
       "      <td>0.021035</td>\n",
       "      <td>0.041982</td>\n",
       "      <td>5.998165</td>\n",
       "      <td>0.063970</td>\n",
       "      <td>2.329731</td>\n",
       "      <td>2.614490</td>\n",
       "      <td>3.209838</td>\n",
       "      <td>4.202635</td>\n",
       "      <td>0.217866</td>\n",
       "      <td>0.000103</td>\n",
       "      <td>0.016672</td>\n",
       "      <td>0.754554</td>\n",
       "    </tr>\n",
       "  </tbody>\n",
       "</table>\n",
       "</div>"
      ],
      "text/plain": [
       "         Administrative  Administrative_Duration  Informational  \\\n",
       "Labels2                                                           \n",
       "0              2.141982                79.731001       0.467279   \n",
       "1              2.361737                81.111080       0.513327   \n",
       "\n",
       "         Informational_Duration  ProductRelated  ProductRelated_Duration  \\\n",
       "Labels2                                                                    \n",
       "0                     27.919034       24.061232               884.472666   \n",
       "1                     36.234664       33.794072              1278.181930   \n",
       "\n",
       "         BounceRates  ExitRates  PageValues  SpecialDay  OperatingSystems  \\\n",
       "Labels2                                                                     \n",
       "0           0.026493   0.047129    5.484263    0.051971          1.358974   \n",
       "1           0.021035   0.041982    5.998165    0.063970          2.329731   \n",
       "\n",
       "          Browser    Region  TrafficType   Weekend        ag       ag2  \\\n",
       "Labels2                                                                  \n",
       "0        1.399923  2.915040     3.574818  0.287409  0.000765  0.011098   \n",
       "1        2.614490  3.209838     4.202635  0.217866  0.000103  0.016672   \n",
       "\n",
       "          Labels3  \n",
       "Labels2            \n",
       "0        1.995408  \n",
       "1        0.754554  "
      ]
     },
     "execution_count": 103,
     "metadata": {},
     "output_type": "execute_result"
    }
   ],
   "source": [
    "df.groupby('Labels2').mean()"
   ]
  },
  {
   "cell_type": "markdown",
   "metadata": {},
   "source": [
    "When splitting into 2 groups, it seems like category 1 as a whole is spending more time on sites. Each of the website category types (Administrative_Duration, Informational_Duration, and ProductRelated_Duration) have higher values. They also have a lower Bounce Rate and the value on the sites they are looking on is higher. We can't really see categorical data from this though so let's look at our other variables."
   ]
  },
  {
   "cell_type": "code",
   "execution_count": 104,
   "metadata": {},
   "outputs": [
    {
     "data": {
      "text/plain": [
       "<pandas.core.groupby.groupby.SeriesGroupBy object at 0x0000016B7932AB70>"
      ]
     },
     "execution_count": 104,
     "metadata": {},
     "output_type": "execute_result"
    }
   ],
   "source": [
    "df.groupby('Labels2').OperatingSystems"
   ]
  },
  {
   "cell_type": "code",
   "execution_count": 105,
   "metadata": {},
   "outputs": [],
   "source": [
    "l1 = df[df['Labels2'] == 0]\n",
    "l2 = df[df['Labels2']== 1]\n"
   ]
  },
  {
   "cell_type": "code",
   "execution_count": 106,
   "metadata": {},
   "outputs": [
    {
     "data": {
      "text/plain": [
       "1    2305\n",
       "4     279\n",
       "2      15\n",
       "7       7\n",
       "8       6\n",
       "3       1\n",
       "Name: OperatingSystems, dtype: int64"
      ]
     },
     "execution_count": 106,
     "metadata": {},
     "output_type": "execute_result"
    }
   ],
   "source": [
    "l1.OperatingSystems.value_counts()"
   ]
  },
  {
   "cell_type": "code",
   "execution_count": 107,
   "metadata": {},
   "outputs": [
    {
     "data": {
      "text/plain": [
       "2    6586\n",
       "3    2554\n",
       "1     280\n",
       "4     199\n",
       "8      73\n",
       "6      19\n",
       "5       6\n",
       "Name: OperatingSystems, dtype: int64"
      ]
     },
     "execution_count": 107,
     "metadata": {},
     "output_type": "execute_result"
    }
   ],
   "source": [
    "l2.OperatingSystems.value_counts()"
   ]
  },
  {
   "cell_type": "markdown",
   "metadata": {},
   "source": [
    "This is interesting, Operating Systems seems to be playing a large role in our clustering algorithm. We see that there are a lot more rows with an operating system of 2 in those with the label of 1."
   ]
  },
  {
   "cell_type": "markdown",
   "metadata": {},
   "source": [
    "I don't think this is really a bad thing... A person with an old operating system or an expensive one may be more or less likely to buy something based on their buying habits. It does seem like this variable is having too much weight so I will recreate the model without this feature."
   ]
  },
  {
   "cell_type": "code",
   "execution_count": 108,
   "metadata": {},
   "outputs": [
    {
     "data": {
      "text/plain": [
       "1    1096\n",
       "3     547\n",
       "4     279\n",
       "2     218\n",
       "6     158\n",
       "8     103\n",
       "7     100\n",
       "9      74\n",
       "5      38\n",
       "Name: Region, dtype: int64"
      ]
     },
     "execution_count": 108,
     "metadata": {},
     "output_type": "execute_result"
    }
   ],
   "source": [
    "l1.Region.value_counts()"
   ]
  },
  {
   "cell_type": "code",
   "execution_count": 109,
   "metadata": {},
   "outputs": [
    {
     "data": {
      "text/plain": [
       "1    3684\n",
       "3    1856\n",
       "2     918\n",
       "4     903\n",
       "7     661\n",
       "6     647\n",
       "9     437\n",
       "8     331\n",
       "5     280\n",
       "Name: Region, dtype: int64"
      ]
     },
     "execution_count": 109,
     "metadata": {},
     "output_type": "execute_result"
    }
   ],
   "source": [
    "l2.Region.value_counts()"
   ]
  },
  {
   "cell_type": "markdown",
   "metadata": {},
   "source": [
    "This variable does not seem to have a large weight."
   ]
  },
  {
   "cell_type": "code",
   "execution_count": 110,
   "metadata": {},
   "outputs": [],
   "source": [
    "cleaned_2 = cleaned.drop(['OperatingSystems_1', 'OperatingSystems_2',\n",
    "       'OperatingSystems_3', 'OperatingSystems_4', 'OperatingSystems_5',\n",
    "       'OperatingSystems_6', 'OperatingSystems_7', 'Browser_1', 'Browser_2',\n",
    "       'Browser_3', 'Browser_4', 'Browser_5', 'Browser_6', 'Browser_7',\n",
    "       'Browser_8', 'Browser_9', 'Browser_10', 'Browser_11', 'Browser_12'], axis = 1)"
   ]
  },
  {
   "cell_type": "markdown",
   "metadata": {},
   "source": [
    "In the first part of the assignment we weren't clustering to predict a binary variable for revenue. At this point though, we are clustering to predict revenue and it is bothersome for these columns to be bearing so much weight. Our goal is to label revenue, not operating systems or browsers. These can be useful when we construct our svm model later, but I think at the very least we should look at how our model does when we use other variables."
   ]
  },
  {
   "cell_type": "markdown",
   "metadata": {},
   "source": [
    "Now that we dropped these columns though, we should look to see if using k = 2 makes sense."
   ]
  },
  {
   "cell_type": "code",
   "execution_count": 111,
   "metadata": {},
   "outputs": [],
   "source": [
    "Kmean2 = KMeans(n_clusters=2, random_state = 1234)\n",
    "Kmean2.fit(cleaned_2)\n",
    "arr =Kmean2.predict(cleaned_2)"
   ]
  },
  {
   "cell_type": "code",
   "execution_count": 112,
   "metadata": {},
   "outputs": [],
   "source": [
    "df['Labels2a'] = arr"
   ]
  },
  {
   "cell_type": "code",
   "execution_count": 113,
   "metadata": {},
   "outputs": [
    {
     "data": {
      "text/html": [
       "<div>\n",
       "<style scoped>\n",
       "    .dataframe tbody tr th:only-of-type {\n",
       "        vertical-align: middle;\n",
       "    }\n",
       "\n",
       "    .dataframe tbody tr th {\n",
       "        vertical-align: top;\n",
       "    }\n",
       "\n",
       "    .dataframe thead th {\n",
       "        text-align: right;\n",
       "    }\n",
       "</style>\n",
       "<table border=\"1\" class=\"dataframe\">\n",
       "  <thead>\n",
       "    <tr style=\"text-align: right;\">\n",
       "      <th></th>\n",
       "      <th>Administrative</th>\n",
       "      <th>Administrative_Duration</th>\n",
       "      <th>Informational</th>\n",
       "      <th>Informational_Duration</th>\n",
       "      <th>ProductRelated</th>\n",
       "      <th>ProductRelated_Duration</th>\n",
       "      <th>BounceRates</th>\n",
       "      <th>ExitRates</th>\n",
       "      <th>PageValues</th>\n",
       "      <th>SpecialDay</th>\n",
       "      <th>OperatingSystems</th>\n",
       "      <th>Browser</th>\n",
       "      <th>Region</th>\n",
       "      <th>TrafficType</th>\n",
       "      <th>Weekend</th>\n",
       "      <th>ag</th>\n",
       "      <th>ag2</th>\n",
       "      <th>Labels3</th>\n",
       "      <th>Labels2</th>\n",
       "    </tr>\n",
       "    <tr>\n",
       "      <th>Labels2a</th>\n",
       "      <th></th>\n",
       "      <th></th>\n",
       "      <th></th>\n",
       "      <th></th>\n",
       "      <th></th>\n",
       "      <th></th>\n",
       "      <th></th>\n",
       "      <th></th>\n",
       "      <th></th>\n",
       "      <th></th>\n",
       "      <th></th>\n",
       "      <th></th>\n",
       "      <th></th>\n",
       "      <th></th>\n",
       "      <th></th>\n",
       "      <th></th>\n",
       "      <th></th>\n",
       "      <th></th>\n",
       "      <th></th>\n",
       "    </tr>\n",
       "  </thead>\n",
       "  <tbody>\n",
       "    <tr>\n",
       "      <th>0</th>\n",
       "      <td>2.342914</td>\n",
       "      <td>81.559765</td>\n",
       "      <td>0.477086</td>\n",
       "      <td>32.694646</td>\n",
       "      <td>30.421457</td>\n",
       "      <td>1143.235462</td>\n",
       "      <td>0.022256</td>\n",
       "      <td>0.043038</td>\n",
       "      <td>5.881098</td>\n",
       "      <td>0.061060</td>\n",
       "      <td>2.144768</td>\n",
       "      <td>2.430728</td>\n",
       "      <td>4.506887</td>\n",
       "      <td>4.111921</td>\n",
       "      <td>0.237219</td>\n",
       "      <td>0.000265</td>\n",
       "      <td>0.021854</td>\n",
       "      <td>1.006225</td>\n",
       "      <td>0.799073</td>\n",
       "    </tr>\n",
       "    <tr>\n",
       "      <th>1</th>\n",
       "      <td>2.271339</td>\n",
       "      <td>79.647958</td>\n",
       "      <td>0.545397</td>\n",
       "      <td>37.280354</td>\n",
       "      <td>33.800628</td>\n",
       "      <td>1276.107354</td>\n",
       "      <td>0.022090</td>\n",
       "      <td>0.043127</td>\n",
       "      <td>5.902146</td>\n",
       "      <td>0.062008</td>\n",
       "      <td>2.091213</td>\n",
       "      <td>2.240795</td>\n",
       "      <td>1.000000</td>\n",
       "      <td>4.002720</td>\n",
       "      <td>0.225314</td>\n",
       "      <td>0.000209</td>\n",
       "      <td>0.005439</td>\n",
       "      <td>1.035356</td>\n",
       "      <td>0.770711</td>\n",
       "    </tr>\n",
       "  </tbody>\n",
       "</table>\n",
       "</div>"
      ],
      "text/plain": [
       "          Administrative  Administrative_Duration  Informational  \\\n",
       "Labels2a                                                           \n",
       "0               2.342914                81.559765       0.477086   \n",
       "1               2.271339                79.647958       0.545397   \n",
       "\n",
       "          Informational_Duration  ProductRelated  ProductRelated_Duration  \\\n",
       "Labels2a                                                                    \n",
       "0                      32.694646       30.421457              1143.235462   \n",
       "1                      37.280354       33.800628              1276.107354   \n",
       "\n",
       "          BounceRates  ExitRates  PageValues  SpecialDay  OperatingSystems  \\\n",
       "Labels2a                                                                     \n",
       "0            0.022256   0.043038    5.881098    0.061060          2.144768   \n",
       "1            0.022090   0.043127    5.902146    0.062008          2.091213   \n",
       "\n",
       "           Browser    Region  TrafficType   Weekend        ag       ag2  \\\n",
       "Labels2a                                                                  \n",
       "0         2.430728  4.506887     4.111921  0.237219  0.000265  0.021854   \n",
       "1         2.240795  1.000000     4.002720  0.225314  0.000209  0.005439   \n",
       "\n",
       "           Labels3   Labels2  \n",
       "Labels2a                      \n",
       "0         1.006225  0.799073  \n",
       "1         1.035356  0.770711  "
      ]
     },
     "execution_count": 113,
     "metadata": {},
     "output_type": "execute_result"
    }
   ],
   "source": [
    "df.groupby('Labels2a').mean()"
   ]
  },
  {
   "cell_type": "code",
   "execution_count": 114,
   "metadata": {},
   "outputs": [],
   "source": [
    "l1 = df[df['Labels2a'] == 0]\n",
    "l2 = df[df['Labels2a']== 1]"
   ]
  },
  {
   "cell_type": "code",
   "execution_count": 115,
   "metadata": {},
   "outputs": [
    {
     "data": {
      "text/plain": [
       "3    2403\n",
       "4    1182\n",
       "2    1136\n",
       "6     805\n",
       "7     761\n",
       "9     511\n",
       "8     434\n",
       "5     318\n",
       "Name: Region, dtype: int64"
      ]
     },
     "execution_count": 115,
     "metadata": {},
     "output_type": "execute_result"
    }
   ],
   "source": [
    "l1.Region.value_counts()"
   ]
  },
  {
   "cell_type": "code",
   "execution_count": 116,
   "metadata": {},
   "outputs": [
    {
     "data": {
      "text/plain": [
       "1    4780\n",
       "Name: Region, dtype: int64"
      ]
     },
     "execution_count": 116,
     "metadata": {},
     "output_type": "execute_result"
    }
   ],
   "source": [
    "l2.Region.value_counts()"
   ]
  },
  {
   "cell_type": "markdown",
   "metadata": {},
   "source": [
    "This model seems to be creating 2 clusters by just saying if a user is in region 1 then put him in cluster 1 else put him in cluster 0. "
   ]
  },
  {
   "cell_type": "markdown",
   "metadata": {},
   "source": [
    "This is not what we want. This isn't an issue of scaling because the region variable is a dummy variable."
   ]
  },
  {
   "cell_type": "code",
   "execution_count": 117,
   "metadata": {},
   "outputs": [
    {
     "data": {
      "text/plain": [
       "Index(['Administrative', 'Administrative_Duration', 'Informational',\n",
       "       'Informational_Duration', 'ProductRelated', 'ProductRelated_Duration',\n",
       "       'BounceRates', 'PageValues', 'SpecialDay', 'Month_Dec', 'Month_Feb',\n",
       "       'Month_Jul', 'Month_June', 'Month_Mar', 'Month_May', 'Month_Nov',\n",
       "       'Month_Oct', 'Month_Sep', 'Region_1', 'Region_2', 'Region_3',\n",
       "       'Region_4', 'Region_5', 'Region_6', 'Region_7', 'Region_8',\n",
       "       'TrafficType_1', 'TrafficType_2', 'TrafficType_3', 'TrafficType_4',\n",
       "       'TrafficType_5', 'TrafficType_6', 'TrafficType_7', 'TrafficType_8',\n",
       "       'TrafficType_9', 'TrafficType_10', 'TrafficType_11', 'TrafficType_12',\n",
       "       'TrafficType_13', 'TrafficType_14', 'TrafficType_15', 'TrafficType_16',\n",
       "       'TrafficType_17', 'TrafficType_18', 'TrafficType_19',\n",
       "       'VisitorType_New_Visitor', 'VisitorType_Returning_Visitor',\n",
       "       'Weekend_False'],\n",
       "      dtype='object')"
      ]
     },
     "execution_count": 117,
     "metadata": {},
     "output_type": "execute_result"
    }
   ],
   "source": [
    "cleaned_2.columns"
   ]
  },
  {
   "cell_type": "code",
   "execution_count": 118,
   "metadata": {},
   "outputs": [],
   "source": [
    "cleaned_3 = cleaned_2.drop(['Region_1', 'Region_2', 'Region_3','Region_4', 'Region_5', 'Region_6', 'Region_7', 'Region_8'], axis = 1)"
   ]
  },
  {
   "cell_type": "code",
   "execution_count": 119,
   "metadata": {},
   "outputs": [],
   "source": [
    "Kmean2 = KMeans(n_clusters=2, random_state = 1234)\n",
    "Kmean2.fit(cleaned_3)\n",
    "arr =Kmean2.predict(cleaned_3)"
   ]
  },
  {
   "cell_type": "code",
   "execution_count": 120,
   "metadata": {},
   "outputs": [],
   "source": [
    "df['Labels2b'] = arr"
   ]
  },
  {
   "cell_type": "code",
   "execution_count": 121,
   "metadata": {},
   "outputs": [
    {
     "data": {
      "text/html": [
       "<div>\n",
       "<style scoped>\n",
       "    .dataframe tbody tr th:only-of-type {\n",
       "        vertical-align: middle;\n",
       "    }\n",
       "\n",
       "    .dataframe tbody tr th {\n",
       "        vertical-align: top;\n",
       "    }\n",
       "\n",
       "    .dataframe thead th {\n",
       "        text-align: right;\n",
       "    }\n",
       "</style>\n",
       "<table border=\"1\" class=\"dataframe\">\n",
       "  <thead>\n",
       "    <tr style=\"text-align: right;\">\n",
       "      <th></th>\n",
       "      <th>Administrative</th>\n",
       "      <th>Administrative_Duration</th>\n",
       "      <th>Informational</th>\n",
       "      <th>Informational_Duration</th>\n",
       "      <th>ProductRelated</th>\n",
       "      <th>ProductRelated_Duration</th>\n",
       "      <th>BounceRates</th>\n",
       "      <th>ExitRates</th>\n",
       "      <th>PageValues</th>\n",
       "      <th>SpecialDay</th>\n",
       "      <th>OperatingSystems</th>\n",
       "      <th>Browser</th>\n",
       "      <th>Region</th>\n",
       "      <th>TrafficType</th>\n",
       "      <th>Weekend</th>\n",
       "      <th>ag</th>\n",
       "      <th>ag2</th>\n",
       "      <th>Labels3</th>\n",
       "      <th>Labels2</th>\n",
       "      <th>Labels2a</th>\n",
       "    </tr>\n",
       "    <tr>\n",
       "      <th>Labels2b</th>\n",
       "      <th></th>\n",
       "      <th></th>\n",
       "      <th></th>\n",
       "      <th></th>\n",
       "      <th></th>\n",
       "      <th></th>\n",
       "      <th></th>\n",
       "      <th></th>\n",
       "      <th></th>\n",
       "      <th></th>\n",
       "      <th></th>\n",
       "      <th></th>\n",
       "      <th></th>\n",
       "      <th></th>\n",
       "      <th></th>\n",
       "      <th></th>\n",
       "      <th></th>\n",
       "      <th></th>\n",
       "      <th></th>\n",
       "      <th></th>\n",
       "    </tr>\n",
       "  </thead>\n",
       "  <tbody>\n",
       "    <tr>\n",
       "      <th>0</th>\n",
       "      <td>1.988148</td>\n",
       "      <td>66.526041</td>\n",
       "      <td>0.401016</td>\n",
       "      <td>25.999741</td>\n",
       "      <td>29.996874</td>\n",
       "      <td>1121.868713</td>\n",
       "      <td>0.030736</td>\n",
       "      <td>0.053488</td>\n",
       "      <td>4.162322</td>\n",
       "      <td>0.078771</td>\n",
       "      <td>2.153686</td>\n",
       "      <td>2.368195</td>\n",
       "      <td>3.124121</td>\n",
       "      <td>4.806981</td>\n",
       "      <td>0.216984</td>\n",
       "      <td>0.00013</td>\n",
       "      <td>0.014978</td>\n",
       "      <td>0.970305</td>\n",
       "      <td>0.797864</td>\n",
       "      <td>0.384084</td>\n",
       "    </tr>\n",
       "    <tr>\n",
       "      <th>1</th>\n",
       "      <td>2.854901</td>\n",
       "      <td>104.408110</td>\n",
       "      <td>0.672829</td>\n",
       "      <td>48.456289</td>\n",
       "      <td>34.594368</td>\n",
       "      <td>1315.028571</td>\n",
       "      <td>0.008089</td>\n",
       "      <td>0.025884</td>\n",
       "      <td>8.739519</td>\n",
       "      <td>0.032803</td>\n",
       "      <td>2.075021</td>\n",
       "      <td>2.338779</td>\n",
       "      <td>3.185727</td>\n",
       "      <td>2.852537</td>\n",
       "      <td>0.258383</td>\n",
       "      <td>0.00043</td>\n",
       "      <td>0.016337</td>\n",
       "      <td>1.095443</td>\n",
       "      <td>0.771926</td>\n",
       "      <td>0.393594</td>\n",
       "    </tr>\n",
       "  </tbody>\n",
       "</table>\n",
       "</div>"
      ],
      "text/plain": [
       "          Administrative  Administrative_Duration  Informational  \\\n",
       "Labels2b                                                           \n",
       "0               1.988148                66.526041       0.401016   \n",
       "1               2.854901               104.408110       0.672829   \n",
       "\n",
       "          Informational_Duration  ProductRelated  ProductRelated_Duration  \\\n",
       "Labels2b                                                                    \n",
       "0                      25.999741       29.996874              1121.868713   \n",
       "1                      48.456289       34.594368              1315.028571   \n",
       "\n",
       "          BounceRates  ExitRates  PageValues  SpecialDay  OperatingSystems  \\\n",
       "Labels2b                                                                     \n",
       "0            0.030736   0.053488    4.162322    0.078771          2.153686   \n",
       "1            0.008089   0.025884    8.739519    0.032803          2.075021   \n",
       "\n",
       "           Browser    Region  TrafficType   Weekend       ag       ag2  \\\n",
       "Labels2b                                                                 \n",
       "0         2.368195  3.124121     4.806981  0.216984  0.00013  0.014978   \n",
       "1         2.338779  3.185727     2.852537  0.258383  0.00043  0.016337   \n",
       "\n",
       "           Labels3   Labels2  Labels2a  \n",
       "Labels2b                                \n",
       "0         0.970305  0.797864  0.384084  \n",
       "1         1.095443  0.771926  0.393594  "
      ]
     },
     "execution_count": 121,
     "metadata": {},
     "output_type": "execute_result"
    }
   ],
   "source": [
    "df.groupby('Labels2b').mean()"
   ]
  },
  {
   "cell_type": "markdown",
   "metadata": {},
   "source": [
    "This cluster seems to be by a blend of more than 1 column. The differences in the times between product 1 and product 2 are much more pronounced."
   ]
  },
  {
   "cell_type": "markdown",
   "metadata": {},
   "source": [
    "I think that we should take our 3rd clusering. The first model was okay but not great; we saw that operating system, did have a big difference between the 2 labels but we also saw some small but consistent differences when we looked at the numeric data. The 3rd clustering clustered more by duration which we would think would be more profitable."
   ]
  },
  {
   "cell_type": "code",
   "execution_count": 122,
   "metadata": {},
   "outputs": [
    {
     "data": {
      "text/html": [
       "<div>\n",
       "<style scoped>\n",
       "    .dataframe tbody tr th:only-of-type {\n",
       "        vertical-align: middle;\n",
       "    }\n",
       "\n",
       "    .dataframe tbody tr th {\n",
       "        vertical-align: top;\n",
       "    }\n",
       "\n",
       "    .dataframe thead th {\n",
       "        text-align: right;\n",
       "    }\n",
       "</style>\n",
       "<table border=\"1\" class=\"dataframe\">\n",
       "  <thead>\n",
       "    <tr style=\"text-align: right;\">\n",
       "      <th></th>\n",
       "      <th>Administrative</th>\n",
       "      <th>Administrative_Duration</th>\n",
       "      <th>Informational</th>\n",
       "      <th>Informational_Duration</th>\n",
       "      <th>ProductRelated</th>\n",
       "      <th>ProductRelated_Duration</th>\n",
       "      <th>BounceRates</th>\n",
       "      <th>ExitRates</th>\n",
       "      <th>PageValues</th>\n",
       "      <th>SpecialDay</th>\n",
       "      <th>OperatingSystems</th>\n",
       "      <th>Browser</th>\n",
       "      <th>Region</th>\n",
       "      <th>TrafficType</th>\n",
       "      <th>Weekend</th>\n",
       "      <th>ag</th>\n",
       "      <th>ag2</th>\n",
       "      <th>Labels3</th>\n",
       "      <th>Labels2a</th>\n",
       "      <th>Labels2b</th>\n",
       "    </tr>\n",
       "    <tr>\n",
       "      <th>Labels2</th>\n",
       "      <th></th>\n",
       "      <th></th>\n",
       "      <th></th>\n",
       "      <th></th>\n",
       "      <th></th>\n",
       "      <th></th>\n",
       "      <th></th>\n",
       "      <th></th>\n",
       "      <th></th>\n",
       "      <th></th>\n",
       "      <th></th>\n",
       "      <th></th>\n",
       "      <th></th>\n",
       "      <th></th>\n",
       "      <th></th>\n",
       "      <th></th>\n",
       "      <th></th>\n",
       "      <th></th>\n",
       "      <th></th>\n",
       "      <th></th>\n",
       "    </tr>\n",
       "  </thead>\n",
       "  <tbody>\n",
       "    <tr>\n",
       "      <th>0</th>\n",
       "      <td>2.141982</td>\n",
       "      <td>79.731001</td>\n",
       "      <td>0.467279</td>\n",
       "      <td>27.919034</td>\n",
       "      <td>24.061232</td>\n",
       "      <td>884.472666</td>\n",
       "      <td>0.026493</td>\n",
       "      <td>0.047129</td>\n",
       "      <td>5.484263</td>\n",
       "      <td>0.051971</td>\n",
       "      <td>1.358974</td>\n",
       "      <td>1.399923</td>\n",
       "      <td>2.915040</td>\n",
       "      <td>3.574818</td>\n",
       "      <td>0.287409</td>\n",
       "      <td>0.000765</td>\n",
       "      <td>0.011098</td>\n",
       "      <td>1.995408</td>\n",
       "      <td>0.419441</td>\n",
       "      <td>0.406047</td>\n",
       "    </tr>\n",
       "    <tr>\n",
       "      <th>1</th>\n",
       "      <td>2.361737</td>\n",
       "      <td>81.111080</td>\n",
       "      <td>0.513327</td>\n",
       "      <td>36.234664</td>\n",
       "      <td>33.794072</td>\n",
       "      <td>1278.181930</td>\n",
       "      <td>0.021035</td>\n",
       "      <td>0.041982</td>\n",
       "      <td>5.998165</td>\n",
       "      <td>0.063970</td>\n",
       "      <td>2.329731</td>\n",
       "      <td>2.614490</td>\n",
       "      <td>3.209838</td>\n",
       "      <td>4.202635</td>\n",
       "      <td>0.217866</td>\n",
       "      <td>0.000103</td>\n",
       "      <td>0.016672</td>\n",
       "      <td>0.754554</td>\n",
       "      <td>0.379129</td>\n",
       "      <td>0.369559</td>\n",
       "    </tr>\n",
       "  </tbody>\n",
       "</table>\n",
       "</div>"
      ],
      "text/plain": [
       "         Administrative  Administrative_Duration  Informational  \\\n",
       "Labels2                                                           \n",
       "0              2.141982                79.731001       0.467279   \n",
       "1              2.361737                81.111080       0.513327   \n",
       "\n",
       "         Informational_Duration  ProductRelated  ProductRelated_Duration  \\\n",
       "Labels2                                                                    \n",
       "0                     27.919034       24.061232               884.472666   \n",
       "1                     36.234664       33.794072              1278.181930   \n",
       "\n",
       "         BounceRates  ExitRates  PageValues  SpecialDay  OperatingSystems  \\\n",
       "Labels2                                                                     \n",
       "0           0.026493   0.047129    5.484263    0.051971          1.358974   \n",
       "1           0.021035   0.041982    5.998165    0.063970          2.329731   \n",
       "\n",
       "          Browser    Region  TrafficType   Weekend        ag       ag2  \\\n",
       "Labels2                                                                  \n",
       "0        1.399923  2.915040     3.574818  0.287409  0.000765  0.011098   \n",
       "1        2.614490  3.209838     4.202635  0.217866  0.000103  0.016672   \n",
       "\n",
       "          Labels3  Labels2a  Labels2b  \n",
       "Labels2                                \n",
       "0        1.995408  0.419441  0.406047  \n",
       "1        0.754554  0.379129  0.369559  "
      ]
     },
     "execution_count": 122,
     "metadata": {},
     "output_type": "execute_result"
    }
   ],
   "source": [
    "df.groupby('Labels2').mean()"
   ]
  },
  {
   "cell_type": "markdown",
   "metadata": {},
   "source": [
    "As mentioned earlier, the second row has people who are online more often on Special days, are on sites with higher page values, and spend more time on the sites. We might therefore think they are more likely to be profitable."
   ]
  },
  {
   "cell_type": "markdown",
   "metadata": {},
   "source": [
    "### Clustering Output vs. Actual Labels"
   ]
  },
  {
   "cell_type": "markdown",
   "metadata": {},
   "source": [
    "Let's see how good our predictions are by comparing them to the actual data labels. We have to assume that our indexes will match up. "
   ]
  },
  {
   "cell_type": "code",
   "execution_count": 123,
   "metadata": {},
   "outputs": [],
   "source": [
    "username = 'cohenb51'\n",
    "path = 'Katz_School/develop/DAV6150/project2/Project2_Data_Labels.csv'\n",
    "labels = pd.read_csv(f'https://raw.githubusercontent.com/{username}/{path}')"
   ]
  },
  {
   "cell_type": "code",
   "execution_count": 124,
   "metadata": {},
   "outputs": [],
   "source": [
    "from sklearn import metrics\n"
   ]
  },
  {
   "cell_type": "markdown",
   "metadata": {},
   "source": [
    "Now, I think that we should decide upfront that we are going to choose the 3rd model. If we don't do this we might wind up overfitting the data. Although we are using a clustering algorithm, we still do have the data labels available to us so we can use them to evaluate our clusters. I'll look at all the metrics though to see if our choice of the 3rd clustering was good."
   ]
  },
  {
   "cell_type": "code",
   "execution_count": 125,
   "metadata": {},
   "outputs": [
    {
     "name": "stdout",
     "output_type": "stream",
     "text": [
      "1st set of columns accuracy score : 0.3037307380373074\n",
      "2nd set of columns accuracy score : 0.5826439578264396\n",
      "3rd set of columns accuracy score : 0.6355231143552311\n"
     ]
    }
   ],
   "source": [
    "print(f\"1st set of columns accuracy score : {metrics.accuracy_score(labels, df.Labels2)}\")\n",
    "print(f\"2nd set of columns accuracy score : {metrics.accuracy_score(labels, df.Labels2a)}\")\n",
    "print(f\"3rd set of columns accuracy score : {metrics.accuracy_score(labels, df.Labels2b)}\")"
   ]
  },
  {
   "cell_type": "markdown",
   "metadata": {},
   "source": [
    "Our choice of columns to cluster had the best accuracy. Note though - the first column accuracy could be the highest if we flip our 1 to be a 0 and a 0 to be a 1. Let's create a new column with this inversion so we can see the other scores with this."
   ]
  },
  {
   "cell_type": "code",
   "execution_count": 126,
   "metadata": {},
   "outputs": [],
   "source": [
    "df['labels2Invert'] = 1 - df.Labels2 "
   ]
  },
  {
   "cell_type": "markdown",
   "metadata": {},
   "source": [
    "This is not consistent though with what we said above since we said a 1 makes it more likely that the person made  purchase since they spend more time on the sites."
   ]
  },
  {
   "cell_type": "code",
   "execution_count": 127,
   "metadata": {},
   "outputs": [
    {
     "name": "stdout",
     "output_type": "stream",
     "text": [
      "1st set of columns accuracy score Inverted : 0.6962692619626926\n"
     ]
    }
   ],
   "source": [
    "print(f\"1st set of columns accuracy score Inverted : {metrics.accuracy_score(labels, df.labels2Invert)}\")"
   ]
  },
  {
   "cell_type": "code",
   "execution_count": 128,
   "metadata": {},
   "outputs": [
    {
     "name": "stdout",
     "output_type": "stream",
     "text": [
      "1st set of columns recall score : 0.7966457023060797\n",
      "1rd set of columns recall score Inverted : 0.20335429769392033\n",
      "2nd set of columns recall score : 0.40408805031446543\n",
      "3rd set of columns recall score : 0.5414046121593291\n"
     ]
    }
   ],
   "source": [
    "print(f\"1st set of columns recall score : {metrics.recall_score(labels, df.Labels2)}\")\n",
    "print(f\"1rd set of columns recall score Inverted : {metrics.recall_score(labels, df.labels2Invert)}\")\n",
    "print(f\"2nd set of columns recall score : {metrics.recall_score(labels, df.Labels2a)}\")\n",
    "print(f\"3rd set of columns recall score : {metrics.recall_score(labels, df.Labels2b)}\")"
   ]
  },
  {
   "cell_type": "markdown",
   "metadata": {},
   "source": [
    "The first model had the best recall. Our chosen model had the second best recall. Again note the flip between the first set of cluster"
   ]
  },
  {
   "cell_type": "code",
   "execution_count": 129,
   "metadata": {},
   "outputs": [
    {
     "name": "stdout",
     "output_type": "stream",
     "text": [
      "1st set of columns precision score : 0.15642688072450345\n",
      "1rd set of columns precision score Inverted : 0.1484883275928052\n",
      "2nd set of columns precision score : 0.16129707112970712\n",
      "3rd set of columns precision score : 0.22205503009458297\n"
     ]
    }
   ],
   "source": [
    "print(f\"1st set of columns precision score : {metrics.precision_score(labels, df.Labels2)}\")\n",
    "print(f\"1rd set of columns precision score Inverted : {metrics.precision_score(labels, df.labels2Invert)}\")\n",
    "print(f\"2nd set of columns precision score : {metrics.precision_score(labels, df.Labels2a)}\")\n",
    "print(f\"3rd set of columns precision score : {metrics.precision_score(labels, df.Labels2b)}\")"
   ]
  },
  {
   "cell_type": "markdown",
   "metadata": {},
   "source": [
    "All of these models have very bad precision. This means of the classes that we predicted truly had a revenue, only 15-22 percent actually gave revenue."
   ]
  },
  {
   "cell_type": "markdown",
   "metadata": {},
   "source": [
    "I think this could be a problem depending on what the model gets used for. If we invest a lot of money towards these positive predictions, this could be a problem"
   ]
  },
  {
   "cell_type": "code",
   "execution_count": 130,
   "metadata": {},
   "outputs": [
    {
     "name": "stdout",
     "output_type": "stream",
     "text": [
      "1st set of columns f1 score : 0.26150537634408605\n",
      "1rd set of columns f1 score Inverted : 0.17164344171643442\n",
      "2nd set of columns f1 score : 0.2305622009569378\n",
      "3rd set of columns f1 score : 0.3149390243902439\n"
     ]
    }
   ],
   "source": [
    "print(f\"1st set of columns f1 score : {metrics.f1_score(labels, df.Labels2)}\")\n",
    "print(f\"1rd set of columns f1 score Inverted : {metrics.f1_score(labels, df.labels2Invert)}\")\n",
    "print(f\"2nd set of columns f1 score : {metrics.f1_score(labels, df.Labels2a)}\")\n",
    "print(f\"3rd set of columns f1 score : {metrics.f1_score(labels, df.Labels2b)}\")"
   ]
  },
  {
   "cell_type": "markdown",
   "metadata": {},
   "source": [
    "Overall our chosen 3rd clustering had the best f1, accuracy score, and recall score. Also, to me the columns we chose make clusters that more intuitively explain predicting revenue. We see that the columns clustered as 1 spent more time on websites and the websites they looked at has a higher page value on average. The first model could in theory have a higher accuracy score if we flip the sign but this was not consistent with our eda work. "
   ]
  },
  {
   "cell_type": "markdown",
   "metadata": {},
   "source": [
    "Now we have no reason really to do this but per the assignment we are supposed to create a new column Revenue_V with the actual labels and Revenue for our clusters."
   ]
  },
  {
   "cell_type": "code",
   "execution_count": 170,
   "metadata": {},
   "outputs": [],
   "source": [
    "df['Revenue'] = df.Labels2b\n",
    "df['V_Revenue'] = labels"
   ]
  },
  {
   "cell_type": "code",
   "execution_count": 179,
   "metadata": {},
   "outputs": [
    {
     "data": {
      "text/plain": [
       "<matplotlib.axes._subplots.AxesSubplot at 0x16b79a23b00>"
      ]
     },
     "execution_count": 179,
     "metadata": {},
     "output_type": "execute_result"
    },
    {
     "data": {
      "image/png": "[encoded data removed]",
      "text/plain": [
       "<Figure size 432x288 with 1 Axes>"
      ]
     },
     "metadata": {
      "needs_background": "light"
     },
     "output_type": "display_data"
    }
   ],
   "source": [
    "df['Revenue'].hist()"
   ]
  },
  {
   "cell_type": "code",
   "execution_count": 180,
   "metadata": {},
   "outputs": [
    {
     "data": {
      "text/plain": [
       "<matplotlib.axes._subplots.AxesSubplot at 0x16b79a23f98>"
      ]
     },
     "execution_count": 180,
     "metadata": {},
     "output_type": "execute_result"
    },
    {
     "data": {
      "image/png": "[encoded data removed]",
      "text/plain": [
       "<Figure size 432x288 with 1 Axes>"
      ]
     },
     "metadata": {
      "needs_background": "light"
     },
     "output_type": "display_data"
    }
   ],
   "source": [
    "df['V_Revenue'].hist()"
   ]
  },
  {
   "cell_type": "code",
   "execution_count": null,
   "metadata": {},
   "outputs": [],
   "source": [
    "The actual labels denied a bit more people than we did. "
   ]
  },
  {
   "cell_type": "markdown",
   "metadata": {},
   "source": [
    "### SVM Models"
   ]
  },
  {
   "cell_type": "markdown",
   "metadata": {},
   "source": [
    "Now we will create a model to predict Revenue. "
   ]
  },
  {
   "cell_type": "markdown",
   "metadata": {},
   "source": [
    "We already did all the cleaning steps. Our clustering was using a distance metric and svm also uses a distance metric."
   ]
  },
  {
   "cell_type": "code",
   "execution_count": 132,
   "metadata": {},
   "outputs": [
    {
     "data": {
      "text/plain": [
       "Index(['Administrative', 'Administrative_Duration', 'Informational',\n",
       "       'Informational_Duration', 'ProductRelated', 'ProductRelated_Duration',\n",
       "       'BounceRates', 'PageValues', 'SpecialDay', 'Month_Dec', 'Month_Feb',\n",
       "       'Month_Jul', 'Month_June', 'Month_Mar', 'Month_May', 'Month_Nov',\n",
       "       'Month_Oct', 'Month_Sep', 'OperatingSystems_1', 'OperatingSystems_2',\n",
       "       'OperatingSystems_3', 'OperatingSystems_4', 'OperatingSystems_5',\n",
       "       'OperatingSystems_6', 'OperatingSystems_7', 'Browser_1', 'Browser_2',\n",
       "       'Browser_3', 'Browser_4', 'Browser_5', 'Browser_6', 'Browser_7',\n",
       "       'Browser_8', 'Browser_9', 'Browser_10', 'Browser_11', 'Browser_12',\n",
       "       'Region_1', 'Region_2', 'Region_3', 'Region_4', 'Region_5', 'Region_6',\n",
       "       'Region_7', 'Region_8', 'TrafficType_1', 'TrafficType_2',\n",
       "       'TrafficType_3', 'TrafficType_4', 'TrafficType_5', 'TrafficType_6',\n",
       "       'TrafficType_7', 'TrafficType_8', 'TrafficType_9', 'TrafficType_10',\n",
       "       'TrafficType_11', 'TrafficType_12', 'TrafficType_13', 'TrafficType_14',\n",
       "       'TrafficType_15', 'TrafficType_16', 'TrafficType_17', 'TrafficType_18',\n",
       "       'TrafficType_19', 'VisitorType_New_Visitor',\n",
       "       'VisitorType_Returning_Visitor', 'Weekend_False'],\n",
       "      dtype='object')"
      ]
     },
     "execution_count": 132,
     "metadata": {},
     "output_type": "execute_result"
    }
   ],
   "source": [
    "cleaned.columns"
   ]
  },
  {
   "cell_type": "markdown",
   "metadata": {},
   "source": [
    "The question is what columns we should be including? I think we should start by creating a model with the same columns we used to construct our clustering. I would expect this to have a really high score just since these are the columns we made our model with."
   ]
  },
  {
   "cell_type": "markdown",
   "metadata": {},
   "source": [
    "First let's split into train and test set."
   ]
  },
  {
   "cell_type": "code",
   "execution_count": 210,
   "metadata": {},
   "outputs": [],
   "source": [
    "from sklearn.model_selection import train_test_split\n",
    "from sklearn.linear_model import LogisticRegression\n",
    "\n",
    "X = cleaned \n",
    "y = df.Revenue\n",
    "X_train,X_test,y_train,y_test = train_test_split(X,y,test_size=0.25,random_state=0)"
   ]
  },
  {
   "cell_type": "markdown",
   "metadata": {},
   "source": [
    "SVM involves finding a decision boundary that maximizes the distance between the support vectors.\n",
    "\n",
    "SVM has a few hyperparameters.\n",
    "\n",
    "C - this is the penalty term we use to avoid overfitting. A large c will try to predict the most number of points possible. A low c will allow for more misclassifications (higher bias) but have lower variance.\n",
    "Gamma - This is a parameter for the kernel function. This is how we transform our vector into a higher dimension. The higher the gamma, the more curvature we use. In other words, a low gamma would behave similar to a linear model. \n",
    "We could use grid search to find the best values for c and Gamma. "
   ]
  },
  {
   "cell_type": "markdown",
   "metadata": {},
   "source": [
    "RBF kernels are a popular choice so we will use that. I will use f1 as what to optimize for since our data is skewed as we saw in our eda. "
   ]
  },
  {
   "cell_type": "code",
   "execution_count": 134,
   "metadata": {},
   "outputs": [],
   "source": [
    "param_grid = {'C': [0.1,1, 10, 100],\n",
    "              'gamma': [1,0.1,0.01,0.001] }"
   ]
  },
  {
   "cell_type": "code",
   "execution_count": null,
   "metadata": {},
   "outputs": [],
   "source": [
    "from sklearn.svm import SVC  \n",
    "from sklearn.model_selection import GridSearchCV\n",
    "grid = GridSearchCV(SVC(kernel = 'rbf'),param_grid, cv = 5, scoring = 'f1')\n",
    "res = grid.fit(X_train[cleaned_3.columns],y_train)"
   ]
  },
  {
   "cell_type": "code",
   "execution_count": null,
   "metadata": {},
   "outputs": [],
   "source": [
    "res.best_params_\n"
   ]
  },
  {
   "cell_type": "markdown",
   "metadata": {},
   "source": [
    "Our best parameters are with a c of 100 and a gamma of 1. (this takes some time to run so I didn't rerun it)"
   ]
  },
  {
   "cell_type": "code",
   "execution_count": 149,
   "metadata": {},
   "outputs": [
    {
     "data": {
      "text/plain": [
       "SVC(C=100, gamma=1)"
      ]
     },
     "execution_count": 149,
     "metadata": {},
     "output_type": "execute_result"
    }
   ],
   "source": [
    "svc = SVC(C = 100, kernel = 'rbf', gamma = 1)\n",
    "svc.fit(X_train[cleaned_3.columns],y_train)"
   ]
  },
  {
   "cell_type": "code",
   "execution_count": 150,
   "metadata": {},
   "outputs": [],
   "source": [
    "preds = svc.predict(X_train[cleaned_3.columns])"
   ]
  },
  {
   "cell_type": "code",
   "execution_count": 151,
   "metadata": {},
   "outputs": [
    {
     "name": "stdout",
     "output_type": "stream",
     "text": [
      "The accuracy score is 1.0\n",
      "The recall score is 1.0\n",
      "The precision score is 1.0\n"
     ]
    }
   ],
   "source": [
    "print(f\"The accuracy score is {metrics.accuracy_score(preds,y_train)}\")\n",
    "print(f\"The recall score is {metrics.recall_score(preds,y_train)}\")\n",
    "print(f\"The precision score is {metrics.precision_score(preds,y_train)}\")"
   ]
  },
  {
   "cell_type": "code",
   "execution_count": 152,
   "metadata": {},
   "outputs": [
    {
     "data": {
      "text/plain": [
       "array([[5757,    0],\n",
       "       [   0, 3490]], dtype=int64)"
      ]
     },
     "execution_count": 152,
     "metadata": {},
     "output_type": "execute_result"
    }
   ],
   "source": [
    "metrics.confusion_matrix(preds, y_train)"
   ]
  },
  {
   "cell_type": "markdown",
   "metadata": {},
   "source": [
    "Our stats seem to show we have a near perfect model..."
   ]
  },
  {
   "cell_type": "markdown",
   "metadata": {},
   "source": [
    "This is a bit concerning but we saw with our grid search and 5 folds that our f1 score was above .99. "
   ]
  },
  {
   "cell_type": "markdown",
   "metadata": {},
   "source": [
    "Again though, since we are making a model based off of distance this isn't overly surprising that if we use the same columns we would have a really high accuracy."
   ]
  },
  {
   "cell_type": "markdown",
   "metadata": {},
   "source": [
    "#### Model 2"
   ]
  },
  {
   "cell_type": "markdown",
   "metadata": {},
   "source": [
    "Let's create a second model which incorporates more variables...\n",
    "We are going to do this to see if this can predict Revenue_V more accuratly. There is no real point in trying to find a model that can predict Revenue better than our first model but we saw that the clustering for revenue didn't have the greatest accuracy/f1scores."
   ]
  },
  {
   "cell_type": "code",
   "execution_count": 153,
   "metadata": {},
   "outputs": [
    {
     "data": {
      "text/plain": [
       "Index(['Administrative', 'Administrative_Duration', 'Informational',\n",
       "       'Informational_Duration', 'ProductRelated', 'ProductRelated_Duration',\n",
       "       'BounceRates', 'PageValues', 'SpecialDay', 'Month_Dec', 'Month_Feb',\n",
       "       'Month_Jul', 'Month_June', 'Month_Mar', 'Month_May', 'Month_Nov',\n",
       "       'Month_Oct', 'Month_Sep', 'OperatingSystems_1', 'OperatingSystems_2',\n",
       "       'OperatingSystems_3', 'OperatingSystems_4', 'OperatingSystems_5',\n",
       "       'OperatingSystems_6', 'OperatingSystems_7', 'Browser_1', 'Browser_2',\n",
       "       'Browser_3', 'Browser_4', 'Browser_5', 'Browser_6', 'Browser_7',\n",
       "       'Browser_8', 'Browser_9', 'Browser_10', 'Browser_11', 'Browser_12',\n",
       "       'Region_1', 'Region_2', 'Region_3', 'Region_4', 'Region_5', 'Region_6',\n",
       "       'Region_7', 'Region_8', 'TrafficType_1', 'TrafficType_2',\n",
       "       'TrafficType_3', 'TrafficType_4', 'TrafficType_5', 'TrafficType_6',\n",
       "       'TrafficType_7', 'TrafficType_8', 'TrafficType_9', 'TrafficType_10',\n",
       "       'TrafficType_11', 'TrafficType_12', 'TrafficType_13', 'TrafficType_14',\n",
       "       'TrafficType_15', 'TrafficType_16', 'TrafficType_17', 'TrafficType_18',\n",
       "       'TrafficType_19', 'VisitorType_New_Visitor',\n",
       "       'VisitorType_Returning_Visitor', 'Weekend_False'],\n",
       "      dtype='object')"
      ]
     },
     "execution_count": 153,
     "metadata": {},
     "output_type": "execute_result"
    }
   ],
   "source": [
    "cleaned.columns"
   ]
  },
  {
   "cell_type": "code",
   "execution_count": 158,
   "metadata": {},
   "outputs": [],
   "source": [
    "from sklearn.model_selection import GridSearchCV\n",
    "grid = GridSearchCV(SVC(kernel = 'rbf'),param_grid, cv = 5, scoring = 'f1')\n",
    "res = grid.fit(X_train,y_train)"
   ]
  },
  {
   "cell_type": "markdown",
   "metadata": {},
   "source": []
  },
  {
   "cell_type": "code",
   "execution_count": null,
   "metadata": {},
   "outputs": [],
   "source": [
    "res.best_params_\n"
   ]
  },
  {
   "cell_type": "code",
   "execution_count": 199,
   "metadata": {},
   "outputs": [
    {
     "data": {
      "text/plain": [
       "SVC(C=100, gamma=0.01)"
      ]
     },
     "execution_count": 199,
     "metadata": {},
     "output_type": "execute_result"
    }
   ],
   "source": [
    "svc = SVC(C = 100, kernel = 'rbf', gamma = .01)\n",
    "svc.fit(X_train,y_train)"
   ]
  },
  {
   "cell_type": "code",
   "execution_count": 200,
   "metadata": {},
   "outputs": [],
   "source": [
    "preds = svc.predict(X_train)"
   ]
  },
  {
   "cell_type": "code",
   "execution_count": 201,
   "metadata": {},
   "outputs": [
    {
     "name": "stdout",
     "output_type": "stream",
     "text": [
      "The accuracy score is 0.9996755704552828\n",
      "The recall score is 0.9994270982526496\n",
      "The precision score is 0.9997134670487106\n"
     ]
    }
   ],
   "source": [
    "print(f\"The accuracy score is {metrics.accuracy_score(preds,y_train)}\")\n",
    "print(f\"The recall score is {metrics.recall_score(preds,y_train)}\")\n",
    "print(f\"The precision score is {metrics.precision_score(preds,y_train)}\")"
   ]
  },
  {
   "cell_type": "code",
   "execution_count": 202,
   "metadata": {},
   "outputs": [
    {
     "data": {
      "text/plain": [
       "Index(['Administrative', 'Administrative_Duration', 'Informational',\n",
       "       'Informational_Duration', 'ProductRelated', 'ProductRelated_Duration',\n",
       "       'BounceRates', 'PageValues', 'SpecialDay', 'Month_Dec', 'Month_Feb',\n",
       "       'Month_Jul', 'Month_June', 'Month_Mar', 'Month_May', 'Month_Nov',\n",
       "       'Month_Oct', 'Month_Sep', 'TrafficType_1', 'TrafficType_2',\n",
       "       'TrafficType_3', 'TrafficType_4', 'TrafficType_5', 'TrafficType_6',\n",
       "       'TrafficType_7', 'TrafficType_8', 'TrafficType_9', 'TrafficType_10',\n",
       "       'TrafficType_11', 'TrafficType_12', 'TrafficType_13', 'TrafficType_14',\n",
       "       'TrafficType_15', 'TrafficType_16', 'TrafficType_17', 'TrafficType_18',\n",
       "       'TrafficType_19', 'VisitorType_New_Visitor',\n",
       "       'VisitorType_Returning_Visitor', 'Weekend_False'],\n",
       "      dtype='object')"
      ]
     },
     "execution_count": 202,
     "metadata": {},
     "output_type": "execute_result"
    }
   ],
   "source": [
    "X.columns"
   ]
  },
  {
   "cell_type": "markdown",
   "metadata": {},
   "source": [
    "Adding additional columns does not seem to take a way from our model. I don't see any leaky features that would cause this."
   ]
  },
  {
   "cell_type": "markdown",
   "metadata": {},
   "source": [
    "### Select Models"
   ]
  },
  {
   "cell_type": "markdown",
   "metadata": {},
   "source": [
    "Since model 1 has less columns, we should use that as that would make that model faster. Performance wise, our models both performed nearly per"
   ]
  },
  {
   "cell_type": "markdown",
   "metadata": {},
   "source": [
    "Let's see how this model will do with new data. It is slightly alarming how accurate this model is. Let's use 10 as we have a our algorithm is O(N) and can do a lot of iterations."
   ]
  },
  {
   "cell_type": "code",
   "execution_count": 185,
   "metadata": {},
   "outputs": [
    {
     "data": {
      "text/plain": [
       "array([1.        , 1.        , 0.99891892, 0.99783784, 0.99891892,\n",
       "       1.        , 0.99783784, 0.9978355 , 1.        , 1.        ])"
      ]
     },
     "execution_count": 185,
     "metadata": {},
     "output_type": "execute_result"
    }
   ],
   "source": [
    "from sklearn.model_selection import cross_val_score\n",
    "clf = SVC(C = 100, kernel = 'rbf', gamma = 1)\n",
    "scores = cross_val_score(clf, X_train[cleaned_3.columns], y_train, cv=10)\n",
    "scores"
   ]
  },
  {
   "cell_type": "code",
   "execution_count": 211,
   "metadata": {},
   "outputs": [
    {
     "data": {
      "text/plain": [
       "array([1.        , 1.        , 0.99891892, 0.99891892, 0.99891892,\n",
       "       1.        , 1.        , 0.99891775, 1.        , 1.        ])"
      ]
     },
     "execution_count": 211,
     "metadata": {},
     "output_type": "execute_result"
    }
   ],
   "source": [
    "clf = SVC(C = 100, kernel = 'rbf', gamma = .01)\n",
    "scores = cross_val_score(clf, X_train, y_train, cv=10)\n",
    "scores"
   ]
  },
  {
   "cell_type": "code",
   "execution_count": 212,
   "metadata": {},
   "outputs": [
    {
     "data": {
      "text/plain": [
       "40"
      ]
     },
     "execution_count": 212,
     "metadata": {},
     "output_type": "execute_result"
    }
   ],
   "source": [
    "len(cleaned_3.columns)"
   ]
  },
  {
   "cell_type": "code",
   "execution_count": 213,
   "metadata": {},
   "outputs": [
    {
     "data": {
      "text/plain": [
       "67"
      ]
     },
     "execution_count": 213,
     "metadata": {},
     "output_type": "execute_result"
    }
   ],
   "source": [
    "len(X_train.columns)"
   ]
  },
  {
   "cell_type": "markdown",
   "metadata": {},
   "source": [
    "We see both our models do well on new data from our cross validation. I would use the first model just since it uses less columns. "
   ]
  },
  {
   "cell_type": "markdown",
   "metadata": {},
   "source": [
    "### Evaluating test data."
   ]
  },
  {
   "cell_type": "code",
   "execution_count": null,
   "metadata": {},
   "outputs": [],
   "source": []
  },
  {
   "cell_type": "code",
   "execution_count": 160,
   "metadata": {},
   "outputs": [
    {
     "data": {
      "text/plain": [
       "SVC(C=100, gamma=1)"
      ]
     },
     "execution_count": 160,
     "metadata": {},
     "output_type": "execute_result"
    }
   ],
   "source": [
    "svc = SVC(C = 100, kernel = 'rbf', gamma = 1)\n",
    "svc.fit(X_train[cleaned_3.columns],y_train)\n"
   ]
  },
  {
   "cell_type": "code",
   "execution_count": 161,
   "metadata": {},
   "outputs": [],
   "source": [
    "preds = svc.predict(X_test[cleaned_3.columns])"
   ]
  },
  {
   "cell_type": "code",
   "execution_count": 162,
   "metadata": {},
   "outputs": [
    {
     "name": "stdout",
     "output_type": "stream",
     "text": [
      "The accuracy score is 0.9996756406097956\n",
      "The recall score is 1.0\n",
      "The precision score is 0.9991394148020654\n"
     ]
    }
   ],
   "source": [
    "print(f\"The accuracy score is {metrics.accuracy_score(preds,y_test)}\")\n",
    "print(f\"The recall score is {metrics.recall_score(preds,y_test)}\")\n",
    "print(f\"The precision score is {metrics.precision_score(preds,y_test)}\")"
   ]
  },
  {
   "cell_type": "markdown",
   "metadata": {},
   "source": [
    "Our scores are lower on the test set, but they are very close to 1. This is nerly a perfect model."
   ]
  },
  {
   "cell_type": "code",
   "execution_count": 163,
   "metadata": {},
   "outputs": [
    {
     "data": {
      "text/plain": [
       "<sklearn.metrics._plot.roc_curve.RocCurveDisplay at 0x16b7948ee10>"
      ]
     },
     "execution_count": 163,
     "metadata": {},
     "output_type": "execute_result"
    },
    {
     "data": {
      "image/png": "[encoded data removed]",
      "text/plain": [
       "<Figure size 432x288 with 1 Axes>"
      ]
     },
     "metadata": {
      "needs_background": "light"
     },
     "output_type": "display_data"
    }
   ],
   "source": [
    "metrics.plot_roc_curve(svc, X_test, y_test)"
   ]
  },
  {
   "cell_type": "markdown",
   "metadata": {},
   "source": [
    "This is the ideal roc curve which has maximum area and an auc of 1."
   ]
  },
  {
   "cell_type": "markdown",
   "metadata": {},
   "source": [
    "### Clustering + SVM Output vs. Actual Labels "
   ]
  },
  {
   "cell_type": "markdown",
   "metadata": {},
   "source": [
    "Now let's compare this to our actual data labels... We already know how our clustering model did compared to Revenue_F and our model is virtually ideal but we can repeat this for completeness."
   ]
  },
  {
   "cell_type": "markdown",
   "metadata": {},
   "source": [
    "Our cleaned dataset doesn't have the Revenue_F column and we randomly split it..."
   ]
  },
  {
   "cell_type": "code",
   "execution_count": 175,
   "metadata": {},
   "outputs": [],
   "source": [
    "merged = X_test.merge(df[['V_Revenue']], left_index = True, right_index = True)"
   ]
  },
  {
   "cell_type": "code",
   "execution_count": 178,
   "metadata": {},
   "outputs": [
    {
     "name": "stdout",
     "output_type": "stream",
     "text": [
      "The accuracy score is 0.653584171261758\n",
      "The recall score is 0.2463393626184324\n",
      "The precision score is 0.5970772442588727\n",
      "The f1 score is 0.3487804878048781\n"
     ]
    }
   ],
   "source": [
    "print(f\"The accuracy score is {metrics.accuracy_score(preds,merged.V_Revenue)}\")\n",
    "print(f\"The recall score is {metrics.recall_score(preds,merged.V_Revenue)}\")\n",
    "print(f\"The precision score is {metrics.precision_score(preds,merged.V_Revenue)}\")\n",
    "print(f\"The f1 score is {metrics.f1_score(preds,merged.V_Revenue)}\")"
   ]
  },
  {
   "cell_type": "markdown",
   "metadata": {},
   "source": [
    "The numbers for our scores are basically the same as what we saw above with the 3rd model. They differ slightly but that's only because we are evaluating on less points. "
   ]
  },
  {
   "cell_type": "code",
   "execution_count": null,
   "metadata": {},
   "outputs": [],
   "source": [
    "By transitivity though, they should be similar since our model accuratly predicts Revenue. "
   ]
  },
  {
   "cell_type": "markdown",
   "metadata": {},
   "source": [
    "The accuracy score is above .5 but as we saw, our distribution is skewed towards 0 so this isn't the best metric to use. "
   ]
  },
  {
   "cell_type": "code",
   "execution_count": 181,
   "metadata": {
    "scrolled": true
   },
   "outputs": [
    {
     "data": {
      "text/plain": [
       "<matplotlib.axes._subplots.AxesSubplot at 0x16b79b2ecf8>"
      ]
     },
     "execution_count": 181,
     "metadata": {},
     "output_type": "execute_result"
    },
    {
     "data": {
      "image/png": "[encoded data removed]",
      "text/plain": [
       "<Figure size 432x288 with 1 Axes>"
      ]
     },
     "metadata": {
      "needs_background": "light"
     },
     "output_type": "display_data"
    }
   ],
   "source": [
    "merged.V_Revenue.hist()"
   ]
  },
  {
   "cell_type": "markdown",
   "metadata": {},
   "source": [
    "The precision score tells us that when we identify a customer as one who made a purchase we are right 60 percent of the time. The low recall score is slightly bothersome because it means that we are missing our on customers who might potentially make a purchase. I think this model would need to be improved significantly by incorporating more features before using it. "
   ]
  },
  {
   "cell_type": "markdown",
   "metadata": {},
   "source": [
    "### Conclusions."
   ]
  },
  {
   "cell_type": "markdown",
   "metadata": {},
   "source": [
    "1. We were able to cluster our customer dataset into different groups. We saw that when we tried using k with a value of 3 that the clusters were similar so we chose that k = 2 was the best choice. We also saw that all our silhouette scores from k means were low, for almost all ks, implying that our points weren't so close to our centroids and our data may not be distributed in the right way to use kmeans. \n",
    "\n",
    "2. When trying to cluster our data into columns to predict Revenue, it was hard to guide the model to weigh the features correctly. The clustering algorithm was clustering into groups but it was hard to pin the groups to specifically cluster based on what we think would predict revenue. \n",
    "\n",
    "3. Our svm model was nearly perfect when training on our clusters, but our clusters itself had a very low recall when we compared to the actual data labels, V_Revenue."
   ]
  },
  {
   "cell_type": "code",
   "execution_count": null,
   "metadata": {},
   "outputs": [],
   "source": []
  },
  {
   "cell_type": "code",
   "execution_count": null,
   "metadata": {},
   "outputs": [],
   "source": []
  }
 ],
 "metadata": {
  "kernelspec": {
   "display_name": "Python 3",
   "language": "python",
   "name": "python3"
  },
  "language_info": {
   "codemirror_mode": {
    "name": "ipython",
    "version": 3
   },
   "file_extension": ".py",
   "mimetype": "text/x-python",
   "name": "python",
   "nbconvert_exporter": "python",
   "pygments_lexer": "ipython3",
   "version": "3.7.1"
  }
 },
 "nbformat": 4,
 "nbformat_minor": 2
}
