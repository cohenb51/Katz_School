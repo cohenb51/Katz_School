{
 "cells": [
  {
   "cell_type": "markdown",
   "metadata": {},
   "source": [
    "### Module 6: Precipitation\n",
    "\n",
    "Benny Cohen\n",
    "\n",
    "10/13/2019"
   ]
  },
  {
   "cell_type": "markdown",
   "metadata": {},
   "source": [
    "In this notebook we at data from the catalog.data.gov website summarizing precipitation for the month of September 2019 in various US cities\n",
    "\n",
    "We import the data, clean the columns, then find the cities which had more and less precipitation than average"
   ]
  },
  {
   "cell_type": "code",
   "execution_count": 1,
   "metadata": {},
   "outputs": [
    {
     "name": "stdout",
     "output_type": "stream",
     "text": [
      "b\"                        PRECIPITATION DATA SUMMARY\\n *\\n                    CLIMATE ANALYSIS CENTER-NMC-NWS-NOAA\\n       WEATHER SUMMARIES FOR THE MONTH  ENDING 06Z   10/ 1/19\\n       SEASON (SEAS) BEGINS   09/01/19\\n *\\n        (00.00 IN)         MONTH    24   DAYS    SEASON     YEAR TO DATE\\n                     CALL  TOT  DEP  HR >01      TO  DEP          DEP PCT\\n STATE   CITY  PFLAG LTRS  AMT  NML MAX   >50  DATE  NML     AMT  NML NML\\n *  PFLAG VALUES: 0 - RELIABLE  1 - QUESTIONABLE  2 - UNCLASSIFIED\\n  AL BIRMINGHAM    0  BHM   56 -349  34  2  0  -999 -999    3706 -458  89\\n  AL HUNTSVILLE    0  HSV   27 -402  16  2  0  -999 -999    4549  217 105\\n  AL MOBILE        0  MOB  157 -444 157  1  1  -999 -999    4643 -633  88\\n  AL MONTGOMERY    0  MGM    5 -417   5  1  0  -999 -999    3401 -850  80\\n  AK ANCHORAGE     0  ANC  378   91  86  9  3  -999 -999     971 -213  82\\n  AK BARROW        0  BRW   93   24  23  3  0  -999 -999     930  582 267\\n  AK COLD BAY      2  ACD  601  150  92  6  3  -999 -999    3407  746 128\\n  AK FAIRBANKS     0  FAI  106   -6  29  9  0  -999 -999    1252  455 157\\n  AK JUNEAU        0  JNU  666  -88 121  6  4  -999 -999    3484 -430  89\\n  AK KING SALMON   0  AKN  606  325 121  4  4  -999 -999    1720  287 120\\n  AK KODIAK        0  ADQ  443 -341 101  6  3  -999 -999    3981-1257  76\\n  AK NOME          0  OME  437  186 106  0  1  -999 -999    2157  889 170\\n  AZ FLAGSTAFF     0  FLG   95 -117  70  6  1  -999 -999    1726    0 100\\n  AZ PHOENIX       0  PHX   25  -50  17  4  0  -999 -999     368 -216  63\\n  AZ TUCSON        0  TUS  247  102  66  0  1  -999 -999    1015   93 110\\n  AR FORT SMITH    0  FSM  227 -134  92  6  2  -999 -999    5234 2062 165\\n  AR LITTLE ROCK   0  LIT  136 -235 114  5  1  -999 -999    4861 1234 134\\n  CA BAKERSFIELD   0  BFL    2  -13   2  1  0  -999 -999     652  170 135\\n  CA EUREKA        0  EKA  175   89 106  6  1  -999 -999    3294  942 140\\n  CA FRESNO        0  FAT    0  -26   0  0  0  -999 -999     952  139 117\\n  CA LOS ANGELES   0  LAX    0  -26   0  0  0  -999 -999    1286  297 130\\n  CA REDDING       0  RDD   30  -18  12  3  0  -999 -999    3239  974 143\\n  CA SACRAMENTO    0  SAC   12  -24   8  2  0  -999 -999    1948  708 157\\n  CA SAN DIEGO     0  SAN   11  -10  10  2  0  -999 -999     854   56 107\\n  CA SAN FRANCISCO 0  SFO    6  -14   4  2  0  -999 -999    1848  480 135\\n  CA STOCKTON      1  SCK   23  -10  21  2  0  -999 -999    1270  330 135\\n  CO ALAMOSA       1  ALS   73  -16  26  5  0  -999 -999     697  121 121\\n  CO CO SPRINGS    0  COS   32  -91  12  6  0  -999 -999    1009 -543  65\\n  CO DENVER        0  DEN   41  -63  17  4  0  -999 -999    1300  119 110\\n  CO GRAND JUNCTION0  GJT   26  -65  18  5  0  -999 -999     713   34 105\\n  CO PUEBLO        0  PUB   51  -33  34  3  0  -999 -999    1125   44 104\\n  CT BRIDGEPORT    0  BDR   93 -265  33  9  0  -999 -999    3661  303 109\\n  CT HARTFORD      0  BDL  195 -218  97  9  2  -999 -999    3542   70 102\\n  DC WASHINGTON    0  DCA   27 -352  16  5  0  -999 -999    3104   91 103\\n  DE WILMINGTON    0  ILG   48 -353  19  4  0  -999 -999    3739  431 113\\n  FL DAYTONA BEACH 0  DAB  425 -236 132  4  3  -999 -999    4007  117 103\\n  FL FT LAUDERDALE 1  FLL  133 -693  75  0  1  -999 -999    4196 -859  83\\n  FL FT MYERS      0  FMY  287 -499 109  7  2  -999 -999    4908   97 102\\n  FL JACKSONVILLE  0  JAX  236 -554  59  1  1  -999 -999    3449 -916  79\\n  FL KEY WEST      0  EYW  410 -135 161  3  2  -999 -999    2295 -685  77\\n  FL MELBOURNE     0  MLB  209 -511  79  9  2  -999 -999    4050  230 106\\n  FL MIAMI         0  MIA  324 -514  68  1  3  -999 -999    5517  842 118\\n  FL ORLANDO       0  MCO  196 -380  97  9  2  -999 -999    3583 -535  87\\n  FL PENSACOLA     0  PNS    0 -575   0  0  0  -999 -999    3962-1183  77\\n  FL ST PETERSBURG 1  PIE  172 -587 139  4  1  -999 -999    4923  680 116\\n  FL TALLAHASSEE   0  TLH    0 -501   0  0  0  -999 -999    3037-2199  58\\n  FL TAMPA         0  TPA  144 -510  51  7  1  -999 -999    4875 1006 126\\n  FL WEST PALM BEAC0  PBI  140 -670  84  9  1  -999 -999    4536 -189  96\\n  GA ATHENS        0  AHN  140 -213 138  2  1  -999 -999    3521 -185  95\\n  GA ATLANTA       0  ATL   76 -333  55  2  1  -999 -999    3233 -662  83\\n  GA AUGUSTA       0  AGS   77 -282  27  3  0  -999 -999    3802  249 107\\n  GA COLUMBUS      0  CSG  129 -178  87  2  1  -999 -999    3273 -532  86\\n  GA MACON         0  MCN    2 -324   2  1  0  -999 -999    2732 -816  77\\n  GA SAVANNAH      0  SAV  127 -381  41  6  0  -999 -999    3107-1035  75\\n  HI HILO          0  ITO  772 -142 124  4  4  -999 -999    6511-2532  72\\n  HI HONOLULU      0  HNL  218  144 111  7  2  -999 -999    1124   23 102\\n  HI KAHULUI       0  OGG   22  -17  16  4  0  -999 -999     995 -248  80\\n  HI LIHUE         0  LIH  325   56  52  5  1  -999 -999    2094 -491  81\\n  ID BOISE         0  BOI   79    3  32  6  0  -999 -999    1300  434 150\\n  ID LEWISTON      0  LWS  106   26  22  1  0  -999 -999    1048   96 110\\n  ID POCATELLO     0  PIH  173   84  41  0  0  -999 -999    1105  169 118\\n  IL CHICAGO/O'HARE0  ORD  762  435 228  5  4  -999 -999    3946 1128 140\\n  IL MOLINE        0  MLI  719  403 179  7  6  -999 -999    4198 1178 139\\n  IL PEORIA        0  PIA  768  456 313  2  5  -999 -999    4289 1504 154\\n  IL ROCKFORD      0  RFD  911  564 291  4  6  -999 -999    4304 1377 147\\n  IL SPRINGFIELD   0  SPI  417  134 175  1  3  -999 -999    3927 1181 143\\n  IN EVANSVILLE    0  EVV    8 -291   4  3  0  -999 -999    4609 1221 136\\n  IN FORT WAYNE    0  FWA  229  -52 111  0  1  -999 -999    3155  339 112\\n  IN INDIANAPOLIS  0  IND   49 -239  25  4  0  -999 -999    3852  695 122\\n  IN SOUTH BEND    0  SBN  657  278 301  2  3  -999 -999    3715  720 124\\n  IA BURLINGTON    0  BRL  823  463 213  1  5  -999 -999    4016  997 133\\n  IA CEDAR RAPIDS  0  CID  652  325 124  6  3  -999 -999    3652  907 133\\n  IA DES MOINES    0  DSM  465  150 229  4  2  -999 -999    3907 1035 136\\n  IA DUBUQUE       0  DBQ 1292  936 372  6  7  -999 -999    4457 1582 155\\n  IA SIOUX CITY    0  SUX  400  158 221  3  2  -999 -999    2924  726 133\\n  IA WATERLOO      0  ALO  505  210 156  5  3  -999 -999    3329  578 121\\n  KS CONCORDIA     0  CNK  218  -32 143  7  1  -999 -999    3152  728 130\\n  KS DODGE CITY    0  DDC   20 -150  10  2  0  -999 -999    1993   77 104\\n  KS GOODLAND      0  GLD  -99  -99 -99  9  9  -999 -999    2190  438 125\\n  KS HILL CITY     0  HLC  132  -74  71  5  1  -999 -999    2846  828 141\\n  KS TOPEKA        0  TOP  251 -120 111  8  3  -999 -999    4341 1447 150\\n  KS WICHITA       0  ICT   98 -198  41  7  0  -999 -999    3657 1187 148\\n  KY JACKSON       0  JKL    0 -377   0  0  0  -999 -999    3946  188 105\\n  KY LEXINGTON     0  LEX    0 -311   0  0  0  -999 -999    3651   72 102\\n  KY LONDON-CORBIN 2  LOZ   11 -326   7  3  0  -999 -999    4412  766 121\\n  KY LOUISVILLE    0  SDF    4 -301   4  1  0  -999 -999    3982  550 116\\n  KY PADUCAH       0  PAH   32 -324  26  2  0  -999 -999    5614 1921 152\\n  LA BATON ROUGE   0  BTR  254 -230  99  3  3  -999 -999    5255  344 107\\n  LA LAKE CHARLES  0  LCH  379 -216 172  5  3  -999 -999    5603 1192 127\\n  LA NEW ORLEANS   0  MSY   19 -536  17  2  0  -999 -999    4695 -408  92\\n  LA SHREVEPORT    0  SHV  134 -187  67  3  2  -999 -999    3369 -374  90\\n  ME BANGOR        0  BGR  274  -65  83  1  1  -999 -999    4074 1164 140\\n  ME CARIBOU       0  CAR  487  160 116  1  4  -999 -999    3139  337 112\\n  ME PORTLAND      0  PWM   44 -293  25  7  0  -999 -999    3474  228 107\\n  MD BALTIMORE     0  BWI   17 -381  12  3  0  -999 -999    2806 -419  87\\n  MA BOSTON        0  BOS  217 -130 111  8  1  -999 -999    3680  588 119\\n  MA WORCESTER     1  ORH  219 -208 126  6  1  -999 -999    3742  109 103\\n  MI ALPENA        0  APN  349   69 109  4  2  -999 -999    2781  557 125\\n  MI DETROIT       0  DTW  344   17  99  5  2  -999 -999    2904  357 114\\n  MI FLINT         0  FNT  287  -89  95  3  1  -999 -999    2748  295 112\\n  MI GRAND RAPIDS  0  GRR  736  308 256  4  5  -999 -999    3888 1071 138\\n  MI HOUGHTON LAKE 0  HTL  485  174 137  4  5  -999 -999    2962  735 133\\n  MI LANSING       0  LAN  270  -78  83  0  2  -999 -999    3005  562 123\\n  MI MUSKEGON      0  MKG  586  234 156  1  4  -999 -999    3630 1210 150\\n  MI TRAVERSE CITY 1  TVC  594  236 204  4  4  -999 -999    3224  706 128\\n  MN DULUTH        0  DLH  576  163 137  5  3  -999 -999    2763  205 108\\n  MN INT'L FALLS   0  INL  665  362 148  7  6  -999 -999    2761  775 139\\n  MN MINNEAPOLIS   0  MSP  403  134 124  2  2  -999 -999    3792 1362 156\\n  MN ROCHESTER     0  RST  843  531 270  7  5  -999 -999    4765 2147 182\\n  MN ST. CLOUD     0  STC  756  463 199  5  6  -999 -999    3621 1358 160\\n  MS JACKSON       0  JAN   25 -298  21  2  0  -999 -999    4289   85 102\\n  MS MERIDIAN      0  MEI   25 -339  24  2  0  -999 -999    4563   46 101\\n  MS TUPELO        0  TUP    1 -334   1  1  0  -999 -999    5837 1698 141\\n  MO COLUMBIA      0  COU  252  -90 127  5  3  -999 -999    4076  965 131\\n  MO JOPLIN        0  JLN  272 -250 134  7  2  -999 -999    5311 1794 151\\n  MO KANSAS CITY   0  MCI  579  115 234  9  4  -999 -999    4909 1841 160\\n  MO SPRINGFIELD   0  SGF  161 -322 102  5  1  -999 -999    4169  780 123\\n  MO ST JOSEPH     0  STJ  433   42 133  9  3  -999 -999    3826  992 135\\n  MO ST LOUIS      2  STL  171 -125  83  7  2  -999 -999    4477 1532 152\\n  MT BILLINGS      0  BIL  324  190  88  2  4  -999 -999    1946  738 161\\n  MT BUTTE         0  BTM  196   87  52  2  1  -999 -999    1202  120 111\\n  MT GLASGOW       0  GGW  435  337 161  2  4  -999 -999    1733  760 178\\n  MT GREAT FALLS   0  GTF  213   90  64  0  3  -999 -999    1593  319 125\\n  MT HELENA        0  HLN  304  199  75  1  3  -999 -999    1536  564 158\\n  MT KALISPELL     0  FCA  254  134  81  3  2  -999 -999    1367   53 104\\n  MT MILES CITY    0  MLS  233  114  99  0  1  -999 -999    1888  751 166\\n  MT MISSOULA      0  MSO  244  136  70  1  2  -999 -999    1316  229 121\\n  NE GRAND ISLAND  0  GRI  137 -106  50  6  1  -999 -999    3946 1717 177\\n  NE HASTINGS      0  HSI  166 -108  75  5  1  -999 -999    3516 1108 146\\n  NE LINCOLN       0  LNK  202  -90 115  9  1  -999 -999    2854  456 119\\n  NE MCCOOK        0  MCK   64  -73  31  5  0  -999 -999    2426  560 130\\n  NE NORFOLK       0  OFK  156  -69  61  1  1  -999 -999    2818  527 123\\n  NE NORTH PLATTE  0  LBF   95  -37  41  6  0  -999 -999    2961 1240 172\\n  NE OMAHA/EPPLEY  0  OMA  587  270 280  2  4  -999 -999    3305  783 131\\n  NE SCOTTSBLUFF   0  BFF  104  -18  45  6  0  -999 -999    2808 1411 201\\n  NE VALENTINE     0  VTN  267  106 102  8  2  -999 -999    3318 1590 192\\n  NV ELKO          0  EKO  240  172 102  0  2  -999 -999    1251  560 181\\n  NV ELY           0  ELY   79  -15  65  5  1  -999 -999    1285  502 164\\n  NV LAS VEGAS     0  LAS   24   -7  24  1  0  -999 -999     488  135 138\\n  NV RENO          0  RNO   30  -15  22  4  0  -999 -999     906  370 169\\n  NV WINNEMUCCA    0  WMC  104   51  24  8  0  -999 -999     846  242 140\\n  NH CONCORD       0  CON  103 -213  25  0  0  -999 -999    3005  249 109\\n  NJ ATLANTIC CITY 0  ACY  137 -177  55  6  1  -999 -999    3144    0 100\\n  NJ NEWARK        0  EWR  160 -241 119  4  1  -999 -999    4431  858 124\\n  NM ALBUQUERQUE   0  ABQ   46  -61  30  4  0  -999 -999     635 -103  86\\n  NY ALBANY        0  ALB  222 -109  92  9  2  -999 -999    3230  347 112\\n  NY BINGHAMTON    0  BGM  188 -171 128  0  1  -999 -999    3207  292 110\\n  NY BUFFALO       0  BUF  627  243 214  4  5  -999 -999    3463  504 117\\n  NY ROCHESTER     0  ROC  305  -40  53  2  3  -999 -999    2436 -155  94\\n  NY SYRACUSE      0  SYR  349  -66 115  3  2  -999 -999    3544  541 118\\n  NC ASHEVILLE     0  AVL   90 -282  39  5  0  -999 -999    4261  588 116\\n  NC CHARLOTTE     0  CLT   19 -364  19  1  0  -999 -999    3931  600 118\\n  NC GREENSBORO    0  GSO   56 -373  54  3  1  -999 -999    3865  475 114\\n  NC HATTERAS      2  HSE  -99  -99 -99  9  9  -999 -999    -999 -999 -99\\n  NC RALEIGH       0  RDU  112 -314  96  4  1  -999 -999    3351  -33  99\\n  NC WILMINGTON    0  ILM  833  154 581  7  3  -999 -999    3439-1271  73\\n  ND BISMARCK      0  BIS  577  416 140  3  4  -999 -999    2501 1056 173\\n  ND DICKINSON     0  DIK  562  400 160  6  2  -999 -999    2300  889 163\\n  ND FARGO         0  FAR  445  227 137  0  3  -999 -999    2755 1001 157\\n  ND GRAND FORKS   0  GFK  815  619 379  1  5  -999 -999    2499  866 153\\n  ND JAMESTOWN     0  JMS  460  286 138  2  5  -999 -999    2587  991 162\\n  ND MINOT         0  MOT  753  579 186  3  4  -999 -999    2168  609 139\\n  ND WILLISTON     0  ISN  811  676 234  5  5  -999 -999    2113  906 175\\n  OH AKRON-CANTON  0  CAK  167 -176  45  9  0  -999 -999    3744  749 125\\n  OH CINCINNATI    0  CVG   61 -221  48  3  0  -999 -999    4492 1190 136\\n  OH CLEVELAND     0  CLE  129 -248  76  9  1  -999 -999    3362  413 114\\n  OH COLUMBUS      0  CMH   85 -207  55  6  1  -999 -999    3668  662 122\\n  OH DAYTON        0  DAY   70 -195  55  3  1  -999 -999    3593  549 118\\n  OH MANSFIELD     1  MFD  379   35 149  9  2  -999 -999    4241  876 126\\n  OH TOLEDO        0  TOL  380   96  97  0  4  -999 -999    3730 1193 147\\n  OH YOUNGSTOWN    0  YNG  452   63 289  7  3  -999 -999    4513 1564 153\\n  OK OKLAHOMA CITY 0  OKC  223 -175  57  8  2  -999 -999    4036 1214 143\\n  OK TULSA         0  TUL  396  -80 147  8  2  -999 -999    4799 1557 148\\n  OR ASTORIA       0  AST  620  359 154  7  4  -999 -999    3185 -898  78\\n  OR BURNS         0  BNO  112   62  51  8  1  -999 -999    1252  507 168\\n  OR EUGENE        0  EUG  529  375  87  4  4  -999 -999    2850 -247  92\\n  OR MEDFORD       0  MFR  187  109  65  1  2  -999 -999    1659  539 148\\n  OR PENDLETON     0  PDT  111   48  35  0  0  -999 -999    1085  217 125\\n  OR PORTLAND      0  PDX  387  222  86  4  2  -999 -999    1927 -367  84\\n  OR SALEM         0  SLE  298  155  96  2  2  -999 -999    2270 -144  94\\n  PA ALLENTOWN     0  ABE  135 -302  59  6  1  -999 -999    4782 1317 138\\n  PA ERIE          0  ERI  331 -142 107  9  2  -999 -999    3218   94 103\\n  PA MIDDLETOWN    0  MDT  148 -203 107  7  1  -999 -999    3451  370 112\\n  PA PHILADELPHIA  0  PHL  117 -271  24  9  0  -999 -999    3910  625 119\\n  PA PITTSBURGH    0  PIT  535  214 345  6  2  -999 -999    4210 1246 142\\n  PA WILKES-BARRE  0  AVP  123 -263  43  8  0  -999 -999    3949 1067 137\\n  PA WILLIAMSPORT  0  IPT  153 -245 110  7  1  -999 -999    3829  639 120\\n  PR SAN JUAN      2  JSJ  961  401 286  9  6  -999 -999    3437  -70  98\\n  RI PROVIDENCE    0  PVD  116 -254  36  7  0  -999 -999    3547  137 104\\n  SC CHARLESTON    0  CHS  393 -205 184  5  2  -999 -999    3382 -845  80\\n  SC COLUMBIA      0  CAE  196 -198 101  5  2  -999 -999    2780-1135  71\\n  SC FLORENCE      0  FLO  368    1 268  5  2  -999 -999    3290 -286  92\\n  SC GREENVILLE    0  GSP   18 -378  13  3  0  -999 -999    3648 -232  94\\n  SC MYRTLE BEACH  1  MYR  905  347 830  4  2  -999 -999    3014 -574  84\\n  SD ABERDEEN      0  ABR  474  293 114  2  5  -999 -999    2686  942 154\\n  SD HURON         0  HON  331  151 113  9  2  -999 -999    3631 1825 201\\n  SD RAPID CITY    0  RAP  270  160 117  1  2  -999 -999    3231 1808 227\\n  SD SIOUX FALLS   0  FSD  288   30 108  0  2  -999 -999    3341 1253 160\\n  TN BRISTOL       0  TRI   68 -240  68  1  1  -999 -999    4221  975 130\\n  TN CHATTANOOGA   0  CHA   56 -375  46  3  0  -999 -999    4617  458 111\\n  TN JACKSON       0  MKL  107 -269  97  2  1  -999 -999    4778  660 116\\n  TN KNOXVILLE     0  TYS    3 -301   3  1  0  -999 -999    4826 1114 130\\n  TN MEMPHIS       0  MEM   12 -319  10  2  0  -999 -999    5235 1239 131\\n  TN NASHVILLE     0  BNA    2 -357   1  2  0  -999 -999    4797 1163 132\\n  TX ABILENE       0  ABI   83 -208  50  4  1  -999 -999    1981  147 108\\n  TX AMARILLO      0  AMA  110  -78  53  5  1  -999 -999    1808  119 107\\n  TX AUSTIN        0  AUS   43 -248  18  3  0  -999 -999    2524   74 103\\n  TX BEAUMONT      0  BPT 2318 17081163  9  4  -999 -999    7684 3164 170\\n  TX BROWNSVILLE   0  BRO  419 -112 228  0  2  -999 -999    1788 -291  86\\n  TX COLLEGE STATIO0  CLL  221 -170 105  6  2  -999 -999    3254  349 112\\n  TX CORPUS CHRISTI0  CRP  419  -84  79  3  5  -999 -999    1721 -773  69\\n  TX DALLAS/FT WORT2  DFW    0 -242   0  0  0  -999 -999    2713  154 106\\n  TX DEL RIO       0  DRT   10 -196   9  2  0  -999 -999    1337 -116  92\\n  TX EL PASO       0  ELP  148  -13  92  5  1  -999 -999     422 -318  57\\n  TX GALVESTON     0  GLS 1806 1230 681  1  3  -999 -999    4598 1291 139\\n  TX HOUSTON       0  IAH 1496 1063 921  9  5  -999 -999    4418  884 125\\n  TX LUBBOCK       0  LBB  597  340 215  8  3  -999 -999    2158  595 138\\n  TX MIDLAND       0  MAF  104 -127  37  7  0  -999 -999    1243   71 106\\n  TX SAN ANGELO    0  SJT   27 -268  27  1  0  -999 -999    1476 -145  91\\n  TX SAN ANTONIO   0  SAT  146 -154  87  5  1  -999 -999    1675 -788  68\\n  TX VICTORIA      0  VCT  369 -131 240  8  1  -999 -999    1955-1099  64\\n  TX WACO          0  ACT   17 -271  17  1  0  -999 -999    2767  340 114\\n  TX WICHITA FALLS 0  SPS  289  -30 134  5  2  -999 -999    2391  157 107\\n  UT SALT LAKE CITY0  SLC  157   24  81  1  1  -999 -999    1682  455 137\\n  VT BURLINGTON    0  BTV  375   -8 113  2  3  -999 -999    3002  248 109\\n  VA LYNCHBURG     0  LYH   17 -371   9  3  0  -999 -999    2884 -469  86\\n  VA NORFOLK       0  ORF  296 -110 158  3  2  -999 -999    3858  219 106\\n  VA RICHMOND      0  RIC   43 -355  38  3  0  -999 -999    3446   35 101\\n  VA ROANOKE       0  ROA  132 -253  57  7  2  -999 -999    3281  -33  99\\n  VA WASH/DULLES   2  IAD   41 -341  32  4  0  -999 -999    3026 -193  94\\n  WA OLYMPIA       0  OLM  343  140  87  4  3  -999 -999    2065 -971  68\\n  WA QUILLAYUTE    0  UIL  945  530 249  6  7  -999 -999    4674-1558  75\\n  WA SEATTLE-TACOMA0  SEA  333  170  59  8  1  -999 -999    2056 -178  92\\n  WA SPOKANE       0  GEG  199  123  70  1  2  -999 -999    1111    0 100\\n  WA YAKIMA        0  YKM   54   15  33  6  0  -999 -999     732  202 138\\n  WV BECKLEY       0  BKW   11 -312   5  4  0  -999 -999    3572  265 108\\n  WV CHARLESTON    0  CRW   55 -290  22  4  0  -999 -999    3457   35 101\\n  WV ELKINS        0  EKN   48 -334  31  2  0  -999 -999    3919  291 108\\n  WV HUNTINGTON    0  HTS    1 -279   1  1  0  -999 -999    3667  364 111\\n  WI EAU CLAIRE    0  EAU  594  220 220  0  4  -999 -999    3650  967 136\\n  WI GREEN BAY     0  GRB  938  627 209  5  6  -999 -999    3908 1568 167\\n  WI LA CROSSE     1  LSE  609  269 169  4  5  -999 -999    3654  968 136\\n  WI MADISON       0  MSN  681  373 189  5  4  -999 -999    3831 1152 143\\n  WI MILWAUKEE     0  MKE  700  370 141  1  5  -999 -999    3594  851 131\\n  WI WAUSAU        0  AUW  733  325 199  7  5  -999 -999    3996 1278 147\\n  WY CASPER        0  CPR  141   43  34  8  0  -999 -999    1630  586 156\\n  WY CHEYENNE      0  CYS   51  -92  16  8  0  -999 -999    2063  706 152\\n  WY LANDER        0  LND  148   34  58  7  1  -999 -999    1705  659 163\\n  WY SHERIDAN      0  SHR  190   52  99  9  1  -999 -999    1812  628 153\\n END OF DATA                                                                  \\n\"\n"
     ]
    }
   ],
   "source": [
    "import urllib.request\n",
    "import pandas as pd\n",
    "\n",
    "with urllib.request.urlopen(\"https://www.cpc.ncep.noaa.gov/products/analysis_monitoring/cdus/prcp_temp_tables/mctyprcp.txt\") as url:\n",
    "    txt = url.read()\n",
    "    print(txt)"
   ]
  },
  {
   "cell_type": "code",
   "execution_count": 2,
   "metadata": {},
   "outputs": [
    {
     "data": {
      "text/plain": [
       "bytes"
      ]
     },
     "execution_count": 2,
     "metadata": {},
     "output_type": "execute_result"
    }
   ],
   "source": [
    "type(txt)"
   ]
  },
  {
   "cell_type": "markdown",
   "metadata": {},
   "source": [
    "This file is stored as bytes which is fine for asci. Just recall that the numbers ike 4861 are stored here as chars and we at some point are going to have to convert them to ints for bigger numbers. "
   ]
  },
  {
   "cell_type": "code",
   "execution_count": 3,
   "metadata": {},
   "outputs": [
    {
     "data": {
      "text/plain": [
       "32"
      ]
     },
     "execution_count": 3,
     "metadata": {},
     "output_type": "execute_result"
    }
   ],
   "source": [
    "txt[0]"
   ]
  },
  {
   "cell_type": "code",
   "execution_count": 4,
   "metadata": {},
   "outputs": [
    {
     "data": {
      "text/plain": [
       "32"
      ]
     },
     "execution_count": 4,
     "metadata": {},
     "output_type": "execute_result"
    }
   ],
   "source": [
    "ord(' ')"
   ]
  },
  {
   "cell_type": "markdown",
   "metadata": {},
   "source": [
    "Although we could parse by hand, we can use pandas so we don't have to...."
   ]
  },
  {
   "cell_type": "code",
   "execution_count": 5,
   "metadata": {},
   "outputs": [],
   "source": [
    "data = pd.read_fwf(\"https://www.cpc.ncep.noaa.gov/products/analysis_monitoring/cdus/prcp_temp_tables/mctyprcp.txt\",\n",
    "                    skiprows=9)"
   ]
  },
  {
   "cell_type": "code",
   "execution_count": 6,
   "metadata": {},
   "outputs": [],
   "source": [
    "#data.columns = ['STATE','CITY', 'PFLAG', 'LTRS','AMT','NML','MAX', 'DATE','NML', 'AMT', 'NML', 'NML']"
   ]
  },
  {
   "cell_type": "code",
   "execution_count": 7,
   "metadata": {},
   "outputs": [
    {
     "data": {
      "text/html": [
       "<div>\n",
       "<style scoped>\n",
       "    .dataframe tbody tr th:only-of-type {\n",
       "        vertical-align: middle;\n",
       "    }\n",
       "\n",
       "    .dataframe tbody tr th {\n",
       "        vertical-align: top;\n",
       "    }\n",
       "\n",
       "    .dataframe thead th {\n",
       "        text-align: right;\n",
       "    }\n",
       "</style>\n",
       "<table border=\"1\" class=\"dataframe\">\n",
       "  <thead>\n",
       "    <tr style=\"text-align: right;\">\n",
       "      <th></th>\n",
       "      <th>*  PFLAG VALUES: 0 -</th>\n",
       "      <th>RELIABLE</th>\n",
       "      <th>1 -</th>\n",
       "      <th>QUESTIONABLE  2</th>\n",
       "      <th>- UNCLASSIFIED</th>\n",
       "      <th>Unnamed: 5</th>\n",
       "    </tr>\n",
       "  </thead>\n",
       "  <tbody>\n",
       "    <tr>\n",
       "      <th>0</th>\n",
       "      <td>AL BIRMINGHAM    0</td>\n",
       "      <td>BHM   56</td>\n",
       "      <td>-349.0</td>\n",
       "      <td>34  2  0  -999</td>\n",
       "      <td>-999    3706 -458</td>\n",
       "      <td>89.0</td>\n",
       "    </tr>\n",
       "    <tr>\n",
       "      <th>1</th>\n",
       "      <td>AL HUNTSVILLE    0</td>\n",
       "      <td>HSV   27</td>\n",
       "      <td>-402.0</td>\n",
       "      <td>16  2  0  -999</td>\n",
       "      <td>-999    4549  217</td>\n",
       "      <td>105.0</td>\n",
       "    </tr>\n",
       "    <tr>\n",
       "      <th>2</th>\n",
       "      <td>AL MOBILE        0</td>\n",
       "      <td>MOB  157</td>\n",
       "      <td>-444.0</td>\n",
       "      <td>157  1  1  -999</td>\n",
       "      <td>-999    4643 -633</td>\n",
       "      <td>88.0</td>\n",
       "    </tr>\n",
       "  </tbody>\n",
       "</table>\n",
       "</div>"
      ],
      "text/plain": [
       "  *  PFLAG VALUES: 0 -  RELIABLE    1 -  QUESTIONABLE  2     - UNCLASSIFIED  \\\n",
       "0   AL BIRMINGHAM    0  BHM   56 -349.0   34  2  0  -999  -999    3706 -458   \n",
       "1   AL HUNTSVILLE    0  HSV   27 -402.0   16  2  0  -999  -999    4549  217   \n",
       "2   AL MOBILE        0  MOB  157 -444.0  157  1  1  -999  -999    4643 -633   \n",
       "\n",
       "   Unnamed: 5  \n",
       "0        89.0  \n",
       "1       105.0  \n",
       "2        88.0  "
      ]
     },
     "execution_count": 7,
     "metadata": {},
     "output_type": "execute_result"
    }
   ],
   "source": [
    "data.head(3)"
   ]
  },
  {
   "cell_type": "markdown",
   "metadata": {},
   "source": [
    "hmmmm.... Never rely on the default parser. Aside from the header problem, the parser is combining multiple columns together. It would be fastest computationally just to define the schema by hand using ourtext editor to list the columns. \n"
   ]
  },
  {
   "cell_type": "code",
   "execution_count": 8,
   "metadata": {},
   "outputs": [],
   "source": [
    "data = pd.read_fwf(\"https://www.cpc.ncep.noaa.gov/products/analysis_monitoring/cdus/prcp_temp_tables/mctyprcp.txt\",\n",
    "                    skiprows=10, colspecs =[(1,5),(4,19),(19,20),(22,26), (28,31), (31,36), (36,40), \n",
    "                                            (41,43), (43,46), (46,51), (51,57), (60,65), (65,71), (71,74) ], header= None)"
   ]
  },
  {
   "cell_type": "code",
   "execution_count": 9,
   "metadata": {},
   "outputs": [
    {
     "data": {
      "text/html": [
       "<div>\n",
       "<style scoped>\n",
       "    .dataframe tbody tr th:only-of-type {\n",
       "        vertical-align: middle;\n",
       "    }\n",
       "\n",
       "    .dataframe tbody tr th {\n",
       "        vertical-align: top;\n",
       "    }\n",
       "\n",
       "    .dataframe thead th {\n",
       "        text-align: right;\n",
       "    }\n",
       "</style>\n",
       "<table border=\"1\" class=\"dataframe\">\n",
       "  <thead>\n",
       "    <tr style=\"text-align: right;\">\n",
       "      <th></th>\n",
       "      <th>0</th>\n",
       "      <th>1</th>\n",
       "      <th>2</th>\n",
       "      <th>3</th>\n",
       "      <th>4</th>\n",
       "      <th>5</th>\n",
       "      <th>6</th>\n",
       "      <th>7</th>\n",
       "      <th>8</th>\n",
       "      <th>9</th>\n",
       "      <th>10</th>\n",
       "      <th>11</th>\n",
       "      <th>12</th>\n",
       "      <th>13</th>\n",
       "    </tr>\n",
       "  </thead>\n",
       "  <tbody>\n",
       "    <tr>\n",
       "      <th>0</th>\n",
       "      <td>AL</td>\n",
       "      <td>BIRMINGHAM</td>\n",
       "      <td>0.0</td>\n",
       "      <td>BHM</td>\n",
       "      <td>56.0</td>\n",
       "      <td>-349.0</td>\n",
       "      <td>34.0</td>\n",
       "      <td>2.0</td>\n",
       "      <td>0.0</td>\n",
       "      <td>-999.0</td>\n",
       "      <td>-999.0</td>\n",
       "      <td>3706</td>\n",
       "      <td>-458</td>\n",
       "      <td>89.0</td>\n",
       "    </tr>\n",
       "    <tr>\n",
       "      <th>1</th>\n",
       "      <td>AL</td>\n",
       "      <td>HUNTSVILLE</td>\n",
       "      <td>0.0</td>\n",
       "      <td>HSV</td>\n",
       "      <td>27.0</td>\n",
       "      <td>-402.0</td>\n",
       "      <td>16.0</td>\n",
       "      <td>2.0</td>\n",
       "      <td>0.0</td>\n",
       "      <td>-999.0</td>\n",
       "      <td>-999.0</td>\n",
       "      <td>4549</td>\n",
       "      <td>217 1</td>\n",
       "      <td>5.0</td>\n",
       "    </tr>\n",
       "    <tr>\n",
       "      <th>2</th>\n",
       "      <td>AL</td>\n",
       "      <td>MOBILE</td>\n",
       "      <td>0.0</td>\n",
       "      <td>MOB</td>\n",
       "      <td>57.0</td>\n",
       "      <td>-444.0</td>\n",
       "      <td>157.0</td>\n",
       "      <td>1.0</td>\n",
       "      <td>1.0</td>\n",
       "      <td>-999.0</td>\n",
       "      <td>-999.0</td>\n",
       "      <td>4643</td>\n",
       "      <td>-633</td>\n",
       "      <td>88.0</td>\n",
       "    </tr>\n",
       "    <tr>\n",
       "      <th>3</th>\n",
       "      <td>AL</td>\n",
       "      <td>MONTGOMERY</td>\n",
       "      <td>0.0</td>\n",
       "      <td>MGM</td>\n",
       "      <td>5.0</td>\n",
       "      <td>-417.0</td>\n",
       "      <td>5.0</td>\n",
       "      <td>1.0</td>\n",
       "      <td>0.0</td>\n",
       "      <td>-999.0</td>\n",
       "      <td>-999.0</td>\n",
       "      <td>3401</td>\n",
       "      <td>-850</td>\n",
       "      <td>80.0</td>\n",
       "    </tr>\n",
       "  </tbody>\n",
       "</table>\n",
       "</div>"
      ],
      "text/plain": [
       "   0           1    2    3     4      5      6    7    8      9      10    11  \\\n",
       "0  AL  BIRMINGHAM  0.0  BHM  56.0 -349.0   34.0  2.0  0.0 -999.0 -999.0  3706   \n",
       "1  AL  HUNTSVILLE  0.0  HSV  27.0 -402.0   16.0  2.0  0.0 -999.0 -999.0  4549   \n",
       "2  AL      MOBILE  0.0  MOB  57.0 -444.0  157.0  1.0  1.0 -999.0 -999.0  4643   \n",
       "3  AL  MONTGOMERY  0.0  MGM   5.0 -417.0    5.0  1.0  0.0 -999.0 -999.0  3401   \n",
       "\n",
       "      12    13  \n",
       "0   -458  89.0  \n",
       "1  217 1   5.0  \n",
       "2   -633  88.0  \n",
       "3   -850  80.0  "
      ]
     },
     "execution_count": 9,
     "metadata": {},
     "output_type": "execute_result"
    }
   ],
   "source": [
    "data.head(4)"
   ]
  },
  {
   "cell_type": "markdown",
   "metadata": {},
   "source": [
    "This works and is probably the fastest but upon rereading the assignment it doesn't seem to fullfull therequirements. For fun let's work with out original problematic dataset"
   ]
  },
  {
   "cell_type": "code",
   "execution_count": 10,
   "metadata": {},
   "outputs": [],
   "source": [
    "data = pd.read_fwf(\"https://www.cpc.ncep.noaa.gov/products/analysis_monitoring/cdus/prcp_temp_tables/mctyprcp.txt\",\n",
    "                    skiprows=10, header=None)"
   ]
  },
  {
   "cell_type": "code",
   "execution_count": 11,
   "metadata": {},
   "outputs": [
    {
     "data": {
      "text/html": [
       "<div>\n",
       "<style scoped>\n",
       "    .dataframe tbody tr th:only-of-type {\n",
       "        vertical-align: middle;\n",
       "    }\n",
       "\n",
       "    .dataframe tbody tr th {\n",
       "        vertical-align: top;\n",
       "    }\n",
       "\n",
       "    .dataframe thead th {\n",
       "        text-align: right;\n",
       "    }\n",
       "</style>\n",
       "<table border=\"1\" class=\"dataframe\">\n",
       "  <thead>\n",
       "    <tr style=\"text-align: right;\">\n",
       "      <th></th>\n",
       "      <th>0</th>\n",
       "      <th>1</th>\n",
       "      <th>2</th>\n",
       "      <th>3</th>\n",
       "      <th>4</th>\n",
       "      <th>5</th>\n",
       "      <th>6</th>\n",
       "      <th>7</th>\n",
       "      <th>8</th>\n",
       "      <th>9</th>\n",
       "      <th>10</th>\n",
       "      <th>11</th>\n",
       "    </tr>\n",
       "  </thead>\n",
       "  <tbody>\n",
       "    <tr>\n",
       "      <th>0</th>\n",
       "      <td>AL</td>\n",
       "      <td>BIRMINGHAM    0</td>\n",
       "      <td>BHM</td>\n",
       "      <td>56.0</td>\n",
       "      <td>-349.0</td>\n",
       "      <td>34.0</td>\n",
       "      <td>2.0</td>\n",
       "      <td>0.0</td>\n",
       "      <td>-999.0</td>\n",
       "      <td>-999.0</td>\n",
       "      <td>3706 -458</td>\n",
       "      <td>89.0</td>\n",
       "    </tr>\n",
       "    <tr>\n",
       "      <th>1</th>\n",
       "      <td>AL</td>\n",
       "      <td>HUNTSVILLE    0</td>\n",
       "      <td>HSV</td>\n",
       "      <td>27.0</td>\n",
       "      <td>-402.0</td>\n",
       "      <td>16.0</td>\n",
       "      <td>2.0</td>\n",
       "      <td>0.0</td>\n",
       "      <td>-999.0</td>\n",
       "      <td>-999.0</td>\n",
       "      <td>4549  217</td>\n",
       "      <td>105.0</td>\n",
       "    </tr>\n",
       "    <tr>\n",
       "      <th>2</th>\n",
       "      <td>AL</td>\n",
       "      <td>MOBILE        0</td>\n",
       "      <td>MOB</td>\n",
       "      <td>157.0</td>\n",
       "      <td>-444.0</td>\n",
       "      <td>157.0</td>\n",
       "      <td>1.0</td>\n",
       "      <td>1.0</td>\n",
       "      <td>-999.0</td>\n",
       "      <td>-999.0</td>\n",
       "      <td>4643 -633</td>\n",
       "      <td>88.0</td>\n",
       "    </tr>\n",
       "  </tbody>\n",
       "</table>\n",
       "</div>"
      ],
      "text/plain": [
       "   0                1    2      3      4      5    6    7      8      9   \\\n",
       "0  AL  BIRMINGHAM    0  BHM   56.0 -349.0   34.0  2.0  0.0 -999.0 -999.0   \n",
       "1  AL  HUNTSVILLE    0  HSV   27.0 -402.0   16.0  2.0  0.0 -999.0 -999.0   \n",
       "2  AL  MOBILE        0  MOB  157.0 -444.0  157.0  1.0  1.0 -999.0 -999.0   \n",
       "\n",
       "          10     11  \n",
       "0  3706 -458   89.0  \n",
       "1  4549  217  105.0  \n",
       "2  4643 -633   88.0  "
      ]
     },
     "execution_count": 11,
     "metadata": {},
     "output_type": "execute_result"
    }
   ],
   "source": [
    "data.head(3)"
   ]
  },
  {
   "cell_type": "markdown",
   "metadata": {},
   "source": [
    "Note the differences with the original. \n",
    "1. The second column needs to be split\n",
    "2. The 11th column needs to be split"
   ]
  },
  {
   "cell_type": "code",
   "execution_count": 12,
   "metadata": {},
   "outputs": [],
   "source": [
    "#The second column needs to be split\n",
    "data['city'] = data[1].str[:-1]  \n",
    "data['pflag'] = data[1].str[-1]"
   ]
  },
  {
   "cell_type": "code",
   "execution_count": 13,
   "metadata": {},
   "outputs": [],
   "source": [
    "#The 11th column needs to be split\n",
    "data['year_to_date_amt'] = data[10].str[:5]\n",
    "data['year_to_date_dep_nml'] = data[10].str[5:]"
   ]
  },
  {
   "cell_type": "code",
   "execution_count": 14,
   "metadata": {},
   "outputs": [
    {
     "data": {
      "text/html": [
       "<div>\n",
       "<style scoped>\n",
       "    .dataframe tbody tr th:only-of-type {\n",
       "        vertical-align: middle;\n",
       "    }\n",
       "\n",
       "    .dataframe tbody tr th {\n",
       "        vertical-align: top;\n",
       "    }\n",
       "\n",
       "    .dataframe thead th {\n",
       "        text-align: right;\n",
       "    }\n",
       "</style>\n",
       "<table border=\"1\" class=\"dataframe\">\n",
       "  <thead>\n",
       "    <tr style=\"text-align: right;\">\n",
       "      <th></th>\n",
       "      <th>0</th>\n",
       "      <th>1</th>\n",
       "      <th>2</th>\n",
       "      <th>3</th>\n",
       "      <th>4</th>\n",
       "      <th>5</th>\n",
       "      <th>6</th>\n",
       "      <th>7</th>\n",
       "      <th>8</th>\n",
       "      <th>9</th>\n",
       "      <th>10</th>\n",
       "      <th>11</th>\n",
       "      <th>city</th>\n",
       "      <th>pflag</th>\n",
       "      <th>year_to_date_amt</th>\n",
       "      <th>year_to_date_dep_nml</th>\n",
       "    </tr>\n",
       "  </thead>\n",
       "  <tbody>\n",
       "    <tr>\n",
       "      <th>0</th>\n",
       "      <td>AL</td>\n",
       "      <td>BIRMINGHAM    0</td>\n",
       "      <td>BHM</td>\n",
       "      <td>56.0</td>\n",
       "      <td>-349.0</td>\n",
       "      <td>34.0</td>\n",
       "      <td>2.0</td>\n",
       "      <td>0.0</td>\n",
       "      <td>-999.0</td>\n",
       "      <td>-999.0</td>\n",
       "      <td>3706 -458</td>\n",
       "      <td>89.0</td>\n",
       "      <td>BIRMINGHAM</td>\n",
       "      <td>0</td>\n",
       "      <td>3706</td>\n",
       "      <td>-458</td>\n",
       "    </tr>\n",
       "    <tr>\n",
       "      <th>1</th>\n",
       "      <td>AL</td>\n",
       "      <td>HUNTSVILLE    0</td>\n",
       "      <td>HSV</td>\n",
       "      <td>27.0</td>\n",
       "      <td>-402.0</td>\n",
       "      <td>16.0</td>\n",
       "      <td>2.0</td>\n",
       "      <td>0.0</td>\n",
       "      <td>-999.0</td>\n",
       "      <td>-999.0</td>\n",
       "      <td>4549  217</td>\n",
       "      <td>105.0</td>\n",
       "      <td>HUNTSVILLE</td>\n",
       "      <td>0</td>\n",
       "      <td>4549</td>\n",
       "      <td>217</td>\n",
       "    </tr>\n",
       "    <tr>\n",
       "      <th>2</th>\n",
       "      <td>AL</td>\n",
       "      <td>MOBILE        0</td>\n",
       "      <td>MOB</td>\n",
       "      <td>157.0</td>\n",
       "      <td>-444.0</td>\n",
       "      <td>157.0</td>\n",
       "      <td>1.0</td>\n",
       "      <td>1.0</td>\n",
       "      <td>-999.0</td>\n",
       "      <td>-999.0</td>\n",
       "      <td>4643 -633</td>\n",
       "      <td>88.0</td>\n",
       "      <td>MOBILE</td>\n",
       "      <td>0</td>\n",
       "      <td>4643</td>\n",
       "      <td>-633</td>\n",
       "    </tr>\n",
       "  </tbody>\n",
       "</table>\n",
       "</div>"
      ],
      "text/plain": [
       "    0                1    2      3      4      5    6    7      8      9  \\\n",
       "0  AL  BIRMINGHAM    0  BHM   56.0 -349.0   34.0  2.0  0.0 -999.0 -999.0   \n",
       "1  AL  HUNTSVILLE    0  HSV   27.0 -402.0   16.0  2.0  0.0 -999.0 -999.0   \n",
       "2  AL  MOBILE        0  MOB  157.0 -444.0  157.0  1.0  1.0 -999.0 -999.0   \n",
       "\n",
       "          10     11            city pflag year_to_date_amt  \\\n",
       "0  3706 -458   89.0  BIRMINGHAM         0            3706    \n",
       "1  4549  217  105.0  HUNTSVILLE         0            4549    \n",
       "2  4643 -633   88.0  MOBILE             0            4643    \n",
       "\n",
       "  year_to_date_dep_nml  \n",
       "0                 -458  \n",
       "1                  217  \n",
       "2                 -633  "
      ]
     },
     "execution_count": 14,
     "metadata": {},
     "output_type": "execute_result"
    }
   ],
   "source": [
    "data.head(3)"
   ]
  },
  {
   "cell_type": "markdown",
   "metadata": {},
   "source": [
    "Now let's get rid of the columns we just split"
   ]
  },
  {
   "cell_type": "code",
   "execution_count": 15,
   "metadata": {},
   "outputs": [],
   "source": [
    "data = data.drop(columns = [1,10])\n"
   ]
  },
  {
   "cell_type": "markdown",
   "metadata": {},
   "source": [
    "And delete the last row which says end of data"
   ]
  },
  {
   "cell_type": "code",
   "execution_count": 16,
   "metadata": {},
   "outputs": [],
   "source": [
    "data = data.drop(len(data)-1)"
   ]
  },
  {
   "cell_type": "code",
   "execution_count": 17,
   "metadata": {},
   "outputs": [
    {
     "data": {
      "text/html": [
       "<div>\n",
       "<style scoped>\n",
       "    .dataframe tbody tr th:only-of-type {\n",
       "        vertical-align: middle;\n",
       "    }\n",
       "\n",
       "    .dataframe tbody tr th {\n",
       "        vertical-align: top;\n",
       "    }\n",
       "\n",
       "    .dataframe thead th {\n",
       "        text-align: right;\n",
       "    }\n",
       "</style>\n",
       "<table border=\"1\" class=\"dataframe\">\n",
       "  <thead>\n",
       "    <tr style=\"text-align: right;\">\n",
       "      <th></th>\n",
       "      <th>0</th>\n",
       "      <th>2</th>\n",
       "      <th>3</th>\n",
       "      <th>4</th>\n",
       "      <th>5</th>\n",
       "      <th>6</th>\n",
       "      <th>7</th>\n",
       "      <th>8</th>\n",
       "      <th>9</th>\n",
       "      <th>11</th>\n",
       "      <th>city</th>\n",
       "      <th>pflag</th>\n",
       "      <th>year_to_date_amt</th>\n",
       "      <th>year_to_date_dep_nml</th>\n",
       "    </tr>\n",
       "  </thead>\n",
       "  <tbody>\n",
       "    <tr>\n",
       "      <th>0</th>\n",
       "      <td>AL</td>\n",
       "      <td>BHM</td>\n",
       "      <td>56.0</td>\n",
       "      <td>-349.0</td>\n",
       "      <td>34.0</td>\n",
       "      <td>2.0</td>\n",
       "      <td>0.0</td>\n",
       "      <td>-999.0</td>\n",
       "      <td>-999.0</td>\n",
       "      <td>89.0</td>\n",
       "      <td>BIRMINGHAM</td>\n",
       "      <td>0</td>\n",
       "      <td>3706</td>\n",
       "      <td>-458</td>\n",
       "    </tr>\n",
       "    <tr>\n",
       "      <th>1</th>\n",
       "      <td>AL</td>\n",
       "      <td>HSV</td>\n",
       "      <td>27.0</td>\n",
       "      <td>-402.0</td>\n",
       "      <td>16.0</td>\n",
       "      <td>2.0</td>\n",
       "      <td>0.0</td>\n",
       "      <td>-999.0</td>\n",
       "      <td>-999.0</td>\n",
       "      <td>105.0</td>\n",
       "      <td>HUNTSVILLE</td>\n",
       "      <td>0</td>\n",
       "      <td>4549</td>\n",
       "      <td>217</td>\n",
       "    </tr>\n",
       "    <tr>\n",
       "      <th>2</th>\n",
       "      <td>AL</td>\n",
       "      <td>MOB</td>\n",
       "      <td>157.0</td>\n",
       "      <td>-444.0</td>\n",
       "      <td>157.0</td>\n",
       "      <td>1.0</td>\n",
       "      <td>1.0</td>\n",
       "      <td>-999.0</td>\n",
       "      <td>-999.0</td>\n",
       "      <td>88.0</td>\n",
       "      <td>MOBILE</td>\n",
       "      <td>0</td>\n",
       "      <td>4643</td>\n",
       "      <td>-633</td>\n",
       "    </tr>\n",
       "  </tbody>\n",
       "</table>\n",
       "</div>"
      ],
      "text/plain": [
       "    0    2      3      4      5    6    7      8      9     11  \\\n",
       "0  AL  BHM   56.0 -349.0   34.0  2.0  0.0 -999.0 -999.0   89.0   \n",
       "1  AL  HSV   27.0 -402.0   16.0  2.0  0.0 -999.0 -999.0  105.0   \n",
       "2  AL  MOB  157.0 -444.0  157.0  1.0  1.0 -999.0 -999.0   88.0   \n",
       "\n",
       "             city pflag year_to_date_amt year_to_date_dep_nml  \n",
       "0  BIRMINGHAM         0            3706                  -458  \n",
       "1  HUNTSVILLE         0            4549                   217  \n",
       "2  MOBILE             0            4643                  -633  "
      ]
     },
     "execution_count": 17,
     "metadata": {},
     "output_type": "execute_result"
    }
   ],
   "source": [
    "data.head(3)"
   ]
  },
  {
   "cell_type": "code",
   "execution_count": 18,
   "metadata": {},
   "outputs": [],
   "source": [
    "\n",
    "data.columns = ['state', 'call_ltrs', 'month_tot_amt', 'month_dep_nml', '24_hr_max', 'days_above_1', 'days_above_50', \n",
    "'season_to_date', 'season_dep_nml','year_to_date_pct_nml', 'city', 'pflag', 'year_to_date_amt', 'year_to_date_dep_nml']\n",
    "\n",
    "data = data[[\n",
    "'state',\n",
    "'city',\n",
    "'pflag',\n",
    "'call_ltrs',\n",
    "'month_tot_amt',\n",
    "'month_dep_nml',\n",
    "'24_hr_max',\n",
    "'days_above_1',\n",
    "'days_above_50',\n",
    "'season_to_date',\n",
    "'season_dep_nml',\n",
    "'year_to_date_amt',\n",
    "'year_to_date_dep_nml',\n",
    "'year_to_date_pct_nml',\n",
    "            ]]"
   ]
  },
  {
   "cell_type": "code",
   "execution_count": 19,
   "metadata": {},
   "outputs": [
    {
     "data": {
      "text/html": [
       "<div>\n",
       "<style scoped>\n",
       "    .dataframe tbody tr th:only-of-type {\n",
       "        vertical-align: middle;\n",
       "    }\n",
       "\n",
       "    .dataframe tbody tr th {\n",
       "        vertical-align: top;\n",
       "    }\n",
       "\n",
       "    .dataframe thead th {\n",
       "        text-align: right;\n",
       "    }\n",
       "</style>\n",
       "<table border=\"1\" class=\"dataframe\">\n",
       "  <thead>\n",
       "    <tr style=\"text-align: right;\">\n",
       "      <th></th>\n",
       "      <th>state</th>\n",
       "      <th>city</th>\n",
       "      <th>pflag</th>\n",
       "      <th>call_ltrs</th>\n",
       "      <th>month_tot_amt</th>\n",
       "      <th>month_dep_nml</th>\n",
       "      <th>24_hr_max</th>\n",
       "      <th>days_above_1</th>\n",
       "      <th>days_above_50</th>\n",
       "      <th>season_to_date</th>\n",
       "      <th>season_dep_nml</th>\n",
       "      <th>year_to_date_amt</th>\n",
       "      <th>year_to_date_dep_nml</th>\n",
       "      <th>year_to_date_pct_nml</th>\n",
       "    </tr>\n",
       "  </thead>\n",
       "  <tbody>\n",
       "    <tr>\n",
       "      <th>0</th>\n",
       "      <td>AL</td>\n",
       "      <td>BIRMINGHAM</td>\n",
       "      <td>0</td>\n",
       "      <td>BHM</td>\n",
       "      <td>56.0</td>\n",
       "      <td>-349.0</td>\n",
       "      <td>34.0</td>\n",
       "      <td>2.0</td>\n",
       "      <td>0.0</td>\n",
       "      <td>-999.0</td>\n",
       "      <td>-999.0</td>\n",
       "      <td>3706</td>\n",
       "      <td>-458</td>\n",
       "      <td>89.0</td>\n",
       "    </tr>\n",
       "    <tr>\n",
       "      <th>1</th>\n",
       "      <td>AL</td>\n",
       "      <td>HUNTSVILLE</td>\n",
       "      <td>0</td>\n",
       "      <td>HSV</td>\n",
       "      <td>27.0</td>\n",
       "      <td>-402.0</td>\n",
       "      <td>16.0</td>\n",
       "      <td>2.0</td>\n",
       "      <td>0.0</td>\n",
       "      <td>-999.0</td>\n",
       "      <td>-999.0</td>\n",
       "      <td>4549</td>\n",
       "      <td>217</td>\n",
       "      <td>105.0</td>\n",
       "    </tr>\n",
       "    <tr>\n",
       "      <th>2</th>\n",
       "      <td>AL</td>\n",
       "      <td>MOBILE</td>\n",
       "      <td>0</td>\n",
       "      <td>MOB</td>\n",
       "      <td>157.0</td>\n",
       "      <td>-444.0</td>\n",
       "      <td>157.0</td>\n",
       "      <td>1.0</td>\n",
       "      <td>1.0</td>\n",
       "      <td>-999.0</td>\n",
       "      <td>-999.0</td>\n",
       "      <td>4643</td>\n",
       "      <td>-633</td>\n",
       "      <td>88.0</td>\n",
       "    </tr>\n",
       "  </tbody>\n",
       "</table>\n",
       "</div>"
      ],
      "text/plain": [
       "  state            city pflag call_ltrs  month_tot_amt  month_dep_nml  \\\n",
       "0    AL  BIRMINGHAM         0       BHM           56.0         -349.0   \n",
       "1    AL  HUNTSVILLE         0       HSV           27.0         -402.0   \n",
       "2    AL  MOBILE             0       MOB          157.0         -444.0   \n",
       "\n",
       "   24_hr_max  days_above_1  days_above_50  season_to_date  season_dep_nml  \\\n",
       "0       34.0           2.0            0.0          -999.0          -999.0   \n",
       "1       16.0           2.0            0.0          -999.0          -999.0   \n",
       "2      157.0           1.0            1.0          -999.0          -999.0   \n",
       "\n",
       "  year_to_date_amt year_to_date_dep_nml  year_to_date_pct_nml  \n",
       "0            3706                  -458                  89.0  \n",
       "1            4549                   217                 105.0  \n",
       "2            4643                  -633                  88.0  "
      ]
     },
     "execution_count": 19,
     "metadata": {},
     "output_type": "execute_result"
    }
   ],
   "source": [
    "data.head(3)"
   ]
  },
  {
   "cell_type": "markdown",
   "metadata": {},
   "source": [
    "Now let's find the city with the lowest and highest year to date percent-of-normal (pct nml) "
   ]
  },
  {
   "cell_type": "code",
   "execution_count": 20,
   "metadata": {},
   "outputs": [
    {
     "data": {
      "text/plain": [
       "state                               NC\n",
       "city                    HATTERAS      \n",
       "pflag                                2\n",
       "call_ltrs                          HSE\n",
       "month_tot_amt                      -99\n",
       "month_dep_nml                      -99\n",
       "24_hr_max                          -99\n",
       "days_above_1                         9\n",
       "days_above_50                        9\n",
       "season_to_date                    -999\n",
       "season_dep_nml                    -999\n",
       "year_to_date_amt                 -999 \n",
       "year_to_date_dep_nml              -999\n",
       "year_to_date_pct_nml               -99\n",
       "Name: 153, dtype: object"
      ]
     },
     "execution_count": 20,
     "metadata": {},
     "output_type": "execute_result"
    }
   ],
   "source": [
    "data = data.sort_values('year_to_date_pct_nml')\n",
    "data.iloc[0]"
   ]
  },
  {
   "cell_type": "markdown",
   "metadata": {},
   "source": [
    "These numbers don't really make much sense. Maybe data wasn't collected here properly since we can see the total month amount is below 0. Let's go to the next row."
   ]
  },
  {
   "cell_type": "code",
   "execution_count": 21,
   "metadata": {},
   "outputs": [
    {
     "data": {
      "text/plain": [
       "state                               TX\n",
       "city                    EL PASO       \n",
       "pflag                                0\n",
       "call_ltrs                          ELP\n",
       "month_tot_amt                      148\n",
       "month_dep_nml                      -13\n",
       "24_hr_max                           92\n",
       "days_above_1                         5\n",
       "days_above_50                        1\n",
       "season_to_date                    -999\n",
       "season_dep_nml                    -999\n",
       "year_to_date_amt                 422 -\n",
       "year_to_date_dep_nml               318\n",
       "year_to_date_pct_nml                57\n",
       "Name: 213, dtype: object"
      ]
     },
     "execution_count": 21,
     "metadata": {},
     "output_type": "execute_result"
    }
   ],
   "source": [
    "data.iloc[1]"
   ]
  },
  {
   "cell_type": "markdown",
   "metadata": {},
   "source": [
    "We see that El Paso only recieved about 57 percent of it's normal precipitation"
   ]
  },
  {
   "cell_type": "code",
   "execution_count": 22,
   "metadata": {},
   "outputs": [
    {
     "data": {
      "text/plain": [
       "state                               AK\n",
       "city                    BARROW        \n",
       "pflag                                0\n",
       "call_ltrs                          BRW\n",
       "month_tot_amt                       93\n",
       "month_dep_nml                       24\n",
       "24_hr_max                           23\n",
       "days_above_1                         3\n",
       "days_above_50                        0\n",
       "season_to_date                    -999\n",
       "season_dep_nml                    -999\n",
       "year_to_date_amt                 930  \n",
       "year_to_date_dep_nml               582\n",
       "year_to_date_pct_nml               267\n",
       "Name: 5, dtype: object"
      ]
     },
     "execution_count": 22,
     "metadata": {},
     "output_type": "execute_result"
    }
   ],
   "source": [
    "data.iloc[-1]"
   ]
  },
  {
   "cell_type": "markdown",
   "metadata": {},
   "source": [
    "Barrow, AK seems to have around 2.67 times the normal percipitation."
   ]
  },
  {
   "cell_type": "code",
   "execution_count": 26,
   "metadata": {},
   "outputs": [
    {
     "data": {
      "text/plain": [
       "120.85943775100401"
      ]
     },
     "execution_count": 26,
     "metadata": {},
     "output_type": "execute_result"
    }
   ],
   "source": [
    "data['year_to_date_pct_nml'].mean()"
   ]
  },
  {
   "cell_type": "markdown",
   "metadata": {},
   "source": [
    "Most cities seemed to have a bit more precipitation than normal"
   ]
  },
  {
   "cell_type": "markdown",
   "metadata": {},
   "source": [
    "Let's save the data"
   ]
  },
  {
   "cell_type": "code",
   "execution_count": 24,
   "metadata": {},
   "outputs": [],
   "source": [
    "data.to_csv('data/precipitation_sep_2019_data.csv') "
   ]
  },
  {
   "cell_type": "code",
   "execution_count": null,
   "metadata": {},
   "outputs": [],
   "source": []
  }
 ],
 "metadata": {
  "kernelspec": {
   "display_name": "Python 3",
   "language": "python",
   "name": "python3"
  },
  "language_info": {
   "codemirror_mode": {
    "name": "ipython",
    "version": 3
   },
   "file_extension": ".py",
   "mimetype": "text/x-python",
   "name": "python",
   "nbconvert_exporter": "python",
   "pygments_lexer": "ipython3",
   "version": "3.7.1"
  }
 },
 "nbformat": 4,
 "nbformat_minor": 2
}
