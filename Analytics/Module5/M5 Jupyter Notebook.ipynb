{
 "cells": [
  {
   "cell_type": "markdown",
   "metadata": {},
   "source": [
    "## Energy Consumption\n",
    "\n",
    "Benny Cohen\n",
    "10/6/2019"
   ]
  },
  {
   "cell_type": "markdown",
   "metadata": {},
   "source": [
    "In this notebook we will be looking at a data set describing how much energy different types of buildings consume in NY"
   ]
  },
  {
   "cell_type": "markdown",
   "metadata": {},
   "source": [
    "First let's bring in needed libraries and import the data"
   ]
  },
  {
   "cell_type": "code",
   "execution_count": 24,
   "metadata": {},
   "outputs": [],
   "source": [
    "import pandas as pd"
   ]
  },
  {
   "cell_type": "code",
   "execution_count": 2,
   "metadata": {},
   "outputs": [],
   "source": [
    "nyc_gas =  pd.read_csv(\"https://data.cityofnewyork.us/api/views/uedp-fegm/rows.csv?accessType=DOWNLOAD\")"
   ]
  },
  {
   "cell_type": "markdown",
   "metadata": {},
   "source": [
    "Now let's see what the data looks like"
   ]
  },
  {
   "cell_type": "code",
   "execution_count": 3,
   "metadata": {},
   "outputs": [
    {
     "name": "stdout",
     "output_type": "stream",
     "text": [
      "there are 1015 rows and 5 columns\n"
     ]
    }
   ],
   "source": [
    "rows, cols = nyc_gas.shape\n",
    "print(\"there are \" + str(rows) + \" rows and \" + str(cols) + \" columns\")"
   ]
  },
  {
   "cell_type": "code",
   "execution_count": 4,
   "metadata": {},
   "outputs": [
    {
     "data": {
      "text/html": [
       "<div>\n",
       "<style scoped>\n",
       "    .dataframe tbody tr th:only-of-type {\n",
       "        vertical-align: middle;\n",
       "    }\n",
       "\n",
       "    .dataframe tbody tr th {\n",
       "        vertical-align: top;\n",
       "    }\n",
       "\n",
       "    .dataframe thead th {\n",
       "        text-align: right;\n",
       "    }\n",
       "</style>\n",
       "<table border=\"1\" class=\"dataframe\">\n",
       "  <thead>\n",
       "    <tr style=\"text-align: right;\">\n",
       "      <th></th>\n",
       "      <th>Zip Code</th>\n",
       "      <th>Building type (service class</th>\n",
       "      <th>Consumption (therms)</th>\n",
       "      <th>Consumption (GJ)</th>\n",
       "      <th>Utility/Data Source</th>\n",
       "    </tr>\n",
       "  </thead>\n",
       "  <tbody>\n",
       "    <tr>\n",
       "      <th>0</th>\n",
       "      <td>10300</td>\n",
       "      <td>Commercial</td>\n",
       "      <td>470.0</td>\n",
       "      <td>50.0</td>\n",
       "      <td>National Grid</td>\n",
       "    </tr>\n",
       "    <tr>\n",
       "      <th>1</th>\n",
       "      <td>10335</td>\n",
       "      <td>Commercial</td>\n",
       "      <td>647.0</td>\n",
       "      <td>68.0</td>\n",
       "      <td>National Grid</td>\n",
       "    </tr>\n",
       "    <tr>\n",
       "      <th>2</th>\n",
       "      <td>10360</td>\n",
       "      <td>Large residential</td>\n",
       "      <td>33762.0</td>\n",
       "      <td>3562.0</td>\n",
       "      <td>National Grid</td>\n",
       "    </tr>\n",
       "    <tr>\n",
       "      <th>3</th>\n",
       "      <td>11200</td>\n",
       "      <td>Commercial</td>\n",
       "      <td>32125.0</td>\n",
       "      <td>3389.0</td>\n",
       "      <td>National Grid</td>\n",
       "    </tr>\n",
       "    <tr>\n",
       "      <th>4</th>\n",
       "      <td>11200</td>\n",
       "      <td>Institutional</td>\n",
       "      <td>3605.0</td>\n",
       "      <td>380.0</td>\n",
       "      <td>National Grid</td>\n",
       "    </tr>\n",
       "  </tbody>\n",
       "</table>\n",
       "</div>"
      ],
      "text/plain": [
       "  Zip Code Building type (service class   Consumption (therms)   \\\n",
       "0    10300                   Commercial                   470.0   \n",
       "1    10335                   Commercial                   647.0   \n",
       "2    10360            Large residential                 33762.0   \n",
       "3    11200                   Commercial                 32125.0   \n",
       "4    11200                Institutional                  3605.0   \n",
       "\n",
       "    Consumption (GJ)  Utility/Data Source  \n",
       "0                50.0       National Grid  \n",
       "1                68.0       National Grid  \n",
       "2              3562.0       National Grid  \n",
       "3              3389.0       National Grid  \n",
       "4               380.0       National Grid  "
      ]
     },
     "execution_count": 4,
     "metadata": {},
     "output_type": "execute_result"
    }
   ],
   "source": [
    "nyc_gas.head(5)"
   ]
  },
  {
   "cell_type": "markdown",
   "metadata": {},
   "source": [
    "Some observations about the data: \n",
    "The index seems to be auto incrementing\n",
    "The columns are \n",
    "1. Zip code of where the building is\n",
    "2. building type saying if the building is residential, commericat, institutional etc.\n",
    "3. Consumption of energy in therms (some type of meassurement)\n",
    "4. Consumption of energy in GJ (another type of meassurement. Maybe we can find how to convert GJ to therms from this data)\n",
    "5. The source of the data"
   ]
  },
  {
   "cell_type": "code",
   "execution_count": 5,
   "metadata": {},
   "outputs": [
    {
     "data": {
      "text/plain": [
       "Index(['Zip Code', 'Building type (service class', ' Consumption (therms) ',\n",
       "       ' Consumption (GJ) ', 'Utility/Data Source'],\n",
       "      dtype='object')"
      ]
     },
     "execution_count": 5,
     "metadata": {},
     "output_type": "execute_result"
    }
   ],
   "source": [
    "nyc_gas.columns"
   ]
  },
  {
   "cell_type": "markdown",
   "metadata": {},
   "source": [
    "There are some problems with the column names. Zip code for example has a space in it which makes it impossible to use dot notation. The parentesis next to building type isn't closed and looks strange. Also there are spaces before and after Consumption(therms) and GJ which will make it more annoying to use. Let's rename them with camelCase"
   ]
  },
  {
   "cell_type": "code",
   "execution_count": 6,
   "metadata": {},
   "outputs": [],
   "source": [
    "nyc_gas = nyc_gas.rename(columns = {'Zip Code':\"zip\", 'Building type (service class':'buildingType', ' Consumption (therms) ': 'consumptionTherms', ' Consumption (GJ) ': 'consumptionGJ', 'Utility/Data Source': 'source'})"
   ]
  },
  {
   "cell_type": "code",
   "execution_count": 7,
   "metadata": {},
   "outputs": [
    {
     "data": {
      "text/html": [
       "<div>\n",
       "<style scoped>\n",
       "    .dataframe tbody tr th:only-of-type {\n",
       "        vertical-align: middle;\n",
       "    }\n",
       "\n",
       "    .dataframe tbody tr th {\n",
       "        vertical-align: top;\n",
       "    }\n",
       "\n",
       "    .dataframe thead th {\n",
       "        text-align: right;\n",
       "    }\n",
       "</style>\n",
       "<table border=\"1\" class=\"dataframe\">\n",
       "  <thead>\n",
       "    <tr style=\"text-align: right;\">\n",
       "      <th></th>\n",
       "      <th>zip</th>\n",
       "      <th>buildingType</th>\n",
       "      <th>consumptionTherms</th>\n",
       "      <th>consumptionGJ</th>\n",
       "      <th>source</th>\n",
       "    </tr>\n",
       "  </thead>\n",
       "  <tbody>\n",
       "    <tr>\n",
       "      <th>0</th>\n",
       "      <td>10300</td>\n",
       "      <td>Commercial</td>\n",
       "      <td>470.0</td>\n",
       "      <td>50.0</td>\n",
       "      <td>National Grid</td>\n",
       "    </tr>\n",
       "  </tbody>\n",
       "</table>\n",
       "</div>"
      ],
      "text/plain": [
       "     zip buildingType  consumptionTherms  consumptionGJ         source\n",
       "0  10300   Commercial              470.0           50.0  National Grid"
      ]
     },
     "execution_count": 7,
     "metadata": {},
     "output_type": "execute_result"
    }
   ],
   "source": [
    "nyc_gas.head(1)"
   ]
  },
  {
   "cell_type": "markdown",
   "metadata": {},
   "source": [
    "Let's see how many types of buildings there are"
   ]
  },
  {
   "cell_type": "code",
   "execution_count": 8,
   "metadata": {},
   "outputs": [
    {
     "data": {
      "text/plain": [
       "array(['Commercial', 'Large residential', 'Institutional',\n",
       "       'Small residential', 'Industrial', 'Large Residential',\n",
       "       'Residential'], dtype=object)"
      ]
     },
     "execution_count": 8,
     "metadata": {},
     "output_type": "execute_result"
    }
   ],
   "source": [
    "nyc_gas.buildingType.unique()"
   ]
  },
  {
   "cell_type": "code",
   "execution_count": 9,
   "metadata": {},
   "outputs": [
    {
     "data": {
      "text/plain": [
       "Commercial           354\n",
       "Residential          198\n",
       "Small residential    110\n",
       "Institutional         99\n",
       "Large residential     94\n",
       "Industrial            82\n",
       "Large Residential     78\n",
       "Name: buildingType, dtype: int64"
      ]
     },
     "execution_count": 9,
     "metadata": {},
     "output_type": "execute_result"
    }
   ],
   "source": [
    "nyc_gas.buildingType.value_counts()"
   ]
  },
  {
   "cell_type": "markdown",
   "metadata": {},
   "source": [
    "We see that there are 7 types of buildings.large Residential and Large residential seem to be the same just labeled inconsistantly. It is unclear whether all the residential should just be combined since there is a general residential category Let's just combine large and Large residential for now"
   ]
  },
  {
   "cell_type": "code",
   "execution_count": 10,
   "metadata": {},
   "outputs": [
    {
     "data": {
      "text/plain": [
       "Commercial           354\n",
       "Residential          198\n",
       "Large Residential    172\n",
       "Small residential    110\n",
       "Institutional         99\n",
       "Industrial            82\n",
       "Name: buildingType, dtype: int64"
      ]
     },
     "execution_count": 10,
     "metadata": {},
     "output_type": "execute_result"
    }
   ],
   "source": [
    "#x == 'large Residential' ? 'Large Residential': x\n",
    "renameResidential = lambda x:  x if x != 'Large residential' else 'Large Residential'\n",
    "nyc_gas.buildingType = nyc_gas.buildingType.apply(renameResidential)\n",
    "nyc_gas.buildingType.value_counts()"
   ]
  },
  {
   "cell_type": "markdown",
   "metadata": {},
   "source": [
    "Now let's see the median gas consumption of all of these. "
   ]
  },
  {
   "cell_type": "code",
   "execution_count": 11,
   "metadata": {},
   "outputs": [],
   "source": [
    "overallMedian = nyc_gas.consumptionGJ.median()"
   ]
  },
  {
   "cell_type": "code",
   "execution_count": 12,
   "metadata": {},
   "outputs": [],
   "source": [
    "medians = nyc_gas.groupby('buildingType').consumptionGJ.median()"
   ]
  },
  {
   "cell_type": "code",
   "execution_count": 13,
   "metadata": {},
   "outputs": [
    {
     "data": {
      "text/plain": [
       "buildingType\n",
       "Commercial           189413.0\n",
       "Large Residential    160960.0\n",
       "Small residential    599600.0\n",
       "Name: consumptionGJ, dtype: float64"
      ]
     },
     "execution_count": 13,
     "metadata": {},
     "output_type": "execute_result"
    }
   ],
   "source": [
    "medians[medians > overallMedian]"
   ]
  },
  {
   "cell_type": "code",
   "execution_count": 14,
   "metadata": {},
   "outputs": [
    {
     "data": {
      "text/plain": [
       "buildingType\n",
       "Industrial       16867.5\n",
       "Institutional    66027.0\n",
       "Residential      53288.5\n",
       "Name: consumptionGJ, dtype: float64"
      ]
     },
     "execution_count": 14,
     "metadata": {},
     "output_type": "execute_result"
    }
   ],
   "source": [
    "medians[medians < overallMedian]"
   ]
  },
  {
   "cell_type": "markdown",
   "metadata": {},
   "source": [
    "We see that Comercial, small and large residential have a median higher than the overall median and the others are less"
   ]
  },
  {
   "cell_type": "code",
   "execution_count": 15,
   "metadata": {},
   "outputs": [
    {
     "data": {
      "text/plain": [
       "buildingType\n",
       "Industrial            16867.5\n",
       "Residential           53288.5\n",
       "Institutional         66027.0\n",
       "Large Residential    160960.0\n",
       "Commercial           189413.0\n",
       "Small residential    599600.0\n",
       "Name: consumptionGJ, dtype: float64"
      ]
     },
     "execution_count": 15,
     "metadata": {},
     "output_type": "execute_result"
    }
   ],
   "source": [
    "medians.sort_values()"
   ]
  },
  {
   "cell_type": "markdown",
   "metadata": {},
   "source": [
    "Industrial has the lowest energy consumption and small residential has the highest. I find this surprising since I would expect that industrial would have the highest. I also find it strange that small residential has the highest even though residential has second to lowest. Something might be wrong with how I am interperting these values. "
   ]
  },
  {
   "cell_type": "markdown",
   "metadata": {},
   "source": [
    "Let's look at the data reporters"
   ]
  },
  {
   "cell_type": "code",
   "execution_count": 16,
   "metadata": {},
   "outputs": [
    {
     "name": "stdout",
     "output_type": "stream",
     "text": [
      "There are 2 unique data reporters\n"
     ]
    }
   ],
   "source": [
    "print(\"There are \"+ str(len(nyc_gas.source.unique())) + ' unique data reporters')"
   ]
  },
  {
   "cell_type": "code",
   "execution_count": 17,
   "metadata": {},
   "outputs": [
    {
     "data": {
      "text/plain": [
       "ConEd            518\n",
       "National Grid    497\n",
       "Name: source, dtype: int64"
      ]
     },
     "execution_count": 17,
     "metadata": {},
     "output_type": "execute_result"
    }
   ],
   "source": [
    "nyc_gas.source.value_counts()"
   ]
  },
  {
   "cell_type": "markdown",
   "metadata": {},
   "source": [
    "About half are conEd and half are national grid. Let's see the consumption by each"
   ]
  },
  {
   "cell_type": "code",
   "execution_count": 18,
   "metadata": {},
   "outputs": [
    {
     "data": {
      "text/plain": [
       "source\n",
       "ConEd            224575.750491\n",
       "National Grid    357475.560484\n",
       "Name: consumptionGJ, dtype: float64"
      ]
     },
     "execution_count": 18,
     "metadata": {},
     "output_type": "execute_result"
    }
   ],
   "source": [
    "nyc_gas.groupby('source').consumptionGJ.mean()"
   ]
  },
  {
   "cell_type": "code",
   "execution_count": 19,
   "metadata": {},
   "outputs": [
    {
     "data": {
      "text/plain": [
       "source\n",
       "ConEd            298958.048808\n",
       "National Grid    562355.273624\n",
       "Name: consumptionGJ, dtype: float64"
      ]
     },
     "execution_count": 19,
     "metadata": {},
     "output_type": "execute_result"
    }
   ],
   "source": [
    "nyc_gas.groupby('source').consumptionGJ.std()"
   ]
  },
  {
   "cell_type": "markdown",
   "metadata": {},
   "source": [
    "Overall National Grid seems to use more energy but the deviation is high and at sight the difference doesn't appear to be a significant."
   ]
  },
  {
   "cell_type": "markdown",
   "metadata": {},
   "source": [
    "#### Suggestions about the Data"
   ]
  },
  {
   "cell_type": "markdown",
   "metadata": {},
   "source": [
    "First note how zips are stored"
   ]
  },
  {
   "cell_type": "code",
   "execution_count": 20,
   "metadata": {},
   "outputs": [
    {
     "data": {
      "text/html": [
       "<div>\n",
       "<style scoped>\n",
       "    .dataframe tbody tr th:only-of-type {\n",
       "        vertical-align: middle;\n",
       "    }\n",
       "\n",
       "    .dataframe tbody tr th {\n",
       "        vertical-align: top;\n",
       "    }\n",
       "\n",
       "    .dataframe thead th {\n",
       "        text-align: right;\n",
       "    }\n",
       "</style>\n",
       "<table border=\"1\" class=\"dataframe\">\n",
       "  <thead>\n",
       "    <tr style=\"text-align: right;\">\n",
       "      <th></th>\n",
       "      <th>zip</th>\n",
       "      <th>buildingType</th>\n",
       "      <th>consumptionTherms</th>\n",
       "      <th>consumptionGJ</th>\n",
       "      <th>source</th>\n",
       "    </tr>\n",
       "  </thead>\n",
       "  <tbody>\n",
       "    <tr>\n",
       "      <th>414</th>\n",
       "      <td>10001(40.750259021437, -73.99688630376)</td>\n",
       "      <td>Residential</td>\n",
       "      <td>58338.0</td>\n",
       "      <td>6155.0</td>\n",
       "      <td>ConEd</td>\n",
       "    </tr>\n",
       "    <tr>\n",
       "      <th>296</th>\n",
       "      <td>10001(40.750259021437, -73.99688630376)</td>\n",
       "      <td>Commercial</td>\n",
       "      <td>4628579.0</td>\n",
       "      <td>488341.0</td>\n",
       "      <td>ConEd</td>\n",
       "    </tr>\n",
       "    <tr>\n",
       "      <th>520</th>\n",
       "      <td>10001(40.750259021437, -73.99688630376)</td>\n",
       "      <td>Large Residential</td>\n",
       "      <td>3616905.0</td>\n",
       "      <td>381604.0</td>\n",
       "      <td>ConEd</td>\n",
       "    </tr>\n",
       "    <tr>\n",
       "      <th>391</th>\n",
       "      <td>10001(40.750259021437, -73.99688630376)</td>\n",
       "      <td>Residential</td>\n",
       "      <td>1476126.0</td>\n",
       "      <td>155740.0</td>\n",
       "      <td>ConEd</td>\n",
       "    </tr>\n",
       "    <tr>\n",
       "      <th>241</th>\n",
       "      <td>10001(40.750259021437, -73.99688630376)</td>\n",
       "      <td>Commercial</td>\n",
       "      <td>7191956.0</td>\n",
       "      <td>758792.0</td>\n",
       "      <td>ConEd</td>\n",
       "    </tr>\n",
       "    <tr>\n",
       "      <th>545</th>\n",
       "      <td>10002(40.716121467931, -73.985831470246)</td>\n",
       "      <td>Residential</td>\n",
       "      <td>550055.0</td>\n",
       "      <td>58034.0</td>\n",
       "      <td>ConEd</td>\n",
       "    </tr>\n",
       "    <tr>\n",
       "      <th>99</th>\n",
       "      <td>10002(40.716121467931, -73.985831470246)</td>\n",
       "      <td>Residential</td>\n",
       "      <td>4509087.0</td>\n",
       "      <td>475734.0</td>\n",
       "      <td>ConEd</td>\n",
       "    </tr>\n",
       "    <tr>\n",
       "      <th>86</th>\n",
       "      <td>10002(40.716121467931, -73.985831470246)</td>\n",
       "      <td>Commercial</td>\n",
       "      <td>4230121.0</td>\n",
       "      <td>446301.0</td>\n",
       "      <td>ConEd</td>\n",
       "    </tr>\n",
       "    <tr>\n",
       "      <th>317</th>\n",
       "      <td>10002(40.716121467931, -73.985831470246)</td>\n",
       "      <td>Commercial</td>\n",
       "      <td>12107072.0</td>\n",
       "      <td>1277364.0</td>\n",
       "      <td>ConEd</td>\n",
       "    </tr>\n",
       "    <tr>\n",
       "      <th>701</th>\n",
       "      <td>10002(40.716121467931, -73.985831470246)</td>\n",
       "      <td>Large Residential</td>\n",
       "      <td>115301.0</td>\n",
       "      <td>12165.0</td>\n",
       "      <td>ConEd</td>\n",
       "    </tr>\n",
       "    <tr>\n",
       "      <th>900</th>\n",
       "      <td>10003(40.731943947555, -73.98887214913)</td>\n",
       "      <td>Commercial</td>\n",
       "      <td>8855716.0</td>\n",
       "      <td>934328.0</td>\n",
       "      <td>ConEd</td>\n",
       "    </tr>\n",
       "    <tr>\n",
       "      <th>59</th>\n",
       "      <td>10003(40.731943947555, -73.98887214913)</td>\n",
       "      <td>Residential</td>\n",
       "      <td>3229606.0</td>\n",
       "      <td>340742.0</td>\n",
       "      <td>ConEd</td>\n",
       "    </tr>\n",
       "    <tr>\n",
       "      <th>165</th>\n",
       "      <td>10003(40.731943947555, -73.98887214913)</td>\n",
       "      <td>Commercial</td>\n",
       "      <td>5073198.0</td>\n",
       "      <td>535251.0</td>\n",
       "      <td>ConEd</td>\n",
       "    </tr>\n",
       "    <tr>\n",
       "      <th>438</th>\n",
       "      <td>10003(40.731943947555, -73.98887214913)</td>\n",
       "      <td>Residential</td>\n",
       "      <td>260502.0</td>\n",
       "      <td>27484.0</td>\n",
       "      <td>ConEd</td>\n",
       "    </tr>\n",
       "    <tr>\n",
       "      <th>742</th>\n",
       "      <td>10003(40.731943947555, -73.98887214913)</td>\n",
       "      <td>Large Residential</td>\n",
       "      <td>495206.0</td>\n",
       "      <td>52247.0</td>\n",
       "      <td>ConEd</td>\n",
       "    </tr>\n",
       "    <tr>\n",
       "      <th>376</th>\n",
       "      <td>10004(40.688827825344, -74.019112505837)</td>\n",
       "      <td>Commercial</td>\n",
       "      <td>1726800.0</td>\n",
       "      <td>182187.0</td>\n",
       "      <td>ConEd</td>\n",
       "    </tr>\n",
       "    <tr>\n",
       "      <th>787</th>\n",
       "      <td>10004(40.688827825344, -74.019112505837)</td>\n",
       "      <td>Large Residential</td>\n",
       "      <td>5877.0</td>\n",
       "      <td>620.0</td>\n",
       "      <td>ConEd</td>\n",
       "    </tr>\n",
       "    <tr>\n",
       "      <th>832</th>\n",
       "      <td>10004(40.688827825344, -74.019112505837)</td>\n",
       "      <td>Residential</td>\n",
       "      <td>54549.0</td>\n",
       "      <td>5755.0</td>\n",
       "      <td>ConEd</td>\n",
       "    </tr>\n",
       "    <tr>\n",
       "      <th>566</th>\n",
       "      <td>10004(40.688827825344, -74.019112505837)</td>\n",
       "      <td>Commercial</td>\n",
       "      <td>1326154.0</td>\n",
       "      <td>139917.0</td>\n",
       "      <td>ConEd</td>\n",
       "    </tr>\n",
       "    <tr>\n",
       "      <th>935</th>\n",
       "      <td>10005(40.706125792072, -74.008584685835)</td>\n",
       "      <td>Commercial</td>\n",
       "      <td>382037.0</td>\n",
       "      <td>40307.0</td>\n",
       "      <td>ConEd</td>\n",
       "    </tr>\n",
       "    <tr>\n",
       "      <th>845</th>\n",
       "      <td>10005(40.706125792072, -74.008584685835)</td>\n",
       "      <td>Commercial</td>\n",
       "      <td>1419854.0</td>\n",
       "      <td>149803.0</td>\n",
       "      <td>ConEd</td>\n",
       "    </tr>\n",
       "    <tr>\n",
       "      <th>947</th>\n",
       "      <td>10005(40.706125792072, -74.008584685835)</td>\n",
       "      <td>Residential</td>\n",
       "      <td>265.0</td>\n",
       "      <td>28.0</td>\n",
       "      <td>ConEd</td>\n",
       "    </tr>\n",
       "    <tr>\n",
       "      <th>551</th>\n",
       "      <td>10005(40.706125792072, -74.008584685835)</td>\n",
       "      <td>Residential</td>\n",
       "      <td>27868.0</td>\n",
       "      <td>2940.0</td>\n",
       "      <td>ConEd</td>\n",
       "    </tr>\n",
       "    <tr>\n",
       "      <th>654</th>\n",
       "      <td>10006(40.708256140309, -74.013553569641)</td>\n",
       "      <td>Residential</td>\n",
       "      <td>2076.0</td>\n",
       "      <td>219.0</td>\n",
       "      <td>ConEd</td>\n",
       "    </tr>\n",
       "    <tr>\n",
       "      <th>102</th>\n",
       "      <td>10006(40.708256140309, -74.013553569641)</td>\n",
       "      <td>Commercial</td>\n",
       "      <td>235511.0</td>\n",
       "      <td>24848.0</td>\n",
       "      <td>ConEd</td>\n",
       "    </tr>\n",
       "    <tr>\n",
       "      <th>98</th>\n",
       "      <td>10006(40.708256140309, -74.013553569641)</td>\n",
       "      <td>Residential</td>\n",
       "      <td>15601.0</td>\n",
       "      <td>1646.0</td>\n",
       "      <td>ConEd</td>\n",
       "    </tr>\n",
       "    <tr>\n",
       "      <th>470</th>\n",
       "      <td>10006(40.708256140309, -74.013553569641)</td>\n",
       "      <td>Commercial</td>\n",
       "      <td>1361410.0</td>\n",
       "      <td>143636.0</td>\n",
       "      <td>ConEd</td>\n",
       "    </tr>\n",
       "    <tr>\n",
       "      <th>455</th>\n",
       "      <td>10007(40.713630519433, -74.009131383706)</td>\n",
       "      <td>Residential</td>\n",
       "      <td>605082.0</td>\n",
       "      <td>63840.0</td>\n",
       "      <td>ConEd</td>\n",
       "    </tr>\n",
       "    <tr>\n",
       "      <th>142</th>\n",
       "      <td>10007(40.713630519433, -74.009131383706)</td>\n",
       "      <td>Large Residential</td>\n",
       "      <td>12021.0</td>\n",
       "      <td>1268.0</td>\n",
       "      <td>ConEd</td>\n",
       "    </tr>\n",
       "    <tr>\n",
       "      <th>469</th>\n",
       "      <td>10007(40.713630519433, -74.009131383706)</td>\n",
       "      <td>Residential</td>\n",
       "      <td>12845.0</td>\n",
       "      <td>1355.0</td>\n",
       "      <td>ConEd</td>\n",
       "    </tr>\n",
       "    <tr>\n",
       "      <th>...</th>\n",
       "      <td>...</td>\n",
       "      <td>...</td>\n",
       "      <td>...</td>\n",
       "      <td>...</td>\n",
       "      <td>...</td>\n",
       "    </tr>\n",
       "    <tr>\n",
       "      <th>36</th>\n",
       "      <td>11468</td>\n",
       "      <td>Institutional</td>\n",
       "      <td>49184.0</td>\n",
       "      <td>5189.0</td>\n",
       "      <td>National Grid</td>\n",
       "    </tr>\n",
       "    <tr>\n",
       "      <th>37</th>\n",
       "      <td>11468</td>\n",
       "      <td>Small residential</td>\n",
       "      <td>1601.0</td>\n",
       "      <td>169.0</td>\n",
       "      <td>National Grid</td>\n",
       "    </tr>\n",
       "    <tr>\n",
       "      <th>39</th>\n",
       "      <td>11469</td>\n",
       "      <td>Institutional</td>\n",
       "      <td>41819.0</td>\n",
       "      <td>4412.0</td>\n",
       "      <td>National Grid</td>\n",
       "    </tr>\n",
       "    <tr>\n",
       "      <th>38</th>\n",
       "      <td>11469</td>\n",
       "      <td>Commercial</td>\n",
       "      <td>151.0</td>\n",
       "      <td>16.0</td>\n",
       "      <td>National Grid</td>\n",
       "    </tr>\n",
       "    <tr>\n",
       "      <th>40</th>\n",
       "      <td>11472</td>\n",
       "      <td>Institutional</td>\n",
       "      <td>7869.0</td>\n",
       "      <td>830.0</td>\n",
       "      <td>National Grid</td>\n",
       "    </tr>\n",
       "    <tr>\n",
       "      <th>41</th>\n",
       "      <td>11473</td>\n",
       "      <td>Institutional</td>\n",
       "      <td>40595.0</td>\n",
       "      <td>4283.0</td>\n",
       "      <td>National Grid</td>\n",
       "    </tr>\n",
       "    <tr>\n",
       "      <th>42</th>\n",
       "      <td>11473</td>\n",
       "      <td>Small residential</td>\n",
       "      <td>7335.0</td>\n",
       "      <td>774.0</td>\n",
       "      <td>National Grid</td>\n",
       "    </tr>\n",
       "    <tr>\n",
       "      <th>43</th>\n",
       "      <td>11474</td>\n",
       "      <td>Large Residential</td>\n",
       "      <td>2223970.0</td>\n",
       "      <td>234641.0</td>\n",
       "      <td>National Grid</td>\n",
       "    </tr>\n",
       "    <tr>\n",
       "      <th>44</th>\n",
       "      <td>11475</td>\n",
       "      <td>Institutional</td>\n",
       "      <td>8503.0</td>\n",
       "      <td>897.0</td>\n",
       "      <td>National Grid</td>\n",
       "    </tr>\n",
       "    <tr>\n",
       "      <th>45</th>\n",
       "      <td>11477</td>\n",
       "      <td>Institutional</td>\n",
       "      <td>22660.0</td>\n",
       "      <td>2391.0</td>\n",
       "      <td>National Grid</td>\n",
       "    </tr>\n",
       "    <tr>\n",
       "      <th>46</th>\n",
       "      <td>11477</td>\n",
       "      <td>Large Residential</td>\n",
       "      <td>493904.0</td>\n",
       "      <td>52110.0</td>\n",
       "      <td>National Grid</td>\n",
       "    </tr>\n",
       "    <tr>\n",
       "      <th>47</th>\n",
       "      <td>11478</td>\n",
       "      <td>Institutional</td>\n",
       "      <td>19018.0</td>\n",
       "      <td>2007.0</td>\n",
       "      <td>National Grid</td>\n",
       "    </tr>\n",
       "    <tr>\n",
       "      <th>48</th>\n",
       "      <td>11479</td>\n",
       "      <td>Institutional</td>\n",
       "      <td>21169.0</td>\n",
       "      <td>2233.0</td>\n",
       "      <td>National Grid</td>\n",
       "    </tr>\n",
       "    <tr>\n",
       "      <th>49</th>\n",
       "      <td>11485</td>\n",
       "      <td>Institutional</td>\n",
       "      <td>10790.0</td>\n",
       "      <td>1138.0</td>\n",
       "      <td>National Grid</td>\n",
       "    </tr>\n",
       "    <tr>\n",
       "      <th>491</th>\n",
       "      <td>11691(40.600614338481, -73.762567774683)</td>\n",
       "      <td>Commercial</td>\n",
       "      <td>7506142.0</td>\n",
       "      <td>791940.0</td>\n",
       "      <td>National Grid</td>\n",
       "    </tr>\n",
       "    <tr>\n",
       "      <th>996</th>\n",
       "      <td>11691(40.600614338481, -73.762567774683)</td>\n",
       "      <td>Large Residential</td>\n",
       "      <td>7229588.0</td>\n",
       "      <td>762762.0</td>\n",
       "      <td>National Grid</td>\n",
       "    </tr>\n",
       "    <tr>\n",
       "      <th>765</th>\n",
       "      <td>11691(40.600614338481, -73.762567774683)</td>\n",
       "      <td>Small residential</td>\n",
       "      <td>7887704.0</td>\n",
       "      <td>832197.0</td>\n",
       "      <td>National Grid</td>\n",
       "    </tr>\n",
       "    <tr>\n",
       "      <th>636</th>\n",
       "      <td>11692(40.59313388562, -73.795402084638)</td>\n",
       "      <td>Commercial</td>\n",
       "      <td>777179.0</td>\n",
       "      <td>81997.0</td>\n",
       "      <td>National Grid</td>\n",
       "    </tr>\n",
       "    <tr>\n",
       "      <th>990</th>\n",
       "      <td>11692(40.59313388562, -73.795402084638)</td>\n",
       "      <td>Large Residential</td>\n",
       "      <td>983881.0</td>\n",
       "      <td>103805.0</td>\n",
       "      <td>National Grid</td>\n",
       "    </tr>\n",
       "    <tr>\n",
       "      <th>282</th>\n",
       "      <td>11692(40.59313388562, -73.795402084638)</td>\n",
       "      <td>Small residential</td>\n",
       "      <td>2194609.0</td>\n",
       "      <td>231544.0</td>\n",
       "      <td>National Grid</td>\n",
       "    </tr>\n",
       "    <tr>\n",
       "      <th>328</th>\n",
       "      <td>11693(40.618303604728, -73.824955315236)</td>\n",
       "      <td>Commercial</td>\n",
       "      <td>948937.0</td>\n",
       "      <td>100118.0</td>\n",
       "      <td>National Grid</td>\n",
       "    </tr>\n",
       "    <tr>\n",
       "      <th>203</th>\n",
       "      <td>11693(40.618303604728, -73.824955315236)</td>\n",
       "      <td>Large Residential</td>\n",
       "      <td>2505401.0</td>\n",
       "      <td>264334.0</td>\n",
       "      <td>National Grid</td>\n",
       "    </tr>\n",
       "    <tr>\n",
       "      <th>111</th>\n",
       "      <td>11693(40.618303604728, -73.824955315236)</td>\n",
       "      <td>Small residential</td>\n",
       "      <td>948328.0</td>\n",
       "      <td>100054.0</td>\n",
       "      <td>National Grid</td>\n",
       "    </tr>\n",
       "    <tr>\n",
       "      <th>65</th>\n",
       "      <td>11694(40.576578305644, -73.850777000558)</td>\n",
       "      <td>Commercial</td>\n",
       "      <td>2058660.0</td>\n",
       "      <td>217200.0</td>\n",
       "      <td>National Grid</td>\n",
       "    </tr>\n",
       "    <tr>\n",
       "      <th>277</th>\n",
       "      <td>11694(40.576578305644, -73.850777000558)</td>\n",
       "      <td>Small residential</td>\n",
       "      <td>4716368.0</td>\n",
       "      <td>497603.0</td>\n",
       "      <td>National Grid</td>\n",
       "    </tr>\n",
       "    <tr>\n",
       "      <th>850</th>\n",
       "      <td>11694(40.576578305644, -73.850777000558)</td>\n",
       "      <td>Large Residential</td>\n",
       "      <td>1573127.0</td>\n",
       "      <td>165974.0</td>\n",
       "      <td>National Grid</td>\n",
       "    </tr>\n",
       "    <tr>\n",
       "      <th>690</th>\n",
       "      <td>11695(40.597608000209, -73.820967000027)</td>\n",
       "      <td>Small residential</td>\n",
       "      <td>6691.0</td>\n",
       "      <td>706.0</td>\n",
       "      <td>National Grid</td>\n",
       "    </tr>\n",
       "    <tr>\n",
       "      <th>968</th>\n",
       "      <td>11695(40.597608000209, -73.820967000027)</td>\n",
       "      <td>Commercial</td>\n",
       "      <td>29091.0</td>\n",
       "      <td>3069.0</td>\n",
       "      <td>National Grid</td>\n",
       "    </tr>\n",
       "    <tr>\n",
       "      <th>50</th>\n",
       "      <td>11696</td>\n",
       "      <td>Small residential</td>\n",
       "      <td>5218.0</td>\n",
       "      <td>551.0</td>\n",
       "      <td>National Grid</td>\n",
       "    </tr>\n",
       "    <tr>\n",
       "      <th>151</th>\n",
       "      <td>11697(40.559624370968, -73.910062999708)</td>\n",
       "      <td>Commercial</td>\n",
       "      <td>95842.0</td>\n",
       "      <td>10112.0</td>\n",
       "      <td>National Grid</td>\n",
       "    </tr>\n",
       "  </tbody>\n",
       "</table>\n",
       "<p>1015 rows × 5 columns</p>\n",
       "</div>"
      ],
      "text/plain": [
       "                                          zip       buildingType  \\\n",
       "414   10001(40.750259021437, -73.99688630376)        Residential   \n",
       "296   10001(40.750259021437, -73.99688630376)         Commercial   \n",
       "520   10001(40.750259021437, -73.99688630376)  Large Residential   \n",
       "391   10001(40.750259021437, -73.99688630376)        Residential   \n",
       "241   10001(40.750259021437, -73.99688630376)         Commercial   \n",
       "545  10002(40.716121467931, -73.985831470246)        Residential   \n",
       "99   10002(40.716121467931, -73.985831470246)        Residential   \n",
       "86   10002(40.716121467931, -73.985831470246)         Commercial   \n",
       "317  10002(40.716121467931, -73.985831470246)         Commercial   \n",
       "701  10002(40.716121467931, -73.985831470246)  Large Residential   \n",
       "900   10003(40.731943947555, -73.98887214913)         Commercial   \n",
       "59    10003(40.731943947555, -73.98887214913)        Residential   \n",
       "165   10003(40.731943947555, -73.98887214913)         Commercial   \n",
       "438   10003(40.731943947555, -73.98887214913)        Residential   \n",
       "742   10003(40.731943947555, -73.98887214913)  Large Residential   \n",
       "376  10004(40.688827825344, -74.019112505837)         Commercial   \n",
       "787  10004(40.688827825344, -74.019112505837)  Large Residential   \n",
       "832  10004(40.688827825344, -74.019112505837)        Residential   \n",
       "566  10004(40.688827825344, -74.019112505837)         Commercial   \n",
       "935  10005(40.706125792072, -74.008584685835)         Commercial   \n",
       "845  10005(40.706125792072, -74.008584685835)         Commercial   \n",
       "947  10005(40.706125792072, -74.008584685835)        Residential   \n",
       "551  10005(40.706125792072, -74.008584685835)        Residential   \n",
       "654  10006(40.708256140309, -74.013553569641)        Residential   \n",
       "102  10006(40.708256140309, -74.013553569641)         Commercial   \n",
       "98   10006(40.708256140309, -74.013553569641)        Residential   \n",
       "470  10006(40.708256140309, -74.013553569641)         Commercial   \n",
       "455  10007(40.713630519433, -74.009131383706)        Residential   \n",
       "142  10007(40.713630519433, -74.009131383706)  Large Residential   \n",
       "469  10007(40.713630519433, -74.009131383706)        Residential   \n",
       "..                                        ...                ...   \n",
       "36                                      11468      Institutional   \n",
       "37                                      11468  Small residential   \n",
       "39                                      11469      Institutional   \n",
       "38                                      11469         Commercial   \n",
       "40                                      11472      Institutional   \n",
       "41                                      11473      Institutional   \n",
       "42                                      11473  Small residential   \n",
       "43                                      11474  Large Residential   \n",
       "44                                      11475      Institutional   \n",
       "45                                      11477      Institutional   \n",
       "46                                      11477  Large Residential   \n",
       "47                                      11478      Institutional   \n",
       "48                                      11479      Institutional   \n",
       "49                                      11485      Institutional   \n",
       "491  11691(40.600614338481, -73.762567774683)         Commercial   \n",
       "996  11691(40.600614338481, -73.762567774683)  Large Residential   \n",
       "765  11691(40.600614338481, -73.762567774683)  Small residential   \n",
       "636   11692(40.59313388562, -73.795402084638)         Commercial   \n",
       "990   11692(40.59313388562, -73.795402084638)  Large Residential   \n",
       "282   11692(40.59313388562, -73.795402084638)  Small residential   \n",
       "328  11693(40.618303604728, -73.824955315236)         Commercial   \n",
       "203  11693(40.618303604728, -73.824955315236)  Large Residential   \n",
       "111  11693(40.618303604728, -73.824955315236)  Small residential   \n",
       "65   11694(40.576578305644, -73.850777000558)         Commercial   \n",
       "277  11694(40.576578305644, -73.850777000558)  Small residential   \n",
       "850  11694(40.576578305644, -73.850777000558)  Large Residential   \n",
       "690  11695(40.597608000209, -73.820967000027)  Small residential   \n",
       "968  11695(40.597608000209, -73.820967000027)         Commercial   \n",
       "50                                      11696  Small residential   \n",
       "151  11697(40.559624370968, -73.910062999708)         Commercial   \n",
       "\n",
       "     consumptionTherms  consumptionGJ         source  \n",
       "414            58338.0         6155.0          ConEd  \n",
       "296          4628579.0       488341.0          ConEd  \n",
       "520          3616905.0       381604.0          ConEd  \n",
       "391          1476126.0       155740.0          ConEd  \n",
       "241          7191956.0       758792.0          ConEd  \n",
       "545           550055.0        58034.0          ConEd  \n",
       "99           4509087.0       475734.0          ConEd  \n",
       "86           4230121.0       446301.0          ConEd  \n",
       "317         12107072.0      1277364.0          ConEd  \n",
       "701           115301.0        12165.0          ConEd  \n",
       "900          8855716.0       934328.0          ConEd  \n",
       "59           3229606.0       340742.0          ConEd  \n",
       "165          5073198.0       535251.0          ConEd  \n",
       "438           260502.0        27484.0          ConEd  \n",
       "742           495206.0        52247.0          ConEd  \n",
       "376          1726800.0       182187.0          ConEd  \n",
       "787             5877.0          620.0          ConEd  \n",
       "832            54549.0         5755.0          ConEd  \n",
       "566          1326154.0       139917.0          ConEd  \n",
       "935           382037.0        40307.0          ConEd  \n",
       "845          1419854.0       149803.0          ConEd  \n",
       "947              265.0           28.0          ConEd  \n",
       "551            27868.0         2940.0          ConEd  \n",
       "654             2076.0          219.0          ConEd  \n",
       "102           235511.0        24848.0          ConEd  \n",
       "98             15601.0         1646.0          ConEd  \n",
       "470          1361410.0       143636.0          ConEd  \n",
       "455           605082.0        63840.0          ConEd  \n",
       "142            12021.0         1268.0          ConEd  \n",
       "469            12845.0         1355.0          ConEd  \n",
       "..                 ...            ...            ...  \n",
       "36             49184.0         5189.0  National Grid  \n",
       "37              1601.0          169.0  National Grid  \n",
       "39             41819.0         4412.0  National Grid  \n",
       "38               151.0           16.0  National Grid  \n",
       "40              7869.0          830.0  National Grid  \n",
       "41             40595.0         4283.0  National Grid  \n",
       "42              7335.0          774.0  National Grid  \n",
       "43           2223970.0       234641.0  National Grid  \n",
       "44              8503.0          897.0  National Grid  \n",
       "45             22660.0         2391.0  National Grid  \n",
       "46            493904.0        52110.0  National Grid  \n",
       "47             19018.0         2007.0  National Grid  \n",
       "48             21169.0         2233.0  National Grid  \n",
       "49             10790.0         1138.0  National Grid  \n",
       "491          7506142.0       791940.0  National Grid  \n",
       "996          7229588.0       762762.0  National Grid  \n",
       "765          7887704.0       832197.0  National Grid  \n",
       "636           777179.0        81997.0  National Grid  \n",
       "990           983881.0       103805.0  National Grid  \n",
       "282          2194609.0       231544.0  National Grid  \n",
       "328           948937.0       100118.0  National Grid  \n",
       "203          2505401.0       264334.0  National Grid  \n",
       "111           948328.0       100054.0  National Grid  \n",
       "65           2058660.0       217200.0  National Grid  \n",
       "277          4716368.0       497603.0  National Grid  \n",
       "850          1573127.0       165974.0  National Grid  \n",
       "690             6691.0          706.0  National Grid  \n",
       "968            29091.0         3069.0  National Grid  \n",
       "50              5218.0          551.0  National Grid  \n",
       "151            95842.0        10112.0  National Grid  \n",
       "\n",
       "[1015 rows x 5 columns]"
      ]
     },
     "execution_count": 20,
     "metadata": {},
     "output_type": "execute_result"
    }
   ],
   "source": [
    "nyc_gas.sort_values('zip')"
   ]
  },
  {
   "cell_type": "markdown",
   "metadata": {},
   "source": [
    "1. Note how some zip codes are broken up further by longitude and latitude. This is fine since it gives more detailed data points but they probably should be stored as seperate columns. "
   ]
  },
  {
   "cell_type": "code",
   "execution_count": 21,
   "metadata": {},
   "outputs": [
    {
     "data": {
      "text/plain": [
       "231"
      ]
     },
     "execution_count": 21,
     "metadata": {},
     "output_type": "execute_result"
    }
   ],
   "source": [
    "len(nyc_gas.zip.unique())"
   ]
  },
  {
   "cell_type": "code",
   "execution_count": 22,
   "metadata": {},
   "outputs": [
    {
     "data": {
      "text/plain": [
       "zip                  1015\n",
       "buildingType         1015\n",
       "consumptionTherms    1005\n",
       "consumptionGJ        1005\n",
       "source               1015\n",
       "dtype: int64"
      ]
     },
     "execution_count": 22,
     "metadata": {},
     "output_type": "execute_result"
    }
   ],
   "source": [
    "nyc_gas.count()"
   ]
  },
  {
   "cell_type": "markdown",
   "metadata": {},
   "source": [
    "2. We see that there are 1015 rows but 10 of the rows contain nans for energy consumption. Those rows need to be fixed"
   ]
  },
  {
   "cell_type": "code",
   "execution_count": 23,
   "metadata": {},
   "outputs": [
    {
     "data": {
      "text/plain": [
       "793"
      ]
     },
     "execution_count": 23,
     "metadata": {},
     "output_type": "execute_result"
    }
   ],
   "source": [
    "len(nyc_gas[['zip', 'buildingType', 'source']].drop_duplicates())"
   ]
  },
  {
   "cell_type": "markdown",
   "metadata": {},
   "source": [
    "3. One would think that those 3 columns are unique but they aren't otherwise the drop duplicates function wouldn't drop any. This means that there may be different values given for the same zip code, building type and source, with some other variable not included. "
   ]
  },
  {
   "cell_type": "code",
   "execution_count": null,
   "metadata": {},
   "outputs": [],
   "source": []
  }
 ],
 "metadata": {
  "kernelspec": {
   "display_name": "Python 3",
   "language": "python",
   "name": "python3"
  },
  "language_info": {
   "codemirror_mode": {
    "name": "ipython",
    "version": 3
   },
   "file_extension": ".py",
   "mimetype": "text/x-python",
   "name": "python",
   "nbconvert_exporter": "python",
   "pygments_lexer": "ipython3",
   "version": "3.7.1"
  }
 },
 "nbformat": 4,
 "nbformat_minor": 2
}
