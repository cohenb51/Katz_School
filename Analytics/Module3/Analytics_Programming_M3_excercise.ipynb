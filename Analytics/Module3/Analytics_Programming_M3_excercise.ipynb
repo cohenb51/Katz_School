{
 "cells": [
  {
   "cell_type": "markdown",
   "metadata": {},
   "source": [
    "### Benny Cohen\n",
    "#### 9/9/2019\n",
    "#### Analytics Programming Module  Jupyter Notebook"
   ]
  },
  {
   "cell_type": "markdown",
   "metadata": {},
   "source": [
    "<hr>\n",
    "The goal of this notebook is to refresh on lists, loops and functions in python\n",
    "<hr>"
   ]
  },
  {
   "cell_type": "markdown",
   "metadata": {},
   "source": [
    "#### Create a list of all lower case alphabet and numbers 1 through 26"
   ]
  },
  {
   "cell_type": "code",
   "execution_count": 1,
   "metadata": {},
   "outputs": [],
   "source": [
    "import string\n",
    "lowerCaseLettersList = list(string.ascii_lowercase)\n",
    "numbersOneThroughTwentySix = list(range(1,27))"
   ]
  },
  {
   "cell_type": "markdown",
   "metadata": {},
   "source": [
    "#### Print all numbers divisible by 4 between 1 and 26"
   ]
  },
  {
   "cell_type": "code",
   "execution_count": 2,
   "metadata": {},
   "outputs": [
    {
     "name": "stdout",
     "output_type": "stream",
     "text": [
      "4 is a multiple of 4\n",
      "8 is a multiple of 4\n",
      "12 is a multiple of 4\n",
      "16 is a multiple of 4\n",
      "20 is a multiple of 4\n",
      "24 is a multiple of 4\n"
     ]
    }
   ],
   "source": [
    "for num in numbersOneThroughTwentySix:\n",
    "    if num % 4 == 0:\n",
    "        print(str(num) + \" is a multiple of 4\")"
   ]
  },
  {
   "cell_type": "markdown",
   "metadata": {},
   "source": [
    "#### Print both lists"
   ]
  },
  {
   "cell_type": "code",
   "execution_count": 3,
   "metadata": {},
   "outputs": [
    {
     "name": "stdout",
     "output_type": "stream",
     "text": [
      "The letter list is ['a', 'b', 'c', 'd', 'e', 'f', 'g', 'h', 'i', 'j', 'k', 'l', 'm', 'n', 'o', 'p', 'q', 'r', 's', 't', 'u', 'v', 'w', 'x', 'y', 'z'] and is of type <class 'list'>\n"
     ]
    }
   ],
   "source": [
    "print(\"The letter list is \" + str(lowerCaseLettersList) + \" and is of type \" + str(type(lowerCaseLettersList)))"
   ]
  },
  {
   "cell_type": "code",
   "execution_count": 4,
   "metadata": {},
   "outputs": [
    {
     "name": "stdout",
     "output_type": "stream",
     "text": [
      "The number list is [1, 2, 3, 4, 5, 6, 7, 8, 9, 10, 11, 12, 13, 14, 15, 16, 17, 18, 19, 20, 21, 22, 23, 24, 25, 26] and is of type <class 'list'>\n"
     ]
    }
   ],
   "source": [
    "print(\"The number list is \" + str(numbersOneThroughTwentySix) + \" and is of type \" + str(type(numbersOneThroughTwentySix)))"
   ]
  },
  {
   "cell_type": "markdown",
   "metadata": {},
   "source": [
    "#### Creating a list of (letter,number) tuples"
   ]
  },
  {
   "cell_type": "code",
   "execution_count": 5,
   "metadata": {},
   "outputs": [],
   "source": [
    "tupleList = list(zip(lowerCaseLettersList, numbersOneThroughTwentySix))"
   ]
  },
  {
   "cell_type": "markdown",
   "metadata": {},
   "source": [
    " #### Printing out the list, it's type, and the type of the first element"
   ]
  },
  {
   "cell_type": "code",
   "execution_count": 6,
   "metadata": {},
   "outputs": [
    {
     "name": "stdout",
     "output_type": "stream",
     "text": [
      "The tuple list is [('a', 1), ('b', 2), ('c', 3), ('d', 4), ('e', 5), ('f', 6), ('g', 7), ('h', 8), ('i', 9), ('j', 10), ('k', 11), ('l', 12), ('m', 13), ('n', 14), ('o', 15), ('p', 16), ('q', 17), ('r', 18), ('s', 19), ('t', 20), ('u', 21), ('v', 22), ('w', 23), ('x', 24), ('y', 25), ('z', 26)] and is of type <class 'list'>\n",
      "\r\n",
      "\n",
      "The type of the first element is <class 'tuple'>\n"
     ]
    }
   ],
   "source": [
    "print(\"The tuple list is \" + str(tupleList) + \" and is of type \" + str(type(lowerCaseLettersList)))\n",
    "\n",
    "print(\"\\r\\n\")\n",
    "print(\"The type of the first element is \" + str(type(tupleList[0])))"
   ]
  },
  {
   "cell_type": "markdown",
   "metadata": {},
   "source": [
    "#### Create a list of numbers divisible by 4"
   ]
  },
  {
   "cell_type": "code",
   "execution_count": 7,
   "metadata": {},
   "outputs": [
    {
     "data": {
      "text/plain": [
       "['d', 'h', 'l', 'p', 't', 'x']"
      ]
     },
     "execution_count": 7,
     "metadata": {},
     "output_type": "execute_result"
    }
   ],
   "source": [
    "[ letter for letter, number in tupleList if (number % 4 == 0) ]"
   ]
  },
  {
   "cell_type": "markdown",
   "metadata": {},
   "source": [
    "#### Let's display the unicode value for each lower case letter"
   ]
  },
  {
   "cell_type": "code",
   "execution_count": 8,
   "metadata": {},
   "outputs": [
    {
     "name": "stdout",
     "output_type": "stream",
     "text": [
      "The unicode value for 'a' is 97\n",
      "The unicode value for 'b' is 98\n",
      "The unicode value for 'c' is 99\n",
      "The unicode value for 'd' is 100\n",
      "The unicode value for 'e' is 101\n",
      "The unicode value for 'f' is 102\n",
      "The unicode value for 'g' is 103\n",
      "The unicode value for 'h' is 104\n",
      "The unicode value for 'i' is 105\n",
      "The unicode value for 'j' is 106\n",
      "The unicode value for 'k' is 107\n",
      "The unicode value for 'l' is 108\n",
      "The unicode value for 'm' is 109\n",
      "The unicode value for 'n' is 110\n",
      "The unicode value for 'o' is 111\n",
      "The unicode value for 'p' is 112\n",
      "The unicode value for 'q' is 113\n",
      "The unicode value for 'r' is 114\n",
      "The unicode value for 's' is 115\n",
      "The unicode value for 't' is 116\n",
      "The unicode value for 'u' is 117\n",
      "The unicode value for 'v' is 118\n",
      "The unicode value for 'w' is 119\n",
      "The unicode value for 'x' is 120\n",
      "The unicode value for 'y' is 121\n",
      "The unicode value for 'z' is 122\n"
     ]
    }
   ],
   "source": [
    "for i in range(len(lowerCaseLettersList)):\n",
    "    print(\"The unicode value for '\" + lowerCaseLettersList[i] + \"' is \" + str(ord(lowerCaseLettersList[i])))"
   ]
  },
  {
   "cell_type": "markdown",
   "metadata": {},
   "source": [
    "#### Let's create an algorithm that will combine the letter number and value into a unique number"
   ]
  },
  {
   "cell_type": "code",
   "execution_count": 9,
   "metadata": {},
   "outputs": [],
   "source": [
    "\"\"\"\n",
    "Given a lower case letter, returns a unique number\n",
    "\"\"\"\n",
    "def hashLetter(letter):\n",
    "    if letter not in string.ascii_lowercase:\n",
    "        raise TypeError(str(letter) + \" is not a lower case letter and can't be hashed\")\n",
    "    return ord(letter) + (lowerCaseLettersList.index(letter) + 1)"
   ]
  },
  {
   "cell_type": "code",
   "execution_count": 10,
   "metadata": {},
   "outputs": [],
   "source": [
    "\"\"\"\n",
    "Generic method to hash elements in a list\n",
    "\"\"\"\n",
    "def hashAll(_inputList, hashFunction):\n",
    "    ret = []\n",
    "    for i in range(len(_inputList)):\n",
    "        ret.append(hashFunction(_inputList[i]))\n",
    "    return ret\n",
    "\n",
    "\"\"\"Hashes a char list\"\"\"\n",
    "def hashCharList(string, hashFunction = hashLetter):\n",
    "    return hashAll(string, hashFunction)\n",
    "        "
   ]
  },
  {
   "cell_type": "code",
   "execution_count": 11,
   "metadata": {},
   "outputs": [],
   "source": [
    "letterHashes = hashCharList(lowerCaseLettersList)"
   ]
  },
  {
   "cell_type": "code",
   "execution_count": 12,
   "metadata": {},
   "outputs": [
    {
     "name": "stdout",
     "output_type": "stream",
     "text": [
      "[98, 100, 102, 104, 106, 108, 110, 112, 114, 116, 118, 120, 122, 124, 126, 128, 130, 132, 134, 136, 138, 140, 142, 144, 146, 148]\n"
     ]
    }
   ],
   "source": [
    "print(letterHashes)"
   ]
  },
  {
   "cell_type": "markdown",
   "metadata": {},
   "source": [
    "#### We can prove these values are unique by turning this into a set"
   ]
  },
  {
   "cell_type": "code",
   "execution_count": 13,
   "metadata": {},
   "outputs": [
    {
     "name": "stdout",
     "output_type": "stream",
     "text": [
      "The length of the set of hashes is 26\n"
     ]
    }
   ],
   "source": [
    "print(\"The length of the set of hashes is \" + str(len(set(letterHashes))))"
   ]
  },
  {
   "cell_type": "markdown",
   "metadata": {},
   "source": [
    "Recall that values in a set are unique. We see that there are 26 unique values, that is, the same number as the alphabet"
   ]
  },
  {
   "cell_type": "markdown",
   "metadata": {},
   "source": [
    "#### Let's create a map of letters to hashes"
   ]
  },
  {
   "cell_type": "code",
   "execution_count": 14,
   "metadata": {},
   "outputs": [],
   "source": [
    "letterHashDict = dict(zip(lowerCaseLettersList, letterHashes))"
   ]
  },
  {
   "cell_type": "code",
   "execution_count": 15,
   "metadata": {},
   "outputs": [
    {
     "data": {
      "text/plain": [
       "{'a': 98,\n",
       " 'b': 100,\n",
       " 'c': 102,\n",
       " 'd': 104,\n",
       " 'e': 106,\n",
       " 'f': 108,\n",
       " 'g': 110,\n",
       " 'h': 112,\n",
       " 'i': 114,\n",
       " 'j': 116,\n",
       " 'k': 118,\n",
       " 'l': 120,\n",
       " 'm': 122,\n",
       " 'n': 124,\n",
       " 'o': 126,\n",
       " 'p': 128,\n",
       " 'q': 130,\n",
       " 'r': 132,\n",
       " 's': 134,\n",
       " 't': 136,\n",
       " 'u': 138,\n",
       " 'v': 140,\n",
       " 'w': 142,\n",
       " 'x': 144,\n",
       " 'y': 146,\n",
       " 'z': 148}"
      ]
     },
     "execution_count": 15,
     "metadata": {},
     "output_type": "execute_result"
    }
   ],
   "source": [
    "letterHashDict"
   ]
  },
  {
   "cell_type": "markdown",
   "metadata": {},
   "source": [
    "#### Let's see how we can get a list of these values for each char in a string.\n"
   ]
  },
  {
   "cell_type": "markdown",
   "metadata": {},
   "source": [
    "We don't need need the dictionary because we already have a function that can hash a list of chars for us. \n",
    "We just need to turn it into a list"
   ]
  },
  {
   "cell_type": "code",
   "execution_count": 16,
   "metadata": {},
   "outputs": [],
   "source": [
    "def hashLowerString(string):\n",
    "    try:\n",
    "        return hashCharList(list(string))\n",
    "    except TypeError as e:\n",
    "        print(e)"
   ]
  },
  {
   "cell_type": "markdown",
   "metadata": {},
   "source": [
    "#### Let's Test the method "
   ]
  },
  {
   "cell_type": "markdown",
   "metadata": {},
   "source": [
    "This is a standard case. We can use the dictionary above to manually verify that these numbers do correspond to the correct numbuer"
   ]
  },
  {
   "cell_type": "code",
   "execution_count": 17,
   "metadata": {},
   "outputs": [
    {
     "name": "stdout",
     "output_type": "stream",
     "text": [
      "[112, 106, 120, 120, 126]\n"
     ]
    }
   ],
   "source": [
    "print(hashLowerString(\"hello\"))"
   ]
  },
  {
   "cell_type": "markdown",
   "metadata": {},
   "source": [
    "This tests bad input. We expect this to fail since there is a space"
   ]
  },
  {
   "cell_type": "code",
   "execution_count": 18,
   "metadata": {},
   "outputs": [
    {
     "name": "stdout",
     "output_type": "stream",
     "text": [
      "  is not a lower case letter and can't be hashed\n"
     ]
    }
   ],
   "source": [
    "hashLowerString(\"hello there\")"
   ]
  },
  {
   "cell_type": "code",
   "execution_count": null,
   "metadata": {},
   "outputs": [],
   "source": []
  },
  {
   "cell_type": "code",
   "execution_count": null,
   "metadata": {},
   "outputs": [],
   "source": []
  },
  {
   "cell_type": "code",
   "execution_count": null,
   "metadata": {},
   "outputs": [],
   "source": []
  },
  {
   "cell_type": "code",
   "execution_count": null,
   "metadata": {},
   "outputs": [],
   "source": []
  },
  {
   "cell_type": "code",
   "execution_count": null,
   "metadata": {},
   "outputs": [],
   "source": []
  },
  {
   "cell_type": "code",
   "execution_count": null,
   "metadata": {},
   "outputs": [],
   "source": []
  }
 ],
 "metadata": {
  "kernelspec": {
   "display_name": "Python 3",
   "language": "python",
   "name": "python3"
  },
  "language_info": {
   "codemirror_mode": {
    "name": "ipython",
    "version": 3
   },
   "file_extension": ".py",
   "mimetype": "text/x-python",
   "name": "python",
   "nbconvert_exporter": "python",
   "pygments_lexer": "ipython3",
   "version": "3.7.1"
  }
 },
 "nbformat": 4,
 "nbformat_minor": 2
}
